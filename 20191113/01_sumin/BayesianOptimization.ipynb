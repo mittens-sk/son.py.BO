{
 "cells": [
  {
   "cell_type": "code",
   "execution_count": 7,
   "metadata": {},
   "outputs": [],
   "source": [
    "import sys\n",
    "import pandas as pd\n",
    "import os"
   ]
  },
  {
   "cell_type": "code",
   "execution_count": 8,
   "metadata": {},
   "outputs": [],
   "source": [
    "from bayes_opt import BayesianOptimization\n",
    "from bayes_opt.util import Colours"
   ]
  },
  {
   "cell_type": "code",
   "execution_count": 9,
   "metadata": {},
   "outputs": [],
   "source": [
    "from sklearn.datasets import make_classification\n",
    "from sklearn.model_selection import cross_val_score\n",
    "from sklearn.svm import SVC"
   ]
  },
  {
   "cell_type": "code",
   "execution_count": 10,
   "metadata": {},
   "outputs": [
    {
     "data": {
      "text/plain": [
       "'/home/tangosvc/code/01_sumin'"
      ]
     },
     "execution_count": 10,
     "metadata": {},
     "output_type": "execute_result"
    }
   ],
   "source": [
    "os.chdir('/home/tangosvc/code/01_sumin')\n",
    "os.getcwd()"
   ]
  },
  {
   "cell_type": "code",
   "execution_count": 15,
   "metadata": {},
   "outputs": [],
   "source": [
    "from request_result import *"
   ]
  },
  {
   "cell_type": "code",
   "execution_count": 10,
   "metadata": {},
   "outputs": [],
   "source": [
    "def get_data():\n",
    "    data, targets=make_classification(\n",
    "        n_samples=1000,\n",
    "        n_features=45,\n",
    "        n_informative=12,\n",
    "        n_redundant=7,\n",
    "        random_state=134985745,\n",
    "    )\n",
    "    return data, targets"
   ]
  },
  {
   "cell_type": "code",
   "execution_count": 11,
   "metadata": {},
   "outputs": [],
   "source": [
    "def black_box_function(expC, expGamma):\n",
    "    C=10**expC\n",
    "    gamma=10**expGamma\n",
    "    return svc_cv(C=C, gamma=gamma, data=data, targets=targets)"
   ]
  },
  {
   "cell_type": "code",
   "execution_count": 12,
   "metadata": {},
   "outputs": [],
   "source": [
    "def optimize_svc(pbounds):\n",
    "    optimizer=BayesianOptimization(\n",
    "    f=black_box_function,\n",
    "    pbounds=pbounds,\n",
    "    random_state=1234,\n",
    "    verbose=2\n",
    "    )\n",
    "    optimizer.maximize(init_points=5, n_iter=55)\n",
    "    print(\"Final result : \", optimizer.max)"
   ]
  },
  {
   "cell_type": "code",
   "execution_count": 13,
   "metadata": {},
   "outputs": [],
   "source": [
    "def svc_cv(C, gamma, data, targets):\n",
    "    estimator=SVC(C=C, gamma=gamma, random_state=2)\n",
    "    cval=cross_val_score(estimator, data, targets, scoring='roc_auc', cv=4)\n",
    "    return cval.mean()"
   ]
  },
  {
   "cell_type": "code",
   "execution_count": 14,
   "metadata": {},
   "outputs": [],
   "source": [
    "# 탐색범위 설정\n",
    "def set_explore_range():\n",
    "    pbounds={\"expC\":(-3,2),\n",
    "            \"expGamma\":(-4,-1)}\n",
    "    return(pbounds)"
   ]
  },
  {
   "cell_type": "code",
   "execution_count": 15,
   "metadata": {},
   "outputs": [
    {
     "name": "stdout",
     "output_type": "stream",
     "text": [
      "\u001b[93m---Parameter Exploration Range(min, max) ---\u001b[0m\n",
      "\u001b[93m---Optimizing SVC by BO ---\u001b[0m\n",
      "|   iter    |  target   |   expC    | expGamma  |\n",
      "-------------------------------------------------\n",
      "| \u001b[0m 1       \u001b[0m | \u001b[0m 0.882   \u001b[0m | \u001b[0m-2.042   \u001b[0m | \u001b[0m-2.134   \u001b[0m |\n",
      "| \u001b[95m 2       \u001b[0m | \u001b[95m 0.9146  \u001b[0m | \u001b[95m-0.8114  \u001b[0m | \u001b[95m-1.644   \u001b[0m |\n",
      "| \u001b[95m 3       \u001b[0m | \u001b[95m 0.9402  \u001b[0m | \u001b[95m 0.8999  \u001b[0m | \u001b[95m-3.182   \u001b[0m |\n",
      "| \u001b[0m 4       \u001b[0m | \u001b[0m 0.9178  \u001b[0m | \u001b[0m-1.618   \u001b[0m | \u001b[0m-1.594   \u001b[0m |\n",
      "| \u001b[0m 5       \u001b[0m | \u001b[0m 0.9347  \u001b[0m | \u001b[0m 1.791   \u001b[0m | \u001b[0m-1.372   \u001b[0m |\n",
      "| \u001b[0m 6       \u001b[0m | \u001b[0m 0.9007  \u001b[0m | \u001b[0m 2.0     \u001b[0m | \u001b[0m-4.0     \u001b[0m |\n",
      "| \u001b[0m 7       \u001b[0m | \u001b[0m 0.9077  \u001b[0m | \u001b[0m-3.0     \u001b[0m | \u001b[0m-1.0     \u001b[0m |\n",
      "| \u001b[0m 8       \u001b[0m | \u001b[0m 0.835   \u001b[0m | \u001b[0m-0.4242  \u001b[0m | \u001b[0m-4.0     \u001b[0m |\n",
      "| \u001b[95m 9       \u001b[0m | \u001b[95m 0.9716  \u001b[0m | \u001b[95m 2.0     \u001b[0m | \u001b[95m-2.538   \u001b[0m |\n",
      "| \u001b[95m 10      \u001b[0m | \u001b[95m 0.9729  \u001b[0m | \u001b[95m 1.469   \u001b[0m | \u001b[95m-2.332   \u001b[0m |\n",
      "| \u001b[0m 11      \u001b[0m | \u001b[0m 0.9713  \u001b[0m | \u001b[0m 1.669   \u001b[0m | \u001b[0m-2.673   \u001b[0m |\n",
      "| \u001b[0m 12      \u001b[0m | \u001b[0m 0.9729  \u001b[0m | \u001b[0m 1.788   \u001b[0m | \u001b[0m-2.304   \u001b[0m |\n",
      "| \u001b[0m 13      \u001b[0m | \u001b[0m 0.9723  \u001b[0m | \u001b[0m 1.682   \u001b[0m | \u001b[0m-2.415   \u001b[0m |\n",
      "| \u001b[0m 14      \u001b[0m | \u001b[0m 0.9724  \u001b[0m | \u001b[0m 1.667   \u001b[0m | \u001b[0m-2.418   \u001b[0m |\n",
      "| \u001b[95m 15      \u001b[0m | \u001b[95m 0.9729  \u001b[0m | \u001b[95m 2.0     \u001b[0m | \u001b[95m-2.347   \u001b[0m |\n",
      "| \u001b[0m 16      \u001b[0m | \u001b[0m 0.9724  \u001b[0m | \u001b[0m 1.757   \u001b[0m | \u001b[0m-2.407   \u001b[0m |\n",
      "| \u001b[0m 17      \u001b[0m | \u001b[0m 0.9727  \u001b[0m | \u001b[0m 1.392   \u001b[0m | \u001b[0m-2.38    \u001b[0m |\n",
      "| \u001b[0m 18      \u001b[0m | \u001b[0m 0.9725  \u001b[0m | \u001b[0m 1.684   \u001b[0m | \u001b[0m-2.4     \u001b[0m |\n",
      "| \u001b[0m 19      \u001b[0m | \u001b[0m 0.9728  \u001b[0m | \u001b[0m 1.999   \u001b[0m | \u001b[0m-2.372   \u001b[0m |\n",
      "| \u001b[0m 20      \u001b[0m | \u001b[0m 0.9729  \u001b[0m | \u001b[0m 1.309   \u001b[0m | \u001b[0m-2.36    \u001b[0m |\n",
      "| \u001b[0m 21      \u001b[0m | \u001b[0m 0.9722  \u001b[0m | \u001b[0m 1.449   \u001b[0m | \u001b[0m-2.471   \u001b[0m |\n",
      "| \u001b[95m 22      \u001b[0m | \u001b[95m 0.9731  \u001b[0m | \u001b[95m 1.241   \u001b[0m | \u001b[95m-2.229   \u001b[0m |\n",
      "| \u001b[95m 23      \u001b[0m | \u001b[95m 0.9731  \u001b[0m | \u001b[95m 1.007   \u001b[0m | \u001b[95m-2.296   \u001b[0m |\n",
      "| \u001b[0m 24      \u001b[0m | \u001b[0m 0.9728  \u001b[0m | \u001b[0m 0.9992  \u001b[0m | \u001b[0m-2.047   \u001b[0m |\n",
      "| \u001b[95m 25      \u001b[0m | \u001b[95m 0.9736  \u001b[0m | \u001b[95m 0.8396  \u001b[0m | \u001b[95m-2.231   \u001b[0m |\n",
      "| \u001b[0m 26      \u001b[0m | \u001b[0m 0.9732  \u001b[0m | \u001b[0m 1.007   \u001b[0m | \u001b[0m-2.26    \u001b[0m |\n",
      "| \u001b[0m 27      \u001b[0m | \u001b[0m 0.9727  \u001b[0m | \u001b[0m 0.7938  \u001b[0m | \u001b[0m-2.084   \u001b[0m |\n",
      "| \u001b[0m 28      \u001b[0m | \u001b[0m 0.9732  \u001b[0m | \u001b[0m 1.066   \u001b[0m | \u001b[0m-2.155   \u001b[0m |\n",
      "| \u001b[0m 29      \u001b[0m | \u001b[0m 0.9736  \u001b[0m | \u001b[0m 0.8654  \u001b[0m | \u001b[0m-2.273   \u001b[0m |\n",
      "| \u001b[0m 30      \u001b[0m | \u001b[0m 0.9731  \u001b[0m | \u001b[0m 1.026   \u001b[0m | \u001b[0m-2.258   \u001b[0m |\n",
      "| \u001b[0m 31      \u001b[0m | \u001b[0m 0.9733  \u001b[0m | \u001b[0m 0.7655  \u001b[0m | \u001b[0m-2.239   \u001b[0m |\n",
      "| \u001b[0m 32      \u001b[0m | \u001b[0m 0.973   \u001b[0m | \u001b[0m 0.9969  \u001b[0m | \u001b[0m-2.23    \u001b[0m |\n",
      "| \u001b[0m 33      \u001b[0m | \u001b[0m 0.9732  \u001b[0m | \u001b[0m 0.8922  \u001b[0m | \u001b[0m-2.135   \u001b[0m |\n",
      "| \u001b[0m 34      \u001b[0m | \u001b[0m 0.9731  \u001b[0m | \u001b[0m 0.9778  \u001b[0m | \u001b[0m-2.268   \u001b[0m |\n",
      "| \u001b[0m 35      \u001b[0m | \u001b[0m 0.9712  \u001b[0m | \u001b[0m 2.0     \u001b[0m | \u001b[0m-2.626   \u001b[0m |\n",
      "| \u001b[0m 36      \u001b[0m | \u001b[0m 0.9735  \u001b[0m | \u001b[0m 0.7216  \u001b[0m | \u001b[0m-2.223   \u001b[0m |\n",
      "| \u001b[0m 37      \u001b[0m | \u001b[0m 0.9731  \u001b[0m | \u001b[0m 0.7819  \u001b[0m | \u001b[0m-2.106   \u001b[0m |\n",
      "| \u001b[0m 38      \u001b[0m | \u001b[0m 0.9733  \u001b[0m | \u001b[0m 0.7073  \u001b[0m | \u001b[0m-2.258   \u001b[0m |\n",
      "| \u001b[0m 39      \u001b[0m | \u001b[0m 0.9734  \u001b[0m | \u001b[0m 0.8889  \u001b[0m | \u001b[0m-2.249   \u001b[0m |\n",
      "| \u001b[0m 40      \u001b[0m | \u001b[0m 0.9734  \u001b[0m | \u001b[0m 0.9033  \u001b[0m | \u001b[0m-2.255   \u001b[0m |\n",
      "| \u001b[0m 41      \u001b[0m | \u001b[0m 0.9734  \u001b[0m | \u001b[0m 0.8767  \u001b[0m | \u001b[0m-2.17    \u001b[0m |\n",
      "| \u001b[0m 42      \u001b[0m | \u001b[0m 0.9732  \u001b[0m | \u001b[0m 0.9107  \u001b[0m | \u001b[0m-2.243   \u001b[0m |\n",
      "| \u001b[0m 43      \u001b[0m | \u001b[0m 0.9733  \u001b[0m | \u001b[0m 0.7556  \u001b[0m | \u001b[0m-2.128   \u001b[0m |\n",
      "| \u001b[0m 44      \u001b[0m | \u001b[0m 0.9733  \u001b[0m | \u001b[0m 0.6792  \u001b[0m | \u001b[0m-2.236   \u001b[0m |\n",
      "| \u001b[0m 45      \u001b[0m | \u001b[0m 0.9734  \u001b[0m | \u001b[0m 0.8727  \u001b[0m | \u001b[0m-2.245   \u001b[0m |\n",
      "| \u001b[0m 46      \u001b[0m | \u001b[0m 0.9735  \u001b[0m | \u001b[0m 0.8635  \u001b[0m | \u001b[0m-2.181   \u001b[0m |\n",
      "| \u001b[0m 47      \u001b[0m | \u001b[0m 0.9734  \u001b[0m | \u001b[0m 0.7354  \u001b[0m | \u001b[0m-2.13    \u001b[0m |\n",
      "| \u001b[0m 48      \u001b[0m | \u001b[0m 0.9735  \u001b[0m | \u001b[0m 0.8507  \u001b[0m | \u001b[0m-2.235   \u001b[0m |\n",
      "| \u001b[0m 49      \u001b[0m | \u001b[0m 0.9732  \u001b[0m | \u001b[0m 0.6497  \u001b[0m | \u001b[0m-2.237   \u001b[0m |\n",
      "| \u001b[0m 50      \u001b[0m | \u001b[0m 0.9734  \u001b[0m | \u001b[0m 0.774   \u001b[0m | \u001b[0m-2.133   \u001b[0m |\n",
      "| \u001b[0m 51      \u001b[0m | \u001b[0m 0.9736  \u001b[0m | \u001b[0m 0.8162  \u001b[0m | \u001b[0m-2.265   \u001b[0m |\n",
      "| \u001b[0m 52      \u001b[0m | \u001b[0m 0.9734  \u001b[0m | \u001b[0m 0.8632  \u001b[0m | \u001b[0m-2.195   \u001b[0m |\n",
      "| \u001b[95m 53      \u001b[0m | \u001b[95m 0.9736  \u001b[0m | \u001b[95m 0.8341  \u001b[0m | \u001b[95m-2.242   \u001b[0m |\n",
      "| \u001b[0m 54      \u001b[0m | \u001b[0m 0.9735  \u001b[0m | \u001b[0m 0.8644  \u001b[0m | \u001b[0m-2.204   \u001b[0m |\n",
      "| \u001b[0m 55      \u001b[0m | \u001b[0m 0.9734  \u001b[0m | \u001b[0m 0.7443  \u001b[0m | \u001b[0m-2.132   \u001b[0m |\n",
      "| \u001b[0m 56      \u001b[0m | \u001b[0m 0.9728  \u001b[0m | \u001b[0m 1.346   \u001b[0m | \u001b[0m-2.201   \u001b[0m |\n",
      "| \u001b[0m 57      \u001b[0m | \u001b[0m 0.9732  \u001b[0m | \u001b[0m 0.8973  \u001b[0m | \u001b[0m-2.177   \u001b[0m |\n",
      "| \u001b[0m 58      \u001b[0m | \u001b[0m 0.9733  \u001b[0m | \u001b[0m 0.6328  \u001b[0m | \u001b[0m-2.244   \u001b[0m |\n",
      "| \u001b[0m 59      \u001b[0m | \u001b[0m 0.9735  \u001b[0m | \u001b[0m 0.8168  \u001b[0m | \u001b[0m-2.269   \u001b[0m |\n",
      "| \u001b[95m 60      \u001b[0m | \u001b[95m 0.9737  \u001b[0m | \u001b[95m 0.6851  \u001b[0m | \u001b[95m-2.131   \u001b[0m |\n",
      "=================================================\n",
      "Final result :  {'target': 0.9737186031746031, 'params': {'expC': 0.6850600213730744, 'expGamma': -2.131166759504575}}\n"
     ]
    }
   ],
   "source": [
    "# Bayesian Optimization 수행\n",
    "if __name__==\"__main__\":\n",
    "    data, targets=get_data()\n",
    "    print(Colours.yellow(\"---Parameter Exploration Range(min, max) ---\"))\n",
    "    pbounds=set_explore_range()\n",
    "    print(Colours.yellow(\"---Optimizing SVC by BO ---\"))\n",
    "    optimize_svc(pbounds)"
   ]
  },
  {
   "cell_type": "code",
   "execution_count": null,
   "metadata": {},
   "outputs": [],
   "source": [
    "# BO Range 설정을 외부 파일로 읽어올 때 \n",
    "df1 = pd.read_csv('/...csv', seq = ',', index_col = 'varnm')\n",
    "df1 = df1.to_dict('split')\n",
    "pbounds = dict(zip(df1['index'], df1['data']))\n",
    "#ex : cell1 = -8~ 8"
   ]
  }
 ],
 "metadata": {
  "kernelspec": {
   "display_name": "Python 3",
   "language": "python",
   "name": "python3"
  },
  "language_info": {
   "codemirror_mode": {
    "name": "ipython",
    "version": 3
   },
   "file_extension": ".py",
   "mimetype": "text/x-python",
   "name": "python",
   "nbconvert_exporter": "python",
   "pygments_lexer": "ipython3",
   "version": "3.7.3"
  }
 },
 "nbformat": 4,
 "nbformat_minor": 2
}
