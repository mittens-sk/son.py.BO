{
 "cells": [
  {
   "cell_type": "code",
   "execution_count": 15,
   "metadata": {},
   "outputs": [],
   "source": [
    "import numpy as np\n",
    "import tensorflow as tf\n",
    "from tensorflow import keras \n",
    "from tensorflow.keras import layers"
   ]
  },
  {
   "cell_type": "code",
   "execution_count": 16,
   "metadata": {},
   "outputs": [],
   "source": [
    "x_train=np.random.random((1000,1))\n",
    "y_train=x_train*2+np.random.random((1000,1))/3.0"
   ]
  },
  {
   "cell_type": "code",
   "execution_count": 17,
   "metadata": {},
   "outputs": [],
   "source": [
    "x_test=np.random.random((100,1))\n",
    "y_test=x_test*2+np.random.random((100,1))/3.0"
   ]
  },
  {
   "cell_type": "code",
   "execution_count": 18,
   "metadata": {},
   "outputs": [],
   "source": [
    "model=tf.keras.Sequential([\n",
    "    layers.Dense(64, input_dim=1, activation='relu'),\n",
    "    layers.Dense(1)    \n",
    "])"
   ]
  },
  {
   "cell_type": "code",
   "execution_count": 19,
   "metadata": {},
   "outputs": [],
   "source": [
    "model.compile(optimize='rmsprop', loss='mse')"
   ]
  },
  {
   "cell_type": "code",
   "execution_count": 20,
   "metadata": {},
   "outputs": [
    {
     "name": "stdout",
     "output_type": "stream",
     "text": [
      "Train on 1000 samples\n",
      "Epoch 1/50\n",
      "1000/1000 [==============================] - 0s 497us/sample - loss: 0.8454\n",
      "Epoch 2/50\n",
      "1000/1000 [==============================] - 0s 89us/sample - loss: 0.0772\n",
      "Epoch 3/50\n",
      "1000/1000 [==============================] - 0s 94us/sample - loss: 0.0256\n",
      "Epoch 4/50\n",
      "1000/1000 [==============================] - 0s 90us/sample - loss: 0.0110\n",
      "Epoch 5/50\n",
      "1000/1000 [==============================] - 0s 87us/sample - loss: 0.0096\n",
      "Epoch 6/50\n",
      "1000/1000 [==============================] - 0s 86us/sample - loss: 0.0097\n",
      "Epoch 7/50\n",
      "1000/1000 [==============================] - 0s 83us/sample - loss: 0.0097\n",
      "Epoch 8/50\n",
      "1000/1000 [==============================] - 0s 85us/sample - loss: 0.0096\n",
      "Epoch 9/50\n",
      "1000/1000 [==============================] - 0s 87us/sample - loss: 0.0097\n",
      "Epoch 10/50\n",
      "1000/1000 [==============================] - 0s 87us/sample - loss: 0.0097\n",
      "Epoch 11/50\n",
      "1000/1000 [==============================] - 0s 88us/sample - loss: 0.0097\n",
      "Epoch 12/50\n",
      "1000/1000 [==============================] - 0s 87us/sample - loss: 0.0096\n",
      "Epoch 13/50\n",
      "1000/1000 [==============================] - 0s 86us/sample - loss: 0.0096\n",
      "Epoch 14/50\n",
      "1000/1000 [==============================] - 0s 87us/sample - loss: 0.0096\n",
      "Epoch 15/50\n",
      "1000/1000 [==============================] - 0s 87us/sample - loss: 0.0097\n",
      "Epoch 16/50\n",
      "1000/1000 [==============================] - 0s 85us/sample - loss: 0.0097\n",
      "Epoch 17/50\n",
      "1000/1000 [==============================] - 0s 84us/sample - loss: 0.0096\n",
      "Epoch 18/50\n",
      "1000/1000 [==============================] - 0s 83us/sample - loss: 0.0096\n",
      "Epoch 19/50\n",
      "1000/1000 [==============================] - 0s 82us/sample - loss: 0.0096\n",
      "Epoch 20/50\n",
      "1000/1000 [==============================] - 0s 83us/sample - loss: 0.0097\n",
      "Epoch 21/50\n",
      "1000/1000 [==============================] - 0s 85us/sample - loss: 0.0097\n",
      "Epoch 22/50\n",
      "1000/1000 [==============================] - 0s 84us/sample - loss: 0.0096\n",
      "Epoch 23/50\n",
      "1000/1000 [==============================] - 0s 85us/sample - loss: 0.0095\n",
      "Epoch 24/50\n",
      "1000/1000 [==============================] - 0s 85us/sample - loss: 0.0097\n",
      "Epoch 25/50\n",
      "1000/1000 [==============================] - 0s 83us/sample - loss: 0.0097\n",
      "Epoch 26/50\n",
      "1000/1000 [==============================] - 0s 88us/sample - loss: 0.0097\n",
      "Epoch 27/50\n",
      "1000/1000 [==============================] - 0s 91us/sample - loss: 0.0097\n",
      "Epoch 28/50\n",
      "1000/1000 [==============================] - 0s 87us/sample - loss: 0.0097\n",
      "Epoch 29/50\n",
      "1000/1000 [==============================] - 0s 85us/sample - loss: 0.0097\n",
      "Epoch 30/50\n",
      "1000/1000 [==============================] - 0s 87us/sample - loss: 0.0096\n",
      "Epoch 31/50\n",
      "1000/1000 [==============================] - 0s 85us/sample - loss: 0.0096\n",
      "Epoch 32/50\n",
      "1000/1000 [==============================] - 0s 84us/sample - loss: 0.0096\n",
      "Epoch 33/50\n",
      "1000/1000 [==============================] - 0s 87us/sample - loss: 0.0097\n",
      "Epoch 34/50\n",
      "1000/1000 [==============================] - 0s 87us/sample - loss: 0.0096\n",
      "Epoch 35/50\n",
      "1000/1000 [==============================] - 0s 87us/sample - loss: 0.0097\n",
      "Epoch 36/50\n",
      "1000/1000 [==============================] - 0s 88us/sample - loss: 0.0097\n",
      "Epoch 37/50\n",
      "1000/1000 [==============================] - 0s 88us/sample - loss: 0.0097\n",
      "Epoch 38/50\n",
      "1000/1000 [==============================] - 0s 84us/sample - loss: 0.0098\n",
      "Epoch 39/50\n",
      "1000/1000 [==============================] - 0s 84us/sample - loss: 0.0095\n",
      "Epoch 40/50\n",
      "1000/1000 [==============================] - 0s 85us/sample - loss: 0.0096\n",
      "Epoch 41/50\n",
      "1000/1000 [==============================] - 0s 84us/sample - loss: 0.0096\n",
      "Epoch 42/50\n",
      "1000/1000 [==============================] - 0s 84us/sample - loss: 0.0098\n",
      "Epoch 43/50\n",
      "1000/1000 [==============================] - 0s 84us/sample - loss: 0.0096\n",
      "Epoch 44/50\n",
      "1000/1000 [==============================] - 0s 83us/sample - loss: 0.0097\n",
      "Epoch 45/50\n",
      "1000/1000 [==============================] - 0s 84us/sample - loss: 0.0097\n",
      "Epoch 46/50\n",
      "1000/1000 [==============================] - 0s 85us/sample - loss: 0.0096\n",
      "Epoch 47/50\n",
      "1000/1000 [==============================] - 0s 85us/sample - loss: 0.0097\n",
      "Epoch 48/50\n",
      "1000/1000 [==============================] - 0s 85us/sample - loss: 0.0097\n",
      "Epoch 49/50\n",
      "1000/1000 [==============================] - 0s 93us/sample - loss: 0.0096\n",
      "Epoch 50/50\n",
      "1000/1000 [==============================] - 0s 91us/sample - loss: 0.0097\n"
     ]
    }
   ],
   "source": [
    "hist=model.fit(x_train, y_train, epochs=50, batch_size=10)"
   ]
  },
  {
   "cell_type": "code",
   "execution_count": 21,
   "metadata": {},
   "outputs": [],
   "source": [
    "import matplotlib.pyplot as plt"
   ]
  },
  {
   "cell_type": "code",
   "execution_count": 22,
   "metadata": {},
   "outputs": [
    {
     "data": {
      "image/png": "[encoded data removed]",
      "text/plain": [
       "<Figure size 432x288 with 1 Axes>"
      ]
     },
     "metadata": {
      "needs_background": "light"
     },
     "output_type": "display_data"
    }
   ],
   "source": [
    "plt.plot(hist.history['loss'])\n",
    "plt.ylim(0.0, 1.5)\n",
    "plt.xlabel('epoch')\n",
    "plt.ylabel('loss')\n",
    "plt.legend(['train'], loc='upper left')\n",
    "plt.show()"
   ]
  },
  {
   "cell_type": "code",
   "execution_count": 23,
   "metadata": {},
   "outputs": [
    {
     "name": "stdout",
     "output_type": "stream",
     "text": [
      "100/1 [========================================================================================================================================================================================================================================================================================================================================================================================================================================================================================================================================================================================================================================================================================================================================================================================================================================================================================================================================================================================================================================================================================================================================================================================================================================================================================================================================================================================================================================================================================================================================================================================================================================================================================================================================================================================================================================================================================================================================================================================================================================================================================================================================================================================================================================================================================================================================================================================================================================================================================================================================================================================================================================================================================================================================================================================================================================================================================================================================================================================================================================================================================================================] - 0s 521us/sample - loss: 0.0095\n",
      "loss:0.007844968978315593\n"
     ]
    }
   ],
   "source": [
    "loss=model.evaluate(x_test, y_test, batch_size=10)\n",
    "print('loss:{0}'.format(loss))"
   ]
  }
 ],
 "metadata": {
  "kernelspec": {
   "display_name": "Python 3",
   "language": "python",
   "name": "python3"
  },
  "language_info": {
   "codemirror_mode": {
    "name": "ipython",
    "version": 3
   },
   "file_extension": ".py",
   "mimetype": "text/x-python",
   "name": "python",
   "nbconvert_exporter": "python",
   "pygments_lexer": "ipython3",
   "version": "3.7.3"
  }
 },
 "nbformat": 4,
 "nbformat_minor": 2
}
