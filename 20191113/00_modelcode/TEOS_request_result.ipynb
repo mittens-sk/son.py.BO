{
 "cells": [
  {
   "cell_type": "code",
   "execution_count": 1164,
   "metadata": {},
   "outputs": [],
   "source": [
    "import sys\n",
    "import pandas as pd\n",
    "import os\n",
    "from datetime import datetime\n",
    "import numpy as np\n",
    "import json\n",
    "\n",
    "# 파일전송용 Library -----------\n",
    "import time       #시간지연 library사용\n",
    "import paramiko   #sftp파일전송 library사용\n",
    "# ------------------------------\n",
    "\n",
    "# Bayesian Optimization --------\n",
    "from bayes_opt import BayesianOptimization\n",
    "from bayes_opt.util import Colours\n",
    "\n",
    "requestPrefix = \"SON_TO_TEOS_RL_REQUEST_\"\n",
    "resultPrefix = \"TEOS_TO_SON_RL_RESULT_\" \n",
    "\n",
    "cellcode=['2019Y9667','2019Z2137','2019Z3737', '20193BHZH', \\\n",
    "         '20193BHTY', '20193AMR7', '2019Y9678', '2019Z3222', \\\n",
    "         '20193BIEF', '20193BI6Z', '2019Z2954', '2019Z2586', \\\n",
    "         '2019Z0388', '2019Z2764', '2019Z2779', '2019Y9862',]\n",
    "# ------------------------------"
   ]
  },
  {
   "cell_type": "code",
   "execution_count": 1165,
   "metadata": {},
   "outputs": [],
   "source": [
    "class TEOS_filegetput:\n",
    "        def __init__(self, ML_dirnm, TEOS_indirnm, TEOS_outdirnm, filetime):\n",
    "            # ML서버내 파일관리폴더(Request, Result모두 동일폴더에서 관리함)\n",
    "            self.ML_dirnm=ML_dirnm\n",
    "            # TEOS관리폴더(Request, Result 별도로 관리함)\n",
    "            self.TEOS_indirnm=TEOS_indirnm\n",
    "            self.TEOS_outdirnm=TEOS_outdirnm\n",
    "            # 시간기준으로 폴더생성/파일관리\n",
    "            self.time=filetime        \n",
    "            \n",
    "        # dirnm에 있는 filenm으로 시작하는 모든 파일목록 생성\n",
    "        def get_filelist(self, dirnm, filenm):\n",
    "            file_list=[f for f in os.listdir(dirnm) if f.startswith(filenm)]\n",
    "            return(file_list)\n",
    "        \n",
    "        # 파일존재시 파일명리턴 부재시 공백리턴\n",
    "        def get_fileexist(self, dirnm, filenm):\n",
    "            if os.path.exists(dirnm+'/'+filenm):\n",
    "                return(filenm)\n",
    "            else:\n",
    "                return('')    \n",
    "        \n",
    "        # TEOS서버접속\n",
    "        def conn_TEOS_svr(self):\n",
    "            host='90.90.220.8'\n",
    "            port=10003\n",
    "            transport=paramiko.Transport((host,port))\n",
    "            password='@Son1234!1'\n",
    "            username='son'\n",
    "            transport.connect(username=username, password=password)\n",
    "            sftp=paramiko.SFTPClient.from_transport(transport)\n",
    "            return(sftp, transport)\n",
    "\n",
    "        # put명령실행            \n",
    "        def do_requestfile_put(self, sftp, transport, putfilenm):\n",
    "            fromfile=self.ML_dirnm+'/'+self.time+'/'+putfilenm\n",
    "            tofile=self.TEOS_indirnm+'/'+self.time+'/'+putfilenm\n",
    "            \n",
    "            # TEOS서버에 복사할 폴더가 존재하지 않으면 생성함\n",
    "            dirlist=sftp.listdir(self.TEOS_indirnm)             \n",
    "            if not self.time in dirlist:\n",
    "                sftp.mkdir(self.TEOS_indirnm+'/'+self.time)\n",
    "\n",
    "            # ML서버에 복사할 파일이 존재하지 않으면 실행종료\n",
    "            temp=os.path.split(fromfile)\n",
    "            if self.get_fileexist(temp[0], temp[1])!='':\n",
    "                sftp.put(fromfile, tofile)\n",
    "                return(1)\n",
    "            else:\n",
    "                print('ML서버에 Put대상 파일(%s)이 없어 TEOS서버에 Put명령을 하지 못했습니다.\\n' %fromfile)                \n",
    "                return(0)\n",
    "\n",
    "        # get명령실행    \n",
    "        def do_resultfile_get(self, sftp, transport, getfilenm):         \n",
    "            fromfile=self.TEOS_outdirnm+'/'+self.time+'/'+getfilenm\n",
    "            tofile=self.ML_dirnm+'/'+self.time+'/'+getfilenm            \n",
    "            done_normal=0\n",
    "            \n",
    "            # ML서버에 복사해올 폴더가 존재하지 않으면 생성함\n",
    "            if not os.path.exists(self.ML_dirnm+'/'+self.time):\n",
    "                os.mkdir(self.ML_dirnm+'/'+self.time)\n",
    "            \n",
    "            # TEOS내에 출력파일 저장폴더 미생성시 60초간격으로 20번 확인\n",
    "            for i in range(60):\n",
    "                if self.time in sftp.listdir(self.TEOS_outdirnm):\n",
    "                    for j in range(60):\n",
    "                        # TEOS내에 출력파일 존재하지 않으면 60초간격으로 60번 확인\n",
    "                        dirlist=sftp.listdir(self.TEOS_outdirnm+'/'+self.time)                        \n",
    "                        if getfilenm in dirlist:      \n",
    "                            sftp.get(fromfile, tofile)\n",
    "                            done_normal=1\n",
    "                            break\n",
    "                        else:\n",
    "                            print('파일 %s이 없어 60초 대기후 다시 확인합니다(최대60회).' %getfilenm)\n",
    "                            time.sleep(60)\n",
    "                    break\n",
    "                else:\n",
    "                    print('폴더 %s이 없어 60초 대기후 다시 확인합니다(최대60회).' %self.time)\n",
    "                    time.sleep(60)\n",
    "            return(done_normal)\n",
    "\n",
    "        # sftp접속해제\n",
    "        def close_TEOS_svr(self, sftp, transport):\n",
    "            sftp.close()\n",
    "            transport.close()\n",
    "            \n",
    "        def RequestFile_Put(self, filenm):\n",
    "            try:\n",
    "                sftp, transport=self.conn_TEOS_svr()      \n",
    "                done_normal=self.do_requestfile_put(sftp, transport, filenm)\n",
    "                self.close_TEOS_svr(sftp, transport)\n",
    "                return(done_normal)\n",
    "\n",
    "            except:\n",
    "                print('Error : TEOS server connection')\n",
    "                self.close_TEOS_svr(sftp, transport)  \n",
    "                return(0)\n",
    "\n",
    "        def ResultFile_Get(self, filenm): \n",
    "            try:\n",
    "                sftp, transport=self.conn_TEOS_svr()\n",
    "                done_normal=self.do_resultfile_get(sftp, transport, filenm)\n",
    "                self.close_TEOS_svr(sftp, transport)\n",
    "                return(done_normal)\n",
    "\n",
    "            except:\n",
    "                print('Error : TEOS server connection')\n",
    "                self.close_TEOS_svr(sftp, transport)\n",
    "                return(0)"
   ]
  },
  {
   "cell_type": "code",
   "execution_count": 1166,
   "metadata": {},
   "outputs": [],
   "source": [
    "# TEOS 연동모듈(Request File + Result File 주고받기))\n",
    "def Do_simul_NEXT(filetime, a): \n",
    "    # 파일저장위치(ML서버 : request/result파일 한개 폴더에서 관리, TEOS서버 : request/result파일 별도 폴더에서 관리)\n",
    "    ML_dirnm='/home/tangosvc/code/data'\n",
    "    TEOS_indirnm='/disk2/interworking_data/SON/EngAnalysis/request'        \n",
    "    TEOS_outdirnm='/disk2/interworking_data/SON/EngAnalysis/result'       \n",
    "\n",
    "    #sftp라이브러리 paramiko의 실행 log저장/관리\n",
    "    paramiko.util.log_to_file('/home/tangosvc/code/data/paramiko.log')\n",
    "    \n",
    "    try:    \n",
    "        # SEQ+1차수의 시뮬레이션 실행(실행가능 시간인지 확인후 실행함)\n",
    "        b=TEOS_filegetput(ML_dirnm, TEOS_indirnm, TEOS_outdirnm, filetime)        \n",
    "        \n",
    "        # request file에 대한 put명령 실행\n",
    "        filenm = requestPrefix + filetime + \"_[\" + a.seq + \"].dat\"     \n",
    "        Putresult=b.RequestFile_Put(filenm)\n",
    "\n",
    "         # Request Get\n",
    "         # Put명령이 성공했을 경우 -> result file에 대한 get명령 실행\n",
    "        if Putresult==1:            \n",
    "            filenm = resultPrefix + filetime + \"_[\" + a.seq + \"].dat\"\n",
    "            print('%s에 대한 get명령을 실행합니다.' %filenm)  \n",
    "            b.ResultFile_Get(filenm)\n",
    "\n",
    "            a.pre_reqfilenm=ML_dirnm+'/'+filetime+'/'+filenm              \n",
    "            a.pre_resultfilenm=ML_dirnm+'/'+filetime+'/'+filenm  \n",
    "            del b  \n",
    "            return(1)\n",
    "        else:\n",
    "            del b  \n",
    "            return(0)      \n",
    "    except:\n",
    "        return(0)"
   ]
  },
  {
   "cell_type": "code",
   "execution_count": 1167,
   "metadata": {},
   "outputs": [],
   "source": [
    "# ML_dirnm='/home/tangosvc/code/data'\n",
    "class Request_filecreate:\n",
    "    def __init__(self, ML_dirnm, time, seq):\n",
    "        # ML서버내 파일관리폴더(Request, Result모두 동일폴더에서 관리함)\n",
    "        self.ML_dirnm=ML_dirnm\n",
    "        # 시간기준으로 폴더생성/파일관리\n",
    "        self.time=time\n",
    "        self.seq=str(seq)\n",
    "        \n",
    "        self.pre_reqfilenm=''\n",
    "        self.pre_resultfilenm=''         \n",
    "            \n",
    "    # Site정보 불러오기(site_info.csv파일내용 변경으로 수정함 -19/10/31)\n",
    "    def getSiteInfo(dofilter=0) :\n",
    "        filenm =ML_dirnm+'/'+'site_info.csv'\n",
    "        try:\n",
    "            df = pd.read_csv(filenm, encoding = 'utf-8', header = 1) \n",
    "            df = df[['Sisul code', 'target']]\n",
    "\n",
    "            if dofilter==1:\n",
    "                crit=(df['target']=='Y')\n",
    "                df = df[crit]\n",
    "\n",
    "            df.columns = ['SISUL_CD1', 'target']\n",
    "            df = df.dropna(how ='all')\n",
    "        except FileNotFoundError:\n",
    "            pass\n",
    "        return(df)\n",
    "\n",
    "    # 결과파일 불러온 후  근접셀 찾아 리턴하기(NBR Site계산로직변경으로 신규추가함 - 19/10/31)\n",
    "    def getNBRSiteInfo():\n",
    "        filenm = self.pre_resultfilenm\n",
    "        try:\n",
    "            df = pd.read_csv(filenm, encoding = 'utf-8', sep='|', header=None) \n",
    "            df.columns = ['REQUEST_DATE','SCENARIO_SEQ','REQUEST_SEQ','XPOS','YPOS',\n",
    "                                      'SISUL_CD1','RSRP1','SINR1',\n",
    "                                      'SISUL_CD2','RSRP2','SINR2',\n",
    "                                      'SISUL_CD3','RSRP3','SINR3']\n",
    "\n",
    "            input1=self.getSiteInfo()\n",
    "            f={lambda x: pd.Series.mode(x)[0]}\n",
    "            input2=df.groupby(['SISUL_CD1'])['SISUL_CD2'].agg(f)\n",
    "            input2.columns=['NBR_SISUL_CD']\n",
    "            df = pd.merge(input1, input2, how = 'left', left_on = 'SISUL_CD1', right_on= 'SISUL_CD1')\n",
    "\n",
    "        except FileNotFoundError:\n",
    "            pass\n",
    "        return(df)    \n",
    "\n",
    "\n",
    "    # Read Result File \n",
    "    def getResult(self) :\n",
    "        resultFile=''\n",
    "        resultPrefix = \"TEOS_TO_SON_RL_RESULT_\"\n",
    "        filenm=self.pre_resultfilenm\n",
    "\n",
    "        try:\n",
    "            resultFile=pd.read_csv(filenm, sep='|', encoding = 'utf-8', header=None)\n",
    "            resultFile.columns = ['REQUEST_DATE','SCENARIO_SEQ','REQUEST_SEQ','XPOS','YPOS',\n",
    "                          'SISUL_CD1','RSRP1','SINR1',\n",
    "                          'SISUL_CD2','RSRP2','SINR2',\n",
    "                          'SISUL_CD3','RSRP3','SINR3']\n",
    "        except FileNotFoundError:\n",
    "            print(\"Request파일(%s)이 존재하지 않아 실행을 중단합니다.\\n\" %filenm)\n",
    "            pass\n",
    "        return(resultFile)\n",
    "    \n",
    "    \n",
    "# State Quality 계산(동적근접셀 선정기능 포함, 근접셀 정보를 Result파일에서 Dynamic하게 추출함)-----------------------------------------------------\n",
    "    def getStateQuality(self, wa = 0.5, wb = 0.5) :\n",
    "        sqResult=''\n",
    "        result = self.getResult()\n",
    "\n",
    "        # Cell SINR avg , 5%\n",
    "        def q5(x):\n",
    "            return x.quantile(0.05)\n",
    "\n",
    "        # 대상셀에 대한 SQ를 계산하여 SISUL_CD1을 ID로 하는 sqResult DF에 저장하기\n",
    "        f = {'SINR1': ['mean', q5], 'RSRP1': ['mean']}\n",
    "        sqResult = result.groupby('SISUL_CD1').agg(f)\n",
    "        sqResult['sq'] = sqResult[('SINR1', 'mean')] * wa + (1-wa) * sqResult[('SINR1', 'q5')]\n",
    "        sqResult=sqResult.reset_index()\n",
    "    \n",
    "# rs : ['SINR1_Mean', 'SINR1_Q5', 'RSRP1_Mean', 'sq', 'nbrSq', 'gsq']\n",
    "\n",
    "        # 결과파일에 근거하여 근접셀 계산후 GSQ계산\n",
    "        # 결과파일에서 SISUL_CD1, sq 추출\n",
    "        input1=sqResult[['SISUL_CD1','sq']]\n",
    "        \n",
    "        # SISUL_CD1별 근접셀 계산\n",
    "        f={lambda x: pd.Series.mode(x)[0]}\n",
    "        input2=result.groupby(['SISUL_CD1'])['SISUL_CD2'].agg(f)\n",
    "        input2.columns=['NBR_SISUL_CD']\n",
    "        input2=input2.reset_index()\n",
    "        df = pd.merge(input1, input2, how = 'left', left_on = 'SISUL_CD1', right_on= 'SISUL_CD1')\n",
    "\n",
    "        # input1의 열명변경 : sq --> nbrSQ\n",
    "        # df열구성 : SISUL_CD1, sq, NBR_SISUL_CD\n",
    "        input1.columns=['SISUL_CD1', 'nbrSq']\n",
    "        df = pd.merge(df, input1, how='left', left_on='NBR_SISUL_CD', right_on='SISUL_CD1')\n",
    "        # df열구성 : SISUL_CD1, sq, NBR_SISUL_CD, nbrSq\n",
    "        sqResult['nbrSq']=df['nbrSq']\n",
    "\n",
    "        # Global SQ\n",
    "        # sqResult['gsq'] = sqResult['sq'] * wb + (1 - wb) * sqResult[('nbrSq')]\n",
    "        # 근접셀이 없는 경우 대상셀의 GSQ수식을 적용하지 않고 sq값을 리턴함\n",
    "        # 근접셀이 있는 경우 GSQ수식을 적용한 결과값을 리턴함\n",
    "        sqResult['gsq'] = np.where(sqResult['nbrSq'] == 99999, sqResult['sq'] , sqResult['sq'] * wb + (1 - wb) * sqResult[('nbrSq')])\n",
    "        sqResult.columns =  ['SISUL_CD', 'SINR1_Mean', 'SINR1_Q5', 'RSRP1_Mean', 'sq', 'nbrSq', 'gsq'] \n",
    "        \n",
    "        # rs : ['SISUL_CD  SINR1_Mean  SINR1_Q5  RSRP1_Mean sq  nbrSq   gsq]\n",
    "        SRC_cell=pd.DataFrame(cellcode, columns=['cellcode']) \n",
    "#         print(sqResult, SRC_cell)        \n",
    "        \n",
    "        gsq_each=pd.merge(SRC_cell, sqResult, how='left', left_on='cellcode', right_on='SISUL_CD')['gsq']\n",
    "#         gsq_avg=gsq_each.mean()\n",
    "#         return(sqResult, gsq_avg, gsq_each)\n",
    "        gsq_mean=gsq_each.mean()\n",
    "        return(sqResult, gsq_mean, gsq_each)\n",
    "\n",
    "    # rs : ['SISUL_CD  SINR1_Mean  SINR1_Q5  RSRP1_Mean sq  nbrSq   gsq]\n",
    "    # --------------------------------------------------------------------------------------------------------\n",
    "\n",
    "    # Read Request File\n",
    "    def getRequest(self) :\n",
    "        rq=''\n",
    "        requestPrefix = \"SON_TO_TEOS_RL_REQUEST_\"\n",
    "        filenm=self.pre_reqfilenm\n",
    "        try:\n",
    "            rq = pd.read_csv(filenm, sep = '|', encoding = 'utf-8', header = None)            \n",
    "            rq.columns = ['REQUEST_DATE', 'SCENARIO_SEQ', 'REQUEST_SEQ', \n",
    "                          'START_XPOS', 'END_XPOS', 'START_YPOS', 'END_YPOS', 'SITE_NAME', 'FA_SEQ', \n",
    "                          'SISUL_CD', 'DUH_EQUIP_ID', 'PCI', 'XPOS', 'YPOS', 'CELL_NO', 'TOWER_HEIGHT', \n",
    "                          'BUILDING_HEIGHT', 'ANTENNA_NM', 'ORIENT', \n",
    "                          'E_TILT', 'MTILT']\n",
    "        except FileNotFoundError:\n",
    "            print(\"Request파일(%s)이 존재하지 않아 실행을 중단합니다.\\n\" %filenm)\n",
    "            pass\n",
    "\n",
    "        return(rq)\n",
    "\n",
    "    # get Current State from Request FIle \n",
    "    def getState(self):\n",
    "        state = self.getRequest()\n",
    "        \n",
    "        # Src E-Tilt\n",
    "        etilt = state['E_TILT']\n",
    "        bins = [-8, -6, -4, -2, 0, 1, 3, 5, 7, 9]\n",
    "#        bins = [-5, -4, -2, 0, 1, 3, 5, 6]\n",
    "        labels = [\"s1\", \"s2\", \"s3\", \"s4\", \"s5\", \"s6\", \"s7\", \"s8\", \"s9\"]\n",
    "        cats = pd.cut(etilt, bins, labels=labels, include_lowest=True, right=False)\n",
    "        state['SRC_STATE'] = cats\n",
    "\n",
    "        # Nbr셀찾아 TILT와 STATE설정\n",
    "        def getNbrState(x):\n",
    "            # SISUL Code정보\n",
    "            nbrSite = self.getSiteInfo()\n",
    "            tmp = list(state.SISUL_CD)\n",
    "            nbrCell = list(nbrSite.NBR_CD1[nbrSite.SISUL_CD1 == x])\n",
    "\n",
    "            if len(nbrCell) == 1:\n",
    "                nbrState = state.E_TILT[tmp.index(nbrCell[0])]\n",
    "            else:\n",
    "                nbrState = 99999\n",
    "            return nbrState\n",
    "        \n",
    "        # Nbr E-Tilt\n",
    "        state['NBR_TILT'] = list(map(lambda i: getNbrState(i), state.SISUL_CD.to_list()))\n",
    "        catsNbr = pd.cut(state['NBR_TILT'], bins, labels=labels, include_lowest=True, right=False)\n",
    "        state['NBR_STATE'] = catsNbr\n",
    "\n",
    "        return(state)\n",
    "\n",
    "    def cutStateQuality(self, df2): \n",
    "        sinr = df2['SINR1_Mean']\n",
    "        bins = [-999, 0, 5, 10, 15, 20, 25, 99]\n",
    "    #     labels = [\"s1\", \"s2\", \"s3\", \"s4\", \"s5\", \"s6\", \"s7\"]\n",
    "    #     cats = pd.cut(sinr, bins, labels=labels, include_lowest=True, right=True)\n",
    "        cats = pd.cut(sinr, bins, include_lowest=True, right=True)\n",
    "        df2['SINR1_STATE'] = cats\n",
    "\n",
    "        #rsrp\n",
    "        rsrp = df2['RSRP1_Mean']\n",
    "        bins = [-999, -110, -100, -90, -80, -70, -60, 999]\n",
    "    #    labels = [\"s1\", \"s2\", \"s3\", \"s4\", \"s5\", \"s6\", \"s7\"]\n",
    "    #     cats = pd.cut(sinr, bins, labels=labels, include_lowest=True, right=False)\n",
    "        cats = pd.cut(rsrp, bins, include_lowest=True, right=True)\n",
    "        df2['RSRP1_STATE'] = cats\n",
    "        df2 = df2[['SISUL_CD', 'SINR1_STATE', 'RSRP1_STATE']]    \n",
    "        return(df2)\n",
    "\n",
    "    \n",
    "#     def Sim_Wait_Time(self, t1, s_time, e_time):\n",
    "# #         Sim_Time_From=datetime.strptime(s_time, '%H:%M')\n",
    "# #         Sim_Time_To=datetime.strptime(e_time, '%H:%M')\n",
    "# # Cur_Time, Sim_Time_From, Sim_Time_To\n",
    "\n",
    "#         if(t1>s_time) & (t1<e_time):\n",
    "#             return(0)\n",
    "#         else:\n",
    "#             timedelta=datetime.strptime('23:59','%H:%M')-datetime.strptime(t1,'%H:%M')\n",
    "#             return(int(timedelta.total_seconds())+360)\n",
    "        \n",
    "    \n",
    "    # update and read request File(Parameter tilt는 데이터 프레임임)\n",
    "    def outputDatFile(self, action = None, tilt=None ): \n",
    "        output = self.getRequest()\n",
    "        \n",
    "        # 구현필요 : ------------ 모델을 통하여 action을 받아와야함(BO or RL모델링 수행함)\n",
    "        # RL은 현 tilt에 대한 변경값\n",
    "        # BO는 tilt값\n",
    "        if tilt.empty:\n",
    "            if action is None :\n",
    "                action = np.random.randint(-2, 2, output.shape[0])\n",
    "                action = pd.DataFrame(action)[0]\n",
    "\n",
    "            # action은 현 tilt값에 대한 변화량\n",
    "            # action적용결과 E-Tilt 가 -8~8 범위를 넘어가는 경우 범위내로 강제 action조정-----       \n",
    "            action = np.where((action + output['E_TILT'])<-8, -8-output['E_TILT'], action)\n",
    "            action = np.where((action + output['E_TILT'])>8, 8-output['E_TILT'], action)\n",
    "            output['E_TILT'] = action + output['E_TILT']\n",
    "        else:\n",
    "            x11=output['SISUL_CD'].tolist()\n",
    "            y11=tilt['SISUL_CD1'].tolist()\n",
    "            y12=tilt['E_TILT'].tolist()\n",
    "            \n",
    "            for i in range(len(y11)):\n",
    "                selrow=x11.index(y11[i])\n",
    "                output['E_TILT'][selrow]=y12[i]\n",
    "\n",
    "#             print(output['SISUL_CD'])\n",
    "#             print(output['E_TILT'])\n",
    "#             print(tilt['E_TILT'])\n",
    "#             print(tilt['SISUL_CD1'])                \n",
    "\n",
    "        output['REQUEST_SEQ'] = self.seq\n",
    "        output['REQUEST_DATE']= self.time\n",
    "        #-------------------------------------------------        \n",
    "        \n",
    "        if not os.path.isdir(self.ML_dirnm+'/'+self.time):\n",
    "            os.mkdir(self.ML_dirnm+'/'+self.time)\n",
    "\n",
    "        filenm = self.ML_dirnm+'/'+self.time+'/'+requestPrefix + self.time + \"_[\" + self.seq + \"].dat\"\n",
    "        print(\"Request 파일(%s)을 생성합니다.\\n\" %filenm)\n",
    "        output.to_csv(filenm, sep = \"|\", header = False, index = False)      "
   ]
  },
  {
   "cell_type": "code",
   "execution_count": 1168,
   "metadata": {},
   "outputs": [],
   "source": [
    "# BO용 모듈\n",
    "para_no=16\n",
    "    \n",
    "# Pbound설정\n",
    "def get_pbounds():\n",
    "    df1=pd.read_csv('/home/tangosvc/code/data/BO_Range.csv', sep=',', index_col='varnm')\n",
    "    df1=df1.to_dict('split')\n",
    "    pbounds=dict(zip(df1['index'], df1['data']))\n",
    "    return(pbounds)\n",
    "\n",
    "# 대구지역 cell 16개의 tilt값\n",
    "def black_box_function(c1, c2, c3, c4, c5, c6, c7, c8, c9, c10, c11, c12, c13, c14, c15, c16):   \n",
    "    # Parameter 입력값\n",
    "    c1=round(c1,0);c2=round(c2,0);c3=round(c3,0);c4=round(c4,0);c5=round(c5,0)\n",
    "    c6=round(c6,0);c7=round(c7,0);c8=round(c8,0);c9=round(c9,0);c10=round(c10,0)\n",
    "    c11=round(c11,0);c12=round(c12,0);c13=round(c13,0);c14=round(c14,0);c15=round(c15,0)\n",
    "    c16=round(c16,0)\n",
    "    input_val=[c1, c2, c3, c4, c5, c6, c7, c8, c9, c10, c11, c12, c13, c14, c15, c16]\n",
    "    req_tilt=pd.DataFrame([input_val, cellcode]).T\n",
    "    req_tilt.columns=(['E_TILT', 'SISUL_CD1'])    \n",
    "\n",
    "    \n",
    "    \n",
    "\n",
    "    \n",
    "    # 시뮬레이션 운영시간\n",
    "    Sim_Time_From='00:20'\n",
    "    Sim_Time_To='23:20' \n",
    "\n",
    "    #-------------------------------------------------------------\n",
    "    # Simulation중단시간 Check -> 대기(00:05~23:25이외의 시간) \n",
    "    Cur_Time=datetime.now().strftime('%H:%M') \n",
    "    while (Cur_Time < Sim_Time_From) | (Cur_Time > Sim_Time_To):\n",
    "#         wait_time=a.Sim_Wait_Time(Cur_Time, Sim_Time_From, Sim_Time_To)\n",
    "        time.sleep(180)\n",
    "        Cur_Time=datetime.now().strftime('%H:%M') \n",
    "    #-------------------------------------------------------------\n",
    "\n",
    "    \n",
    "    \n",
    "    \n",
    "    # Parameter 입력값에 따른 출력값\n",
    "    y=-9999\n",
    "    while y==-9999:\n",
    "        # 시뮬레이션 실행코드\n",
    "        y=cal_obj_fun(req_tilt)*10\n",
    "    return(y)"
   ]
  },
  {
   "cell_type": "code",
   "execution_count": 1169,
   "metadata": {},
   "outputs": [],
   "source": [
    "def set_optinfo(ML_dirnm, seq, pre_reqfilenm, pre_resultfilenm):\n",
    "    destination=ML_dirnm+'/'+'opt_status.json'\n",
    "#     data=pd.DataFrame([seq], index=['SEQ'], columns=['value'])\n",
    "#     data.to_json(destination)\n",
    "\n",
    "    with open(destination, encoding='UTF8') as data_file:\n",
    "        data=json.load(data_file)\n",
    "    data['value']['SEQ']=seq\n",
    "    data['value']['pre_reqfilenm']=pre_reqfilenm\n",
    "    data['value']['pre_resultfilenm']=pre_resultfilenm\n",
    "    with open(destination, 'w') as txtfile:\n",
    "        json.dump(data, txtfile)\n",
    "        \n",
    "def get_optinfo(ML_dirnm):\n",
    "    destination=ML_dirnm+'/'+'opt_status.json'    \n",
    "    with open(destination, encoding='UTF8') as data_file:\n",
    "        data=json.load(data_file)\n",
    "    return(data['value'])"
   ]
  },
  {
   "cell_type": "code",
   "execution_count": 1170,
   "metadata": {},
   "outputs": [],
   "source": [
    "# BO용 모듈\n",
    "def cal_obj_fun(req_tilt):    \n",
    "    #값 초기화---------------------------------\n",
    "    # request, result file 관리 폴더(ML서버, TEOS서버)\n",
    "    ML_dirnm='/home/tangosvc/code/data'    \n",
    "    # simulation 실행일(파일생성일)\n",
    "    filetime=datetime.now().strftime('%Y%m%d') \n",
    "    #----------------------------------------------  \n",
    "    \n",
    "    # TEOS 최근 적용 파일명, Seq 정보를 json파일에서 가져오기\n",
    "    seq=get_optinfo(ML_dirnm)['SEQ']\n",
    "    pre_reqfilenm=get_optinfo(ML_dirnm)['pre_reqfilenm']\n",
    "    pre_resultfilenm=get_optinfo(ML_dirnm)['pre_resultfilenm']\n",
    "        \n",
    "    # Request_filecreate 클래스를 생성함\n",
    "    a=Request_filecreate(ML_dirnm, filetime, seq)\n",
    "    a.pre_reqfilenm=pre_reqfilenm\n",
    "    a.pre_resultfilenm=pre_resultfilenm    \n",
    "    a.seq=str(seq+1)    \n",
    "    a.outputDatFile(action = None, tilt=req_tilt) \n",
    "    \n",
    "    Do_simul_NEXT(filetime, a)\n",
    "    # 시점 t : state(SRC tilt, NBR tilt, SINR, RSRP) 계산 ------------------------------\n",
    "    # state(tilt1의 SINR, RSRP)정보 - ResultFile에서 수집(SISUL_CD기준으로 계산)\n",
    "    rs, gsq_avg,_ = a.getStateQuality(wa = 0.5, wb = 0.5) \n",
    "\n",
    "    # rs : ['SISUL_CD  SINR1_Mean  SINR1_Q5  RSRP1_Mean sq  nbrSq   gsq]  \n",
    "    set_optinfo(ML_dirnm, seq+1, \\\n",
    "                ML_dirnm+'/'+filetime+'/'+requestPrefix+ filetime+'_'+'['+str(seq+1)+'].dat', \\\n",
    "                ML_dirnm+'/'+filetime+'/'+resultPrefix+ filetime+'_'+'['+str(seq+1)+'].dat')\n",
    "    return(gsq_avg)"
   ]
  },
  {
   "cell_type": "code",
   "execution_count": null,
   "metadata": {
    "scrolled": false
   },
   "outputs": [
    {
     "name": "stdout",
     "output_type": "stream",
     "text": [
      "\u001b[93m---Parameter Exploration Range(min, max) ---\u001b[0m\n",
      "{'c1': [0, 8], 'c2': [0, 8], 'c3': [0, 8], 'c4': [0, 8], 'c5': [0, 8], 'c6': [0, 8], 'c7': [0, 8], 'c8': [0, 8], 'c9': [0, 8], 'c10': [0, 8], 'c11': [0, 8], 'c12': [0, 8], 'c13': [0, 8], 'c14': [0, 8], 'c15': [0, 8], 'c16': [0, 8]}\n",
      "\u001b[93m---Optimizing TEOS by BO ---\u001b[0m\n",
      "|   iter    |  target   |    c1     |    c10    |    c11    |    c12    |    c13    |    c14    |    c15    |    c16    |    c2     |    c3     |    c4     |    c5     |    c6     |    c7     |    c8     |    c9     |\n",
      "-------------------------------------------------------------------------------------------------------------------------------------------------------------------------------------------------------------------------\n"
     ]
    },
    {
     "name": "stderr",
     "output_type": "stream",
     "text": [
      "/home/tangosvc/anaconda3/lib/python3.7/site-packages/ipykernel_launcher.py:229: SettingWithCopyWarning: \n",
      "A value is trying to be set on a copy of a slice from a DataFrame\n",
      "\n",
      "See the caveats in the documentation: http://pandas.pydata.org/pandas-docs/stable/indexing.html#indexing-view-versus-copy\n"
     ]
    },
    {
     "name": "stdout",
     "output_type": "stream",
     "text": [
      "Request 파일(/home/tangosvc/code/data/20191112/SON_TO_TEOS_RL_REQUEST_20191112_[672].dat)을 생성합니다.\n",
      "\n",
      "TEOS_TO_SON_RL_RESULT_20191112_[672].dat에 대한 get명령을 실행합니다.\n"
     ]
    },
    {
     "name": "stderr",
     "output_type": "stream",
     "text": [
      "/home/tangosvc/anaconda3/lib/python3.7/site-packages/pandas/core/reshape/merge.py:522: UserWarning: merging between different levels can give an unintended result (2 levels on the left, 1 on the right)\n",
      "  warnings.warn(msg, UserWarning)\n"
     ]
    },
    {
     "name": "stdout",
     "output_type": "stream",
     "text": [
      "| \u001b[0m 1       \u001b[0m | \u001b[0m 15.27   \u001b[0m | \u001b[0m 1.532   \u001b[0m | \u001b[0m 4.977   \u001b[0m | \u001b[0m 3.502   \u001b[0m | \u001b[0m 6.283   \u001b[0m | \u001b[0m 6.24    \u001b[0m | \u001b[0m 2.181   \u001b[0m | \u001b[0m 2.212   \u001b[0m | \u001b[0m 6.415   \u001b[0m | \u001b[0m 7.665   \u001b[0m | \u001b[0m 7.007   \u001b[0m | \u001b[0m 2.863   \u001b[0m | \u001b[0m 4.008   \u001b[0m | \u001b[0m 5.468   \u001b[0m | \u001b[0m 5.702   \u001b[0m | \u001b[0m 2.962   \u001b[0m | \u001b[0m 4.49    \u001b[0m |\n",
      "Request 파일(/home/tangosvc/code/data/20191112/SON_TO_TEOS_RL_REQUEST_20191112_[673].dat)을 생성합니다.\n",
      "\n",
      "TEOS_TO_SON_RL_RESULT_20191112_[673].dat에 대한 get명령을 실행합니다.\n",
      "파일 TEOS_TO_SON_RL_RESULT_20191112_[673].dat이 없어 60초 대기후 다시 확인합니다(최대60회).\n",
      "파일 TEOS_TO_SON_RL_RESULT_20191112_[673].dat이 없어 60초 대기후 다시 확인합니다(최대60회).\n",
      "파일 TEOS_TO_SON_RL_RESULT_20191112_[673].dat이 없어 60초 대기후 다시 확인합니다(최대60회).\n",
      "파일 TEOS_TO_SON_RL_RESULT_20191112_[673].dat이 없어 60초 대기후 다시 확인합니다(최대60회).\n",
      "파일 TEOS_TO_SON_RL_RESULT_20191112_[673].dat이 없어 60초 대기후 다시 확인합니다(최대60회).\n",
      "파일 TEOS_TO_SON_RL_RESULT_20191112_[673].dat이 없어 60초 대기후 다시 확인합니다(최대60회).\n",
      "파일 TEOS_TO_SON_RL_RESULT_20191112_[673].dat이 없어 60초 대기후 다시 확인합니다(최대60회).\n",
      "파일 TEOS_TO_SON_RL_RESULT_20191112_[673].dat이 없어 60초 대기후 다시 확인합니다(최대60회).\n",
      "파일 TEOS_TO_SON_RL_RESULT_20191112_[673].dat이 없어 60초 대기후 다시 확인합니다(최대60회).\n",
      "파일 TEOS_TO_SON_RL_RESULT_20191112_[673].dat이 없어 60초 대기후 다시 확인합니다(최대60회).\n",
      "| \u001b[0m 2       \u001b[0m | \u001b[0m 14.23   \u001b[0m | \u001b[0m 4.025   \u001b[0m | \u001b[0m 0.1101  \u001b[0m | \u001b[0m 6.183   \u001b[0m | \u001b[0m 7.061   \u001b[0m | \u001b[0m 2.919   \u001b[0m | \u001b[0m 4.923   \u001b[0m | \u001b[0m 0.603   \u001b[0m | \u001b[0m 2.951   \u001b[0m | \u001b[0m 7.465   \u001b[0m | \u001b[0m 5.211   \u001b[0m | \u001b[0m 3.178   \u001b[0m | \u001b[0m 6.31    \u001b[0m | \u001b[0m 2.535   \u001b[0m | \u001b[0m 4.545   \u001b[0m | \u001b[0m 6.953   \u001b[0m | \u001b[0m 3.489   \u001b[0m |\n",
      "Request 파일(/home/tangosvc/code/data/20191112/SON_TO_TEOS_RL_REQUEST_20191112_[674].dat)을 생성합니다.\n",
      "\n",
      "TEOS_TO_SON_RL_RESULT_20191112_[674].dat에 대한 get명령을 실행합니다.\n",
      "파일 TEOS_TO_SON_RL_RESULT_20191112_[674].dat이 없어 60초 대기후 다시 확인합니다(최대60회).\n",
      "파일 TEOS_TO_SON_RL_RESULT_20191112_[674].dat이 없어 60초 대기후 다시 확인합니다(최대60회).\n",
      "파일 TEOS_TO_SON_RL_RESULT_20191112_[674].dat이 없어 60초 대기후 다시 확인합니다(최대60회).\n",
      "파일 TEOS_TO_SON_RL_RESULT_20191112_[674].dat이 없어 60초 대기후 다시 확인합니다(최대60회).\n",
      "파일 TEOS_TO_SON_RL_RESULT_20191112_[674].dat이 없어 60초 대기후 다시 확인합니다(최대60회).\n",
      "파일 TEOS_TO_SON_RL_RESULT_20191112_[674].dat이 없어 60초 대기후 다시 확인합니다(최대60회).\n",
      "파일 TEOS_TO_SON_RL_RESULT_20191112_[674].dat이 없어 60초 대기후 다시 확인합니다(최대60회).\n",
      "파일 TEOS_TO_SON_RL_RESULT_20191112_[674].dat이 없어 60초 대기후 다시 확인합니다(최대60회).\n",
      "파일 TEOS_TO_SON_RL_RESULT_20191112_[674].dat이 없어 60초 대기후 다시 확인합니다(최대60회).\n",
      "파일 TEOS_TO_SON_RL_RESULT_20191112_[674].dat이 없어 60초 대기후 다시 확인합니다(최대60회).\n",
      "| \u001b[0m 3       \u001b[0m | \u001b[0m 13.17   \u001b[0m | \u001b[0m 6.417   \u001b[0m | \u001b[0m 1.15    \u001b[0m | \u001b[0m 5.634   \u001b[0m | \u001b[0m 5.637   \u001b[0m | \u001b[0m 1.75    \u001b[0m | \u001b[0m 7.399   \u001b[0m | \u001b[0m 3.537   \u001b[0m | \u001b[0m 7.275   \u001b[0m | \u001b[0m 0.4785  \u001b[0m | \u001b[0m 1.474   \u001b[0m | \u001b[0m 0.3788  \u001b[0m | \u001b[0m 5.399   \u001b[0m | \u001b[0m 4.757   \u001b[0m | \u001b[0m 4.266   \u001b[0m | \u001b[0m 0.3466  \u001b[0m | \u001b[0m 4.491   \u001b[0m |\n",
      "Request 파일(/home/tangosvc/code/data/20191112/SON_TO_TEOS_RL_REQUEST_20191112_[675].dat)을 생성합니다.\n",
      "\n",
      "TEOS_TO_SON_RL_RESULT_20191112_[675].dat에 대한 get명령을 실행합니다.\n",
      "파일 TEOS_TO_SON_RL_RESULT_20191112_[675].dat이 없어 60초 대기후 다시 확인합니다(최대60회).\n",
      "파일 TEOS_TO_SON_RL_RESULT_20191112_[675].dat이 없어 60초 대기후 다시 확인합니다(최대60회).\n",
      "파일 TEOS_TO_SON_RL_RESULT_20191112_[675].dat이 없어 60초 대기후 다시 확인합니다(최대60회).\n",
      "파일 TEOS_TO_SON_RL_RESULT_20191112_[675].dat이 없어 60초 대기후 다시 확인합니다(최대60회).\n",
      "파일 TEOS_TO_SON_RL_RESULT_20191112_[675].dat이 없어 60초 대기후 다시 확인합니다(최대60회).\n",
      "파일 TEOS_TO_SON_RL_RESULT_20191112_[675].dat이 없어 60초 대기후 다시 확인합니다(최대60회).\n",
      "파일 TEOS_TO_SON_RL_RESULT_20191112_[675].dat이 없어 60초 대기후 다시 확인합니다(최대60회).\n",
      "파일 TEOS_TO_SON_RL_RESULT_20191112_[675].dat이 없어 60초 대기후 다시 확인합니다(최대60회).\n",
      "파일 TEOS_TO_SON_RL_RESULT_20191112_[675].dat이 없어 60초 대기후 다시 확인합니다(최대60회).\n",
      "파일 TEOS_TO_SON_RL_RESULT_20191112_[675].dat이 없어 60초 대기후 다시 확인합니다(최대60회).\n",
      "| \u001b[95m 4       \u001b[0m | \u001b[95m 16.39   \u001b[0m | \u001b[95m 2.637   \u001b[0m | \u001b[95m 4.024   \u001b[0m | \u001b[95m 0.8952  \u001b[0m | \u001b[95m 4.858   \u001b[0m | \u001b[95m 4.528   \u001b[0m | \u001b[95m 0.05411 \u001b[0m | \u001b[95m 4.94    \u001b[0m | \u001b[95m 7.297   \u001b[0m | \u001b[95m 6.324   \u001b[0m | \u001b[95m 7.937   \u001b[0m | \u001b[95m 7.67    \u001b[0m | \u001b[95m 6.336   \u001b[0m | \u001b[95m 2.282   \u001b[0m | \u001b[95m 4.999   \u001b[0m | \u001b[95m 3.825   \u001b[0m | \u001b[95m 1.565   \u001b[0m |\n",
      "Request 파일(/home/tangosvc/code/data/20191112/SON_TO_TEOS_RL_REQUEST_20191112_[676].dat)을 생성합니다.\n",
      "\n",
      "TEOS_TO_SON_RL_RESULT_20191112_[676].dat에 대한 get명령을 실행합니다.\n",
      "파일 TEOS_TO_SON_RL_RESULT_20191112_[676].dat이 없어 60초 대기후 다시 확인합니다(최대60회).\n",
      "파일 TEOS_TO_SON_RL_RESULT_20191112_[676].dat이 없어 60초 대기후 다시 확인합니다(최대60회).\n",
      "파일 TEOS_TO_SON_RL_RESULT_20191112_[676].dat이 없어 60초 대기후 다시 확인합니다(최대60회).\n",
      "파일 TEOS_TO_SON_RL_RESULT_20191112_[676].dat이 없어 60초 대기후 다시 확인합니다(최대60회).\n",
      "파일 TEOS_TO_SON_RL_RESULT_20191112_[676].dat이 없어 60초 대기후 다시 확인합니다(최대60회).\n",
      "파일 TEOS_TO_SON_RL_RESULT_20191112_[676].dat이 없어 60초 대기후 다시 확인합니다(최대60회).\n",
      "파일 TEOS_TO_SON_RL_RESULT_20191112_[676].dat이 없어 60초 대기후 다시 확인합니다(최대60회).\n",
      "파일 TEOS_TO_SON_RL_RESULT_20191112_[676].dat이 없어 60초 대기후 다시 확인합니다(최대60회).\n",
      "파일 TEOS_TO_SON_RL_RESULT_20191112_[676].dat이 없어 60초 대기후 다시 확인합니다(최대60회).\n",
      "파일 TEOS_TO_SON_RL_RESULT_20191112_[676].dat이 없어 60초 대기후 다시 확인합니다(최대60회).\n",
      "| \u001b[0m 5       \u001b[0m | \u001b[0m 12.16   \u001b[0m | \u001b[0m 3.059   \u001b[0m | \u001b[0m 0.431   \u001b[0m | \u001b[0m 3.613   \u001b[0m | \u001b[0m 7.856   \u001b[0m | \u001b[0m 0.9915  \u001b[0m | \u001b[0m 0.955   \u001b[0m | \u001b[0m 5.908   \u001b[0m | \u001b[0m 4.698   \u001b[0m | \u001b[0m 3.773   \u001b[0m | \u001b[0m 0.857   \u001b[0m | \u001b[0m 1.834   \u001b[0m | \u001b[0m 7.2     \u001b[0m | \u001b[0m 3.334   \u001b[0m | \u001b[0m 4.287   \u001b[0m | \u001b[0m 0.04967 \u001b[0m | \u001b[0m 2.405   \u001b[0m |\n",
      "Request 파일(/home/tangosvc/code/data/20191112/SON_TO_TEOS_RL_REQUEST_20191112_[677].dat)을 생성합니다.\n",
      "\n",
      "TEOS_TO_SON_RL_RESULT_20191112_[677].dat에 대한 get명령을 실행합니다.\n",
      "파일 TEOS_TO_SON_RL_RESULT_20191112_[677].dat이 없어 60초 대기후 다시 확인합니다(최대60회).\n",
      "파일 TEOS_TO_SON_RL_RESULT_20191112_[677].dat이 없어 60초 대기후 다시 확인합니다(최대60회).\n",
      "파일 TEOS_TO_SON_RL_RESULT_20191112_[677].dat이 없어 60초 대기후 다시 확인합니다(최대60회).\n",
      "파일 TEOS_TO_SON_RL_RESULT_20191112_[677].dat이 없어 60초 대기후 다시 확인합니다(최대60회).\n",
      "파일 TEOS_TO_SON_RL_RESULT_20191112_[677].dat이 없어 60초 대기후 다시 확인합니다(최대60회).\n",
      "파일 TEOS_TO_SON_RL_RESULT_20191112_[677].dat이 없어 60초 대기후 다시 확인합니다(최대60회).\n",
      "파일 TEOS_TO_SON_RL_RESULT_20191112_[677].dat이 없어 60초 대기후 다시 확인합니다(최대60회).\n",
      "파일 TEOS_TO_SON_RL_RESULT_20191112_[677].dat이 없어 60초 대기후 다시 확인합니다(최대60회).\n",
      "파일 TEOS_TO_SON_RL_RESULT_20191112_[677].dat이 없어 60초 대기후 다시 확인합니다(최대60회).\n",
      "파일 TEOS_TO_SON_RL_RESULT_20191112_[677].dat이 없어 60초 대기후 다시 확인합니다(최대60회).\n",
      "| \u001b[95m 6       \u001b[0m | \u001b[95m 17.04   \u001b[0m | \u001b[95m 3.495   \u001b[0m | \u001b[95m 4.897   \u001b[0m | \u001b[95m 7.346   \u001b[0m | \u001b[95m 5.006   \u001b[0m | \u001b[95m 5.648   \u001b[0m | \u001b[95m 1.199   \u001b[0m | \u001b[95m 5.969   \u001b[0m | \u001b[95m 6.648   \u001b[0m | \u001b[95m 5.07    \u001b[0m | \u001b[95m 3.506   \u001b[0m | \u001b[95m 1.221   \u001b[0m | \u001b[95m 4.547   \u001b[0m | \u001b[95m 4.226   \u001b[0m | \u001b[95m 7.611   \u001b[0m | \u001b[95m 3.843   \u001b[0m | \u001b[95m 4.02    \u001b[0m |\n",
      "Request 파일(/home/tangosvc/code/data/20191112/SON_TO_TEOS_RL_REQUEST_20191112_[678].dat)을 생성합니다.\n",
      "\n",
      "TEOS_TO_SON_RL_RESULT_20191112_[678].dat에 대한 get명령을 실행합니다.\n",
      "파일 TEOS_TO_SON_RL_RESULT_20191112_[678].dat이 없어 60초 대기후 다시 확인합니다(최대60회).\n",
      "파일 TEOS_TO_SON_RL_RESULT_20191112_[678].dat이 없어 60초 대기후 다시 확인합니다(최대60회).\n",
      "파일 TEOS_TO_SON_RL_RESULT_20191112_[678].dat이 없어 60초 대기후 다시 확인합니다(최대60회).\n",
      "파일 TEOS_TO_SON_RL_RESULT_20191112_[678].dat이 없어 60초 대기후 다시 확인합니다(최대60회).\n",
      "파일 TEOS_TO_SON_RL_RESULT_20191112_[678].dat이 없어 60초 대기후 다시 확인합니다(최대60회).\n",
      "파일 TEOS_TO_SON_RL_RESULT_20191112_[678].dat이 없어 60초 대기후 다시 확인합니다(최대60회).\n",
      "파일 TEOS_TO_SON_RL_RESULT_20191112_[678].dat이 없어 60초 대기후 다시 확인합니다(최대60회).\n",
      "파일 TEOS_TO_SON_RL_RESULT_20191112_[678].dat이 없어 60초 대기후 다시 확인합니다(최대60회).\n",
      "파일 TEOS_TO_SON_RL_RESULT_20191112_[678].dat이 없어 60초 대기후 다시 확인합니다(최대60회).\n",
      "파일 TEOS_TO_SON_RL_RESULT_20191112_[678].dat이 없어 60초 대기후 다시 확인합니다(최대60회).\n",
      "| \u001b[0m 7       \u001b[0m | \u001b[0m 13.44   \u001b[0m | \u001b[0m 4.295   \u001b[0m | \u001b[0m 6.554   \u001b[0m | \u001b[0m 0.4569  \u001b[0m | \u001b[0m 5.355   \u001b[0m | \u001b[0m 6.137   \u001b[0m | \u001b[0m 5.665   \u001b[0m | \u001b[0m 6.375   \u001b[0m | \u001b[0m 4.462   \u001b[0m | \u001b[0m 7.727   \u001b[0m | \u001b[0m 1.177   \u001b[0m | \u001b[0m 0.2372  \u001b[0m | \u001b[0m 4.751   \u001b[0m | \u001b[0m 0.9125  \u001b[0m | \u001b[0m 7.606   \u001b[0m | \u001b[0m 2.606   \u001b[0m | \u001b[0m 1.549   \u001b[0m |\n",
      "Request 파일(/home/tangosvc/code/data/20191112/SON_TO_TEOS_RL_REQUEST_20191112_[679].dat)을 생성합니다.\n",
      "\n",
      "TEOS_TO_SON_RL_RESULT_20191112_[679].dat에 대한 get명령을 실행합니다.\n",
      "파일 TEOS_TO_SON_RL_RESULT_20191112_[679].dat이 없어 60초 대기후 다시 확인합니다(최대60회).\n",
      "파일 TEOS_TO_SON_RL_RESULT_20191112_[679].dat이 없어 60초 대기후 다시 확인합니다(최대60회).\n",
      "파일 TEOS_TO_SON_RL_RESULT_20191112_[679].dat이 없어 60초 대기후 다시 확인합니다(최대60회).\n"
     ]
    },
    {
     "name": "stdout",
     "output_type": "stream",
     "text": [
      "파일 TEOS_TO_SON_RL_RESULT_20191112_[679].dat이 없어 60초 대기후 다시 확인합니다(최대60회).\n",
      "파일 TEOS_TO_SON_RL_RESULT_20191112_[679].dat이 없어 60초 대기후 다시 확인합니다(최대60회).\n",
      "파일 TEOS_TO_SON_RL_RESULT_20191112_[679].dat이 없어 60초 대기후 다시 확인합니다(최대60회).\n",
      "파일 TEOS_TO_SON_RL_RESULT_20191112_[679].dat이 없어 60초 대기후 다시 확인합니다(최대60회).\n",
      "파일 TEOS_TO_SON_RL_RESULT_20191112_[679].dat이 없어 60초 대기후 다시 확인합니다(최대60회).\n",
      "파일 TEOS_TO_SON_RL_RESULT_20191112_[679].dat이 없어 60초 대기후 다시 확인합니다(최대60회).\n",
      "파일 TEOS_TO_SON_RL_RESULT_20191112_[679].dat이 없어 60초 대기후 다시 확인합니다(최대60회).\n",
      "| \u001b[0m 8       \u001b[0m | \u001b[0m 17.03   \u001b[0m | \u001b[0m 3.662   \u001b[0m | \u001b[0m 7.363   \u001b[0m | \u001b[0m 7.033   \u001b[0m | \u001b[0m 2.021   \u001b[0m | \u001b[0m 2.784   \u001b[0m | \u001b[0m 1.461   \u001b[0m | \u001b[0m 7.214   \u001b[0m | \u001b[0m 5.652   \u001b[0m | \u001b[0m 5.813   \u001b[0m | \u001b[0m 7.201   \u001b[0m | \u001b[0m 6.233   \u001b[0m | \u001b[0m 4.793   \u001b[0m | \u001b[0m 2.329   \u001b[0m | \u001b[0m 1.211   \u001b[0m | \u001b[0m 2.681   \u001b[0m | \u001b[0m 5.26    \u001b[0m |\n",
      "Request 파일(/home/tangosvc/code/data/20191112/SON_TO_TEOS_RL_REQUEST_20191112_[680].dat)을 생성합니다.\n",
      "\n",
      "TEOS_TO_SON_RL_RESULT_20191112_[680].dat에 대한 get명령을 실행합니다.\n",
      "파일 TEOS_TO_SON_RL_RESULT_20191112_[680].dat이 없어 60초 대기후 다시 확인합니다(최대60회).\n",
      "파일 TEOS_TO_SON_RL_RESULT_20191112_[680].dat이 없어 60초 대기후 다시 확인합니다(최대60회).\n",
      "파일 TEOS_TO_SON_RL_RESULT_20191112_[680].dat이 없어 60초 대기후 다시 확인합니다(최대60회).\n",
      "파일 TEOS_TO_SON_RL_RESULT_20191112_[680].dat이 없어 60초 대기후 다시 확인합니다(최대60회).\n",
      "파일 TEOS_TO_SON_RL_RESULT_20191112_[680].dat이 없어 60초 대기후 다시 확인합니다(최대60회).\n",
      "파일 TEOS_TO_SON_RL_RESULT_20191112_[680].dat이 없어 60초 대기후 다시 확인합니다(최대60회).\n",
      "파일 TEOS_TO_SON_RL_RESULT_20191112_[680].dat이 없어 60초 대기후 다시 확인합니다(최대60회).\n",
      "파일 TEOS_TO_SON_RL_RESULT_20191112_[680].dat이 없어 60초 대기후 다시 확인합니다(최대60회).\n",
      "파일 TEOS_TO_SON_RL_RESULT_20191112_[680].dat이 없어 60초 대기후 다시 확인합니다(최대60회).\n",
      "파일 TEOS_TO_SON_RL_RESULT_20191112_[680].dat이 없어 60초 대기후 다시 확인합니다(최대60회).\n",
      "| \u001b[0m 9       \u001b[0m | \u001b[0m 13.92   \u001b[0m | \u001b[0m 0.5867  \u001b[0m | \u001b[0m 0.4401  \u001b[0m | \u001b[0m 2.586   \u001b[0m | \u001b[0m 4.724   \u001b[0m | \u001b[0m 6.831   \u001b[0m | \u001b[0m 2.296   \u001b[0m | \u001b[0m 1.385   \u001b[0m | \u001b[0m 1.072   \u001b[0m | \u001b[0m 7.957   \u001b[0m | \u001b[0m 1.436   \u001b[0m | \u001b[0m 2.54    \u001b[0m | \u001b[0m 4.546   \u001b[0m | \u001b[0m 0.07479 \u001b[0m | \u001b[0m 7.205   \u001b[0m | \u001b[0m 7.818   \u001b[0m | \u001b[0m 4.455   \u001b[0m |\n",
      "Request 파일(/home/tangosvc/code/data/20191112/SON_TO_TEOS_RL_REQUEST_20191112_[681].dat)을 생성합니다.\n",
      "\n",
      "TEOS_TO_SON_RL_RESULT_20191112_[681].dat에 대한 get명령을 실행합니다.\n",
      "파일 TEOS_TO_SON_RL_RESULT_20191112_[681].dat이 없어 60초 대기후 다시 확인합니다(최대60회).\n",
      "파일 TEOS_TO_SON_RL_RESULT_20191112_[681].dat이 없어 60초 대기후 다시 확인합니다(최대60회).\n",
      "파일 TEOS_TO_SON_RL_RESULT_20191112_[681].dat이 없어 60초 대기후 다시 확인합니다(최대60회).\n",
      "파일 TEOS_TO_SON_RL_RESULT_20191112_[681].dat이 없어 60초 대기후 다시 확인합니다(최대60회).\n",
      "파일 TEOS_TO_SON_RL_RESULT_20191112_[681].dat이 없어 60초 대기후 다시 확인합니다(최대60회).\n",
      "파일 TEOS_TO_SON_RL_RESULT_20191112_[681].dat이 없어 60초 대기후 다시 확인합니다(최대60회).\n",
      "파일 TEOS_TO_SON_RL_RESULT_20191112_[681].dat이 없어 60초 대기후 다시 확인합니다(최대60회).\n",
      "파일 TEOS_TO_SON_RL_RESULT_20191112_[681].dat이 없어 60초 대기후 다시 확인합니다(최대60회).\n",
      "파일 TEOS_TO_SON_RL_RESULT_20191112_[681].dat이 없어 60초 대기후 다시 확인합니다(최대60회).\n",
      "파일 TEOS_TO_SON_RL_RESULT_20191112_[681].dat이 없어 60초 대기후 다시 확인합니다(최대60회).\n",
      "| \u001b[95m 10      \u001b[0m | \u001b[95m 17.41   \u001b[0m | \u001b[95m 0.6782  \u001b[0m | \u001b[95m 2.664   \u001b[0m | \u001b[95m 5.827   \u001b[0m | \u001b[95m 1.139   \u001b[0m | \u001b[95m 4.42    \u001b[0m | \u001b[95m 2.184   \u001b[0m | \u001b[95m 7.796   \u001b[0m | \u001b[95m 5.342   \u001b[0m | \u001b[95m 2.045   \u001b[0m | \u001b[95m 0.8665  \u001b[0m | \u001b[95m 6.209   \u001b[0m | \u001b[95m 6.26    \u001b[0m | \u001b[95m 6.093   \u001b[0m | \u001b[95m 7.315   \u001b[0m | \u001b[95m 5.269   \u001b[0m | \u001b[95m 4.547   \u001b[0m |\n"
     ]
    },
    {
     "name": "stderr",
     "output_type": "stream",
     "text": [
      "/home/tangosvc/anaconda3/lib/python3.7/site-packages/ipykernel_launcher.py:229: SettingWithCopyWarning: \n",
      "A value is trying to be set on a copy of a slice from a DataFrame\n",
      "\n",
      "See the caveats in the documentation: http://pandas.pydata.org/pandas-docs/stable/indexing.html#indexing-view-versus-copy\n"
     ]
    },
    {
     "name": "stdout",
     "output_type": "stream",
     "text": [
      "Request 파일(/home/tangosvc/code/data/20191112/SON_TO_TEOS_RL_REQUEST_20191112_[682].dat)을 생성합니다.\n",
      "\n",
      "TEOS_TO_SON_RL_RESULT_20191112_[682].dat에 대한 get명령을 실행합니다.\n",
      "파일 TEOS_TO_SON_RL_RESULT_20191112_[682].dat이 없어 60초 대기후 다시 확인합니다(최대60회).\n",
      "파일 TEOS_TO_SON_RL_RESULT_20191112_[682].dat이 없어 60초 대기후 다시 확인합니다(최대60회).\n",
      "파일 TEOS_TO_SON_RL_RESULT_20191112_[682].dat이 없어 60초 대기후 다시 확인합니다(최대60회).\n",
      "파일 TEOS_TO_SON_RL_RESULT_20191112_[682].dat이 없어 60초 대기후 다시 확인합니다(최대60회).\n",
      "파일 TEOS_TO_SON_RL_RESULT_20191112_[682].dat이 없어 60초 대기후 다시 확인합니다(최대60회).\n",
      "파일 TEOS_TO_SON_RL_RESULT_20191112_[682].dat이 없어 60초 대기후 다시 확인합니다(최대60회).\n",
      "파일 TEOS_TO_SON_RL_RESULT_20191112_[682].dat이 없어 60초 대기후 다시 확인합니다(최대60회).\n",
      "파일 TEOS_TO_SON_RL_RESULT_20191112_[682].dat이 없어 60초 대기후 다시 확인합니다(최대60회).\n",
      "파일 TEOS_TO_SON_RL_RESULT_20191112_[682].dat이 없어 60초 대기후 다시 확인합니다(최대60회).\n",
      "파일 TEOS_TO_SON_RL_RESULT_20191112_[682].dat이 없어 60초 대기후 다시 확인합니다(최대60회).\n"
     ]
    },
    {
     "name": "stderr",
     "output_type": "stream",
     "text": [
      "/home/tangosvc/anaconda3/lib/python3.7/site-packages/pandas/core/reshape/merge.py:522: UserWarning: merging between different levels can give an unintended result (2 levels on the left, 1 on the right)\n",
      "  warnings.warn(msg, UserWarning)\n"
     ]
    },
    {
     "name": "stdout",
     "output_type": "stream",
     "text": [
      "| \u001b[95m 11      \u001b[0m | \u001b[95m 17.9    \u001b[0m | \u001b[95m 2.134   \u001b[0m | \u001b[95m 5.235   \u001b[0m | \u001b[95m 7.082   \u001b[0m | \u001b[95m 1.921   \u001b[0m | \u001b[95m 4.995   \u001b[0m | \u001b[95m 0.966   \u001b[0m | \u001b[95m 7.497   \u001b[0m | \u001b[95m 6.447   \u001b[0m | \u001b[95m 3.962   \u001b[0m | \u001b[95m 4.12    \u001b[0m | \u001b[95m 5.404   \u001b[0m | \u001b[95m 5.201   \u001b[0m | \u001b[95m 4.808   \u001b[0m | \u001b[95m 6.331   \u001b[0m | \u001b[95m 4.804   \u001b[0m | \u001b[95m 4.615   \u001b[0m |\n"
     ]
    },
    {
     "name": "stderr",
     "output_type": "stream",
     "text": [
      "/home/tangosvc/anaconda3/lib/python3.7/site-packages/ipykernel_launcher.py:229: SettingWithCopyWarning: \n",
      "A value is trying to be set on a copy of a slice from a DataFrame\n",
      "\n",
      "See the caveats in the documentation: http://pandas.pydata.org/pandas-docs/stable/indexing.html#indexing-view-versus-copy\n"
     ]
    },
    {
     "name": "stdout",
     "output_type": "stream",
     "text": [
      "Request 파일(/home/tangosvc/code/data/20191112/SON_TO_TEOS_RL_REQUEST_20191112_[683].dat)을 생성합니다.\n",
      "\n",
      "TEOS_TO_SON_RL_RESULT_20191112_[683].dat에 대한 get명령을 실행합니다.\n",
      "파일 TEOS_TO_SON_RL_RESULT_20191112_[683].dat이 없어 60초 대기후 다시 확인합니다(최대60회).\n",
      "파일 TEOS_TO_SON_RL_RESULT_20191112_[683].dat이 없어 60초 대기후 다시 확인합니다(최대60회).\n",
      "파일 TEOS_TO_SON_RL_RESULT_20191112_[683].dat이 없어 60초 대기후 다시 확인합니다(최대60회).\n",
      "파일 TEOS_TO_SON_RL_RESULT_20191112_[683].dat이 없어 60초 대기후 다시 확인합니다(최대60회).\n",
      "파일 TEOS_TO_SON_RL_RESULT_20191112_[683].dat이 없어 60초 대기후 다시 확인합니다(최대60회).\n",
      "파일 TEOS_TO_SON_RL_RESULT_20191112_[683].dat이 없어 60초 대기후 다시 확인합니다(최대60회).\n",
      "파일 TEOS_TO_SON_RL_RESULT_20191112_[683].dat이 없어 60초 대기후 다시 확인합니다(최대60회).\n",
      "파일 TEOS_TO_SON_RL_RESULT_20191112_[683].dat이 없어 60초 대기후 다시 확인합니다(최대60회).\n",
      "파일 TEOS_TO_SON_RL_RESULT_20191112_[683].dat이 없어 60초 대기후 다시 확인합니다(최대60회).\n"
     ]
    },
    {
     "name": "stderr",
     "output_type": "stream",
     "text": [
      "/home/tangosvc/anaconda3/lib/python3.7/site-packages/pandas/core/reshape/merge.py:522: UserWarning: merging between different levels can give an unintended result (2 levels on the left, 1 on the right)\n",
      "  warnings.warn(msg, UserWarning)\n"
     ]
    },
    {
     "name": "stdout",
     "output_type": "stream",
     "text": [
      "| \u001b[0m 12      \u001b[0m | \u001b[0m 16.09   \u001b[0m | \u001b[0m 1.678   \u001b[0m | \u001b[0m 5.147   \u001b[0m | \u001b[0m 8.0     \u001b[0m | \u001b[0m 1.785   \u001b[0m | \u001b[0m 6.751   \u001b[0m | \u001b[0m 0.0     \u001b[0m | \u001b[0m 8.0     \u001b[0m | \u001b[0m 7.443   \u001b[0m | \u001b[0m 2.894   \u001b[0m | \u001b[0m 2.535   \u001b[0m | \u001b[0m 3.697   \u001b[0m | \u001b[0m 4.839   \u001b[0m | \u001b[0m 6.808   \u001b[0m | \u001b[0m 8.0     \u001b[0m | \u001b[0m 6.227   \u001b[0m | \u001b[0m 4.873   \u001b[0m |\n"
     ]
    },
    {
     "name": "stderr",
     "output_type": "stream",
     "text": [
      "/home/tangosvc/anaconda3/lib/python3.7/site-packages/ipykernel_launcher.py:229: SettingWithCopyWarning: \n",
      "A value is trying to be set on a copy of a slice from a DataFrame\n",
      "\n",
      "See the caveats in the documentation: http://pandas.pydata.org/pandas-docs/stable/indexing.html#indexing-view-versus-copy\n"
     ]
    },
    {
     "name": "stdout",
     "output_type": "stream",
     "text": [
      "Request 파일(/home/tangosvc/code/data/20191112/SON_TO_TEOS_RL_REQUEST_20191112_[684].dat)을 생성합니다.\n",
      "\n",
      "TEOS_TO_SON_RL_RESULT_20191112_[684].dat에 대한 get명령을 실행합니다.\n",
      "파일 TEOS_TO_SON_RL_RESULT_20191112_[684].dat이 없어 60초 대기후 다시 확인합니다(최대60회).\n",
      "파일 TEOS_TO_SON_RL_RESULT_20191112_[684].dat이 없어 60초 대기후 다시 확인합니다(최대60회).\n",
      "파일 TEOS_TO_SON_RL_RESULT_20191112_[684].dat이 없어 60초 대기후 다시 확인합니다(최대60회).\n",
      "파일 TEOS_TO_SON_RL_RESULT_20191112_[684].dat이 없어 60초 대기후 다시 확인합니다(최대60회).\n",
      "파일 TEOS_TO_SON_RL_RESULT_20191112_[684].dat이 없어 60초 대기후 다시 확인합니다(최대60회).\n",
      "파일 TEOS_TO_SON_RL_RESULT_20191112_[684].dat이 없어 60초 대기후 다시 확인합니다(최대60회).\n",
      "파일 TEOS_TO_SON_RL_RESULT_20191112_[684].dat이 없어 60초 대기후 다시 확인합니다(최대60회).\n",
      "파일 TEOS_TO_SON_RL_RESULT_20191112_[684].dat이 없어 60초 대기후 다시 확인합니다(최대60회).\n",
      "파일 TEOS_TO_SON_RL_RESULT_20191112_[684].dat이 없어 60초 대기후 다시 확인합니다(최대60회).\n",
      "파일 TEOS_TO_SON_RL_RESULT_20191112_[684].dat이 없어 60초 대기후 다시 확인합니다(최대60회).\n"
     ]
    },
    {
     "name": "stderr",
     "output_type": "stream",
     "text": [
      "/home/tangosvc/anaconda3/lib/python3.7/site-packages/pandas/core/reshape/merge.py:522: UserWarning: merging between different levels can give an unintended result (2 levels on the left, 1 on the right)\n",
      "  warnings.warn(msg, UserWarning)\n"
     ]
    },
    {
     "name": "stdout",
     "output_type": "stream",
     "text": [
      "| \u001b[95m 13      \u001b[0m | \u001b[95m 19.61   \u001b[0m | \u001b[95m 1.447   \u001b[0m | \u001b[95m 4.857   \u001b[0m | \u001b[95m 5.957   \u001b[0m | \u001b[95m 0.5032  \u001b[0m | \u001b[95m 3.596   \u001b[0m | \u001b[95m 1.85    \u001b[0m | \u001b[95m 7.934   \u001b[0m | \u001b[95m 5.55    \u001b[0m | \u001b[95m 3.714   \u001b[0m | \u001b[95m 4.582   \u001b[0m | \u001b[95m 8.0     \u001b[0m | \u001b[95m 5.957   \u001b[0m | \u001b[95m 4.108   \u001b[0m | \u001b[95m 5.364   \u001b[0m | \u001b[95m 4.365   \u001b[0m | \u001b[95m 4.579   \u001b[0m |\n"
     ]
    },
    {
     "name": "stderr",
     "output_type": "stream",
     "text": [
      "/home/tangosvc/anaconda3/lib/python3.7/site-packages/ipykernel_launcher.py:229: SettingWithCopyWarning: \n",
      "A value is trying to be set on a copy of a slice from a DataFrame\n",
      "\n",
      "See the caveats in the documentation: http://pandas.pydata.org/pandas-docs/stable/indexing.html#indexing-view-versus-copy\n"
     ]
    },
    {
     "name": "stdout",
     "output_type": "stream",
     "text": [
      "Request 파일(/home/tangosvc/code/data/20191112/SON_TO_TEOS_RL_REQUEST_20191112_[685].dat)을 생성합니다.\n",
      "\n",
      "TEOS_TO_SON_RL_RESULT_20191112_[685].dat에 대한 get명령을 실행합니다.\n",
      "파일 TEOS_TO_SON_RL_RESULT_20191112_[685].dat이 없어 60초 대기후 다시 확인합니다(최대60회).\n",
      "파일 TEOS_TO_SON_RL_RESULT_20191112_[685].dat이 없어 60초 대기후 다시 확인합니다(최대60회).\n",
      "파일 TEOS_TO_SON_RL_RESULT_20191112_[685].dat이 없어 60초 대기후 다시 확인합니다(최대60회).\n",
      "파일 TEOS_TO_SON_RL_RESULT_20191112_[685].dat이 없어 60초 대기후 다시 확인합니다(최대60회).\n",
      "파일 TEOS_TO_SON_RL_RESULT_20191112_[685].dat이 없어 60초 대기후 다시 확인합니다(최대60회).\n",
      "파일 TEOS_TO_SON_RL_RESULT_20191112_[685].dat이 없어 60초 대기후 다시 확인합니다(최대60회).\n",
      "파일 TEOS_TO_SON_RL_RESULT_20191112_[685].dat이 없어 60초 대기후 다시 확인합니다(최대60회).\n",
      "파일 TEOS_TO_SON_RL_RESULT_20191112_[685].dat이 없어 60초 대기후 다시 확인합니다(최대60회).\n",
      "파일 TEOS_TO_SON_RL_RESULT_20191112_[685].dat이 없어 60초 대기후 다시 확인합니다(최대60회).\n",
      "파일 TEOS_TO_SON_RL_RESULT_20191112_[685].dat이 없어 60초 대기후 다시 확인합니다(최대60회).\n"
     ]
    },
    {
     "name": "stderr",
     "output_type": "stream",
     "text": [
      "/home/tangosvc/anaconda3/lib/python3.7/site-packages/pandas/core/reshape/merge.py:522: UserWarning: merging between different levels can give an unintended result (2 levels on the left, 1 on the right)\n",
      "  warnings.warn(msg, UserWarning)\n"
     ]
    },
    {
     "name": "stdout",
     "output_type": "stream",
     "text": [
      "| \u001b[0m 14      \u001b[0m | \u001b[0m 17.41   \u001b[0m | \u001b[0m 0.2833  \u001b[0m | \u001b[0m 5.551   \u001b[0m | \u001b[0m 6.416   \u001b[0m | \u001b[0m 0.0     \u001b[0m | \u001b[0m 2.655   \u001b[0m | \u001b[0m 1.992   \u001b[0m | \u001b[0m 8.0     \u001b[0m | \u001b[0m 5.256   \u001b[0m | \u001b[0m 2.982   \u001b[0m | \u001b[0m 5.657   \u001b[0m | \u001b[0m 8.0     \u001b[0m | \u001b[0m 6.657   \u001b[0m | \u001b[0m 3.659   \u001b[0m | \u001b[0m 6.092   \u001b[0m | \u001b[0m 4.485   \u001b[0m | \u001b[0m 4.748   \u001b[0m |\n"
     ]
    },
    {
     "name": "stderr",
     "output_type": "stream",
     "text": [
      "/home/tangosvc/anaconda3/lib/python3.7/site-packages/ipykernel_launcher.py:229: SettingWithCopyWarning: \n",
      "A value is trying to be set on a copy of a slice from a DataFrame\n",
      "\n",
      "See the caveats in the documentation: http://pandas.pydata.org/pandas-docs/stable/indexing.html#indexing-view-versus-copy\n"
     ]
    },
    {
     "name": "stdout",
     "output_type": "stream",
     "text": [
      "Request 파일(/home/tangosvc/code/data/20191112/SON_TO_TEOS_RL_REQUEST_20191112_[686].dat)을 생성합니다.\n",
      "\n",
      "TEOS_TO_SON_RL_RESULT_20191112_[686].dat에 대한 get명령을 실행합니다.\n",
      "파일 TEOS_TO_SON_RL_RESULT_20191112_[686].dat이 없어 60초 대기후 다시 확인합니다(최대60회).\n",
      "파일 TEOS_TO_SON_RL_RESULT_20191112_[686].dat이 없어 60초 대기후 다시 확인합니다(최대60회).\n",
      "파일 TEOS_TO_SON_RL_RESULT_20191112_[686].dat이 없어 60초 대기후 다시 확인합니다(최대60회).\n",
      "파일 TEOS_TO_SON_RL_RESULT_20191112_[686].dat이 없어 60초 대기후 다시 확인합니다(최대60회).\n",
      "파일 TEOS_TO_SON_RL_RESULT_20191112_[686].dat이 없어 60초 대기후 다시 확인합니다(최대60회).\n",
      "파일 TEOS_TO_SON_RL_RESULT_20191112_[686].dat이 없어 60초 대기후 다시 확인합니다(최대60회).\n",
      "파일 TEOS_TO_SON_RL_RESULT_20191112_[686].dat이 없어 60초 대기후 다시 확인합니다(최대60회).\n",
      "파일 TEOS_TO_SON_RL_RESULT_20191112_[686].dat이 없어 60초 대기후 다시 확인합니다(최대60회).\n",
      "파일 TEOS_TO_SON_RL_RESULT_20191112_[686].dat이 없어 60초 대기후 다시 확인합니다(최대60회).\n"
     ]
    },
    {
     "name": "stderr",
     "output_type": "stream",
     "text": [
      "/home/tangosvc/anaconda3/lib/python3.7/site-packages/pandas/core/reshape/merge.py:522: UserWarning: merging between different levels can give an unintended result (2 levels on the left, 1 on the right)\n",
      "  warnings.warn(msg, UserWarning)\n"
     ]
    },
    {
     "name": "stdout",
     "output_type": "stream",
     "text": [
      "| \u001b[0m 15      \u001b[0m | \u001b[0m 19.34   \u001b[0m | \u001b[0m 2.366   \u001b[0m | \u001b[0m 4.269   \u001b[0m | \u001b[0m 5.557   \u001b[0m | \u001b[0m 0.6458  \u001b[0m | \u001b[0m 4.217   \u001b[0m | \u001b[0m 1.847   \u001b[0m | \u001b[0m 8.0     \u001b[0m | \u001b[0m 5.66    \u001b[0m | \u001b[0m 4.203   \u001b[0m | \u001b[0m 3.55    \u001b[0m | \u001b[0m 8.0     \u001b[0m | \u001b[0m 5.415   \u001b[0m | \u001b[0m 4.503   \u001b[0m | \u001b[0m 4.461   \u001b[0m | \u001b[0m 4.232   \u001b[0m | \u001b[0m 4.548   \u001b[0m |\n"
     ]
    },
    {
     "name": "stderr",
     "output_type": "stream",
     "text": [
      "/home/tangosvc/anaconda3/lib/python3.7/site-packages/ipykernel_launcher.py:229: SettingWithCopyWarning: \n",
      "A value is trying to be set on a copy of a slice from a DataFrame\n",
      "\n",
      "See the caveats in the documentation: http://pandas.pydata.org/pandas-docs/stable/indexing.html#indexing-view-versus-copy\n"
     ]
    },
    {
     "name": "stdout",
     "output_type": "stream",
     "text": [
      "Request 파일(/home/tangosvc/code/data/20191112/SON_TO_TEOS_RL_REQUEST_20191112_[687].dat)을 생성합니다.\n",
      "\n",
      "TEOS_TO_SON_RL_RESULT_20191112_[687].dat에 대한 get명령을 실행합니다.\n",
      "파일 TEOS_TO_SON_RL_RESULT_20191112_[687].dat이 없어 60초 대기후 다시 확인합니다(최대60회).\n",
      "파일 TEOS_TO_SON_RL_RESULT_20191112_[687].dat이 없어 60초 대기후 다시 확인합니다(최대60회).\n",
      "파일 TEOS_TO_SON_RL_RESULT_20191112_[687].dat이 없어 60초 대기후 다시 확인합니다(최대60회).\n",
      "파일 TEOS_TO_SON_RL_RESULT_20191112_[687].dat이 없어 60초 대기후 다시 확인합니다(최대60회).\n",
      "파일 TEOS_TO_SON_RL_RESULT_20191112_[687].dat이 없어 60초 대기후 다시 확인합니다(최대60회).\n",
      "파일 TEOS_TO_SON_RL_RESULT_20191112_[687].dat이 없어 60초 대기후 다시 확인합니다(최대60회).\n",
      "파일 TEOS_TO_SON_RL_RESULT_20191112_[687].dat이 없어 60초 대기후 다시 확인합니다(최대60회).\n",
      "파일 TEOS_TO_SON_RL_RESULT_20191112_[687].dat이 없어 60초 대기후 다시 확인합니다(최대60회).\n",
      "파일 TEOS_TO_SON_RL_RESULT_20191112_[687].dat이 없어 60초 대기후 다시 확인합니다(최대60회).\n",
      "파일 TEOS_TO_SON_RL_RESULT_20191112_[687].dat이 없어 60초 대기후 다시 확인합니다(최대60회).\n"
     ]
    },
    {
     "name": "stderr",
     "output_type": "stream",
     "text": [
      "/home/tangosvc/anaconda3/lib/python3.7/site-packages/pandas/core/reshape/merge.py:522: UserWarning: merging between different levels can give an unintended result (2 levels on the left, 1 on the right)\n",
      "  warnings.warn(msg, UserWarning)\n"
     ]
    },
    {
     "name": "stdout",
     "output_type": "stream",
     "text": [
      "| \u001b[0m 16      \u001b[0m | \u001b[0m 18.81   \u001b[0m | \u001b[0m 2.109   \u001b[0m | \u001b[0m 3.989   \u001b[0m | \u001b[0m 5.283   \u001b[0m | \u001b[0m 0.7529  \u001b[0m | \u001b[0m 4.217   \u001b[0m | \u001b[0m 1.71    \u001b[0m | \u001b[0m 8.0     \u001b[0m | \u001b[0m 5.988   \u001b[0m | \u001b[0m 4.467   \u001b[0m | \u001b[0m 4.663   \u001b[0m | \u001b[0m 8.0     \u001b[0m | \u001b[0m 5.77    \u001b[0m | \u001b[0m 4.02    \u001b[0m | \u001b[0m 6.16    \u001b[0m | \u001b[0m 4.193   \u001b[0m | \u001b[0m 3.854   \u001b[0m |\n"
     ]
    },
    {
     "name": "stderr",
     "output_type": "stream",
     "text": [
      "/home/tangosvc/anaconda3/lib/python3.7/site-packages/ipykernel_launcher.py:229: SettingWithCopyWarning: \n",
      "A value is trying to be set on a copy of a slice from a DataFrame\n",
      "\n",
      "See the caveats in the documentation: http://pandas.pydata.org/pandas-docs/stable/indexing.html#indexing-view-versus-copy\n"
     ]
    },
    {
     "name": "stdout",
     "output_type": "stream",
     "text": [
      "Request 파일(/home/tangosvc/code/data/20191112/SON_TO_TEOS_RL_REQUEST_20191112_[688].dat)을 생성합니다.\n",
      "\n",
      "TEOS_TO_SON_RL_RESULT_20191112_[688].dat에 대한 get명령을 실행합니다.\n",
      "파일 TEOS_TO_SON_RL_RESULT_20191112_[688].dat이 없어 60초 대기후 다시 확인합니다(최대60회).\n",
      "파일 TEOS_TO_SON_RL_RESULT_20191112_[688].dat이 없어 60초 대기후 다시 확인합니다(최대60회).\n",
      "파일 TEOS_TO_SON_RL_RESULT_20191112_[688].dat이 없어 60초 대기후 다시 확인합니다(최대60회).\n",
      "파일 TEOS_TO_SON_RL_RESULT_20191112_[688].dat이 없어 60초 대기후 다시 확인합니다(최대60회).\n",
      "파일 TEOS_TO_SON_RL_RESULT_20191112_[688].dat이 없어 60초 대기후 다시 확인합니다(최대60회).\n",
      "파일 TEOS_TO_SON_RL_RESULT_20191112_[688].dat이 없어 60초 대기후 다시 확인합니다(최대60회).\n",
      "파일 TEOS_TO_SON_RL_RESULT_20191112_[688].dat이 없어 60초 대기후 다시 확인합니다(최대60회).\n",
      "파일 TEOS_TO_SON_RL_RESULT_20191112_[688].dat이 없어 60초 대기후 다시 확인합니다(최대60회).\n",
      "파일 TEOS_TO_SON_RL_RESULT_20191112_[688].dat이 없어 60초 대기후 다시 확인합니다(최대60회).\n"
     ]
    },
    {
     "name": "stderr",
     "output_type": "stream",
     "text": [
      "/home/tangosvc/anaconda3/lib/python3.7/site-packages/pandas/core/reshape/merge.py:522: UserWarning: merging between different levels can give an unintended result (2 levels on the left, 1 on the right)\n",
      "  warnings.warn(msg, UserWarning)\n"
     ]
    },
    {
     "name": "stdout",
     "output_type": "stream",
     "text": [
      "| \u001b[0m 17      \u001b[0m | \u001b[0m 17.67   \u001b[0m | \u001b[0m 1.322   \u001b[0m | \u001b[0m 5.535   \u001b[0m | \u001b[0m 5.483   \u001b[0m | \u001b[0m 1.781   \u001b[0m | \u001b[0m 4.127   \u001b[0m | \u001b[0m 1.732   \u001b[0m | \u001b[0m 8.0     \u001b[0m | \u001b[0m 5.314   \u001b[0m | \u001b[0m 3.823   \u001b[0m | \u001b[0m 3.893   \u001b[0m | \u001b[0m 8.0     \u001b[0m | \u001b[0m 5.756   \u001b[0m | \u001b[0m 4.183   \u001b[0m | \u001b[0m 4.589   \u001b[0m | \u001b[0m 4.978   \u001b[0m | \u001b[0m 4.745   \u001b[0m |\n"
     ]
    },
    {
     "name": "stderr",
     "output_type": "stream",
     "text": [
      "/home/tangosvc/anaconda3/lib/python3.7/site-packages/ipykernel_launcher.py:229: SettingWithCopyWarning: \n",
      "A value is trying to be set on a copy of a slice from a DataFrame\n",
      "\n",
      "See the caveats in the documentation: http://pandas.pydata.org/pandas-docs/stable/indexing.html#indexing-view-versus-copy\n"
     ]
    },
    {
     "name": "stdout",
     "output_type": "stream",
     "text": [
      "Request 파일(/home/tangosvc/code/data/20191112/SON_TO_TEOS_RL_REQUEST_20191112_[689].dat)을 생성합니다.\n",
      "\n",
      "TEOS_TO_SON_RL_RESULT_20191112_[689].dat에 대한 get명령을 실행합니다.\n",
      "파일 TEOS_TO_SON_RL_RESULT_20191112_[689].dat이 없어 60초 대기후 다시 확인합니다(최대60회).\n",
      "파일 TEOS_TO_SON_RL_RESULT_20191112_[689].dat이 없어 60초 대기후 다시 확인합니다(최대60회).\n",
      "파일 TEOS_TO_SON_RL_RESULT_20191112_[689].dat이 없어 60초 대기후 다시 확인합니다(최대60회).\n",
      "파일 TEOS_TO_SON_RL_RESULT_20191112_[689].dat이 없어 60초 대기후 다시 확인합니다(최대60회).\n",
      "파일 TEOS_TO_SON_RL_RESULT_20191112_[689].dat이 없어 60초 대기후 다시 확인합니다(최대60회).\n",
      "파일 TEOS_TO_SON_RL_RESULT_20191112_[689].dat이 없어 60초 대기후 다시 확인합니다(최대60회).\n",
      "파일 TEOS_TO_SON_RL_RESULT_20191112_[689].dat이 없어 60초 대기후 다시 확인합니다(최대60회).\n",
      "파일 TEOS_TO_SON_RL_RESULT_20191112_[689].dat이 없어 60초 대기후 다시 확인합니다(최대60회).\n",
      "파일 TEOS_TO_SON_RL_RESULT_20191112_[689].dat이 없어 60초 대기후 다시 확인합니다(최대60회).\n"
     ]
    },
    {
     "name": "stderr",
     "output_type": "stream",
     "text": [
      "/home/tangosvc/anaconda3/lib/python3.7/site-packages/pandas/core/reshape/merge.py:522: UserWarning: merging between different levels can give an unintended result (2 levels on the left, 1 on the right)\n",
      "  warnings.warn(msg, UserWarning)\n"
     ]
    },
    {
     "name": "stdout",
     "output_type": "stream",
     "text": [
      "| \u001b[0m 18      \u001b[0m | \u001b[0m 19.29   \u001b[0m | \u001b[0m 2.153   \u001b[0m | \u001b[0m 4.035   \u001b[0m | \u001b[0m 6.667   \u001b[0m | \u001b[0m 0.0     \u001b[0m | \u001b[0m 3.605   \u001b[0m | \u001b[0m 1.878   \u001b[0m | \u001b[0m 7.717   \u001b[0m | \u001b[0m 5.837   \u001b[0m | \u001b[0m 3.638   \u001b[0m | \u001b[0m 4.073   \u001b[0m | \u001b[0m 7.444   \u001b[0m | \u001b[0m 5.646   \u001b[0m | \u001b[0m 4.641   \u001b[0m | \u001b[0m 5.329   \u001b[0m | \u001b[0m 3.82    \u001b[0m | \u001b[0m 4.732   \u001b[0m |\n"
     ]
    },
    {
     "name": "stderr",
     "output_type": "stream",
     "text": [
      "/home/tangosvc/anaconda3/lib/python3.7/site-packages/ipykernel_launcher.py:229: SettingWithCopyWarning: \n",
      "A value is trying to be set on a copy of a slice from a DataFrame\n",
      "\n",
      "See the caveats in the documentation: http://pandas.pydata.org/pandas-docs/stable/indexing.html#indexing-view-versus-copy\n"
     ]
    },
    {
     "name": "stdout",
     "output_type": "stream",
     "text": [
      "Request 파일(/home/tangosvc/code/data/20191112/SON_TO_TEOS_RL_REQUEST_20191112_[690].dat)을 생성합니다.\n",
      "\n",
      "TEOS_TO_SON_RL_RESULT_20191112_[690].dat에 대한 get명령을 실행합니다.\n",
      "파일 TEOS_TO_SON_RL_RESULT_20191112_[690].dat이 없어 60초 대기후 다시 확인합니다(최대60회).\n",
      "파일 TEOS_TO_SON_RL_RESULT_20191112_[690].dat이 없어 60초 대기후 다시 확인합니다(최대60회).\n",
      "파일 TEOS_TO_SON_RL_RESULT_20191112_[690].dat이 없어 60초 대기후 다시 확인합니다(최대60회).\n",
      "파일 TEOS_TO_SON_RL_RESULT_20191112_[690].dat이 없어 60초 대기후 다시 확인합니다(최대60회).\n",
      "파일 TEOS_TO_SON_RL_RESULT_20191112_[690].dat이 없어 60초 대기후 다시 확인합니다(최대60회).\n",
      "파일 TEOS_TO_SON_RL_RESULT_20191112_[690].dat이 없어 60초 대기후 다시 확인합니다(최대60회).\n",
      "파일 TEOS_TO_SON_RL_RESULT_20191112_[690].dat이 없어 60초 대기후 다시 확인합니다(최대60회).\n",
      "파일 TEOS_TO_SON_RL_RESULT_20191112_[690].dat이 없어 60초 대기후 다시 확인합니다(최대60회).\n",
      "파일 TEOS_TO_SON_RL_RESULT_20191112_[690].dat이 없어 60초 대기후 다시 확인합니다(최대60회).\n",
      "파일 TEOS_TO_SON_RL_RESULT_20191112_[690].dat이 없어 60초 대기후 다시 확인합니다(최대60회).\n"
     ]
    },
    {
     "name": "stderr",
     "output_type": "stream",
     "text": [
      "/home/tangosvc/anaconda3/lib/python3.7/site-packages/pandas/core/reshape/merge.py:522: UserWarning: merging between different levels can give an unintended result (2 levels on the left, 1 on the right)\n",
      "  warnings.warn(msg, UserWarning)\n"
     ]
    },
    {
     "name": "stdout",
     "output_type": "stream",
     "text": [
      "| \u001b[0m 19      \u001b[0m | \u001b[0m 19.53   \u001b[0m | \u001b[0m 2.333   \u001b[0m | \u001b[0m 4.725   \u001b[0m | \u001b[0m 5.989   \u001b[0m | \u001b[0m 0.0     \u001b[0m | \u001b[0m 3.643   \u001b[0m | \u001b[0m 1.76    \u001b[0m | \u001b[0m 8.0     \u001b[0m | \u001b[0m 5.844   \u001b[0m | \u001b[0m 4.328   \u001b[0m | \u001b[0m 5.025   \u001b[0m | \u001b[0m 8.0     \u001b[0m | \u001b[0m 5.562   \u001b[0m | \u001b[0m 3.99    \u001b[0m | \u001b[0m 4.496   \u001b[0m | \u001b[0m 3.85    \u001b[0m | \u001b[0m 4.56    \u001b[0m |\n"
     ]
    },
    {
     "name": "stderr",
     "output_type": "stream",
     "text": [
      "/home/tangosvc/anaconda3/lib/python3.7/site-packages/ipykernel_launcher.py:229: SettingWithCopyWarning: \n",
      "A value is trying to be set on a copy of a slice from a DataFrame\n",
      "\n",
      "See the caveats in the documentation: http://pandas.pydata.org/pandas-docs/stable/indexing.html#indexing-view-versus-copy\n"
     ]
    },
    {
     "name": "stdout",
     "output_type": "stream",
     "text": [
      "Request 파일(/home/tangosvc/code/data/20191112/SON_TO_TEOS_RL_REQUEST_20191112_[691].dat)을 생성합니다.\n",
      "\n",
      "TEOS_TO_SON_RL_RESULT_20191112_[691].dat에 대한 get명령을 실행합니다.\n",
      "파일 TEOS_TO_SON_RL_RESULT_20191112_[691].dat이 없어 60초 대기후 다시 확인합니다(최대60회).\n",
      "파일 TEOS_TO_SON_RL_RESULT_20191112_[691].dat이 없어 60초 대기후 다시 확인합니다(최대60회).\n",
      "파일 TEOS_TO_SON_RL_RESULT_20191112_[691].dat이 없어 60초 대기후 다시 확인합니다(최대60회).\n",
      "파일 TEOS_TO_SON_RL_RESULT_20191112_[691].dat이 없어 60초 대기후 다시 확인합니다(최대60회).\n",
      "파일 TEOS_TO_SON_RL_RESULT_20191112_[691].dat이 없어 60초 대기후 다시 확인합니다(최대60회).\n",
      "파일 TEOS_TO_SON_RL_RESULT_20191112_[691].dat이 없어 60초 대기후 다시 확인합니다(최대60회).\n",
      "파일 TEOS_TO_SON_RL_RESULT_20191112_[691].dat이 없어 60초 대기후 다시 확인합니다(최대60회).\n",
      "파일 TEOS_TO_SON_RL_RESULT_20191112_[691].dat이 없어 60초 대기후 다시 확인합니다(최대60회).\n",
      "파일 TEOS_TO_SON_RL_RESULT_20191112_[691].dat이 없어 60초 대기후 다시 확인합니다(최대60회).\n"
     ]
    },
    {
     "name": "stderr",
     "output_type": "stream",
     "text": [
      "/home/tangosvc/anaconda3/lib/python3.7/site-packages/pandas/core/reshape/merge.py:522: UserWarning: merging between different levels can give an unintended result (2 levels on the left, 1 on the right)\n",
      "  warnings.warn(msg, UserWarning)\n"
     ]
    },
    {
     "name": "stdout",
     "output_type": "stream",
     "text": [
      "| \u001b[0m 20      \u001b[0m | \u001b[0m 19.38   \u001b[0m | \u001b[0m 1.646   \u001b[0m | \u001b[0m 3.75    \u001b[0m | \u001b[0m 5.227   \u001b[0m | \u001b[0m 0.0     \u001b[0m | \u001b[0m 3.318   \u001b[0m | \u001b[0m 2.318   \u001b[0m | \u001b[0m 8.0     \u001b[0m | \u001b[0m 5.464   \u001b[0m | \u001b[0m 3.786   \u001b[0m | \u001b[0m 4.498   \u001b[0m | \u001b[0m 8.0     \u001b[0m | \u001b[0m 5.997   \u001b[0m | \u001b[0m 4.426   \u001b[0m | \u001b[0m 4.609   \u001b[0m | \u001b[0m 4.014   \u001b[0m | \u001b[0m 4.564   \u001b[0m |\n"
     ]
    },
    {
     "name": "stderr",
     "output_type": "stream",
     "text": [
      "/home/tangosvc/anaconda3/lib/python3.7/site-packages/ipykernel_launcher.py:229: SettingWithCopyWarning: \n",
      "A value is trying to be set on a copy of a slice from a DataFrame\n",
      "\n",
      "See the caveats in the documentation: http://pandas.pydata.org/pandas-docs/stable/indexing.html#indexing-view-versus-copy\n"
     ]
    },
    {
     "name": "stdout",
     "output_type": "stream",
     "text": [
      "Request 파일(/home/tangosvc/code/data/20191112/SON_TO_TEOS_RL_REQUEST_20191112_[692].dat)을 생성합니다.\n",
      "\n",
      "TEOS_TO_SON_RL_RESULT_20191112_[692].dat에 대한 get명령을 실행합니다.\n",
      "파일 TEOS_TO_SON_RL_RESULT_20191112_[692].dat이 없어 60초 대기후 다시 확인합니다(최대60회).\n",
      "파일 TEOS_TO_SON_RL_RESULT_20191112_[692].dat이 없어 60초 대기후 다시 확인합니다(최대60회).\n",
      "파일 TEOS_TO_SON_RL_RESULT_20191112_[692].dat이 없어 60초 대기후 다시 확인합니다(최대60회).\n",
      "파일 TEOS_TO_SON_RL_RESULT_20191112_[692].dat이 없어 60초 대기후 다시 확인합니다(최대60회).\n",
      "파일 TEOS_TO_SON_RL_RESULT_20191112_[692].dat이 없어 60초 대기후 다시 확인합니다(최대60회).\n",
      "파일 TEOS_TO_SON_RL_RESULT_20191112_[692].dat이 없어 60초 대기후 다시 확인합니다(최대60회).\n",
      "파일 TEOS_TO_SON_RL_RESULT_20191112_[692].dat이 없어 60초 대기후 다시 확인합니다(최대60회).\n",
      "파일 TEOS_TO_SON_RL_RESULT_20191112_[692].dat이 없어 60초 대기후 다시 확인합니다(최대60회).\n",
      "파일 TEOS_TO_SON_RL_RESULT_20191112_[692].dat이 없어 60초 대기후 다시 확인합니다(최대60회).\n"
     ]
    },
    {
     "name": "stderr",
     "output_type": "stream",
     "text": [
      "/home/tangosvc/anaconda3/lib/python3.7/site-packages/pandas/core/reshape/merge.py:522: UserWarning: merging between different levels can give an unintended result (2 levels on the left, 1 on the right)\n",
      "  warnings.warn(msg, UserWarning)\n"
     ]
    },
    {
     "name": "stdout",
     "output_type": "stream",
     "text": [
      "| \u001b[0m 21      \u001b[0m | \u001b[0m 18.91   \u001b[0m | \u001b[0m 2.226   \u001b[0m | \u001b[0m 4.652   \u001b[0m | \u001b[0m 5.948   \u001b[0m | \u001b[0m 0.0     \u001b[0m | \u001b[0m 3.356   \u001b[0m | \u001b[0m 2.049   \u001b[0m | \u001b[0m 8.0     \u001b[0m | \u001b[0m 5.117   \u001b[0m | \u001b[0m 4.127   \u001b[0m | \u001b[0m 3.639   \u001b[0m | \u001b[0m 8.0     \u001b[0m | \u001b[0m 5.858   \u001b[0m | \u001b[0m 3.397   \u001b[0m | \u001b[0m 5.18    \u001b[0m | \u001b[0m 3.727   \u001b[0m | \u001b[0m 4.276   \u001b[0m |\n"
     ]
    },
    {
     "name": "stderr",
     "output_type": "stream",
     "text": [
      "/home/tangosvc/anaconda3/lib/python3.7/site-packages/ipykernel_launcher.py:229: SettingWithCopyWarning: \n",
      "A value is trying to be set on a copy of a slice from a DataFrame\n",
      "\n",
      "See the caveats in the documentation: http://pandas.pydata.org/pandas-docs/stable/indexing.html#indexing-view-versus-copy\n"
     ]
    },
    {
     "name": "stdout",
     "output_type": "stream",
     "text": [
      "Request 파일(/home/tangosvc/code/data/20191112/SON_TO_TEOS_RL_REQUEST_20191112_[693].dat)을 생성합니다.\n",
      "\n",
      "TEOS_TO_SON_RL_RESULT_20191112_[693].dat에 대한 get명령을 실행합니다.\n",
      "파일 TEOS_TO_SON_RL_RESULT_20191112_[693].dat이 없어 60초 대기후 다시 확인합니다(최대60회).\n",
      "파일 TEOS_TO_SON_RL_RESULT_20191112_[693].dat이 없어 60초 대기후 다시 확인합니다(최대60회).\n",
      "파일 TEOS_TO_SON_RL_RESULT_20191112_[693].dat이 없어 60초 대기후 다시 확인합니다(최대60회).\n",
      "파일 TEOS_TO_SON_RL_RESULT_20191112_[693].dat이 없어 60초 대기후 다시 확인합니다(최대60회).\n",
      "파일 TEOS_TO_SON_RL_RESULT_20191112_[693].dat이 없어 60초 대기후 다시 확인합니다(최대60회).\n",
      "파일 TEOS_TO_SON_RL_RESULT_20191112_[693].dat이 없어 60초 대기후 다시 확인합니다(최대60회).\n",
      "파일 TEOS_TO_SON_RL_RESULT_20191112_[693].dat이 없어 60초 대기후 다시 확인합니다(최대60회).\n",
      "파일 TEOS_TO_SON_RL_RESULT_20191112_[693].dat이 없어 60초 대기후 다시 확인합니다(최대60회).\n",
      "파일 TEOS_TO_SON_RL_RESULT_20191112_[693].dat이 없어 60초 대기후 다시 확인합니다(최대60회).\n"
     ]
    },
    {
     "name": "stderr",
     "output_type": "stream",
     "text": [
      "/home/tangosvc/anaconda3/lib/python3.7/site-packages/pandas/core/reshape/merge.py:522: UserWarning: merging between different levels can give an unintended result (2 levels on the left, 1 on the right)\n",
      "  warnings.warn(msg, UserWarning)\n"
     ]
    },
    {
     "name": "stdout",
     "output_type": "stream",
     "text": [
      "| \u001b[95m 22      \u001b[0m | \u001b[95m 20.22   \u001b[0m | \u001b[95m 1.939   \u001b[0m | \u001b[95m 4.62    \u001b[0m | \u001b[95m 5.787   \u001b[0m | \u001b[95m 0.0     \u001b[0m | \u001b[95m 4.568   \u001b[0m | \u001b[95m 1.847   \u001b[0m | \u001b[95m 8.0     \u001b[0m | \u001b[95m 6.342   \u001b[0m | \u001b[95m 3.087   \u001b[0m | \u001b[95m 4.577   \u001b[0m | \u001b[95m 8.0     \u001b[0m | \u001b[95m 6.039   \u001b[0m | \u001b[95m 4.51    \u001b[0m | \u001b[95m 4.744   \u001b[0m | \u001b[95m 3.935   \u001b[0m | \u001b[95m 4.228   \u001b[0m |\n"
     ]
    },
    {
     "name": "stderr",
     "output_type": "stream",
     "text": [
      "/home/tangosvc/anaconda3/lib/python3.7/site-packages/ipykernel_launcher.py:229: SettingWithCopyWarning: \n",
      "A value is trying to be set on a copy of a slice from a DataFrame\n",
      "\n",
      "See the caveats in the documentation: http://pandas.pydata.org/pandas-docs/stable/indexing.html#indexing-view-versus-copy\n"
     ]
    },
    {
     "name": "stdout",
     "output_type": "stream",
     "text": [
      "Request 파일(/home/tangosvc/code/data/20191112/SON_TO_TEOS_RL_REQUEST_20191112_[694].dat)을 생성합니다.\n",
      "\n",
      "TEOS_TO_SON_RL_RESULT_20191112_[694].dat에 대한 get명령을 실행합니다.\n",
      "파일 TEOS_TO_SON_RL_RESULT_20191112_[694].dat이 없어 60초 대기후 다시 확인합니다(최대60회).\n",
      "파일 TEOS_TO_SON_RL_RESULT_20191112_[694].dat이 없어 60초 대기후 다시 확인합니다(최대60회).\n",
      "파일 TEOS_TO_SON_RL_RESULT_20191112_[694].dat이 없어 60초 대기후 다시 확인합니다(최대60회).\n",
      "파일 TEOS_TO_SON_RL_RESULT_20191112_[694].dat이 없어 60초 대기후 다시 확인합니다(최대60회).\n",
      "파일 TEOS_TO_SON_RL_RESULT_20191112_[694].dat이 없어 60초 대기후 다시 확인합니다(최대60회).\n",
      "파일 TEOS_TO_SON_RL_RESULT_20191112_[694].dat이 없어 60초 대기후 다시 확인합니다(최대60회).\n",
      "파일 TEOS_TO_SON_RL_RESULT_20191112_[694].dat이 없어 60초 대기후 다시 확인합니다(최대60회).\n",
      "파일 TEOS_TO_SON_RL_RESULT_20191112_[694].dat이 없어 60초 대기후 다시 확인합니다(최대60회).\n",
      "파일 TEOS_TO_SON_RL_RESULT_20191112_[694].dat이 없어 60초 대기후 다시 확인합니다(최대60회).\n"
     ]
    },
    {
     "name": "stderr",
     "output_type": "stream",
     "text": [
      "/home/tangosvc/anaconda3/lib/python3.7/site-packages/pandas/core/reshape/merge.py:522: UserWarning: merging between different levels can give an unintended result (2 levels on the left, 1 on the right)\n",
      "  warnings.warn(msg, UserWarning)\n"
     ]
    },
    {
     "name": "stdout",
     "output_type": "stream",
     "text": [
      "| \u001b[0m 23      \u001b[0m | \u001b[0m 19.83   \u001b[0m | \u001b[0m 2.202   \u001b[0m | \u001b[0m 4.492   \u001b[0m | \u001b[0m 5.745   \u001b[0m | \u001b[0m 0.0     \u001b[0m | \u001b[0m 4.836   \u001b[0m | \u001b[0m 1.66    \u001b[0m | \u001b[0m 8.0     \u001b[0m | \u001b[0m 5.175   \u001b[0m | \u001b[0m 2.935   \u001b[0m | \u001b[0m 5.042   \u001b[0m | \u001b[0m 8.0     \u001b[0m | \u001b[0m 5.451   \u001b[0m | \u001b[0m 4.812   \u001b[0m | \u001b[0m 4.958   \u001b[0m | \u001b[0m 3.905   \u001b[0m | \u001b[0m 4.474   \u001b[0m |\n"
     ]
    },
    {
     "name": "stderr",
     "output_type": "stream",
     "text": [
      "/home/tangosvc/anaconda3/lib/python3.7/site-packages/ipykernel_launcher.py:229: SettingWithCopyWarning: \n",
      "A value is trying to be set on a copy of a slice from a DataFrame\n",
      "\n",
      "See the caveats in the documentation: http://pandas.pydata.org/pandas-docs/stable/indexing.html#indexing-view-versus-copy\n"
     ]
    },
    {
     "name": "stdout",
     "output_type": "stream",
     "text": [
      "Request 파일(/home/tangosvc/code/data/20191112/SON_TO_TEOS_RL_REQUEST_20191112_[695].dat)을 생성합니다.\n",
      "\n",
      "TEOS_TO_SON_RL_RESULT_20191112_[695].dat에 대한 get명령을 실행합니다.\n",
      "파일 TEOS_TO_SON_RL_RESULT_20191112_[695].dat이 없어 60초 대기후 다시 확인합니다(최대60회).\n",
      "파일 TEOS_TO_SON_RL_RESULT_20191112_[695].dat이 없어 60초 대기후 다시 확인합니다(최대60회).\n",
      "파일 TEOS_TO_SON_RL_RESULT_20191112_[695].dat이 없어 60초 대기후 다시 확인합니다(최대60회).\n",
      "파일 TEOS_TO_SON_RL_RESULT_20191112_[695].dat이 없어 60초 대기후 다시 확인합니다(최대60회).\n",
      "파일 TEOS_TO_SON_RL_RESULT_20191112_[695].dat이 없어 60초 대기후 다시 확인합니다(최대60회).\n",
      "파일 TEOS_TO_SON_RL_RESULT_20191112_[695].dat이 없어 60초 대기후 다시 확인합니다(최대60회).\n",
      "파일 TEOS_TO_SON_RL_RESULT_20191112_[695].dat이 없어 60초 대기후 다시 확인합니다(최대60회).\n",
      "파일 TEOS_TO_SON_RL_RESULT_20191112_[695].dat이 없어 60초 대기후 다시 확인합니다(최대60회).\n",
      "파일 TEOS_TO_SON_RL_RESULT_20191112_[695].dat이 없어 60초 대기후 다시 확인합니다(최대60회).\n"
     ]
    },
    {
     "name": "stderr",
     "output_type": "stream",
     "text": [
      "/home/tangosvc/anaconda3/lib/python3.7/site-packages/pandas/core/reshape/merge.py:522: UserWarning: merging between different levels can give an unintended result (2 levels on the left, 1 on the right)\n",
      "  warnings.warn(msg, UserWarning)\n"
     ]
    },
    {
     "name": "stdout",
     "output_type": "stream",
     "text": [
      "| \u001b[0m 24      \u001b[0m | \u001b[0m 19.8    \u001b[0m | \u001b[0m 1.551   \u001b[0m | \u001b[0m 4.084   \u001b[0m | \u001b[0m 6.163   \u001b[0m | \u001b[0m 0.0     \u001b[0m | \u001b[0m 5.313   \u001b[0m | \u001b[0m 2.008   \u001b[0m | \u001b[0m 8.0     \u001b[0m | \u001b[0m 6.146   \u001b[0m | \u001b[0m 3.598   \u001b[0m | \u001b[0m 4.766   \u001b[0m | \u001b[0m 8.0     \u001b[0m | \u001b[0m 6.127   \u001b[0m | \u001b[0m 4.116   \u001b[0m | \u001b[0m 4.706   \u001b[0m | \u001b[0m 3.975   \u001b[0m | \u001b[0m 5.211   \u001b[0m |\n"
     ]
    },
    {
     "name": "stderr",
     "output_type": "stream",
     "text": [
      "/home/tangosvc/anaconda3/lib/python3.7/site-packages/ipykernel_launcher.py:229: SettingWithCopyWarning: \n",
      "A value is trying to be set on a copy of a slice from a DataFrame\n",
      "\n",
      "See the caveats in the documentation: http://pandas.pydata.org/pandas-docs/stable/indexing.html#indexing-view-versus-copy\n"
     ]
    },
    {
     "name": "stdout",
     "output_type": "stream",
     "text": [
      "Request 파일(/home/tangosvc/code/data/20191112/SON_TO_TEOS_RL_REQUEST_20191112_[696].dat)을 생성합니다.\n",
      "\n",
      "TEOS_TO_SON_RL_RESULT_20191112_[696].dat에 대한 get명령을 실행합니다.\n",
      "파일 TEOS_TO_SON_RL_RESULT_20191112_[696].dat이 없어 60초 대기후 다시 확인합니다(최대60회).\n",
      "파일 TEOS_TO_SON_RL_RESULT_20191112_[696].dat이 없어 60초 대기후 다시 확인합니다(최대60회).\n",
      "파일 TEOS_TO_SON_RL_RESULT_20191112_[696].dat이 없어 60초 대기후 다시 확인합니다(최대60회).\n",
      "파일 TEOS_TO_SON_RL_RESULT_20191112_[696].dat이 없어 60초 대기후 다시 확인합니다(최대60회).\n",
      "파일 TEOS_TO_SON_RL_RESULT_20191112_[696].dat이 없어 60초 대기후 다시 확인합니다(최대60회).\n",
      "파일 TEOS_TO_SON_RL_RESULT_20191112_[696].dat이 없어 60초 대기후 다시 확인합니다(최대60회).\n",
      "파일 TEOS_TO_SON_RL_RESULT_20191112_[696].dat이 없어 60초 대기후 다시 확인합니다(최대60회).\n",
      "파일 TEOS_TO_SON_RL_RESULT_20191112_[696].dat이 없어 60초 대기후 다시 확인합니다(최대60회).\n",
      "파일 TEOS_TO_SON_RL_RESULT_20191112_[696].dat이 없어 60초 대기후 다시 확인합니다(최대60회).\n"
     ]
    },
    {
     "name": "stderr",
     "output_type": "stream",
     "text": [
      "/home/tangosvc/anaconda3/lib/python3.7/site-packages/pandas/core/reshape/merge.py:522: UserWarning: merging between different levels can give an unintended result (2 levels on the left, 1 on the right)\n",
      "  warnings.warn(msg, UserWarning)\n"
     ]
    },
    {
     "name": "stdout",
     "output_type": "stream",
     "text": [
      "| \u001b[0m 25      \u001b[0m | \u001b[0m 19.39   \u001b[0m | \u001b[0m 1.389   \u001b[0m | \u001b[0m 4.28    \u001b[0m | \u001b[0m 6.569   \u001b[0m | \u001b[0m 0.0     \u001b[0m | \u001b[0m 4.824   \u001b[0m | \u001b[0m 2.351   \u001b[0m | \u001b[0m 8.0     \u001b[0m | \u001b[0m 6.156   \u001b[0m | \u001b[0m 3.444   \u001b[0m | \u001b[0m 4.835   \u001b[0m | \u001b[0m 8.0     \u001b[0m | \u001b[0m 5.332   \u001b[0m | \u001b[0m 4.715   \u001b[0m | \u001b[0m 4.391   \u001b[0m | \u001b[0m 4.422   \u001b[0m | \u001b[0m 3.519   \u001b[0m |\n"
     ]
    },
    {
     "name": "stderr",
     "output_type": "stream",
     "text": [
      "/home/tangosvc/anaconda3/lib/python3.7/site-packages/ipykernel_launcher.py:229: SettingWithCopyWarning: \n",
      "A value is trying to be set on a copy of a slice from a DataFrame\n",
      "\n",
      "See the caveats in the documentation: http://pandas.pydata.org/pandas-docs/stable/indexing.html#indexing-view-versus-copy\n"
     ]
    },
    {
     "name": "stdout",
     "output_type": "stream",
     "text": [
      "Request 파일(/home/tangosvc/code/data/20191113/SON_TO_TEOS_RL_REQUEST_20191113_[697].dat)을 생성합니다.\n",
      "\n",
      "TEOS_TO_SON_RL_RESULT_20191113_[697].dat에 대한 get명령을 실행합니다.\n",
      "폴더 20191113이 없어 60초 대기후 다시 확인합니다(최대60회).\n",
      "폴더 20191113이 없어 60초 대기후 다시 확인합니다(최대60회).\n",
      "폴더 20191113이 없어 60초 대기후 다시 확인합니다(최대60회).\n",
      "폴더 20191113이 없어 60초 대기후 다시 확인합니다(최대60회).\n",
      "폴더 20191113이 없어 60초 대기후 다시 확인합니다(최대60회).\n",
      "폴더 20191113이 없어 60초 대기후 다시 확인합니다(최대60회).\n",
      "폴더 20191113이 없어 60초 대기후 다시 확인합니다(최대60회).\n",
      "폴더 20191113이 없어 60초 대기후 다시 확인합니다(최대60회).\n",
      "폴더 20191113이 없어 60초 대기후 다시 확인합니다(최대60회).\n",
      "폴더 20191113이 없어 60초 대기후 다시 확인합니다(최대60회).\n",
      "폴더 20191113이 없어 60초 대기후 다시 확인합니다(최대60회).\n",
      "폴더 20191113이 없어 60초 대기후 다시 확인합니다(최대60회).\n",
      "폴더 20191113이 없어 60초 대기후 다시 확인합니다(최대60회).\n",
      "폴더 20191113이 없어 60초 대기후 다시 확인합니다(최대60회).\n",
      "폴더 20191113이 없어 60초 대기후 다시 확인합니다(최대60회).\n",
      "폴더 20191113이 없어 60초 대기후 다시 확인합니다(최대60회).\n",
      "폴더 20191113이 없어 60초 대기후 다시 확인합니다(최대60회).\n",
      "폴더 20191113이 없어 60초 대기후 다시 확인합니다(최대60회).\n",
      "폴더 20191113이 없어 60초 대기후 다시 확인합니다(최대60회).\n",
      "폴더 20191113이 없어 60초 대기후 다시 확인합니다(최대60회).\n",
      "폴더 20191113이 없어 60초 대기후 다시 확인합니다(최대60회).\n",
      "폴더 20191113이 없어 60초 대기후 다시 확인합니다(최대60회).\n",
      "폴더 20191113이 없어 60초 대기후 다시 확인합니다(최대60회).\n",
      "폴더 20191113이 없어 60초 대기후 다시 확인합니다(최대60회).\n",
      "폴더 20191113이 없어 60초 대기후 다시 확인합니다(최대60회).\n",
      "폴더 20191113이 없어 60초 대기후 다시 확인합니다(최대60회).\n",
      "폴더 20191113이 없어 60초 대기후 다시 확인합니다(최대60회).\n",
      "폴더 20191113이 없어 60초 대기후 다시 확인합니다(최대60회).\n",
      "폴더 20191113이 없어 60초 대기후 다시 확인합니다(최대60회).\n",
      "폴더 20191113이 없어 60초 대기후 다시 확인합니다(최대60회).\n",
      "폴더 20191113이 없어 60초 대기후 다시 확인합니다(최대60회).\n",
      "폴더 20191113이 없어 60초 대기후 다시 확인합니다(최대60회).\n",
      "폴더 20191113이 없어 60초 대기후 다시 확인합니다(최대60회).\n",
      "폴더 20191113이 없어 60초 대기후 다시 확인합니다(최대60회).\n",
      "폴더 20191113이 없어 60초 대기후 다시 확인합니다(최대60회).\n",
      "폴더 20191113이 없어 60초 대기후 다시 확인합니다(최대60회).\n",
      "폴더 20191113이 없어 60초 대기후 다시 확인합니다(최대60회).\n",
      "폴더 20191113이 없어 60초 대기후 다시 확인합니다(최대60회).\n",
      "폴더 20191113이 없어 60초 대기후 다시 확인합니다(최대60회).\n",
      "폴더 20191113이 없어 60초 대기후 다시 확인합니다(최대60회).\n",
      "폴더 20191113이 없어 60초 대기후 다시 확인합니다(최대60회).\n",
      "폴더 20191113이 없어 60초 대기후 다시 확인합니다(최대60회).\n",
      "폴더 20191113이 없어 60초 대기후 다시 확인합니다(최대60회).\n",
      "폴더 20191113이 없어 60초 대기후 다시 확인합니다(최대60회).\n",
      "폴더 20191113이 없어 60초 대기후 다시 확인합니다(최대60회).\n",
      "폴더 20191113이 없어 60초 대기후 다시 확인합니다(최대60회).\n",
      "폴더 20191113이 없어 60초 대기후 다시 확인합니다(최대60회).\n"
     ]
    },
    {
     "name": "stderr",
     "output_type": "stream",
     "text": [
      "/home/tangosvc/anaconda3/lib/python3.7/site-packages/pandas/core/reshape/merge.py:522: UserWarning: merging between different levels can give an unintended result (2 levels on the left, 1 on the right)\n",
      "  warnings.warn(msg, UserWarning)\n"
     ]
    },
    {
     "name": "stdout",
     "output_type": "stream",
     "text": [
      "| \u001b[0m 26      \u001b[0m | \u001b[0m 17.83   \u001b[0m | \u001b[0m 2.804   \u001b[0m | \u001b[0m 4.758   \u001b[0m | \u001b[0m 5.928   \u001b[0m | \u001b[0m 0.0     \u001b[0m | \u001b[0m 4.669   \u001b[0m | \u001b[0m 2.087   \u001b[0m | \u001b[0m 8.0     \u001b[0m | \u001b[0m 6.164   \u001b[0m | \u001b[0m 3.479   \u001b[0m | \u001b[0m 4.858   \u001b[0m | \u001b[0m 8.0     \u001b[0m | \u001b[0m 6.986   \u001b[0m | \u001b[0m 5.3     \u001b[0m | \u001b[0m 4.833   \u001b[0m | \u001b[0m 4.51    \u001b[0m | \u001b[0m 4.769   \u001b[0m |\n"
     ]
    },
    {
     "name": "stderr",
     "output_type": "stream",
     "text": [
      "/home/tangosvc/anaconda3/lib/python3.7/site-packages/ipykernel_launcher.py:229: SettingWithCopyWarning: \n",
      "A value is trying to be set on a copy of a slice from a DataFrame\n",
      "\n",
      "See the caveats in the documentation: http://pandas.pydata.org/pandas-docs/stable/indexing.html#indexing-view-versus-copy\n"
     ]
    },
    {
     "name": "stdout",
     "output_type": "stream",
     "text": [
      "Request 파일(/home/tangosvc/code/data/20191113/SON_TO_TEOS_RL_REQUEST_20191113_[698].dat)을 생성합니다.\n",
      "\n",
      "TEOS_TO_SON_RL_RESULT_20191113_[698].dat에 대한 get명령을 실행합니다.\n",
      "파일 TEOS_TO_SON_RL_RESULT_20191113_[698].dat이 없어 60초 대기후 다시 확인합니다(최대60회).\n",
      "파일 TEOS_TO_SON_RL_RESULT_20191113_[698].dat이 없어 60초 대기후 다시 확인합니다(최대60회).\n",
      "파일 TEOS_TO_SON_RL_RESULT_20191113_[698].dat이 없어 60초 대기후 다시 확인합니다(최대60회).\n",
      "파일 TEOS_TO_SON_RL_RESULT_20191113_[698].dat이 없어 60초 대기후 다시 확인합니다(최대60회).\n",
      "파일 TEOS_TO_SON_RL_RESULT_20191113_[698].dat이 없어 60초 대기후 다시 확인합니다(최대60회).\n",
      "파일 TEOS_TO_SON_RL_RESULT_20191113_[698].dat이 없어 60초 대기후 다시 확인합니다(최대60회).\n",
      "파일 TEOS_TO_SON_RL_RESULT_20191113_[698].dat이 없어 60초 대기후 다시 확인합니다(최대60회).\n",
      "파일 TEOS_TO_SON_RL_RESULT_20191113_[698].dat이 없어 60초 대기후 다시 확인합니다(최대60회).\n",
      "파일 TEOS_TO_SON_RL_RESULT_20191113_[698].dat이 없어 60초 대기후 다시 확인합니다(최대60회).\n",
      "파일 TEOS_TO_SON_RL_RESULT_20191113_[698].dat이 없어 60초 대기후 다시 확인합니다(최대60회).\n"
     ]
    },
    {
     "name": "stderr",
     "output_type": "stream",
     "text": [
      "/home/tangosvc/anaconda3/lib/python3.7/site-packages/pandas/core/reshape/merge.py:522: UserWarning: merging between different levels can give an unintended result (2 levels on the left, 1 on the right)\n",
      "  warnings.warn(msg, UserWarning)\n"
     ]
    },
    {
     "name": "stdout",
     "output_type": "stream",
     "text": [
      "| \u001b[0m 27      \u001b[0m | \u001b[0m 17.89   \u001b[0m | \u001b[0m 1.314   \u001b[0m | \u001b[0m 4.258   \u001b[0m | \u001b[0m 5.627   \u001b[0m | \u001b[0m 0.0     \u001b[0m | \u001b[0m 4.464   \u001b[0m | \u001b[0m 1.386   \u001b[0m | \u001b[0m 7.994   \u001b[0m | \u001b[0m 6.222   \u001b[0m | \u001b[0m 3.074   \u001b[0m | \u001b[0m 4.493   \u001b[0m | \u001b[0m 8.0     \u001b[0m | \u001b[0m 5.034   \u001b[0m | \u001b[0m 3.948   \u001b[0m | \u001b[0m 4.78    \u001b[0m | \u001b[0m 3.429   \u001b[0m | \u001b[0m 4.564   \u001b[0m |\n"
     ]
    },
    {
     "name": "stderr",
     "output_type": "stream",
     "text": [
      "/home/tangosvc/anaconda3/lib/python3.7/site-packages/ipykernel_launcher.py:229: SettingWithCopyWarning: \n",
      "A value is trying to be set on a copy of a slice from a DataFrame\n",
      "\n",
      "See the caveats in the documentation: http://pandas.pydata.org/pandas-docs/stable/indexing.html#indexing-view-versus-copy\n"
     ]
    },
    {
     "name": "stdout",
     "output_type": "stream",
     "text": [
      "Request 파일(/home/tangosvc/code/data/20191113/SON_TO_TEOS_RL_REQUEST_20191113_[699].dat)을 생성합니다.\n",
      "\n",
      "TEOS_TO_SON_RL_RESULT_20191113_[699].dat에 대한 get명령을 실행합니다.\n",
      "파일 TEOS_TO_SON_RL_RESULT_20191113_[699].dat이 없어 60초 대기후 다시 확인합니다(최대60회).\n",
      "파일 TEOS_TO_SON_RL_RESULT_20191113_[699].dat이 없어 60초 대기후 다시 확인합니다(최대60회).\n",
      "파일 TEOS_TO_SON_RL_RESULT_20191113_[699].dat이 없어 60초 대기후 다시 확인합니다(최대60회).\n",
      "파일 TEOS_TO_SON_RL_RESULT_20191113_[699].dat이 없어 60초 대기후 다시 확인합니다(최대60회).\n",
      "파일 TEOS_TO_SON_RL_RESULT_20191113_[699].dat이 없어 60초 대기후 다시 확인합니다(최대60회).\n",
      "파일 TEOS_TO_SON_RL_RESULT_20191113_[699].dat이 없어 60초 대기후 다시 확인합니다(최대60회).\n",
      "파일 TEOS_TO_SON_RL_RESULT_20191113_[699].dat이 없어 60초 대기후 다시 확인합니다(최대60회).\n",
      "파일 TEOS_TO_SON_RL_RESULT_20191113_[699].dat이 없어 60초 대기후 다시 확인합니다(최대60회).\n",
      "파일 TEOS_TO_SON_RL_RESULT_20191113_[699].dat이 없어 60초 대기후 다시 확인합니다(최대60회).\n"
     ]
    },
    {
     "name": "stderr",
     "output_type": "stream",
     "text": [
      "/home/tangosvc/anaconda3/lib/python3.7/site-packages/pandas/core/reshape/merge.py:522: UserWarning: merging between different levels can give an unintended result (2 levels on the left, 1 on the right)\n",
      "  warnings.warn(msg, UserWarning)\n"
     ]
    },
    {
     "name": "stdout",
     "output_type": "stream",
     "text": [
      "| \u001b[0m 28      \u001b[0m | \u001b[0m 19.97   \u001b[0m | \u001b[0m 2.009   \u001b[0m | \u001b[0m 4.306   \u001b[0m | \u001b[0m 6.082   \u001b[0m | \u001b[0m 0.1401  \u001b[0m | \u001b[0m 4.634   \u001b[0m | \u001b[0m 2.324   \u001b[0m | \u001b[0m 7.914   \u001b[0m | \u001b[0m 5.467   \u001b[0m | \u001b[0m 3.585   \u001b[0m | \u001b[0m 4.656   \u001b[0m | \u001b[0m 7.873   \u001b[0m | \u001b[0m 6.063   \u001b[0m | \u001b[0m 4.132   \u001b[0m | \u001b[0m 4.811   \u001b[0m | \u001b[0m 3.995   \u001b[0m | \u001b[0m 4.159   \u001b[0m |\n"
     ]
    },
    {
     "name": "stderr",
     "output_type": "stream",
     "text": [
      "/home/tangosvc/anaconda3/lib/python3.7/site-packages/ipykernel_launcher.py:229: SettingWithCopyWarning: \n",
      "A value is trying to be set on a copy of a slice from a DataFrame\n",
      "\n",
      "See the caveats in the documentation: http://pandas.pydata.org/pandas-docs/stable/indexing.html#indexing-view-versus-copy\n"
     ]
    },
    {
     "name": "stdout",
     "output_type": "stream",
     "text": [
      "Request 파일(/home/tangosvc/code/data/20191113/SON_TO_TEOS_RL_REQUEST_20191113_[700].dat)을 생성합니다.\n",
      "\n",
      "TEOS_TO_SON_RL_RESULT_20191113_[700].dat에 대한 get명령을 실행합니다.\n",
      "파일 TEOS_TO_SON_RL_RESULT_20191113_[700].dat이 없어 60초 대기후 다시 확인합니다(최대60회).\n",
      "파일 TEOS_TO_SON_RL_RESULT_20191113_[700].dat이 없어 60초 대기후 다시 확인합니다(최대60회).\n",
      "파일 TEOS_TO_SON_RL_RESULT_20191113_[700].dat이 없어 60초 대기후 다시 확인합니다(최대60회).\n",
      "파일 TEOS_TO_SON_RL_RESULT_20191113_[700].dat이 없어 60초 대기후 다시 확인합니다(최대60회).\n",
      "파일 TEOS_TO_SON_RL_RESULT_20191113_[700].dat이 없어 60초 대기후 다시 확인합니다(최대60회).\n",
      "파일 TEOS_TO_SON_RL_RESULT_20191113_[700].dat이 없어 60초 대기후 다시 확인합니다(최대60회).\n",
      "파일 TEOS_TO_SON_RL_RESULT_20191113_[700].dat이 없어 60초 대기후 다시 확인합니다(최대60회).\n",
      "파일 TEOS_TO_SON_RL_RESULT_20191113_[700].dat이 없어 60초 대기후 다시 확인합니다(최대60회).\n",
      "파일 TEOS_TO_SON_RL_RESULT_20191113_[700].dat이 없어 60초 대기후 다시 확인합니다(최대60회).\n",
      "파일 TEOS_TO_SON_RL_RESULT_20191113_[700].dat이 없어 60초 대기후 다시 확인합니다(최대60회).\n"
     ]
    },
    {
     "name": "stderr",
     "output_type": "stream",
     "text": [
      "/home/tangosvc/anaconda3/lib/python3.7/site-packages/pandas/core/reshape/merge.py:522: UserWarning: merging between different levels can give an unintended result (2 levels on the left, 1 on the right)\n",
      "  warnings.warn(msg, UserWarning)\n"
     ]
    },
    {
     "name": "stdout",
     "output_type": "stream",
     "text": [
      "| \u001b[95m 29      \u001b[0m | \u001b[95m 20.52   \u001b[0m | \u001b[95m 1.655   \u001b[0m | \u001b[95m 4.674   \u001b[0m | \u001b[95m 5.858   \u001b[0m | \u001b[95m 0.0     \u001b[0m | \u001b[95m 4.543   \u001b[0m | \u001b[95m 2.251   \u001b[0m | \u001b[95m 8.0     \u001b[0m | \u001b[95m 5.876   \u001b[0m | \u001b[95m 3.898   \u001b[0m | \u001b[95m 4.636   \u001b[0m | \u001b[95m 8.0     \u001b[0m | \u001b[95m 5.663   \u001b[0m | \u001b[95m 4.925   \u001b[0m | \u001b[95m 5.031   \u001b[0m | \u001b[95m 3.942   \u001b[0m | \u001b[95m 4.524   \u001b[0m |\n"
     ]
    },
    {
     "name": "stderr",
     "output_type": "stream",
     "text": [
      "/home/tangosvc/anaconda3/lib/python3.7/site-packages/ipykernel_launcher.py:229: SettingWithCopyWarning: \n",
      "A value is trying to be set on a copy of a slice from a DataFrame\n",
      "\n",
      "See the caveats in the documentation: http://pandas.pydata.org/pandas-docs/stable/indexing.html#indexing-view-versus-copy\n"
     ]
    },
    {
     "name": "stdout",
     "output_type": "stream",
     "text": [
      "Request 파일(/home/tangosvc/code/data/20191113/SON_TO_TEOS_RL_REQUEST_20191113_[701].dat)을 생성합니다.\n",
      "\n",
      "TEOS_TO_SON_RL_RESULT_20191113_[701].dat에 대한 get명령을 실행합니다.\n",
      "파일 TEOS_TO_SON_RL_RESULT_20191113_[701].dat이 없어 60초 대기후 다시 확인합니다(최대60회).\n",
      "파일 TEOS_TO_SON_RL_RESULT_20191113_[701].dat이 없어 60초 대기후 다시 확인합니다(최대60회).\n",
      "파일 TEOS_TO_SON_RL_RESULT_20191113_[701].dat이 없어 60초 대기후 다시 확인합니다(최대60회).\n",
      "파일 TEOS_TO_SON_RL_RESULT_20191113_[701].dat이 없어 60초 대기후 다시 확인합니다(최대60회).\n",
      "파일 TEOS_TO_SON_RL_RESULT_20191113_[701].dat이 없어 60초 대기후 다시 확인합니다(최대60회).\n",
      "파일 TEOS_TO_SON_RL_RESULT_20191113_[701].dat이 없어 60초 대기후 다시 확인합니다(최대60회).\n",
      "파일 TEOS_TO_SON_RL_RESULT_20191113_[701].dat이 없어 60초 대기후 다시 확인합니다(최대60회).\n",
      "파일 TEOS_TO_SON_RL_RESULT_20191113_[701].dat이 없어 60초 대기후 다시 확인합니다(최대60회).\n",
      "파일 TEOS_TO_SON_RL_RESULT_20191113_[701].dat이 없어 60초 대기후 다시 확인합니다(최대60회).\n",
      "파일 TEOS_TO_SON_RL_RESULT_20191113_[701].dat이 없어 60초 대기후 다시 확인합니다(최대60회).\n"
     ]
    },
    {
     "name": "stderr",
     "output_type": "stream",
     "text": [
      "/home/tangosvc/anaconda3/lib/python3.7/site-packages/pandas/core/reshape/merge.py:522: UserWarning: merging between different levels can give an unintended result (2 levels on the left, 1 on the right)\n",
      "  warnings.warn(msg, UserWarning)\n"
     ]
    },
    {
     "name": "stdout",
     "output_type": "stream",
     "text": [
      "| \u001b[0m 30      \u001b[0m | \u001b[0m 20.2    \u001b[0m | \u001b[0m 1.55    \u001b[0m | \u001b[0m 4.374   \u001b[0m | \u001b[0m 6.056   \u001b[0m | \u001b[0m 0.0     \u001b[0m | \u001b[0m 4.514   \u001b[0m | \u001b[0m 1.477   \u001b[0m | \u001b[0m 8.0     \u001b[0m | \u001b[0m 5.665   \u001b[0m | \u001b[0m 3.933   \u001b[0m | \u001b[0m 4.622   \u001b[0m | \u001b[0m 8.0     \u001b[0m | \u001b[0m 6.071   \u001b[0m | \u001b[0m 4.882   \u001b[0m | \u001b[0m 4.768   \u001b[0m | \u001b[0m 4.037   \u001b[0m | \u001b[0m 4.255   \u001b[0m |\n"
     ]
    },
    {
     "name": "stderr",
     "output_type": "stream",
     "text": [
      "/home/tangosvc/anaconda3/lib/python3.7/site-packages/ipykernel_launcher.py:229: SettingWithCopyWarning: \n",
      "A value is trying to be set on a copy of a slice from a DataFrame\n",
      "\n",
      "See the caveats in the documentation: http://pandas.pydata.org/pandas-docs/stable/indexing.html#indexing-view-versus-copy\n"
     ]
    },
    {
     "name": "stdout",
     "output_type": "stream",
     "text": [
      "Request 파일(/home/tangosvc/code/data/20191113/SON_TO_TEOS_RL_REQUEST_20191113_[702].dat)을 생성합니다.\n",
      "\n",
      "TEOS_TO_SON_RL_RESULT_20191113_[702].dat에 대한 get명령을 실행합니다.\n",
      "파일 TEOS_TO_SON_RL_RESULT_20191113_[702].dat이 없어 60초 대기후 다시 확인합니다(최대60회).\n",
      "파일 TEOS_TO_SON_RL_RESULT_20191113_[702].dat이 없어 60초 대기후 다시 확인합니다(최대60회).\n",
      "파일 TEOS_TO_SON_RL_RESULT_20191113_[702].dat이 없어 60초 대기후 다시 확인합니다(최대60회).\n",
      "파일 TEOS_TO_SON_RL_RESULT_20191113_[702].dat이 없어 60초 대기후 다시 확인합니다(최대60회).\n",
      "파일 TEOS_TO_SON_RL_RESULT_20191113_[702].dat이 없어 60초 대기후 다시 확인합니다(최대60회).\n",
      "파일 TEOS_TO_SON_RL_RESULT_20191113_[702].dat이 없어 60초 대기후 다시 확인합니다(최대60회).\n",
      "파일 TEOS_TO_SON_RL_RESULT_20191113_[702].dat이 없어 60초 대기후 다시 확인합니다(최대60회).\n",
      "파일 TEOS_TO_SON_RL_RESULT_20191113_[702].dat이 없어 60초 대기후 다시 확인합니다(최대60회).\n",
      "파일 TEOS_TO_SON_RL_RESULT_20191113_[702].dat이 없어 60초 대기후 다시 확인합니다(최대60회).\n",
      "파일 TEOS_TO_SON_RL_RESULT_20191113_[702].dat이 없어 60초 대기후 다시 확인합니다(최대60회).\n"
     ]
    },
    {
     "name": "stderr",
     "output_type": "stream",
     "text": [
      "/home/tangosvc/anaconda3/lib/python3.7/site-packages/pandas/core/reshape/merge.py:522: UserWarning: merging between different levels can give an unintended result (2 levels on the left, 1 on the right)\n",
      "  warnings.warn(msg, UserWarning)\n"
     ]
    },
    {
     "name": "stdout",
     "output_type": "stream",
     "text": [
      "| \u001b[95m 31      \u001b[0m | \u001b[95m 20.54   \u001b[0m | \u001b[95m 1.779   \u001b[0m | \u001b[95m 4.481   \u001b[0m | \u001b[95m 5.802   \u001b[0m | \u001b[95m 0.0     \u001b[0m | \u001b[95m 4.518   \u001b[0m | \u001b[95m 2.017   \u001b[0m | \u001b[95m 7.166   \u001b[0m | \u001b[95m 5.912   \u001b[0m | \u001b[95m 3.71    \u001b[0m | \u001b[95m 4.747   \u001b[0m | \u001b[95m 8.0     \u001b[0m | \u001b[95m 5.689   \u001b[0m | \u001b[95m 4.682   \u001b[0m | \u001b[95m 4.871   \u001b[0m | \u001b[95m 4.35    \u001b[0m | \u001b[95m 4.48    \u001b[0m |\n"
     ]
    },
    {
     "name": "stderr",
     "output_type": "stream",
     "text": [
      "/home/tangosvc/anaconda3/lib/python3.7/site-packages/ipykernel_launcher.py:229: SettingWithCopyWarning: \n",
      "A value is trying to be set on a copy of a slice from a DataFrame\n",
      "\n",
      "See the caveats in the documentation: http://pandas.pydata.org/pandas-docs/stable/indexing.html#indexing-view-versus-copy\n"
     ]
    },
    {
     "name": "stdout",
     "output_type": "stream",
     "text": [
      "Request 파일(/home/tangosvc/code/data/20191113/SON_TO_TEOS_RL_REQUEST_20191113_[703].dat)을 생성합니다.\n",
      "\n",
      "TEOS_TO_SON_RL_RESULT_20191113_[703].dat에 대한 get명령을 실행합니다.\n",
      "파일 TEOS_TO_SON_RL_RESULT_20191113_[703].dat이 없어 60초 대기후 다시 확인합니다(최대60회).\n",
      "파일 TEOS_TO_SON_RL_RESULT_20191113_[703].dat이 없어 60초 대기후 다시 확인합니다(최대60회).\n",
      "파일 TEOS_TO_SON_RL_RESULT_20191113_[703].dat이 없어 60초 대기후 다시 확인합니다(최대60회).\n",
      "파일 TEOS_TO_SON_RL_RESULT_20191113_[703].dat이 없어 60초 대기후 다시 확인합니다(최대60회).\n",
      "파일 TEOS_TO_SON_RL_RESULT_20191113_[703].dat이 없어 60초 대기후 다시 확인합니다(최대60회).\n",
      "파일 TEOS_TO_SON_RL_RESULT_20191113_[703].dat이 없어 60초 대기후 다시 확인합니다(최대60회).\n",
      "파일 TEOS_TO_SON_RL_RESULT_20191113_[703].dat이 없어 60초 대기후 다시 확인합니다(최대60회).\n",
      "파일 TEOS_TO_SON_RL_RESULT_20191113_[703].dat이 없어 60초 대기후 다시 확인합니다(최대60회).\n",
      "파일 TEOS_TO_SON_RL_RESULT_20191113_[703].dat이 없어 60초 대기후 다시 확인합니다(최대60회).\n"
     ]
    },
    {
     "name": "stderr",
     "output_type": "stream",
     "text": [
      "/home/tangosvc/anaconda3/lib/python3.7/site-packages/pandas/core/reshape/merge.py:522: UserWarning: merging between different levels can give an unintended result (2 levels on the left, 1 on the right)\n",
      "  warnings.warn(msg, UserWarning)\n"
     ]
    },
    {
     "name": "stdout",
     "output_type": "stream",
     "text": [
      "| \u001b[0m 32      \u001b[0m | \u001b[0m 19.37   \u001b[0m | \u001b[0m 1.722   \u001b[0m | \u001b[0m 4.495   \u001b[0m | \u001b[0m 5.662   \u001b[0m | \u001b[0m 0.0     \u001b[0m | \u001b[0m 4.562   \u001b[0m | \u001b[0m 2.004   \u001b[0m | \u001b[0m 7.916   \u001b[0m | \u001b[0m 5.928   \u001b[0m | \u001b[0m 3.732   \u001b[0m | \u001b[0m 4.846   \u001b[0m | \u001b[0m 7.271   \u001b[0m | \u001b[0m 5.668   \u001b[0m | \u001b[0m 4.659   \u001b[0m | \u001b[0m 4.844   \u001b[0m | \u001b[0m 4.505   \u001b[0m | \u001b[0m 4.482   \u001b[0m |\n"
     ]
    },
    {
     "name": "stderr",
     "output_type": "stream",
     "text": [
      "/home/tangosvc/anaconda3/lib/python3.7/site-packages/ipykernel_launcher.py:229: SettingWithCopyWarning: \n",
      "A value is trying to be set on a copy of a slice from a DataFrame\n",
      "\n",
      "See the caveats in the documentation: http://pandas.pydata.org/pandas-docs/stable/indexing.html#indexing-view-versus-copy\n"
     ]
    },
    {
     "name": "stdout",
     "output_type": "stream",
     "text": [
      "Request 파일(/home/tangosvc/code/data/20191113/SON_TO_TEOS_RL_REQUEST_20191113_[704].dat)을 생성합니다.\n",
      "\n",
      "TEOS_TO_SON_RL_RESULT_20191113_[704].dat에 대한 get명령을 실행합니다.\n",
      "파일 TEOS_TO_SON_RL_RESULT_20191113_[704].dat이 없어 60초 대기후 다시 확인합니다(최대60회).\n",
      "파일 TEOS_TO_SON_RL_RESULT_20191113_[704].dat이 없어 60초 대기후 다시 확인합니다(최대60회).\n",
      "파일 TEOS_TO_SON_RL_RESULT_20191113_[704].dat이 없어 60초 대기후 다시 확인합니다(최대60회).\n",
      "파일 TEOS_TO_SON_RL_RESULT_20191113_[704].dat이 없어 60초 대기후 다시 확인합니다(최대60회).\n",
      "파일 TEOS_TO_SON_RL_RESULT_20191113_[704].dat이 없어 60초 대기후 다시 확인합니다(최대60회).\n",
      "파일 TEOS_TO_SON_RL_RESULT_20191113_[704].dat이 없어 60초 대기후 다시 확인합니다(최대60회).\n",
      "파일 TEOS_TO_SON_RL_RESULT_20191113_[704].dat이 없어 60초 대기후 다시 확인합니다(최대60회).\n",
      "파일 TEOS_TO_SON_RL_RESULT_20191113_[704].dat이 없어 60초 대기후 다시 확인합니다(최대60회).\n",
      "파일 TEOS_TO_SON_RL_RESULT_20191113_[704].dat이 없어 60초 대기후 다시 확인합니다(최대60회).\n",
      "파일 TEOS_TO_SON_RL_RESULT_20191113_[704].dat이 없어 60초 대기후 다시 확인합니다(최대60회).\n"
     ]
    },
    {
     "name": "stderr",
     "output_type": "stream",
     "text": [
      "/home/tangosvc/anaconda3/lib/python3.7/site-packages/pandas/core/reshape/merge.py:522: UserWarning: merging between different levels can give an unintended result (2 levels on the left, 1 on the right)\n",
      "  warnings.warn(msg, UserWarning)\n"
     ]
    },
    {
     "name": "stdout",
     "output_type": "stream",
     "text": [
      "| \u001b[0m 33      \u001b[0m | \u001b[0m 20.42   \u001b[0m | \u001b[0m 1.702   \u001b[0m | \u001b[0m 4.715   \u001b[0m | \u001b[0m 6.117   \u001b[0m | \u001b[0m 0.2236  \u001b[0m | \u001b[0m 4.452   \u001b[0m | \u001b[0m 2.16    \u001b[0m | \u001b[0m 7.221   \u001b[0m | \u001b[0m 5.813   \u001b[0m | \u001b[0m 3.611   \u001b[0m | \u001b[0m 4.68    \u001b[0m | \u001b[0m 8.0     \u001b[0m | \u001b[0m 5.95    \u001b[0m | \u001b[0m 4.924   \u001b[0m | \u001b[0m 4.706   \u001b[0m | \u001b[0m 3.423   \u001b[0m | \u001b[0m 4.386   \u001b[0m |\n"
     ]
    },
    {
     "name": "stderr",
     "output_type": "stream",
     "text": [
      "/home/tangosvc/anaconda3/lib/python3.7/site-packages/ipykernel_launcher.py:229: SettingWithCopyWarning: \n",
      "A value is trying to be set on a copy of a slice from a DataFrame\n",
      "\n",
      "See the caveats in the documentation: http://pandas.pydata.org/pandas-docs/stable/indexing.html#indexing-view-versus-copy\n"
     ]
    },
    {
     "name": "stdout",
     "output_type": "stream",
     "text": [
      "Request 파일(/home/tangosvc/code/data/20191113/SON_TO_TEOS_RL_REQUEST_20191113_[705].dat)을 생성합니다.\n",
      "\n",
      "TEOS_TO_SON_RL_RESULT_20191113_[705].dat에 대한 get명령을 실행합니다.\n",
      "파일 TEOS_TO_SON_RL_RESULT_20191113_[705].dat이 없어 60초 대기후 다시 확인합니다(최대60회).\n",
      "파일 TEOS_TO_SON_RL_RESULT_20191113_[705].dat이 없어 60초 대기후 다시 확인합니다(최대60회).\n",
      "파일 TEOS_TO_SON_RL_RESULT_20191113_[705].dat이 없어 60초 대기후 다시 확인합니다(최대60회).\n",
      "파일 TEOS_TO_SON_RL_RESULT_20191113_[705].dat이 없어 60초 대기후 다시 확인합니다(최대60회).\n",
      "파일 TEOS_TO_SON_RL_RESULT_20191113_[705].dat이 없어 60초 대기후 다시 확인합니다(최대60회).\n",
      "파일 TEOS_TO_SON_RL_RESULT_20191113_[705].dat이 없어 60초 대기후 다시 확인합니다(최대60회).\n",
      "파일 TEOS_TO_SON_RL_RESULT_20191113_[705].dat이 없어 60초 대기후 다시 확인합니다(최대60회).\n",
      "파일 TEOS_TO_SON_RL_RESULT_20191113_[705].dat이 없어 60초 대기후 다시 확인합니다(최대60회).\n",
      "파일 TEOS_TO_SON_RL_RESULT_20191113_[705].dat이 없어 60초 대기후 다시 확인합니다(최대60회).\n",
      "파일 TEOS_TO_SON_RL_RESULT_20191113_[705].dat이 없어 60초 대기후 다시 확인합니다(최대60회).\n"
     ]
    },
    {
     "name": "stderr",
     "output_type": "stream",
     "text": [
      "/home/tangosvc/anaconda3/lib/python3.7/site-packages/pandas/core/reshape/merge.py:522: UserWarning: merging between different levels can give an unintended result (2 levels on the left, 1 on the right)\n",
      "  warnings.warn(msg, UserWarning)\n"
     ]
    },
    {
     "name": "stdout",
     "output_type": "stream",
     "text": [
      "| \u001b[0m 34      \u001b[0m | \u001b[0m 19.88   \u001b[0m | \u001b[0m 1.901   \u001b[0m | \u001b[0m 4.964   \u001b[0m | \u001b[0m 6.344   \u001b[0m | \u001b[0m 0.0     \u001b[0m | \u001b[0m 4.982   \u001b[0m | \u001b[0m 1.88    \u001b[0m | \u001b[0m 7.376   \u001b[0m | \u001b[0m 5.916   \u001b[0m | \u001b[0m 3.753   \u001b[0m | \u001b[0m 4.376   \u001b[0m | \u001b[0m 8.0     \u001b[0m | \u001b[0m 5.728   \u001b[0m | \u001b[0m 4.637   \u001b[0m | \u001b[0m 5.271   \u001b[0m | \u001b[0m 3.907   \u001b[0m | \u001b[0m 4.294   \u001b[0m |\n"
     ]
    },
    {
     "name": "stderr",
     "output_type": "stream",
     "text": [
      "/home/tangosvc/anaconda3/lib/python3.7/site-packages/ipykernel_launcher.py:229: SettingWithCopyWarning: \n",
      "A value is trying to be set on a copy of a slice from a DataFrame\n",
      "\n",
      "See the caveats in the documentation: http://pandas.pydata.org/pandas-docs/stable/indexing.html#indexing-view-versus-copy\n"
     ]
    },
    {
     "name": "stdout",
     "output_type": "stream",
     "text": [
      "Request 파일(/home/tangosvc/code/data/20191113/SON_TO_TEOS_RL_REQUEST_20191113_[706].dat)을 생성합니다.\n",
      "\n",
      "TEOS_TO_SON_RL_RESULT_20191113_[706].dat에 대한 get명령을 실행합니다.\n",
      "파일 TEOS_TO_SON_RL_RESULT_20191113_[706].dat이 없어 60초 대기후 다시 확인합니다(최대60회).\n",
      "파일 TEOS_TO_SON_RL_RESULT_20191113_[706].dat이 없어 60초 대기후 다시 확인합니다(최대60회).\n",
      "파일 TEOS_TO_SON_RL_RESULT_20191113_[706].dat이 없어 60초 대기후 다시 확인합니다(최대60회).\n",
      "파일 TEOS_TO_SON_RL_RESULT_20191113_[706].dat이 없어 60초 대기후 다시 확인합니다(최대60회).\n",
      "파일 TEOS_TO_SON_RL_RESULT_20191113_[706].dat이 없어 60초 대기후 다시 확인합니다(최대60회).\n",
      "파일 TEOS_TO_SON_RL_RESULT_20191113_[706].dat이 없어 60초 대기후 다시 확인합니다(최대60회).\n",
      "파일 TEOS_TO_SON_RL_RESULT_20191113_[706].dat이 없어 60초 대기후 다시 확인합니다(최대60회).\n",
      "파일 TEOS_TO_SON_RL_RESULT_20191113_[706].dat이 없어 60초 대기후 다시 확인합니다(최대60회).\n",
      "파일 TEOS_TO_SON_RL_RESULT_20191113_[706].dat이 없어 60초 대기후 다시 확인합니다(최대60회).\n",
      "파일 TEOS_TO_SON_RL_RESULT_20191113_[706].dat이 없어 60초 대기후 다시 확인합니다(최대60회).\n"
     ]
    },
    {
     "name": "stderr",
     "output_type": "stream",
     "text": [
      "/home/tangosvc/anaconda3/lib/python3.7/site-packages/pandas/core/reshape/merge.py:522: UserWarning: merging between different levels can give an unintended result (2 levels on the left, 1 on the right)\n",
      "  warnings.warn(msg, UserWarning)\n"
     ]
    },
    {
     "name": "stdout",
     "output_type": "stream",
     "text": [
      "| \u001b[95m 35      \u001b[0m | \u001b[95m 20.61   \u001b[0m | \u001b[95m 1.947   \u001b[0m | \u001b[95m 4.648   \u001b[0m | \u001b[95m 5.69    \u001b[0m | \u001b[95m 0.0     \u001b[0m | \u001b[95m 3.948   \u001b[0m | \u001b[95m 2.146   \u001b[0m | \u001b[95m 7.446   \u001b[0m | \u001b[95m 5.664   \u001b[0m | \u001b[95m 3.602   \u001b[0m | \u001b[95m 4.57    \u001b[0m | \u001b[95m 8.0     \u001b[0m | \u001b[95m 5.648   \u001b[0m | \u001b[95m 5.099   \u001b[0m | \u001b[95m 4.981   \u001b[0m | \u001b[95m 3.906   \u001b[0m | \u001b[95m 3.778   \u001b[0m |\n"
     ]
    },
    {
     "name": "stderr",
     "output_type": "stream",
     "text": [
      "/home/tangosvc/anaconda3/lib/python3.7/site-packages/ipykernel_launcher.py:229: SettingWithCopyWarning: \n",
      "A value is trying to be set on a copy of a slice from a DataFrame\n",
      "\n",
      "See the caveats in the documentation: http://pandas.pydata.org/pandas-docs/stable/indexing.html#indexing-view-versus-copy\n"
     ]
    },
    {
     "name": "stdout",
     "output_type": "stream",
     "text": [
      "Request 파일(/home/tangosvc/code/data/20191113/SON_TO_TEOS_RL_REQUEST_20191113_[707].dat)을 생성합니다.\n",
      "\n",
      "TEOS_TO_SON_RL_RESULT_20191113_[707].dat에 대한 get명령을 실행합니다.\n",
      "파일 TEOS_TO_SON_RL_RESULT_20191113_[707].dat이 없어 60초 대기후 다시 확인합니다(최대60회).\n",
      "파일 TEOS_TO_SON_RL_RESULT_20191113_[707].dat이 없어 60초 대기후 다시 확인합니다(최대60회).\n",
      "파일 TEOS_TO_SON_RL_RESULT_20191113_[707].dat이 없어 60초 대기후 다시 확인합니다(최대60회).\n",
      "파일 TEOS_TO_SON_RL_RESULT_20191113_[707].dat이 없어 60초 대기후 다시 확인합니다(최대60회).\n",
      "파일 TEOS_TO_SON_RL_RESULT_20191113_[707].dat이 없어 60초 대기후 다시 확인합니다(최대60회).\n",
      "파일 TEOS_TO_SON_RL_RESULT_20191113_[707].dat이 없어 60초 대기후 다시 확인합니다(최대60회).\n",
      "파일 TEOS_TO_SON_RL_RESULT_20191113_[707].dat이 없어 60초 대기후 다시 확인합니다(최대60회).\n",
      "파일 TEOS_TO_SON_RL_RESULT_20191113_[707].dat이 없어 60초 대기후 다시 확인합니다(최대60회).\n",
      "파일 TEOS_TO_SON_RL_RESULT_20191113_[707].dat이 없어 60초 대기후 다시 확인합니다(최대60회).\n",
      "파일 TEOS_TO_SON_RL_RESULT_20191113_[707].dat이 없어 60초 대기후 다시 확인합니다(최대60회).\n"
     ]
    },
    {
     "name": "stderr",
     "output_type": "stream",
     "text": [
      "/home/tangosvc/anaconda3/lib/python3.7/site-packages/pandas/core/reshape/merge.py:522: UserWarning: merging between different levels can give an unintended result (2 levels on the left, 1 on the right)\n",
      "  warnings.warn(msg, UserWarning)\n"
     ]
    },
    {
     "name": "stdout",
     "output_type": "stream",
     "text": [
      "| \u001b[0m 36      \u001b[0m | \u001b[0m 19.0    \u001b[0m | \u001b[0m 1.429   \u001b[0m | \u001b[0m 4.143   \u001b[0m | \u001b[0m 5.683   \u001b[0m | \u001b[0m 0.0     \u001b[0m | \u001b[0m 4.588   \u001b[0m | \u001b[0m 2.367   \u001b[0m | \u001b[0m 7.371   \u001b[0m | \u001b[0m 5.729   \u001b[0m | \u001b[0m 3.293   \u001b[0m | \u001b[0m 4.349   \u001b[0m | \u001b[0m 8.0     \u001b[0m | \u001b[0m 6.007   \u001b[0m | \u001b[0m 5.196   \u001b[0m | \u001b[0m 5.173   \u001b[0m | \u001b[0m 3.915   \u001b[0m | \u001b[0m 4.188   \u001b[0m |\n"
     ]
    },
    {
     "name": "stderr",
     "output_type": "stream",
     "text": [
      "/home/tangosvc/anaconda3/lib/python3.7/site-packages/ipykernel_launcher.py:229: SettingWithCopyWarning: \n",
      "A value is trying to be set on a copy of a slice from a DataFrame\n",
      "\n",
      "See the caveats in the documentation: http://pandas.pydata.org/pandas-docs/stable/indexing.html#indexing-view-versus-copy\n"
     ]
    },
    {
     "name": "stdout",
     "output_type": "stream",
     "text": [
      "Request 파일(/home/tangosvc/code/data/20191113/SON_TO_TEOS_RL_REQUEST_20191113_[708].dat)을 생성합니다.\n",
      "\n",
      "TEOS_TO_SON_RL_RESULT_20191113_[708].dat에 대한 get명령을 실행합니다.\n",
      "파일 TEOS_TO_SON_RL_RESULT_20191113_[708].dat이 없어 60초 대기후 다시 확인합니다(최대60회).\n",
      "파일 TEOS_TO_SON_RL_RESULT_20191113_[708].dat이 없어 60초 대기후 다시 확인합니다(최대60회).\n",
      "파일 TEOS_TO_SON_RL_RESULT_20191113_[708].dat이 없어 60초 대기후 다시 확인합니다(최대60회).\n",
      "파일 TEOS_TO_SON_RL_RESULT_20191113_[708].dat이 없어 60초 대기후 다시 확인합니다(최대60회).\n",
      "파일 TEOS_TO_SON_RL_RESULT_20191113_[708].dat이 없어 60초 대기후 다시 확인합니다(최대60회).\n",
      "파일 TEOS_TO_SON_RL_RESULT_20191113_[708].dat이 없어 60초 대기후 다시 확인합니다(최대60회).\n",
      "파일 TEOS_TO_SON_RL_RESULT_20191113_[708].dat이 없어 60초 대기후 다시 확인합니다(최대60회).\n",
      "파일 TEOS_TO_SON_RL_RESULT_20191113_[708].dat이 없어 60초 대기후 다시 확인합니다(최대60회).\n",
      "파일 TEOS_TO_SON_RL_RESULT_20191113_[708].dat이 없어 60초 대기후 다시 확인합니다(최대60회).\n",
      "파일 TEOS_TO_SON_RL_RESULT_20191113_[708].dat이 없어 60초 대기후 다시 확인합니다(최대60회).\n"
     ]
    },
    {
     "name": "stderr",
     "output_type": "stream",
     "text": [
      "/home/tangosvc/anaconda3/lib/python3.7/site-packages/pandas/core/reshape/merge.py:522: UserWarning: merging between different levels can give an unintended result (2 levels on the left, 1 on the right)\n",
      "  warnings.warn(msg, UserWarning)\n"
     ]
    },
    {
     "name": "stdout",
     "output_type": "stream",
     "text": [
      "| \u001b[0m 37      \u001b[0m | \u001b[0m 20.06   \u001b[0m | \u001b[0m 1.985   \u001b[0m | \u001b[0m 4.962   \u001b[0m | \u001b[0m 6.172   \u001b[0m | \u001b[0m 0.0     \u001b[0m | \u001b[0m 4.045   \u001b[0m | \u001b[0m 2.085   \u001b[0m | \u001b[0m 7.583   \u001b[0m | \u001b[0m 5.618   \u001b[0m | \u001b[0m 3.575   \u001b[0m | \u001b[0m 4.66    \u001b[0m | \u001b[0m 8.0     \u001b[0m | \u001b[0m 5.5     \u001b[0m | \u001b[0m 4.913   \u001b[0m | \u001b[0m 4.376   \u001b[0m | \u001b[0m 4.053   \u001b[0m | \u001b[0m 4.335   \u001b[0m |\n"
     ]
    },
    {
     "name": "stderr",
     "output_type": "stream",
     "text": [
      "/home/tangosvc/anaconda3/lib/python3.7/site-packages/ipykernel_launcher.py:229: SettingWithCopyWarning: \n",
      "A value is trying to be set on a copy of a slice from a DataFrame\n",
      "\n",
      "See the caveats in the documentation: http://pandas.pydata.org/pandas-docs/stable/indexing.html#indexing-view-versus-copy\n"
     ]
    },
    {
     "name": "stdout",
     "output_type": "stream",
     "text": [
      "Request 파일(/home/tangosvc/code/data/20191113/SON_TO_TEOS_RL_REQUEST_20191113_[709].dat)을 생성합니다.\n",
      "\n",
      "TEOS_TO_SON_RL_RESULT_20191113_[709].dat에 대한 get명령을 실행합니다.\n",
      "파일 TEOS_TO_SON_RL_RESULT_20191113_[709].dat이 없어 60초 대기후 다시 확인합니다(최대60회).\n",
      "파일 TEOS_TO_SON_RL_RESULT_20191113_[709].dat이 없어 60초 대기후 다시 확인합니다(최대60회).\n",
      "파일 TEOS_TO_SON_RL_RESULT_20191113_[709].dat이 없어 60초 대기후 다시 확인합니다(최대60회).\n",
      "파일 TEOS_TO_SON_RL_RESULT_20191113_[709].dat이 없어 60초 대기후 다시 확인합니다(최대60회).\n",
      "파일 TEOS_TO_SON_RL_RESULT_20191113_[709].dat이 없어 60초 대기후 다시 확인합니다(최대60회).\n",
      "파일 TEOS_TO_SON_RL_RESULT_20191113_[709].dat이 없어 60초 대기후 다시 확인합니다(최대60회).\n",
      "파일 TEOS_TO_SON_RL_RESULT_20191113_[709].dat이 없어 60초 대기후 다시 확인합니다(최대60회).\n",
      "파일 TEOS_TO_SON_RL_RESULT_20191113_[709].dat이 없어 60초 대기후 다시 확인합니다(최대60회).\n",
      "파일 TEOS_TO_SON_RL_RESULT_20191113_[709].dat이 없어 60초 대기후 다시 확인합니다(최대60회).\n"
     ]
    },
    {
     "name": "stderr",
     "output_type": "stream",
     "text": [
      "/home/tangosvc/anaconda3/lib/python3.7/site-packages/pandas/core/reshape/merge.py:522: UserWarning: merging between different levels can give an unintended result (2 levels on the left, 1 on the right)\n",
      "  warnings.warn(msg, UserWarning)\n"
     ]
    },
    {
     "name": "stdout",
     "output_type": "stream",
     "text": [
      "| \u001b[0m 38      \u001b[0m | \u001b[0m 20.27   \u001b[0m | \u001b[0m 2.054   \u001b[0m | \u001b[0m 4.522   \u001b[0m | \u001b[0m 5.914   \u001b[0m | \u001b[0m 0.1958  \u001b[0m | \u001b[0m 4.261   \u001b[0m | \u001b[0m 1.982   \u001b[0m | \u001b[0m 7.511   \u001b[0m | \u001b[0m 6.059   \u001b[0m | \u001b[0m 3.904   \u001b[0m | \u001b[0m 5.282   \u001b[0m | \u001b[0m 8.0     \u001b[0m | \u001b[0m 5.675   \u001b[0m | \u001b[0m 4.824   \u001b[0m | \u001b[0m 5.008   \u001b[0m | \u001b[0m 3.691   \u001b[0m | \u001b[0m 4.023   \u001b[0m |\n"
     ]
    },
    {
     "name": "stderr",
     "output_type": "stream",
     "text": [
      "/home/tangosvc/anaconda3/lib/python3.7/site-packages/ipykernel_launcher.py:229: SettingWithCopyWarning: \n",
      "A value is trying to be set on a copy of a slice from a DataFrame\n",
      "\n",
      "See the caveats in the documentation: http://pandas.pydata.org/pandas-docs/stable/indexing.html#indexing-view-versus-copy\n"
     ]
    },
    {
     "name": "stdout",
     "output_type": "stream",
     "text": [
      "Request 파일(/home/tangosvc/code/data/20191113/SON_TO_TEOS_RL_REQUEST_20191113_[710].dat)을 생성합니다.\n",
      "\n",
      "TEOS_TO_SON_RL_RESULT_20191113_[710].dat에 대한 get명령을 실행합니다.\n",
      "파일 TEOS_TO_SON_RL_RESULT_20191113_[710].dat이 없어 60초 대기후 다시 확인합니다(최대60회).\n",
      "파일 TEOS_TO_SON_RL_RESULT_20191113_[710].dat이 없어 60초 대기후 다시 확인합니다(최대60회).\n",
      "파일 TEOS_TO_SON_RL_RESULT_20191113_[710].dat이 없어 60초 대기후 다시 확인합니다(최대60회).\n",
      "파일 TEOS_TO_SON_RL_RESULT_20191113_[710].dat이 없어 60초 대기후 다시 확인합니다(최대60회).\n",
      "파일 TEOS_TO_SON_RL_RESULT_20191113_[710].dat이 없어 60초 대기후 다시 확인합니다(최대60회).\n",
      "파일 TEOS_TO_SON_RL_RESULT_20191113_[710].dat이 없어 60초 대기후 다시 확인합니다(최대60회).\n",
      "파일 TEOS_TO_SON_RL_RESULT_20191113_[710].dat이 없어 60초 대기후 다시 확인합니다(최대60회).\n",
      "파일 TEOS_TO_SON_RL_RESULT_20191113_[710].dat이 없어 60초 대기후 다시 확인합니다(최대60회).\n",
      "파일 TEOS_TO_SON_RL_RESULT_20191113_[710].dat이 없어 60초 대기후 다시 확인합니다(최대60회).\n",
      "파일 TEOS_TO_SON_RL_RESULT_20191113_[710].dat이 없어 60초 대기후 다시 확인합니다(최대60회).\n"
     ]
    },
    {
     "name": "stderr",
     "output_type": "stream",
     "text": [
      "/home/tangosvc/anaconda3/lib/python3.7/site-packages/pandas/core/reshape/merge.py:522: UserWarning: merging between different levels can give an unintended result (2 levels on the left, 1 on the right)\n",
      "  warnings.warn(msg, UserWarning)\n"
     ]
    },
    {
     "name": "stdout",
     "output_type": "stream",
     "text": [
      "| \u001b[0m 39      \u001b[0m | \u001b[0m 19.56   \u001b[0m | \u001b[0m 1.75    \u001b[0m | \u001b[0m 4.845   \u001b[0m | \u001b[0m 5.637   \u001b[0m | \u001b[0m 0.0     \u001b[0m | \u001b[0m 4.096   \u001b[0m | \u001b[0m 2.152   \u001b[0m | \u001b[0m 7.383   \u001b[0m | \u001b[0m 6.117   \u001b[0m | \u001b[0m 4.224   \u001b[0m | \u001b[0m 4.433   \u001b[0m | \u001b[0m 8.0     \u001b[0m | \u001b[0m 6.001   \u001b[0m | \u001b[0m 4.566   \u001b[0m | \u001b[0m 4.707   \u001b[0m | \u001b[0m 3.814   \u001b[0m | \u001b[0m 4.048   \u001b[0m |\n"
     ]
    },
    {
     "name": "stderr",
     "output_type": "stream",
     "text": [
      "/home/tangosvc/anaconda3/lib/python3.7/site-packages/ipykernel_launcher.py:229: SettingWithCopyWarning: \n",
      "A value is trying to be set on a copy of a slice from a DataFrame\n",
      "\n",
      "See the caveats in the documentation: http://pandas.pydata.org/pandas-docs/stable/indexing.html#indexing-view-versus-copy\n"
     ]
    },
    {
     "name": "stdout",
     "output_type": "stream",
     "text": [
      "Request 파일(/home/tangosvc/code/data/20191113/SON_TO_TEOS_RL_REQUEST_20191113_[711].dat)을 생성합니다.\n",
      "\n",
      "TEOS_TO_SON_RL_RESULT_20191113_[711].dat에 대한 get명령을 실행합니다.\n",
      "파일 TEOS_TO_SON_RL_RESULT_20191113_[711].dat이 없어 60초 대기후 다시 확인합니다(최대60회).\n",
      "파일 TEOS_TO_SON_RL_RESULT_20191113_[711].dat이 없어 60초 대기후 다시 확인합니다(최대60회).\n",
      "파일 TEOS_TO_SON_RL_RESULT_20191113_[711].dat이 없어 60초 대기후 다시 확인합니다(최대60회).\n",
      "파일 TEOS_TO_SON_RL_RESULT_20191113_[711].dat이 없어 60초 대기후 다시 확인합니다(최대60회).\n",
      "파일 TEOS_TO_SON_RL_RESULT_20191113_[711].dat이 없어 60초 대기후 다시 확인합니다(최대60회).\n",
      "파일 TEOS_TO_SON_RL_RESULT_20191113_[711].dat이 없어 60초 대기후 다시 확인합니다(최대60회).\n",
      "파일 TEOS_TO_SON_RL_RESULT_20191113_[711].dat이 없어 60초 대기후 다시 확인합니다(최대60회).\n",
      "파일 TEOS_TO_SON_RL_RESULT_20191113_[711].dat이 없어 60초 대기후 다시 확인합니다(최대60회).\n",
      "파일 TEOS_TO_SON_RL_RESULT_20191113_[711].dat이 없어 60초 대기후 다시 확인합니다(최대60회).\n",
      "파일 TEOS_TO_SON_RL_RESULT_20191113_[711].dat이 없어 60초 대기후 다시 확인합니다(최대60회).\n"
     ]
    },
    {
     "name": "stderr",
     "output_type": "stream",
     "text": [
      "/home/tangosvc/anaconda3/lib/python3.7/site-packages/pandas/core/reshape/merge.py:522: UserWarning: merging between different levels can give an unintended result (2 levels on the left, 1 on the right)\n",
      "  warnings.warn(msg, UserWarning)\n"
     ]
    },
    {
     "name": "stdout",
     "output_type": "stream",
     "text": [
      "| \u001b[95m 40      \u001b[0m | \u001b[95m 20.85   \u001b[0m | \u001b[95m 2.098   \u001b[0m | \u001b[95m 4.56    \u001b[0m | \u001b[95m 5.762   \u001b[0m | \u001b[95m 0.1038  \u001b[0m | \u001b[95m 4.116   \u001b[0m | \u001b[95m 1.891   \u001b[0m | \u001b[95m 7.385   \u001b[0m | \u001b[95m 5.197   \u001b[0m | \u001b[95m 3.944   \u001b[0m | \u001b[95m 4.791   \u001b[0m | \u001b[95m 8.0     \u001b[0m | \u001b[95m 5.565   \u001b[0m | \u001b[95m 4.888   \u001b[0m | \u001b[95m 5.171   \u001b[0m | \u001b[95m 3.752   \u001b[0m | \u001b[95m 4.558   \u001b[0m |\n"
     ]
    },
    {
     "name": "stderr",
     "output_type": "stream",
     "text": [
      "/home/tangosvc/anaconda3/lib/python3.7/site-packages/ipykernel_launcher.py:229: SettingWithCopyWarning: \n",
      "A value is trying to be set on a copy of a slice from a DataFrame\n",
      "\n",
      "See the caveats in the documentation: http://pandas.pydata.org/pandas-docs/stable/indexing.html#indexing-view-versus-copy\n"
     ]
    },
    {
     "name": "stdout",
     "output_type": "stream",
     "text": [
      "Request 파일(/home/tangosvc/code/data/20191113/SON_TO_TEOS_RL_REQUEST_20191113_[712].dat)을 생성합니다.\n",
      "\n",
      "TEOS_TO_SON_RL_RESULT_20191113_[712].dat에 대한 get명령을 실행합니다.\n",
      "파일 TEOS_TO_SON_RL_RESULT_20191113_[712].dat이 없어 60초 대기후 다시 확인합니다(최대60회).\n",
      "파일 TEOS_TO_SON_RL_RESULT_20191113_[712].dat이 없어 60초 대기후 다시 확인합니다(최대60회).\n",
      "파일 TEOS_TO_SON_RL_RESULT_20191113_[712].dat이 없어 60초 대기후 다시 확인합니다(최대60회).\n",
      "파일 TEOS_TO_SON_RL_RESULT_20191113_[712].dat이 없어 60초 대기후 다시 확인합니다(최대60회).\n",
      "파일 TEOS_TO_SON_RL_RESULT_20191113_[712].dat이 없어 60초 대기후 다시 확인합니다(최대60회).\n",
      "파일 TEOS_TO_SON_RL_RESULT_20191113_[712].dat이 없어 60초 대기후 다시 확인합니다(최대60회).\n",
      "파일 TEOS_TO_SON_RL_RESULT_20191113_[712].dat이 없어 60초 대기후 다시 확인합니다(최대60회).\n",
      "파일 TEOS_TO_SON_RL_RESULT_20191113_[712].dat이 없어 60초 대기후 다시 확인합니다(최대60회).\n",
      "파일 TEOS_TO_SON_RL_RESULT_20191113_[712].dat이 없어 60초 대기후 다시 확인합니다(최대60회).\n",
      "파일 TEOS_TO_SON_RL_RESULT_20191113_[712].dat이 없어 60초 대기후 다시 확인합니다(최대60회).\n"
     ]
    },
    {
     "name": "stderr",
     "output_type": "stream",
     "text": [
      "/home/tangosvc/anaconda3/lib/python3.7/site-packages/pandas/core/reshape/merge.py:522: UserWarning: merging between different levels can give an unintended result (2 levels on the left, 1 on the right)\n",
      "  warnings.warn(msg, UserWarning)\n"
     ]
    },
    {
     "name": "stdout",
     "output_type": "stream",
     "text": [
      "| \u001b[0m 41      \u001b[0m | \u001b[0m 20.25   \u001b[0m | \u001b[0m 2.156   \u001b[0m | \u001b[0m 4.515   \u001b[0m | \u001b[0m 5.874   \u001b[0m | \u001b[0m 0.7158  \u001b[0m | \u001b[0m 4.178   \u001b[0m | \u001b[0m 1.892   \u001b[0m | \u001b[0m 7.566   \u001b[0m | \u001b[0m 5.618   \u001b[0m | \u001b[0m 3.617   \u001b[0m | \u001b[0m 4.665   \u001b[0m | \u001b[0m 8.0     \u001b[0m | \u001b[0m 5.556   \u001b[0m | \u001b[0m 4.965   \u001b[0m | \u001b[0m 5.036   \u001b[0m | \u001b[0m 3.86    \u001b[0m | \u001b[0m 4.382   \u001b[0m |\n"
     ]
    },
    {
     "name": "stderr",
     "output_type": "stream",
     "text": [
      "/home/tangosvc/anaconda3/lib/python3.7/site-packages/ipykernel_launcher.py:229: SettingWithCopyWarning: \n",
      "A value is trying to be set on a copy of a slice from a DataFrame\n",
      "\n",
      "See the caveats in the documentation: http://pandas.pydata.org/pandas-docs/stable/indexing.html#indexing-view-versus-copy\n"
     ]
    },
    {
     "name": "stdout",
     "output_type": "stream",
     "text": [
      "Request 파일(/home/tangosvc/code/data/20191113/SON_TO_TEOS_RL_REQUEST_20191113_[713].dat)을 생성합니다.\n",
      "\n",
      "TEOS_TO_SON_RL_RESULT_20191113_[713].dat에 대한 get명령을 실행합니다.\n",
      "파일 TEOS_TO_SON_RL_RESULT_20191113_[713].dat이 없어 60초 대기후 다시 확인합니다(최대60회).\n",
      "파일 TEOS_TO_SON_RL_RESULT_20191113_[713].dat이 없어 60초 대기후 다시 확인합니다(최대60회).\n",
      "파일 TEOS_TO_SON_RL_RESULT_20191113_[713].dat이 없어 60초 대기후 다시 확인합니다(최대60회).\n",
      "파일 TEOS_TO_SON_RL_RESULT_20191113_[713].dat이 없어 60초 대기후 다시 확인합니다(최대60회).\n",
      "파일 TEOS_TO_SON_RL_RESULT_20191113_[713].dat이 없어 60초 대기후 다시 확인합니다(최대60회).\n",
      "파일 TEOS_TO_SON_RL_RESULT_20191113_[713].dat이 없어 60초 대기후 다시 확인합니다(최대60회).\n",
      "파일 TEOS_TO_SON_RL_RESULT_20191113_[713].dat이 없어 60초 대기후 다시 확인합니다(최대60회).\n",
      "파일 TEOS_TO_SON_RL_RESULT_20191113_[713].dat이 없어 60초 대기후 다시 확인합니다(최대60회).\n",
      "파일 TEOS_TO_SON_RL_RESULT_20191113_[713].dat이 없어 60초 대기후 다시 확인합니다(최대60회).\n",
      "파일 TEOS_TO_SON_RL_RESULT_20191113_[713].dat이 없어 60초 대기후 다시 확인합니다(최대60회).\n"
     ]
    },
    {
     "name": "stderr",
     "output_type": "stream",
     "text": [
      "/home/tangosvc/anaconda3/lib/python3.7/site-packages/pandas/core/reshape/merge.py:522: UserWarning: merging between different levels can give an unintended result (2 levels on the left, 1 on the right)\n",
      "  warnings.warn(msg, UserWarning)\n"
     ]
    },
    {
     "name": "stdout",
     "output_type": "stream",
     "text": [
      "| \u001b[0m 42      \u001b[0m | \u001b[0m 20.59   \u001b[0m | \u001b[0m 1.606   \u001b[0m | \u001b[0m 4.516   \u001b[0m | \u001b[0m 6.202   \u001b[0m | \u001b[0m 0.0     \u001b[0m | \u001b[0m 4.15    \u001b[0m | \u001b[0m 2.185   \u001b[0m | \u001b[0m 7.342   \u001b[0m | \u001b[0m 5.117   \u001b[0m | \u001b[0m 4.094   \u001b[0m | \u001b[0m 5.092   \u001b[0m | \u001b[0m 8.0     \u001b[0m | \u001b[0m 5.344   \u001b[0m | \u001b[0m 4.927   \u001b[0m | \u001b[0m 5.151   \u001b[0m | \u001b[0m 3.985   \u001b[0m | \u001b[0m 4.189   \u001b[0m |\n"
     ]
    },
    {
     "name": "stderr",
     "output_type": "stream",
     "text": [
      "/home/tangosvc/anaconda3/lib/python3.7/site-packages/ipykernel_launcher.py:229: SettingWithCopyWarning: \n",
      "A value is trying to be set on a copy of a slice from a DataFrame\n",
      "\n",
      "See the caveats in the documentation: http://pandas.pydata.org/pandas-docs/stable/indexing.html#indexing-view-versus-copy\n"
     ]
    },
    {
     "name": "stdout",
     "output_type": "stream",
     "text": [
      "Request 파일(/home/tangosvc/code/data/20191113/SON_TO_TEOS_RL_REQUEST_20191113_[714].dat)을 생성합니다.\n",
      "\n",
      "TEOS_TO_SON_RL_RESULT_20191113_[714].dat에 대한 get명령을 실행합니다.\n",
      "파일 TEOS_TO_SON_RL_RESULT_20191113_[714].dat이 없어 60초 대기후 다시 확인합니다(최대60회).\n",
      "파일 TEOS_TO_SON_RL_RESULT_20191113_[714].dat이 없어 60초 대기후 다시 확인합니다(최대60회).\n",
      "파일 TEOS_TO_SON_RL_RESULT_20191113_[714].dat이 없어 60초 대기후 다시 확인합니다(최대60회).\n",
      "파일 TEOS_TO_SON_RL_RESULT_20191113_[714].dat이 없어 60초 대기후 다시 확인합니다(최대60회).\n",
      "파일 TEOS_TO_SON_RL_RESULT_20191113_[714].dat이 없어 60초 대기후 다시 확인합니다(최대60회).\n",
      "파일 TEOS_TO_SON_RL_RESULT_20191113_[714].dat이 없어 60초 대기후 다시 확인합니다(최대60회).\n",
      "파일 TEOS_TO_SON_RL_RESULT_20191113_[714].dat이 없어 60초 대기후 다시 확인합니다(최대60회).\n",
      "파일 TEOS_TO_SON_RL_RESULT_20191113_[714].dat이 없어 60초 대기후 다시 확인합니다(최대60회).\n",
      "파일 TEOS_TO_SON_RL_RESULT_20191113_[714].dat이 없어 60초 대기후 다시 확인합니다(최대60회).\n",
      "파일 TEOS_TO_SON_RL_RESULT_20191113_[714].dat이 없어 60초 대기후 다시 확인합니다(최대60회).\n"
     ]
    },
    {
     "name": "stderr",
     "output_type": "stream",
     "text": [
      "/home/tangosvc/anaconda3/lib/python3.7/site-packages/pandas/core/reshape/merge.py:522: UserWarning: merging between different levels can give an unintended result (2 levels on the left, 1 on the right)\n",
      "  warnings.warn(msg, UserWarning)\n"
     ]
    },
    {
     "name": "stdout",
     "output_type": "stream",
     "text": [
      "| \u001b[0m 43      \u001b[0m | \u001b[0m 20.7    \u001b[0m | \u001b[0m 1.727   \u001b[0m | \u001b[0m 5.125   \u001b[0m | \u001b[0m 5.605   \u001b[0m | \u001b[0m 0.0     \u001b[0m | \u001b[0m 4.242   \u001b[0m | \u001b[0m 1.968   \u001b[0m | \u001b[0m 7.353   \u001b[0m | \u001b[0m 5.222   \u001b[0m | \u001b[0m 3.607   \u001b[0m | \u001b[0m 5.23    \u001b[0m | \u001b[0m 8.0     \u001b[0m | \u001b[0m 5.738   \u001b[0m | \u001b[0m 4.867   \u001b[0m | \u001b[0m 5.161   \u001b[0m | \u001b[0m 3.764   \u001b[0m | \u001b[0m 4.228   \u001b[0m |\n"
     ]
    },
    {
     "name": "stderr",
     "output_type": "stream",
     "text": [
      "/home/tangosvc/anaconda3/lib/python3.7/site-packages/ipykernel_launcher.py:229: SettingWithCopyWarning: \n",
      "A value is trying to be set on a copy of a slice from a DataFrame\n",
      "\n",
      "See the caveats in the documentation: http://pandas.pydata.org/pandas-docs/stable/indexing.html#indexing-view-versus-copy\n"
     ]
    },
    {
     "name": "stdout",
     "output_type": "stream",
     "text": [
      "Request 파일(/home/tangosvc/code/data/20191113/SON_TO_TEOS_RL_REQUEST_20191113_[715].dat)을 생성합니다.\n",
      "\n",
      "TEOS_TO_SON_RL_RESULT_20191113_[715].dat에 대한 get명령을 실행합니다.\n",
      "파일 TEOS_TO_SON_RL_RESULT_20191113_[715].dat이 없어 60초 대기후 다시 확인합니다(최대60회).\n",
      "파일 TEOS_TO_SON_RL_RESULT_20191113_[715].dat이 없어 60초 대기후 다시 확인합니다(최대60회).\n",
      "파일 TEOS_TO_SON_RL_RESULT_20191113_[715].dat이 없어 60초 대기후 다시 확인합니다(최대60회).\n",
      "파일 TEOS_TO_SON_RL_RESULT_20191113_[715].dat이 없어 60초 대기후 다시 확인합니다(최대60회).\n",
      "파일 TEOS_TO_SON_RL_RESULT_20191113_[715].dat이 없어 60초 대기후 다시 확인합니다(최대60회).\n",
      "파일 TEOS_TO_SON_RL_RESULT_20191113_[715].dat이 없어 60초 대기후 다시 확인합니다(최대60회).\n",
      "파일 TEOS_TO_SON_RL_RESULT_20191113_[715].dat이 없어 60초 대기후 다시 확인합니다(최대60회).\n",
      "파일 TEOS_TO_SON_RL_RESULT_20191113_[715].dat이 없어 60초 대기후 다시 확인합니다(최대60회).\n",
      "파일 TEOS_TO_SON_RL_RESULT_20191113_[715].dat이 없어 60초 대기후 다시 확인합니다(최대60회).\n",
      "파일 TEOS_TO_SON_RL_RESULT_20191113_[715].dat이 없어 60초 대기후 다시 확인합니다(최대60회).\n"
     ]
    },
    {
     "name": "stderr",
     "output_type": "stream",
     "text": [
      "/home/tangosvc/anaconda3/lib/python3.7/site-packages/pandas/core/reshape/merge.py:522: UserWarning: merging between different levels can give an unintended result (2 levels on the left, 1 on the right)\n",
      "  warnings.warn(msg, UserWarning)\n"
     ]
    },
    {
     "name": "stdout",
     "output_type": "stream",
     "text": [
      "| \u001b[0m 44      \u001b[0m | \u001b[0m 20.81   \u001b[0m | \u001b[0m 2.229   \u001b[0m | \u001b[0m 4.837   \u001b[0m | \u001b[0m 5.665   \u001b[0m | \u001b[0m 0.0     \u001b[0m | \u001b[0m 4.065   \u001b[0m | \u001b[0m 2.636   \u001b[0m | \u001b[0m 7.072   \u001b[0m | \u001b[0m 5.383   \u001b[0m | \u001b[0m 3.638   \u001b[0m | \u001b[0m 5.058   \u001b[0m | \u001b[0m 8.0     \u001b[0m | \u001b[0m 5.198   \u001b[0m | \u001b[0m 4.783   \u001b[0m | \u001b[0m 5.29    \u001b[0m | \u001b[0m 3.764   \u001b[0m | \u001b[0m 4.426   \u001b[0m |\n"
     ]
    },
    {
     "name": "stderr",
     "output_type": "stream",
     "text": [
      "/home/tangosvc/anaconda3/lib/python3.7/site-packages/ipykernel_launcher.py:229: SettingWithCopyWarning: \n",
      "A value is trying to be set on a copy of a slice from a DataFrame\n",
      "\n",
      "See the caveats in the documentation: http://pandas.pydata.org/pandas-docs/stable/indexing.html#indexing-view-versus-copy\n"
     ]
    },
    {
     "name": "stdout",
     "output_type": "stream",
     "text": [
      "Request 파일(/home/tangosvc/code/data/20191113/SON_TO_TEOS_RL_REQUEST_20191113_[716].dat)을 생성합니다.\n",
      "\n",
      "TEOS_TO_SON_RL_RESULT_20191113_[716].dat에 대한 get명령을 실행합니다.\n",
      "파일 TEOS_TO_SON_RL_RESULT_20191113_[716].dat이 없어 60초 대기후 다시 확인합니다(최대60회).\n",
      "파일 TEOS_TO_SON_RL_RESULT_20191113_[716].dat이 없어 60초 대기후 다시 확인합니다(최대60회).\n",
      "파일 TEOS_TO_SON_RL_RESULT_20191113_[716].dat이 없어 60초 대기후 다시 확인합니다(최대60회).\n",
      "파일 TEOS_TO_SON_RL_RESULT_20191113_[716].dat이 없어 60초 대기후 다시 확인합니다(최대60회).\n",
      "파일 TEOS_TO_SON_RL_RESULT_20191113_[716].dat이 없어 60초 대기후 다시 확인합니다(최대60회).\n",
      "파일 TEOS_TO_SON_RL_RESULT_20191113_[716].dat이 없어 60초 대기후 다시 확인합니다(최대60회).\n",
      "파일 TEOS_TO_SON_RL_RESULT_20191113_[716].dat이 없어 60초 대기후 다시 확인합니다(최대60회).\n",
      "파일 TEOS_TO_SON_RL_RESULT_20191113_[716].dat이 없어 60초 대기후 다시 확인합니다(최대60회).\n",
      "파일 TEOS_TO_SON_RL_RESULT_20191113_[716].dat이 없어 60초 대기후 다시 확인합니다(최대60회).\n",
      "파일 TEOS_TO_SON_RL_RESULT_20191113_[716].dat이 없어 60초 대기후 다시 확인합니다(최대60회).\n"
     ]
    },
    {
     "name": "stderr",
     "output_type": "stream",
     "text": [
      "/home/tangosvc/anaconda3/lib/python3.7/site-packages/pandas/core/reshape/merge.py:522: UserWarning: merging between different levels can give an unintended result (2 levels on the left, 1 on the right)\n",
      "  warnings.warn(msg, UserWarning)\n"
     ]
    },
    {
     "name": "stdout",
     "output_type": "stream",
     "text": [
      "| \u001b[0m 45      \u001b[0m | \u001b[0m 20.6    \u001b[0m | \u001b[0m 2.181   \u001b[0m | \u001b[0m 4.783   \u001b[0m | \u001b[0m 5.421   \u001b[0m | \u001b[0m 0.0     \u001b[0m | \u001b[0m 4.55    \u001b[0m | \u001b[0m 2.216   \u001b[0m | \u001b[0m 7.04    \u001b[0m | \u001b[0m 5.124   \u001b[0m | \u001b[0m 4.026   \u001b[0m | \u001b[0m 5.042   \u001b[0m | \u001b[0m 8.0     \u001b[0m | \u001b[0m 5.122   \u001b[0m | \u001b[0m 5.257   \u001b[0m | \u001b[0m 4.814   \u001b[0m | \u001b[0m 3.639   \u001b[0m | \u001b[0m 4.122   \u001b[0m |\n"
     ]
    },
    {
     "name": "stderr",
     "output_type": "stream",
     "text": [
      "/home/tangosvc/anaconda3/lib/python3.7/site-packages/ipykernel_launcher.py:229: SettingWithCopyWarning: \n",
      "A value is trying to be set on a copy of a slice from a DataFrame\n",
      "\n",
      "See the caveats in the documentation: http://pandas.pydata.org/pandas-docs/stable/indexing.html#indexing-view-versus-copy\n"
     ]
    },
    {
     "name": "stdout",
     "output_type": "stream",
     "text": [
      "Request 파일(/home/tangosvc/code/data/20191113/SON_TO_TEOS_RL_REQUEST_20191113_[717].dat)을 생성합니다.\n",
      "\n",
      "TEOS_TO_SON_RL_RESULT_20191113_[717].dat에 대한 get명령을 실행합니다.\n",
      "파일 TEOS_TO_SON_RL_RESULT_20191113_[717].dat이 없어 60초 대기후 다시 확인합니다(최대60회).\n",
      "파일 TEOS_TO_SON_RL_RESULT_20191113_[717].dat이 없어 60초 대기후 다시 확인합니다(최대60회).\n",
      "파일 TEOS_TO_SON_RL_RESULT_20191113_[717].dat이 없어 60초 대기후 다시 확인합니다(최대60회).\n",
      "파일 TEOS_TO_SON_RL_RESULT_20191113_[717].dat이 없어 60초 대기후 다시 확인합니다(최대60회).\n",
      "파일 TEOS_TO_SON_RL_RESULT_20191113_[717].dat이 없어 60초 대기후 다시 확인합니다(최대60회).\n",
      "파일 TEOS_TO_SON_RL_RESULT_20191113_[717].dat이 없어 60초 대기후 다시 확인합니다(최대60회).\n",
      "파일 TEOS_TO_SON_RL_RESULT_20191113_[717].dat이 없어 60초 대기후 다시 확인합니다(최대60회).\n",
      "파일 TEOS_TO_SON_RL_RESULT_20191113_[717].dat이 없어 60초 대기후 다시 확인합니다(최대60회).\n",
      "파일 TEOS_TO_SON_RL_RESULT_20191113_[717].dat이 없어 60초 대기후 다시 확인합니다(최대60회).\n",
      "파일 TEOS_TO_SON_RL_RESULT_20191113_[717].dat이 없어 60초 대기후 다시 확인합니다(최대60회).\n"
     ]
    },
    {
     "name": "stderr",
     "output_type": "stream",
     "text": [
      "/home/tangosvc/anaconda3/lib/python3.7/site-packages/pandas/core/reshape/merge.py:522: UserWarning: merging between different levels can give an unintended result (2 levels on the left, 1 on the right)\n",
      "  warnings.warn(msg, UserWarning)\n"
     ]
    },
    {
     "name": "stdout",
     "output_type": "stream",
     "text": [
      "| \u001b[0m 46      \u001b[0m | \u001b[0m 20.52   \u001b[0m | \u001b[0m 2.306   \u001b[0m | \u001b[0m 4.615   \u001b[0m | \u001b[0m 5.71    \u001b[0m | \u001b[0m 0.0     \u001b[0m | \u001b[0m 3.816   \u001b[0m | \u001b[0m 1.887   \u001b[0m | \u001b[0m 6.478   \u001b[0m | \u001b[0m 5.06    \u001b[0m | \u001b[0m 3.568   \u001b[0m | \u001b[0m 5.148   \u001b[0m | \u001b[0m 8.0     \u001b[0m | \u001b[0m 5.421   \u001b[0m | \u001b[0m 4.868   \u001b[0m | \u001b[0m 5.095   \u001b[0m | \u001b[0m 3.919   \u001b[0m | \u001b[0m 4.009   \u001b[0m |\n"
     ]
    },
    {
     "name": "stderr",
     "output_type": "stream",
     "text": [
      "/home/tangosvc/anaconda3/lib/python3.7/site-packages/ipykernel_launcher.py:229: SettingWithCopyWarning: \n",
      "A value is trying to be set on a copy of a slice from a DataFrame\n",
      "\n",
      "See the caveats in the documentation: http://pandas.pydata.org/pandas-docs/stable/indexing.html#indexing-view-versus-copy\n"
     ]
    },
    {
     "name": "stdout",
     "output_type": "stream",
     "text": [
      "Request 파일(/home/tangosvc/code/data/20191113/SON_TO_TEOS_RL_REQUEST_20191113_[718].dat)을 생성합니다.\n",
      "\n",
      "TEOS_TO_SON_RL_RESULT_20191113_[718].dat에 대한 get명령을 실행합니다.\n",
      "파일 TEOS_TO_SON_RL_RESULT_20191113_[718].dat이 없어 60초 대기후 다시 확인합니다(최대60회).\n",
      "파일 TEOS_TO_SON_RL_RESULT_20191113_[718].dat이 없어 60초 대기후 다시 확인합니다(최대60회).\n",
      "파일 TEOS_TO_SON_RL_RESULT_20191113_[718].dat이 없어 60초 대기후 다시 확인합니다(최대60회).\n",
      "파일 TEOS_TO_SON_RL_RESULT_20191113_[718].dat이 없어 60초 대기후 다시 확인합니다(최대60회).\n",
      "파일 TEOS_TO_SON_RL_RESULT_20191113_[718].dat이 없어 60초 대기후 다시 확인합니다(최대60회).\n",
      "파일 TEOS_TO_SON_RL_RESULT_20191113_[718].dat이 없어 60초 대기후 다시 확인합니다(최대60회).\n",
      "파일 TEOS_TO_SON_RL_RESULT_20191113_[718].dat이 없어 60초 대기후 다시 확인합니다(최대60회).\n",
      "파일 TEOS_TO_SON_RL_RESULT_20191113_[718].dat이 없어 60초 대기후 다시 확인합니다(최대60회).\n",
      "파일 TEOS_TO_SON_RL_RESULT_20191113_[718].dat이 없어 60초 대기후 다시 확인합니다(최대60회).\n",
      "파일 TEOS_TO_SON_RL_RESULT_20191113_[718].dat이 없어 60초 대기후 다시 확인합니다(최대60회).\n"
     ]
    },
    {
     "name": "stderr",
     "output_type": "stream",
     "text": [
      "/home/tangosvc/anaconda3/lib/python3.7/site-packages/pandas/core/reshape/merge.py:522: UserWarning: merging between different levels can give an unintended result (2 levels on the left, 1 on the right)\n",
      "  warnings.warn(msg, UserWarning)\n"
     ]
    },
    {
     "name": "stdout",
     "output_type": "stream",
     "text": [
      "| \u001b[0m 47      \u001b[0m | \u001b[0m 20.37   \u001b[0m | \u001b[0m 1.941   \u001b[0m | \u001b[0m 5.001   \u001b[0m | \u001b[0m 5.603   \u001b[0m | \u001b[0m 0.0     \u001b[0m | \u001b[0m 3.683   \u001b[0m | \u001b[0m 2.019   \u001b[0m | \u001b[0m 7.037   \u001b[0m | \u001b[0m 5.455   \u001b[0m | \u001b[0m 3.916   \u001b[0m | \u001b[0m 5.062   \u001b[0m | \u001b[0m 8.0     \u001b[0m | \u001b[0m 5.08    \u001b[0m | \u001b[0m 5.611   \u001b[0m | \u001b[0m 5.452   \u001b[0m | \u001b[0m 3.753   \u001b[0m | \u001b[0m 4.447   \u001b[0m |\n"
     ]
    },
    {
     "name": "stderr",
     "output_type": "stream",
     "text": [
      "/home/tangosvc/anaconda3/lib/python3.7/site-packages/ipykernel_launcher.py:229: SettingWithCopyWarning: \n",
      "A value is trying to be set on a copy of a slice from a DataFrame\n",
      "\n",
      "See the caveats in the documentation: http://pandas.pydata.org/pandas-docs/stable/indexing.html#indexing-view-versus-copy\n"
     ]
    },
    {
     "name": "stdout",
     "output_type": "stream",
     "text": [
      "Request 파일(/home/tangosvc/code/data/20191113/SON_TO_TEOS_RL_REQUEST_20191113_[719].dat)을 생성합니다.\n",
      "\n",
      "TEOS_TO_SON_RL_RESULT_20191113_[719].dat에 대한 get명령을 실행합니다.\n",
      "파일 TEOS_TO_SON_RL_RESULT_20191113_[719].dat이 없어 60초 대기후 다시 확인합니다(최대60회).\n",
      "파일 TEOS_TO_SON_RL_RESULT_20191113_[719].dat이 없어 60초 대기후 다시 확인합니다(최대60회).\n",
      "파일 TEOS_TO_SON_RL_RESULT_20191113_[719].dat이 없어 60초 대기후 다시 확인합니다(최대60회).\n",
      "파일 TEOS_TO_SON_RL_RESULT_20191113_[719].dat이 없어 60초 대기후 다시 확인합니다(최대60회).\n",
      "파일 TEOS_TO_SON_RL_RESULT_20191113_[719].dat이 없어 60초 대기후 다시 확인합니다(최대60회).\n",
      "파일 TEOS_TO_SON_RL_RESULT_20191113_[719].dat이 없어 60초 대기후 다시 확인합니다(최대60회).\n",
      "파일 TEOS_TO_SON_RL_RESULT_20191113_[719].dat이 없어 60초 대기후 다시 확인합니다(최대60회).\n",
      "파일 TEOS_TO_SON_RL_RESULT_20191113_[719].dat이 없어 60초 대기후 다시 확인합니다(최대60회).\n",
      "파일 TEOS_TO_SON_RL_RESULT_20191113_[719].dat이 없어 60초 대기후 다시 확인합니다(최대60회).\n"
     ]
    },
    {
     "name": "stderr",
     "output_type": "stream",
     "text": [
      "/home/tangosvc/anaconda3/lib/python3.7/site-packages/pandas/core/reshape/merge.py:522: UserWarning: merging between different levels can give an unintended result (2 levels on the left, 1 on the right)\n",
      "  warnings.warn(msg, UserWarning)\n"
     ]
    },
    {
     "name": "stdout",
     "output_type": "stream",
     "text": [
      "| \u001b[0m 48      \u001b[0m | \u001b[0m 20.18   \u001b[0m | \u001b[0m 2.377   \u001b[0m | \u001b[0m 4.86    \u001b[0m | \u001b[0m 5.758   \u001b[0m | \u001b[0m 0.0     \u001b[0m | \u001b[0m 3.752   \u001b[0m | \u001b[0m 2.389   \u001b[0m | \u001b[0m 7.519   \u001b[0m | \u001b[0m 4.755   \u001b[0m | \u001b[0m 3.739   \u001b[0m | \u001b[0m 5.047   \u001b[0m | \u001b[0m 8.0     \u001b[0m | \u001b[0m 5.412   \u001b[0m | \u001b[0m 5.153   \u001b[0m | \u001b[0m 5.276   \u001b[0m | \u001b[0m 3.147   \u001b[0m | \u001b[0m 3.837   \u001b[0m |\n"
     ]
    },
    {
     "name": "stderr",
     "output_type": "stream",
     "text": [
      "/home/tangosvc/anaconda3/lib/python3.7/site-packages/ipykernel_launcher.py:229: SettingWithCopyWarning: \n",
      "A value is trying to be set on a copy of a slice from a DataFrame\n",
      "\n",
      "See the caveats in the documentation: http://pandas.pydata.org/pandas-docs/stable/indexing.html#indexing-view-versus-copy\n"
     ]
    },
    {
     "name": "stdout",
     "output_type": "stream",
     "text": [
      "Request 파일(/home/tangosvc/code/data/20191113/SON_TO_TEOS_RL_REQUEST_20191113_[720].dat)을 생성합니다.\n",
      "\n",
      "TEOS_TO_SON_RL_RESULT_20191113_[720].dat에 대한 get명령을 실행합니다.\n",
      "파일 TEOS_TO_SON_RL_RESULT_20191113_[720].dat이 없어 60초 대기후 다시 확인합니다(최대60회).\n",
      "파일 TEOS_TO_SON_RL_RESULT_20191113_[720].dat이 없어 60초 대기후 다시 확인합니다(최대60회).\n",
      "파일 TEOS_TO_SON_RL_RESULT_20191113_[720].dat이 없어 60초 대기후 다시 확인합니다(최대60회).\n",
      "파일 TEOS_TO_SON_RL_RESULT_20191113_[720].dat이 없어 60초 대기후 다시 확인합니다(최대60회).\n",
      "파일 TEOS_TO_SON_RL_RESULT_20191113_[720].dat이 없어 60초 대기후 다시 확인합니다(최대60회).\n",
      "파일 TEOS_TO_SON_RL_RESULT_20191113_[720].dat이 없어 60초 대기후 다시 확인합니다(최대60회).\n",
      "파일 TEOS_TO_SON_RL_RESULT_20191113_[720].dat이 없어 60초 대기후 다시 확인합니다(최대60회).\n",
      "파일 TEOS_TO_SON_RL_RESULT_20191113_[720].dat이 없어 60초 대기후 다시 확인합니다(최대60회).\n",
      "파일 TEOS_TO_SON_RL_RESULT_20191113_[720].dat이 없어 60초 대기후 다시 확인합니다(최대60회).\n",
      "파일 TEOS_TO_SON_RL_RESULT_20191113_[720].dat이 없어 60초 대기후 다시 확인합니다(최대60회).\n"
     ]
    },
    {
     "name": "stderr",
     "output_type": "stream",
     "text": [
      "/home/tangosvc/anaconda3/lib/python3.7/site-packages/pandas/core/reshape/merge.py:522: UserWarning: merging between different levels can give an unintended result (2 levels on the left, 1 on the right)\n",
      "  warnings.warn(msg, UserWarning)\n"
     ]
    },
    {
     "name": "stdout",
     "output_type": "stream",
     "text": [
      "| \u001b[95m 49      \u001b[0m | \u001b[95m 21.0    \u001b[0m | \u001b[95m 1.922   \u001b[0m | \u001b[95m 4.672   \u001b[0m | \u001b[95m 5.893   \u001b[0m | \u001b[95m 0.0     \u001b[0m | \u001b[95m 4.548   \u001b[0m | \u001b[95m 2.278   \u001b[0m | \u001b[95m 6.698   \u001b[0m | \u001b[95m 5.191   \u001b[0m | \u001b[95m 4.041   \u001b[0m | \u001b[95m 5.497   \u001b[0m | \u001b[95m 8.0     \u001b[0m | \u001b[95m 5.494   \u001b[0m | \u001b[95m 4.764   \u001b[0m | \u001b[95m 4.962   \u001b[0m | \u001b[95m 3.65    \u001b[0m | \u001b[95m 5.219   \u001b[0m |\n"
     ]
    },
    {
     "name": "stderr",
     "output_type": "stream",
     "text": [
      "/home/tangosvc/anaconda3/lib/python3.7/site-packages/ipykernel_launcher.py:229: SettingWithCopyWarning: \n",
      "A value is trying to be set on a copy of a slice from a DataFrame\n",
      "\n",
      "See the caveats in the documentation: http://pandas.pydata.org/pandas-docs/stable/indexing.html#indexing-view-versus-copy\n"
     ]
    },
    {
     "name": "stdout",
     "output_type": "stream",
     "text": [
      "Request 파일(/home/tangosvc/code/data/20191113/SON_TO_TEOS_RL_REQUEST_20191113_[721].dat)을 생성합니다.\n",
      "\n",
      "TEOS_TO_SON_RL_RESULT_20191113_[721].dat에 대한 get명령을 실행합니다.\n",
      "파일 TEOS_TO_SON_RL_RESULT_20191113_[721].dat이 없어 60초 대기후 다시 확인합니다(최대60회).\n",
      "파일 TEOS_TO_SON_RL_RESULT_20191113_[721].dat이 없어 60초 대기후 다시 확인합니다(최대60회).\n",
      "파일 TEOS_TO_SON_RL_RESULT_20191113_[721].dat이 없어 60초 대기후 다시 확인합니다(최대60회).\n",
      "파일 TEOS_TO_SON_RL_RESULT_20191113_[721].dat이 없어 60초 대기후 다시 확인합니다(최대60회).\n",
      "파일 TEOS_TO_SON_RL_RESULT_20191113_[721].dat이 없어 60초 대기후 다시 확인합니다(최대60회).\n",
      "파일 TEOS_TO_SON_RL_RESULT_20191113_[721].dat이 없어 60초 대기후 다시 확인합니다(최대60회).\n",
      "파일 TEOS_TO_SON_RL_RESULT_20191113_[721].dat이 없어 60초 대기후 다시 확인합니다(최대60회).\n",
      "파일 TEOS_TO_SON_RL_RESULT_20191113_[721].dat이 없어 60초 대기후 다시 확인합니다(최대60회).\n",
      "파일 TEOS_TO_SON_RL_RESULT_20191113_[721].dat이 없어 60초 대기후 다시 확인합니다(최대60회).\n",
      "파일 TEOS_TO_SON_RL_RESULT_20191113_[721].dat이 없어 60초 대기후 다시 확인합니다(최대60회).\n"
     ]
    },
    {
     "name": "stderr",
     "output_type": "stream",
     "text": [
      "/home/tangosvc/anaconda3/lib/python3.7/site-packages/pandas/core/reshape/merge.py:522: UserWarning: merging between different levels can give an unintended result (2 levels on the left, 1 on the right)\n",
      "  warnings.warn(msg, UserWarning)\n"
     ]
    },
    {
     "name": "stdout",
     "output_type": "stream",
     "text": [
      "| \u001b[0m 50      \u001b[0m | \u001b[0m 20.48   \u001b[0m | \u001b[0m 2.147   \u001b[0m | \u001b[0m 4.613   \u001b[0m | \u001b[0m 5.304   \u001b[0m | \u001b[0m 0.0     \u001b[0m | \u001b[0m 4.254   \u001b[0m | \u001b[0m 2.358   \u001b[0m | \u001b[0m 6.774   \u001b[0m | \u001b[0m 4.763   \u001b[0m | \u001b[0m 4.324   \u001b[0m | \u001b[0m 5.494   \u001b[0m | \u001b[0m 8.0     \u001b[0m | \u001b[0m 5.234   \u001b[0m | \u001b[0m 4.679   \u001b[0m | \u001b[0m 5.274   \u001b[0m | \u001b[0m 4.336   \u001b[0m | \u001b[0m 5.019   \u001b[0m |\n"
     ]
    },
    {
     "name": "stderr",
     "output_type": "stream",
     "text": [
      "/home/tangosvc/anaconda3/lib/python3.7/site-packages/ipykernel_launcher.py:229: SettingWithCopyWarning: \n",
      "A value is trying to be set on a copy of a slice from a DataFrame\n",
      "\n",
      "See the caveats in the documentation: http://pandas.pydata.org/pandas-docs/stable/indexing.html#indexing-view-versus-copy\n"
     ]
    },
    {
     "name": "stdout",
     "output_type": "stream",
     "text": [
      "Request 파일(/home/tangosvc/code/data/20191113/SON_TO_TEOS_RL_REQUEST_20191113_[722].dat)을 생성합니다.\n",
      "\n",
      "TEOS_TO_SON_RL_RESULT_20191113_[722].dat에 대한 get명령을 실행합니다.\n",
      "파일 TEOS_TO_SON_RL_RESULT_20191113_[722].dat이 없어 60초 대기후 다시 확인합니다(최대60회).\n",
      "파일 TEOS_TO_SON_RL_RESULT_20191113_[722].dat이 없어 60초 대기후 다시 확인합니다(최대60회).\n",
      "파일 TEOS_TO_SON_RL_RESULT_20191113_[722].dat이 없어 60초 대기후 다시 확인합니다(최대60회).\n",
      "파일 TEOS_TO_SON_RL_RESULT_20191113_[722].dat이 없어 60초 대기후 다시 확인합니다(최대60회).\n",
      "파일 TEOS_TO_SON_RL_RESULT_20191113_[722].dat이 없어 60초 대기후 다시 확인합니다(최대60회).\n",
      "파일 TEOS_TO_SON_RL_RESULT_20191113_[722].dat이 없어 60초 대기후 다시 확인합니다(최대60회).\n",
      "파일 TEOS_TO_SON_RL_RESULT_20191113_[722].dat이 없어 60초 대기후 다시 확인합니다(최대60회).\n",
      "파일 TEOS_TO_SON_RL_RESULT_20191113_[722].dat이 없어 60초 대기후 다시 확인합니다(최대60회).\n",
      "파일 TEOS_TO_SON_RL_RESULT_20191113_[722].dat이 없어 60초 대기후 다시 확인합니다(최대60회).\n",
      "파일 TEOS_TO_SON_RL_RESULT_20191113_[722].dat이 없어 60초 대기후 다시 확인합니다(최대60회).\n"
     ]
    },
    {
     "name": "stderr",
     "output_type": "stream",
     "text": [
      "/home/tangosvc/anaconda3/lib/python3.7/site-packages/pandas/core/reshape/merge.py:522: UserWarning: merging between different levels can give an unintended result (2 levels on the left, 1 on the right)\n",
      "  warnings.warn(msg, UserWarning)\n"
     ]
    },
    {
     "name": "stdout",
     "output_type": "stream",
     "text": [
      "| \u001b[0m 51      \u001b[0m | \u001b[0m 20.49   \u001b[0m | \u001b[0m 1.888   \u001b[0m | \u001b[0m 4.415   \u001b[0m | \u001b[0m 5.451   \u001b[0m | \u001b[0m 0.0     \u001b[0m | \u001b[0m 3.847   \u001b[0m | \u001b[0m 2.521   \u001b[0m | \u001b[0m 6.822   \u001b[0m | \u001b[0m 5.019   \u001b[0m | \u001b[0m 3.828   \u001b[0m | \u001b[0m 5.67    \u001b[0m | \u001b[0m 8.0     \u001b[0m | \u001b[0m 5.512   \u001b[0m | \u001b[0m 5.071   \u001b[0m | \u001b[0m 4.603   \u001b[0m | \u001b[0m 3.407   \u001b[0m | \u001b[0m 4.916   \u001b[0m |\n"
     ]
    },
    {
     "name": "stderr",
     "output_type": "stream",
     "text": [
      "/home/tangosvc/anaconda3/lib/python3.7/site-packages/ipykernel_launcher.py:229: SettingWithCopyWarning: \n",
      "A value is trying to be set on a copy of a slice from a DataFrame\n",
      "\n",
      "See the caveats in the documentation: http://pandas.pydata.org/pandas-docs/stable/indexing.html#indexing-view-versus-copy\n"
     ]
    },
    {
     "name": "stdout",
     "output_type": "stream",
     "text": [
      "Request 파일(/home/tangosvc/code/data/20191113/SON_TO_TEOS_RL_REQUEST_20191113_[723].dat)을 생성합니다.\n",
      "\n",
      "TEOS_TO_SON_RL_RESULT_20191113_[723].dat에 대한 get명령을 실행합니다.\n",
      "파일 TEOS_TO_SON_RL_RESULT_20191113_[723].dat이 없어 60초 대기후 다시 확인합니다(최대60회).\n",
      "파일 TEOS_TO_SON_RL_RESULT_20191113_[723].dat이 없어 60초 대기후 다시 확인합니다(최대60회).\n",
      "파일 TEOS_TO_SON_RL_RESULT_20191113_[723].dat이 없어 60초 대기후 다시 확인합니다(최대60회).\n",
      "파일 TEOS_TO_SON_RL_RESULT_20191113_[723].dat이 없어 60초 대기후 다시 확인합니다(최대60회).\n",
      "파일 TEOS_TO_SON_RL_RESULT_20191113_[723].dat이 없어 60초 대기후 다시 확인합니다(최대60회).\n",
      "파일 TEOS_TO_SON_RL_RESULT_20191113_[723].dat이 없어 60초 대기후 다시 확인합니다(최대60회).\n",
      "파일 TEOS_TO_SON_RL_RESULT_20191113_[723].dat이 없어 60초 대기후 다시 확인합니다(최대60회).\n",
      "파일 TEOS_TO_SON_RL_RESULT_20191113_[723].dat이 없어 60초 대기후 다시 확인합니다(최대60회).\n",
      "파일 TEOS_TO_SON_RL_RESULT_20191113_[723].dat이 없어 60초 대기후 다시 확인합니다(최대60회).\n",
      "파일 TEOS_TO_SON_RL_RESULT_20191113_[723].dat이 없어 60초 대기후 다시 확인합니다(최대60회).\n"
     ]
    },
    {
     "name": "stderr",
     "output_type": "stream",
     "text": [
      "/home/tangosvc/anaconda3/lib/python3.7/site-packages/pandas/core/reshape/merge.py:522: UserWarning: merging between different levels can give an unintended result (2 levels on the left, 1 on the right)\n",
      "  warnings.warn(msg, UserWarning)\n"
     ]
    },
    {
     "name": "stdout",
     "output_type": "stream",
     "text": [
      "| \u001b[95m 52      \u001b[0m | \u001b[95m 21.63   \u001b[0m | \u001b[95m 1.814   \u001b[0m | \u001b[95m 4.87    \u001b[0m | \u001b[95m 5.862   \u001b[0m | \u001b[95m 0.0     \u001b[0m | \u001b[95m 4.702   \u001b[0m | \u001b[95m 2.698   \u001b[0m | \u001b[95m 7.609   \u001b[0m | \u001b[95m 5.044   \u001b[0m | \u001b[95m 4.468   \u001b[0m | \u001b[95m 5.314   \u001b[0m | \u001b[95m 8.0     \u001b[0m | \u001b[95m 5.338   \u001b[0m | \u001b[95m 4.95    \u001b[0m | \u001b[95m 5.157   \u001b[0m | \u001b[95m 3.235   \u001b[0m | \u001b[95m 5.384   \u001b[0m |\n"
     ]
    },
    {
     "name": "stderr",
     "output_type": "stream",
     "text": [
      "/home/tangosvc/anaconda3/lib/python3.7/site-packages/ipykernel_launcher.py:229: SettingWithCopyWarning: \n",
      "A value is trying to be set on a copy of a slice from a DataFrame\n",
      "\n",
      "See the caveats in the documentation: http://pandas.pydata.org/pandas-docs/stable/indexing.html#indexing-view-versus-copy\n"
     ]
    },
    {
     "name": "stdout",
     "output_type": "stream",
     "text": [
      "Request 파일(/home/tangosvc/code/data/20191113/SON_TO_TEOS_RL_REQUEST_20191113_[724].dat)을 생성합니다.\n",
      "\n",
      "TEOS_TO_SON_RL_RESULT_20191113_[724].dat에 대한 get명령을 실행합니다.\n",
      "파일 TEOS_TO_SON_RL_RESULT_20191113_[724].dat이 없어 60초 대기후 다시 확인합니다(최대60회).\n",
      "파일 TEOS_TO_SON_RL_RESULT_20191113_[724].dat이 없어 60초 대기후 다시 확인합니다(최대60회).\n",
      "파일 TEOS_TO_SON_RL_RESULT_20191113_[724].dat이 없어 60초 대기후 다시 확인합니다(최대60회).\n",
      "파일 TEOS_TO_SON_RL_RESULT_20191113_[724].dat이 없어 60초 대기후 다시 확인합니다(최대60회).\n",
      "파일 TEOS_TO_SON_RL_RESULT_20191113_[724].dat이 없어 60초 대기후 다시 확인합니다(최대60회).\n",
      "파일 TEOS_TO_SON_RL_RESULT_20191113_[724].dat이 없어 60초 대기후 다시 확인합니다(최대60회).\n",
      "파일 TEOS_TO_SON_RL_RESULT_20191113_[724].dat이 없어 60초 대기후 다시 확인합니다(최대60회).\n",
      "파일 TEOS_TO_SON_RL_RESULT_20191113_[724].dat이 없어 60초 대기후 다시 확인합니다(최대60회).\n",
      "파일 TEOS_TO_SON_RL_RESULT_20191113_[724].dat이 없어 60초 대기후 다시 확인합니다(최대60회).\n",
      "파일 TEOS_TO_SON_RL_RESULT_20191113_[724].dat이 없어 60초 대기후 다시 확인합니다(최대60회).\n"
     ]
    },
    {
     "name": "stderr",
     "output_type": "stream",
     "text": [
      "/home/tangosvc/anaconda3/lib/python3.7/site-packages/pandas/core/reshape/merge.py:522: UserWarning: merging between different levels can give an unintended result (2 levels on the left, 1 on the right)\n",
      "  warnings.warn(msg, UserWarning)\n"
     ]
    },
    {
     "name": "stdout",
     "output_type": "stream",
     "text": [
      "| \u001b[0m 53      \u001b[0m | \u001b[0m 20.13   \u001b[0m | \u001b[0m 2.124   \u001b[0m | \u001b[0m 4.374   \u001b[0m | \u001b[0m 6.115   \u001b[0m | \u001b[0m 0.0     \u001b[0m | \u001b[0m 4.711   \u001b[0m | \u001b[0m 2.985   \u001b[0m | \u001b[0m 7.276   \u001b[0m | \u001b[0m 5.135   \u001b[0m | \u001b[0m 4.797   \u001b[0m | \u001b[0m 5.085   \u001b[0m | \u001b[0m 8.0     \u001b[0m | \u001b[0m 4.944   \u001b[0m | \u001b[0m 5.025   \u001b[0m | \u001b[0m 4.993   \u001b[0m | \u001b[0m 3.264   \u001b[0m | \u001b[0m 5.683   \u001b[0m |\n"
     ]
    },
    {
     "name": "stderr",
     "output_type": "stream",
     "text": [
      "/home/tangosvc/anaconda3/lib/python3.7/site-packages/ipykernel_launcher.py:229: SettingWithCopyWarning: \n",
      "A value is trying to be set on a copy of a slice from a DataFrame\n",
      "\n",
      "See the caveats in the documentation: http://pandas.pydata.org/pandas-docs/stable/indexing.html#indexing-view-versus-copy\n"
     ]
    },
    {
     "name": "stdout",
     "output_type": "stream",
     "text": [
      "Request 파일(/home/tangosvc/code/data/20191113/SON_TO_TEOS_RL_REQUEST_20191113_[725].dat)을 생성합니다.\n",
      "\n",
      "TEOS_TO_SON_RL_RESULT_20191113_[725].dat에 대한 get명령을 실행합니다.\n",
      "파일 TEOS_TO_SON_RL_RESULT_20191113_[725].dat이 없어 60초 대기후 다시 확인합니다(최대60회).\n",
      "파일 TEOS_TO_SON_RL_RESULT_20191113_[725].dat이 없어 60초 대기후 다시 확인합니다(최대60회).\n",
      "파일 TEOS_TO_SON_RL_RESULT_20191113_[725].dat이 없어 60초 대기후 다시 확인합니다(최대60회).\n",
      "파일 TEOS_TO_SON_RL_RESULT_20191113_[725].dat이 없어 60초 대기후 다시 확인합니다(최대60회).\n",
      "파일 TEOS_TO_SON_RL_RESULT_20191113_[725].dat이 없어 60초 대기후 다시 확인합니다(최대60회).\n",
      "파일 TEOS_TO_SON_RL_RESULT_20191113_[725].dat이 없어 60초 대기후 다시 확인합니다(최대60회).\n",
      "파일 TEOS_TO_SON_RL_RESULT_20191113_[725].dat이 없어 60초 대기후 다시 확인합니다(최대60회).\n",
      "파일 TEOS_TO_SON_RL_RESULT_20191113_[725].dat이 없어 60초 대기후 다시 확인합니다(최대60회).\n",
      "파일 TEOS_TO_SON_RL_RESULT_20191113_[725].dat이 없어 60초 대기후 다시 확인합니다(최대60회).\n",
      "파일 TEOS_TO_SON_RL_RESULT_20191113_[725].dat이 없어 60초 대기후 다시 확인합니다(최대60회).\n"
     ]
    },
    {
     "name": "stderr",
     "output_type": "stream",
     "text": [
      "/home/tangosvc/anaconda3/lib/python3.7/site-packages/pandas/core/reshape/merge.py:522: UserWarning: merging between different levels can give an unintended result (2 levels on the left, 1 on the right)\n",
      "  warnings.warn(msg, UserWarning)\n"
     ]
    },
    {
     "name": "stdout",
     "output_type": "stream",
     "text": [
      "| \u001b[0m 54      \u001b[0m | \u001b[0m 21.21   \u001b[0m | \u001b[0m 1.521   \u001b[0m | \u001b[0m 5.128   \u001b[0m | \u001b[0m 5.721   \u001b[0m | \u001b[0m 0.0     \u001b[0m | \u001b[0m 5.0     \u001b[0m | \u001b[0m 2.264   \u001b[0m | \u001b[0m 7.623   \u001b[0m | \u001b[0m 4.719   \u001b[0m | \u001b[0m 4.484   \u001b[0m | \u001b[0m 5.77    \u001b[0m | \u001b[0m 8.0     \u001b[0m | \u001b[0m 5.742   \u001b[0m | \u001b[0m 4.929   \u001b[0m | \u001b[0m 5.173   \u001b[0m | \u001b[0m 2.974   \u001b[0m | \u001b[0m 5.27    \u001b[0m |\n"
     ]
    },
    {
     "name": "stderr",
     "output_type": "stream",
     "text": [
      "/home/tangosvc/anaconda3/lib/python3.7/site-packages/ipykernel_launcher.py:229: SettingWithCopyWarning: \n",
      "A value is trying to be set on a copy of a slice from a DataFrame\n",
      "\n",
      "See the caveats in the documentation: http://pandas.pydata.org/pandas-docs/stable/indexing.html#indexing-view-versus-copy\n"
     ]
    },
    {
     "name": "stdout",
     "output_type": "stream",
     "text": [
      "Request 파일(/home/tangosvc/code/data/20191113/SON_TO_TEOS_RL_REQUEST_20191113_[726].dat)을 생성합니다.\n",
      "\n",
      "TEOS_TO_SON_RL_RESULT_20191113_[726].dat에 대한 get명령을 실행합니다.\n",
      "파일 TEOS_TO_SON_RL_RESULT_20191113_[726].dat이 없어 60초 대기후 다시 확인합니다(최대60회).\n",
      "파일 TEOS_TO_SON_RL_RESULT_20191113_[726].dat이 없어 60초 대기후 다시 확인합니다(최대60회).\n",
      "파일 TEOS_TO_SON_RL_RESULT_20191113_[726].dat이 없어 60초 대기후 다시 확인합니다(최대60회).\n",
      "파일 TEOS_TO_SON_RL_RESULT_20191113_[726].dat이 없어 60초 대기후 다시 확인합니다(최대60회).\n",
      "파일 TEOS_TO_SON_RL_RESULT_20191113_[726].dat이 없어 60초 대기후 다시 확인합니다(최대60회).\n",
      "파일 TEOS_TO_SON_RL_RESULT_20191113_[726].dat이 없어 60초 대기후 다시 확인합니다(최대60회).\n",
      "파일 TEOS_TO_SON_RL_RESULT_20191113_[726].dat이 없어 60초 대기후 다시 확인합니다(최대60회).\n",
      "파일 TEOS_TO_SON_RL_RESULT_20191113_[726].dat이 없어 60초 대기후 다시 확인합니다(최대60회).\n",
      "파일 TEOS_TO_SON_RL_RESULT_20191113_[726].dat이 없어 60초 대기후 다시 확인합니다(최대60회).\n"
     ]
    },
    {
     "name": "stderr",
     "output_type": "stream",
     "text": [
      "/home/tangosvc/anaconda3/lib/python3.7/site-packages/pandas/core/reshape/merge.py:522: UserWarning: merging between different levels can give an unintended result (2 levels on the left, 1 on the right)\n",
      "  warnings.warn(msg, UserWarning)\n"
     ]
    },
    {
     "name": "stdout",
     "output_type": "stream",
     "text": [
      "| \u001b[95m 55      \u001b[0m | \u001b[95m 21.71   \u001b[0m | \u001b[95m 1.696   \u001b[0m | \u001b[95m 5.521   \u001b[0m | \u001b[95m 5.565   \u001b[0m | \u001b[95m 0.0     \u001b[0m | \u001b[95m 4.79    \u001b[0m | \u001b[95m 2.983   \u001b[0m | \u001b[95m 7.535   \u001b[0m | \u001b[95m 5.19    \u001b[0m | \u001b[95m 4.018   \u001b[0m | \u001b[95m 5.668   \u001b[0m | \u001b[95m 8.0     \u001b[0m | \u001b[95m 5.3     \u001b[0m | \u001b[95m 4.881   \u001b[0m | \u001b[95m 5.326   \u001b[0m | \u001b[95m 3.212   \u001b[0m | \u001b[95m 5.447   \u001b[0m |\n"
     ]
    },
    {
     "name": "stderr",
     "output_type": "stream",
     "text": [
      "/home/tangosvc/anaconda3/lib/python3.7/site-packages/ipykernel_launcher.py:229: SettingWithCopyWarning: \n",
      "A value is trying to be set on a copy of a slice from a DataFrame\n",
      "\n",
      "See the caveats in the documentation: http://pandas.pydata.org/pandas-docs/stable/indexing.html#indexing-view-versus-copy\n"
     ]
    },
    {
     "name": "stdout",
     "output_type": "stream",
     "text": [
      "Request 파일(/home/tangosvc/code/data/20191113/SON_TO_TEOS_RL_REQUEST_20191113_[727].dat)을 생성합니다.\n",
      "\n",
      "TEOS_TO_SON_RL_RESULT_20191113_[727].dat에 대한 get명령을 실행합니다.\n",
      "파일 TEOS_TO_SON_RL_RESULT_20191113_[727].dat이 없어 60초 대기후 다시 확인합니다(최대60회).\n",
      "파일 TEOS_TO_SON_RL_RESULT_20191113_[727].dat이 없어 60초 대기후 다시 확인합니다(최대60회).\n",
      "파일 TEOS_TO_SON_RL_RESULT_20191113_[727].dat이 없어 60초 대기후 다시 확인합니다(최대60회).\n",
      "파일 TEOS_TO_SON_RL_RESULT_20191113_[727].dat이 없어 60초 대기후 다시 확인합니다(최대60회).\n",
      "파일 TEOS_TO_SON_RL_RESULT_20191113_[727].dat이 없어 60초 대기후 다시 확인합니다(최대60회).\n",
      "파일 TEOS_TO_SON_RL_RESULT_20191113_[727].dat이 없어 60초 대기후 다시 확인합니다(최대60회).\n",
      "파일 TEOS_TO_SON_RL_RESULT_20191113_[727].dat이 없어 60초 대기후 다시 확인합니다(최대60회).\n",
      "파일 TEOS_TO_SON_RL_RESULT_20191113_[727].dat이 없어 60초 대기후 다시 확인합니다(최대60회).\n",
      "파일 TEOS_TO_SON_RL_RESULT_20191113_[727].dat이 없어 60초 대기후 다시 확인합니다(최대60회).\n",
      "파일 TEOS_TO_SON_RL_RESULT_20191113_[727].dat이 없어 60초 대기후 다시 확인합니다(최대60회).\n"
     ]
    },
    {
     "name": "stderr",
     "output_type": "stream",
     "text": [
      "/home/tangosvc/anaconda3/lib/python3.7/site-packages/pandas/core/reshape/merge.py:522: UserWarning: merging between different levels can give an unintended result (2 levels on the left, 1 on the right)\n",
      "  warnings.warn(msg, UserWarning)\n"
     ]
    },
    {
     "name": "stdout",
     "output_type": "stream",
     "text": [
      "| \u001b[95m 56      \u001b[0m | \u001b[95m 22.19   \u001b[0m | \u001b[95m 1.693   \u001b[0m | \u001b[95m 5.536   \u001b[0m | \u001b[95m 5.65    \u001b[0m | \u001b[95m 0.0     \u001b[0m | \u001b[95m 4.5     \u001b[0m | \u001b[95m 2.729   \u001b[0m | \u001b[95m 7.359   \u001b[0m | \u001b[95m 4.6     \u001b[0m | \u001b[95m 4.113   \u001b[0m | \u001b[95m 5.061   \u001b[0m | \u001b[95m 8.0     \u001b[0m | \u001b[95m 5.472   \u001b[0m | \u001b[95m 4.911   \u001b[0m | \u001b[95m 5.367   \u001b[0m | \u001b[95m 3.085   \u001b[0m | \u001b[95m 5.628   \u001b[0m |\n"
     ]
    },
    {
     "name": "stderr",
     "output_type": "stream",
     "text": [
      "/home/tangosvc/anaconda3/lib/python3.7/site-packages/ipykernel_launcher.py:229: SettingWithCopyWarning: \n",
      "A value is trying to be set on a copy of a slice from a DataFrame\n",
      "\n",
      "See the caveats in the documentation: http://pandas.pydata.org/pandas-docs/stable/indexing.html#indexing-view-versus-copy\n"
     ]
    },
    {
     "name": "stdout",
     "output_type": "stream",
     "text": [
      "Request 파일(/home/tangosvc/code/data/20191113/SON_TO_TEOS_RL_REQUEST_20191113_[728].dat)을 생성합니다.\n",
      "\n",
      "TEOS_TO_SON_RL_RESULT_20191113_[728].dat에 대한 get명령을 실행합니다.\n",
      "파일 TEOS_TO_SON_RL_RESULT_20191113_[728].dat이 없어 60초 대기후 다시 확인합니다(최대60회).\n",
      "파일 TEOS_TO_SON_RL_RESULT_20191113_[728].dat이 없어 60초 대기후 다시 확인합니다(최대60회).\n",
      "파일 TEOS_TO_SON_RL_RESULT_20191113_[728].dat이 없어 60초 대기후 다시 확인합니다(최대60회).\n",
      "파일 TEOS_TO_SON_RL_RESULT_20191113_[728].dat이 없어 60초 대기후 다시 확인합니다(최대60회).\n",
      "파일 TEOS_TO_SON_RL_RESULT_20191113_[728].dat이 없어 60초 대기후 다시 확인합니다(최대60회).\n",
      "파일 TEOS_TO_SON_RL_RESULT_20191113_[728].dat이 없어 60초 대기후 다시 확인합니다(최대60회).\n",
      "파일 TEOS_TO_SON_RL_RESULT_20191113_[728].dat이 없어 60초 대기후 다시 확인합니다(최대60회).\n",
      "파일 TEOS_TO_SON_RL_RESULT_20191113_[728].dat이 없어 60초 대기후 다시 확인합니다(최대60회).\n",
      "파일 TEOS_TO_SON_RL_RESULT_20191113_[728].dat이 없어 60초 대기후 다시 확인합니다(최대60회).\n",
      "파일 TEOS_TO_SON_RL_RESULT_20191113_[728].dat이 없어 60초 대기후 다시 확인합니다(최대60회).\n"
     ]
    },
    {
     "name": "stderr",
     "output_type": "stream",
     "text": [
      "/home/tangosvc/anaconda3/lib/python3.7/site-packages/pandas/core/reshape/merge.py:522: UserWarning: merging between different levels can give an unintended result (2 levels on the left, 1 on the right)\n",
      "  warnings.warn(msg, UserWarning)\n"
     ]
    },
    {
     "name": "stdout",
     "output_type": "stream",
     "text": [
      "| \u001b[0m 57      \u001b[0m | \u001b[0m 19.2    \u001b[0m | \u001b[0m 1.991   \u001b[0m | \u001b[0m 5.389   \u001b[0m | \u001b[0m 5.457   \u001b[0m | \u001b[0m 0.0     \u001b[0m | \u001b[0m 4.358   \u001b[0m | \u001b[0m 2.581   \u001b[0m | \u001b[0m 7.602   \u001b[0m | \u001b[0m 4.942   \u001b[0m | \u001b[0m 4.172   \u001b[0m | \u001b[0m 5.294   \u001b[0m | \u001b[0m 8.0     \u001b[0m | \u001b[0m 5.583   \u001b[0m | \u001b[0m 4.79    \u001b[0m | \u001b[0m 5.714   \u001b[0m | \u001b[0m 2.816   \u001b[0m | \u001b[0m 5.946   \u001b[0m |\n"
     ]
    },
    {
     "name": "stderr",
     "output_type": "stream",
     "text": [
      "/home/tangosvc/anaconda3/lib/python3.7/site-packages/ipykernel_launcher.py:229: SettingWithCopyWarning: \n",
      "A value is trying to be set on a copy of a slice from a DataFrame\n",
      "\n",
      "See the caveats in the documentation: http://pandas.pydata.org/pandas-docs/stable/indexing.html#indexing-view-versus-copy\n"
     ]
    },
    {
     "name": "stdout",
     "output_type": "stream",
     "text": [
      "Request 파일(/home/tangosvc/code/data/20191113/SON_TO_TEOS_RL_REQUEST_20191113_[729].dat)을 생성합니다.\n",
      "\n",
      "TEOS_TO_SON_RL_RESULT_20191113_[729].dat에 대한 get명령을 실행합니다.\n",
      "파일 TEOS_TO_SON_RL_RESULT_20191113_[729].dat이 없어 60초 대기후 다시 확인합니다(최대60회).\n",
      "파일 TEOS_TO_SON_RL_RESULT_20191113_[729].dat이 없어 60초 대기후 다시 확인합니다(최대60회).\n",
      "파일 TEOS_TO_SON_RL_RESULT_20191113_[729].dat이 없어 60초 대기후 다시 확인합니다(최대60회).\n",
      "파일 TEOS_TO_SON_RL_RESULT_20191113_[729].dat이 없어 60초 대기후 다시 확인합니다(최대60회).\n",
      "파일 TEOS_TO_SON_RL_RESULT_20191113_[729].dat이 없어 60초 대기후 다시 확인합니다(최대60회).\n",
      "파일 TEOS_TO_SON_RL_RESULT_20191113_[729].dat이 없어 60초 대기후 다시 확인합니다(최대60회).\n",
      "파일 TEOS_TO_SON_RL_RESULT_20191113_[729].dat이 없어 60초 대기후 다시 확인합니다(최대60회).\n",
      "파일 TEOS_TO_SON_RL_RESULT_20191113_[729].dat이 없어 60초 대기후 다시 확인합니다(최대60회).\n",
      "파일 TEOS_TO_SON_RL_RESULT_20191113_[729].dat이 없어 60초 대기후 다시 확인합니다(최대60회).\n",
      "파일 TEOS_TO_SON_RL_RESULT_20191113_[729].dat이 없어 60초 대기후 다시 확인합니다(최대60회).\n"
     ]
    },
    {
     "name": "stderr",
     "output_type": "stream",
     "text": [
      "/home/tangosvc/anaconda3/lib/python3.7/site-packages/pandas/core/reshape/merge.py:522: UserWarning: merging between different levels can give an unintended result (2 levels on the left, 1 on the right)\n",
      "  warnings.warn(msg, UserWarning)\n"
     ]
    },
    {
     "name": "stdout",
     "output_type": "stream",
     "text": [
      "| \u001b[0m 58      \u001b[0m | \u001b[0m 22.08   \u001b[0m | \u001b[0m 1.422   \u001b[0m | \u001b[0m 5.541   \u001b[0m | \u001b[0m 5.833   \u001b[0m | \u001b[0m 0.0     \u001b[0m | \u001b[0m 4.782   \u001b[0m | \u001b[0m 2.918   \u001b[0m | \u001b[0m 7.243   \u001b[0m | \u001b[0m 4.52    \u001b[0m | \u001b[0m 4.11    \u001b[0m | \u001b[0m 5.157   \u001b[0m | \u001b[0m 8.0     \u001b[0m | \u001b[0m 5.321   \u001b[0m | \u001b[0m 5.027   \u001b[0m | \u001b[0m 4.99    \u001b[0m | \u001b[0m 3.395   \u001b[0m | \u001b[0m 5.211   \u001b[0m |\n"
     ]
    },
    {
     "name": "stderr",
     "output_type": "stream",
     "text": [
      "/home/tangosvc/anaconda3/lib/python3.7/site-packages/ipykernel_launcher.py:229: SettingWithCopyWarning: \n",
      "A value is trying to be set on a copy of a slice from a DataFrame\n",
      "\n",
      "See the caveats in the documentation: http://pandas.pydata.org/pandas-docs/stable/indexing.html#indexing-view-versus-copy\n"
     ]
    },
    {
     "name": "stdout",
     "output_type": "stream",
     "text": [
      "Request 파일(/home/tangosvc/code/data/20191113/SON_TO_TEOS_RL_REQUEST_20191113_[730].dat)을 생성합니다.\n",
      "\n",
      "TEOS_TO_SON_RL_RESULT_20191113_[730].dat에 대한 get명령을 실행합니다.\n",
      "파일 TEOS_TO_SON_RL_RESULT_20191113_[730].dat이 없어 60초 대기후 다시 확인합니다(최대60회).\n",
      "파일 TEOS_TO_SON_RL_RESULT_20191113_[730].dat이 없어 60초 대기후 다시 확인합니다(최대60회).\n",
      "파일 TEOS_TO_SON_RL_RESULT_20191113_[730].dat이 없어 60초 대기후 다시 확인합니다(최대60회).\n",
      "파일 TEOS_TO_SON_RL_RESULT_20191113_[730].dat이 없어 60초 대기후 다시 확인합니다(최대60회).\n",
      "파일 TEOS_TO_SON_RL_RESULT_20191113_[730].dat이 없어 60초 대기후 다시 확인합니다(최대60회).\n",
      "파일 TEOS_TO_SON_RL_RESULT_20191113_[730].dat이 없어 60초 대기후 다시 확인합니다(최대60회).\n",
      "파일 TEOS_TO_SON_RL_RESULT_20191113_[730].dat이 없어 60초 대기후 다시 확인합니다(최대60회).\n",
      "파일 TEOS_TO_SON_RL_RESULT_20191113_[730].dat이 없어 60초 대기후 다시 확인합니다(최대60회).\n",
      "파일 TEOS_TO_SON_RL_RESULT_20191113_[730].dat이 없어 60초 대기후 다시 확인합니다(최대60회).\n",
      "파일 TEOS_TO_SON_RL_RESULT_20191113_[730].dat이 없어 60초 대기후 다시 확인합니다(최대60회).\n"
     ]
    },
    {
     "name": "stderr",
     "output_type": "stream",
     "text": [
      "/home/tangosvc/anaconda3/lib/python3.7/site-packages/pandas/core/reshape/merge.py:522: UserWarning: merging between different levels can give an unintended result (2 levels on the left, 1 on the right)\n",
      "  warnings.warn(msg, UserWarning)\n"
     ]
    },
    {
     "name": "stdout",
     "output_type": "stream",
     "text": [
      "| \u001b[0m 59      \u001b[0m | \u001b[0m 21.77   \u001b[0m | \u001b[0m 1.429   \u001b[0m | \u001b[0m 5.483   \u001b[0m | \u001b[0m 5.573   \u001b[0m | \u001b[0m 0.0     \u001b[0m | \u001b[0m 4.621   \u001b[0m | \u001b[0m 2.584   \u001b[0m | \u001b[0m 7.14    \u001b[0m | \u001b[0m 4.88    \u001b[0m | \u001b[0m 4.22    \u001b[0m | \u001b[0m 5.045   \u001b[0m | \u001b[0m 8.0     \u001b[0m | \u001b[0m 5.182   \u001b[0m | \u001b[0m 4.839   \u001b[0m | \u001b[0m 5.19    \u001b[0m | \u001b[0m 3.109   \u001b[0m | \u001b[0m 5.199   \u001b[0m |\n"
     ]
    },
    {
     "name": "stderr",
     "output_type": "stream",
     "text": [
      "/home/tangosvc/anaconda3/lib/python3.7/site-packages/ipykernel_launcher.py:229: SettingWithCopyWarning: \n",
      "A value is trying to be set on a copy of a slice from a DataFrame\n",
      "\n",
      "See the caveats in the documentation: http://pandas.pydata.org/pandas-docs/stable/indexing.html#indexing-view-versus-copy\n"
     ]
    },
    {
     "name": "stdout",
     "output_type": "stream",
     "text": [
      "Request 파일(/home/tangosvc/code/data/20191113/SON_TO_TEOS_RL_REQUEST_20191113_[731].dat)을 생성합니다.\n",
      "\n",
      "TEOS_TO_SON_RL_RESULT_20191113_[731].dat에 대한 get명령을 실행합니다.\n",
      "파일 TEOS_TO_SON_RL_RESULT_20191113_[731].dat이 없어 60초 대기후 다시 확인합니다(최대60회).\n",
      "파일 TEOS_TO_SON_RL_RESULT_20191113_[731].dat이 없어 60초 대기후 다시 확인합니다(최대60회).\n",
      "파일 TEOS_TO_SON_RL_RESULT_20191113_[731].dat이 없어 60초 대기후 다시 확인합니다(최대60회).\n",
      "파일 TEOS_TO_SON_RL_RESULT_20191113_[731].dat이 없어 60초 대기후 다시 확인합니다(최대60회).\n",
      "파일 TEOS_TO_SON_RL_RESULT_20191113_[731].dat이 없어 60초 대기후 다시 확인합니다(최대60회).\n",
      "파일 TEOS_TO_SON_RL_RESULT_20191113_[731].dat이 없어 60초 대기후 다시 확인합니다(최대60회).\n",
      "파일 TEOS_TO_SON_RL_RESULT_20191113_[731].dat이 없어 60초 대기후 다시 확인합니다(최대60회).\n",
      "파일 TEOS_TO_SON_RL_RESULT_20191113_[731].dat이 없어 60초 대기후 다시 확인합니다(최대60회).\n",
      "파일 TEOS_TO_SON_RL_RESULT_20191113_[731].dat이 없어 60초 대기후 다시 확인합니다(최대60회).\n",
      "파일 TEOS_TO_SON_RL_RESULT_20191113_[731].dat이 없어 60초 대기후 다시 확인합니다(최대60회).\n"
     ]
    },
    {
     "name": "stderr",
     "output_type": "stream",
     "text": [
      "/home/tangosvc/anaconda3/lib/python3.7/site-packages/pandas/core/reshape/merge.py:522: UserWarning: merging between different levels can give an unintended result (2 levels on the left, 1 on the right)\n",
      "  warnings.warn(msg, UserWarning)\n"
     ]
    },
    {
     "name": "stdout",
     "output_type": "stream",
     "text": [
      "| \u001b[0m 60      \u001b[0m | \u001b[0m 22.09   \u001b[0m | \u001b[0m 1.835   \u001b[0m | \u001b[0m 5.446   \u001b[0m | \u001b[0m 5.923   \u001b[0m | \u001b[0m 0.0     \u001b[0m | \u001b[0m 4.736   \u001b[0m | \u001b[0m 2.593   \u001b[0m | \u001b[0m 7.4     \u001b[0m | \u001b[0m 4.601   \u001b[0m | \u001b[0m 3.829   \u001b[0m | \u001b[0m 5.227   \u001b[0m | \u001b[0m 8.0     \u001b[0m | \u001b[0m 5.34    \u001b[0m | \u001b[0m 5.263   \u001b[0m | \u001b[0m 5.249   \u001b[0m | \u001b[0m 3.362   \u001b[0m | \u001b[0m 5.379   \u001b[0m |\n"
     ]
    },
    {
     "name": "stderr",
     "output_type": "stream",
     "text": [
      "/home/tangosvc/anaconda3/lib/python3.7/site-packages/ipykernel_launcher.py:229: SettingWithCopyWarning: \n",
      "A value is trying to be set on a copy of a slice from a DataFrame\n",
      "\n",
      "See the caveats in the documentation: http://pandas.pydata.org/pandas-docs/stable/indexing.html#indexing-view-versus-copy\n"
     ]
    },
    {
     "name": "stdout",
     "output_type": "stream",
     "text": [
      "Request 파일(/home/tangosvc/code/data/20191113/SON_TO_TEOS_RL_REQUEST_20191113_[732].dat)을 생성합니다.\n",
      "\n",
      "TEOS_TO_SON_RL_RESULT_20191113_[732].dat에 대한 get명령을 실행합니다.\n",
      "파일 TEOS_TO_SON_RL_RESULT_20191113_[732].dat이 없어 60초 대기후 다시 확인합니다(최대60회).\n",
      "파일 TEOS_TO_SON_RL_RESULT_20191113_[732].dat이 없어 60초 대기후 다시 확인합니다(최대60회).\n",
      "파일 TEOS_TO_SON_RL_RESULT_20191113_[732].dat이 없어 60초 대기후 다시 확인합니다(최대60회).\n",
      "파일 TEOS_TO_SON_RL_RESULT_20191113_[732].dat이 없어 60초 대기후 다시 확인합니다(최대60회).\n",
      "파일 TEOS_TO_SON_RL_RESULT_20191113_[732].dat이 없어 60초 대기후 다시 확인합니다(최대60회).\n",
      "파일 TEOS_TO_SON_RL_RESULT_20191113_[732].dat이 없어 60초 대기후 다시 확인합니다(최대60회).\n",
      "파일 TEOS_TO_SON_RL_RESULT_20191113_[732].dat이 없어 60초 대기후 다시 확인합니다(최대60회).\n",
      "파일 TEOS_TO_SON_RL_RESULT_20191113_[732].dat이 없어 60초 대기후 다시 확인합니다(최대60회).\n",
      "파일 TEOS_TO_SON_RL_RESULT_20191113_[732].dat이 없어 60초 대기후 다시 확인합니다(최대60회).\n",
      "파일 TEOS_TO_SON_RL_RESULT_20191113_[732].dat이 없어 60초 대기후 다시 확인합니다(최대60회).\n"
     ]
    },
    {
     "name": "stderr",
     "output_type": "stream",
     "text": [
      "/home/tangosvc/anaconda3/lib/python3.7/site-packages/pandas/core/reshape/merge.py:522: UserWarning: merging between different levels can give an unintended result (2 levels on the left, 1 on the right)\n",
      "  warnings.warn(msg, UserWarning)\n"
     ]
    },
    {
     "name": "stdout",
     "output_type": "stream",
     "text": [
      "| \u001b[95m 61      \u001b[0m | \u001b[95m 22.19   \u001b[0m | \u001b[95m 1.873   \u001b[0m | \u001b[95m 5.399   \u001b[0m | \u001b[95m 5.734   \u001b[0m | \u001b[95m 0.0     \u001b[0m | \u001b[95m 4.818   \u001b[0m | \u001b[95m 2.93    \u001b[0m | \u001b[95m 7.399   \u001b[0m | \u001b[95m 4.59    \u001b[0m | \u001b[95m 3.954   \u001b[0m | \u001b[95m 5.1     \u001b[0m | \u001b[95m 8.0     \u001b[0m | \u001b[95m 5.685   \u001b[0m | \u001b[95m 4.673   \u001b[0m | \u001b[95m 5.002   \u001b[0m | \u001b[95m 3.27    \u001b[0m | \u001b[95m 5.312   \u001b[0m |\n"
     ]
    },
    {
     "name": "stderr",
     "output_type": "stream",
     "text": [
      "/home/tangosvc/anaconda3/lib/python3.7/site-packages/ipykernel_launcher.py:229: SettingWithCopyWarning: \n",
      "A value is trying to be set on a copy of a slice from a DataFrame\n",
      "\n",
      "See the caveats in the documentation: http://pandas.pydata.org/pandas-docs/stable/indexing.html#indexing-view-versus-copy\n"
     ]
    },
    {
     "name": "stdout",
     "output_type": "stream",
     "text": [
      "Request 파일(/home/tangosvc/code/data/20191113/SON_TO_TEOS_RL_REQUEST_20191113_[733].dat)을 생성합니다.\n",
      "\n",
      "TEOS_TO_SON_RL_RESULT_20191113_[733].dat에 대한 get명령을 실행합니다.\n",
      "파일 TEOS_TO_SON_RL_RESULT_20191113_[733].dat이 없어 60초 대기후 다시 확인합니다(최대60회).\n",
      "파일 TEOS_TO_SON_RL_RESULT_20191113_[733].dat이 없어 60초 대기후 다시 확인합니다(최대60회).\n",
      "파일 TEOS_TO_SON_RL_RESULT_20191113_[733].dat이 없어 60초 대기후 다시 확인합니다(최대60회).\n",
      "파일 TEOS_TO_SON_RL_RESULT_20191113_[733].dat이 없어 60초 대기후 다시 확인합니다(최대60회).\n",
      "파일 TEOS_TO_SON_RL_RESULT_20191113_[733].dat이 없어 60초 대기후 다시 확인합니다(최대60회).\n",
      "파일 TEOS_TO_SON_RL_RESULT_20191113_[733].dat이 없어 60초 대기후 다시 확인합니다(최대60회).\n",
      "파일 TEOS_TO_SON_RL_RESULT_20191113_[733].dat이 없어 60초 대기후 다시 확인합니다(최대60회).\n",
      "파일 TEOS_TO_SON_RL_RESULT_20191113_[733].dat이 없어 60초 대기후 다시 확인합니다(최대60회).\n",
      "파일 TEOS_TO_SON_RL_RESULT_20191113_[733].dat이 없어 60초 대기후 다시 확인합니다(최대60회).\n",
      "파일 TEOS_TO_SON_RL_RESULT_20191113_[733].dat이 없어 60초 대기후 다시 확인합니다(최대60회).\n"
     ]
    },
    {
     "name": "stderr",
     "output_type": "stream",
     "text": [
      "/home/tangosvc/anaconda3/lib/python3.7/site-packages/pandas/core/reshape/merge.py:522: UserWarning: merging between different levels can give an unintended result (2 levels on the left, 1 on the right)\n",
      "  warnings.warn(msg, UserWarning)\n"
     ]
    },
    {
     "name": "stdout",
     "output_type": "stream",
     "text": [
      "| \u001b[95m 62      \u001b[0m | \u001b[95m 22.5    \u001b[0m | \u001b[95m 1.706   \u001b[0m | \u001b[95m 5.57    \u001b[0m | \u001b[95m 5.88    \u001b[0m | \u001b[95m 0.0     \u001b[0m | \u001b[95m 4.535   \u001b[0m | \u001b[95m 2.974   \u001b[0m | \u001b[95m 7.226   \u001b[0m | \u001b[95m 4.762   \u001b[0m | \u001b[95m 4.295   \u001b[0m | \u001b[95m 5.189   \u001b[0m | \u001b[95m 8.0     \u001b[0m | \u001b[95m 5.807   \u001b[0m | \u001b[95m 5.15    \u001b[0m | \u001b[95m 5.277   \u001b[0m | \u001b[95m 3.382   \u001b[0m | \u001b[95m 5.272   \u001b[0m |\n"
     ]
    },
    {
     "name": "stderr",
     "output_type": "stream",
     "text": [
      "/home/tangosvc/anaconda3/lib/python3.7/site-packages/ipykernel_launcher.py:229: SettingWithCopyWarning: \n",
      "A value is trying to be set on a copy of a slice from a DataFrame\n",
      "\n",
      "See the caveats in the documentation: http://pandas.pydata.org/pandas-docs/stable/indexing.html#indexing-view-versus-copy\n"
     ]
    },
    {
     "name": "stdout",
     "output_type": "stream",
     "text": [
      "Request 파일(/home/tangosvc/code/data/20191113/SON_TO_TEOS_RL_REQUEST_20191113_[734].dat)을 생성합니다.\n",
      "\n",
      "TEOS_TO_SON_RL_RESULT_20191113_[734].dat에 대한 get명령을 실행합니다.\n",
      "파일 TEOS_TO_SON_RL_RESULT_20191113_[734].dat이 없어 60초 대기후 다시 확인합니다(최대60회).\n",
      "파일 TEOS_TO_SON_RL_RESULT_20191113_[734].dat이 없어 60초 대기후 다시 확인합니다(최대60회).\n",
      "파일 TEOS_TO_SON_RL_RESULT_20191113_[734].dat이 없어 60초 대기후 다시 확인합니다(최대60회).\n",
      "파일 TEOS_TO_SON_RL_RESULT_20191113_[734].dat이 없어 60초 대기후 다시 확인합니다(최대60회).\n",
      "파일 TEOS_TO_SON_RL_RESULT_20191113_[734].dat이 없어 60초 대기후 다시 확인합니다(최대60회).\n",
      "파일 TEOS_TO_SON_RL_RESULT_20191113_[734].dat이 없어 60초 대기후 다시 확인합니다(최대60회).\n",
      "파일 TEOS_TO_SON_RL_RESULT_20191113_[734].dat이 없어 60초 대기후 다시 확인합니다(최대60회).\n",
      "파일 TEOS_TO_SON_RL_RESULT_20191113_[734].dat이 없어 60초 대기후 다시 확인합니다(최대60회).\n",
      "파일 TEOS_TO_SON_RL_RESULT_20191113_[734].dat이 없어 60초 대기후 다시 확인합니다(최대60회).\n",
      "파일 TEOS_TO_SON_RL_RESULT_20191113_[734].dat이 없어 60초 대기후 다시 확인합니다(최대60회).\n"
     ]
    },
    {
     "name": "stderr",
     "output_type": "stream",
     "text": [
      "/home/tangosvc/anaconda3/lib/python3.7/site-packages/pandas/core/reshape/merge.py:522: UserWarning: merging between different levels can give an unintended result (2 levels on the left, 1 on the right)\n",
      "  warnings.warn(msg, UserWarning)\n"
     ]
    },
    {
     "name": "stdout",
     "output_type": "stream",
     "text": [
      "| \u001b[0m 63      \u001b[0m | \u001b[0m 21.84   \u001b[0m | \u001b[0m 1.483   \u001b[0m | \u001b[0m 5.517   \u001b[0m | \u001b[0m 5.674   \u001b[0m | \u001b[0m 0.0     \u001b[0m | \u001b[0m 4.672   \u001b[0m | \u001b[0m 2.815   \u001b[0m | \u001b[0m 7.426   \u001b[0m | \u001b[0m 4.83    \u001b[0m | \u001b[0m 4.139   \u001b[0m | \u001b[0m 5.058   \u001b[0m | \u001b[0m 8.0     \u001b[0m | \u001b[0m 5.758   \u001b[0m | \u001b[0m 5.173   \u001b[0m | \u001b[0m 4.936   \u001b[0m | \u001b[0m 3.495   \u001b[0m | \u001b[0m 5.671   \u001b[0m |\n"
     ]
    },
    {
     "name": "stderr",
     "output_type": "stream",
     "text": [
      "/home/tangosvc/anaconda3/lib/python3.7/site-packages/ipykernel_launcher.py:229: SettingWithCopyWarning: \n",
      "A value is trying to be set on a copy of a slice from a DataFrame\n",
      "\n",
      "See the caveats in the documentation: http://pandas.pydata.org/pandas-docs/stable/indexing.html#indexing-view-versus-copy\n"
     ]
    },
    {
     "name": "stdout",
     "output_type": "stream",
     "text": [
      "Request 파일(/home/tangosvc/code/data/20191113/SON_TO_TEOS_RL_REQUEST_20191113_[735].dat)을 생성합니다.\n",
      "\n",
      "TEOS_TO_SON_RL_RESULT_20191113_[735].dat에 대한 get명령을 실행합니다.\n",
      "파일 TEOS_TO_SON_RL_RESULT_20191113_[735].dat이 없어 60초 대기후 다시 확인합니다(최대60회).\n",
      "파일 TEOS_TO_SON_RL_RESULT_20191113_[735].dat이 없어 60초 대기후 다시 확인합니다(최대60회).\n",
      "파일 TEOS_TO_SON_RL_RESULT_20191113_[735].dat이 없어 60초 대기후 다시 확인합니다(최대60회).\n",
      "파일 TEOS_TO_SON_RL_RESULT_20191113_[735].dat이 없어 60초 대기후 다시 확인합니다(최대60회).\n",
      "파일 TEOS_TO_SON_RL_RESULT_20191113_[735].dat이 없어 60초 대기후 다시 확인합니다(최대60회).\n",
      "파일 TEOS_TO_SON_RL_RESULT_20191113_[735].dat이 없어 60초 대기후 다시 확인합니다(최대60회).\n",
      "파일 TEOS_TO_SON_RL_RESULT_20191113_[735].dat이 없어 60초 대기후 다시 확인합니다(최대60회).\n",
      "파일 TEOS_TO_SON_RL_RESULT_20191113_[735].dat이 없어 60초 대기후 다시 확인합니다(최대60회).\n",
      "파일 TEOS_TO_SON_RL_RESULT_20191113_[735].dat이 없어 60초 대기후 다시 확인합니다(최대60회).\n"
     ]
    },
    {
     "name": "stderr",
     "output_type": "stream",
     "text": [
      "/home/tangosvc/anaconda3/lib/python3.7/site-packages/pandas/core/reshape/merge.py:522: UserWarning: merging between different levels can give an unintended result (2 levels on the left, 1 on the right)\n",
      "  warnings.warn(msg, UserWarning)\n"
     ]
    },
    {
     "name": "stdout",
     "output_type": "stream",
     "text": [
      "| \u001b[0m 64      \u001b[0m | \u001b[0m 22.5    \u001b[0m | \u001b[0m 1.509   \u001b[0m | \u001b[0m 5.541   \u001b[0m | \u001b[0m 6.317   \u001b[0m | \u001b[0m 0.0     \u001b[0m | \u001b[0m 4.534   \u001b[0m | \u001b[0m 3.001   \u001b[0m | \u001b[0m 7.364   \u001b[0m | \u001b[0m 4.673   \u001b[0m | \u001b[0m 4.049   \u001b[0m | \u001b[0m 5.235   \u001b[0m | \u001b[0m 8.0     \u001b[0m | \u001b[0m 5.604   \u001b[0m | \u001b[0m 4.846   \u001b[0m | \u001b[0m 5.292   \u001b[0m | \u001b[0m 3.098   \u001b[0m | \u001b[0m 5.359   \u001b[0m |\n"
     ]
    },
    {
     "name": "stderr",
     "output_type": "stream",
     "text": [
      "/home/tangosvc/anaconda3/lib/python3.7/site-packages/ipykernel_launcher.py:229: SettingWithCopyWarning: \n",
      "A value is trying to be set on a copy of a slice from a DataFrame\n",
      "\n",
      "See the caveats in the documentation: http://pandas.pydata.org/pandas-docs/stable/indexing.html#indexing-view-versus-copy\n"
     ]
    },
    {
     "name": "stdout",
     "output_type": "stream",
     "text": [
      "Request 파일(/home/tangosvc/code/data/20191113/SON_TO_TEOS_RL_REQUEST_20191113_[736].dat)을 생성합니다.\n",
      "\n",
      "TEOS_TO_SON_RL_RESULT_20191113_[736].dat에 대한 get명령을 실행합니다.\n",
      "파일 TEOS_TO_SON_RL_RESULT_20191113_[736].dat이 없어 60초 대기후 다시 확인합니다(최대60회).\n",
      "파일 TEOS_TO_SON_RL_RESULT_20191113_[736].dat이 없어 60초 대기후 다시 확인합니다(최대60회).\n",
      "파일 TEOS_TO_SON_RL_RESULT_20191113_[736].dat이 없어 60초 대기후 다시 확인합니다(최대60회).\n",
      "파일 TEOS_TO_SON_RL_RESULT_20191113_[736].dat이 없어 60초 대기후 다시 확인합니다(최대60회).\n",
      "파일 TEOS_TO_SON_RL_RESULT_20191113_[736].dat이 없어 60초 대기후 다시 확인합니다(최대60회).\n",
      "파일 TEOS_TO_SON_RL_RESULT_20191113_[736].dat이 없어 60초 대기후 다시 확인합니다(최대60회).\n",
      "파일 TEOS_TO_SON_RL_RESULT_20191113_[736].dat이 없어 60초 대기후 다시 확인합니다(최대60회).\n",
      "파일 TEOS_TO_SON_RL_RESULT_20191113_[736].dat이 없어 60초 대기후 다시 확인합니다(최대60회).\n",
      "파일 TEOS_TO_SON_RL_RESULT_20191113_[736].dat이 없어 60초 대기후 다시 확인합니다(최대60회).\n",
      "파일 TEOS_TO_SON_RL_RESULT_20191113_[736].dat이 없어 60초 대기후 다시 확인합니다(최대60회).\n"
     ]
    },
    {
     "name": "stderr",
     "output_type": "stream",
     "text": [
      "/home/tangosvc/anaconda3/lib/python3.7/site-packages/pandas/core/reshape/merge.py:522: UserWarning: merging between different levels can give an unintended result (2 levels on the left, 1 on the right)\n",
      "  warnings.warn(msg, UserWarning)\n"
     ]
    },
    {
     "name": "stdout",
     "output_type": "stream",
     "text": [
      "| \u001b[0m 65      \u001b[0m | \u001b[0m 21.39   \u001b[0m | \u001b[0m 1.601   \u001b[0m | \u001b[0m 5.412   \u001b[0m | \u001b[0m 5.943   \u001b[0m | \u001b[0m 0.5538  \u001b[0m | \u001b[0m 4.643   \u001b[0m | \u001b[0m 3.071   \u001b[0m | \u001b[0m 7.259   \u001b[0m | \u001b[0m 4.527   \u001b[0m | \u001b[0m 4.106   \u001b[0m | \u001b[0m 5.225   \u001b[0m | \u001b[0m 8.0     \u001b[0m | \u001b[0m 5.592   \u001b[0m | \u001b[0m 4.987   \u001b[0m | \u001b[0m 5.416   \u001b[0m | \u001b[0m 3.218   \u001b[0m | \u001b[0m 5.306   \u001b[0m |\n"
     ]
    },
    {
     "name": "stderr",
     "output_type": "stream",
     "text": [
      "/home/tangosvc/anaconda3/lib/python3.7/site-packages/ipykernel_launcher.py:229: SettingWithCopyWarning: \n",
      "A value is trying to be set on a copy of a slice from a DataFrame\n",
      "\n",
      "See the caveats in the documentation: http://pandas.pydata.org/pandas-docs/stable/indexing.html#indexing-view-versus-copy\n"
     ]
    },
    {
     "name": "stdout",
     "output_type": "stream",
     "text": [
      "Request 파일(/home/tangosvc/code/data/20191113/SON_TO_TEOS_RL_REQUEST_20191113_[737].dat)을 생성합니다.\n",
      "\n",
      "TEOS_TO_SON_RL_RESULT_20191113_[737].dat에 대한 get명령을 실행합니다.\n",
      "파일 TEOS_TO_SON_RL_RESULT_20191113_[737].dat이 없어 60초 대기후 다시 확인합니다(최대60회).\n",
      "파일 TEOS_TO_SON_RL_RESULT_20191113_[737].dat이 없어 60초 대기후 다시 확인합니다(최대60회).\n",
      "파일 TEOS_TO_SON_RL_RESULT_20191113_[737].dat이 없어 60초 대기후 다시 확인합니다(최대60회).\n",
      "파일 TEOS_TO_SON_RL_RESULT_20191113_[737].dat이 없어 60초 대기후 다시 확인합니다(최대60회).\n",
      "파일 TEOS_TO_SON_RL_RESULT_20191113_[737].dat이 없어 60초 대기후 다시 확인합니다(최대60회).\n",
      "파일 TEOS_TO_SON_RL_RESULT_20191113_[737].dat이 없어 60초 대기후 다시 확인합니다(최대60회).\n",
      "파일 TEOS_TO_SON_RL_RESULT_20191113_[737].dat이 없어 60초 대기후 다시 확인합니다(최대60회).\n",
      "파일 TEOS_TO_SON_RL_RESULT_20191113_[737].dat이 없어 60초 대기후 다시 확인합니다(최대60회).\n",
      "파일 TEOS_TO_SON_RL_RESULT_20191113_[737].dat이 없어 60초 대기후 다시 확인합니다(최대60회).\n",
      "파일 TEOS_TO_SON_RL_RESULT_20191113_[737].dat이 없어 60초 대기후 다시 확인합니다(최대60회).\n"
     ]
    },
    {
     "name": "stderr",
     "output_type": "stream",
     "text": [
      "/home/tangosvc/anaconda3/lib/python3.7/site-packages/pandas/core/reshape/merge.py:522: UserWarning: merging between different levels can give an unintended result (2 levels on the left, 1 on the right)\n",
      "  warnings.warn(msg, UserWarning)\n"
     ]
    },
    {
     "name": "stdout",
     "output_type": "stream",
     "text": [
      "| \u001b[0m 66      \u001b[0m | \u001b[0m 18.68   \u001b[0m | \u001b[0m 0.2955  \u001b[0m | \u001b[0m 5.436   \u001b[0m | \u001b[0m 5.448   \u001b[0m | \u001b[0m 0.3666  \u001b[0m | \u001b[0m 5.206   \u001b[0m | \u001b[0m 3.49    \u001b[0m | \u001b[0m 3.678   \u001b[0m | \u001b[0m 7.536   \u001b[0m | \u001b[0m 3.287   \u001b[0m | \u001b[0m 6.166   \u001b[0m | \u001b[0m 7.462   \u001b[0m | \u001b[0m 5.196   \u001b[0m | \u001b[0m 4.82    \u001b[0m | \u001b[0m 4.97    \u001b[0m | \u001b[0m 1.776   \u001b[0m | \u001b[0m 5.454   \u001b[0m |\n"
     ]
    },
    {
     "name": "stderr",
     "output_type": "stream",
     "text": [
      "/home/tangosvc/anaconda3/lib/python3.7/site-packages/ipykernel_launcher.py:229: SettingWithCopyWarning: \n",
      "A value is trying to be set on a copy of a slice from a DataFrame\n",
      "\n",
      "See the caveats in the documentation: http://pandas.pydata.org/pandas-docs/stable/indexing.html#indexing-view-versus-copy\n"
     ]
    },
    {
     "name": "stdout",
     "output_type": "stream",
     "text": [
      "Request 파일(/home/tangosvc/code/data/20191113/SON_TO_TEOS_RL_REQUEST_20191113_[738].dat)을 생성합니다.\n",
      "\n",
      "TEOS_TO_SON_RL_RESULT_20191113_[738].dat에 대한 get명령을 실행합니다.\n",
      "파일 TEOS_TO_SON_RL_RESULT_20191113_[738].dat이 없어 60초 대기후 다시 확인합니다(최대60회).\n",
      "파일 TEOS_TO_SON_RL_RESULT_20191113_[738].dat이 없어 60초 대기후 다시 확인합니다(최대60회).\n",
      "파일 TEOS_TO_SON_RL_RESULT_20191113_[738].dat이 없어 60초 대기후 다시 확인합니다(최대60회).\n",
      "파일 TEOS_TO_SON_RL_RESULT_20191113_[738].dat이 없어 60초 대기후 다시 확인합니다(최대60회).\n",
      "파일 TEOS_TO_SON_RL_RESULT_20191113_[738].dat이 없어 60초 대기후 다시 확인합니다(최대60회).\n",
      "파일 TEOS_TO_SON_RL_RESULT_20191113_[738].dat이 없어 60초 대기후 다시 확인합니다(최대60회).\n",
      "파일 TEOS_TO_SON_RL_RESULT_20191113_[738].dat이 없어 60초 대기후 다시 확인합니다(최대60회).\n",
      "파일 TEOS_TO_SON_RL_RESULT_20191113_[738].dat이 없어 60초 대기후 다시 확인합니다(최대60회).\n",
      "파일 TEOS_TO_SON_RL_RESULT_20191113_[738].dat이 없어 60초 대기후 다시 확인합니다(최대60회).\n",
      "파일 TEOS_TO_SON_RL_RESULT_20191113_[738].dat이 없어 60초 대기후 다시 확인합니다(최대60회).\n"
     ]
    },
    {
     "name": "stderr",
     "output_type": "stream",
     "text": [
      "/home/tangosvc/anaconda3/lib/python3.7/site-packages/pandas/core/reshape/merge.py:522: UserWarning: merging between different levels can give an unintended result (2 levels on the left, 1 on the right)\n",
      "  warnings.warn(msg, UserWarning)\n"
     ]
    },
    {
     "name": "stdout",
     "output_type": "stream",
     "text": [
      "| \u001b[0m 67      \u001b[0m | \u001b[0m 21.28   \u001b[0m | \u001b[0m 1.881   \u001b[0m | \u001b[0m 5.879   \u001b[0m | \u001b[0m 6.105   \u001b[0m | \u001b[0m 0.0     \u001b[0m | \u001b[0m 4.432   \u001b[0m | \u001b[0m 2.794   \u001b[0m | \u001b[0m 7.405   \u001b[0m | \u001b[0m 4.646   \u001b[0m | \u001b[0m 4.332   \u001b[0m | \u001b[0m 5.303   \u001b[0m | \u001b[0m 8.0     \u001b[0m | \u001b[0m 5.457   \u001b[0m | \u001b[0m 4.872   \u001b[0m | \u001b[0m 4.971   \u001b[0m | \u001b[0m 3.249   \u001b[0m | \u001b[0m 5.322   \u001b[0m |\n"
     ]
    },
    {
     "name": "stderr",
     "output_type": "stream",
     "text": [
      "/home/tangosvc/anaconda3/lib/python3.7/site-packages/ipykernel_launcher.py:229: SettingWithCopyWarning: \n",
      "A value is trying to be set on a copy of a slice from a DataFrame\n",
      "\n",
      "See the caveats in the documentation: http://pandas.pydata.org/pandas-docs/stable/indexing.html#indexing-view-versus-copy\n"
     ]
    },
    {
     "name": "stdout",
     "output_type": "stream",
     "text": [
      "Request 파일(/home/tangosvc/code/data/20191113/SON_TO_TEOS_RL_REQUEST_20191113_[739].dat)을 생성합니다.\n",
      "\n",
      "TEOS_TO_SON_RL_RESULT_20191113_[739].dat에 대한 get명령을 실행합니다.\n",
      "파일 TEOS_TO_SON_RL_RESULT_20191113_[739].dat이 없어 60초 대기후 다시 확인합니다(최대60회).\n",
      "파일 TEOS_TO_SON_RL_RESULT_20191113_[739].dat이 없어 60초 대기후 다시 확인합니다(최대60회).\n",
      "파일 TEOS_TO_SON_RL_RESULT_20191113_[739].dat이 없어 60초 대기후 다시 확인합니다(최대60회).\n",
      "파일 TEOS_TO_SON_RL_RESULT_20191113_[739].dat이 없어 60초 대기후 다시 확인합니다(최대60회).\n",
      "파일 TEOS_TO_SON_RL_RESULT_20191113_[739].dat이 없어 60초 대기후 다시 확인합니다(최대60회).\n",
      "파일 TEOS_TO_SON_RL_RESULT_20191113_[739].dat이 없어 60초 대기후 다시 확인합니다(최대60회).\n",
      "파일 TEOS_TO_SON_RL_RESULT_20191113_[739].dat이 없어 60초 대기후 다시 확인합니다(최대60회).\n",
      "파일 TEOS_TO_SON_RL_RESULT_20191113_[739].dat이 없어 60초 대기후 다시 확인합니다(최대60회).\n",
      "파일 TEOS_TO_SON_RL_RESULT_20191113_[739].dat이 없어 60초 대기후 다시 확인합니다(최대60회).\n",
      "파일 TEOS_TO_SON_RL_RESULT_20191113_[739].dat이 없어 60초 대기후 다시 확인합니다(최대60회).\n"
     ]
    },
    {
     "name": "stderr",
     "output_type": "stream",
     "text": [
      "/home/tangosvc/anaconda3/lib/python3.7/site-packages/pandas/core/reshape/merge.py:522: UserWarning: merging between different levels can give an unintended result (2 levels on the left, 1 on the right)\n",
      "  warnings.warn(msg, UserWarning)\n"
     ]
    },
    {
     "name": "stdout",
     "output_type": "stream",
     "text": [
      "| \u001b[0m 68      \u001b[0m | \u001b[0m 18.63   \u001b[0m | \u001b[0m 3.418   \u001b[0m | \u001b[0m 5.023   \u001b[0m | \u001b[0m 4.645   \u001b[0m | \u001b[0m 0.2107  \u001b[0m | \u001b[0m 4.439   \u001b[0m | \u001b[0m 0.245   \u001b[0m | \u001b[0m 6.362   \u001b[0m | \u001b[0m 3.207   \u001b[0m | \u001b[0m 4.414   \u001b[0m | \u001b[0m 6.242   \u001b[0m | \u001b[0m 6.504   \u001b[0m | \u001b[0m 3.015   \u001b[0m | \u001b[0m 3.961   \u001b[0m | \u001b[0m 6.018   \u001b[0m | \u001b[0m 4.057   \u001b[0m | \u001b[0m 4.517   \u001b[0m |\n"
     ]
    },
    {
     "name": "stderr",
     "output_type": "stream",
     "text": [
      "/home/tangosvc/anaconda3/lib/python3.7/site-packages/ipykernel_launcher.py:229: SettingWithCopyWarning: \n",
      "A value is trying to be set on a copy of a slice from a DataFrame\n",
      "\n",
      "See the caveats in the documentation: http://pandas.pydata.org/pandas-docs/stable/indexing.html#indexing-view-versus-copy\n"
     ]
    },
    {
     "name": "stdout",
     "output_type": "stream",
     "text": [
      "Request 파일(/home/tangosvc/code/data/20191113/SON_TO_TEOS_RL_REQUEST_20191113_[740].dat)을 생성합니다.\n",
      "\n",
      "TEOS_TO_SON_RL_RESULT_20191113_[740].dat에 대한 get명령을 실행합니다.\n",
      "파일 TEOS_TO_SON_RL_RESULT_20191113_[740].dat이 없어 60초 대기후 다시 확인합니다(최대60회).\n",
      "파일 TEOS_TO_SON_RL_RESULT_20191113_[740].dat이 없어 60초 대기후 다시 확인합니다(최대60회).\n",
      "파일 TEOS_TO_SON_RL_RESULT_20191113_[740].dat이 없어 60초 대기후 다시 확인합니다(최대60회).\n",
      "파일 TEOS_TO_SON_RL_RESULT_20191113_[740].dat이 없어 60초 대기후 다시 확인합니다(최대60회).\n",
      "파일 TEOS_TO_SON_RL_RESULT_20191113_[740].dat이 없어 60초 대기후 다시 확인합니다(최대60회).\n",
      "파일 TEOS_TO_SON_RL_RESULT_20191113_[740].dat이 없어 60초 대기후 다시 확인합니다(최대60회).\n",
      "파일 TEOS_TO_SON_RL_RESULT_20191113_[740].dat이 없어 60초 대기후 다시 확인합니다(최대60회).\n",
      "파일 TEOS_TO_SON_RL_RESULT_20191113_[740].dat이 없어 60초 대기후 다시 확인합니다(최대60회).\n",
      "파일 TEOS_TO_SON_RL_RESULT_20191113_[740].dat이 없어 60초 대기후 다시 확인합니다(최대60회).\n",
      "파일 TEOS_TO_SON_RL_RESULT_20191113_[740].dat이 없어 60초 대기후 다시 확인합니다(최대60회).\n"
     ]
    },
    {
     "name": "stderr",
     "output_type": "stream",
     "text": [
      "/home/tangosvc/anaconda3/lib/python3.7/site-packages/pandas/core/reshape/merge.py:522: UserWarning: merging between different levels can give an unintended result (2 levels on the left, 1 on the right)\n",
      "  warnings.warn(msg, UserWarning)\n"
     ]
    },
    {
     "name": "stdout",
     "output_type": "stream",
     "text": [
      "| \u001b[0m 69      \u001b[0m | \u001b[0m 19.12   \u001b[0m | \u001b[0m 0.6655  \u001b[0m | \u001b[0m 6.294   \u001b[0m | \u001b[0m 6.279   \u001b[0m | \u001b[0m 0.4525  \u001b[0m | \u001b[0m 3.16    \u001b[0m | \u001b[0m 4.55    \u001b[0m | \u001b[0m 7.878   \u001b[0m | \u001b[0m 6.225   \u001b[0m | \u001b[0m 3.795   \u001b[0m | \u001b[0m 3.349   \u001b[0m | \u001b[0m 7.506   \u001b[0m | \u001b[0m 6.596   \u001b[0m | \u001b[0m 4.609   \u001b[0m | \u001b[0m 4.913   \u001b[0m | \u001b[0m 2.425   \u001b[0m | \u001b[0m 5.352   \u001b[0m |\n"
     ]
    },
    {
     "name": "stderr",
     "output_type": "stream",
     "text": [
      "/home/tangosvc/anaconda3/lib/python3.7/site-packages/ipykernel_launcher.py:229: SettingWithCopyWarning: \n",
      "A value is trying to be set on a copy of a slice from a DataFrame\n",
      "\n",
      "See the caveats in the documentation: http://pandas.pydata.org/pandas-docs/stable/indexing.html#indexing-view-versus-copy\n"
     ]
    },
    {
     "name": "stdout",
     "output_type": "stream",
     "text": [
      "Request 파일(/home/tangosvc/code/data/20191113/SON_TO_TEOS_RL_REQUEST_20191113_[741].dat)을 생성합니다.\n",
      "\n",
      "TEOS_TO_SON_RL_RESULT_20191113_[741].dat에 대한 get명령을 실행합니다.\n",
      "파일 TEOS_TO_SON_RL_RESULT_20191113_[741].dat이 없어 60초 대기후 다시 확인합니다(최대60회).\n",
      "파일 TEOS_TO_SON_RL_RESULT_20191113_[741].dat이 없어 60초 대기후 다시 확인합니다(최대60회).\n",
      "파일 TEOS_TO_SON_RL_RESULT_20191113_[741].dat이 없어 60초 대기후 다시 확인합니다(최대60회).\n",
      "파일 TEOS_TO_SON_RL_RESULT_20191113_[741].dat이 없어 60초 대기후 다시 확인합니다(최대60회).\n",
      "파일 TEOS_TO_SON_RL_RESULT_20191113_[741].dat이 없어 60초 대기후 다시 확인합니다(최대60회).\n",
      "파일 TEOS_TO_SON_RL_RESULT_20191113_[741].dat이 없어 60초 대기후 다시 확인합니다(최대60회).\n",
      "파일 TEOS_TO_SON_RL_RESULT_20191113_[741].dat이 없어 60초 대기후 다시 확인합니다(최대60회).\n",
      "파일 TEOS_TO_SON_RL_RESULT_20191113_[741].dat이 없어 60초 대기후 다시 확인합니다(최대60회).\n",
      "파일 TEOS_TO_SON_RL_RESULT_20191113_[741].dat이 없어 60초 대기후 다시 확인합니다(최대60회).\n",
      "파일 TEOS_TO_SON_RL_RESULT_20191113_[741].dat이 없어 60초 대기후 다시 확인합니다(최대60회).\n"
     ]
    },
    {
     "name": "stderr",
     "output_type": "stream",
     "text": [
      "/home/tangosvc/anaconda3/lib/python3.7/site-packages/pandas/core/reshape/merge.py:522: UserWarning: merging between different levels can give an unintended result (2 levels on the left, 1 on the right)\n",
      "  warnings.warn(msg, UserWarning)\n"
     ]
    },
    {
     "name": "stdout",
     "output_type": "stream",
     "text": [
      "| \u001b[0m 70      \u001b[0m | \u001b[0m 17.46   \u001b[0m | \u001b[0m 0.6342  \u001b[0m | \u001b[0m 4.805   \u001b[0m | \u001b[0m 6.304   \u001b[0m | \u001b[0m 0.03949 \u001b[0m | \u001b[0m 3.112   \u001b[0m | \u001b[0m 4.744   \u001b[0m | \u001b[0m 6.247   \u001b[0m | \u001b[0m 4.496   \u001b[0m | \u001b[0m 5.245   \u001b[0m | \u001b[0m 5.756   \u001b[0m | \u001b[0m 7.256   \u001b[0m | \u001b[0m 5.316   \u001b[0m | \u001b[0m 5.492   \u001b[0m | \u001b[0m 6.082   \u001b[0m | \u001b[0m 1.569   \u001b[0m | \u001b[0m 5.804   \u001b[0m |\n"
     ]
    },
    {
     "name": "stderr",
     "output_type": "stream",
     "text": [
      "/home/tangosvc/anaconda3/lib/python3.7/site-packages/ipykernel_launcher.py:229: SettingWithCopyWarning: \n",
      "A value is trying to be set on a copy of a slice from a DataFrame\n",
      "\n",
      "See the caveats in the documentation: http://pandas.pydata.org/pandas-docs/stable/indexing.html#indexing-view-versus-copy\n"
     ]
    },
    {
     "name": "stdout",
     "output_type": "stream",
     "text": [
      "Request 파일(/home/tangosvc/code/data/20191113/SON_TO_TEOS_RL_REQUEST_20191113_[742].dat)을 생성합니다.\n",
      "\n",
      "TEOS_TO_SON_RL_RESULT_20191113_[742].dat에 대한 get명령을 실행합니다.\n",
      "파일 TEOS_TO_SON_RL_RESULT_20191113_[742].dat이 없어 60초 대기후 다시 확인합니다(최대60회).\n",
      "파일 TEOS_TO_SON_RL_RESULT_20191113_[742].dat이 없어 60초 대기후 다시 확인합니다(최대60회).\n",
      "파일 TEOS_TO_SON_RL_RESULT_20191113_[742].dat이 없어 60초 대기후 다시 확인합니다(최대60회).\n",
      "파일 TEOS_TO_SON_RL_RESULT_20191113_[742].dat이 없어 60초 대기후 다시 확인합니다(최대60회).\n",
      "파일 TEOS_TO_SON_RL_RESULT_20191113_[742].dat이 없어 60초 대기후 다시 확인합니다(최대60회).\n",
      "파일 TEOS_TO_SON_RL_RESULT_20191113_[742].dat이 없어 60초 대기후 다시 확인합니다(최대60회).\n",
      "파일 TEOS_TO_SON_RL_RESULT_20191113_[742].dat이 없어 60초 대기후 다시 확인합니다(최대60회).\n",
      "파일 TEOS_TO_SON_RL_RESULT_20191113_[742].dat이 없어 60초 대기후 다시 확인합니다(최대60회).\n",
      "파일 TEOS_TO_SON_RL_RESULT_20191113_[742].dat이 없어 60초 대기후 다시 확인합니다(최대60회).\n",
      "파일 TEOS_TO_SON_RL_RESULT_20191113_[742].dat이 없어 60초 대기후 다시 확인합니다(최대60회).\n"
     ]
    },
    {
     "name": "stderr",
     "output_type": "stream",
     "text": [
      "/home/tangosvc/anaconda3/lib/python3.7/site-packages/pandas/core/reshape/merge.py:522: UserWarning: merging between different levels can give an unintended result (2 levels on the left, 1 on the right)\n",
      "  warnings.warn(msg, UserWarning)\n"
     ]
    },
    {
     "name": "stdout",
     "output_type": "stream",
     "text": [
      "| \u001b[95m 71      \u001b[0m | \u001b[95m 22.98   \u001b[0m | \u001b[95m 2.785   \u001b[0m | \u001b[95m 6.805   \u001b[0m | \u001b[95m 7.741   \u001b[0m | \u001b[95m 0.4707  \u001b[0m | \u001b[95m 5.464   \u001b[0m | \u001b[95m 4.952   \u001b[0m | \u001b[95m 5.46    \u001b[0m | \u001b[95m 4.187   \u001b[0m | \u001b[95m 4.717   \u001b[0m | \u001b[95m 5.28    \u001b[0m | \u001b[95m 6.25    \u001b[0m | \u001b[95m 7.021   \u001b[0m | \u001b[95m 6.871   \u001b[0m | \u001b[95m 3.022   \u001b[0m | \u001b[95m 2.688   \u001b[0m | \u001b[95m 6.279   \u001b[0m |\n"
     ]
    },
    {
     "name": "stderr",
     "output_type": "stream",
     "text": [
      "/home/tangosvc/anaconda3/lib/python3.7/site-packages/ipykernel_launcher.py:229: SettingWithCopyWarning: \n",
      "A value is trying to be set on a copy of a slice from a DataFrame\n",
      "\n",
      "See the caveats in the documentation: http://pandas.pydata.org/pandas-docs/stable/indexing.html#indexing-view-versus-copy\n"
     ]
    },
    {
     "name": "stdout",
     "output_type": "stream",
     "text": [
      "Request 파일(/home/tangosvc/code/data/20191113/SON_TO_TEOS_RL_REQUEST_20191113_[743].dat)을 생성합니다.\n",
      "\n",
      "TEOS_TO_SON_RL_RESULT_20191113_[743].dat에 대한 get명령을 실행합니다.\n",
      "파일 TEOS_TO_SON_RL_RESULT_20191113_[743].dat이 없어 60초 대기후 다시 확인합니다(최대60회).\n",
      "파일 TEOS_TO_SON_RL_RESULT_20191113_[743].dat이 없어 60초 대기후 다시 확인합니다(최대60회).\n",
      "파일 TEOS_TO_SON_RL_RESULT_20191113_[743].dat이 없어 60초 대기후 다시 확인합니다(최대60회).\n",
      "파일 TEOS_TO_SON_RL_RESULT_20191113_[743].dat이 없어 60초 대기후 다시 확인합니다(최대60회).\n",
      "파일 TEOS_TO_SON_RL_RESULT_20191113_[743].dat이 없어 60초 대기후 다시 확인합니다(최대60회).\n",
      "파일 TEOS_TO_SON_RL_RESULT_20191113_[743].dat이 없어 60초 대기후 다시 확인합니다(최대60회).\n",
      "파일 TEOS_TO_SON_RL_RESULT_20191113_[743].dat이 없어 60초 대기후 다시 확인합니다(최대60회).\n",
      "파일 TEOS_TO_SON_RL_RESULT_20191113_[743].dat이 없어 60초 대기후 다시 확인합니다(최대60회).\n",
      "파일 TEOS_TO_SON_RL_RESULT_20191113_[743].dat이 없어 60초 대기후 다시 확인합니다(최대60회).\n",
      "파일 TEOS_TO_SON_RL_RESULT_20191113_[743].dat이 없어 60초 대기후 다시 확인합니다(최대60회).\n"
     ]
    },
    {
     "name": "stderr",
     "output_type": "stream",
     "text": [
      "/home/tangosvc/anaconda3/lib/python3.7/site-packages/pandas/core/reshape/merge.py:522: UserWarning: merging between different levels can give an unintended result (2 levels on the left, 1 on the right)\n",
      "  warnings.warn(msg, UserWarning)\n"
     ]
    },
    {
     "name": "stdout",
     "output_type": "stream",
     "text": [
      "| \u001b[0m 72      \u001b[0m | \u001b[0m 22.47   \u001b[0m | \u001b[0m 2.663   \u001b[0m | \u001b[0m 6.686   \u001b[0m | \u001b[0m 7.556   \u001b[0m | \u001b[0m 0.2983  \u001b[0m | \u001b[0m 5.496   \u001b[0m | \u001b[0m 4.701   \u001b[0m | \u001b[0m 5.656   \u001b[0m | \u001b[0m 4.211   \u001b[0m | \u001b[0m 4.569   \u001b[0m | \u001b[0m 5.248   \u001b[0m | \u001b[0m 6.469   \u001b[0m | \u001b[0m 6.93    \u001b[0m | \u001b[0m 6.682   \u001b[0m | \u001b[0m 3.257   \u001b[0m | \u001b[0m 2.794   \u001b[0m | \u001b[0m 6.155   \u001b[0m |\n"
     ]
    },
    {
     "name": "stderr",
     "output_type": "stream",
     "text": [
      "/home/tangosvc/anaconda3/lib/python3.7/site-packages/ipykernel_launcher.py:229: SettingWithCopyWarning: \n",
      "A value is trying to be set on a copy of a slice from a DataFrame\n",
      "\n",
      "See the caveats in the documentation: http://pandas.pydata.org/pandas-docs/stable/indexing.html#indexing-view-versus-copy\n"
     ]
    },
    {
     "name": "stdout",
     "output_type": "stream",
     "text": [
      "Request 파일(/home/tangosvc/code/data/20191113/SON_TO_TEOS_RL_REQUEST_20191113_[744].dat)을 생성합니다.\n",
      "\n",
      "TEOS_TO_SON_RL_RESULT_20191113_[744].dat에 대한 get명령을 실행합니다.\n",
      "파일 TEOS_TO_SON_RL_RESULT_20191113_[744].dat이 없어 60초 대기후 다시 확인합니다(최대60회).\n",
      "파일 TEOS_TO_SON_RL_RESULT_20191113_[744].dat이 없어 60초 대기후 다시 확인합니다(최대60회).\n",
      "파일 TEOS_TO_SON_RL_RESULT_20191113_[744].dat이 없어 60초 대기후 다시 확인합니다(최대60회).\n",
      "파일 TEOS_TO_SON_RL_RESULT_20191113_[744].dat이 없어 60초 대기후 다시 확인합니다(최대60회).\n",
      "파일 TEOS_TO_SON_RL_RESULT_20191113_[744].dat이 없어 60초 대기후 다시 확인합니다(최대60회).\n",
      "파일 TEOS_TO_SON_RL_RESULT_20191113_[744].dat이 없어 60초 대기후 다시 확인합니다(최대60회).\n",
      "파일 TEOS_TO_SON_RL_RESULT_20191113_[744].dat이 없어 60초 대기후 다시 확인합니다(최대60회).\n",
      "파일 TEOS_TO_SON_RL_RESULT_20191113_[744].dat이 없어 60초 대기후 다시 확인합니다(최대60회).\n",
      "파일 TEOS_TO_SON_RL_RESULT_20191113_[744].dat이 없어 60초 대기후 다시 확인합니다(최대60회).\n",
      "파일 TEOS_TO_SON_RL_RESULT_20191113_[744].dat이 없어 60초 대기후 다시 확인합니다(최대60회).\n"
     ]
    },
    {
     "name": "stderr",
     "output_type": "stream",
     "text": [
      "/home/tangosvc/anaconda3/lib/python3.7/site-packages/pandas/core/reshape/merge.py:522: UserWarning: merging between different levels can give an unintended result (2 levels on the left, 1 on the right)\n",
      "  warnings.warn(msg, UserWarning)\n"
     ]
    },
    {
     "name": "stdout",
     "output_type": "stream",
     "text": [
      "| \u001b[95m 73      \u001b[0m | \u001b[95m 23.16   \u001b[0m | \u001b[95m 2.863   \u001b[0m | \u001b[95m 6.992   \u001b[0m | \u001b[95m 7.776   \u001b[0m | \u001b[95m 0.1885  \u001b[0m | \u001b[95m 5.856   \u001b[0m | \u001b[95m 4.939   \u001b[0m | \u001b[95m 5.441   \u001b[0m | \u001b[95m 3.934   \u001b[0m | \u001b[95m 4.56    \u001b[0m | \u001b[95m 5.227   \u001b[0m | \u001b[95m 6.323   \u001b[0m | \u001b[95m 7.156   \u001b[0m | \u001b[95m 6.977   \u001b[0m | \u001b[95m 2.979   \u001b[0m | \u001b[95m 2.775   \u001b[0m | \u001b[95m 6.286   \u001b[0m |\n"
     ]
    },
    {
     "name": "stderr",
     "output_type": "stream",
     "text": [
      "/home/tangosvc/anaconda3/lib/python3.7/site-packages/ipykernel_launcher.py:229: SettingWithCopyWarning: \n",
      "A value is trying to be set on a copy of a slice from a DataFrame\n",
      "\n",
      "See the caveats in the documentation: http://pandas.pydata.org/pandas-docs/stable/indexing.html#indexing-view-versus-copy\n"
     ]
    },
    {
     "name": "stdout",
     "output_type": "stream",
     "text": [
      "Request 파일(/home/tangosvc/code/data/20191113/SON_TO_TEOS_RL_REQUEST_20191113_[745].dat)을 생성합니다.\n",
      "\n",
      "TEOS_TO_SON_RL_RESULT_20191113_[745].dat에 대한 get명령을 실행합니다.\n",
      "파일 TEOS_TO_SON_RL_RESULT_20191113_[745].dat이 없어 60초 대기후 다시 확인합니다(최대60회).\n",
      "파일 TEOS_TO_SON_RL_RESULT_20191113_[745].dat이 없어 60초 대기후 다시 확인합니다(최대60회).\n",
      "파일 TEOS_TO_SON_RL_RESULT_20191113_[745].dat이 없어 60초 대기후 다시 확인합니다(최대60회).\n",
      "파일 TEOS_TO_SON_RL_RESULT_20191113_[745].dat이 없어 60초 대기후 다시 확인합니다(최대60회).\n",
      "파일 TEOS_TO_SON_RL_RESULT_20191113_[745].dat이 없어 60초 대기후 다시 확인합니다(최대60회).\n",
      "파일 TEOS_TO_SON_RL_RESULT_20191113_[745].dat이 없어 60초 대기후 다시 확인합니다(최대60회).\n",
      "파일 TEOS_TO_SON_RL_RESULT_20191113_[745].dat이 없어 60초 대기후 다시 확인합니다(최대60회).\n",
      "파일 TEOS_TO_SON_RL_RESULT_20191113_[745].dat이 없어 60초 대기후 다시 확인합니다(최대60회).\n",
      "파일 TEOS_TO_SON_RL_RESULT_20191113_[745].dat이 없어 60초 대기후 다시 확인합니다(최대60회).\n",
      "파일 TEOS_TO_SON_RL_RESULT_20191113_[745].dat이 없어 60초 대기후 다시 확인합니다(최대60회).\n"
     ]
    },
    {
     "name": "stderr",
     "output_type": "stream",
     "text": [
      "/home/tangosvc/anaconda3/lib/python3.7/site-packages/pandas/core/reshape/merge.py:522: UserWarning: merging between different levels can give an unintended result (2 levels on the left, 1 on the right)\n",
      "  warnings.warn(msg, UserWarning)\n"
     ]
    },
    {
     "name": "stdout",
     "output_type": "stream",
     "text": [
      "| \u001b[0m 74      \u001b[0m | \u001b[0m 23.16   \u001b[0m | \u001b[0m 2.692   \u001b[0m | \u001b[0m 6.86    \u001b[0m | \u001b[0m 7.875   \u001b[0m | \u001b[0m 0.2371  \u001b[0m | \u001b[0m 5.811   \u001b[0m | \u001b[0m 5.019   \u001b[0m | \u001b[0m 5.373   \u001b[0m | \u001b[0m 4.284   \u001b[0m | \u001b[0m 4.697   \u001b[0m | \u001b[0m 5.402   \u001b[0m | \u001b[0m 6.273   \u001b[0m | \u001b[0m 7.406   \u001b[0m | \u001b[0m 6.769   \u001b[0m | \u001b[0m 2.959   \u001b[0m | \u001b[0m 3.067   \u001b[0m | \u001b[0m 6.321   \u001b[0m |\n"
     ]
    },
    {
     "name": "stderr",
     "output_type": "stream",
     "text": [
      "/home/tangosvc/anaconda3/lib/python3.7/site-packages/ipykernel_launcher.py:229: SettingWithCopyWarning: \n",
      "A value is trying to be set on a copy of a slice from a DataFrame\n",
      "\n",
      "See the caveats in the documentation: http://pandas.pydata.org/pandas-docs/stable/indexing.html#indexing-view-versus-copy\n"
     ]
    },
    {
     "name": "stdout",
     "output_type": "stream",
     "text": [
      "Request 파일(/home/tangosvc/code/data/20191113/SON_TO_TEOS_RL_REQUEST_20191113_[746].dat)을 생성합니다.\n",
      "\n",
      "TEOS_TO_SON_RL_RESULT_20191113_[746].dat에 대한 get명령을 실행합니다.\n",
      "파일 TEOS_TO_SON_RL_RESULT_20191113_[746].dat이 없어 60초 대기후 다시 확인합니다(최대60회).\n",
      "파일 TEOS_TO_SON_RL_RESULT_20191113_[746].dat이 없어 60초 대기후 다시 확인합니다(최대60회).\n",
      "파일 TEOS_TO_SON_RL_RESULT_20191113_[746].dat이 없어 60초 대기후 다시 확인합니다(최대60회).\n",
      "파일 TEOS_TO_SON_RL_RESULT_20191113_[746].dat이 없어 60초 대기후 다시 확인합니다(최대60회).\n",
      "파일 TEOS_TO_SON_RL_RESULT_20191113_[746].dat이 없어 60초 대기후 다시 확인합니다(최대60회).\n",
      "파일 TEOS_TO_SON_RL_RESULT_20191113_[746].dat이 없어 60초 대기후 다시 확인합니다(최대60회).\n",
      "파일 TEOS_TO_SON_RL_RESULT_20191113_[746].dat이 없어 60초 대기후 다시 확인합니다(최대60회).\n",
      "파일 TEOS_TO_SON_RL_RESULT_20191113_[746].dat이 없어 60초 대기후 다시 확인합니다(최대60회).\n",
      "파일 TEOS_TO_SON_RL_RESULT_20191113_[746].dat이 없어 60초 대기후 다시 확인합니다(최대60회).\n",
      "파일 TEOS_TO_SON_RL_RESULT_20191113_[746].dat이 없어 60초 대기후 다시 확인합니다(최대60회).\n"
     ]
    },
    {
     "name": "stderr",
     "output_type": "stream",
     "text": [
      "/home/tangosvc/anaconda3/lib/python3.7/site-packages/pandas/core/reshape/merge.py:522: UserWarning: merging between different levels can give an unintended result (2 levels on the left, 1 on the right)\n",
      "  warnings.warn(msg, UserWarning)\n"
     ]
    },
    {
     "name": "stdout",
     "output_type": "stream",
     "text": [
      "| \u001b[0m 75      \u001b[0m | \u001b[0m 22.17   \u001b[0m | \u001b[0m 1.499   \u001b[0m | \u001b[0m 5.553   \u001b[0m | \u001b[0m 6.013   \u001b[0m | \u001b[0m 0.0     \u001b[0m | \u001b[0m 4.988   \u001b[0m | \u001b[0m 2.981   \u001b[0m | \u001b[0m 7.404   \u001b[0m | \u001b[0m 4.808   \u001b[0m | \u001b[0m 4.046   \u001b[0m | \u001b[0m 4.87    \u001b[0m | \u001b[0m 8.0     \u001b[0m | \u001b[0m 5.696   \u001b[0m | \u001b[0m 5.082   \u001b[0m | \u001b[0m 5.483   \u001b[0m | \u001b[0m 3.084   \u001b[0m | \u001b[0m 5.255   \u001b[0m |\n"
     ]
    },
    {
     "name": "stderr",
     "output_type": "stream",
     "text": [
      "/home/tangosvc/anaconda3/lib/python3.7/site-packages/ipykernel_launcher.py:229: SettingWithCopyWarning: \n",
      "A value is trying to be set on a copy of a slice from a DataFrame\n",
      "\n",
      "See the caveats in the documentation: http://pandas.pydata.org/pandas-docs/stable/indexing.html#indexing-view-versus-copy\n"
     ]
    },
    {
     "name": "stdout",
     "output_type": "stream",
     "text": [
      "Request 파일(/home/tangosvc/code/data/20191113/SON_TO_TEOS_RL_REQUEST_20191113_[747].dat)을 생성합니다.\n",
      "\n",
      "TEOS_TO_SON_RL_RESULT_20191113_[747].dat에 대한 get명령을 실행합니다.\n",
      "파일 TEOS_TO_SON_RL_RESULT_20191113_[747].dat이 없어 60초 대기후 다시 확인합니다(최대60회).\n",
      "파일 TEOS_TO_SON_RL_RESULT_20191113_[747].dat이 없어 60초 대기후 다시 확인합니다(최대60회).\n",
      "파일 TEOS_TO_SON_RL_RESULT_20191113_[747].dat이 없어 60초 대기후 다시 확인합니다(최대60회).\n",
      "파일 TEOS_TO_SON_RL_RESULT_20191113_[747].dat이 없어 60초 대기후 다시 확인합니다(최대60회).\n",
      "파일 TEOS_TO_SON_RL_RESULT_20191113_[747].dat이 없어 60초 대기후 다시 확인합니다(최대60회).\n",
      "파일 TEOS_TO_SON_RL_RESULT_20191113_[747].dat이 없어 60초 대기후 다시 확인합니다(최대60회).\n",
      "파일 TEOS_TO_SON_RL_RESULT_20191113_[747].dat이 없어 60초 대기후 다시 확인합니다(최대60회).\n",
      "파일 TEOS_TO_SON_RL_RESULT_20191113_[747].dat이 없어 60초 대기후 다시 확인합니다(최대60회).\n",
      "파일 TEOS_TO_SON_RL_RESULT_20191113_[747].dat이 없어 60초 대기후 다시 확인합니다(최대60회).\n",
      "파일 TEOS_TO_SON_RL_RESULT_20191113_[747].dat이 없어 60초 대기후 다시 확인합니다(최대60회).\n"
     ]
    },
    {
     "name": "stderr",
     "output_type": "stream",
     "text": [
      "/home/tangosvc/anaconda3/lib/python3.7/site-packages/pandas/core/reshape/merge.py:522: UserWarning: merging between different levels can give an unintended result (2 levels on the left, 1 on the right)\n",
      "  warnings.warn(msg, UserWarning)\n"
     ]
    },
    {
     "name": "stdout",
     "output_type": "stream",
     "text": [
      "| \u001b[95m 76      \u001b[0m | \u001b[95m 23.6    \u001b[0m | \u001b[95m 2.715   \u001b[0m | \u001b[95m 6.725   \u001b[0m | \u001b[95m 7.997   \u001b[0m | \u001b[95m 0.2186  \u001b[0m | \u001b[95m 5.53    \u001b[0m | \u001b[95m 4.796   \u001b[0m | \u001b[95m 5.258   \u001b[0m | \u001b[95m 3.987   \u001b[0m | \u001b[95m 4.439   \u001b[0m | \u001b[95m 5.504   \u001b[0m | \u001b[95m 6.452   \u001b[0m | \u001b[95m 7.323   \u001b[0m | \u001b[95m 6.95    \u001b[0m | \u001b[95m 2.709   \u001b[0m | \u001b[95m 2.856   \u001b[0m | \u001b[95m 6.272   \u001b[0m |\n"
     ]
    },
    {
     "name": "stderr",
     "output_type": "stream",
     "text": [
      "/home/tangosvc/anaconda3/lib/python3.7/site-packages/ipykernel_launcher.py:229: SettingWithCopyWarning: \n",
      "A value is trying to be set on a copy of a slice from a DataFrame\n",
      "\n",
      "See the caveats in the documentation: http://pandas.pydata.org/pandas-docs/stable/indexing.html#indexing-view-versus-copy\n"
     ]
    },
    {
     "name": "stdout",
     "output_type": "stream",
     "text": [
      "Request 파일(/home/tangosvc/code/data/20191113/SON_TO_TEOS_RL_REQUEST_20191113_[748].dat)을 생성합니다.\n",
      "\n",
      "TEOS_TO_SON_RL_RESULT_20191113_[748].dat에 대한 get명령을 실행합니다.\n",
      "파일 TEOS_TO_SON_RL_RESULT_20191113_[748].dat이 없어 60초 대기후 다시 확인합니다(최대60회).\n",
      "파일 TEOS_TO_SON_RL_RESULT_20191113_[748].dat이 없어 60초 대기후 다시 확인합니다(최대60회).\n",
      "파일 TEOS_TO_SON_RL_RESULT_20191113_[748].dat이 없어 60초 대기후 다시 확인합니다(최대60회).\n",
      "파일 TEOS_TO_SON_RL_RESULT_20191113_[748].dat이 없어 60초 대기후 다시 확인합니다(최대60회).\n",
      "파일 TEOS_TO_SON_RL_RESULT_20191113_[748].dat이 없어 60초 대기후 다시 확인합니다(최대60회).\n",
      "파일 TEOS_TO_SON_RL_RESULT_20191113_[748].dat이 없어 60초 대기후 다시 확인합니다(최대60회).\n",
      "파일 TEOS_TO_SON_RL_RESULT_20191113_[748].dat이 없어 60초 대기후 다시 확인합니다(최대60회).\n",
      "파일 TEOS_TO_SON_RL_RESULT_20191113_[748].dat이 없어 60초 대기후 다시 확인합니다(최대60회).\n",
      "파일 TEOS_TO_SON_RL_RESULT_20191113_[748].dat이 없어 60초 대기후 다시 확인합니다(최대60회).\n"
     ]
    },
    {
     "name": "stderr",
     "output_type": "stream",
     "text": [
      "/home/tangosvc/anaconda3/lib/python3.7/site-packages/pandas/core/reshape/merge.py:522: UserWarning: merging between different levels can give an unintended result (2 levels on the left, 1 on the right)\n",
      "  warnings.warn(msg, UserWarning)\n"
     ]
    },
    {
     "name": "stdout",
     "output_type": "stream",
     "text": [
      "| \u001b[0m 77      \u001b[0m | \u001b[0m 21.07   \u001b[0m | \u001b[0m 3.167   \u001b[0m | \u001b[0m 5.191   \u001b[0m | \u001b[0m 7.944   \u001b[0m | \u001b[0m 2.525   \u001b[0m | \u001b[0m 5.034   \u001b[0m | \u001b[0m 5.664   \u001b[0m | \u001b[0m 6.105   \u001b[0m | \u001b[0m 5.589   \u001b[0m | \u001b[0m 5.475   \u001b[0m | \u001b[0m 4.654   \u001b[0m | \u001b[0m 7.809   \u001b[0m | \u001b[0m 7.043   \u001b[0m | \u001b[0m 6.048   \u001b[0m | \u001b[0m 3.173   \u001b[0m | \u001b[0m 3.889   \u001b[0m | \u001b[0m 5.326   \u001b[0m |\n"
     ]
    },
    {
     "name": "stderr",
     "output_type": "stream",
     "text": [
      "/home/tangosvc/anaconda3/lib/python3.7/site-packages/ipykernel_launcher.py:229: SettingWithCopyWarning: \n",
      "A value is trying to be set on a copy of a slice from a DataFrame\n",
      "\n",
      "See the caveats in the documentation: http://pandas.pydata.org/pandas-docs/stable/indexing.html#indexing-view-versus-copy\n"
     ]
    },
    {
     "name": "stdout",
     "output_type": "stream",
     "text": [
      "Request 파일(/home/tangosvc/code/data/20191113/SON_TO_TEOS_RL_REQUEST_20191113_[749].dat)을 생성합니다.\n",
      "\n",
      "TEOS_TO_SON_RL_RESULT_20191113_[749].dat에 대한 get명령을 실행합니다.\n",
      "파일 TEOS_TO_SON_RL_RESULT_20191113_[749].dat이 없어 60초 대기후 다시 확인합니다(최대60회).\n",
      "파일 TEOS_TO_SON_RL_RESULT_20191113_[749].dat이 없어 60초 대기후 다시 확인합니다(최대60회).\n",
      "파일 TEOS_TO_SON_RL_RESULT_20191113_[749].dat이 없어 60초 대기후 다시 확인합니다(최대60회).\n",
      "파일 TEOS_TO_SON_RL_RESULT_20191113_[749].dat이 없어 60초 대기후 다시 확인합니다(최대60회).\n",
      "파일 TEOS_TO_SON_RL_RESULT_20191113_[749].dat이 없어 60초 대기후 다시 확인합니다(최대60회).\n",
      "파일 TEOS_TO_SON_RL_RESULT_20191113_[749].dat이 없어 60초 대기후 다시 확인합니다(최대60회).\n",
      "파일 TEOS_TO_SON_RL_RESULT_20191113_[749].dat이 없어 60초 대기후 다시 확인합니다(최대60회).\n",
      "파일 TEOS_TO_SON_RL_RESULT_20191113_[749].dat이 없어 60초 대기후 다시 확인합니다(최대60회).\n",
      "파일 TEOS_TO_SON_RL_RESULT_20191113_[749].dat이 없어 60초 대기후 다시 확인합니다(최대60회).\n",
      "파일 TEOS_TO_SON_RL_RESULT_20191113_[749].dat이 없어 60초 대기후 다시 확인합니다(최대60회).\n"
     ]
    },
    {
     "name": "stderr",
     "output_type": "stream",
     "text": [
      "/home/tangosvc/anaconda3/lib/python3.7/site-packages/pandas/core/reshape/merge.py:522: UserWarning: merging between different levels can give an unintended result (2 levels on the left, 1 on the right)\n",
      "  warnings.warn(msg, UserWarning)\n"
     ]
    },
    {
     "name": "stdout",
     "output_type": "stream",
     "text": [
      "| \u001b[0m 78      \u001b[0m | \u001b[0m 22.83   \u001b[0m | \u001b[0m 2.938   \u001b[0m | \u001b[0m 6.618   \u001b[0m | \u001b[0m 8.0     \u001b[0m | \u001b[0m 0.5132  \u001b[0m | \u001b[0m 5.7     \u001b[0m | \u001b[0m 5.012   \u001b[0m | \u001b[0m 5.359   \u001b[0m | \u001b[0m 4.022   \u001b[0m | \u001b[0m 4.536   \u001b[0m | \u001b[0m 5.273   \u001b[0m | \u001b[0m 6.719   \u001b[0m | \u001b[0m 7.331   \u001b[0m | \u001b[0m 6.963   \u001b[0m | \u001b[0m 2.692   \u001b[0m | \u001b[0m 3.009   \u001b[0m | \u001b[0m 6.12    \u001b[0m |\n"
     ]
    },
    {
     "name": "stderr",
     "output_type": "stream",
     "text": [
      "/home/tangosvc/anaconda3/lib/python3.7/site-packages/ipykernel_launcher.py:229: SettingWithCopyWarning: \n",
      "A value is trying to be set on a copy of a slice from a DataFrame\n",
      "\n",
      "See the caveats in the documentation: http://pandas.pydata.org/pandas-docs/stable/indexing.html#indexing-view-versus-copy\n"
     ]
    },
    {
     "name": "stdout",
     "output_type": "stream",
     "text": [
      "Request 파일(/home/tangosvc/code/data/20191113/SON_TO_TEOS_RL_REQUEST_20191113_[750].dat)을 생성합니다.\n",
      "\n",
      "TEOS_TO_SON_RL_RESULT_20191113_[750].dat에 대한 get명령을 실행합니다.\n",
      "파일 TEOS_TO_SON_RL_RESULT_20191113_[750].dat이 없어 60초 대기후 다시 확인합니다(최대60회).\n",
      "파일 TEOS_TO_SON_RL_RESULT_20191113_[750].dat이 없어 60초 대기후 다시 확인합니다(최대60회).\n",
      "파일 TEOS_TO_SON_RL_RESULT_20191113_[750].dat이 없어 60초 대기후 다시 확인합니다(최대60회).\n",
      "파일 TEOS_TO_SON_RL_RESULT_20191113_[750].dat이 없어 60초 대기후 다시 확인합니다(최대60회).\n",
      "파일 TEOS_TO_SON_RL_RESULT_20191113_[750].dat이 없어 60초 대기후 다시 확인합니다(최대60회).\n",
      "파일 TEOS_TO_SON_RL_RESULT_20191113_[750].dat이 없어 60초 대기후 다시 확인합니다(최대60회).\n",
      "파일 TEOS_TO_SON_RL_RESULT_20191113_[750].dat이 없어 60초 대기후 다시 확인합니다(최대60회).\n",
      "파일 TEOS_TO_SON_RL_RESULT_20191113_[750].dat이 없어 60초 대기후 다시 확인합니다(최대60회).\n",
      "파일 TEOS_TO_SON_RL_RESULT_20191113_[750].dat이 없어 60초 대기후 다시 확인합니다(최대60회).\n",
      "파일 TEOS_TO_SON_RL_RESULT_20191113_[750].dat이 없어 60초 대기후 다시 확인합니다(최대60회).\n"
     ]
    },
    {
     "name": "stderr",
     "output_type": "stream",
     "text": [
      "/home/tangosvc/anaconda3/lib/python3.7/site-packages/pandas/core/reshape/merge.py:522: UserWarning: merging between different levels can give an unintended result (2 levels on the left, 1 on the right)\n",
      "  warnings.warn(msg, UserWarning)\n"
     ]
    },
    {
     "name": "stdout",
     "output_type": "stream",
     "text": [
      "| \u001b[0m 79      \u001b[0m | \u001b[0m 23.17   \u001b[0m | \u001b[0m 2.546   \u001b[0m | \u001b[0m 6.725   \u001b[0m | \u001b[0m 8.0     \u001b[0m | \u001b[0m 0.2104  \u001b[0m | \u001b[0m 5.808   \u001b[0m | \u001b[0m 4.673   \u001b[0m | \u001b[0m 5.331   \u001b[0m | \u001b[0m 4.283   \u001b[0m | \u001b[0m 4.416   \u001b[0m | \u001b[0m 5.279   \u001b[0m | \u001b[0m 6.247   \u001b[0m | \u001b[0m 7.343   \u001b[0m | \u001b[0m 6.936   \u001b[0m | \u001b[0m 2.584   \u001b[0m | \u001b[0m 2.564   \u001b[0m | \u001b[0m 6.351   \u001b[0m |\n"
     ]
    },
    {
     "name": "stderr",
     "output_type": "stream",
     "text": [
      "/home/tangosvc/anaconda3/lib/python3.7/site-packages/ipykernel_launcher.py:229: SettingWithCopyWarning: \n",
      "A value is trying to be set on a copy of a slice from a DataFrame\n",
      "\n",
      "See the caveats in the documentation: http://pandas.pydata.org/pandas-docs/stable/indexing.html#indexing-view-versus-copy\n"
     ]
    },
    {
     "name": "stdout",
     "output_type": "stream",
     "text": [
      "Request 파일(/home/tangosvc/code/data/20191113/SON_TO_TEOS_RL_REQUEST_20191113_[751].dat)을 생성합니다.\n",
      "\n",
      "TEOS_TO_SON_RL_RESULT_20191113_[751].dat에 대한 get명령을 실행합니다.\n",
      "파일 TEOS_TO_SON_RL_RESULT_20191113_[751].dat이 없어 60초 대기후 다시 확인합니다(최대60회).\n",
      "파일 TEOS_TO_SON_RL_RESULT_20191113_[751].dat이 없어 60초 대기후 다시 확인합니다(최대60회).\n",
      "파일 TEOS_TO_SON_RL_RESULT_20191113_[751].dat이 없어 60초 대기후 다시 확인합니다(최대60회).\n",
      "파일 TEOS_TO_SON_RL_RESULT_20191113_[751].dat이 없어 60초 대기후 다시 확인합니다(최대60회).\n",
      "파일 TEOS_TO_SON_RL_RESULT_20191113_[751].dat이 없어 60초 대기후 다시 확인합니다(최대60회).\n",
      "파일 TEOS_TO_SON_RL_RESULT_20191113_[751].dat이 없어 60초 대기후 다시 확인합니다(최대60회).\n",
      "파일 TEOS_TO_SON_RL_RESULT_20191113_[751].dat이 없어 60초 대기후 다시 확인합니다(최대60회).\n",
      "파일 TEOS_TO_SON_RL_RESULT_20191113_[751].dat이 없어 60초 대기후 다시 확인합니다(최대60회).\n",
      "파일 TEOS_TO_SON_RL_RESULT_20191113_[751].dat이 없어 60초 대기후 다시 확인합니다(최대60회).\n",
      "파일 TEOS_TO_SON_RL_RESULT_20191113_[751].dat이 없어 60초 대기후 다시 확인합니다(최대60회).\n"
     ]
    },
    {
     "name": "stderr",
     "output_type": "stream",
     "text": [
      "/home/tangosvc/anaconda3/lib/python3.7/site-packages/pandas/core/reshape/merge.py:522: UserWarning: merging between different levels can give an unintended result (2 levels on the left, 1 on the right)\n",
      "  warnings.warn(msg, UserWarning)\n"
     ]
    },
    {
     "name": "stdout",
     "output_type": "stream",
     "text": [
      "| \u001b[95m 80      \u001b[0m | \u001b[95m 24.39   \u001b[0m | \u001b[95m 2.782   \u001b[0m | \u001b[95m 6.718   \u001b[0m | \u001b[95m 8.0     \u001b[0m | \u001b[95m 0.2308  \u001b[0m | \u001b[95m 5.497   \u001b[0m | \u001b[95m 4.823   \u001b[0m | \u001b[95m 5.227   \u001b[0m | \u001b[95m 3.96    \u001b[0m | \u001b[95m 4.199   \u001b[0m | \u001b[95m 5.25    \u001b[0m | \u001b[95m 6.038   \u001b[0m | \u001b[95m 7.249   \u001b[0m | \u001b[95m 6.834   \u001b[0m | \u001b[95m 2.805   \u001b[0m | \u001b[95m 3.054   \u001b[0m | \u001b[95m 6.523   \u001b[0m |\n"
     ]
    },
    {
     "name": "stderr",
     "output_type": "stream",
     "text": [
      "/home/tangosvc/anaconda3/lib/python3.7/site-packages/ipykernel_launcher.py:229: SettingWithCopyWarning: \n",
      "A value is trying to be set on a copy of a slice from a DataFrame\n",
      "\n",
      "See the caveats in the documentation: http://pandas.pydata.org/pandas-docs/stable/indexing.html#indexing-view-versus-copy\n"
     ]
    },
    {
     "name": "stdout",
     "output_type": "stream",
     "text": [
      "Request 파일(/home/tangosvc/code/data/20191113/SON_TO_TEOS_RL_REQUEST_20191113_[752].dat)을 생성합니다.\n",
      "\n",
      "TEOS_TO_SON_RL_RESULT_20191113_[752].dat에 대한 get명령을 실행합니다.\n",
      "파일 TEOS_TO_SON_RL_RESULT_20191113_[752].dat이 없어 60초 대기후 다시 확인합니다(최대60회).\n",
      "파일 TEOS_TO_SON_RL_RESULT_20191113_[752].dat이 없어 60초 대기후 다시 확인합니다(최대60회).\n",
      "파일 TEOS_TO_SON_RL_RESULT_20191113_[752].dat이 없어 60초 대기후 다시 확인합니다(최대60회).\n",
      "파일 TEOS_TO_SON_RL_RESULT_20191113_[752].dat이 없어 60초 대기후 다시 확인합니다(최대60회).\n",
      "파일 TEOS_TO_SON_RL_RESULT_20191113_[752].dat이 없어 60초 대기후 다시 확인합니다(최대60회).\n",
      "파일 TEOS_TO_SON_RL_RESULT_20191113_[752].dat이 없어 60초 대기후 다시 확인합니다(최대60회).\n",
      "파일 TEOS_TO_SON_RL_RESULT_20191113_[752].dat이 없어 60초 대기후 다시 확인합니다(최대60회).\n",
      "파일 TEOS_TO_SON_RL_RESULT_20191113_[752].dat이 없어 60초 대기후 다시 확인합니다(최대60회).\n",
      "파일 TEOS_TO_SON_RL_RESULT_20191113_[752].dat이 없어 60초 대기후 다시 확인합니다(최대60회).\n",
      "파일 TEOS_TO_SON_RL_RESULT_20191113_[752].dat이 없어 60초 대기후 다시 확인합니다(최대60회).\n"
     ]
    },
    {
     "name": "stderr",
     "output_type": "stream",
     "text": [
      "/home/tangosvc/anaconda3/lib/python3.7/site-packages/pandas/core/reshape/merge.py:522: UserWarning: merging between different levels can give an unintended result (2 levels on the left, 1 on the right)\n",
      "  warnings.warn(msg, UserWarning)\n"
     ]
    },
    {
     "name": "stdout",
     "output_type": "stream",
     "text": [
      "| \u001b[95m 81      \u001b[0m | \u001b[95m 24.39   \u001b[0m | \u001b[95m 2.783   \u001b[0m | \u001b[95m 6.831   \u001b[0m | \u001b[95m 8.0     \u001b[0m | \u001b[95m 0.2412  \u001b[0m | \u001b[95m 5.45    \u001b[0m | \u001b[95m 4.635   \u001b[0m | \u001b[95m 4.82    \u001b[0m | \u001b[95m 4.019   \u001b[0m | \u001b[95m 4.283   \u001b[0m | \u001b[95m 5.082   \u001b[0m | \u001b[95m 6.116   \u001b[0m | \u001b[95m 7.276   \u001b[0m | \u001b[95m 6.909   \u001b[0m | \u001b[95m 2.94    \u001b[0m | \u001b[95m 3.096   \u001b[0m | \u001b[95m 6.52    \u001b[0m |\n"
     ]
    },
    {
     "name": "stderr",
     "output_type": "stream",
     "text": [
      "/home/tangosvc/anaconda3/lib/python3.7/site-packages/ipykernel_launcher.py:229: SettingWithCopyWarning: \n",
      "A value is trying to be set on a copy of a slice from a DataFrame\n",
      "\n",
      "See the caveats in the documentation: http://pandas.pydata.org/pandas-docs/stable/indexing.html#indexing-view-versus-copy\n"
     ]
    },
    {
     "name": "stdout",
     "output_type": "stream",
     "text": [
      "Request 파일(/home/tangosvc/code/data/20191113/SON_TO_TEOS_RL_REQUEST_20191113_[753].dat)을 생성합니다.\n",
      "\n",
      "TEOS_TO_SON_RL_RESULT_20191113_[753].dat에 대한 get명령을 실행합니다.\n",
      "파일 TEOS_TO_SON_RL_RESULT_20191113_[753].dat이 없어 60초 대기후 다시 확인합니다(최대60회).\n",
      "파일 TEOS_TO_SON_RL_RESULT_20191113_[753].dat이 없어 60초 대기후 다시 확인합니다(최대60회).\n",
      "파일 TEOS_TO_SON_RL_RESULT_20191113_[753].dat이 없어 60초 대기후 다시 확인합니다(최대60회).\n",
      "파일 TEOS_TO_SON_RL_RESULT_20191113_[753].dat이 없어 60초 대기후 다시 확인합니다(최대60회).\n",
      "파일 TEOS_TO_SON_RL_RESULT_20191113_[753].dat이 없어 60초 대기후 다시 확인합니다(최대60회).\n",
      "파일 TEOS_TO_SON_RL_RESULT_20191113_[753].dat이 없어 60초 대기후 다시 확인합니다(최대60회).\n",
      "파일 TEOS_TO_SON_RL_RESULT_20191113_[753].dat이 없어 60초 대기후 다시 확인합니다(최대60회).\n",
      "파일 TEOS_TO_SON_RL_RESULT_20191113_[753].dat이 없어 60초 대기후 다시 확인합니다(최대60회).\n",
      "파일 TEOS_TO_SON_RL_RESULT_20191113_[753].dat이 없어 60초 대기후 다시 확인합니다(최대60회).\n",
      "파일 TEOS_TO_SON_RL_RESULT_20191113_[753].dat이 없어 60초 대기후 다시 확인합니다(최대60회).\n"
     ]
    },
    {
     "name": "stderr",
     "output_type": "stream",
     "text": [
      "/home/tangosvc/anaconda3/lib/python3.7/site-packages/pandas/core/reshape/merge.py:522: UserWarning: merging between different levels can give an unintended result (2 levels on the left, 1 on the right)\n",
      "  warnings.warn(msg, UserWarning)\n"
     ]
    },
    {
     "name": "stdout",
     "output_type": "stream",
     "text": [
      "| \u001b[0m 82      \u001b[0m | \u001b[0m 22.99   \u001b[0m | \u001b[0m 2.986   \u001b[0m | \u001b[0m 6.876   \u001b[0m | \u001b[0m 8.0     \u001b[0m | \u001b[0m 0.2891  \u001b[0m | \u001b[0m 5.43    \u001b[0m | \u001b[0m 4.8     \u001b[0m | \u001b[0m 4.924   \u001b[0m | \u001b[0m 4.016   \u001b[0m | \u001b[0m 4.015   \u001b[0m | \u001b[0m 5.278   \u001b[0m | \u001b[0m 6.064   \u001b[0m | \u001b[0m 7.479   \u001b[0m | \u001b[0m 6.654   \u001b[0m | \u001b[0m 2.986   \u001b[0m | \u001b[0m 2.858   \u001b[0m | \u001b[0m 6.491   \u001b[0m |\n"
     ]
    },
    {
     "name": "stderr",
     "output_type": "stream",
     "text": [
      "/home/tangosvc/anaconda3/lib/python3.7/site-packages/ipykernel_launcher.py:229: SettingWithCopyWarning: \n",
      "A value is trying to be set on a copy of a slice from a DataFrame\n",
      "\n",
      "See the caveats in the documentation: http://pandas.pydata.org/pandas-docs/stable/indexing.html#indexing-view-versus-copy\n"
     ]
    },
    {
     "name": "stdout",
     "output_type": "stream",
     "text": [
      "Request 파일(/home/tangosvc/code/data/20191113/SON_TO_TEOS_RL_REQUEST_20191113_[754].dat)을 생성합니다.\n",
      "\n",
      "TEOS_TO_SON_RL_RESULT_20191113_[754].dat에 대한 get명령을 실행합니다.\n",
      "파일 TEOS_TO_SON_RL_RESULT_20191113_[754].dat이 없어 60초 대기후 다시 확인합니다(최대60회).\n",
      "파일 TEOS_TO_SON_RL_RESULT_20191113_[754].dat이 없어 60초 대기후 다시 확인합니다(최대60회).\n",
      "파일 TEOS_TO_SON_RL_RESULT_20191113_[754].dat이 없어 60초 대기후 다시 확인합니다(최대60회).\n",
      "파일 TEOS_TO_SON_RL_RESULT_20191113_[754].dat이 없어 60초 대기후 다시 확인합니다(최대60회).\n",
      "파일 TEOS_TO_SON_RL_RESULT_20191113_[754].dat이 없어 60초 대기후 다시 확인합니다(최대60회).\n",
      "파일 TEOS_TO_SON_RL_RESULT_20191113_[754].dat이 없어 60초 대기후 다시 확인합니다(최대60회).\n",
      "파일 TEOS_TO_SON_RL_RESULT_20191113_[754].dat이 없어 60초 대기후 다시 확인합니다(최대60회).\n",
      "파일 TEOS_TO_SON_RL_RESULT_20191113_[754].dat이 없어 60초 대기후 다시 확인합니다(최대60회).\n",
      "파일 TEOS_TO_SON_RL_RESULT_20191113_[754].dat이 없어 60초 대기후 다시 확인합니다(최대60회).\n",
      "파일 TEOS_TO_SON_RL_RESULT_20191113_[754].dat이 없어 60초 대기후 다시 확인합니다(최대60회).\n"
     ]
    },
    {
     "name": "stderr",
     "output_type": "stream",
     "text": [
      "/home/tangosvc/anaconda3/lib/python3.7/site-packages/pandas/core/reshape/merge.py:522: UserWarning: merging between different levels can give an unintended result (2 levels on the left, 1 on the right)\n",
      "  warnings.warn(msg, UserWarning)\n"
     ]
    },
    {
     "name": "stdout",
     "output_type": "stream",
     "text": [
      "| \u001b[95m 83      \u001b[0m | \u001b[95m 24.39   \u001b[0m | \u001b[95m 2.555   \u001b[0m | \u001b[95m 6.678   \u001b[0m | \u001b[95m 8.0     \u001b[0m | \u001b[95m 0.1514  \u001b[0m | \u001b[95m 5.485   \u001b[0m | \u001b[95m 4.661   \u001b[0m | \u001b[95m 5.1     \u001b[0m | \u001b[95m 3.917   \u001b[0m | \u001b[95m 4.481   \u001b[0m | \u001b[95m 5.081   \u001b[0m | \u001b[95m 6.04    \u001b[0m | \u001b[95m 7.031   \u001b[0m | \u001b[95m 7.138   \u001b[0m | \u001b[95m 2.717   \u001b[0m | \u001b[95m 3.338   \u001b[0m | \u001b[95m 6.593   \u001b[0m |\n"
     ]
    },
    {
     "name": "stderr",
     "output_type": "stream",
     "text": [
      "/home/tangosvc/anaconda3/lib/python3.7/site-packages/ipykernel_launcher.py:229: SettingWithCopyWarning: \n",
      "A value is trying to be set on a copy of a slice from a DataFrame\n",
      "\n",
      "See the caveats in the documentation: http://pandas.pydata.org/pandas-docs/stable/indexing.html#indexing-view-versus-copy\n"
     ]
    },
    {
     "name": "stdout",
     "output_type": "stream",
     "text": [
      "Request 파일(/home/tangosvc/code/data/20191113/SON_TO_TEOS_RL_REQUEST_20191113_[755].dat)을 생성합니다.\n",
      "\n",
      "TEOS_TO_SON_RL_RESULT_20191113_[755].dat에 대한 get명령을 실행합니다.\n",
      "파일 TEOS_TO_SON_RL_RESULT_20191113_[755].dat이 없어 60초 대기후 다시 확인합니다(최대60회).\n",
      "파일 TEOS_TO_SON_RL_RESULT_20191113_[755].dat이 없어 60초 대기후 다시 확인합니다(최대60회).\n",
      "파일 TEOS_TO_SON_RL_RESULT_20191113_[755].dat이 없어 60초 대기후 다시 확인합니다(최대60회).\n",
      "파일 TEOS_TO_SON_RL_RESULT_20191113_[755].dat이 없어 60초 대기후 다시 확인합니다(최대60회).\n",
      "파일 TEOS_TO_SON_RL_RESULT_20191113_[755].dat이 없어 60초 대기후 다시 확인합니다(최대60회).\n",
      "파일 TEOS_TO_SON_RL_RESULT_20191113_[755].dat이 없어 60초 대기후 다시 확인합니다(최대60회).\n",
      "파일 TEOS_TO_SON_RL_RESULT_20191113_[755].dat이 없어 60초 대기후 다시 확인합니다(최대60회).\n",
      "파일 TEOS_TO_SON_RL_RESULT_20191113_[755].dat이 없어 60초 대기후 다시 확인합니다(최대60회).\n",
      "파일 TEOS_TO_SON_RL_RESULT_20191113_[755].dat이 없어 60초 대기후 다시 확인합니다(최대60회).\n",
      "파일 TEOS_TO_SON_RL_RESULT_20191113_[755].dat이 없어 60초 대기후 다시 확인합니다(최대60회).\n"
     ]
    },
    {
     "name": "stderr",
     "output_type": "stream",
     "text": [
      "/home/tangosvc/anaconda3/lib/python3.7/site-packages/pandas/core/reshape/merge.py:522: UserWarning: merging between different levels can give an unintended result (2 levels on the left, 1 on the right)\n",
      "  warnings.warn(msg, UserWarning)\n"
     ]
    },
    {
     "name": "stdout",
     "output_type": "stream",
     "text": [
      "| \u001b[95m 84      \u001b[0m | \u001b[95m 24.46   \u001b[0m | \u001b[95m 2.476   \u001b[0m | \u001b[95m 6.539   \u001b[0m | \u001b[95m 8.0     \u001b[0m | \u001b[95m 0.1219  \u001b[0m | \u001b[95m 5.542   \u001b[0m | \u001b[95m 4.945   \u001b[0m | \u001b[95m 4.932   \u001b[0m | \u001b[95m 3.912   \u001b[0m | \u001b[95m 4.302   \u001b[0m | \u001b[95m 5.019   \u001b[0m | \u001b[95m 6.168   \u001b[0m | \u001b[95m 7.076   \u001b[0m | \u001b[95m 6.913   \u001b[0m | \u001b[95m 2.914   \u001b[0m | \u001b[95m 3.091   \u001b[0m | \u001b[95m 6.52    \u001b[0m |\n"
     ]
    },
    {
     "name": "stderr",
     "output_type": "stream",
     "text": [
      "/home/tangosvc/anaconda3/lib/python3.7/site-packages/ipykernel_launcher.py:229: SettingWithCopyWarning: \n",
      "A value is trying to be set on a copy of a slice from a DataFrame\n",
      "\n",
      "See the caveats in the documentation: http://pandas.pydata.org/pandas-docs/stable/indexing.html#indexing-view-versus-copy\n"
     ]
    },
    {
     "name": "stdout",
     "output_type": "stream",
     "text": [
      "Request 파일(/home/tangosvc/code/data/20191113/SON_TO_TEOS_RL_REQUEST_20191113_[756].dat)을 생성합니다.\n",
      "\n",
      "TEOS_TO_SON_RL_RESULT_20191113_[756].dat에 대한 get명령을 실행합니다.\n",
      "파일 TEOS_TO_SON_RL_RESULT_20191113_[756].dat이 없어 60초 대기후 다시 확인합니다(최대60회).\n",
      "파일 TEOS_TO_SON_RL_RESULT_20191113_[756].dat이 없어 60초 대기후 다시 확인합니다(최대60회).\n",
      "파일 TEOS_TO_SON_RL_RESULT_20191113_[756].dat이 없어 60초 대기후 다시 확인합니다(최대60회).\n",
      "파일 TEOS_TO_SON_RL_RESULT_20191113_[756].dat이 없어 60초 대기후 다시 확인합니다(최대60회).\n",
      "파일 TEOS_TO_SON_RL_RESULT_20191113_[756].dat이 없어 60초 대기후 다시 확인합니다(최대60회).\n",
      "파일 TEOS_TO_SON_RL_RESULT_20191113_[756].dat이 없어 60초 대기후 다시 확인합니다(최대60회).\n",
      "파일 TEOS_TO_SON_RL_RESULT_20191113_[756].dat이 없어 60초 대기후 다시 확인합니다(최대60회).\n",
      "파일 TEOS_TO_SON_RL_RESULT_20191113_[756].dat이 없어 60초 대기후 다시 확인합니다(최대60회).\n",
      "파일 TEOS_TO_SON_RL_RESULT_20191113_[756].dat이 없어 60초 대기후 다시 확인합니다(최대60회).\n",
      "파일 TEOS_TO_SON_RL_RESULT_20191113_[756].dat이 없어 60초 대기후 다시 확인합니다(최대60회).\n"
     ]
    },
    {
     "name": "stderr",
     "output_type": "stream",
     "text": [
      "/home/tangosvc/anaconda3/lib/python3.7/site-packages/pandas/core/reshape/merge.py:522: UserWarning: merging between different levels can give an unintended result (2 levels on the left, 1 on the right)\n",
      "  warnings.warn(msg, UserWarning)\n"
     ]
    },
    {
     "name": "stdout",
     "output_type": "stream",
     "text": [
      "| \u001b[0m 85      \u001b[0m | \u001b[0m 23.17   \u001b[0m | \u001b[0m 2.55    \u001b[0m | \u001b[0m 6.673   \u001b[0m | \u001b[0m 8.0     \u001b[0m | \u001b[0m 0.351   \u001b[0m | \u001b[0m 5.632   \u001b[0m | \u001b[0m 4.694   \u001b[0m | \u001b[0m 4.983   \u001b[0m | \u001b[0m 3.951   \u001b[0m | \u001b[0m 4.217   \u001b[0m | \u001b[0m 5.203   \u001b[0m | \u001b[0m 5.938   \u001b[0m | \u001b[0m 7.049   \u001b[0m | \u001b[0m 7.033   \u001b[0m | \u001b[0m 2.9     \u001b[0m | \u001b[0m 3.239   \u001b[0m | \u001b[0m 6.222   \u001b[0m |\n"
     ]
    },
    {
     "name": "stderr",
     "output_type": "stream",
     "text": [
      "/home/tangosvc/anaconda3/lib/python3.7/site-packages/ipykernel_launcher.py:229: SettingWithCopyWarning: \n",
      "A value is trying to be set on a copy of a slice from a DataFrame\n",
      "\n",
      "See the caveats in the documentation: http://pandas.pydata.org/pandas-docs/stable/indexing.html#indexing-view-versus-copy\n"
     ]
    },
    {
     "name": "stdout",
     "output_type": "stream",
     "text": [
      "Request 파일(/home/tangosvc/code/data/20191113/SON_TO_TEOS_RL_REQUEST_20191113_[757].dat)을 생성합니다.\n",
      "\n",
      "TEOS_TO_SON_RL_RESULT_20191113_[757].dat에 대한 get명령을 실행합니다.\n",
      "파일 TEOS_TO_SON_RL_RESULT_20191113_[757].dat이 없어 60초 대기후 다시 확인합니다(최대60회).\n",
      "파일 TEOS_TO_SON_RL_RESULT_20191113_[757].dat이 없어 60초 대기후 다시 확인합니다(최대60회).\n",
      "파일 TEOS_TO_SON_RL_RESULT_20191113_[757].dat이 없어 60초 대기후 다시 확인합니다(최대60회).\n",
      "파일 TEOS_TO_SON_RL_RESULT_20191113_[757].dat이 없어 60초 대기후 다시 확인합니다(최대60회).\n",
      "파일 TEOS_TO_SON_RL_RESULT_20191113_[757].dat이 없어 60초 대기후 다시 확인합니다(최대60회).\n",
      "파일 TEOS_TO_SON_RL_RESULT_20191113_[757].dat이 없어 60초 대기후 다시 확인합니다(최대60회).\n",
      "파일 TEOS_TO_SON_RL_RESULT_20191113_[757].dat이 없어 60초 대기후 다시 확인합니다(최대60회).\n",
      "파일 TEOS_TO_SON_RL_RESULT_20191113_[757].dat이 없어 60초 대기후 다시 확인합니다(최대60회).\n",
      "파일 TEOS_TO_SON_RL_RESULT_20191113_[757].dat이 없어 60초 대기후 다시 확인합니다(최대60회).\n"
     ]
    },
    {
     "name": "stderr",
     "output_type": "stream",
     "text": [
      "/home/tangosvc/anaconda3/lib/python3.7/site-packages/pandas/core/reshape/merge.py:522: UserWarning: merging between different levels can give an unintended result (2 levels on the left, 1 on the right)\n",
      "  warnings.warn(msg, UserWarning)\n"
     ]
    },
    {
     "name": "stdout",
     "output_type": "stream",
     "text": [
      "| \u001b[0m 86      \u001b[0m | \u001b[0m 24.39   \u001b[0m | \u001b[0m 2.745   \u001b[0m | \u001b[0m 6.68    \u001b[0m | \u001b[0m 8.0     \u001b[0m | \u001b[0m 0.0     \u001b[0m | \u001b[0m 5.354   \u001b[0m | \u001b[0m 4.769   \u001b[0m | \u001b[0m 5.147   \u001b[0m | \u001b[0m 3.99    \u001b[0m | \u001b[0m 4.485   \u001b[0m | \u001b[0m 4.922   \u001b[0m | \u001b[0m 6.334   \u001b[0m | \u001b[0m 7.232   \u001b[0m | \u001b[0m 6.869   \u001b[0m | \u001b[0m 2.775   \u001b[0m | \u001b[0m 3.093   \u001b[0m | \u001b[0m 6.902   \u001b[0m |\n"
     ]
    },
    {
     "name": "stderr",
     "output_type": "stream",
     "text": [
      "/home/tangosvc/anaconda3/lib/python3.7/site-packages/ipykernel_launcher.py:229: SettingWithCopyWarning: \n",
      "A value is trying to be set on a copy of a slice from a DataFrame\n",
      "\n",
      "See the caveats in the documentation: http://pandas.pydata.org/pandas-docs/stable/indexing.html#indexing-view-versus-copy\n"
     ]
    },
    {
     "name": "stdout",
     "output_type": "stream",
     "text": [
      "Request 파일(/home/tangosvc/code/data/20191113/SON_TO_TEOS_RL_REQUEST_20191113_[758].dat)을 생성합니다.\n",
      "\n",
      "TEOS_TO_SON_RL_RESULT_20191113_[758].dat에 대한 get명령을 실행합니다.\n",
      "파일 TEOS_TO_SON_RL_RESULT_20191113_[758].dat이 없어 60초 대기후 다시 확인합니다(최대60회).\n",
      "파일 TEOS_TO_SON_RL_RESULT_20191113_[758].dat이 없어 60초 대기후 다시 확인합니다(최대60회).\n",
      "파일 TEOS_TO_SON_RL_RESULT_20191113_[758].dat이 없어 60초 대기후 다시 확인합니다(최대60회).\n",
      "파일 TEOS_TO_SON_RL_RESULT_20191113_[758].dat이 없어 60초 대기후 다시 확인합니다(최대60회).\n",
      "파일 TEOS_TO_SON_RL_RESULT_20191113_[758].dat이 없어 60초 대기후 다시 확인합니다(최대60회).\n",
      "파일 TEOS_TO_SON_RL_RESULT_20191113_[758].dat이 없어 60초 대기후 다시 확인합니다(최대60회).\n",
      "파일 TEOS_TO_SON_RL_RESULT_20191113_[758].dat이 없어 60초 대기후 다시 확인합니다(최대60회).\n",
      "파일 TEOS_TO_SON_RL_RESULT_20191113_[758].dat이 없어 60초 대기후 다시 확인합니다(최대60회).\n",
      "파일 TEOS_TO_SON_RL_RESULT_20191113_[758].dat이 없어 60초 대기후 다시 확인합니다(최대60회).\n",
      "파일 TEOS_TO_SON_RL_RESULT_20191113_[758].dat이 없어 60초 대기후 다시 확인합니다(최대60회).\n"
     ]
    },
    {
     "name": "stderr",
     "output_type": "stream",
     "text": [
      "/home/tangosvc/anaconda3/lib/python3.7/site-packages/pandas/core/reshape/merge.py:522: UserWarning: merging between different levels can give an unintended result (2 levels on the left, 1 on the right)\n",
      "  warnings.warn(msg, UserWarning)\n"
     ]
    },
    {
     "name": "stdout",
     "output_type": "stream",
     "text": [
      "| \u001b[0m 87      \u001b[0m | \u001b[0m 24.39   \u001b[0m | \u001b[0m 2.691   \u001b[0m | \u001b[0m 6.689   \u001b[0m | \u001b[0m 7.693   \u001b[0m | \u001b[0m 0.09036 \u001b[0m | \u001b[0m 5.424   \u001b[0m | \u001b[0m 4.908   \u001b[0m | \u001b[0m 4.925   \u001b[0m | \u001b[0m 3.949   \u001b[0m | \u001b[0m 4.427   \u001b[0m | \u001b[0m 5.113   \u001b[0m | \u001b[0m 6.094   \u001b[0m | \u001b[0m 7.271   \u001b[0m | \u001b[0m 7.026   \u001b[0m | \u001b[0m 2.633   \u001b[0m | \u001b[0m 3.101   \u001b[0m | \u001b[0m 6.709   \u001b[0m |\n"
     ]
    },
    {
     "name": "stderr",
     "output_type": "stream",
     "text": [
      "/home/tangosvc/anaconda3/lib/python3.7/site-packages/ipykernel_launcher.py:229: SettingWithCopyWarning: \n",
      "A value is trying to be set on a copy of a slice from a DataFrame\n",
      "\n",
      "See the caveats in the documentation: http://pandas.pydata.org/pandas-docs/stable/indexing.html#indexing-view-versus-copy\n"
     ]
    },
    {
     "name": "stdout",
     "output_type": "stream",
     "text": [
      "Request 파일(/home/tangosvc/code/data/20191113/SON_TO_TEOS_RL_REQUEST_20191113_[759].dat)을 생성합니다.\n",
      "\n",
      "TEOS_TO_SON_RL_RESULT_20191113_[759].dat에 대한 get명령을 실행합니다.\n",
      "파일 TEOS_TO_SON_RL_RESULT_20191113_[759].dat이 없어 60초 대기후 다시 확인합니다(최대60회).\n",
      "파일 TEOS_TO_SON_RL_RESULT_20191113_[759].dat이 없어 60초 대기후 다시 확인합니다(최대60회).\n",
      "파일 TEOS_TO_SON_RL_RESULT_20191113_[759].dat이 없어 60초 대기후 다시 확인합니다(최대60회).\n",
      "파일 TEOS_TO_SON_RL_RESULT_20191113_[759].dat이 없어 60초 대기후 다시 확인합니다(최대60회).\n",
      "파일 TEOS_TO_SON_RL_RESULT_20191113_[759].dat이 없어 60초 대기후 다시 확인합니다(최대60회).\n",
      "파일 TEOS_TO_SON_RL_RESULT_20191113_[759].dat이 없어 60초 대기후 다시 확인합니다(최대60회).\n",
      "파일 TEOS_TO_SON_RL_RESULT_20191113_[759].dat이 없어 60초 대기후 다시 확인합니다(최대60회).\n",
      "파일 TEOS_TO_SON_RL_RESULT_20191113_[759].dat이 없어 60초 대기후 다시 확인합니다(최대60회).\n",
      "파일 TEOS_TO_SON_RL_RESULT_20191113_[759].dat이 없어 60초 대기후 다시 확인합니다(최대60회).\n",
      "파일 TEOS_TO_SON_RL_RESULT_20191113_[759].dat이 없어 60초 대기후 다시 확인합니다(최대60회).\n",
      "파일 TEOS_TO_SON_RL_RESULT_20191113_[759].dat이 없어 60초 대기후 다시 확인합니다(최대60회).\n",
      "파일 TEOS_TO_SON_RL_RESULT_20191113_[759].dat이 없어 60초 대기후 다시 확인합니다(최대60회).\n",
      "파일 TEOS_TO_SON_RL_RESULT_20191113_[759].dat이 없어 60초 대기후 다시 확인합니다(최대60회).\n",
      "파일 TEOS_TO_SON_RL_RESULT_20191113_[759].dat이 없어 60초 대기후 다시 확인합니다(최대60회).\n",
      "파일 TEOS_TO_SON_RL_RESULT_20191113_[759].dat이 없어 60초 대기후 다시 확인합니다(최대60회).\n",
      "파일 TEOS_TO_SON_RL_RESULT_20191113_[759].dat이 없어 60초 대기후 다시 확인합니다(최대60회).\n",
      "파일 TEOS_TO_SON_RL_RESULT_20191113_[759].dat이 없어 60초 대기후 다시 확인합니다(최대60회).\n",
      "파일 TEOS_TO_SON_RL_RESULT_20191113_[759].dat이 없어 60초 대기후 다시 확인합니다(최대60회).\n",
      "파일 TEOS_TO_SON_RL_RESULT_20191113_[759].dat이 없어 60초 대기후 다시 확인합니다(최대60회).\n",
      "파일 TEOS_TO_SON_RL_RESULT_20191113_[759].dat이 없어 60초 대기후 다시 확인합니다(최대60회).\n"
     ]
    },
    {
     "name": "stderr",
     "output_type": "stream",
     "text": [
      "/home/tangosvc/anaconda3/lib/python3.7/site-packages/pandas/core/reshape/merge.py:522: UserWarning: merging between different levels can give an unintended result (2 levels on the left, 1 on the right)\n",
      "  warnings.warn(msg, UserWarning)\n"
     ]
    },
    {
     "name": "stdout",
     "output_type": "stream",
     "text": [
      "| \u001b[0m 88      \u001b[0m | \u001b[0m 24.46   \u001b[0m | \u001b[0m 2.491   \u001b[0m | \u001b[0m 6.806   \u001b[0m | \u001b[0m 8.0     \u001b[0m | \u001b[0m 0.3334  \u001b[0m | \u001b[0m 5.508   \u001b[0m | \u001b[0m 4.765   \u001b[0m | \u001b[0m 5.059   \u001b[0m | \u001b[0m 3.802   \u001b[0m | \u001b[0m 4.429   \u001b[0m | \u001b[0m 5.159   \u001b[0m | \u001b[0m 6.208   \u001b[0m | \u001b[0m 7.22    \u001b[0m | \u001b[0m 6.934   \u001b[0m | \u001b[0m 2.873   \u001b[0m | \u001b[0m 3.084   \u001b[0m | \u001b[0m 6.888   \u001b[0m |\n"
     ]
    },
    {
     "name": "stderr",
     "output_type": "stream",
     "text": [
      "/home/tangosvc/anaconda3/lib/python3.7/site-packages/ipykernel_launcher.py:229: SettingWithCopyWarning: \n",
      "A value is trying to be set on a copy of a slice from a DataFrame\n",
      "\n",
      "See the caveats in the documentation: http://pandas.pydata.org/pandas-docs/stable/indexing.html#indexing-view-versus-copy\n"
     ]
    },
    {
     "name": "stdout",
     "output_type": "stream",
     "text": [
      "Request 파일(/home/tangosvc/code/data/20191113/SON_TO_TEOS_RL_REQUEST_20191113_[760].dat)을 생성합니다.\n",
      "\n",
      "TEOS_TO_SON_RL_RESULT_20191113_[760].dat에 대한 get명령을 실행합니다.\n",
      "파일 TEOS_TO_SON_RL_RESULT_20191113_[760].dat이 없어 60초 대기후 다시 확인합니다(최대60회).\n",
      "파일 TEOS_TO_SON_RL_RESULT_20191113_[760].dat이 없어 60초 대기후 다시 확인합니다(최대60회).\n",
      "파일 TEOS_TO_SON_RL_RESULT_20191113_[760].dat이 없어 60초 대기후 다시 확인합니다(최대60회).\n",
      "파일 TEOS_TO_SON_RL_RESULT_20191113_[760].dat이 없어 60초 대기후 다시 확인합니다(최대60회).\n",
      "파일 TEOS_TO_SON_RL_RESULT_20191113_[760].dat이 없어 60초 대기후 다시 확인합니다(최대60회).\n",
      "파일 TEOS_TO_SON_RL_RESULT_20191113_[760].dat이 없어 60초 대기후 다시 확인합니다(최대60회).\n",
      "파일 TEOS_TO_SON_RL_RESULT_20191113_[760].dat이 없어 60초 대기후 다시 확인합니다(최대60회).\n",
      "파일 TEOS_TO_SON_RL_RESULT_20191113_[760].dat이 없어 60초 대기후 다시 확인합니다(최대60회).\n",
      "파일 TEOS_TO_SON_RL_RESULT_20191113_[760].dat이 없어 60초 대기후 다시 확인합니다(최대60회).\n",
      "파일 TEOS_TO_SON_RL_RESULT_20191113_[760].dat이 없어 60초 대기후 다시 확인합니다(최대60회).\n"
     ]
    },
    {
     "name": "stderr",
     "output_type": "stream",
     "text": [
      "/home/tangosvc/anaconda3/lib/python3.7/site-packages/pandas/core/reshape/merge.py:522: UserWarning: merging between different levels can give an unintended result (2 levels on the left, 1 on the right)\n",
      "  warnings.warn(msg, UserWarning)\n"
     ]
    },
    {
     "name": "stdout",
     "output_type": "stream",
     "text": [
      "| \u001b[0m 89      \u001b[0m | \u001b[0m 24.39   \u001b[0m | \u001b[0m 2.739   \u001b[0m | \u001b[0m 6.628   \u001b[0m | \u001b[0m 8.0     \u001b[0m | \u001b[0m 0.05264 \u001b[0m | \u001b[0m 5.462   \u001b[0m | \u001b[0m 4.825   \u001b[0m | \u001b[0m 5.072   \u001b[0m | \u001b[0m 4.102   \u001b[0m | \u001b[0m 4.32    \u001b[0m | \u001b[0m 5.199   \u001b[0m | \u001b[0m 6.184   \u001b[0m | \u001b[0m 7.145   \u001b[0m | \u001b[0m 7.21    \u001b[0m | \u001b[0m 3.0     \u001b[0m | \u001b[0m 3.097   \u001b[0m | \u001b[0m 6.812   \u001b[0m |\n"
     ]
    },
    {
     "name": "stderr",
     "output_type": "stream",
     "text": [
      "/home/tangosvc/anaconda3/lib/python3.7/site-packages/ipykernel_launcher.py:229: SettingWithCopyWarning: \n",
      "A value is trying to be set on a copy of a slice from a DataFrame\n",
      "\n",
      "See the caveats in the documentation: http://pandas.pydata.org/pandas-docs/stable/indexing.html#indexing-view-versus-copy\n"
     ]
    },
    {
     "name": "stdout",
     "output_type": "stream",
     "text": [
      "Request 파일(/home/tangosvc/code/data/20191113/SON_TO_TEOS_RL_REQUEST_20191113_[761].dat)을 생성합니다.\n",
      "\n",
      "TEOS_TO_SON_RL_RESULT_20191113_[761].dat에 대한 get명령을 실행합니다.\n",
      "파일 TEOS_TO_SON_RL_RESULT_20191113_[761].dat이 없어 60초 대기후 다시 확인합니다(최대60회).\n",
      "파일 TEOS_TO_SON_RL_RESULT_20191113_[761].dat이 없어 60초 대기후 다시 확인합니다(최대60회).\n",
      "파일 TEOS_TO_SON_RL_RESULT_20191113_[761].dat이 없어 60초 대기후 다시 확인합니다(최대60회).\n",
      "파일 TEOS_TO_SON_RL_RESULT_20191113_[761].dat이 없어 60초 대기후 다시 확인합니다(최대60회).\n",
      "파일 TEOS_TO_SON_RL_RESULT_20191113_[761].dat이 없어 60초 대기후 다시 확인합니다(최대60회).\n",
      "파일 TEOS_TO_SON_RL_RESULT_20191113_[761].dat이 없어 60초 대기후 다시 확인합니다(최대60회).\n",
      "파일 TEOS_TO_SON_RL_RESULT_20191113_[761].dat이 없어 60초 대기후 다시 확인합니다(최대60회).\n",
      "파일 TEOS_TO_SON_RL_RESULT_20191113_[761].dat이 없어 60초 대기후 다시 확인합니다(최대60회).\n",
      "파일 TEOS_TO_SON_RL_RESULT_20191113_[761].dat이 없어 60초 대기후 다시 확인합니다(최대60회).\n",
      "파일 TEOS_TO_SON_RL_RESULT_20191113_[761].dat이 없어 60초 대기후 다시 확인합니다(최대60회).\n"
     ]
    },
    {
     "name": "stderr",
     "output_type": "stream",
     "text": [
      "/home/tangosvc/anaconda3/lib/python3.7/site-packages/pandas/core/reshape/merge.py:522: UserWarning: merging between different levels can give an unintended result (2 levels on the left, 1 on the right)\n",
      "  warnings.warn(msg, UserWarning)\n"
     ]
    },
    {
     "name": "stdout",
     "output_type": "stream",
     "text": [
      "| \u001b[95m 90      \u001b[0m | \u001b[95m 24.7    \u001b[0m | \u001b[95m 2.804   \u001b[0m | \u001b[95m 6.65    \u001b[0m | \u001b[95m 8.0     \u001b[0m | \u001b[95m 0.05073 \u001b[0m | \u001b[95m 5.57    \u001b[0m | \u001b[95m 4.723   \u001b[0m | \u001b[95m 4.932   \u001b[0m | \u001b[95m 3.922   \u001b[0m | \u001b[95m 4.518   \u001b[0m | \u001b[95m 5.221   \u001b[0m | \u001b[95m 6.134   \u001b[0m | \u001b[95m 6.946   \u001b[0m | \u001b[95m 6.761   \u001b[0m | \u001b[95m 2.758   \u001b[0m | \u001b[95m 3.097   \u001b[0m | \u001b[95m 6.754   \u001b[0m |\n"
     ]
    },
    {
     "name": "stderr",
     "output_type": "stream",
     "text": [
      "/home/tangosvc/anaconda3/lib/python3.7/site-packages/ipykernel_launcher.py:229: SettingWithCopyWarning: \n",
      "A value is trying to be set on a copy of a slice from a DataFrame\n",
      "\n",
      "See the caveats in the documentation: http://pandas.pydata.org/pandas-docs/stable/indexing.html#indexing-view-versus-copy\n"
     ]
    },
    {
     "name": "stdout",
     "output_type": "stream",
     "text": [
      "Request 파일(/home/tangosvc/code/data/20191113/SON_TO_TEOS_RL_REQUEST_20191113_[762].dat)을 생성합니다.\n",
      "\n",
      "TEOS_TO_SON_RL_RESULT_20191113_[762].dat에 대한 get명령을 실행합니다.\n",
      "파일 TEOS_TO_SON_RL_RESULT_20191113_[762].dat이 없어 60초 대기후 다시 확인합니다(최대60회).\n",
      "파일 TEOS_TO_SON_RL_RESULT_20191113_[762].dat이 없어 60초 대기후 다시 확인합니다(최대60회).\n",
      "파일 TEOS_TO_SON_RL_RESULT_20191113_[762].dat이 없어 60초 대기후 다시 확인합니다(최대60회).\n",
      "파일 TEOS_TO_SON_RL_RESULT_20191113_[762].dat이 없어 60초 대기후 다시 확인합니다(최대60회).\n",
      "파일 TEOS_TO_SON_RL_RESULT_20191113_[762].dat이 없어 60초 대기후 다시 확인합니다(최대60회).\n",
      "파일 TEOS_TO_SON_RL_RESULT_20191113_[762].dat이 없어 60초 대기후 다시 확인합니다(최대60회).\n",
      "파일 TEOS_TO_SON_RL_RESULT_20191113_[762].dat이 없어 60초 대기후 다시 확인합니다(최대60회).\n",
      "파일 TEOS_TO_SON_RL_RESULT_20191113_[762].dat이 없어 60초 대기후 다시 확인합니다(최대60회).\n",
      "파일 TEOS_TO_SON_RL_RESULT_20191113_[762].dat이 없어 60초 대기후 다시 확인합니다(최대60회).\n",
      "파일 TEOS_TO_SON_RL_RESULT_20191113_[762].dat이 없어 60초 대기후 다시 확인합니다(최대60회).\n"
     ]
    },
    {
     "name": "stderr",
     "output_type": "stream",
     "text": [
      "/home/tangosvc/anaconda3/lib/python3.7/site-packages/pandas/core/reshape/merge.py:522: UserWarning: merging between different levels can give an unintended result (2 levels on the left, 1 on the right)\n",
      "  warnings.warn(msg, UserWarning)\n"
     ]
    },
    {
     "name": "stdout",
     "output_type": "stream",
     "text": [
      "| \u001b[0m 91      \u001b[0m | \u001b[0m 24.22   \u001b[0m | \u001b[0m 2.749   \u001b[0m | \u001b[0m 6.489   \u001b[0m | \u001b[0m 8.0     \u001b[0m | \u001b[0m 0.03965 \u001b[0m | \u001b[0m 5.47    \u001b[0m | \u001b[0m 4.675   \u001b[0m | \u001b[0m 5.046   \u001b[0m | \u001b[0m 3.758   \u001b[0m | \u001b[0m 4.618   \u001b[0m | \u001b[0m 5.088   \u001b[0m | \u001b[0m 5.998   \u001b[0m | \u001b[0m 7.298   \u001b[0m | \u001b[0m 6.904   \u001b[0m | \u001b[0m 2.923   \u001b[0m | \u001b[0m 3.042   \u001b[0m | \u001b[0m 6.66    \u001b[0m |\n"
     ]
    },
    {
     "name": "stderr",
     "output_type": "stream",
     "text": [
      "/home/tangosvc/anaconda3/lib/python3.7/site-packages/ipykernel_launcher.py:229: SettingWithCopyWarning: \n",
      "A value is trying to be set on a copy of a slice from a DataFrame\n",
      "\n",
      "See the caveats in the documentation: http://pandas.pydata.org/pandas-docs/stable/indexing.html#indexing-view-versus-copy\n"
     ]
    },
    {
     "name": "stdout",
     "output_type": "stream",
     "text": [
      "Request 파일(/home/tangosvc/code/data/20191113/SON_TO_TEOS_RL_REQUEST_20191113_[763].dat)을 생성합니다.\n",
      "\n",
      "TEOS_TO_SON_RL_RESULT_20191113_[763].dat에 대한 get명령을 실행합니다.\n",
      "파일 TEOS_TO_SON_RL_RESULT_20191113_[763].dat이 없어 60초 대기후 다시 확인합니다(최대60회).\n",
      "파일 TEOS_TO_SON_RL_RESULT_20191113_[763].dat이 없어 60초 대기후 다시 확인합니다(최대60회).\n",
      "파일 TEOS_TO_SON_RL_RESULT_20191113_[763].dat이 없어 60초 대기후 다시 확인합니다(최대60회).\n",
      "파일 TEOS_TO_SON_RL_RESULT_20191113_[763].dat이 없어 60초 대기후 다시 확인합니다(최대60회).\n",
      "파일 TEOS_TO_SON_RL_RESULT_20191113_[763].dat이 없어 60초 대기후 다시 확인합니다(최대60회).\n",
      "파일 TEOS_TO_SON_RL_RESULT_20191113_[763].dat이 없어 60초 대기후 다시 확인합니다(최대60회).\n",
      "파일 TEOS_TO_SON_RL_RESULT_20191113_[763].dat이 없어 60초 대기후 다시 확인합니다(최대60회).\n",
      "파일 TEOS_TO_SON_RL_RESULT_20191113_[763].dat이 없어 60초 대기후 다시 확인합니다(최대60회).\n",
      "파일 TEOS_TO_SON_RL_RESULT_20191113_[763].dat이 없어 60초 대기후 다시 확인합니다(최대60회).\n",
      "파일 TEOS_TO_SON_RL_RESULT_20191113_[763].dat이 없어 60초 대기후 다시 확인합니다(최대60회).\n"
     ]
    },
    {
     "name": "stderr",
     "output_type": "stream",
     "text": [
      "/home/tangosvc/anaconda3/lib/python3.7/site-packages/pandas/core/reshape/merge.py:522: UserWarning: merging between different levels can give an unintended result (2 levels on the left, 1 on the right)\n",
      "  warnings.warn(msg, UserWarning)\n"
     ]
    },
    {
     "name": "stdout",
     "output_type": "stream",
     "text": [
      "| \u001b[0m 92      \u001b[0m | \u001b[0m 24.39   \u001b[0m | \u001b[0m 2.599   \u001b[0m | \u001b[0m 6.966   \u001b[0m | \u001b[0m 8.0     \u001b[0m | \u001b[0m 0.0     \u001b[0m | \u001b[0m 5.247   \u001b[0m | \u001b[0m 4.87    \u001b[0m | \u001b[0m 5.014   \u001b[0m | \u001b[0m 3.955   \u001b[0m | \u001b[0m 4.434   \u001b[0m | \u001b[0m 5.131   \u001b[0m | \u001b[0m 6.073   \u001b[0m | \u001b[0m 6.967   \u001b[0m | \u001b[0m 6.845   \u001b[0m | \u001b[0m 2.804   \u001b[0m | \u001b[0m 3.104   \u001b[0m | \u001b[0m 6.674   \u001b[0m |\n"
     ]
    },
    {
     "name": "stderr",
     "output_type": "stream",
     "text": [
      "/home/tangosvc/anaconda3/lib/python3.7/site-packages/ipykernel_launcher.py:229: SettingWithCopyWarning: \n",
      "A value is trying to be set on a copy of a slice from a DataFrame\n",
      "\n",
      "See the caveats in the documentation: http://pandas.pydata.org/pandas-docs/stable/indexing.html#indexing-view-versus-copy\n"
     ]
    },
    {
     "name": "stdout",
     "output_type": "stream",
     "text": [
      "Request 파일(/home/tangosvc/code/data/20191113/SON_TO_TEOS_RL_REQUEST_20191113_[764].dat)을 생성합니다.\n",
      "\n",
      "TEOS_TO_SON_RL_RESULT_20191113_[764].dat에 대한 get명령을 실행합니다.\n",
      "파일 TEOS_TO_SON_RL_RESULT_20191113_[764].dat이 없어 60초 대기후 다시 확인합니다(최대60회).\n",
      "파일 TEOS_TO_SON_RL_RESULT_20191113_[764].dat이 없어 60초 대기후 다시 확인합니다(최대60회).\n",
      "파일 TEOS_TO_SON_RL_RESULT_20191113_[764].dat이 없어 60초 대기후 다시 확인합니다(최대60회).\n",
      "파일 TEOS_TO_SON_RL_RESULT_20191113_[764].dat이 없어 60초 대기후 다시 확인합니다(최대60회).\n",
      "파일 TEOS_TO_SON_RL_RESULT_20191113_[764].dat이 없어 60초 대기후 다시 확인합니다(최대60회).\n",
      "파일 TEOS_TO_SON_RL_RESULT_20191113_[764].dat이 없어 60초 대기후 다시 확인합니다(최대60회).\n",
      "파일 TEOS_TO_SON_RL_RESULT_20191113_[764].dat이 없어 60초 대기후 다시 확인합니다(최대60회).\n",
      "파일 TEOS_TO_SON_RL_RESULT_20191113_[764].dat이 없어 60초 대기후 다시 확인합니다(최대60회).\n",
      "파일 TEOS_TO_SON_RL_RESULT_20191113_[764].dat이 없어 60초 대기후 다시 확인합니다(최대60회).\n",
      "파일 TEOS_TO_SON_RL_RESULT_20191113_[764].dat이 없어 60초 대기후 다시 확인합니다(최대60회).\n"
     ]
    },
    {
     "name": "stderr",
     "output_type": "stream",
     "text": [
      "/home/tangosvc/anaconda3/lib/python3.7/site-packages/pandas/core/reshape/merge.py:522: UserWarning: merging between different levels can give an unintended result (2 levels on the left, 1 on the right)\n",
      "  warnings.warn(msg, UserWarning)\n"
     ]
    },
    {
     "name": "stdout",
     "output_type": "stream",
     "text": [
      "| \u001b[95m 93      \u001b[0m | \u001b[95m 24.71   \u001b[0m | \u001b[95m 2.717   \u001b[0m | \u001b[95m 6.749   \u001b[0m | \u001b[95m 8.0     \u001b[0m | \u001b[95m 0.0     \u001b[0m | \u001b[95m 5.609   \u001b[0m | \u001b[95m 4.74    \u001b[0m | \u001b[95m 4.959   \u001b[0m | \u001b[95m 3.83    \u001b[0m | \u001b[95m 4.212   \u001b[0m | \u001b[95m 5.128   \u001b[0m | \u001b[95m 6.313   \u001b[0m | \u001b[95m 7.158   \u001b[0m | \u001b[95m 6.852   \u001b[0m | \u001b[95m 2.721   \u001b[0m | \u001b[95m 3.384   \u001b[0m | \u001b[95m 6.76    \u001b[0m |\n"
     ]
    },
    {
     "name": "stderr",
     "output_type": "stream",
     "text": [
      "/home/tangosvc/anaconda3/lib/python3.7/site-packages/ipykernel_launcher.py:229: SettingWithCopyWarning: \n",
      "A value is trying to be set on a copy of a slice from a DataFrame\n",
      "\n",
      "See the caveats in the documentation: http://pandas.pydata.org/pandas-docs/stable/indexing.html#indexing-view-versus-copy\n"
     ]
    },
    {
     "name": "stdout",
     "output_type": "stream",
     "text": [
      "Request 파일(/home/tangosvc/code/data/20191113/SON_TO_TEOS_RL_REQUEST_20191113_[765].dat)을 생성합니다.\n",
      "\n",
      "TEOS_TO_SON_RL_RESULT_20191113_[765].dat에 대한 get명령을 실행합니다.\n",
      "파일 TEOS_TO_SON_RL_RESULT_20191113_[765].dat이 없어 60초 대기후 다시 확인합니다(최대60회).\n",
      "파일 TEOS_TO_SON_RL_RESULT_20191113_[765].dat이 없어 60초 대기후 다시 확인합니다(최대60회).\n",
      "파일 TEOS_TO_SON_RL_RESULT_20191113_[765].dat이 없어 60초 대기후 다시 확인합니다(최대60회).\n",
      "파일 TEOS_TO_SON_RL_RESULT_20191113_[765].dat이 없어 60초 대기후 다시 확인합니다(최대60회).\n",
      "파일 TEOS_TO_SON_RL_RESULT_20191113_[765].dat이 없어 60초 대기후 다시 확인합니다(최대60회).\n",
      "파일 TEOS_TO_SON_RL_RESULT_20191113_[765].dat이 없어 60초 대기후 다시 확인합니다(최대60회).\n",
      "파일 TEOS_TO_SON_RL_RESULT_20191113_[765].dat이 없어 60초 대기후 다시 확인합니다(최대60회).\n",
      "파일 TEOS_TO_SON_RL_RESULT_20191113_[765].dat이 없어 60초 대기후 다시 확인합니다(최대60회).\n",
      "파일 TEOS_TO_SON_RL_RESULT_20191113_[765].dat이 없어 60초 대기후 다시 확인합니다(최대60회).\n",
      "파일 TEOS_TO_SON_RL_RESULT_20191113_[765].dat이 없어 60초 대기후 다시 확인합니다(최대60회).\n"
     ]
    },
    {
     "name": "stderr",
     "output_type": "stream",
     "text": [
      "/home/tangosvc/anaconda3/lib/python3.7/site-packages/pandas/core/reshape/merge.py:522: UserWarning: merging between different levels can give an unintended result (2 levels on the left, 1 on the right)\n",
      "  warnings.warn(msg, UserWarning)\n"
     ]
    },
    {
     "name": "stdout",
     "output_type": "stream",
     "text": [
      "| \u001b[0m 94      \u001b[0m | \u001b[0m 24.39   \u001b[0m | \u001b[0m 2.803   \u001b[0m | \u001b[0m 6.662   \u001b[0m | \u001b[0m 8.0     \u001b[0m | \u001b[0m 0.1536  \u001b[0m | \u001b[0m 5.442   \u001b[0m | \u001b[0m 4.671   \u001b[0m | \u001b[0m 4.961   \u001b[0m | \u001b[0m 3.769   \u001b[0m | \u001b[0m 4.181   \u001b[0m | \u001b[0m 4.973   \u001b[0m | \u001b[0m 6.253   \u001b[0m | \u001b[0m 6.928   \u001b[0m | \u001b[0m 6.998   \u001b[0m | \u001b[0m 2.624   \u001b[0m | \u001b[0m 3.037   \u001b[0m | \u001b[0m 6.768   \u001b[0m |\n"
     ]
    },
    {
     "name": "stderr",
     "output_type": "stream",
     "text": [
      "/home/tangosvc/anaconda3/lib/python3.7/site-packages/ipykernel_launcher.py:229: SettingWithCopyWarning: \n",
      "A value is trying to be set on a copy of a slice from a DataFrame\n",
      "\n",
      "See the caveats in the documentation: http://pandas.pydata.org/pandas-docs/stable/indexing.html#indexing-view-versus-copy\n"
     ]
    },
    {
     "name": "stdout",
     "output_type": "stream",
     "text": [
      "Request 파일(/home/tangosvc/code/data/20191113/SON_TO_TEOS_RL_REQUEST_20191113_[766].dat)을 생성합니다.\n",
      "\n",
      "TEOS_TO_SON_RL_RESULT_20191113_[766].dat에 대한 get명령을 실행합니다.\n",
      "파일 TEOS_TO_SON_RL_RESULT_20191113_[766].dat이 없어 60초 대기후 다시 확인합니다(최대60회).\n",
      "파일 TEOS_TO_SON_RL_RESULT_20191113_[766].dat이 없어 60초 대기후 다시 확인합니다(최대60회).\n",
      "파일 TEOS_TO_SON_RL_RESULT_20191113_[766].dat이 없어 60초 대기후 다시 확인합니다(최대60회).\n",
      "파일 TEOS_TO_SON_RL_RESULT_20191113_[766].dat이 없어 60초 대기후 다시 확인합니다(최대60회).\n",
      "파일 TEOS_TO_SON_RL_RESULT_20191113_[766].dat이 없어 60초 대기후 다시 확인합니다(최대60회).\n",
      "파일 TEOS_TO_SON_RL_RESULT_20191113_[766].dat이 없어 60초 대기후 다시 확인합니다(최대60회).\n",
      "파일 TEOS_TO_SON_RL_RESULT_20191113_[766].dat이 없어 60초 대기후 다시 확인합니다(최대60회).\n",
      "파일 TEOS_TO_SON_RL_RESULT_20191113_[766].dat이 없어 60초 대기후 다시 확인합니다(최대60회).\n",
      "파일 TEOS_TO_SON_RL_RESULT_20191113_[766].dat이 없어 60초 대기후 다시 확인합니다(최대60회).\n",
      "파일 TEOS_TO_SON_RL_RESULT_20191113_[766].dat이 없어 60초 대기후 다시 확인합니다(최대60회).\n"
     ]
    },
    {
     "name": "stderr",
     "output_type": "stream",
     "text": [
      "/home/tangosvc/anaconda3/lib/python3.7/site-packages/pandas/core/reshape/merge.py:522: UserWarning: merging between different levels can give an unintended result (2 levels on the left, 1 on the right)\n",
      "  warnings.warn(msg, UserWarning)\n"
     ]
    },
    {
     "name": "stdout",
     "output_type": "stream",
     "text": [
      "| \u001b[0m 95      \u001b[0m | \u001b[0m 23.14   \u001b[0m | \u001b[0m 6.666   \u001b[0m | \u001b[0m 5.69    \u001b[0m | \u001b[0m 7.827   \u001b[0m | \u001b[0m 0.5878  \u001b[0m | \u001b[0m 5.938   \u001b[0m | \u001b[0m 2.663   \u001b[0m | \u001b[0m 5.107   \u001b[0m | \u001b[0m 4.394   \u001b[0m | \u001b[0m 3.828   \u001b[0m | \u001b[0m 4.437   \u001b[0m | \u001b[0m 7.174   \u001b[0m | \u001b[0m 6.682   \u001b[0m | \u001b[0m 6.342   \u001b[0m | \u001b[0m 1.311   \u001b[0m | \u001b[0m 2.409   \u001b[0m | \u001b[0m 7.332   \u001b[0m |\n"
     ]
    },
    {
     "name": "stderr",
     "output_type": "stream",
     "text": [
      "/home/tangosvc/anaconda3/lib/python3.7/site-packages/ipykernel_launcher.py:229: SettingWithCopyWarning: \n",
      "A value is trying to be set on a copy of a slice from a DataFrame\n",
      "\n",
      "See the caveats in the documentation: http://pandas.pydata.org/pandas-docs/stable/indexing.html#indexing-view-versus-copy\n"
     ]
    },
    {
     "name": "stdout",
     "output_type": "stream",
     "text": [
      "Request 파일(/home/tangosvc/code/data/20191113/SON_TO_TEOS_RL_REQUEST_20191113_[767].dat)을 생성합니다.\n",
      "\n",
      "TEOS_TO_SON_RL_RESULT_20191113_[767].dat에 대한 get명령을 실행합니다.\n",
      "파일 TEOS_TO_SON_RL_RESULT_20191113_[767].dat이 없어 60초 대기후 다시 확인합니다(최대60회).\n",
      "파일 TEOS_TO_SON_RL_RESULT_20191113_[767].dat이 없어 60초 대기후 다시 확인합니다(최대60회).\n",
      "파일 TEOS_TO_SON_RL_RESULT_20191113_[767].dat이 없어 60초 대기후 다시 확인합니다(최대60회).\n",
      "파일 TEOS_TO_SON_RL_RESULT_20191113_[767].dat이 없어 60초 대기후 다시 확인합니다(최대60회).\n",
      "파일 TEOS_TO_SON_RL_RESULT_20191113_[767].dat이 없어 60초 대기후 다시 확인합니다(최대60회).\n",
      "파일 TEOS_TO_SON_RL_RESULT_20191113_[767].dat이 없어 60초 대기후 다시 확인합니다(최대60회).\n",
      "파일 TEOS_TO_SON_RL_RESULT_20191113_[767].dat이 없어 60초 대기후 다시 확인합니다(최대60회).\n",
      "파일 TEOS_TO_SON_RL_RESULT_20191113_[767].dat이 없어 60초 대기후 다시 확인합니다(최대60회).\n",
      "파일 TEOS_TO_SON_RL_RESULT_20191113_[767].dat이 없어 60초 대기후 다시 확인합니다(최대60회).\n",
      "파일 TEOS_TO_SON_RL_RESULT_20191113_[767].dat이 없어 60초 대기후 다시 확인합니다(최대60회).\n"
     ]
    },
    {
     "name": "stderr",
     "output_type": "stream",
     "text": [
      "/home/tangosvc/anaconda3/lib/python3.7/site-packages/pandas/core/reshape/merge.py:522: UserWarning: merging between different levels can give an unintended result (2 levels on the left, 1 on the right)\n",
      "  warnings.warn(msg, UserWarning)\n"
     ]
    },
    {
     "name": "stdout",
     "output_type": "stream",
     "text": [
      "| \u001b[95m 96      \u001b[0m | \u001b[95m 24.74   \u001b[0m | \u001b[95m 5.998   \u001b[0m | \u001b[95m 5.857   \u001b[0m | \u001b[95m 7.866   \u001b[0m | \u001b[95m 0.498   \u001b[0m | \u001b[95m 5.882   \u001b[0m | \u001b[95m 3.004   \u001b[0m | \u001b[95m 5.09    \u001b[0m | \u001b[95m 4.324   \u001b[0m | \u001b[95m 3.949   \u001b[0m | \u001b[95m 4.547   \u001b[0m | \u001b[95m 7.014   \u001b[0m | \u001b[95m 6.727   \u001b[0m | \u001b[95m 6.446   \u001b[0m | \u001b[95m 1.53    \u001b[0m | \u001b[95m 2.572   \u001b[0m | \u001b[95m 7.244   \u001b[0m |\n"
     ]
    },
    {
     "name": "stderr",
     "output_type": "stream",
     "text": [
      "/home/tangosvc/anaconda3/lib/python3.7/site-packages/ipykernel_launcher.py:229: SettingWithCopyWarning: \n",
      "A value is trying to be set on a copy of a slice from a DataFrame\n",
      "\n",
      "See the caveats in the documentation: http://pandas.pydata.org/pandas-docs/stable/indexing.html#indexing-view-versus-copy\n"
     ]
    },
    {
     "name": "stdout",
     "output_type": "stream",
     "text": [
      "Request 파일(/home/tangosvc/code/data/20191113/SON_TO_TEOS_RL_REQUEST_20191113_[768].dat)을 생성합니다.\n",
      "\n",
      "TEOS_TO_SON_RL_RESULT_20191113_[768].dat에 대한 get명령을 실행합니다.\n",
      "파일 TEOS_TO_SON_RL_RESULT_20191113_[768].dat이 없어 60초 대기후 다시 확인합니다(최대60회).\n",
      "파일 TEOS_TO_SON_RL_RESULT_20191113_[768].dat이 없어 60초 대기후 다시 확인합니다(최대60회).\n",
      "파일 TEOS_TO_SON_RL_RESULT_20191113_[768].dat이 없어 60초 대기후 다시 확인합니다(최대60회).\n",
      "파일 TEOS_TO_SON_RL_RESULT_20191113_[768].dat이 없어 60초 대기후 다시 확인합니다(최대60회).\n"
     ]
    }
   ],
   "source": [
    "# ============================================================================================\n",
    "# BO 실행\n",
    "# Bayesian Optimization 수행\n",
    "if __name__==\"__main__\":\n",
    "    print(Colours.yellow(\"---Parameter Exploration Range(min, max) ---\"))\n",
    "# 탐색범위 설정(pbounds)\n",
    "    pbounds=get_pbounds()\n",
    "    print(pbounds)\n",
    "    print(Colours.yellow(\"---Optimizing TEOS by BO ---\"))\n",
    "    optimizer=BayesianOptimization(\n",
    "        # 목적함수(Surrogate Function) 설정\n",
    "        f=black_box_function,\n",
    "        # 탐색영역 설정\n",
    "        pbounds=pbounds,\n",
    "        # 재현성을 위한 Random Seed 설정\n",
    "        random_state=1234,\n",
    "        verbose=2 #옵션0 : 미출력, 1 : 일부출력, 2 : 전체이력 출력\n",
    "    )\n",
    "    \n",
    "# 초기 탐색Iteration과 Iteration반복회수 설정\n",
    "# 반복옵션이 반영됨\n",
    "    optimizer.maximize(init_points=10, n_iter=200)\n",
    "    op_result=optimizer.max\n",
    "\n",
    "#Iteration 종료시 후처리\n",
    "    print(\"Final result : \", op_result)\n",
    "# BO결과값 처리    \n",
    "    a2=op_result['params']\n",
    "    a3=pd.DataFrame([a2['c'+str(i+1)] for i in range(para_no)], \\\n",
    "                index=['c'+str(i+1) for i in range(para_no)])\n",
    "    a3=round(a3)\n",
    "    print(a3)"
   ]
  },
  {
   "cell_type": "code",
   "execution_count": null,
   "metadata": {},
   "outputs": [],
   "source": []
  },
  {
   "cell_type": "code",
   "execution_count": null,
   "metadata": {},
   "outputs": [],
   "source": []
  },
  {
   "cell_type": "code",
   "execution_count": null,
   "metadata": {},
   "outputs": [],
   "source": []
  },
  {
   "cell_type": "code",
   "execution_count": null,
   "metadata": {},
   "outputs": [],
   "source": []
  },
  {
   "cell_type": "code",
   "execution_count": null,
   "metadata": {},
   "outputs": [],
   "source": []
  },
  {
   "cell_type": "code",
   "execution_count": null,
   "metadata": {},
   "outputs": [],
   "source": []
  },
  {
   "cell_type": "code",
   "execution_count": null,
   "metadata": {},
   "outputs": [],
   "source": []
  },
  {
   "cell_type": "code",
   "execution_count": null,
   "metadata": {},
   "outputs": [],
   "source": []
  },
  {
   "cell_type": "code",
   "execution_count": null,
   "metadata": {},
   "outputs": [],
   "source": []
  },
  {
   "cell_type": "code",
   "execution_count": null,
   "metadata": {},
   "outputs": [],
   "source": []
  },
  {
   "cell_type": "code",
   "execution_count": null,
   "metadata": {},
   "outputs": [],
   "source": []
  },
  {
   "cell_type": "code",
   "execution_count": null,
   "metadata": {},
   "outputs": [],
   "source": []
  },
  {
   "cell_type": "code",
   "execution_count": 827,
   "metadata": {
    "scrolled": false
   },
   "outputs": [
    {
     "ename": "SyntaxError",
     "evalue": "invalid syntax (<ipython-input-827-55759943ab46>, line 86)",
     "output_type": "error",
     "traceback": [
      "\u001b[0;36m  File \u001b[0;32m\"<ipython-input-827-55759943ab46>\"\u001b[0;36m, line \u001b[0;32m86\u001b[0m\n\u001b[0;31m    a.outputDatFile(,action = decAct)\u001b[0m\n\u001b[0m                    ^\u001b[0m\n\u001b[0;31mSyntaxError\u001b[0m\u001b[0;31m:\u001b[0m invalid syntax\n"
     ]
    }
   ],
   "source": [
    "# ============================================================================================\n",
    "# RL실행\n",
    "if __name__ == \"__main__\":    \n",
    "    Cellcode=['2019Y9667','2019Z2137','2019Z3737', '20193BHZH', \\\n",
    "             '20193BHTY', '20193AMR7', '2019Y9678', '2019Z3222', \\\n",
    "             '20193BIEF', '20193BI6Z', '2019Z2954', '2019Z2586', \\\n",
    "             '2019Z0388', '2019Z2764', '2019Z2779', '2019Y9862',] \n",
    "    \n",
    "    # 분석시마다 사용자가 입력해줘야 하는 값 ---------------------\n",
    "    # 시작 SEQ & 시간정보\n",
    "    seq=47\n",
    "    # 시뮬레이션 시작용 Request, Result 파일\n",
    "    pre_reqfilenm='/home/tangosvc/code/data/20191031/SON_TO_TEOS_RL_REQUEST_20191031_[%s].dat' %str(seq)\n",
    "    pre_resultfilenm='/home/tangosvc/code/data/20191031/TEOS_TO_SON_RL_RESULT_20191031_[%s].dat' %str(seq)\n",
    "    # ------------------------------------------------------------    \n",
    "\n",
    "    \n",
    "    \n",
    "    \n",
    "    \n",
    "    #값 초기화---------------------------------\n",
    "    # request, result file 관리 폴더(ML서버, TEOS서버)\n",
    "    ML_dirnm='/home/tangosvc/code/data'    \n",
    "    \n",
    "    # simulation 실행일(파일생성일)\n",
    "    filetime=datetime.now().strftime('%Y%m%d') \n",
    "    #----------------------------------------------  \n",
    "\n",
    "    # Request_filecreate 클래스를 생성함\n",
    "    a=Request_filecreate(ML_dirnm, filetime, seq)\n",
    "    a.pre_reqfilenm=pre_reqfilenm\n",
    "    a.pre_resultfilenm=pre_resultfilenm\n",
    "    # simulation 1회 iteration별로 수행 agent개수(동시적용 request file 개수))\n",
    "    iteration_no=1\n",
    "    # 초기 Request File에 대한 시뮬레이션은 Result 파일없이 진행함\n",
    "    # 초기 Request File 시뮬레이션이 아닌 경우에는 firstrequest값을 1이 아닌값으로 설정함\n",
    "    firstrequest=1\n",
    "    \n",
    "    while int(a.seq) < seq+iteration_no :\n",
    "#         print(a.seq, seq+iteration_no)\n",
    "        if not firstrequest==1:\n",
    "            if not(os.path.exists(a.pre_reqfilenm)):\n",
    "                print('%s파일이 존재하지 않아 실행을 중단합니다.' %a.pre_reqfilenm)\n",
    "                break\n",
    "\n",
    "            if not(os.path.exists(a.pre_resultfilenm)):\n",
    "                print('%s파일이 존재하지 않아 실행을 중단합니다.' %a.pre_resultfilenm)\n",
    "                break\n",
    "\n",
    "\n",
    "            # 시점 t : state(SRC tilt, NBR tilt, SINR, RSRP) 계산 ------------------------------\n",
    "            # state(tilt1, tilt2) 정보 - Request File에서 수집\n",
    "            rq = a.getState()\n",
    "            # state(tilt1의 SINR, RSRP)정보 - ResultFile에서 수집(SISUL_CD기준으로 계산)\n",
    "            rs, gsq_avg,_ = a.getStateQuality(wa = 0.5, wb = 0.5) \n",
    "            # rs : ['SISUL_CD  SINR1_Mean  SINR1_Q5  RSRP1_Mean sq  nbrSq   gsq]\n",
    "            \n",
    "            # rs, sq로 데이터 정리하여 SISUL_CD, SIN1_STATE, RSRP1_STATE\n",
    "            # input1 : REQUEST_DATE', 'SCENARIO_SEQ', 'REQUEST_SEQ', 'SISUL_CD, STC_STATE, NBR_STATE\n",
    "            # SRC & NBR Cell tilt값에 대해 7단계로 구분하여 설정값 결정\n",
    "            input1 = rq[['REQUEST_DATE', 'SCENARIO_SEQ', 'REQUEST_SEQ', 'SISUL_CD', 'SRC_STATE', 'NBR_STATE']]\n",
    "            # input2 : 'SISUL_CD', 'SINR1_STATE', 'RSRP1_STATE\n",
    "            # SRC Cell에 대한 N/W품질로 SINR, RSRP값을 7단계로 구분하여 설정값 결정\n",
    "            input2 = a.cutStateQuality(rs)\n",
    "            input = pd.merge(input1, input2, how = 'left', left_on = 'SISUL_CD', right_on= 'SISUL_CD')\n",
    "            # ------------------------------------------------------------------------------\n",
    "\n",
    "            steering_cell=pd.DataFrame([Cellcode], columns=['Cellcode'])\n",
    "            gsq_avg=pd.merge(steering_cell, rs, how='left', left_on='Cellcode', right_on='SISUL_CD')['gsq'].mean()\n",
    "            \n",
    "            \n",
    "            \n",
    "            \n",
    "\n",
    "            # 시점 t : action(tilt1 change val) 계산 ------------------------------------------------\n",
    "            # 19개 셀에 대해서 Control Change값을 계산함\n",
    "            # BO에서는 19개 셀의 Spec만을 계산하고\n",
    "            # Request에서는 전체 셀의 Spec을 계산함\n",
    "            # Action 반영 (임시) --> Target Cell(19개)의 Action 만 update함 \n",
    "\n",
    "            # 수정필요함 : 현재는 68 cell에 대해 random값으로 설정함\n",
    "            decAct = np.random.randint(-2, 2, rq.shape[0])        \n",
    "\n",
    "            \n",
    "            \n",
    "            \n",
    "            # 시점 t+1 : simulation실행하여 result파일생성후 -> 다음 iteration에서 reward와 state계산\n",
    "            # SEQ+1차수의 Simulation실행을 위한 Request File 생성\n",
    "            # SEQ차수의 Request File을 템플릿으로 사용함\n",
    "            a.outputDatFile(action = decAct)  \n",
    "            # -------------------------------------------------------------------------------\n",
    "    \n",
    "        # Request File이 생성되면 TEOS Simulation 실행 -> Result File이 나올때까지 실행, 오류발생하면 전체 실행 중단\n",
    "        if Do_simul_NEXT(filetime, a)==1:\n",
    "            a.seq=int(a.seq)+1\n",
    "            print('File put과 get 명령이 완료되었습니다.')\n",
    "        else:\n",
    "            print('File put과 get에서 오류가 발생하여 중단합니다.')\n",
    "            break\n",
    "    # 객체 제거    \n",
    "    del a"
   ]
  },
  {
   "cell_type": "code",
   "execution_count": 1030,
   "metadata": {
    "scrolled": false
   },
   "outputs": [
    {
     "name": "stdout",
     "output_type": "stream",
     "text": [
      "-0.3084463626295909\n",
      "         gsq\n",
      "0  -0.127326\n",
      "1   0.346599\n",
      "2  -0.353175\n",
      "3   0.401531\n",
      "4  -0.235536\n",
      "5   0.548912\n",
      "6  -0.353175\n",
      "7  -0.966371\n",
      "8  -0.235536\n",
      "9  -2.749871\n",
      "10 -0.966371\n",
      "11  0.576888\n",
      "12  0.401531\n",
      "13 -1.173878\n",
      "14  1.156994\n",
      "15 -1.206359             0\n",
      "0   2019Y9667\n",
      "1   2019Z2137\n",
      "2   2019Z3737\n",
      "3   20193BHZH\n",
      "4   20193BHTY\n",
      "5   20193AMR7\n",
      "6   2019Y9678\n",
      "7   2019Z3222\n",
      "8   20193BIEF\n",
      "9   20193BI6Z\n",
      "10  2019Z2954\n",
      "11  2019Z2586\n",
      "12  2019Z0388\n",
      "13  2019Z2764\n",
      "14  2019Z2779\n",
      "15  2019Y9862\n"
     ]
    }
   ],
   "source": [
    "# def get_gsq_avg(filenm):\n",
    "# 분석시마다 사용자가 입력해줘야 하는 값 ---------------------\n",
    "# 시작 SEQ & 시간정보\n",
    "# seq=44\n",
    "# # 시뮬레이션 시작용 Request, Result 파일\n",
    "# pre_reqfilenm='/home/tangosvc/code/data/20191030/SON_TO_TEOS_RL_REQUEST_20191030_[%s].dat' %str(seq)\n",
    "# pre_resultfilenm='/home/tangosvc/code/data/20191030/TEOS_TO_SON_RL_RESULT_20191030_[%s].dat' %str(seq)\n",
    "# # ------------------------------------------------------------    \n",
    "\n",
    "seq=1001\n",
    "timedata='20191108'\n",
    "# 시뮬레이션 시작용 Request, Result 파일\n",
    "pre_reqfilenm='/home/tangosvc/code/data/{}/SON_TO_TEOS_RL_REQUEST_{}_[{}].dat'.format(timedata, timedata, str(seq))\n",
    "pre_resultfilenm='/home/tangosvc/code/data/{}/TEOS_TO_SON_RL_RESULT_{}_[{}].dat'.format(timedata, timedata, str(seq))\n",
    "\n",
    "#값 초기화---------------------------------\n",
    "# request, result file 관리 폴더(ML서버, TEOS서버)\n",
    "ML_dirnm='/home/tangosvc/code/data'    \n",
    "\n",
    "# simulation 실행일(파일생성일)\n",
    "filetime=datetime.now().strftime('%Y%m%d') \n",
    "#----------------------------------------------  \n",
    "\n",
    "# Request_filecreate 클래스를 생성함\n",
    "a=Request_filecreate(ML_dirnm, filetime, seq)\n",
    "a.pre_reqfilenm=pre_reqfilenm\n",
    "a.pre_resultfilenm=pre_resultfilenm\n",
    "\n",
    "rs, gsq_avg, gsq_each = a.getStateQuality(wa = 0.5, wb = 0.5)   \n",
    "\n",
    "print(gsq_avg)\n",
    "col1=pd.DataFrame(gsq_each)\n",
    "col2=pd.DataFrame(cellcode)\n",
    "print(col1, col2)"
   ]
  },
  {
   "cell_type": "code",
   "execution_count": null,
   "metadata": {},
   "outputs": [],
   "source": []
  }
 ],
 "metadata": {
  "kernelspec": {
   "display_name": "Python 3",
   "language": "python",
   "name": "python3"
  },
  "language_info": {
   "codemirror_mode": {
    "name": "ipython",
    "version": 3
   },
   "file_extension": ".py",
   "mimetype": "text/x-python",
   "name": "python",
   "nbconvert_exporter": "python",
   "pygments_lexer": "ipython3",
   "version": "3.7.3"
  }
 },
 "nbformat": 4,
 "nbformat_minor": 2
}
