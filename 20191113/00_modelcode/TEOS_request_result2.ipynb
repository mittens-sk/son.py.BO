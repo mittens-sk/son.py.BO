{
 "cells": [
  {
   "cell_type": "code",
   "execution_count": 32,
   "metadata": {},
   "outputs": [],
   "source": [
    "import sys\n",
    "import pandas as pd\n",
    "import os\n",
    "from datetime import datetime\n",
    "import numpy as np\n",
    "import json\n",
    "\n",
    "# 파일전송용 Library -----------\n",
    "import time       #시간지연 library사용\n",
    "import paramiko   #sftp파일전송 library사용\n",
    "# ------------------------------\n",
    "\n",
    "# Bayesian Optimization --------\n",
    "from bayes_opt import BayesianOptimization\n",
    "from bayes_opt.util import Colours\n",
    "\n",
    "BO_RangeFile='/home/tangosvc/code/data/BO_Range2.csv'\n",
    "Opt_statusFile='opt_status2.json'\n",
    "\n",
    "requestPrefix = \"SON_TO_TEOS_RL_REQUEST_\"\n",
    "resultPrefix = \"TEOS_TO_SON_RL_RESULT_\" \n",
    "\n",
    "cellcode=['2019Y9667','2019Z2137','2019Z3737', '20193BHZH', \\\n",
    "         '20193BHTY', '20193AMR7', '2019Y9678', '2019Z3222', \\\n",
    "         '20193BIEF', '20193BI6Z', '2019Z2954', '2019Z2586', \\\n",
    "         '2019Z0388', '2019Z2764', '2019Z2779', '2019Y9862',]\n",
    "# ------------------------------"
   ]
  },
  {
   "cell_type": "code",
   "execution_count": 33,
   "metadata": {},
   "outputs": [],
   "source": [
    "class TEOS_filegetput:\n",
    "        def __init__(self, ML_dirnm, TEOS_indirnm, TEOS_outdirnm, filetime):\n",
    "            # ML서버내 파일관리폴더(Request, Result모두 동일폴더에서 관리함)\n",
    "            self.ML_dirnm=ML_dirnm\n",
    "            # TEOS관리폴더(Request, Result 별도로 관리함)\n",
    "            self.TEOS_indirnm=TEOS_indirnm\n",
    "            self.TEOS_outdirnm=TEOS_outdirnm\n",
    "            # 시간기준으로 폴더생성/파일관리\n",
    "            self.time=filetime        \n",
    "            \n",
    "        # dirnm에 있는 filenm으로 시작하는 모든 파일목록 생성\n",
    "        def get_filelist(self, dirnm, filenm):\n",
    "            file_list=[f for f in os.listdir(dirnm) if f.startswith(filenm)]\n",
    "            return(file_list)\n",
    "        \n",
    "        # 파일존재시 파일명리턴 부재시 공백리턴\n",
    "        def get_fileexist(self, dirnm, filenm):\n",
    "            if os.path.exists(dirnm+'/'+filenm):\n",
    "                return(filenm)\n",
    "            else:\n",
    "                return('')    \n",
    "        \n",
    "        # TEOS서버접속\n",
    "        def conn_TEOS_svr(self):\n",
    "            host='90.90.220.8'\n",
    "            port=10003\n",
    "            transport=paramiko.Transport((host,port))\n",
    "            password='@Son1234!1'\n",
    "            username='son'\n",
    "            transport.connect(username=username, password=password)\n",
    "            sftp=paramiko.SFTPClient.from_transport(transport)\n",
    "            return(sftp, transport)\n",
    "\n",
    "        # put명령실행            \n",
    "        def do_requestfile_put(self, sftp, transport, putfilenm):\n",
    "            fromfile=self.ML_dirnm+'/'+self.time+'/'+putfilenm\n",
    "            tofile=self.TEOS_indirnm+'/'+self.time+'/'+putfilenm\n",
    "            \n",
    "            # TEOS서버에 복사할 폴더가 존재하지 않으면 생성함\n",
    "            dirlist=sftp.listdir(self.TEOS_indirnm)             \n",
    "            if not self.time in dirlist:\n",
    "                sftp.mkdir(self.TEOS_indirnm+'/'+self.time)\n",
    "\n",
    "            # ML서버에 복사할 파일이 존재하지 않으면 실행종료\n",
    "            temp=os.path.split(fromfile)\n",
    "            if self.get_fileexist(temp[0], temp[1])!='':\n",
    "                sftp.put(fromfile, tofile)\n",
    "                return(1)\n",
    "            else:\n",
    "                print('ML서버에 Put대상 파일(%s)이 없어 TEOS서버에 Put명령을 하지 못했습니다.\\n' %fromfile)                \n",
    "                return(0)\n",
    "\n",
    "        # get명령실행    \n",
    "        def do_resultfile_get(self, sftp, transport, getfilenm):         \n",
    "            fromfile=self.TEOS_outdirnm+'/'+self.time+'/'+getfilenm\n",
    "            tofile=self.ML_dirnm+'/'+self.time+'/'+getfilenm            \n",
    "            done_normal=0\n",
    "            \n",
    "            # ML서버에 복사해올 폴더가 존재하지 않으면 생성함\n",
    "            if not os.path.exists(self.ML_dirnm+'/'+self.time):\n",
    "                os.mkdir(self.ML_dirnm+'/'+self.time)\n",
    "            \n",
    "            # TEOS내에 출력파일 저장폴더 미생성시 60초간격으로 20번 확인\n",
    "            for i in range(60):\n",
    "                if self.time in sftp.listdir(self.TEOS_outdirnm):\n",
    "                    for j in range(60):\n",
    "                        # TEOS내에 출력파일 존재하지 않으면 60초간격으로 20번 확인\n",
    "                        dirlist=sftp.listdir(self.TEOS_outdirnm+'/'+self.time)                        \n",
    "                        if getfilenm in dirlist:      \n",
    "                            sftp.get(fromfile, tofile)\n",
    "                            done_normal=1\n",
    "                            break\n",
    "                        else:\n",
    "                            print('파일 %s이 없어 60초 대기후 다시 확인합니다(최대60회).' %getfilenm)\n",
    "                            time.sleep(60)\n",
    "                    break\n",
    "                else:\n",
    "                    print('폴더 %s이 없어 60초 대기후 다시 확인합니다(최대60회).' %self.time)\n",
    "                    time.sleep(60)\n",
    "            return(done_normal)\n",
    "\n",
    "        # sftp접속해제\n",
    "        def close_TEOS_svr(self, sftp, transport):\n",
    "            sftp.close()\n",
    "            transport.close()\n",
    "            \n",
    "        def RequestFile_Put(self, filenm):\n",
    "            try:\n",
    "                sftp, transport=self.conn_TEOS_svr()      \n",
    "                done_normal=self.do_requestfile_put(sftp, transport, filenm)\n",
    "                self.close_TEOS_svr(sftp, transport)\n",
    "                return(done_normal)\n",
    "\n",
    "            except:\n",
    "                print('Error : TEOS server connection')\n",
    "                self.close_TEOS_svr(sftp, transport)  \n",
    "                return(0)\n",
    "\n",
    "        def ResultFile_Get(self, filenm): \n",
    "            try:\n",
    "                sftp, transport=self.conn_TEOS_svr()\n",
    "                done_normal=self.do_resultfile_get(sftp, transport, filenm)\n",
    "                self.close_TEOS_svr(sftp, transport)\n",
    "                return(done_normal)\n",
    "\n",
    "            except:\n",
    "                print('Error : TEOS server connection')\n",
    "                self.close_TEOS_svr(sftp, transport)\n",
    "                return(0)"
   ]
  },
  {
   "cell_type": "code",
   "execution_count": 34,
   "metadata": {},
   "outputs": [],
   "source": [
    "# ML_dirnm='/home/tangosvc/code/data'\n",
    "class Request_filecreate:\n",
    "    def __init__(self, ML_dirnm, time, seq):\n",
    "        # ML서버내 파일관리폴더(Request, Result모두 동일폴더에서 관리함)\n",
    "        self.ML_dirnm=ML_dirnm\n",
    "        # 시간기준으로 폴더생성/파일관리\n",
    "        self.time=time\n",
    "        self.seq=str(seq)\n",
    "        \n",
    "        self.pre_reqfilenm=''\n",
    "        self.pre_resultfilenm=''         \n",
    "            \n",
    "    # Site정보 불러오기(site_info.csv파일내용 변경으로 수정함 -19/10/31)\n",
    "    def getSiteInfo(dofilter=0) :\n",
    "        filenm =ML_dirnm+'/'+'site_info.csv'\n",
    "        try:\n",
    "            df = pd.read_csv(filenm, encoding = 'utf-8', header = 1) \n",
    "            df = df[['Sisul code', 'target']]\n",
    "\n",
    "            if dofilter==1:\n",
    "                crit=(df['target']=='Y')\n",
    "                df = df[crit]\n",
    "\n",
    "            df.columns = ['SISUL_CD1', 'target']\n",
    "            df = df.dropna(how ='all')\n",
    "        except FileNotFoundError:\n",
    "            pass\n",
    "        return(df)\n",
    "\n",
    "    # 결과파일 불러온 후  근접셀 찾아 리턴하기(NBR Site계산로직변경으로 신규추가함 - 19/10/31)\n",
    "    def getNBRSiteInfo():\n",
    "        filenm = self.pre_resultfilenm\n",
    "        try:\n",
    "            df = pd.read_csv(filenm, encoding = 'utf-8', sep='|', header=None) \n",
    "            df.columns = ['REQUEST_DATE','SCENARIO_SEQ','REQUEST_SEQ','XPOS','YPOS',\n",
    "                                      'SISUL_CD1','RSRP1','SINR1',\n",
    "                                      'SISUL_CD2','RSRP2','SINR2',\n",
    "                                      'SISUL_CD3','RSRP3','SINR3']\n",
    "\n",
    "            input1=self.getSiteInfo()\n",
    "            f={lambda x: pd.Series.mode(x)[0]}\n",
    "            input2=df.groupby(['SISUL_CD1'])['SISUL_CD2'].agg(f)\n",
    "            input2.columns=['NBR_SISUL_CD']\n",
    "            df = pd.merge(input1, input2, how = 'left', left_on = 'SISUL_CD1', right_on= 'SISUL_CD1')\n",
    "\n",
    "        except FileNotFoundError:\n",
    "            pass\n",
    "        return(df)    \n",
    "\n",
    "\n",
    "    # Read Result File \n",
    "    def getResult(self) :\n",
    "        resultFile=''\n",
    "        resultPrefix = \"TEOS_TO_SON_RL_RESULT_\"\n",
    "        filenm=self.pre_resultfilenm\n",
    "\n",
    "        try:\n",
    "            resultFile=pd.read_csv(filenm, sep='|', encoding = 'utf-8', header=None)\n",
    "            resultFile.columns = ['REQUEST_DATE','SCENARIO_SEQ','REQUEST_SEQ','XPOS','YPOS',\n",
    "                          'SISUL_CD1','RSRP1','SINR1',\n",
    "                          'SISUL_CD2','RSRP2','SINR2',\n",
    "                          'SISUL_CD3','RSRP3','SINR3']\n",
    "        except FileNotFoundError:\n",
    "            print(\"Request파일(%s)이 존재하지 않아 실행을 중단합니다.\\n\" %filenm)\n",
    "            pass\n",
    "        return(resultFile)\n",
    "    \n",
    "    \n",
    "# State Quality 계산(동적근접셀 선정기능 포함, 근접셀 정보를 Result파일에서 Dynamic하게 추출함)-----------------------------------------------------\n",
    "    def getStateQuality(self, wa = 0.5, wb = 0.5) :\n",
    "        sqResult=''\n",
    "        result = self.getResult()\n",
    "\n",
    "        # Cell SINR avg , 5%\n",
    "        def q5(x):\n",
    "            return x.quantile(0.05)\n",
    "\n",
    "        # 대상셀에 대한 SQ를 계산하여 SISUL_CD1을 ID로 하는 sqResult DF에 저장하기\n",
    "        f = {'SINR1': ['mean', q5], 'RSRP1': ['mean']}\n",
    "        sqResult = result.groupby('SISUL_CD1').agg(f)\n",
    "        sqResult['sq'] = sqResult[('SINR1', 'mean')] * wa + (1-wa) * sqResult[('SINR1', 'q5')]\n",
    "        sqResult=sqResult.reset_index()\n",
    "    \n",
    "# rs : ['SINR1_Mean', 'SINR1_Q5', 'RSRP1_Mean', 'sq', 'nbrSq', 'gsq']\n",
    "\n",
    "        # 결과파일에 근거하여 근접셀 계산후 GSQ계산\n",
    "        # 결과파일에서 SISUL_CD1, sq 추출\n",
    "        input1=sqResult[['SISUL_CD1','sq']]\n",
    "        \n",
    "        # SISUL_CD1별 근접셀 계산\n",
    "        f={lambda x: pd.Series.mode(x)[0]}\n",
    "        input2=result.groupby(['SISUL_CD1'])['SISUL_CD2'].agg(f)\n",
    "        input2.columns=['NBR_SISUL_CD']\n",
    "        input2=input2.reset_index()\n",
    "        df = pd.merge(input1, input2, how = 'left', left_on = 'SISUL_CD1', right_on= 'SISUL_CD1')\n",
    "\n",
    "        # input1의 열명변경 : sq --> nbrSQ\n",
    "        # df열구성 : SISUL_CD1, sq, NBR_SISUL_CD\n",
    "        input1.columns=['SISUL_CD1', 'nbrSq']\n",
    "        df = pd.merge(df, input1, how='left', left_on='NBR_SISUL_CD', right_on='SISUL_CD1')\n",
    "        # df열구성 : SISUL_CD1, sq, NBR_SISUL_CD, nbrSq\n",
    "        sqResult['nbrSq']=df['nbrSq']\n",
    "\n",
    "        # Global SQ\n",
    "        # sqResult['gsq'] = sqResult['sq'] * wb + (1 - wb) * sqResult[('nbrSq')]\n",
    "        # 근접셀이 없는 경우 대상셀의 GSQ수식을 적용하지 않고 sq값을 리턴함\n",
    "        # 근접셀이 있는 경우 GSQ수식을 적용한 결과값을 리턴함\n",
    "        sqResult['gsq'] = np.where(sqResult['nbrSq'] == 99999, sqResult['sq'] , sqResult['sq'] * wb + (1 - wb) * sqResult[('nbrSq')])\n",
    "        sqResult.columns =  ['SISUL_CD', 'SINR1_Mean', 'SINR1_Q5', 'RSRP1_Mean', 'sq', 'nbrSq', 'gsq'] \n",
    "        \n",
    "        # rs : ['SISUL_CD  SINR1_Mean  SINR1_Q5  RSRP1_Mean sq  nbrSq   gsq]\n",
    "        SRC_cell=pd.DataFrame(cellcode, columns=['cellcode']) \n",
    "#         print(sqResult, SRC_cell)        \n",
    "        \n",
    "        gsq_each=pd.merge(SRC_cell, sqResult, how='left', left_on='cellcode', right_on='SISUL_CD')['gsq']\n",
    "        gsq_avg=gsq_each.mean()\n",
    "        return(sqResult, gsq_avg, gsq_each)\n",
    "    # rs : ['SISUL_CD  SINR1_Mean  SINR1_Q5  RSRP1_Mean sq  nbrSq   gsq]\n",
    "    # --------------------------------------------------------------------------------------------------------\n",
    "\n",
    "    # Read Request File\n",
    "    def getRequest(self) :\n",
    "        rq=''\n",
    "        requestPrefix = \"SON_TO_TEOS_RL_REQUEST_\"\n",
    "        filenm=self.pre_reqfilenm\n",
    "        try:\n",
    "            rq = pd.read_csv(filenm, sep = '|', encoding = 'utf-8', header = None)            \n",
    "            rq.columns = ['REQUEST_DATE', 'SCENARIO_SEQ', 'REQUEST_SEQ', \n",
    "                          'START_XPOS', 'END_XPOS', 'START_YPOS', 'END_YPOS', 'SITE_NAME', 'FA_SEQ', \n",
    "                          'SISUL_CD', 'DUH_EQUIP_ID', 'PCI', 'XPOS', 'YPOS', 'CELL_NO', 'TOWER_HEIGHT', \n",
    "                          'BUILDING_HEIGHT', 'ANTENNA_NM', 'ORIENT', \n",
    "                          'E_TILT', 'MTILT']\n",
    "        except FileNotFoundError:\n",
    "            print(\"Request파일(%s)이 존재하지 않아 실행을 중단합니다.\\n\" %filenm)\n",
    "            pass\n",
    "\n",
    "        return(rq)\n",
    "\n",
    "    # get Current State from Request FIle \n",
    "    def getState(self):\n",
    "        state = self.getRequest()\n",
    "        \n",
    "        # Src E-Tilt\n",
    "        etilt = state['E_TILT']\n",
    "        bins = [-8, -6, -4, -2, 0, 1, 3, 5, 7, 9]\n",
    "#        bins = [-5, -4, -2, 0, 1, 3, 5, 6]\n",
    "        labels = [\"s1\", \"s2\", \"s3\", \"s4\", \"s5\", \"s6\", \"s7\", \"s8\", \"s9\"]\n",
    "        cats = pd.cut(etilt, bins, labels=labels, include_lowest=True, right=False)\n",
    "        state['SRC_STATE'] = cats\n",
    "\n",
    "        # Nbr셀찾아 TILT와 STATE설정\n",
    "        def getNbrState(x):\n",
    "            # SISUL Code정보\n",
    "            nbrSite = self.getSiteInfo()\n",
    "            tmp = list(state.SISUL_CD)\n",
    "            nbrCell = list(nbrSite.NBR_CD1[nbrSite.SISUL_CD1 == x])\n",
    "\n",
    "            if len(nbrCell) == 1:\n",
    "                nbrState = state.E_TILT[tmp.index(nbrCell[0])]\n",
    "            else:\n",
    "                nbrState = 99999\n",
    "            return nbrState\n",
    "        \n",
    "        # Nbr E-Tilt\n",
    "        state['NBR_TILT'] = list(map(lambda i: getNbrState(i), state.SISUL_CD.to_list()))\n",
    "        catsNbr = pd.cut(state['NBR_TILT'], bins, labels=labels, include_lowest=True, right=False)\n",
    "        state['NBR_STATE'] = catsNbr\n",
    "\n",
    "        return(state)\n",
    "\n",
    "    def cutStateQuality(self, df2): \n",
    "        sinr = df2['SINR1_Mean']\n",
    "        bins = [-999, 0, 5, 10, 15, 20, 25, 99]\n",
    "    #     labels = [\"s1\", \"s2\", \"s3\", \"s4\", \"s5\", \"s6\", \"s7\"]\n",
    "    #     cats = pd.cut(sinr, bins, labels=labels, include_lowest=True, right=True)\n",
    "        cats = pd.cut(sinr, bins, include_lowest=True, right=True)\n",
    "        df2['SINR1_STATE'] = cats\n",
    "\n",
    "        #rsrp\n",
    "        rsrp = df2['RSRP1_Mean']\n",
    "        bins = [-999, -110, -100, -90, -80, -70, -60, 999]\n",
    "    #    labels = [\"s1\", \"s2\", \"s3\", \"s4\", \"s5\", \"s6\", \"s7\"]\n",
    "    #     cats = pd.cut(sinr, bins, labels=labels, include_lowest=True, right=False)\n",
    "        cats = pd.cut(rsrp, bins, include_lowest=True, right=True)\n",
    "        df2['RSRP1_STATE'] = cats\n",
    "        df2 = df2[['SISUL_CD', 'SINR1_STATE', 'RSRP1_STATE']]    \n",
    "        return(df2)\n",
    "\n",
    "    \n",
    "#     def Sim_Wait_Time(self, t1, s_time, e_time):\n",
    "# #         Sim_Time_From=datetime.strptime(s_time, '%H:%M')\n",
    "# #         Sim_Time_To=datetime.strptime(e_time, '%H:%M')\n",
    "# # Cur_Time, Sim_Time_From, Sim_Time_To\n",
    "\n",
    "#         if(t1>s_time) & (t1<e_time):\n",
    "#             return(0)\n",
    "#         else:\n",
    "#             timedelta=datetime.strptime('23:59','%H:%M')-datetime.strptime(t1,'%H:%M')\n",
    "#             return(int(timedelta.total_seconds())+360)\n",
    "        \n",
    "    \n",
    "    # update and read request File(Parameter tilt는 데이터 프레임임)\n",
    "    def outputDatFile(self, action = None, tilt=None ): \n",
    "        output = self.getRequest()\n",
    "        \n",
    "        # 구현필요 : ------------ 모델을 통하여 action을 받아와야함(BO or RL모델링 수행함)\n",
    "        # RL은 현 tilt에 대한 변경값\n",
    "        # BO는 tilt값\n",
    "        if tilt.empty:\n",
    "            if action is None :\n",
    "                action = np.random.randint(-2, 2, output.shape[0])\n",
    "                action = pd.DataFrame(action)[0]\n",
    "\n",
    "            # action은 현 tilt값에 대한 변화량\n",
    "            # action적용결과 E-Tilt 가 -8~8 범위를 넘어가는 경우 범위내로 강제 action조정-----       \n",
    "            action = np.where((action + output['E_TILT'])<-8, -8-output['E_TILT'], action)\n",
    "            action = np.where((action + output['E_TILT'])>8, 8-output['E_TILT'], action)\n",
    "            output['E_TILT'] = action + output['E_TILT']\n",
    "        else:\n",
    "            x11=output['SISUL_CD'].tolist()\n",
    "            y11=tilt['SISUL_CD1'].tolist()\n",
    "            y12=tilt['E_TILT'].tolist()\n",
    "            \n",
    "            for i in range(len(y11)):\n",
    "                selrow=x11.index(y11[i])\n",
    "                output['E_TILT'][selrow]=y12[i]\n",
    "\n",
    "#             print(output['SISUL_CD'])\n",
    "#             print(output['E_TILT'])\n",
    "#             print(tilt['E_TILT'])\n",
    "#             print(tilt['SISUL_CD1'])                \n",
    "\n",
    "        output['REQUEST_SEQ'] = self.seq\n",
    "        output['REQUEST_DATE']= self.time\n",
    "        #-------------------------------------------------        \n",
    "        \n",
    "        if not os.path.isdir(self.ML_dirnm+'/'+self.time):\n",
    "            os.mkdir(self.ML_dirnm+'/'+self.time)\n",
    "\n",
    "        filenm = self.ML_dirnm+'/'+self.time+'/'+requestPrefix + self.time + \"_[\" + self.seq + \"].dat\"\n",
    "        print(\"Request 파일(%s)을 생성합니다.\\n\" %filenm)\n",
    "        output.to_csv(filenm, sep = \"|\", header = False, index = False)      "
   ]
  },
  {
   "cell_type": "code",
   "execution_count": 35,
   "metadata": {},
   "outputs": [],
   "source": [
    "# TEOS 연동모듈(Request File + Result File 주고받기))\n",
    "def Do_simul_NEXT(filetime, a): \n",
    "    # 파일저장위치(ML서버 : request/result파일 한개 폴더에서 관리, TEOS서버 : request/result파일 별도 폴더에서 관리)\n",
    "    ML_dirnm='/home/tangosvc/code/data'\n",
    "    TEOS_indirnm='/disk2/interworking_data/SON/EngAnalysis/request'        \n",
    "    TEOS_outdirnm='/disk2/interworking_data/SON/EngAnalysis/result'       \n",
    "\n",
    "    #sftp라이브러리 paramiko의 실행 log저장/관리\n",
    "    paramiko.util.log_to_file('/home/tangosvc/code/data/paramiko.log')\n",
    "    \n",
    "    try:    \n",
    "        # SEQ+1차수의 시뮬레이션 실행(실행가능 시간인지 확인후 실행함)\n",
    "        b=TEOS_filegetput(ML_dirnm, TEOS_indirnm, TEOS_outdirnm, filetime)        \n",
    "        \n",
    "        # request file에 대한 put명령 실행\n",
    "        filenm = requestPrefix + filetime + \"_[\" + a.seq + \"].dat\"     \n",
    "        Putresult=b.RequestFile_Put(filenm)\n",
    "\n",
    "         # Request Get\n",
    "         # Put명령이 성공했을 경우 -> result file에 대한 get명령 실행\n",
    "        if Putresult==1:            \n",
    "            filenm = resultPrefix + filetime + \"_[\" + a.seq + \"].dat\"\n",
    "            print('%s에 대한 get명령을 실행합니다.' %filenm)  \n",
    "            b.ResultFile_Get(filenm)\n",
    "\n",
    "            a.pre_reqfilenm=ML_dirnm+'/'+filetime+'/'+filenm              \n",
    "            a.pre_resultfilenm=ML_dirnm+'/'+filetime+'/'+filenm  \n",
    "            del b  \n",
    "            return(1)\n",
    "        else:\n",
    "            del b  \n",
    "            return(0)      \n",
    "    except:\n",
    "        return(0)"
   ]
  },
  {
   "cell_type": "code",
   "execution_count": 36,
   "metadata": {},
   "outputs": [],
   "source": [
    "# BO용 모듈\n",
    "para_no=16\n",
    "    \n",
    "# Pbound설정\n",
    "def get_pbounds():\n",
    "    df1=pd.read_csv(BO_RangeFile, sep=',', index_col='varnm')\n",
    "    df1=df1.to_dict('split')\n",
    "    pbounds=dict(zip(df1['index'], df1['data']))\n",
    "    return(pbounds)\n",
    "\n",
    "# 대구지역 cell 16개의 tilt값\n",
    "def black_box_function(c1, c2, c3, c4, c5, c6, c7, c8, c9, c10, c11, c12, c13, c14, c15, c16):   \n",
    "    # Parameter 입력값\n",
    "    c1=round(c1,0);c2=round(c2,0);c3=round(c3,0);c4=round(c4,0);c5=round(c5,0)\n",
    "    c6=round(c6,0);c7=round(c7,0);c8=round(c8,0);c9=round(c9,0);c10=round(c10,0)\n",
    "    c11=round(c11,0);c12=round(c12,0);c13=round(c13,0);c14=round(c14,0);c15=round(c15,0)\n",
    "    c16=round(c16,0)\n",
    "    input_val=[c1, c2, c3, c4, c5, c6, c7, c8, c9, c10, c11, c12, c13, c14, c15, c16]\n",
    "    req_tilt=pd.DataFrame([input_val, cellcode]).T\n",
    "    req_tilt.columns=(['E_TILT', 'SISUL_CD1'])    \n",
    "\n",
    "    \n",
    "    \n",
    "\n",
    "    \n",
    "    # 시뮬레이션 운영시간\n",
    "    Sim_Time_From='00:20'\n",
    "    Sim_Time_To='23:20' \n",
    "\n",
    "    #-------------------------------------------------------------\n",
    "    # Simulation중단시간 Check -> 대기(00:05~23:25이외의 시간) \n",
    "    Cur_Time=datetime.now().strftime('%H:%M') \n",
    "    while (Cur_Time < Sim_Time_From) | (Cur_Time > Sim_Time_To):\n",
    "#         wait_time=a.Sim_Wait_Time(Cur_Time, Sim_Time_From, Sim_Time_To)\n",
    "        time.sleep(180)\n",
    "        Cur_Time=datetime.now().strftime('%H:%M') \n",
    "    #-------------------------------------------------------------\n",
    "\n",
    "    \n",
    "    \n",
    "    \n",
    "    # Parameter 입력값에 따른 출력값\n",
    "    y=-9999\n",
    "    while y==-9999:\n",
    "        # 시뮬레이션 실행코드\n",
    "        y=cal_obj_fun(req_tilt)*100\n",
    "    return(y)"
   ]
  },
  {
   "cell_type": "code",
   "execution_count": 37,
   "metadata": {},
   "outputs": [],
   "source": [
    "def set_optinfo(ML_dirnm, seq, pre_reqfilenm, pre_resultfilenm):\n",
    "    destination=ML_dirnm+'/'+Opt_statusFile\n",
    "#     data=pd.DataFrame([seq], index=['SEQ'], columns=['value'])\n",
    "#     data.to_json(destination)\n",
    "\n",
    "    with open(destination, encoding='UTF8') as data_file:\n",
    "        data=json.load(data_file)\n",
    "    data['value']['SEQ']=seq\n",
    "    data['value']['pre_reqfilenm']=pre_reqfilenm\n",
    "    data['value']['pre_resultfilenm']=pre_resultfilenm\n",
    "    with open(destination, 'w') as txtfile:\n",
    "        json.dump(data, txtfile)\n",
    "        \n",
    "def get_optinfo(ML_dirnm):\n",
    "    destination=ML_dirnm+'/'+Opt_statusFile\n",
    "    with open(destination, encoding='UTF8') as data_file:\n",
    "        data=json.load(data_file)\n",
    "    return(data['value'])"
   ]
  },
  {
   "cell_type": "code",
   "execution_count": 38,
   "metadata": {},
   "outputs": [],
   "source": [
    "# BO용 모듈\n",
    "def cal_obj_fun(req_tilt):    \n",
    "    #값 초기화---------------------------------\n",
    "    # request, result file 관리 폴더(ML서버, TEOS서버)\n",
    "    ML_dirnm='/home/tangosvc/code/data'    \n",
    "    # simulation 실행일(파일생성일)\n",
    "    filetime=datetime.now().strftime('%Y%m%d') \n",
    "    #----------------------------------------------  \n",
    "    \n",
    "    # TEOS 최근 적용 파일명, Seq 정보를 json파일에서 가져오기\n",
    "    seq=get_optinfo(ML_dirnm)['SEQ']\n",
    "    pre_reqfilenm=get_optinfo(ML_dirnm)['pre_reqfilenm']\n",
    "    pre_resultfilenm=get_optinfo(ML_dirnm)['pre_resultfilenm']\n",
    "    \n",
    "#     print(seq, pre_reqfilenm, pre_resultfilenm)\n",
    "#     seq=47\n",
    "#     # 시뮬레이션 시작용 Request, Result 파일\n",
    "#     pre_reqfilenm='/home/tangosvc/code/data/20191031/SON_TO_TEOS_RL_REQUEST_20191031_[%s].dat' %str(seq)\n",
    "#     pre_resultfilenm='/home/tangosvc/code/data/20191031/TEOS_TO_SON_RL_RESULT_20191031_[%s].dat' %str(seq)\n",
    "    # ------------------------------------------------------------    \n",
    "    \n",
    "    # Request_filecreate 클래스를 생성함\n",
    "    a=Request_filecreate(ML_dirnm, filetime, seq)\n",
    "    a.pre_reqfilenm=pre_reqfilenm\n",
    "    a.pre_resultfilenm=pre_resultfilenm    \n",
    "    a.seq=str(seq+1)    \n",
    "    a.outputDatFile(action = None, tilt=req_tilt) \n",
    "    \n",
    "    Do_simul_NEXT(filetime, a)\n",
    "    # 시점 t : state(SRC tilt, NBR tilt, SINR, RSRP) 계산 ------------------------------\n",
    "    # state(tilt1의 SINR, RSRP)정보 - ResultFile에서 수집(SISUL_CD기준으로 계산)\n",
    "    rs, gsq_avg,_ = a.getStateQuality(wa = 0.5, wb = 0.5) \n",
    "\n",
    "    # rs : ['SISUL_CD  SINR1_Mean  SINR1_Q5  RSRP1_Mean sq  nbrSq   gsq]  \n",
    "    set_optinfo(ML_dirnm, seq+1, \\\n",
    "                ML_dirnm+'/'+filetime+'/'+requestPrefix+ filetime+'_'+'['+str(seq+1)+'].dat', \\\n",
    "                ML_dirnm+'/'+filetime+'/'+resultPrefix+ filetime+'_'+'['+str(seq+1)+'].dat')\n",
    "    return(gsq_avg)"
   ]
  },
  {
   "cell_type": "code",
   "execution_count": null,
   "metadata": {
    "scrolled": false
   },
   "outputs": [
    {
     "name": "stdout",
     "output_type": "stream",
     "text": [
      "\u001b[93m---Parameter Exploration Range(min, max) ---\u001b[0m\n",
      "{'c1': [0, 8], 'c2': [0, 8], 'c3': [0, 8], 'c4': [0, 8], 'c5': [0, 8], 'c6': [0, 8], 'c7': [0, 8], 'c8': [0, 8], 'c9': [0, 8], 'c10': [0, 8], 'c11': [0, 8], 'c12': [0, 8], 'c13': [0, 8], 'c14': [0, 8], 'c15': [0, 8], 'c16': [0, 8]}\n",
      "\u001b[93m---Optimizing TEOS by BO ---\u001b[0m\n",
      "|   iter    |  target   |    c1     |    c10    |    c11    |    c12    |    c13    |    c14    |    c15    |    c16    |    c2     |    c3     |    c4     |    c5     |    c6     |    c7     |    c8     |    c9     |\n",
      "-------------------------------------------------------------------------------------------------------------------------------------------------------------------------------------------------------------------------\n"
     ]
    },
    {
     "name": "stderr",
     "output_type": "stream",
     "text": [
      "/home/tangosvc/anaconda3/lib/python3.7/site-packages/ipykernel_launcher.py:226: SettingWithCopyWarning: \n",
      "A value is trying to be set on a copy of a slice from a DataFrame\n",
      "\n",
      "See the caveats in the documentation: http://pandas.pydata.org/pandas-docs/stable/indexing.html#indexing-view-versus-copy\n"
     ]
    },
    {
     "name": "stdout",
     "output_type": "stream",
     "text": [
      "Request 파일(/home/tangosvc/code/data/20191112/SON_TO_TEOS_RL_REQUEST_20191112_[1058].dat)을 생성합니다.\n",
      "\n",
      "TEOS_TO_SON_RL_RESULT_20191112_[1058].dat에 대한 get명령을 실행합니다.\n",
      "| \u001b[0m 1       \u001b[0m | \u001b[0m 163.9   \u001b[0m | \u001b[0m 1.532   \u001b[0m | \u001b[0m 4.977   \u001b[0m | \u001b[0m 3.502   \u001b[0m | \u001b[0m 6.283   \u001b[0m | \u001b[0m 6.24    \u001b[0m | \u001b[0m 2.181   \u001b[0m | \u001b[0m 2.212   \u001b[0m | \u001b[0m 6.415   \u001b[0m | \u001b[0m 7.665   \u001b[0m | \u001b[0m 7.007   \u001b[0m | \u001b[0m 2.863   \u001b[0m | \u001b[0m 4.008   \u001b[0m | \u001b[0m 5.468   \u001b[0m | \u001b[0m 5.702   \u001b[0m | \u001b[0m 2.962   \u001b[0m | \u001b[0m 4.49    \u001b[0m |\n",
      "Request 파일(/home/tangosvc/code/data/20191112/SON_TO_TEOS_RL_REQUEST_20191112_[1059].dat)을 생성합니다.\n",
      "\n",
      "TEOS_TO_SON_RL_RESULT_20191112_[1059].dat에 대한 get명령을 실행합니다.\n",
      "파일 TEOS_TO_SON_RL_RESULT_20191112_[1059].dat이 없어 60초 대기후 다시 확인합니다(최대60회).\n",
      "파일 TEOS_TO_SON_RL_RESULT_20191112_[1059].dat이 없어 60초 대기후 다시 확인합니다(최대60회).\n",
      "파일 TEOS_TO_SON_RL_RESULT_20191112_[1059].dat이 없어 60초 대기후 다시 확인합니다(최대60회).\n",
      "파일 TEOS_TO_SON_RL_RESULT_20191112_[1059].dat이 없어 60초 대기후 다시 확인합니다(최대60회).\n",
      "파일 TEOS_TO_SON_RL_RESULT_20191112_[1059].dat이 없어 60초 대기후 다시 확인합니다(최대60회).\n",
      "파일 TEOS_TO_SON_RL_RESULT_20191112_[1059].dat이 없어 60초 대기후 다시 확인합니다(최대60회).\n",
      "파일 TEOS_TO_SON_RL_RESULT_20191112_[1059].dat이 없어 60초 대기후 다시 확인합니다(최대60회).\n",
      "파일 TEOS_TO_SON_RL_RESULT_20191112_[1059].dat이 없어 60초 대기후 다시 확인합니다(최대60회).\n",
      "파일 TEOS_TO_SON_RL_RESULT_20191112_[1059].dat이 없어 60초 대기후 다시 확인합니다(최대60회).\n",
      "파일 TEOS_TO_SON_RL_RESULT_20191112_[1059].dat이 없어 60초 대기후 다시 확인합니다(최대60회).\n",
      "| \u001b[0m 2       \u001b[0m | \u001b[0m 142.3   \u001b[0m | \u001b[0m 4.025   \u001b[0m | \u001b[0m 0.1101  \u001b[0m | \u001b[0m 6.183   \u001b[0m | \u001b[0m 7.061   \u001b[0m | \u001b[0m 2.919   \u001b[0m | \u001b[0m 4.923   \u001b[0m | \u001b[0m 0.603   \u001b[0m | \u001b[0m 2.951   \u001b[0m | \u001b[0m 7.465   \u001b[0m | \u001b[0m 5.211   \u001b[0m | \u001b[0m 3.178   \u001b[0m | \u001b[0m 6.31    \u001b[0m | \u001b[0m 2.535   \u001b[0m | \u001b[0m 4.545   \u001b[0m | \u001b[0m 6.953   \u001b[0m | \u001b[0m 3.489   \u001b[0m |\n",
      "Request 파일(/home/tangosvc/code/data/20191112/SON_TO_TEOS_RL_REQUEST_20191112_[1060].dat)을 생성합니다.\n",
      "\n",
      "TEOS_TO_SON_RL_RESULT_20191112_[1060].dat에 대한 get명령을 실행합니다.\n",
      "파일 TEOS_TO_SON_RL_RESULT_20191112_[1060].dat이 없어 60초 대기후 다시 확인합니다(최대60회).\n",
      "파일 TEOS_TO_SON_RL_RESULT_20191112_[1060].dat이 없어 60초 대기후 다시 확인합니다(최대60회).\n",
      "파일 TEOS_TO_SON_RL_RESULT_20191112_[1060].dat이 없어 60초 대기후 다시 확인합니다(최대60회).\n",
      "파일 TEOS_TO_SON_RL_RESULT_20191112_[1060].dat이 없어 60초 대기후 다시 확인합니다(최대60회).\n",
      "파일 TEOS_TO_SON_RL_RESULT_20191112_[1060].dat이 없어 60초 대기후 다시 확인합니다(최대60회).\n",
      "파일 TEOS_TO_SON_RL_RESULT_20191112_[1060].dat이 없어 60초 대기후 다시 확인합니다(최대60회).\n",
      "파일 TEOS_TO_SON_RL_RESULT_20191112_[1060].dat이 없어 60초 대기후 다시 확인합니다(최대60회).\n",
      "파일 TEOS_TO_SON_RL_RESULT_20191112_[1060].dat이 없어 60초 대기후 다시 확인합니다(최대60회).\n",
      "파일 TEOS_TO_SON_RL_RESULT_20191112_[1060].dat이 없어 60초 대기후 다시 확인합니다(최대60회).\n",
      "파일 TEOS_TO_SON_RL_RESULT_20191112_[1060].dat이 없어 60초 대기후 다시 확인합니다(최대60회).\n",
      "| \u001b[0m 3       \u001b[0m | \u001b[0m 131.7   \u001b[0m | \u001b[0m 6.417   \u001b[0m | \u001b[0m 1.15    \u001b[0m | \u001b[0m 5.634   \u001b[0m | \u001b[0m 5.637   \u001b[0m | \u001b[0m 1.75    \u001b[0m | \u001b[0m 7.399   \u001b[0m | \u001b[0m 3.537   \u001b[0m | \u001b[0m 7.275   \u001b[0m | \u001b[0m 0.4785  \u001b[0m | \u001b[0m 1.474   \u001b[0m | \u001b[0m 0.3788  \u001b[0m | \u001b[0m 5.399   \u001b[0m | \u001b[0m 4.757   \u001b[0m | \u001b[0m 4.266   \u001b[0m | \u001b[0m 0.3466  \u001b[0m | \u001b[0m 4.491   \u001b[0m |\n",
      "Request 파일(/home/tangosvc/code/data/20191112/SON_TO_TEOS_RL_REQUEST_20191112_[1061].dat)을 생성합니다.\n",
      "\n",
      "TEOS_TO_SON_RL_RESULT_20191112_[1061].dat에 대한 get명령을 실행합니다.\n",
      "파일 TEOS_TO_SON_RL_RESULT_20191112_[1061].dat이 없어 60초 대기후 다시 확인합니다(최대60회).\n",
      "파일 TEOS_TO_SON_RL_RESULT_20191112_[1061].dat이 없어 60초 대기후 다시 확인합니다(최대60회).\n",
      "파일 TEOS_TO_SON_RL_RESULT_20191112_[1061].dat이 없어 60초 대기후 다시 확인합니다(최대60회).\n",
      "파일 TEOS_TO_SON_RL_RESULT_20191112_[1061].dat이 없어 60초 대기후 다시 확인합니다(최대60회).\n",
      "파일 TEOS_TO_SON_RL_RESULT_20191112_[1061].dat이 없어 60초 대기후 다시 확인합니다(최대60회).\n",
      "파일 TEOS_TO_SON_RL_RESULT_20191112_[1061].dat이 없어 60초 대기후 다시 확인합니다(최대60회).\n",
      "파일 TEOS_TO_SON_RL_RESULT_20191112_[1061].dat이 없어 60초 대기후 다시 확인합니다(최대60회).\n",
      "파일 TEOS_TO_SON_RL_RESULT_20191112_[1061].dat이 없어 60초 대기후 다시 확인합니다(최대60회).\n",
      "파일 TEOS_TO_SON_RL_RESULT_20191112_[1061].dat이 없어 60초 대기후 다시 확인합니다(최대60회).\n",
      "파일 TEOS_TO_SON_RL_RESULT_20191112_[1061].dat이 없어 60초 대기후 다시 확인합니다(최대60회).\n",
      "| \u001b[95m 4       \u001b[0m | \u001b[95m 163.9   \u001b[0m | \u001b[95m 2.637   \u001b[0m | \u001b[95m 4.024   \u001b[0m | \u001b[95m 0.8952  \u001b[0m | \u001b[95m 4.858   \u001b[0m | \u001b[95m 4.528   \u001b[0m | \u001b[95m 0.05411 \u001b[0m | \u001b[95m 4.94    \u001b[0m | \u001b[95m 7.297   \u001b[0m | \u001b[95m 6.324   \u001b[0m | \u001b[95m 7.937   \u001b[0m | \u001b[95m 7.67    \u001b[0m | \u001b[95m 6.336   \u001b[0m | \u001b[95m 2.282   \u001b[0m | \u001b[95m 4.999   \u001b[0m | \u001b[95m 3.825   \u001b[0m | \u001b[95m 1.565   \u001b[0m |\n",
      "Request 파일(/home/tangosvc/code/data/20191112/SON_TO_TEOS_RL_REQUEST_20191112_[1062].dat)을 생성합니다.\n",
      "\n",
      "TEOS_TO_SON_RL_RESULT_20191112_[1062].dat에 대한 get명령을 실행합니다.\n",
      "파일 TEOS_TO_SON_RL_RESULT_20191112_[1062].dat이 없어 60초 대기후 다시 확인합니다(최대60회).\n",
      "파일 TEOS_TO_SON_RL_RESULT_20191112_[1062].dat이 없어 60초 대기후 다시 확인합니다(최대60회).\n",
      "파일 TEOS_TO_SON_RL_RESULT_20191112_[1062].dat이 없어 60초 대기후 다시 확인합니다(최대60회).\n",
      "파일 TEOS_TO_SON_RL_RESULT_20191112_[1062].dat이 없어 60초 대기후 다시 확인합니다(최대60회).\n",
      "파일 TEOS_TO_SON_RL_RESULT_20191112_[1062].dat이 없어 60초 대기후 다시 확인합니다(최대60회).\n",
      "파일 TEOS_TO_SON_RL_RESULT_20191112_[1062].dat이 없어 60초 대기후 다시 확인합니다(최대60회).\n",
      "파일 TEOS_TO_SON_RL_RESULT_20191112_[1062].dat이 없어 60초 대기후 다시 확인합니다(최대60회).\n",
      "파일 TEOS_TO_SON_RL_RESULT_20191112_[1062].dat이 없어 60초 대기후 다시 확인합니다(최대60회).\n",
      "파일 TEOS_TO_SON_RL_RESULT_20191112_[1062].dat이 없어 60초 대기후 다시 확인합니다(최대60회).\n",
      "파일 TEOS_TO_SON_RL_RESULT_20191112_[1062].dat이 없어 60초 대기후 다시 확인합니다(최대60회).\n",
      "| \u001b[0m 5       \u001b[0m | \u001b[0m 121.6   \u001b[0m | \u001b[0m 3.059   \u001b[0m | \u001b[0m 0.431   \u001b[0m | \u001b[0m 3.613   \u001b[0m | \u001b[0m 7.856   \u001b[0m | \u001b[0m 0.9915  \u001b[0m | \u001b[0m 0.955   \u001b[0m | \u001b[0m 5.908   \u001b[0m | \u001b[0m 4.698   \u001b[0m | \u001b[0m 3.773   \u001b[0m | \u001b[0m 0.857   \u001b[0m | \u001b[0m 1.834   \u001b[0m | \u001b[0m 7.2     \u001b[0m | \u001b[0m 3.334   \u001b[0m | \u001b[0m 4.287   \u001b[0m | \u001b[0m 0.04967 \u001b[0m | \u001b[0m 2.405   \u001b[0m |\n",
      "Request 파일(/home/tangosvc/code/data/20191112/SON_TO_TEOS_RL_REQUEST_20191112_[1063].dat)을 생성합니다.\n",
      "\n",
      "TEOS_TO_SON_RL_RESULT_20191112_[1063].dat에 대한 get명령을 실행합니다.\n",
      "파일 TEOS_TO_SON_RL_RESULT_20191112_[1063].dat이 없어 60초 대기후 다시 확인합니다(최대60회).\n",
      "파일 TEOS_TO_SON_RL_RESULT_20191112_[1063].dat이 없어 60초 대기후 다시 확인합니다(최대60회).\n",
      "파일 TEOS_TO_SON_RL_RESULT_20191112_[1063].dat이 없어 60초 대기후 다시 확인합니다(최대60회).\n",
      "파일 TEOS_TO_SON_RL_RESULT_20191112_[1063].dat이 없어 60초 대기후 다시 확인합니다(최대60회).\n",
      "파일 TEOS_TO_SON_RL_RESULT_20191112_[1063].dat이 없어 60초 대기후 다시 확인합니다(최대60회).\n",
      "파일 TEOS_TO_SON_RL_RESULT_20191112_[1063].dat이 없어 60초 대기후 다시 확인합니다(최대60회).\n",
      "파일 TEOS_TO_SON_RL_RESULT_20191112_[1063].dat이 없어 60초 대기후 다시 확인합니다(최대60회).\n",
      "파일 TEOS_TO_SON_RL_RESULT_20191112_[1063].dat이 없어 60초 대기후 다시 확인합니다(최대60회).\n",
      "파일 TEOS_TO_SON_RL_RESULT_20191112_[1063].dat이 없어 60초 대기후 다시 확인합니다(최대60회).\n",
      "파일 TEOS_TO_SON_RL_RESULT_20191112_[1063].dat이 없어 60초 대기후 다시 확인합니다(최대60회).\n",
      "| \u001b[95m 6       \u001b[0m | \u001b[95m 170.4   \u001b[0m | \u001b[95m 3.495   \u001b[0m | \u001b[95m 4.897   \u001b[0m | \u001b[95m 7.346   \u001b[0m | \u001b[95m 5.006   \u001b[0m | \u001b[95m 5.648   \u001b[0m | \u001b[95m 1.199   \u001b[0m | \u001b[95m 5.969   \u001b[0m | \u001b[95m 6.648   \u001b[0m | \u001b[95m 5.07    \u001b[0m | \u001b[95m 3.506   \u001b[0m | \u001b[95m 1.221   \u001b[0m | \u001b[95m 4.547   \u001b[0m | \u001b[95m 4.226   \u001b[0m | \u001b[95m 7.611   \u001b[0m | \u001b[95m 3.843   \u001b[0m | \u001b[95m 4.02    \u001b[0m |\n",
      "Request 파일(/home/tangosvc/code/data/20191112/SON_TO_TEOS_RL_REQUEST_20191112_[1064].dat)을 생성합니다.\n",
      "\n",
      "TEOS_TO_SON_RL_RESULT_20191112_[1064].dat에 대한 get명령을 실행합니다.\n",
      "파일 TEOS_TO_SON_RL_RESULT_20191112_[1064].dat이 없어 60초 대기후 다시 확인합니다(최대60회).\n",
      "파일 TEOS_TO_SON_RL_RESULT_20191112_[1064].dat이 없어 60초 대기후 다시 확인합니다(최대60회).\n",
      "파일 TEOS_TO_SON_RL_RESULT_20191112_[1064].dat이 없어 60초 대기후 다시 확인합니다(최대60회).\n",
      "파일 TEOS_TO_SON_RL_RESULT_20191112_[1064].dat이 없어 60초 대기후 다시 확인합니다(최대60회).\n",
      "파일 TEOS_TO_SON_RL_RESULT_20191112_[1064].dat이 없어 60초 대기후 다시 확인합니다(최대60회).\n",
      "파일 TEOS_TO_SON_RL_RESULT_20191112_[1064].dat이 없어 60초 대기후 다시 확인합니다(최대60회).\n",
      "파일 TEOS_TO_SON_RL_RESULT_20191112_[1064].dat이 없어 60초 대기후 다시 확인합니다(최대60회).\n",
      "파일 TEOS_TO_SON_RL_RESULT_20191112_[1064].dat이 없어 60초 대기후 다시 확인합니다(최대60회).\n",
      "파일 TEOS_TO_SON_RL_RESULT_20191112_[1064].dat이 없어 60초 대기후 다시 확인합니다(최대60회).\n",
      "파일 TEOS_TO_SON_RL_RESULT_20191112_[1064].dat이 없어 60초 대기후 다시 확인합니다(최대60회).\n",
      "| \u001b[0m 7       \u001b[0m | \u001b[0m 134.4   \u001b[0m | \u001b[0m 4.295   \u001b[0m | \u001b[0m 6.554   \u001b[0m | \u001b[0m 0.4569  \u001b[0m | \u001b[0m 5.355   \u001b[0m | \u001b[0m 6.137   \u001b[0m | \u001b[0m 5.665   \u001b[0m | \u001b[0m 6.375   \u001b[0m | \u001b[0m 4.462   \u001b[0m | \u001b[0m 7.727   \u001b[0m | \u001b[0m 1.177   \u001b[0m | \u001b[0m 0.2372  \u001b[0m | \u001b[0m 4.751   \u001b[0m | \u001b[0m 0.9125  \u001b[0m | \u001b[0m 7.606   \u001b[0m | \u001b[0m 2.606   \u001b[0m | \u001b[0m 1.549   \u001b[0m |\n",
      "Request 파일(/home/tangosvc/code/data/20191112/SON_TO_TEOS_RL_REQUEST_20191112_[1065].dat)을 생성합니다.\n",
      "\n",
      "TEOS_TO_SON_RL_RESULT_20191112_[1065].dat에 대한 get명령을 실행합니다.\n"
     ]
    },
    {
     "name": "stdout",
     "output_type": "stream",
     "text": [
      "파일 TEOS_TO_SON_RL_RESULT_20191112_[1065].dat이 없어 60초 대기후 다시 확인합니다(최대60회).\n",
      "파일 TEOS_TO_SON_RL_RESULT_20191112_[1065].dat이 없어 60초 대기후 다시 확인합니다(최대60회).\n",
      "파일 TEOS_TO_SON_RL_RESULT_20191112_[1065].dat이 없어 60초 대기후 다시 확인합니다(최대60회).\n",
      "파일 TEOS_TO_SON_RL_RESULT_20191112_[1065].dat이 없어 60초 대기후 다시 확인합니다(최대60회).\n",
      "파일 TEOS_TO_SON_RL_RESULT_20191112_[1065].dat이 없어 60초 대기후 다시 확인합니다(최대60회).\n",
      "파일 TEOS_TO_SON_RL_RESULT_20191112_[1065].dat이 없어 60초 대기후 다시 확인합니다(최대60회).\n",
      "파일 TEOS_TO_SON_RL_RESULT_20191112_[1065].dat이 없어 60초 대기후 다시 확인합니다(최대60회).\n",
      "파일 TEOS_TO_SON_RL_RESULT_20191112_[1065].dat이 없어 60초 대기후 다시 확인합니다(최대60회).\n",
      "파일 TEOS_TO_SON_RL_RESULT_20191112_[1065].dat이 없어 60초 대기후 다시 확인합니다(최대60회).\n",
      "파일 TEOS_TO_SON_RL_RESULT_20191112_[1065].dat이 없어 60초 대기후 다시 확인합니다(최대60회).\n",
      "| \u001b[0m 8       \u001b[0m | \u001b[0m 170.3   \u001b[0m | \u001b[0m 3.662   \u001b[0m | \u001b[0m 7.363   \u001b[0m | \u001b[0m 7.033   \u001b[0m | \u001b[0m 2.021   \u001b[0m | \u001b[0m 2.784   \u001b[0m | \u001b[0m 1.461   \u001b[0m | \u001b[0m 7.214   \u001b[0m | \u001b[0m 5.652   \u001b[0m | \u001b[0m 5.813   \u001b[0m | \u001b[0m 7.201   \u001b[0m | \u001b[0m 6.233   \u001b[0m | \u001b[0m 4.793   \u001b[0m | \u001b[0m 2.329   \u001b[0m | \u001b[0m 1.211   \u001b[0m | \u001b[0m 2.681   \u001b[0m | \u001b[0m 5.26    \u001b[0m |\n",
      "Request 파일(/home/tangosvc/code/data/20191112/SON_TO_TEOS_RL_REQUEST_20191112_[1066].dat)을 생성합니다.\n",
      "\n",
      "TEOS_TO_SON_RL_RESULT_20191112_[1066].dat에 대한 get명령을 실행합니다.\n",
      "파일 TEOS_TO_SON_RL_RESULT_20191112_[1066].dat이 없어 60초 대기후 다시 확인합니다(최대60회).\n",
      "파일 TEOS_TO_SON_RL_RESULT_20191112_[1066].dat이 없어 60초 대기후 다시 확인합니다(최대60회).\n",
      "파일 TEOS_TO_SON_RL_RESULT_20191112_[1066].dat이 없어 60초 대기후 다시 확인합니다(최대60회).\n",
      "파일 TEOS_TO_SON_RL_RESULT_20191112_[1066].dat이 없어 60초 대기후 다시 확인합니다(최대60회).\n",
      "파일 TEOS_TO_SON_RL_RESULT_20191112_[1066].dat이 없어 60초 대기후 다시 확인합니다(최대60회).\n",
      "파일 TEOS_TO_SON_RL_RESULT_20191112_[1066].dat이 없어 60초 대기후 다시 확인합니다(최대60회).\n",
      "파일 TEOS_TO_SON_RL_RESULT_20191112_[1066].dat이 없어 60초 대기후 다시 확인합니다(최대60회).\n",
      "파일 TEOS_TO_SON_RL_RESULT_20191112_[1066].dat이 없어 60초 대기후 다시 확인합니다(최대60회).\n",
      "파일 TEOS_TO_SON_RL_RESULT_20191112_[1066].dat이 없어 60초 대기후 다시 확인합니다(최대60회).\n",
      "파일 TEOS_TO_SON_RL_RESULT_20191112_[1066].dat이 없어 60초 대기후 다시 확인합니다(최대60회).\n",
      "| \u001b[0m 9       \u001b[0m | \u001b[0m 139.2   \u001b[0m | \u001b[0m 0.5867  \u001b[0m | \u001b[0m 0.4401  \u001b[0m | \u001b[0m 2.586   \u001b[0m | \u001b[0m 4.724   \u001b[0m | \u001b[0m 6.831   \u001b[0m | \u001b[0m 2.296   \u001b[0m | \u001b[0m 1.385   \u001b[0m | \u001b[0m 1.072   \u001b[0m | \u001b[0m 7.957   \u001b[0m | \u001b[0m 1.436   \u001b[0m | \u001b[0m 2.54    \u001b[0m | \u001b[0m 4.546   \u001b[0m | \u001b[0m 0.07479 \u001b[0m | \u001b[0m 7.205   \u001b[0m | \u001b[0m 7.818   \u001b[0m | \u001b[0m 4.455   \u001b[0m |\n",
      "Request 파일(/home/tangosvc/code/data/20191112/SON_TO_TEOS_RL_REQUEST_20191112_[1067].dat)을 생성합니다.\n",
      "\n",
      "TEOS_TO_SON_RL_RESULT_20191112_[1067].dat에 대한 get명령을 실행합니다.\n",
      "파일 TEOS_TO_SON_RL_RESULT_20191112_[1067].dat이 없어 60초 대기후 다시 확인합니다(최대60회).\n",
      "파일 TEOS_TO_SON_RL_RESULT_20191112_[1067].dat이 없어 60초 대기후 다시 확인합니다(최대60회).\n",
      "파일 TEOS_TO_SON_RL_RESULT_20191112_[1067].dat이 없어 60초 대기후 다시 확인합니다(최대60회).\n",
      "파일 TEOS_TO_SON_RL_RESULT_20191112_[1067].dat이 없어 60초 대기후 다시 확인합니다(최대60회).\n",
      "파일 TEOS_TO_SON_RL_RESULT_20191112_[1067].dat이 없어 60초 대기후 다시 확인합니다(최대60회).\n",
      "파일 TEOS_TO_SON_RL_RESULT_20191112_[1067].dat이 없어 60초 대기후 다시 확인합니다(최대60회).\n",
      "파일 TEOS_TO_SON_RL_RESULT_20191112_[1067].dat이 없어 60초 대기후 다시 확인합니다(최대60회).\n",
      "파일 TEOS_TO_SON_RL_RESULT_20191112_[1067].dat이 없어 60초 대기후 다시 확인합니다(최대60회).\n",
      "파일 TEOS_TO_SON_RL_RESULT_20191112_[1067].dat이 없어 60초 대기후 다시 확인합니다(최대60회).\n",
      "파일 TEOS_TO_SON_RL_RESULT_20191112_[1067].dat이 없어 60초 대기후 다시 확인합니다(최대60회).\n",
      "| \u001b[95m 10      \u001b[0m | \u001b[95m 174.1   \u001b[0m | \u001b[95m 0.6782  \u001b[0m | \u001b[95m 2.664   \u001b[0m | \u001b[95m 5.827   \u001b[0m | \u001b[95m 1.139   \u001b[0m | \u001b[95m 4.42    \u001b[0m | \u001b[95m 2.184   \u001b[0m | \u001b[95m 7.796   \u001b[0m | \u001b[95m 5.342   \u001b[0m | \u001b[95m 2.045   \u001b[0m | \u001b[95m 0.8665  \u001b[0m | \u001b[95m 6.209   \u001b[0m | \u001b[95m 6.26    \u001b[0m | \u001b[95m 6.093   \u001b[0m | \u001b[95m 7.315   \u001b[0m | \u001b[95m 5.269   \u001b[0m | \u001b[95m 4.547   \u001b[0m |\n",
      "Request 파일(/home/tangosvc/code/data/20191112/SON_TO_TEOS_RL_REQUEST_20191112_[1068].dat)을 생성합니다.\n",
      "\n",
      "TEOS_TO_SON_RL_RESULT_20191112_[1068].dat에 대한 get명령을 실행합니다.\n",
      "파일 TEOS_TO_SON_RL_RESULT_20191112_[1068].dat이 없어 60초 대기후 다시 확인합니다(최대60회).\n",
      "파일 TEOS_TO_SON_RL_RESULT_20191112_[1068].dat이 없어 60초 대기후 다시 확인합니다(최대60회).\n",
      "파일 TEOS_TO_SON_RL_RESULT_20191112_[1068].dat이 없어 60초 대기후 다시 확인합니다(최대60회).\n",
      "파일 TEOS_TO_SON_RL_RESULT_20191112_[1068].dat이 없어 60초 대기후 다시 확인합니다(최대60회).\n",
      "파일 TEOS_TO_SON_RL_RESULT_20191112_[1068].dat이 없어 60초 대기후 다시 확인합니다(최대60회).\n",
      "파일 TEOS_TO_SON_RL_RESULT_20191112_[1068].dat이 없어 60초 대기후 다시 확인합니다(최대60회).\n",
      "파일 TEOS_TO_SON_RL_RESULT_20191112_[1068].dat이 없어 60초 대기후 다시 확인합니다(최대60회).\n",
      "파일 TEOS_TO_SON_RL_RESULT_20191112_[1068].dat이 없어 60초 대기후 다시 확인합니다(최대60회).\n",
      "파일 TEOS_TO_SON_RL_RESULT_20191112_[1068].dat이 없어 60초 대기후 다시 확인합니다(최대60회).\n",
      "파일 TEOS_TO_SON_RL_RESULT_20191112_[1068].dat이 없어 60초 대기후 다시 확인합니다(최대60회).\n",
      "| \u001b[0m 11      \u001b[0m | \u001b[0m 154.5   \u001b[0m | \u001b[0m 1.614   \u001b[0m | \u001b[0m 5.586   \u001b[0m | \u001b[0m 7.618   \u001b[0m | \u001b[0m 7.12    \u001b[0m | \u001b[0m 7.949   \u001b[0m | \u001b[0m 6.55    \u001b[0m | \u001b[0m 4.361   \u001b[0m | \u001b[0m 3.61    \u001b[0m | \u001b[0m 7.124   \u001b[0m | \u001b[0m 7.786   \u001b[0m | \u001b[0m 4.747   \u001b[0m | \u001b[0m 2.929   \u001b[0m | \u001b[0m 2.585   \u001b[0m | \u001b[0m 6.971   \u001b[0m | \u001b[0m 1.725   \u001b[0m | \u001b[0m 5.88    \u001b[0m |\n",
      "Request 파일(/home/tangosvc/code/data/20191112/SON_TO_TEOS_RL_REQUEST_20191112_[1069].dat)을 생성합니다.\n",
      "\n",
      "TEOS_TO_SON_RL_RESULT_20191112_[1069].dat에 대한 get명령을 실행합니다.\n",
      "파일 TEOS_TO_SON_RL_RESULT_20191112_[1069].dat이 없어 60초 대기후 다시 확인합니다(최대60회).\n",
      "파일 TEOS_TO_SON_RL_RESULT_20191112_[1069].dat이 없어 60초 대기후 다시 확인합니다(최대60회).\n",
      "파일 TEOS_TO_SON_RL_RESULT_20191112_[1069].dat이 없어 60초 대기후 다시 확인합니다(최대60회).\n",
      "파일 TEOS_TO_SON_RL_RESULT_20191112_[1069].dat이 없어 60초 대기후 다시 확인합니다(최대60회).\n",
      "파일 TEOS_TO_SON_RL_RESULT_20191112_[1069].dat이 없어 60초 대기후 다시 확인합니다(최대60회).\n",
      "파일 TEOS_TO_SON_RL_RESULT_20191112_[1069].dat이 없어 60초 대기후 다시 확인합니다(최대60회).\n",
      "파일 TEOS_TO_SON_RL_RESULT_20191112_[1069].dat이 없어 60초 대기후 다시 확인합니다(최대60회).\n",
      "파일 TEOS_TO_SON_RL_RESULT_20191112_[1069].dat이 없어 60초 대기후 다시 확인합니다(최대60회).\n",
      "파일 TEOS_TO_SON_RL_RESULT_20191112_[1069].dat이 없어 60초 대기후 다시 확인합니다(최대60회).\n",
      "파일 TEOS_TO_SON_RL_RESULT_20191112_[1069].dat이 없어 60초 대기후 다시 확인합니다(최대60회).\n",
      "| \u001b[0m 12      \u001b[0m | \u001b[0m 169.4   \u001b[0m | \u001b[0m 2.925   \u001b[0m | \u001b[0m 6.413   \u001b[0m | \u001b[0m 6.262   \u001b[0m | \u001b[0m 5.611   \u001b[0m | \u001b[0m 4.982   \u001b[0m | \u001b[0m 3.949   \u001b[0m | \u001b[0m 6.724   \u001b[0m | \u001b[0m 5.697   \u001b[0m | \u001b[0m 3.551   \u001b[0m | \u001b[0m 0.2483  \u001b[0m | \u001b[0m 2.906   \u001b[0m | \u001b[0m 5.846   \u001b[0m | \u001b[0m 3.805   \u001b[0m | \u001b[0m 2.755   \u001b[0m | \u001b[0m 5.127   \u001b[0m | \u001b[0m 1.01    \u001b[0m |\n",
      "Request 파일(/home/tangosvc/code/data/20191112/SON_TO_TEOS_RL_REQUEST_20191112_[1070].dat)을 생성합니다.\n",
      "\n",
      "TEOS_TO_SON_RL_RESULT_20191112_[1070].dat에 대한 get명령을 실행합니다.\n",
      "파일 TEOS_TO_SON_RL_RESULT_20191112_[1070].dat이 없어 60초 대기후 다시 확인합니다(최대60회).\n",
      "파일 TEOS_TO_SON_RL_RESULT_20191112_[1070].dat이 없어 60초 대기후 다시 확인합니다(최대60회).\n",
      "파일 TEOS_TO_SON_RL_RESULT_20191112_[1070].dat이 없어 60초 대기후 다시 확인합니다(최대60회).\n",
      "파일 TEOS_TO_SON_RL_RESULT_20191112_[1070].dat이 없어 60초 대기후 다시 확인합니다(최대60회).\n",
      "파일 TEOS_TO_SON_RL_RESULT_20191112_[1070].dat이 없어 60초 대기후 다시 확인합니다(최대60회).\n",
      "파일 TEOS_TO_SON_RL_RESULT_20191112_[1070].dat이 없어 60초 대기후 다시 확인합니다(최대60회).\n",
      "파일 TEOS_TO_SON_RL_RESULT_20191112_[1070].dat이 없어 60초 대기후 다시 확인합니다(최대60회).\n",
      "파일 TEOS_TO_SON_RL_RESULT_20191112_[1070].dat이 없어 60초 대기후 다시 확인합니다(최대60회).\n",
      "파일 TEOS_TO_SON_RL_RESULT_20191112_[1070].dat이 없어 60초 대기후 다시 확인합니다(최대60회).\n",
      "파일 TEOS_TO_SON_RL_RESULT_20191112_[1070].dat이 없어 60초 대기후 다시 확인합니다(최대60회).\n",
      "| \u001b[0m 13      \u001b[0m | \u001b[0m 120.0   \u001b[0m | \u001b[0m 1.372   \u001b[0m | \u001b[0m 5.897   \u001b[0m | \u001b[0m 1.016   \u001b[0m | \u001b[0m 2.957   \u001b[0m | \u001b[0m 4.835   \u001b[0m | \u001b[0m 0.8248  \u001b[0m | \u001b[0m 6.419   \u001b[0m | \u001b[0m 7.564   \u001b[0m | \u001b[0m 7.832   \u001b[0m | \u001b[0m 7.05    \u001b[0m | \u001b[0m 5.021   \u001b[0m | \u001b[0m 7.444   \u001b[0m | \u001b[0m 5.798   \u001b[0m | \u001b[0m 5.733   \u001b[0m | \u001b[0m 0.3286  \u001b[0m | \u001b[0m 3.516   \u001b[0m |\n",
      "Request 파일(/home/tangosvc/code/data/20191112/SON_TO_TEOS_RL_REQUEST_20191112_[1071].dat)을 생성합니다.\n",
      "\n",
      "TEOS_TO_SON_RL_RESULT_20191112_[1071].dat에 대한 get명령을 실행합니다.\n",
      "파일 TEOS_TO_SON_RL_RESULT_20191112_[1071].dat이 없어 60초 대기후 다시 확인합니다(최대60회).\n",
      "파일 TEOS_TO_SON_RL_RESULT_20191112_[1071].dat이 없어 60초 대기후 다시 확인합니다(최대60회).\n",
      "파일 TEOS_TO_SON_RL_RESULT_20191112_[1071].dat이 없어 60초 대기후 다시 확인합니다(최대60회).\n",
      "파일 TEOS_TO_SON_RL_RESULT_20191112_[1071].dat이 없어 60초 대기후 다시 확인합니다(최대60회).\n",
      "파일 TEOS_TO_SON_RL_RESULT_20191112_[1071].dat이 없어 60초 대기후 다시 확인합니다(최대60회).\n",
      "파일 TEOS_TO_SON_RL_RESULT_20191112_[1071].dat이 없어 60초 대기후 다시 확인합니다(최대60회).\n",
      "파일 TEOS_TO_SON_RL_RESULT_20191112_[1071].dat이 없어 60초 대기후 다시 확인합니다(최대60회).\n",
      "파일 TEOS_TO_SON_RL_RESULT_20191112_[1071].dat이 없어 60초 대기후 다시 확인합니다(최대60회).\n",
      "파일 TEOS_TO_SON_RL_RESULT_20191112_[1071].dat이 없어 60초 대기후 다시 확인합니다(최대60회).\n"
     ]
    },
    {
     "name": "stdout",
     "output_type": "stream",
     "text": [
      "파일 TEOS_TO_SON_RL_RESULT_20191112_[1071].dat이 없어 60초 대기후 다시 확인합니다(최대60회).\n",
      "| \u001b[0m 14      \u001b[0m | \u001b[0m 137.3   \u001b[0m | \u001b[0m 2.257   \u001b[0m | \u001b[0m 2.68    \u001b[0m | \u001b[0m 0.6682  \u001b[0m | \u001b[0m 6.087   \u001b[0m | \u001b[0m 4.074   \u001b[0m | \u001b[0m 5.288   \u001b[0m | \u001b[0m 5.043   \u001b[0m | \u001b[0m 2.967   \u001b[0m | \u001b[0m 3.574   \u001b[0m | \u001b[0m 3.321   \u001b[0m | \u001b[0m 3.843   \u001b[0m | \u001b[0m 7.867   \u001b[0m | \u001b[0m 2.987   \u001b[0m | \u001b[0m 0.09926 \u001b[0m | \u001b[0m 7.375   \u001b[0m | \u001b[0m 6.986   \u001b[0m |\n",
      "Request 파일(/home/tangosvc/code/data/20191112/SON_TO_TEOS_RL_REQUEST_20191112_[1072].dat)을 생성합니다.\n",
      "\n",
      "TEOS_TO_SON_RL_RESULT_20191112_[1072].dat에 대한 get명령을 실행합니다.\n",
      "파일 TEOS_TO_SON_RL_RESULT_20191112_[1072].dat이 없어 60초 대기후 다시 확인합니다(최대60회).\n",
      "파일 TEOS_TO_SON_RL_RESULT_20191112_[1072].dat이 없어 60초 대기후 다시 확인합니다(최대60회).\n",
      "파일 TEOS_TO_SON_RL_RESULT_20191112_[1072].dat이 없어 60초 대기후 다시 확인합니다(최대60회).\n",
      "파일 TEOS_TO_SON_RL_RESULT_20191112_[1072].dat이 없어 60초 대기후 다시 확인합니다(최대60회).\n",
      "파일 TEOS_TO_SON_RL_RESULT_20191112_[1072].dat이 없어 60초 대기후 다시 확인합니다(최대60회).\n",
      "파일 TEOS_TO_SON_RL_RESULT_20191112_[1072].dat이 없어 60초 대기후 다시 확인합니다(최대60회).\n",
      "파일 TEOS_TO_SON_RL_RESULT_20191112_[1072].dat이 없어 60초 대기후 다시 확인합니다(최대60회).\n",
      "파일 TEOS_TO_SON_RL_RESULT_20191112_[1072].dat이 없어 60초 대기후 다시 확인합니다(최대60회).\n",
      "파일 TEOS_TO_SON_RL_RESULT_20191112_[1072].dat이 없어 60초 대기후 다시 확인합니다(최대60회).\n",
      "파일 TEOS_TO_SON_RL_RESULT_20191112_[1072].dat이 없어 60초 대기후 다시 확인합니다(최대60회).\n",
      "| \u001b[0m 15      \u001b[0m | \u001b[0m 127.8   \u001b[0m | \u001b[0m 2.814   \u001b[0m | \u001b[0m 5.041   \u001b[0m | \u001b[0m 2.863   \u001b[0m | \u001b[0m 1.703   \u001b[0m | \u001b[0m 1.787   \u001b[0m | \u001b[0m 3.357   \u001b[0m | \u001b[0m 0.5833  \u001b[0m | \u001b[0m 5.207   \u001b[0m | \u001b[0m 6.045   \u001b[0m | \u001b[0m 7.457   \u001b[0m | \u001b[0m 3.011   \u001b[0m | \u001b[0m 2.375   \u001b[0m | \u001b[0m 2.976   \u001b[0m | \u001b[0m 6.622   \u001b[0m | \u001b[0m 7.209   \u001b[0m | \u001b[0m 3.418   \u001b[0m |\n"
     ]
    },
    {
     "name": "stderr",
     "output_type": "stream",
     "text": [
      "/home/tangosvc/anaconda3/lib/python3.7/site-packages/ipykernel_launcher.py:226: SettingWithCopyWarning: \n",
      "A value is trying to be set on a copy of a slice from a DataFrame\n",
      "\n",
      "See the caveats in the documentation: http://pandas.pydata.org/pandas-docs/stable/indexing.html#indexing-view-versus-copy\n"
     ]
    },
    {
     "name": "stdout",
     "output_type": "stream",
     "text": [
      "Request 파일(/home/tangosvc/code/data/20191112/SON_TO_TEOS_RL_REQUEST_20191112_[1073].dat)을 생성합니다.\n",
      "\n",
      "TEOS_TO_SON_RL_RESULT_20191112_[1073].dat에 대한 get명령을 실행합니다.\n",
      "파일 TEOS_TO_SON_RL_RESULT_20191112_[1073].dat이 없어 60초 대기후 다시 확인합니다(최대60회).\n",
      "파일 TEOS_TO_SON_RL_RESULT_20191112_[1073].dat이 없어 60초 대기후 다시 확인합니다(최대60회).\n",
      "파일 TEOS_TO_SON_RL_RESULT_20191112_[1073].dat이 없어 60초 대기후 다시 확인합니다(최대60회).\n",
      "파일 TEOS_TO_SON_RL_RESULT_20191112_[1073].dat이 없어 60초 대기후 다시 확인합니다(최대60회).\n",
      "파일 TEOS_TO_SON_RL_RESULT_20191112_[1073].dat이 없어 60초 대기후 다시 확인합니다(최대60회).\n",
      "파일 TEOS_TO_SON_RL_RESULT_20191112_[1073].dat이 없어 60초 대기후 다시 확인합니다(최대60회).\n",
      "파일 TEOS_TO_SON_RL_RESULT_20191112_[1073].dat이 없어 60초 대기후 다시 확인합니다(최대60회).\n",
      "파일 TEOS_TO_SON_RL_RESULT_20191112_[1073].dat이 없어 60초 대기후 다시 확인합니다(최대60회).\n",
      "파일 TEOS_TO_SON_RL_RESULT_20191112_[1073].dat이 없어 60초 대기후 다시 확인합니다(최대60회).\n"
     ]
    },
    {
     "name": "stderr",
     "output_type": "stream",
     "text": [
      "/home/tangosvc/anaconda3/lib/python3.7/site-packages/pandas/core/reshape/merge.py:522: UserWarning: merging between different levels can give an unintended result (2 levels on the left, 1 on the right)\n",
      "  warnings.warn(msg, UserWarning)\n"
     ]
    },
    {
     "name": "stdout",
     "output_type": "stream",
     "text": [
      "| \u001b[0m 16      \u001b[0m | \u001b[0m 173.2   \u001b[0m | \u001b[0m 2.614   \u001b[0m | \u001b[0m 4.215   \u001b[0m | \u001b[0m 5.997   \u001b[0m | \u001b[0m 4.457   \u001b[0m | \u001b[0m 5.84    \u001b[0m | \u001b[0m 2.451   \u001b[0m | \u001b[0m 5.709   \u001b[0m | \u001b[0m 5.66    \u001b[0m | \u001b[0m 4.294   \u001b[0m | \u001b[0m 4.198   \u001b[0m | \u001b[0m 6.338   \u001b[0m | \u001b[0m 4.647   \u001b[0m | \u001b[0m 2.983   \u001b[0m | \u001b[0m 4.437   \u001b[0m | \u001b[0m 4.896   \u001b[0m | \u001b[0m 3.947   \u001b[0m |\n"
     ]
    },
    {
     "name": "stderr",
     "output_type": "stream",
     "text": [
      "/home/tangosvc/anaconda3/lib/python3.7/site-packages/ipykernel_launcher.py:226: SettingWithCopyWarning: \n",
      "A value is trying to be set on a copy of a slice from a DataFrame\n",
      "\n",
      "See the caveats in the documentation: http://pandas.pydata.org/pandas-docs/stable/indexing.html#indexing-view-versus-copy\n"
     ]
    },
    {
     "name": "stdout",
     "output_type": "stream",
     "text": [
      "Request 파일(/home/tangosvc/code/data/20191112/SON_TO_TEOS_RL_REQUEST_20191112_[1074].dat)을 생성합니다.\n",
      "\n",
      "TEOS_TO_SON_RL_RESULT_20191112_[1074].dat에 대한 get명령을 실행합니다.\n",
      "파일 TEOS_TO_SON_RL_RESULT_20191112_[1074].dat이 없어 60초 대기후 다시 확인합니다(최대60회).\n",
      "파일 TEOS_TO_SON_RL_RESULT_20191112_[1074].dat이 없어 60초 대기후 다시 확인합니다(최대60회).\n",
      "파일 TEOS_TO_SON_RL_RESULT_20191112_[1074].dat이 없어 60초 대기후 다시 확인합니다(최대60회).\n",
      "파일 TEOS_TO_SON_RL_RESULT_20191112_[1074].dat이 없어 60초 대기후 다시 확인합니다(최대60회).\n",
      "파일 TEOS_TO_SON_RL_RESULT_20191112_[1074].dat이 없어 60초 대기후 다시 확인합니다(최대60회).\n",
      "파일 TEOS_TO_SON_RL_RESULT_20191112_[1074].dat이 없어 60초 대기후 다시 확인합니다(최대60회).\n",
      "파일 TEOS_TO_SON_RL_RESULT_20191112_[1074].dat이 없어 60초 대기후 다시 확인합니다(최대60회).\n",
      "파일 TEOS_TO_SON_RL_RESULT_20191112_[1074].dat이 없어 60초 대기후 다시 확인합니다(최대60회).\n",
      "파일 TEOS_TO_SON_RL_RESULT_20191112_[1074].dat이 없어 60초 대기후 다시 확인합니다(최대60회).\n",
      "파일 TEOS_TO_SON_RL_RESULT_20191112_[1074].dat이 없어 60초 대기후 다시 확인합니다(최대60회).\n"
     ]
    },
    {
     "name": "stderr",
     "output_type": "stream",
     "text": [
      "/home/tangosvc/anaconda3/lib/python3.7/site-packages/pandas/core/reshape/merge.py:522: UserWarning: merging between different levels can give an unintended result (2 levels on the left, 1 on the right)\n",
      "  warnings.warn(msg, UserWarning)\n"
     ]
    },
    {
     "name": "stdout",
     "output_type": "stream",
     "text": [
      "| \u001b[95m 17      \u001b[0m | \u001b[95m 177.0   \u001b[0m | \u001b[95m 2.073   \u001b[0m | \u001b[95m 4.844   \u001b[0m | \u001b[95m 6.572   \u001b[0m | \u001b[95m 3.435   \u001b[0m | \u001b[95m 4.274   \u001b[0m | \u001b[95m 3.115   \u001b[0m | \u001b[95m 6.7     \u001b[0m | \u001b[95m 5.114   \u001b[0m | \u001b[95m 3.796   \u001b[0m | \u001b[95m 2.453   \u001b[0m | \u001b[95m 3.622   \u001b[0m | \u001b[95m 5.815   \u001b[0m | \u001b[95m 4.577   \u001b[0m | \u001b[95m 5.368   \u001b[0m | \u001b[95m 4.993   \u001b[0m | \u001b[95m 3.87    \u001b[0m |\n"
     ]
    },
    {
     "name": "stderr",
     "output_type": "stream",
     "text": [
      "/home/tangosvc/anaconda3/lib/python3.7/site-packages/ipykernel_launcher.py:226: SettingWithCopyWarning: \n",
      "A value is trying to be set on a copy of a slice from a DataFrame\n",
      "\n",
      "See the caveats in the documentation: http://pandas.pydata.org/pandas-docs/stable/indexing.html#indexing-view-versus-copy\n"
     ]
    },
    {
     "name": "stdout",
     "output_type": "stream",
     "text": [
      "Request 파일(/home/tangosvc/code/data/20191112/SON_TO_TEOS_RL_REQUEST_20191112_[1075].dat)을 생성합니다.\n",
      "\n",
      "TEOS_TO_SON_RL_RESULT_20191112_[1075].dat에 대한 get명령을 실행합니다.\n",
      "파일 TEOS_TO_SON_RL_RESULT_20191112_[1075].dat이 없어 60초 대기후 다시 확인합니다(최대60회).\n",
      "파일 TEOS_TO_SON_RL_RESULT_20191112_[1075].dat이 없어 60초 대기후 다시 확인합니다(최대60회).\n",
      "파일 TEOS_TO_SON_RL_RESULT_20191112_[1075].dat이 없어 60초 대기후 다시 확인합니다(최대60회).\n",
      "파일 TEOS_TO_SON_RL_RESULT_20191112_[1075].dat이 없어 60초 대기후 다시 확인합니다(최대60회).\n",
      "파일 TEOS_TO_SON_RL_RESULT_20191112_[1075].dat이 없어 60초 대기후 다시 확인합니다(최대60회).\n",
      "파일 TEOS_TO_SON_RL_RESULT_20191112_[1075].dat이 없어 60초 대기후 다시 확인합니다(최대60회).\n",
      "파일 TEOS_TO_SON_RL_RESULT_20191112_[1075].dat이 없어 60초 대기후 다시 확인합니다(최대60회).\n",
      "파일 TEOS_TO_SON_RL_RESULT_20191112_[1075].dat이 없어 60초 대기후 다시 확인합니다(최대60회).\n",
      "파일 TEOS_TO_SON_RL_RESULT_20191112_[1075].dat이 없어 60초 대기후 다시 확인합니다(최대60회).\n",
      "파일 TEOS_TO_SON_RL_RESULT_20191112_[1075].dat이 없어 60초 대기후 다시 확인합니다(최대60회).\n"
     ]
    },
    {
     "name": "stderr",
     "output_type": "stream",
     "text": [
      "/home/tangosvc/anaconda3/lib/python3.7/site-packages/pandas/core/reshape/merge.py:522: UserWarning: merging between different levels can give an unintended result (2 levels on the left, 1 on the right)\n",
      "  warnings.warn(msg, UserWarning)\n"
     ]
    },
    {
     "name": "stdout",
     "output_type": "stream",
     "text": [
      "| \u001b[0m 18      \u001b[0m | \u001b[0m 164.2   \u001b[0m | \u001b[0m 3.22    \u001b[0m | \u001b[0m 5.774   \u001b[0m | \u001b[0m 5.896   \u001b[0m | \u001b[0m 5.557   \u001b[0m | \u001b[0m 4.929   \u001b[0m | \u001b[0m 2.114   \u001b[0m | \u001b[0m 5.261   \u001b[0m | \u001b[0m 5.859   \u001b[0m | \u001b[0m 5.846   \u001b[0m | \u001b[0m 5.756   \u001b[0m | \u001b[0m 4.116   \u001b[0m | \u001b[0m 4.833   \u001b[0m | \u001b[0m 2.768   \u001b[0m | \u001b[0m 3.817   \u001b[0m | \u001b[0m 4.099   \u001b[0m | \u001b[0m 3.441   \u001b[0m |\n"
     ]
    },
    {
     "name": "stderr",
     "output_type": "stream",
     "text": [
      "/home/tangosvc/anaconda3/lib/python3.7/site-packages/ipykernel_launcher.py:226: SettingWithCopyWarning: \n",
      "A value is trying to be set on a copy of a slice from a DataFrame\n",
      "\n",
      "See the caveats in the documentation: http://pandas.pydata.org/pandas-docs/stable/indexing.html#indexing-view-versus-copy\n"
     ]
    },
    {
     "name": "stdout",
     "output_type": "stream",
     "text": [
      "Request 파일(/home/tangosvc/code/data/20191112/SON_TO_TEOS_RL_REQUEST_20191112_[1076].dat)을 생성합니다.\n",
      "\n",
      "TEOS_TO_SON_RL_RESULT_20191112_[1076].dat에 대한 get명령을 실행합니다.\n",
      "파일 TEOS_TO_SON_RL_RESULT_20191112_[1076].dat이 없어 60초 대기후 다시 확인합니다(최대60회).\n",
      "파일 TEOS_TO_SON_RL_RESULT_20191112_[1076].dat이 없어 60초 대기후 다시 확인합니다(최대60회).\n",
      "파일 TEOS_TO_SON_RL_RESULT_20191112_[1076].dat이 없어 60초 대기후 다시 확인합니다(최대60회).\n",
      "파일 TEOS_TO_SON_RL_RESULT_20191112_[1076].dat이 없어 60초 대기후 다시 확인합니다(최대60회).\n",
      "파일 TEOS_TO_SON_RL_RESULT_20191112_[1076].dat이 없어 60초 대기후 다시 확인합니다(최대60회).\n",
      "파일 TEOS_TO_SON_RL_RESULT_20191112_[1076].dat이 없어 60초 대기후 다시 확인합니다(최대60회).\n",
      "파일 TEOS_TO_SON_RL_RESULT_20191112_[1076].dat이 없어 60초 대기후 다시 확인합니다(최대60회).\n",
      "파일 TEOS_TO_SON_RL_RESULT_20191112_[1076].dat이 없어 60초 대기후 다시 확인합니다(최대60회).\n",
      "파일 TEOS_TO_SON_RL_RESULT_20191112_[1076].dat이 없어 60초 대기후 다시 확인합니다(최대60회).\n",
      "파일 TEOS_TO_SON_RL_RESULT_20191112_[1076].dat이 없어 60초 대기후 다시 확인합니다(최대60회).\n"
     ]
    },
    {
     "name": "stderr",
     "output_type": "stream",
     "text": [
      "/home/tangosvc/anaconda3/lib/python3.7/site-packages/pandas/core/reshape/merge.py:522: UserWarning: merging between different levels can give an unintended result (2 levels on the left, 1 on the right)\n",
      "  warnings.warn(msg, UserWarning)\n"
     ]
    },
    {
     "name": "stdout",
     "output_type": "stream",
     "text": [
      "| \u001b[0m 19      \u001b[0m | \u001b[0m 170.5   \u001b[0m | \u001b[0m 2.182   \u001b[0m | \u001b[0m 3.645   \u001b[0m | \u001b[0m 6.304   \u001b[0m | \u001b[0m 3.255   \u001b[0m | \u001b[0m 5.685   \u001b[0m | \u001b[0m 3.003   \u001b[0m | \u001b[0m 6.351   \u001b[0m | \u001b[0m 5.823   \u001b[0m | \u001b[0m 3.165   \u001b[0m | \u001b[0m 0.9217  \u001b[0m | \u001b[0m 4.443   \u001b[0m | \u001b[0m 5.036   \u001b[0m | \u001b[0m 5.067   \u001b[0m | \u001b[0m 6.391   \u001b[0m | \u001b[0m 4.953   \u001b[0m | \u001b[0m 3.848   \u001b[0m |\n"
     ]
    },
    {
     "name": "stderr",
     "output_type": "stream",
     "text": [
      "/home/tangosvc/anaconda3/lib/python3.7/site-packages/ipykernel_launcher.py:226: SettingWithCopyWarning: \n",
      "A value is trying to be set on a copy of a slice from a DataFrame\n",
      "\n",
      "See the caveats in the documentation: http://pandas.pydata.org/pandas-docs/stable/indexing.html#indexing-view-versus-copy\n"
     ]
    },
    {
     "name": "stdout",
     "output_type": "stream",
     "text": [
      "Request 파일(/home/tangosvc/code/data/20191112/SON_TO_TEOS_RL_REQUEST_20191112_[1077].dat)을 생성합니다.\n",
      "\n",
      "TEOS_TO_SON_RL_RESULT_20191112_[1077].dat에 대한 get명령을 실행합니다.\n",
      "파일 TEOS_TO_SON_RL_RESULT_20191112_[1077].dat이 없어 60초 대기후 다시 확인합니다(최대60회).\n",
      "파일 TEOS_TO_SON_RL_RESULT_20191112_[1077].dat이 없어 60초 대기후 다시 확인합니다(최대60회).\n",
      "파일 TEOS_TO_SON_RL_RESULT_20191112_[1077].dat이 없어 60초 대기후 다시 확인합니다(최대60회).\n",
      "파일 TEOS_TO_SON_RL_RESULT_20191112_[1077].dat이 없어 60초 대기후 다시 확인합니다(최대60회).\n",
      "파일 TEOS_TO_SON_RL_RESULT_20191112_[1077].dat이 없어 60초 대기후 다시 확인합니다(최대60회).\n",
      "파일 TEOS_TO_SON_RL_RESULT_20191112_[1077].dat이 없어 60초 대기후 다시 확인합니다(최대60회).\n",
      "파일 TEOS_TO_SON_RL_RESULT_20191112_[1077].dat이 없어 60초 대기후 다시 확인합니다(최대60회).\n",
      "파일 TEOS_TO_SON_RL_RESULT_20191112_[1077].dat이 없어 60초 대기후 다시 확인합니다(최대60회).\n",
      "파일 TEOS_TO_SON_RL_RESULT_20191112_[1077].dat이 없어 60초 대기후 다시 확인합니다(최대60회).\n",
      "파일 TEOS_TO_SON_RL_RESULT_20191112_[1077].dat이 없어 60초 대기후 다시 확인합니다(최대60회).\n"
     ]
    },
    {
     "name": "stderr",
     "output_type": "stream",
     "text": [
      "/home/tangosvc/anaconda3/lib/python3.7/site-packages/pandas/core/reshape/merge.py:522: UserWarning: merging between different levels can give an unintended result (2 levels on the left, 1 on the right)\n",
      "  warnings.warn(msg, UserWarning)\n"
     ]
    },
    {
     "name": "stdout",
     "output_type": "stream",
     "text": [
      "| \u001b[0m 20      \u001b[0m | \u001b[0m 176.1   \u001b[0m | \u001b[0m 1.646   \u001b[0m | \u001b[0m 4.253   \u001b[0m | \u001b[0m 6.366   \u001b[0m | \u001b[0m 1.755   \u001b[0m | \u001b[0m 3.39    \u001b[0m | \u001b[0m 1.845   \u001b[0m | \u001b[0m 7.905   \u001b[0m | \u001b[0m 5.002   \u001b[0m | \u001b[0m 2.987   \u001b[0m | \u001b[0m 3.764   \u001b[0m | \u001b[0m 6.817   \u001b[0m | \u001b[0m 6.167   \u001b[0m | \u001b[0m 3.775   \u001b[0m | \u001b[0m 4.787   \u001b[0m | \u001b[0m 4.991   \u001b[0m | \u001b[0m 4.489   \u001b[0m |\n"
     ]
    },
    {
     "name": "stderr",
     "output_type": "stream",
     "text": [
      "/home/tangosvc/anaconda3/lib/python3.7/site-packages/ipykernel_launcher.py:226: SettingWithCopyWarning: \n",
      "A value is trying to be set on a copy of a slice from a DataFrame\n",
      "\n",
      "See the caveats in the documentation: http://pandas.pydata.org/pandas-docs/stable/indexing.html#indexing-view-versus-copy\n"
     ]
    },
    {
     "name": "stdout",
     "output_type": "stream",
     "text": [
      "Request 파일(/home/tangosvc/code/data/20191112/SON_TO_TEOS_RL_REQUEST_20191112_[1078].dat)을 생성합니다.\n",
      "\n",
      "TEOS_TO_SON_RL_RESULT_20191112_[1078].dat에 대한 get명령을 실행합니다.\n",
      "파일 TEOS_TO_SON_RL_RESULT_20191112_[1078].dat이 없어 60초 대기후 다시 확인합니다(최대60회).\n",
      "파일 TEOS_TO_SON_RL_RESULT_20191112_[1078].dat이 없어 60초 대기후 다시 확인합니다(최대60회).\n",
      "파일 TEOS_TO_SON_RL_RESULT_20191112_[1078].dat이 없어 60초 대기후 다시 확인합니다(최대60회).\n",
      "파일 TEOS_TO_SON_RL_RESULT_20191112_[1078].dat이 없어 60초 대기후 다시 확인합니다(최대60회).\n",
      "파일 TEOS_TO_SON_RL_RESULT_20191112_[1078].dat이 없어 60초 대기후 다시 확인합니다(최대60회).\n",
      "파일 TEOS_TO_SON_RL_RESULT_20191112_[1078].dat이 없어 60초 대기후 다시 확인합니다(최대60회).\n",
      "파일 TEOS_TO_SON_RL_RESULT_20191112_[1078].dat이 없어 60초 대기후 다시 확인합니다(최대60회).\n",
      "파일 TEOS_TO_SON_RL_RESULT_20191112_[1078].dat이 없어 60초 대기후 다시 확인합니다(최대60회).\n",
      "파일 TEOS_TO_SON_RL_RESULT_20191112_[1078].dat이 없어 60초 대기후 다시 확인합니다(최대60회).\n"
     ]
    },
    {
     "name": "stderr",
     "output_type": "stream",
     "text": [
      "/home/tangosvc/anaconda3/lib/python3.7/site-packages/pandas/core/reshape/merge.py:522: UserWarning: merging between different levels can give an unintended result (2 levels on the left, 1 on the right)\n",
      "  warnings.warn(msg, UserWarning)\n"
     ]
    },
    {
     "name": "stdout",
     "output_type": "stream",
     "text": [
      "| \u001b[0m 21      \u001b[0m | \u001b[0m 165.4   \u001b[0m | \u001b[0m 0.9857  \u001b[0m | \u001b[0m 3.485   \u001b[0m | \u001b[0m 5.829   \u001b[0m | \u001b[0m 2.662   \u001b[0m | \u001b[0m 4.211   \u001b[0m | \u001b[0m 2.355   \u001b[0m | \u001b[0m 7.028   \u001b[0m | \u001b[0m 4.804   \u001b[0m | \u001b[0m 3.282   \u001b[0m | \u001b[0m 3.1     \u001b[0m | \u001b[0m 5.577   \u001b[0m | \u001b[0m 6.281   \u001b[0m | \u001b[0m 4.75    \u001b[0m | \u001b[0m 6.292   \u001b[0m | \u001b[0m 5.318   \u001b[0m | \u001b[0m 4.505   \u001b[0m |\n"
     ]
    },
    {
     "name": "stderr",
     "output_type": "stream",
     "text": [
      "/home/tangosvc/anaconda3/lib/python3.7/site-packages/ipykernel_launcher.py:226: SettingWithCopyWarning: \n",
      "A value is trying to be set on a copy of a slice from a DataFrame\n",
      "\n",
      "See the caveats in the documentation: http://pandas.pydata.org/pandas-docs/stable/indexing.html#indexing-view-versus-copy\n"
     ]
    },
    {
     "name": "stdout",
     "output_type": "stream",
     "text": [
      "Request 파일(/home/tangosvc/code/data/20191112/SON_TO_TEOS_RL_REQUEST_20191112_[1079].dat)을 생성합니다.\n",
      "\n",
      "TEOS_TO_SON_RL_RESULT_20191112_[1079].dat에 대한 get명령을 실행합니다.\n",
      "파일 TEOS_TO_SON_RL_RESULT_20191112_[1079].dat이 없어 60초 대기후 다시 확인합니다(최대60회).\n",
      "파일 TEOS_TO_SON_RL_RESULT_20191112_[1079].dat이 없어 60초 대기후 다시 확인합니다(최대60회).\n",
      "파일 TEOS_TO_SON_RL_RESULT_20191112_[1079].dat이 없어 60초 대기후 다시 확인합니다(최대60회).\n",
      "파일 TEOS_TO_SON_RL_RESULT_20191112_[1079].dat이 없어 60초 대기후 다시 확인합니다(최대60회).\n",
      "파일 TEOS_TO_SON_RL_RESULT_20191112_[1079].dat이 없어 60초 대기후 다시 확인합니다(최대60회).\n",
      "파일 TEOS_TO_SON_RL_RESULT_20191112_[1079].dat이 없어 60초 대기후 다시 확인합니다(최대60회).\n",
      "파일 TEOS_TO_SON_RL_RESULT_20191112_[1079].dat이 없어 60초 대기후 다시 확인합니다(최대60회).\n",
      "파일 TEOS_TO_SON_RL_RESULT_20191112_[1079].dat이 없어 60초 대기후 다시 확인합니다(최대60회).\n",
      "파일 TEOS_TO_SON_RL_RESULT_20191112_[1079].dat이 없어 60초 대기후 다시 확인합니다(최대60회).\n",
      "파일 TEOS_TO_SON_RL_RESULT_20191112_[1079].dat이 없어 60초 대기후 다시 확인합니다(최대60회).\n"
     ]
    },
    {
     "name": "stderr",
     "output_type": "stream",
     "text": [
      "/home/tangosvc/anaconda3/lib/python3.7/site-packages/pandas/core/reshape/merge.py:522: UserWarning: merging between different levels can give an unintended result (2 levels on the left, 1 on the right)\n",
      "  warnings.warn(msg, UserWarning)\n"
     ]
    },
    {
     "name": "stdout",
     "output_type": "stream",
     "text": [
      "| \u001b[0m 22      \u001b[0m | \u001b[0m 170.3   \u001b[0m | \u001b[0m 3.371   \u001b[0m | \u001b[0m 5.575   \u001b[0m | \u001b[0m 7.146   \u001b[0m | \u001b[0m 1.232   \u001b[0m | \u001b[0m 3.376   \u001b[0m | \u001b[0m 2.8     \u001b[0m | \u001b[0m 7.959   \u001b[0m | \u001b[0m 5.755   \u001b[0m | \u001b[0m 3.085   \u001b[0m | \u001b[0m 1.97    \u001b[0m | \u001b[0m 5.321   \u001b[0m | \u001b[0m 5.263   \u001b[0m | \u001b[0m 3.864   \u001b[0m | \u001b[0m 3.385   \u001b[0m | \u001b[0m 4.011   \u001b[0m | \u001b[0m 4.224   \u001b[0m |\n"
     ]
    },
    {
     "name": "stderr",
     "output_type": "stream",
     "text": [
      "/home/tangosvc/anaconda3/lib/python3.7/site-packages/ipykernel_launcher.py:226: SettingWithCopyWarning: \n",
      "A value is trying to be set on a copy of a slice from a DataFrame\n",
      "\n",
      "See the caveats in the documentation: http://pandas.pydata.org/pandas-docs/stable/indexing.html#indexing-view-versus-copy\n"
     ]
    },
    {
     "name": "stdout",
     "output_type": "stream",
     "text": [
      "Request 파일(/home/tangosvc/code/data/20191112/SON_TO_TEOS_RL_REQUEST_20191112_[1080].dat)을 생성합니다.\n",
      "\n",
      "TEOS_TO_SON_RL_RESULT_20191112_[1080].dat에 대한 get명령을 실행합니다.\n",
      "파일 TEOS_TO_SON_RL_RESULT_20191112_[1080].dat이 없어 60초 대기후 다시 확인합니다(최대60회).\n",
      "파일 TEOS_TO_SON_RL_RESULT_20191112_[1080].dat이 없어 60초 대기후 다시 확인합니다(최대60회).\n",
      "파일 TEOS_TO_SON_RL_RESULT_20191112_[1080].dat이 없어 60초 대기후 다시 확인합니다(최대60회).\n",
      "파일 TEOS_TO_SON_RL_RESULT_20191112_[1080].dat이 없어 60초 대기후 다시 확인합니다(최대60회).\n",
      "파일 TEOS_TO_SON_RL_RESULT_20191112_[1080].dat이 없어 60초 대기후 다시 확인합니다(최대60회).\n",
      "파일 TEOS_TO_SON_RL_RESULT_20191112_[1080].dat이 없어 60초 대기후 다시 확인합니다(최대60회).\n",
      "파일 TEOS_TO_SON_RL_RESULT_20191112_[1080].dat이 없어 60초 대기후 다시 확인합니다(최대60회).\n",
      "파일 TEOS_TO_SON_RL_RESULT_20191112_[1080].dat이 없어 60초 대기후 다시 확인합니다(최대60회).\n",
      "파일 TEOS_TO_SON_RL_RESULT_20191112_[1080].dat이 없어 60초 대기후 다시 확인합니다(최대60회).\n",
      "파일 TEOS_TO_SON_RL_RESULT_20191112_[1080].dat이 없어 60초 대기후 다시 확인합니다(최대60회).\n"
     ]
    },
    {
     "name": "stderr",
     "output_type": "stream",
     "text": [
      "/home/tangosvc/anaconda3/lib/python3.7/site-packages/pandas/core/reshape/merge.py:522: UserWarning: merging between different levels can give an unintended result (2 levels on the left, 1 on the right)\n",
      "  warnings.warn(msg, UserWarning)\n"
     ]
    },
    {
     "name": "stdout",
     "output_type": "stream",
     "text": [
      "| \u001b[95m 23      \u001b[0m | \u001b[95m 192.2   \u001b[0m | \u001b[95m 2.66    \u001b[0m | \u001b[95m 5.084   \u001b[0m | \u001b[95m 5.805   \u001b[0m | \u001b[95m 2.046   \u001b[0m | \u001b[95m 3.508   \u001b[0m | \u001b[95m 1.616   \u001b[0m | \u001b[95m 7.159   \u001b[0m | \u001b[95m 5.53    \u001b[0m | \u001b[95m 4.106   \u001b[0m | \u001b[95m 5.588   \u001b[0m | \u001b[95m 7.946   \u001b[0m | \u001b[95m 5.313   \u001b[0m | \u001b[95m 2.451   \u001b[0m | \u001b[95m 2.971   \u001b[0m | \u001b[95m 4.101   \u001b[0m | \u001b[95m 4.34    \u001b[0m |\n"
     ]
    },
    {
     "name": "stderr",
     "output_type": "stream",
     "text": [
      "/home/tangosvc/anaconda3/lib/python3.7/site-packages/ipykernel_launcher.py:226: SettingWithCopyWarning: \n",
      "A value is trying to be set on a copy of a slice from a DataFrame\n",
      "\n",
      "See the caveats in the documentation: http://pandas.pydata.org/pandas-docs/stable/indexing.html#indexing-view-versus-copy\n"
     ]
    },
    {
     "name": "stdout",
     "output_type": "stream",
     "text": [
      "Request 파일(/home/tangosvc/code/data/20191112/SON_TO_TEOS_RL_REQUEST_20191112_[1081].dat)을 생성합니다.\n",
      "\n",
      "TEOS_TO_SON_RL_RESULT_20191112_[1081].dat에 대한 get명령을 실행합니다.\n",
      "파일 TEOS_TO_SON_RL_RESULT_20191112_[1081].dat이 없어 60초 대기후 다시 확인합니다(최대60회).\n",
      "파일 TEOS_TO_SON_RL_RESULT_20191112_[1081].dat이 없어 60초 대기후 다시 확인합니다(최대60회).\n",
      "파일 TEOS_TO_SON_RL_RESULT_20191112_[1081].dat이 없어 60초 대기후 다시 확인합니다(최대60회).\n",
      "파일 TEOS_TO_SON_RL_RESULT_20191112_[1081].dat이 없어 60초 대기후 다시 확인합니다(최대60회).\n",
      "파일 TEOS_TO_SON_RL_RESULT_20191112_[1081].dat이 없어 60초 대기후 다시 확인합니다(최대60회).\n",
      "파일 TEOS_TO_SON_RL_RESULT_20191112_[1081].dat이 없어 60초 대기후 다시 확인합니다(최대60회).\n",
      "파일 TEOS_TO_SON_RL_RESULT_20191112_[1081].dat이 없어 60초 대기후 다시 확인합니다(최대60회).\n",
      "파일 TEOS_TO_SON_RL_RESULT_20191112_[1081].dat이 없어 60초 대기후 다시 확인합니다(최대60회).\n",
      "파일 TEOS_TO_SON_RL_RESULT_20191112_[1081].dat이 없어 60초 대기후 다시 확인합니다(최대60회).\n",
      "파일 TEOS_TO_SON_RL_RESULT_20191112_[1081].dat이 없어 60초 대기후 다시 확인합니다(최대60회).\n"
     ]
    },
    {
     "name": "stderr",
     "output_type": "stream",
     "text": [
      "/home/tangosvc/anaconda3/lib/python3.7/site-packages/pandas/core/reshape/merge.py:522: UserWarning: merging between different levels can give an unintended result (2 levels on the left, 1 on the right)\n",
      "  warnings.warn(msg, UserWarning)\n"
     ]
    },
    {
     "name": "stdout",
     "output_type": "stream",
     "text": [
      "| \u001b[0m 24      \u001b[0m | \u001b[0m 182.2   \u001b[0m | \u001b[0m 2.773   \u001b[0m | \u001b[0m 4.85    \u001b[0m | \u001b[0m 5.005   \u001b[0m | \u001b[0m 1.859   \u001b[0m | \u001b[0m 3.372   \u001b[0m | \u001b[0m 1.69    \u001b[0m | \u001b[0m 6.813   \u001b[0m | \u001b[0m 5.6     \u001b[0m | \u001b[0m 4.244   \u001b[0m | \u001b[0m 5.963   \u001b[0m | \u001b[0m 8.0     \u001b[0m | \u001b[0m 5.199   \u001b[0m | \u001b[0m 2.025   \u001b[0m | \u001b[0m 2.632   \u001b[0m | \u001b[0m 3.852   \u001b[0m | \u001b[0m 4.126   \u001b[0m |\n"
     ]
    },
    {
     "name": "stderr",
     "output_type": "stream",
     "text": [
      "/home/tangosvc/anaconda3/lib/python3.7/site-packages/ipykernel_launcher.py:226: SettingWithCopyWarning: \n",
      "A value is trying to be set on a copy of a slice from a DataFrame\n",
      "\n",
      "See the caveats in the documentation: http://pandas.pydata.org/pandas-docs/stable/indexing.html#indexing-view-versus-copy\n"
     ]
    },
    {
     "name": "stdout",
     "output_type": "stream",
     "text": [
      "Request 파일(/home/tangosvc/code/data/20191112/SON_TO_TEOS_RL_REQUEST_20191112_[1082].dat)을 생성합니다.\n",
      "\n",
      "TEOS_TO_SON_RL_RESULT_20191112_[1082].dat에 대한 get명령을 실행합니다.\n",
      "파일 TEOS_TO_SON_RL_RESULT_20191112_[1082].dat이 없어 60초 대기후 다시 확인합니다(최대60회).\n",
      "파일 TEOS_TO_SON_RL_RESULT_20191112_[1082].dat이 없어 60초 대기후 다시 확인합니다(최대60회).\n",
      "파일 TEOS_TO_SON_RL_RESULT_20191112_[1082].dat이 없어 60초 대기후 다시 확인합니다(최대60회).\n",
      "파일 TEOS_TO_SON_RL_RESULT_20191112_[1082].dat이 없어 60초 대기후 다시 확인합니다(최대60회).\n",
      "파일 TEOS_TO_SON_RL_RESULT_20191112_[1082].dat이 없어 60초 대기후 다시 확인합니다(최대60회).\n",
      "파일 TEOS_TO_SON_RL_RESULT_20191112_[1082].dat이 없어 60초 대기후 다시 확인합니다(최대60회).\n",
      "파일 TEOS_TO_SON_RL_RESULT_20191112_[1082].dat이 없어 60초 대기후 다시 확인합니다(최대60회).\n",
      "파일 TEOS_TO_SON_RL_RESULT_20191112_[1082].dat이 없어 60초 대기후 다시 확인합니다(최대60회).\n",
      "파일 TEOS_TO_SON_RL_RESULT_20191112_[1082].dat이 없어 60초 대기후 다시 확인합니다(최대60회).\n",
      "파일 TEOS_TO_SON_RL_RESULT_20191112_[1082].dat이 없어 60초 대기후 다시 확인합니다(최대60회).\n"
     ]
    },
    {
     "name": "stderr",
     "output_type": "stream",
     "text": [
      "/home/tangosvc/anaconda3/lib/python3.7/site-packages/pandas/core/reshape/merge.py:522: UserWarning: merging between different levels can give an unintended result (2 levels on the left, 1 on the right)\n",
      "  warnings.warn(msg, UserWarning)\n"
     ]
    },
    {
     "name": "stdout",
     "output_type": "stream",
     "text": [
      "| \u001b[0m 25      \u001b[0m | \u001b[0m 189.5   \u001b[0m | \u001b[0m 2.778   \u001b[0m | \u001b[0m 6.065   \u001b[0m | \u001b[0m 7.07    \u001b[0m | \u001b[0m 2.59    \u001b[0m | \u001b[0m 3.633   \u001b[0m | \u001b[0m 1.293   \u001b[0m | \u001b[0m 7.613   \u001b[0m | \u001b[0m 5.65    \u001b[0m | \u001b[0m 4.426   \u001b[0m | \u001b[0m 5.561   \u001b[0m | \u001b[0m 8.0     \u001b[0m | \u001b[0m 5.4     \u001b[0m | \u001b[0m 3.163   \u001b[0m | \u001b[0m 3.261   \u001b[0m | \u001b[0m 4.187   \u001b[0m | \u001b[0m 4.768   \u001b[0m |\n"
     ]
    },
    {
     "name": "stderr",
     "output_type": "stream",
     "text": [
      "/home/tangosvc/anaconda3/lib/python3.7/site-packages/ipykernel_launcher.py:226: SettingWithCopyWarning: \n",
      "A value is trying to be set on a copy of a slice from a DataFrame\n",
      "\n",
      "See the caveats in the documentation: http://pandas.pydata.org/pandas-docs/stable/indexing.html#indexing-view-versus-copy\n"
     ]
    },
    {
     "name": "stdout",
     "output_type": "stream",
     "text": [
      "Request 파일(/home/tangosvc/code/data/20191113/SON_TO_TEOS_RL_REQUEST_20191113_[1083].dat)을 생성합니다.\n",
      "\n",
      "TEOS_TO_SON_RL_RESULT_20191113_[1083].dat에 대한 get명령을 실행합니다.\n",
      "폴더 20191113이 없어 60초 대기후 다시 확인합니다(최대60회).\n",
      "폴더 20191113이 없어 60초 대기후 다시 확인합니다(최대60회).\n",
      "폴더 20191113이 없어 60초 대기후 다시 확인합니다(최대60회).\n",
      "폴더 20191113이 없어 60초 대기후 다시 확인합니다(최대60회).\n",
      "폴더 20191113이 없어 60초 대기후 다시 확인합니다(최대60회).\n",
      "폴더 20191113이 없어 60초 대기후 다시 확인합니다(최대60회).\n",
      "폴더 20191113이 없어 60초 대기후 다시 확인합니다(최대60회).\n",
      "폴더 20191113이 없어 60초 대기후 다시 확인합니다(최대60회).\n",
      "폴더 20191113이 없어 60초 대기후 다시 확인합니다(최대60회).\n",
      "폴더 20191113이 없어 60초 대기후 다시 확인합니다(최대60회).\n",
      "폴더 20191113이 없어 60초 대기후 다시 확인합니다(최대60회).\n",
      "폴더 20191113이 없어 60초 대기후 다시 확인합니다(최대60회).\n",
      "폴더 20191113이 없어 60초 대기후 다시 확인합니다(최대60회).\n",
      "폴더 20191113이 없어 60초 대기후 다시 확인합니다(최대60회).\n",
      "폴더 20191113이 없어 60초 대기후 다시 확인합니다(최대60회).\n",
      "폴더 20191113이 없어 60초 대기후 다시 확인합니다(최대60회).\n",
      "폴더 20191113이 없어 60초 대기후 다시 확인합니다(최대60회).\n",
      "폴더 20191113이 없어 60초 대기후 다시 확인합니다(최대60회).\n",
      "폴더 20191113이 없어 60초 대기후 다시 확인합니다(최대60회).\n",
      "폴더 20191113이 없어 60초 대기후 다시 확인합니다(최대60회).\n",
      "폴더 20191113이 없어 60초 대기후 다시 확인합니다(최대60회).\n",
      "폴더 20191113이 없어 60초 대기후 다시 확인합니다(최대60회).\n",
      "폴더 20191113이 없어 60초 대기후 다시 확인합니다(최대60회).\n",
      "폴더 20191113이 없어 60초 대기후 다시 확인합니다(최대60회).\n",
      "폴더 20191113이 없어 60초 대기후 다시 확인합니다(최대60회).\n",
      "폴더 20191113이 없어 60초 대기후 다시 확인합니다(최대60회).\n",
      "폴더 20191113이 없어 60초 대기후 다시 확인합니다(최대60회).\n",
      "폴더 20191113이 없어 60초 대기후 다시 확인합니다(최대60회).\n",
      "폴더 20191113이 없어 60초 대기후 다시 확인합니다(최대60회).\n",
      "폴더 20191113이 없어 60초 대기후 다시 확인합니다(최대60회).\n",
      "폴더 20191113이 없어 60초 대기후 다시 확인합니다(최대60회).\n",
      "폴더 20191113이 없어 60초 대기후 다시 확인합니다(최대60회).\n",
      "폴더 20191113이 없어 60초 대기후 다시 확인합니다(최대60회).\n",
      "폴더 20191113이 없어 60초 대기후 다시 확인합니다(최대60회).\n",
      "폴더 20191113이 없어 60초 대기후 다시 확인합니다(최대60회).\n",
      "폴더 20191113이 없어 60초 대기후 다시 확인합니다(최대60회).\n",
      "폴더 20191113이 없어 60초 대기후 다시 확인합니다(최대60회).\n",
      "폴더 20191113이 없어 60초 대기후 다시 확인합니다(최대60회).\n",
      "폴더 20191113이 없어 60초 대기후 다시 확인합니다(최대60회).\n",
      "폴더 20191113이 없어 60초 대기후 다시 확인합니다(최대60회).\n",
      "폴더 20191113이 없어 60초 대기후 다시 확인합니다(최대60회).\n",
      "폴더 20191113이 없어 60초 대기후 다시 확인합니다(최대60회).\n",
      "폴더 20191113이 없어 60초 대기후 다시 확인합니다(최대60회).\n",
      "폴더 20191113이 없어 60초 대기후 다시 확인합니다(최대60회).\n",
      "폴더 20191113이 없어 60초 대기후 다시 확인합니다(최대60회).\n",
      "폴더 20191113이 없어 60초 대기후 다시 확인합니다(최대60회).\n",
      "폴더 20191113이 없어 60초 대기후 다시 확인합니다(최대60회).\n"
     ]
    },
    {
     "name": "stderr",
     "output_type": "stream",
     "text": [
      "/home/tangosvc/anaconda3/lib/python3.7/site-packages/pandas/core/reshape/merge.py:522: UserWarning: merging between different levels can give an unintended result (2 levels on the left, 1 on the right)\n",
      "  warnings.warn(msg, UserWarning)\n"
     ]
    },
    {
     "name": "stdout",
     "output_type": "stream",
     "text": [
      "| \u001b[95m 26      \u001b[0m | \u001b[95m 198.3   \u001b[0m | \u001b[95m 2.607   \u001b[0m | \u001b[95m 5.224   \u001b[0m | \u001b[95m 6.559   \u001b[0m | \u001b[95m 2.129   \u001b[0m | \u001b[95m 3.64    \u001b[0m | \u001b[95m 1.72    \u001b[0m | \u001b[95m 7.383   \u001b[0m | \u001b[95m 5.346   \u001b[0m | \u001b[95m 4.11    \u001b[0m | \u001b[95m 5.263   \u001b[0m | \u001b[95m 7.819   \u001b[0m | \u001b[95m 5.352   \u001b[0m | \u001b[95m 2.635   \u001b[0m | \u001b[95m 3.008   \u001b[0m | \u001b[95m 4.088   \u001b[0m | \u001b[95m 4.558   \u001b[0m |\n"
     ]
    },
    {
     "name": "stderr",
     "output_type": "stream",
     "text": [
      "/home/tangosvc/anaconda3/lib/python3.7/site-packages/ipykernel_launcher.py:226: SettingWithCopyWarning: \n",
      "A value is trying to be set on a copy of a slice from a DataFrame\n",
      "\n",
      "See the caveats in the documentation: http://pandas.pydata.org/pandas-docs/stable/indexing.html#indexing-view-versus-copy\n"
     ]
    },
    {
     "name": "stdout",
     "output_type": "stream",
     "text": [
      "Request 파일(/home/tangosvc/code/data/20191113/SON_TO_TEOS_RL_REQUEST_20191113_[1084].dat)을 생성합니다.\n",
      "\n",
      "TEOS_TO_SON_RL_RESULT_20191113_[1084].dat에 대한 get명령을 실행합니다.\n",
      "파일 TEOS_TO_SON_RL_RESULT_20191113_[1084].dat이 없어 60초 대기후 다시 확인합니다(최대60회).\n",
      "파일 TEOS_TO_SON_RL_RESULT_20191113_[1084].dat이 없어 60초 대기후 다시 확인합니다(최대60회).\n",
      "파일 TEOS_TO_SON_RL_RESULT_20191113_[1084].dat이 없어 60초 대기후 다시 확인합니다(최대60회).\n",
      "파일 TEOS_TO_SON_RL_RESULT_20191113_[1084].dat이 없어 60초 대기후 다시 확인합니다(최대60회).\n",
      "파일 TEOS_TO_SON_RL_RESULT_20191113_[1084].dat이 없어 60초 대기후 다시 확인합니다(최대60회).\n",
      "파일 TEOS_TO_SON_RL_RESULT_20191113_[1084].dat이 없어 60초 대기후 다시 확인합니다(최대60회).\n",
      "파일 TEOS_TO_SON_RL_RESULT_20191113_[1084].dat이 없어 60초 대기후 다시 확인합니다(최대60회).\n",
      "파일 TEOS_TO_SON_RL_RESULT_20191113_[1084].dat이 없어 60초 대기후 다시 확인합니다(최대60회).\n",
      "파일 TEOS_TO_SON_RL_RESULT_20191113_[1084].dat이 없어 60초 대기후 다시 확인합니다(최대60회).\n",
      "파일 TEOS_TO_SON_RL_RESULT_20191113_[1084].dat이 없어 60초 대기후 다시 확인합니다(최대60회).\n"
     ]
    },
    {
     "name": "stderr",
     "output_type": "stream",
     "text": [
      "/home/tangosvc/anaconda3/lib/python3.7/site-packages/pandas/core/reshape/merge.py:522: UserWarning: merging between different levels can give an unintended result (2 levels on the left, 1 on the right)\n",
      "  warnings.warn(msg, UserWarning)\n"
     ]
    },
    {
     "name": "stdout",
     "output_type": "stream",
     "text": [
      "| \u001b[0m 27      \u001b[0m | \u001b[0m 193.3   \u001b[0m | \u001b[0m 2.375   \u001b[0m | \u001b[0m 4.869   \u001b[0m | \u001b[0m 7.44    \u001b[0m | \u001b[0m 2.051   \u001b[0m | \u001b[0m 3.91    \u001b[0m | \u001b[0m 2.297   \u001b[0m | \u001b[0m 7.367   \u001b[0m | \u001b[0m 4.63    \u001b[0m | \u001b[0m 4.38    \u001b[0m | \u001b[0m 5.009   \u001b[0m | \u001b[0m 7.664   \u001b[0m | \u001b[0m 5.349   \u001b[0m | \u001b[0m 2.24    \u001b[0m | \u001b[0m 2.543   \u001b[0m | \u001b[0m 3.561   \u001b[0m | \u001b[0m 4.848   \u001b[0m |\n"
     ]
    },
    {
     "name": "stderr",
     "output_type": "stream",
     "text": [
      "/home/tangosvc/anaconda3/lib/python3.7/site-packages/ipykernel_launcher.py:226: SettingWithCopyWarning: \n",
      "A value is trying to be set on a copy of a slice from a DataFrame\n",
      "\n",
      "See the caveats in the documentation: http://pandas.pydata.org/pandas-docs/stable/indexing.html#indexing-view-versus-copy\n"
     ]
    },
    {
     "name": "stdout",
     "output_type": "stream",
     "text": [
      "Request 파일(/home/tangosvc/code/data/20191113/SON_TO_TEOS_RL_REQUEST_20191113_[1085].dat)을 생성합니다.\n",
      "\n",
      "TEOS_TO_SON_RL_RESULT_20191113_[1085].dat에 대한 get명령을 실행합니다.\n",
      "파일 TEOS_TO_SON_RL_RESULT_20191113_[1085].dat이 없어 60초 대기후 다시 확인합니다(최대60회).\n",
      "파일 TEOS_TO_SON_RL_RESULT_20191113_[1085].dat이 없어 60초 대기후 다시 확인합니다(최대60회).\n",
      "파일 TEOS_TO_SON_RL_RESULT_20191113_[1085].dat이 없어 60초 대기후 다시 확인합니다(최대60회).\n",
      "파일 TEOS_TO_SON_RL_RESULT_20191113_[1085].dat이 없어 60초 대기후 다시 확인합니다(최대60회).\n",
      "파일 TEOS_TO_SON_RL_RESULT_20191113_[1085].dat이 없어 60초 대기후 다시 확인합니다(최대60회).\n",
      "파일 TEOS_TO_SON_RL_RESULT_20191113_[1085].dat이 없어 60초 대기후 다시 확인합니다(최대60회).\n",
      "파일 TEOS_TO_SON_RL_RESULT_20191113_[1085].dat이 없어 60초 대기후 다시 확인합니다(최대60회).\n",
      "파일 TEOS_TO_SON_RL_RESULT_20191113_[1085].dat이 없어 60초 대기후 다시 확인합니다(최대60회).\n",
      "파일 TEOS_TO_SON_RL_RESULT_20191113_[1085].dat이 없어 60초 대기후 다시 확인합니다(최대60회).\n",
      "파일 TEOS_TO_SON_RL_RESULT_20191113_[1085].dat이 없어 60초 대기후 다시 확인합니다(최대60회).\n"
     ]
    },
    {
     "name": "stderr",
     "output_type": "stream",
     "text": [
      "/home/tangosvc/anaconda3/lib/python3.7/site-packages/pandas/core/reshape/merge.py:522: UserWarning: merging between different levels can give an unintended result (2 levels on the left, 1 on the right)\n",
      "  warnings.warn(msg, UserWarning)\n"
     ]
    },
    {
     "name": "stdout",
     "output_type": "stream",
     "text": [
      "| \u001b[0m 28      \u001b[0m | \u001b[0m 186.6   \u001b[0m | \u001b[0m 2.835   \u001b[0m | \u001b[0m 5.263   \u001b[0m | \u001b[0m 6.835   \u001b[0m | \u001b[0m 2.017   \u001b[0m | \u001b[0m 3.676   \u001b[0m | \u001b[0m 1.915   \u001b[0m | \u001b[0m 7.459   \u001b[0m | \u001b[0m 5.352   \u001b[0m | \u001b[0m 3.985   \u001b[0m | \u001b[0m 4.837   \u001b[0m | \u001b[0m 7.318   \u001b[0m | \u001b[0m 5.193   \u001b[0m | \u001b[0m 2.657   \u001b[0m | \u001b[0m 2.758   \u001b[0m | \u001b[0m 4.016   \u001b[0m | \u001b[0m 4.664   \u001b[0m |\n"
     ]
    },
    {
     "name": "stderr",
     "output_type": "stream",
     "text": [
      "/home/tangosvc/anaconda3/lib/python3.7/site-packages/ipykernel_launcher.py:226: SettingWithCopyWarning: \n",
      "A value is trying to be set on a copy of a slice from a DataFrame\n",
      "\n",
      "See the caveats in the documentation: http://pandas.pydata.org/pandas-docs/stable/indexing.html#indexing-view-versus-copy\n"
     ]
    },
    {
     "name": "stdout",
     "output_type": "stream",
     "text": [
      "Request 파일(/home/tangosvc/code/data/20191113/SON_TO_TEOS_RL_REQUEST_20191113_[1086].dat)을 생성합니다.\n",
      "\n",
      "TEOS_TO_SON_RL_RESULT_20191113_[1086].dat에 대한 get명령을 실행합니다.\n",
      "파일 TEOS_TO_SON_RL_RESULT_20191113_[1086].dat이 없어 60초 대기후 다시 확인합니다(최대60회).\n",
      "파일 TEOS_TO_SON_RL_RESULT_20191113_[1086].dat이 없어 60초 대기후 다시 확인합니다(최대60회).\n",
      "파일 TEOS_TO_SON_RL_RESULT_20191113_[1086].dat이 없어 60초 대기후 다시 확인합니다(최대60회).\n",
      "파일 TEOS_TO_SON_RL_RESULT_20191113_[1086].dat이 없어 60초 대기후 다시 확인합니다(최대60회).\n",
      "파일 TEOS_TO_SON_RL_RESULT_20191113_[1086].dat이 없어 60초 대기후 다시 확인합니다(최대60회).\n",
      "파일 TEOS_TO_SON_RL_RESULT_20191113_[1086].dat이 없어 60초 대기후 다시 확인합니다(최대60회).\n",
      "파일 TEOS_TO_SON_RL_RESULT_20191113_[1086].dat이 없어 60초 대기후 다시 확인합니다(최대60회).\n",
      "파일 TEOS_TO_SON_RL_RESULT_20191113_[1086].dat이 없어 60초 대기후 다시 확인합니다(최대60회).\n",
      "파일 TEOS_TO_SON_RL_RESULT_20191113_[1086].dat이 없어 60초 대기후 다시 확인합니다(최대60회).\n",
      "파일 TEOS_TO_SON_RL_RESULT_20191113_[1086].dat이 없어 60초 대기후 다시 확인합니다(최대60회).\n"
     ]
    },
    {
     "name": "stderr",
     "output_type": "stream",
     "text": [
      "/home/tangosvc/anaconda3/lib/python3.7/site-packages/pandas/core/reshape/merge.py:522: UserWarning: merging between different levels can give an unintended result (2 levels on the left, 1 on the right)\n",
      "  warnings.warn(msg, UserWarning)\n"
     ]
    },
    {
     "name": "stdout",
     "output_type": "stream",
     "text": [
      "| \u001b[0m 29      \u001b[0m | \u001b[0m 180.7   \u001b[0m | \u001b[0m 1.715   \u001b[0m | \u001b[0m 5.086   \u001b[0m | \u001b[0m 6.723   \u001b[0m | \u001b[0m 2.337   \u001b[0m | \u001b[0m 3.74    \u001b[0m | \u001b[0m 2.062   \u001b[0m | \u001b[0m 7.025   \u001b[0m | \u001b[0m 4.627   \u001b[0m | \u001b[0m 5.014   \u001b[0m | \u001b[0m 5.701   \u001b[0m | \u001b[0m 8.0     \u001b[0m | \u001b[0m 5.95    \u001b[0m | \u001b[0m 2.522   \u001b[0m | \u001b[0m 3.828   \u001b[0m | \u001b[0m 3.529   \u001b[0m | \u001b[0m 4.211   \u001b[0m |\n"
     ]
    },
    {
     "name": "stderr",
     "output_type": "stream",
     "text": [
      "/home/tangosvc/anaconda3/lib/python3.7/site-packages/ipykernel_launcher.py:226: SettingWithCopyWarning: \n",
      "A value is trying to be set on a copy of a slice from a DataFrame\n",
      "\n",
      "See the caveats in the documentation: http://pandas.pydata.org/pandas-docs/stable/indexing.html#indexing-view-versus-copy\n"
     ]
    },
    {
     "name": "stdout",
     "output_type": "stream",
     "text": [
      "Request 파일(/home/tangosvc/code/data/20191113/SON_TO_TEOS_RL_REQUEST_20191113_[1087].dat)을 생성합니다.\n",
      "\n",
      "TEOS_TO_SON_RL_RESULT_20191113_[1087].dat에 대한 get명령을 실행합니다.\n",
      "파일 TEOS_TO_SON_RL_RESULT_20191113_[1087].dat이 없어 60초 대기후 다시 확인합니다(최대60회).\n",
      "파일 TEOS_TO_SON_RL_RESULT_20191113_[1087].dat이 없어 60초 대기후 다시 확인합니다(최대60회).\n",
      "파일 TEOS_TO_SON_RL_RESULT_20191113_[1087].dat이 없어 60초 대기후 다시 확인합니다(최대60회).\n",
      "파일 TEOS_TO_SON_RL_RESULT_20191113_[1087].dat이 없어 60초 대기후 다시 확인합니다(최대60회).\n",
      "파일 TEOS_TO_SON_RL_RESULT_20191113_[1087].dat이 없어 60초 대기후 다시 확인합니다(최대60회).\n",
      "파일 TEOS_TO_SON_RL_RESULT_20191113_[1087].dat이 없어 60초 대기후 다시 확인합니다(최대60회).\n",
      "파일 TEOS_TO_SON_RL_RESULT_20191113_[1087].dat이 없어 60초 대기후 다시 확인합니다(최대60회).\n",
      "파일 TEOS_TO_SON_RL_RESULT_20191113_[1087].dat이 없어 60초 대기후 다시 확인합니다(최대60회).\n",
      "파일 TEOS_TO_SON_RL_RESULT_20191113_[1087].dat이 없어 60초 대기후 다시 확인합니다(최대60회).\n"
     ]
    },
    {
     "name": "stderr",
     "output_type": "stream",
     "text": [
      "/home/tangosvc/anaconda3/lib/python3.7/site-packages/pandas/core/reshape/merge.py:522: UserWarning: merging between different levels can give an unintended result (2 levels on the left, 1 on the right)\n",
      "  warnings.warn(msg, UserWarning)\n"
     ]
    },
    {
     "name": "stdout",
     "output_type": "stream",
     "text": [
      "| \u001b[0m 30      \u001b[0m | \u001b[0m 192.3   \u001b[0m | \u001b[0m 2.202   \u001b[0m | \u001b[0m 4.675   \u001b[0m | \u001b[0m 6.932   \u001b[0m | \u001b[0m 2.453   \u001b[0m | \u001b[0m 3.863   \u001b[0m | \u001b[0m 1.569   \u001b[0m | \u001b[0m 7.558   \u001b[0m | \u001b[0m 4.898   \u001b[0m | \u001b[0m 3.981   \u001b[0m | \u001b[0m 5.712   \u001b[0m | \u001b[0m 8.0     \u001b[0m | \u001b[0m 5.478   \u001b[0m | \u001b[0m 2.486   \u001b[0m | \u001b[0m 2.658   \u001b[0m | \u001b[0m 4.283   \u001b[0m | \u001b[0m 5.118   \u001b[0m |\n"
     ]
    },
    {
     "name": "stderr",
     "output_type": "stream",
     "text": [
      "/home/tangosvc/anaconda3/lib/python3.7/site-packages/ipykernel_launcher.py:226: SettingWithCopyWarning: \n",
      "A value is trying to be set on a copy of a slice from a DataFrame\n",
      "\n",
      "See the caveats in the documentation: http://pandas.pydata.org/pandas-docs/stable/indexing.html#indexing-view-versus-copy\n"
     ]
    },
    {
     "name": "stdout",
     "output_type": "stream",
     "text": [
      "Request 파일(/home/tangosvc/code/data/20191113/SON_TO_TEOS_RL_REQUEST_20191113_[1088].dat)을 생성합니다.\n",
      "\n",
      "TEOS_TO_SON_RL_RESULT_20191113_[1088].dat에 대한 get명령을 실행합니다.\n",
      "파일 TEOS_TO_SON_RL_RESULT_20191113_[1088].dat이 없어 60초 대기후 다시 확인합니다(최대60회).\n",
      "파일 TEOS_TO_SON_RL_RESULT_20191113_[1088].dat이 없어 60초 대기후 다시 확인합니다(최대60회).\n",
      "파일 TEOS_TO_SON_RL_RESULT_20191113_[1088].dat이 없어 60초 대기후 다시 확인합니다(최대60회).\n",
      "파일 TEOS_TO_SON_RL_RESULT_20191113_[1088].dat이 없어 60초 대기후 다시 확인합니다(최대60회).\n",
      "파일 TEOS_TO_SON_RL_RESULT_20191113_[1088].dat이 없어 60초 대기후 다시 확인합니다(최대60회).\n",
      "파일 TEOS_TO_SON_RL_RESULT_20191113_[1088].dat이 없어 60초 대기후 다시 확인합니다(최대60회).\n",
      "파일 TEOS_TO_SON_RL_RESULT_20191113_[1088].dat이 없어 60초 대기후 다시 확인합니다(최대60회).\n",
      "파일 TEOS_TO_SON_RL_RESULT_20191113_[1088].dat이 없어 60초 대기후 다시 확인합니다(최대60회).\n",
      "파일 TEOS_TO_SON_RL_RESULT_20191113_[1088].dat이 없어 60초 대기후 다시 확인합니다(최대60회).\n",
      "파일 TEOS_TO_SON_RL_RESULT_20191113_[1088].dat이 없어 60초 대기후 다시 확인합니다(최대60회).\n"
     ]
    },
    {
     "name": "stderr",
     "output_type": "stream",
     "text": [
      "/home/tangosvc/anaconda3/lib/python3.7/site-packages/pandas/core/reshape/merge.py:522: UserWarning: merging between different levels can give an unintended result (2 levels on the left, 1 on the right)\n",
      "  warnings.warn(msg, UserWarning)\n"
     ]
    },
    {
     "name": "stdout",
     "output_type": "stream",
     "text": [
      "| \u001b[0m 31      \u001b[0m | \u001b[0m 192.0   \u001b[0m | \u001b[0m 2.493   \u001b[0m | \u001b[0m 5.192   \u001b[0m | \u001b[0m 6.894   \u001b[0m | \u001b[0m 2.034   \u001b[0m | \u001b[0m 3.717   \u001b[0m | \u001b[0m 1.947   \u001b[0m | \u001b[0m 7.369   \u001b[0m | \u001b[0m 5.124   \u001b[0m | \u001b[0m 4.249   \u001b[0m | \u001b[0m 5.023   \u001b[0m | \u001b[0m 8.0     \u001b[0m | \u001b[0m 5.396   \u001b[0m | \u001b[0m 2.554   \u001b[0m | \u001b[0m 3.134   \u001b[0m | \u001b[0m 3.863   \u001b[0m | \u001b[0m 4.488   \u001b[0m |\n"
     ]
    },
    {
     "name": "stderr",
     "output_type": "stream",
     "text": [
      "/home/tangosvc/anaconda3/lib/python3.7/site-packages/ipykernel_launcher.py:226: SettingWithCopyWarning: \n",
      "A value is trying to be set on a copy of a slice from a DataFrame\n",
      "\n",
      "See the caveats in the documentation: http://pandas.pydata.org/pandas-docs/stable/indexing.html#indexing-view-versus-copy\n"
     ]
    },
    {
     "name": "stdout",
     "output_type": "stream",
     "text": [
      "Request 파일(/home/tangosvc/code/data/20191113/SON_TO_TEOS_RL_REQUEST_20191113_[1089].dat)을 생성합니다.\n",
      "\n",
      "TEOS_TO_SON_RL_RESULT_20191113_[1089].dat에 대한 get명령을 실행합니다.\n",
      "파일 TEOS_TO_SON_RL_RESULT_20191113_[1089].dat이 없어 60초 대기후 다시 확인합니다(최대60회).\n",
      "파일 TEOS_TO_SON_RL_RESULT_20191113_[1089].dat이 없어 60초 대기후 다시 확인합니다(최대60회).\n",
      "파일 TEOS_TO_SON_RL_RESULT_20191113_[1089].dat이 없어 60초 대기후 다시 확인합니다(최대60회).\n",
      "파일 TEOS_TO_SON_RL_RESULT_20191113_[1089].dat이 없어 60초 대기후 다시 확인합니다(최대60회).\n",
      "파일 TEOS_TO_SON_RL_RESULT_20191113_[1089].dat이 없어 60초 대기후 다시 확인합니다(최대60회).\n",
      "파일 TEOS_TO_SON_RL_RESULT_20191113_[1089].dat이 없어 60초 대기후 다시 확인합니다(최대60회).\n",
      "파일 TEOS_TO_SON_RL_RESULT_20191113_[1089].dat이 없어 60초 대기후 다시 확인합니다(최대60회).\n",
      "파일 TEOS_TO_SON_RL_RESULT_20191113_[1089].dat이 없어 60초 대기후 다시 확인합니다(최대60회).\n",
      "파일 TEOS_TO_SON_RL_RESULT_20191113_[1089].dat이 없어 60초 대기후 다시 확인합니다(최대60회).\n",
      "파일 TEOS_TO_SON_RL_RESULT_20191113_[1089].dat이 없어 60초 대기후 다시 확인합니다(최대60회).\n"
     ]
    },
    {
     "name": "stderr",
     "output_type": "stream",
     "text": [
      "/home/tangosvc/anaconda3/lib/python3.7/site-packages/pandas/core/reshape/merge.py:522: UserWarning: merging between different levels can give an unintended result (2 levels on the left, 1 on the right)\n",
      "  warnings.warn(msg, UserWarning)\n"
     ]
    },
    {
     "name": "stdout",
     "output_type": "stream",
     "text": [
      "| \u001b[0m 32      \u001b[0m | \u001b[0m 183.3   \u001b[0m | \u001b[0m 2.41    \u001b[0m | \u001b[0m 5.34    \u001b[0m | \u001b[0m 6.479   \u001b[0m | \u001b[0m 2.452   \u001b[0m | \u001b[0m 3.632   \u001b[0m | \u001b[0m 2.085   \u001b[0m | \u001b[0m 7.039   \u001b[0m | \u001b[0m 4.946   \u001b[0m | \u001b[0m 4.932   \u001b[0m | \u001b[0m 6.111   \u001b[0m | \u001b[0m 7.268   \u001b[0m | \u001b[0m 5.579   \u001b[0m | \u001b[0m 2.591   \u001b[0m | \u001b[0m 2.28    \u001b[0m | \u001b[0m 3.601   \u001b[0m | \u001b[0m 4.923   \u001b[0m |\n"
     ]
    },
    {
     "name": "stderr",
     "output_type": "stream",
     "text": [
      "/home/tangosvc/anaconda3/lib/python3.7/site-packages/ipykernel_launcher.py:226: SettingWithCopyWarning: \n",
      "A value is trying to be set on a copy of a slice from a DataFrame\n",
      "\n",
      "See the caveats in the documentation: http://pandas.pydata.org/pandas-docs/stable/indexing.html#indexing-view-versus-copy\n"
     ]
    },
    {
     "name": "stdout",
     "output_type": "stream",
     "text": [
      "Request 파일(/home/tangosvc/code/data/20191113/SON_TO_TEOS_RL_REQUEST_20191113_[1090].dat)을 생성합니다.\n",
      "\n",
      "TEOS_TO_SON_RL_RESULT_20191113_[1090].dat에 대한 get명령을 실행합니다.\n",
      "파일 TEOS_TO_SON_RL_RESULT_20191113_[1090].dat이 없어 60초 대기후 다시 확인합니다(최대60회).\n",
      "파일 TEOS_TO_SON_RL_RESULT_20191113_[1090].dat이 없어 60초 대기후 다시 확인합니다(최대60회).\n",
      "파일 TEOS_TO_SON_RL_RESULT_20191113_[1090].dat이 없어 60초 대기후 다시 확인합니다(최대60회).\n",
      "파일 TEOS_TO_SON_RL_RESULT_20191113_[1090].dat이 없어 60초 대기후 다시 확인합니다(최대60회).\n",
      "파일 TEOS_TO_SON_RL_RESULT_20191113_[1090].dat이 없어 60초 대기후 다시 확인합니다(최대60회).\n",
      "파일 TEOS_TO_SON_RL_RESULT_20191113_[1090].dat이 없어 60초 대기후 다시 확인합니다(최대60회).\n",
      "파일 TEOS_TO_SON_RL_RESULT_20191113_[1090].dat이 없어 60초 대기후 다시 확인합니다(최대60회).\n",
      "파일 TEOS_TO_SON_RL_RESULT_20191113_[1090].dat이 없어 60초 대기후 다시 확인합니다(최대60회).\n",
      "파일 TEOS_TO_SON_RL_RESULT_20191113_[1090].dat이 없어 60초 대기후 다시 확인합니다(최대60회).\n",
      "파일 TEOS_TO_SON_RL_RESULT_20191113_[1090].dat이 없어 60초 대기후 다시 확인합니다(최대60회).\n"
     ]
    },
    {
     "name": "stderr",
     "output_type": "stream",
     "text": [
      "/home/tangosvc/anaconda3/lib/python3.7/site-packages/pandas/core/reshape/merge.py:522: UserWarning: merging between different levels can give an unintended result (2 levels on the left, 1 on the right)\n",
      "  warnings.warn(msg, UserWarning)\n"
     ]
    },
    {
     "name": "stdout",
     "output_type": "stream",
     "text": [
      "| \u001b[0m 33      \u001b[0m | \u001b[0m 191.9   \u001b[0m | \u001b[0m 2.414   \u001b[0m | \u001b[0m 5.225   \u001b[0m | \u001b[0m 6.704   \u001b[0m | \u001b[0m 2.305   \u001b[0m | \u001b[0m 3.629   \u001b[0m | \u001b[0m 1.223   \u001b[0m | \u001b[0m 7.523   \u001b[0m | \u001b[0m 5.353   \u001b[0m | \u001b[0m 4.087   \u001b[0m | \u001b[0m 5.666   \u001b[0m | \u001b[0m 7.55    \u001b[0m | \u001b[0m 5.386   \u001b[0m | \u001b[0m 2.495   \u001b[0m | \u001b[0m 3.307   \u001b[0m | \u001b[0m 4.214   \u001b[0m | \u001b[0m 4.491   \u001b[0m |\n"
     ]
    },
    {
     "name": "stderr",
     "output_type": "stream",
     "text": [
      "/home/tangosvc/anaconda3/lib/python3.7/site-packages/ipykernel_launcher.py:226: SettingWithCopyWarning: \n",
      "A value is trying to be set on a copy of a slice from a DataFrame\n",
      "\n",
      "See the caveats in the documentation: http://pandas.pydata.org/pandas-docs/stable/indexing.html#indexing-view-versus-copy\n"
     ]
    },
    {
     "name": "stdout",
     "output_type": "stream",
     "text": [
      "Request 파일(/home/tangosvc/code/data/20191113/SON_TO_TEOS_RL_REQUEST_20191113_[1091].dat)을 생성합니다.\n",
      "\n",
      "TEOS_TO_SON_RL_RESULT_20191113_[1091].dat에 대한 get명령을 실행합니다.\n",
      "파일 TEOS_TO_SON_RL_RESULT_20191113_[1091].dat이 없어 60초 대기후 다시 확인합니다(최대60회).\n",
      "파일 TEOS_TO_SON_RL_RESULT_20191113_[1091].dat이 없어 60초 대기후 다시 확인합니다(최대60회).\n",
      "파일 TEOS_TO_SON_RL_RESULT_20191113_[1091].dat이 없어 60초 대기후 다시 확인합니다(최대60회).\n",
      "파일 TEOS_TO_SON_RL_RESULT_20191113_[1091].dat이 없어 60초 대기후 다시 확인합니다(최대60회).\n",
      "파일 TEOS_TO_SON_RL_RESULT_20191113_[1091].dat이 없어 60초 대기후 다시 확인합니다(최대60회).\n",
      "파일 TEOS_TO_SON_RL_RESULT_20191113_[1091].dat이 없어 60초 대기후 다시 확인합니다(최대60회).\n",
      "파일 TEOS_TO_SON_RL_RESULT_20191113_[1091].dat이 없어 60초 대기후 다시 확인합니다(최대60회).\n",
      "파일 TEOS_TO_SON_RL_RESULT_20191113_[1091].dat이 없어 60초 대기후 다시 확인합니다(최대60회).\n",
      "파일 TEOS_TO_SON_RL_RESULT_20191113_[1091].dat이 없어 60초 대기후 다시 확인합니다(최대60회).\n",
      "파일 TEOS_TO_SON_RL_RESULT_20191113_[1091].dat이 없어 60초 대기후 다시 확인합니다(최대60회).\n"
     ]
    },
    {
     "name": "stderr",
     "output_type": "stream",
     "text": [
      "/home/tangosvc/anaconda3/lib/python3.7/site-packages/pandas/core/reshape/merge.py:522: UserWarning: merging between different levels can give an unintended result (2 levels on the left, 1 on the right)\n",
      "  warnings.warn(msg, UserWarning)\n"
     ]
    },
    {
     "name": "stdout",
     "output_type": "stream",
     "text": [
      "| \u001b[0m 34      \u001b[0m | \u001b[0m 148.8   \u001b[0m | \u001b[0m 2.88    \u001b[0m | \u001b[0m 3.833   \u001b[0m | \u001b[0m 4.052   \u001b[0m | \u001b[0m 5.318   \u001b[0m | \u001b[0m 4.978   \u001b[0m | \u001b[0m 3.409   \u001b[0m | \u001b[0m 4.129   \u001b[0m | \u001b[0m 5.165   \u001b[0m | \u001b[0m 5.921   \u001b[0m | \u001b[0m 3.965   \u001b[0m | \u001b[0m 3.031   \u001b[0m | \u001b[0m 4.988   \u001b[0m | \u001b[0m 3.307   \u001b[0m | \u001b[0m 5.756   \u001b[0m | \u001b[0m 3.837   \u001b[0m | \u001b[0m 3.659   \u001b[0m |\n"
     ]
    },
    {
     "name": "stderr",
     "output_type": "stream",
     "text": [
      "/home/tangosvc/anaconda3/lib/python3.7/site-packages/ipykernel_launcher.py:226: SettingWithCopyWarning: \n",
      "A value is trying to be set on a copy of a slice from a DataFrame\n",
      "\n",
      "See the caveats in the documentation: http://pandas.pydata.org/pandas-docs/stable/indexing.html#indexing-view-versus-copy\n"
     ]
    },
    {
     "name": "stdout",
     "output_type": "stream",
     "text": [
      "Request 파일(/home/tangosvc/code/data/20191113/SON_TO_TEOS_RL_REQUEST_20191113_[1092].dat)을 생성합니다.\n",
      "\n",
      "TEOS_TO_SON_RL_RESULT_20191113_[1092].dat에 대한 get명령을 실행합니다.\n",
      "파일 TEOS_TO_SON_RL_RESULT_20191113_[1092].dat이 없어 60초 대기후 다시 확인합니다(최대60회).\n",
      "파일 TEOS_TO_SON_RL_RESULT_20191113_[1092].dat이 없어 60초 대기후 다시 확인합니다(최대60회).\n",
      "파일 TEOS_TO_SON_RL_RESULT_20191113_[1092].dat이 없어 60초 대기후 다시 확인합니다(최대60회).\n",
      "파일 TEOS_TO_SON_RL_RESULT_20191113_[1092].dat이 없어 60초 대기후 다시 확인합니다(최대60회).\n",
      "파일 TEOS_TO_SON_RL_RESULT_20191113_[1092].dat이 없어 60초 대기후 다시 확인합니다(최대60회).\n",
      "파일 TEOS_TO_SON_RL_RESULT_20191113_[1092].dat이 없어 60초 대기후 다시 확인합니다(최대60회).\n",
      "파일 TEOS_TO_SON_RL_RESULT_20191113_[1092].dat이 없어 60초 대기후 다시 확인합니다(최대60회).\n",
      "파일 TEOS_TO_SON_RL_RESULT_20191113_[1092].dat이 없어 60초 대기후 다시 확인합니다(최대60회).\n",
      "파일 TEOS_TO_SON_RL_RESULT_20191113_[1092].dat이 없어 60초 대기후 다시 확인합니다(최대60회).\n"
     ]
    },
    {
     "name": "stderr",
     "output_type": "stream",
     "text": [
      "/home/tangosvc/anaconda3/lib/python3.7/site-packages/pandas/core/reshape/merge.py:522: UserWarning: merging between different levels can give an unintended result (2 levels on the left, 1 on the right)\n",
      "  warnings.warn(msg, UserWarning)\n"
     ]
    },
    {
     "name": "stdout",
     "output_type": "stream",
     "text": [
      "| \u001b[0m 35      \u001b[0m | \u001b[0m 195.4   \u001b[0m | \u001b[0m 2.525   \u001b[0m | \u001b[0m 5.201   \u001b[0m | \u001b[0m 6.373   \u001b[0m | \u001b[0m 2.484   \u001b[0m | \u001b[0m 3.764   \u001b[0m | \u001b[0m 1.791   \u001b[0m | \u001b[0m 7.338   \u001b[0m | \u001b[0m 5.415   \u001b[0m | \u001b[0m 4.04    \u001b[0m | \u001b[0m 5.3     \u001b[0m | \u001b[0m 8.0     \u001b[0m | \u001b[0m 5.52    \u001b[0m | \u001b[0m 3.087   \u001b[0m | \u001b[0m 3.01    \u001b[0m | \u001b[0m 4.439   \u001b[0m | \u001b[0m 4.767   \u001b[0m |\n"
     ]
    },
    {
     "name": "stderr",
     "output_type": "stream",
     "text": [
      "/home/tangosvc/anaconda3/lib/python3.7/site-packages/ipykernel_launcher.py:226: SettingWithCopyWarning: \n",
      "A value is trying to be set on a copy of a slice from a DataFrame\n",
      "\n",
      "See the caveats in the documentation: http://pandas.pydata.org/pandas-docs/stable/indexing.html#indexing-view-versus-copy\n"
     ]
    },
    {
     "name": "stdout",
     "output_type": "stream",
     "text": [
      "Request 파일(/home/tangosvc/code/data/20191113/SON_TO_TEOS_RL_REQUEST_20191113_[1093].dat)을 생성합니다.\n",
      "\n",
      "TEOS_TO_SON_RL_RESULT_20191113_[1093].dat에 대한 get명령을 실행합니다.\n",
      "파일 TEOS_TO_SON_RL_RESULT_20191113_[1093].dat이 없어 60초 대기후 다시 확인합니다(최대60회).\n",
      "파일 TEOS_TO_SON_RL_RESULT_20191113_[1093].dat이 없어 60초 대기후 다시 확인합니다(최대60회).\n",
      "파일 TEOS_TO_SON_RL_RESULT_20191113_[1093].dat이 없어 60초 대기후 다시 확인합니다(최대60회).\n",
      "파일 TEOS_TO_SON_RL_RESULT_20191113_[1093].dat이 없어 60초 대기후 다시 확인합니다(최대60회).\n",
      "파일 TEOS_TO_SON_RL_RESULT_20191113_[1093].dat이 없어 60초 대기후 다시 확인합니다(최대60회).\n",
      "파일 TEOS_TO_SON_RL_RESULT_20191113_[1093].dat이 없어 60초 대기후 다시 확인합니다(최대60회).\n",
      "파일 TEOS_TO_SON_RL_RESULT_20191113_[1093].dat이 없어 60초 대기후 다시 확인합니다(최대60회).\n",
      "파일 TEOS_TO_SON_RL_RESULT_20191113_[1093].dat이 없어 60초 대기후 다시 확인합니다(최대60회).\n",
      "파일 TEOS_TO_SON_RL_RESULT_20191113_[1093].dat이 없어 60초 대기후 다시 확인합니다(최대60회).\n",
      "파일 TEOS_TO_SON_RL_RESULT_20191113_[1093].dat이 없어 60초 대기후 다시 확인합니다(최대60회).\n"
     ]
    },
    {
     "name": "stderr",
     "output_type": "stream",
     "text": [
      "/home/tangosvc/anaconda3/lib/python3.7/site-packages/pandas/core/reshape/merge.py:522: UserWarning: merging between different levels can give an unintended result (2 levels on the left, 1 on the right)\n",
      "  warnings.warn(msg, UserWarning)\n"
     ]
    },
    {
     "name": "stdout",
     "output_type": "stream",
     "text": [
      "| \u001b[95m 36      \u001b[0m | \u001b[95m 201.9   \u001b[0m | \u001b[95m 2.691   \u001b[0m | \u001b[95m 5.27    \u001b[0m | \u001b[95m 6.599   \u001b[0m | \u001b[95m 2.097   \u001b[0m | \u001b[95m 3.558   \u001b[0m | \u001b[95m 1.609   \u001b[0m | \u001b[95m 7.464   \u001b[0m | \u001b[95m 5.304   \u001b[0m | \u001b[95m 4.203   \u001b[0m | \u001b[95m 5.563   \u001b[0m | \u001b[95m 8.0     \u001b[0m | \u001b[95m 5.293   \u001b[0m | \u001b[95m 2.58    \u001b[0m | \u001b[95m 2.759   \u001b[0m | \u001b[95m 4.014   \u001b[0m | \u001b[95m 4.877   \u001b[0m |\n"
     ]
    },
    {
     "name": "stderr",
     "output_type": "stream",
     "text": [
      "/home/tangosvc/anaconda3/lib/python3.7/site-packages/ipykernel_launcher.py:226: SettingWithCopyWarning: \n",
      "A value is trying to be set on a copy of a slice from a DataFrame\n",
      "\n",
      "See the caveats in the documentation: http://pandas.pydata.org/pandas-docs/stable/indexing.html#indexing-view-versus-copy\n"
     ]
    },
    {
     "name": "stdout",
     "output_type": "stream",
     "text": [
      "Request 파일(/home/tangosvc/code/data/20191113/SON_TO_TEOS_RL_REQUEST_20191113_[1094].dat)을 생성합니다.\n",
      "\n",
      "TEOS_TO_SON_RL_RESULT_20191113_[1094].dat에 대한 get명령을 실행합니다.\n",
      "파일 TEOS_TO_SON_RL_RESULT_20191113_[1094].dat이 없어 60초 대기후 다시 확인합니다(최대60회).\n",
      "파일 TEOS_TO_SON_RL_RESULT_20191113_[1094].dat이 없어 60초 대기후 다시 확인합니다(최대60회).\n",
      "파일 TEOS_TO_SON_RL_RESULT_20191113_[1094].dat이 없어 60초 대기후 다시 확인합니다(최대60회).\n",
      "파일 TEOS_TO_SON_RL_RESULT_20191113_[1094].dat이 없어 60초 대기후 다시 확인합니다(최대60회).\n",
      "파일 TEOS_TO_SON_RL_RESULT_20191113_[1094].dat이 없어 60초 대기후 다시 확인합니다(최대60회).\n",
      "파일 TEOS_TO_SON_RL_RESULT_20191113_[1094].dat이 없어 60초 대기후 다시 확인합니다(최대60회).\n",
      "파일 TEOS_TO_SON_RL_RESULT_20191113_[1094].dat이 없어 60초 대기후 다시 확인합니다(최대60회).\n",
      "파일 TEOS_TO_SON_RL_RESULT_20191113_[1094].dat이 없어 60초 대기후 다시 확인합니다(최대60회).\n",
      "파일 TEOS_TO_SON_RL_RESULT_20191113_[1094].dat이 없어 60초 대기후 다시 확인합니다(최대60회).\n",
      "파일 TEOS_TO_SON_RL_RESULT_20191113_[1094].dat이 없어 60초 대기후 다시 확인합니다(최대60회).\n"
     ]
    },
    {
     "name": "stderr",
     "output_type": "stream",
     "text": [
      "/home/tangosvc/anaconda3/lib/python3.7/site-packages/pandas/core/reshape/merge.py:522: UserWarning: merging between different levels can give an unintended result (2 levels on the left, 1 on the right)\n",
      "  warnings.warn(msg, UserWarning)\n"
     ]
    },
    {
     "name": "stdout",
     "output_type": "stream",
     "text": [
      "| \u001b[0m 37      \u001b[0m | \u001b[0m 201.9   \u001b[0m | \u001b[0m 2.725   \u001b[0m | \u001b[0m 5.276   \u001b[0m | \u001b[0m 6.595   \u001b[0m | \u001b[0m 2.041   \u001b[0m | \u001b[0m 3.522   \u001b[0m | \u001b[0m 1.6     \u001b[0m | \u001b[0m 7.482   \u001b[0m | \u001b[0m 5.289   \u001b[0m | \u001b[0m 4.226   \u001b[0m | \u001b[0m 5.594   \u001b[0m | \u001b[0m 8.0     \u001b[0m | \u001b[0m 5.263   \u001b[0m | \u001b[0m 2.573   \u001b[0m | \u001b[0m 2.771   \u001b[0m | \u001b[0m 3.986   \u001b[0m | \u001b[0m 4.969   \u001b[0m |\n"
     ]
    },
    {
     "name": "stderr",
     "output_type": "stream",
     "text": [
      "/home/tangosvc/anaconda3/lib/python3.7/site-packages/ipykernel_launcher.py:226: SettingWithCopyWarning: \n",
      "A value is trying to be set on a copy of a slice from a DataFrame\n",
      "\n",
      "See the caveats in the documentation: http://pandas.pydata.org/pandas-docs/stable/indexing.html#indexing-view-versus-copy\n"
     ]
    },
    {
     "name": "stdout",
     "output_type": "stream",
     "text": [
      "Request 파일(/home/tangosvc/code/data/20191113/SON_TO_TEOS_RL_REQUEST_20191113_[1095].dat)을 생성합니다.\n",
      "\n",
      "TEOS_TO_SON_RL_RESULT_20191113_[1095].dat에 대한 get명령을 실행합니다.\n",
      "파일 TEOS_TO_SON_RL_RESULT_20191113_[1095].dat이 없어 60초 대기후 다시 확인합니다(최대60회).\n",
      "파일 TEOS_TO_SON_RL_RESULT_20191113_[1095].dat이 없어 60초 대기후 다시 확인합니다(최대60회).\n",
      "파일 TEOS_TO_SON_RL_RESULT_20191113_[1095].dat이 없어 60초 대기후 다시 확인합니다(최대60회).\n",
      "파일 TEOS_TO_SON_RL_RESULT_20191113_[1095].dat이 없어 60초 대기후 다시 확인합니다(최대60회).\n",
      "파일 TEOS_TO_SON_RL_RESULT_20191113_[1095].dat이 없어 60초 대기후 다시 확인합니다(최대60회).\n",
      "파일 TEOS_TO_SON_RL_RESULT_20191113_[1095].dat이 없어 60초 대기후 다시 확인합니다(최대60회).\n",
      "파일 TEOS_TO_SON_RL_RESULT_20191113_[1095].dat이 없어 60초 대기후 다시 확인합니다(최대60회).\n",
      "파일 TEOS_TO_SON_RL_RESULT_20191113_[1095].dat이 없어 60초 대기후 다시 확인합니다(최대60회).\n",
      "파일 TEOS_TO_SON_RL_RESULT_20191113_[1095].dat이 없어 60초 대기후 다시 확인합니다(최대60회).\n"
     ]
    },
    {
     "name": "stderr",
     "output_type": "stream",
     "text": [
      "/home/tangosvc/anaconda3/lib/python3.7/site-packages/pandas/core/reshape/merge.py:522: UserWarning: merging between different levels can give an unintended result (2 levels on the left, 1 on the right)\n",
      "  warnings.warn(msg, UserWarning)\n"
     ]
    },
    {
     "name": "stdout",
     "output_type": "stream",
     "text": [
      "| \u001b[0m 38      \u001b[0m | \u001b[0m 198.8   \u001b[0m | \u001b[0m 2.713   \u001b[0m | \u001b[0m 5.291   \u001b[0m | \u001b[0m 6.604   \u001b[0m | \u001b[0m 2.06    \u001b[0m | \u001b[0m 3.514   \u001b[0m | \u001b[0m 1.583   \u001b[0m | \u001b[0m 7.503   \u001b[0m | \u001b[0m 5.301   \u001b[0m | \u001b[0m 4.214   \u001b[0m | \u001b[0m 5.584   \u001b[0m | \u001b[0m 8.0     \u001b[0m | \u001b[0m 5.295   \u001b[0m | \u001b[0m 2.568   \u001b[0m | \u001b[0m 2.71    \u001b[0m | \u001b[0m 3.979   \u001b[0m | \u001b[0m 4.916   \u001b[0m |\n"
     ]
    },
    {
     "name": "stderr",
     "output_type": "stream",
     "text": [
      "/home/tangosvc/anaconda3/lib/python3.7/site-packages/ipykernel_launcher.py:226: SettingWithCopyWarning: \n",
      "A value is trying to be set on a copy of a slice from a DataFrame\n",
      "\n",
      "See the caveats in the documentation: http://pandas.pydata.org/pandas-docs/stable/indexing.html#indexing-view-versus-copy\n"
     ]
    },
    {
     "name": "stdout",
     "output_type": "stream",
     "text": [
      "Request 파일(/home/tangosvc/code/data/20191113/SON_TO_TEOS_RL_REQUEST_20191113_[1096].dat)을 생성합니다.\n",
      "\n",
      "TEOS_TO_SON_RL_RESULT_20191113_[1096].dat에 대한 get명령을 실행합니다.\n",
      "파일 TEOS_TO_SON_RL_RESULT_20191113_[1096].dat이 없어 60초 대기후 다시 확인합니다(최대60회).\n",
      "파일 TEOS_TO_SON_RL_RESULT_20191113_[1096].dat이 없어 60초 대기후 다시 확인합니다(최대60회).\n",
      "파일 TEOS_TO_SON_RL_RESULT_20191113_[1096].dat이 없어 60초 대기후 다시 확인합니다(최대60회).\n",
      "파일 TEOS_TO_SON_RL_RESULT_20191113_[1096].dat이 없어 60초 대기후 다시 확인합니다(최대60회).\n",
      "파일 TEOS_TO_SON_RL_RESULT_20191113_[1096].dat이 없어 60초 대기후 다시 확인합니다(최대60회).\n",
      "파일 TEOS_TO_SON_RL_RESULT_20191113_[1096].dat이 없어 60초 대기후 다시 확인합니다(최대60회).\n",
      "파일 TEOS_TO_SON_RL_RESULT_20191113_[1096].dat이 없어 60초 대기후 다시 확인합니다(최대60회).\n",
      "파일 TEOS_TO_SON_RL_RESULT_20191113_[1096].dat이 없어 60초 대기후 다시 확인합니다(최대60회).\n",
      "파일 TEOS_TO_SON_RL_RESULT_20191113_[1096].dat이 없어 60초 대기후 다시 확인합니다(최대60회).\n",
      "파일 TEOS_TO_SON_RL_RESULT_20191113_[1096].dat이 없어 60초 대기후 다시 확인합니다(최대60회).\n"
     ]
    },
    {
     "name": "stderr",
     "output_type": "stream",
     "text": [
      "/home/tangosvc/anaconda3/lib/python3.7/site-packages/pandas/core/reshape/merge.py:522: UserWarning: merging between different levels can give an unintended result (2 levels on the left, 1 on the right)\n",
      "  warnings.warn(msg, UserWarning)\n"
     ]
    },
    {
     "name": "stdout",
     "output_type": "stream",
     "text": [
      "| \u001b[0m 39      \u001b[0m | \u001b[0m 186.3   \u001b[0m | \u001b[0m 3.035   \u001b[0m | \u001b[0m 5.192   \u001b[0m | \u001b[0m 6.819   \u001b[0m | \u001b[0m 2.408   \u001b[0m | \u001b[0m 4.298   \u001b[0m | \u001b[0m 2.068   \u001b[0m | \u001b[0m 6.461   \u001b[0m | \u001b[0m 5.322   \u001b[0m | \u001b[0m 4.504   \u001b[0m | \u001b[0m 6.097   \u001b[0m | \u001b[0m 8.0     \u001b[0m | \u001b[0m 4.225   \u001b[0m | \u001b[0m 2.249   \u001b[0m | \u001b[0m 3.328   \u001b[0m | \u001b[0m 4.161   \u001b[0m | \u001b[0m 5.219   \u001b[0m |\n"
     ]
    },
    {
     "name": "stderr",
     "output_type": "stream",
     "text": [
      "/home/tangosvc/anaconda3/lib/python3.7/site-packages/ipykernel_launcher.py:226: SettingWithCopyWarning: \n",
      "A value is trying to be set on a copy of a slice from a DataFrame\n",
      "\n",
      "See the caveats in the documentation: http://pandas.pydata.org/pandas-docs/stable/indexing.html#indexing-view-versus-copy\n"
     ]
    },
    {
     "name": "stdout",
     "output_type": "stream",
     "text": [
      "Request 파일(/home/tangosvc/code/data/20191113/SON_TO_TEOS_RL_REQUEST_20191113_[1097].dat)을 생성합니다.\n",
      "\n",
      "TEOS_TO_SON_RL_RESULT_20191113_[1097].dat에 대한 get명령을 실행합니다.\n",
      "파일 TEOS_TO_SON_RL_RESULT_20191113_[1097].dat이 없어 60초 대기후 다시 확인합니다(최대60회).\n",
      "파일 TEOS_TO_SON_RL_RESULT_20191113_[1097].dat이 없어 60초 대기후 다시 확인합니다(최대60회).\n",
      "파일 TEOS_TO_SON_RL_RESULT_20191113_[1097].dat이 없어 60초 대기후 다시 확인합니다(최대60회).\n",
      "파일 TEOS_TO_SON_RL_RESULT_20191113_[1097].dat이 없어 60초 대기후 다시 확인합니다(최대60회).\n",
      "파일 TEOS_TO_SON_RL_RESULT_20191113_[1097].dat이 없어 60초 대기후 다시 확인합니다(최대60회).\n",
      "파일 TEOS_TO_SON_RL_RESULT_20191113_[1097].dat이 없어 60초 대기후 다시 확인합니다(최대60회).\n",
      "파일 TEOS_TO_SON_RL_RESULT_20191113_[1097].dat이 없어 60초 대기후 다시 확인합니다(최대60회).\n",
      "파일 TEOS_TO_SON_RL_RESULT_20191113_[1097].dat이 없어 60초 대기후 다시 확인합니다(최대60회).\n",
      "파일 TEOS_TO_SON_RL_RESULT_20191113_[1097].dat이 없어 60초 대기후 다시 확인합니다(최대60회).\n",
      "파일 TEOS_TO_SON_RL_RESULT_20191113_[1097].dat이 없어 60초 대기후 다시 확인합니다(최대60회).\n"
     ]
    },
    {
     "name": "stderr",
     "output_type": "stream",
     "text": [
      "/home/tangosvc/anaconda3/lib/python3.7/site-packages/pandas/core/reshape/merge.py:522: UserWarning: merging between different levels can give an unintended result (2 levels on the left, 1 on the right)\n",
      "  warnings.warn(msg, UserWarning)\n"
     ]
    },
    {
     "name": "stdout",
     "output_type": "stream",
     "text": [
      "| \u001b[95m 40      \u001b[0m | \u001b[95m 201.9   \u001b[0m | \u001b[95m 2.722   \u001b[0m | \u001b[95m 5.08    \u001b[0m | \u001b[95m 6.547   \u001b[0m | \u001b[95m 2.283   \u001b[0m | \u001b[95m 3.89    \u001b[0m | \u001b[95m 1.774   \u001b[0m | \u001b[95m 7.143   \u001b[0m | \u001b[95m 5.206   \u001b[0m | \u001b[95m 4.395   \u001b[0m | \u001b[95m 5.638   \u001b[0m | \u001b[95m 7.979   \u001b[0m | \u001b[95m 5.04    \u001b[0m | \u001b[95m 2.596   \u001b[0m | \u001b[95m 3.272   \u001b[0m | \u001b[95m 4.1     \u001b[0m | \u001b[95m 5.186   \u001b[0m |\n"
     ]
    },
    {
     "name": "stderr",
     "output_type": "stream",
     "text": [
      "/home/tangosvc/anaconda3/lib/python3.7/site-packages/ipykernel_launcher.py:226: SettingWithCopyWarning: \n",
      "A value is trying to be set on a copy of a slice from a DataFrame\n",
      "\n",
      "See the caveats in the documentation: http://pandas.pydata.org/pandas-docs/stable/indexing.html#indexing-view-versus-copy\n"
     ]
    },
    {
     "name": "stdout",
     "output_type": "stream",
     "text": [
      "Request 파일(/home/tangosvc/code/data/20191113/SON_TO_TEOS_RL_REQUEST_20191113_[1098].dat)을 생성합니다.\n",
      "\n",
      "TEOS_TO_SON_RL_RESULT_20191113_[1098].dat에 대한 get명령을 실행합니다.\n",
      "파일 TEOS_TO_SON_RL_RESULT_20191113_[1098].dat이 없어 60초 대기후 다시 확인합니다(최대60회).\n",
      "파일 TEOS_TO_SON_RL_RESULT_20191113_[1098].dat이 없어 60초 대기후 다시 확인합니다(최대60회).\n",
      "파일 TEOS_TO_SON_RL_RESULT_20191113_[1098].dat이 없어 60초 대기후 다시 확인합니다(최대60회).\n",
      "파일 TEOS_TO_SON_RL_RESULT_20191113_[1098].dat이 없어 60초 대기후 다시 확인합니다(최대60회).\n",
      "파일 TEOS_TO_SON_RL_RESULT_20191113_[1098].dat이 없어 60초 대기후 다시 확인합니다(최대60회).\n",
      "파일 TEOS_TO_SON_RL_RESULT_20191113_[1098].dat이 없어 60초 대기후 다시 확인합니다(최대60회).\n",
      "파일 TEOS_TO_SON_RL_RESULT_20191113_[1098].dat이 없어 60초 대기후 다시 확인합니다(최대60회).\n",
      "파일 TEOS_TO_SON_RL_RESULT_20191113_[1098].dat이 없어 60초 대기후 다시 확인합니다(최대60회).\n",
      "파일 TEOS_TO_SON_RL_RESULT_20191113_[1098].dat이 없어 60초 대기후 다시 확인합니다(최대60회).\n"
     ]
    },
    {
     "name": "stderr",
     "output_type": "stream",
     "text": [
      "/home/tangosvc/anaconda3/lib/python3.7/site-packages/pandas/core/reshape/merge.py:522: UserWarning: merging between different levels can give an unintended result (2 levels on the left, 1 on the right)\n",
      "  warnings.warn(msg, UserWarning)\n"
     ]
    },
    {
     "name": "stdout",
     "output_type": "stream",
     "text": [
      "| \u001b[0m 41      \u001b[0m | \u001b[0m 195.1   \u001b[0m | \u001b[0m 2.528   \u001b[0m | \u001b[0m 5.421   \u001b[0m | \u001b[0m 6.917   \u001b[0m | \u001b[0m 1.798   \u001b[0m | \u001b[0m 3.463   \u001b[0m | \u001b[0m 2.142   \u001b[0m | \u001b[0m 6.967   \u001b[0m | \u001b[0m 5.232   \u001b[0m | \u001b[0m 3.923   \u001b[0m | \u001b[0m 6.093   \u001b[0m | \u001b[0m 8.0     \u001b[0m | \u001b[0m 4.91    \u001b[0m | \u001b[0m 2.706   \u001b[0m | \u001b[0m 3.019   \u001b[0m | \u001b[0m 4.422   \u001b[0m | \u001b[0m 4.874   \u001b[0m |\n"
     ]
    },
    {
     "name": "stderr",
     "output_type": "stream",
     "text": [
      "/home/tangosvc/anaconda3/lib/python3.7/site-packages/ipykernel_launcher.py:226: SettingWithCopyWarning: \n",
      "A value is trying to be set on a copy of a slice from a DataFrame\n",
      "\n",
      "See the caveats in the documentation: http://pandas.pydata.org/pandas-docs/stable/indexing.html#indexing-view-versus-copy\n"
     ]
    },
    {
     "name": "stdout",
     "output_type": "stream",
     "text": [
      "Request 파일(/home/tangosvc/code/data/20191113/SON_TO_TEOS_RL_REQUEST_20191113_[1099].dat)을 생성합니다.\n",
      "\n",
      "TEOS_TO_SON_RL_RESULT_20191113_[1099].dat에 대한 get명령을 실행합니다.\n",
      "파일 TEOS_TO_SON_RL_RESULT_20191113_[1099].dat이 없어 60초 대기후 다시 확인합니다(최대60회).\n",
      "파일 TEOS_TO_SON_RL_RESULT_20191113_[1099].dat이 없어 60초 대기후 다시 확인합니다(최대60회).\n",
      "파일 TEOS_TO_SON_RL_RESULT_20191113_[1099].dat이 없어 60초 대기후 다시 확인합니다(최대60회).\n",
      "파일 TEOS_TO_SON_RL_RESULT_20191113_[1099].dat이 없어 60초 대기후 다시 확인합니다(최대60회).\n",
      "파일 TEOS_TO_SON_RL_RESULT_20191113_[1099].dat이 없어 60초 대기후 다시 확인합니다(최대60회).\n",
      "파일 TEOS_TO_SON_RL_RESULT_20191113_[1099].dat이 없어 60초 대기후 다시 확인합니다(최대60회).\n",
      "파일 TEOS_TO_SON_RL_RESULT_20191113_[1099].dat이 없어 60초 대기후 다시 확인합니다(최대60회).\n",
      "파일 TEOS_TO_SON_RL_RESULT_20191113_[1099].dat이 없어 60초 대기후 다시 확인합니다(최대60회).\n",
      "파일 TEOS_TO_SON_RL_RESULT_20191113_[1099].dat이 없어 60초 대기후 다시 확인합니다(최대60회).\n",
      "파일 TEOS_TO_SON_RL_RESULT_20191113_[1099].dat이 없어 60초 대기후 다시 확인합니다(최대60회).\n"
     ]
    },
    {
     "name": "stderr",
     "output_type": "stream",
     "text": [
      "/home/tangosvc/anaconda3/lib/python3.7/site-packages/pandas/core/reshape/merge.py:522: UserWarning: merging between different levels can give an unintended result (2 levels on the left, 1 on the right)\n",
      "  warnings.warn(msg, UserWarning)\n"
     ]
    },
    {
     "name": "stdout",
     "output_type": "stream",
     "text": [
      "| \u001b[0m 42      \u001b[0m | \u001b[0m 201.9   \u001b[0m | \u001b[0m 2.733   \u001b[0m | \u001b[0m 5.239   \u001b[0m | \u001b[0m 6.647   \u001b[0m | \u001b[0m 2.107   \u001b[0m | \u001b[0m 3.695   \u001b[0m | \u001b[0m 1.744   \u001b[0m | \u001b[0m 7.231   \u001b[0m | \u001b[0m 5.315   \u001b[0m | \u001b[0m 4.171   \u001b[0m | \u001b[0m 5.696   \u001b[0m | \u001b[0m 8.0     \u001b[0m | \u001b[0m 5.043   \u001b[0m | \u001b[0m 2.573   \u001b[0m | \u001b[0m 2.987   \u001b[0m | \u001b[0m 4.156   \u001b[0m | \u001b[0m 4.971   \u001b[0m |\n"
     ]
    },
    {
     "name": "stderr",
     "output_type": "stream",
     "text": [
      "/home/tangosvc/anaconda3/lib/python3.7/site-packages/ipykernel_launcher.py:226: SettingWithCopyWarning: \n",
      "A value is trying to be set on a copy of a slice from a DataFrame\n",
      "\n",
      "See the caveats in the documentation: http://pandas.pydata.org/pandas-docs/stable/indexing.html#indexing-view-versus-copy\n"
     ]
    },
    {
     "name": "stdout",
     "output_type": "stream",
     "text": [
      "Request 파일(/home/tangosvc/code/data/20191113/SON_TO_TEOS_RL_REQUEST_20191113_[1100].dat)을 생성합니다.\n",
      "\n",
      "TEOS_TO_SON_RL_RESULT_20191113_[1100].dat에 대한 get명령을 실행합니다.\n",
      "파일 TEOS_TO_SON_RL_RESULT_20191113_[1100].dat이 없어 60초 대기후 다시 확인합니다(최대60회).\n",
      "파일 TEOS_TO_SON_RL_RESULT_20191113_[1100].dat이 없어 60초 대기후 다시 확인합니다(최대60회).\n",
      "파일 TEOS_TO_SON_RL_RESULT_20191113_[1100].dat이 없어 60초 대기후 다시 확인합니다(최대60회).\n",
      "파일 TEOS_TO_SON_RL_RESULT_20191113_[1100].dat이 없어 60초 대기후 다시 확인합니다(최대60회).\n",
      "파일 TEOS_TO_SON_RL_RESULT_20191113_[1100].dat이 없어 60초 대기후 다시 확인합니다(최대60회).\n",
      "파일 TEOS_TO_SON_RL_RESULT_20191113_[1100].dat이 없어 60초 대기후 다시 확인합니다(최대60회).\n",
      "파일 TEOS_TO_SON_RL_RESULT_20191113_[1100].dat이 없어 60초 대기후 다시 확인합니다(최대60회).\n",
      "파일 TEOS_TO_SON_RL_RESULT_20191113_[1100].dat이 없어 60초 대기후 다시 확인합니다(최대60회).\n",
      "파일 TEOS_TO_SON_RL_RESULT_20191113_[1100].dat이 없어 60초 대기후 다시 확인합니다(최대60회).\n",
      "파일 TEOS_TO_SON_RL_RESULT_20191113_[1100].dat이 없어 60초 대기후 다시 확인합니다(최대60회).\n"
     ]
    },
    {
     "name": "stderr",
     "output_type": "stream",
     "text": [
      "/home/tangosvc/anaconda3/lib/python3.7/site-packages/pandas/core/reshape/merge.py:522: UserWarning: merging between different levels can give an unintended result (2 levels on the left, 1 on the right)\n",
      "  warnings.warn(msg, UserWarning)\n"
     ]
    },
    {
     "name": "stdout",
     "output_type": "stream",
     "text": [
      "| \u001b[0m 43      \u001b[0m | \u001b[0m 187.8   \u001b[0m | \u001b[0m 2.449   \u001b[0m | \u001b[0m 5.115   \u001b[0m | \u001b[0m 6.417   \u001b[0m | \u001b[0m 2.072   \u001b[0m | \u001b[0m 3.405   \u001b[0m | \u001b[0m 1.754   \u001b[0m | \u001b[0m 7.427   \u001b[0m | \u001b[0m 4.994   \u001b[0m | \u001b[0m 4.427   \u001b[0m | \u001b[0m 5.541   \u001b[0m | \u001b[0m 7.973   \u001b[0m | \u001b[0m 5.506   \u001b[0m | \u001b[0m 2.795   \u001b[0m | \u001b[0m 3.228   \u001b[0m | \u001b[0m 4.021   \u001b[0m | \u001b[0m 5.184   \u001b[0m |\n"
     ]
    },
    {
     "name": "stderr",
     "output_type": "stream",
     "text": [
      "/home/tangosvc/anaconda3/lib/python3.7/site-packages/ipykernel_launcher.py:226: SettingWithCopyWarning: \n",
      "A value is trying to be set on a copy of a slice from a DataFrame\n",
      "\n",
      "See the caveats in the documentation: http://pandas.pydata.org/pandas-docs/stable/indexing.html#indexing-view-versus-copy\n"
     ]
    },
    {
     "name": "stdout",
     "output_type": "stream",
     "text": [
      "Request 파일(/home/tangosvc/code/data/20191113/SON_TO_TEOS_RL_REQUEST_20191113_[1101].dat)을 생성합니다.\n",
      "\n",
      "TEOS_TO_SON_RL_RESULT_20191113_[1101].dat에 대한 get명령을 실행합니다.\n",
      "파일 TEOS_TO_SON_RL_RESULT_20191113_[1101].dat이 없어 60초 대기후 다시 확인합니다(최대60회).\n",
      "파일 TEOS_TO_SON_RL_RESULT_20191113_[1101].dat이 없어 60초 대기후 다시 확인합니다(최대60회).\n",
      "파일 TEOS_TO_SON_RL_RESULT_20191113_[1101].dat이 없어 60초 대기후 다시 확인합니다(최대60회).\n",
      "파일 TEOS_TO_SON_RL_RESULT_20191113_[1101].dat이 없어 60초 대기후 다시 확인합니다(최대60회).\n",
      "파일 TEOS_TO_SON_RL_RESULT_20191113_[1101].dat이 없어 60초 대기후 다시 확인합니다(최대60회).\n",
      "파일 TEOS_TO_SON_RL_RESULT_20191113_[1101].dat이 없어 60초 대기후 다시 확인합니다(최대60회).\n",
      "파일 TEOS_TO_SON_RL_RESULT_20191113_[1101].dat이 없어 60초 대기후 다시 확인합니다(최대60회).\n",
      "파일 TEOS_TO_SON_RL_RESULT_20191113_[1101].dat이 없어 60초 대기후 다시 확인합니다(최대60회).\n",
      "파일 TEOS_TO_SON_RL_RESULT_20191113_[1101].dat이 없어 60초 대기후 다시 확인합니다(최대60회).\n"
     ]
    },
    {
     "name": "stderr",
     "output_type": "stream",
     "text": [
      "/home/tangosvc/anaconda3/lib/python3.7/site-packages/pandas/core/reshape/merge.py:522: UserWarning: merging between different levels can give an unintended result (2 levels on the left, 1 on the right)\n",
      "  warnings.warn(msg, UserWarning)\n"
     ]
    },
    {
     "name": "stdout",
     "output_type": "stream",
     "text": [
      "| \u001b[0m 44      \u001b[0m | \u001b[0m 177.4   \u001b[0m | \u001b[0m 2.811   \u001b[0m | \u001b[0m 5.005   \u001b[0m | \u001b[0m 6.48    \u001b[0m | \u001b[0m 2.312   \u001b[0m | \u001b[0m 4.252   \u001b[0m | \u001b[0m 1.586   \u001b[0m | \u001b[0m 7.476   \u001b[0m | \u001b[0m 5.395   \u001b[0m | \u001b[0m 4.516   \u001b[0m | \u001b[0m 5.474   \u001b[0m | \u001b[0m 7.904   \u001b[0m | \u001b[0m 5.35    \u001b[0m | \u001b[0m 2.565   \u001b[0m | \u001b[0m 3.049   \u001b[0m | \u001b[0m 3.666   \u001b[0m | \u001b[0m 5.06    \u001b[0m |\n"
     ]
    },
    {
     "name": "stderr",
     "output_type": "stream",
     "text": [
      "/home/tangosvc/anaconda3/lib/python3.7/site-packages/ipykernel_launcher.py:226: SettingWithCopyWarning: \n",
      "A value is trying to be set on a copy of a slice from a DataFrame\n",
      "\n",
      "See the caveats in the documentation: http://pandas.pydata.org/pandas-docs/stable/indexing.html#indexing-view-versus-copy\n"
     ]
    },
    {
     "name": "stdout",
     "output_type": "stream",
     "text": [
      "Request 파일(/home/tangosvc/code/data/20191113/SON_TO_TEOS_RL_REQUEST_20191113_[1102].dat)을 생성합니다.\n",
      "\n",
      "TEOS_TO_SON_RL_RESULT_20191113_[1102].dat에 대한 get명령을 실행합니다.\n",
      "파일 TEOS_TO_SON_RL_RESULT_20191113_[1102].dat이 없어 60초 대기후 다시 확인합니다(최대60회).\n",
      "파일 TEOS_TO_SON_RL_RESULT_20191113_[1102].dat이 없어 60초 대기후 다시 확인합니다(최대60회).\n",
      "파일 TEOS_TO_SON_RL_RESULT_20191113_[1102].dat이 없어 60초 대기후 다시 확인합니다(최대60회).\n",
      "파일 TEOS_TO_SON_RL_RESULT_20191113_[1102].dat이 없어 60초 대기후 다시 확인합니다(최대60회).\n",
      "파일 TEOS_TO_SON_RL_RESULT_20191113_[1102].dat이 없어 60초 대기후 다시 확인합니다(최대60회).\n",
      "파일 TEOS_TO_SON_RL_RESULT_20191113_[1102].dat이 없어 60초 대기후 다시 확인합니다(최대60회).\n",
      "파일 TEOS_TO_SON_RL_RESULT_20191113_[1102].dat이 없어 60초 대기후 다시 확인합니다(최대60회).\n",
      "파일 TEOS_TO_SON_RL_RESULT_20191113_[1102].dat이 없어 60초 대기후 다시 확인합니다(최대60회).\n",
      "파일 TEOS_TO_SON_RL_RESULT_20191113_[1102].dat이 없어 60초 대기후 다시 확인합니다(최대60회).\n",
      "파일 TEOS_TO_SON_RL_RESULT_20191113_[1102].dat이 없어 60초 대기후 다시 확인합니다(최대60회).\n"
     ]
    },
    {
     "name": "stderr",
     "output_type": "stream",
     "text": [
      "/home/tangosvc/anaconda3/lib/python3.7/site-packages/pandas/core/reshape/merge.py:522: UserWarning: merging between different levels can give an unintended result (2 levels on the left, 1 on the right)\n",
      "  warnings.warn(msg, UserWarning)\n"
     ]
    },
    {
     "name": "stdout",
     "output_type": "stream",
     "text": [
      "| \u001b[95m 45      \u001b[0m | \u001b[95m 205.6   \u001b[0m | \u001b[95m 2.47    \u001b[0m | \u001b[95m 5.211   \u001b[0m | \u001b[95m 6.97    \u001b[0m | \u001b[95m 2.68    \u001b[0m | \u001b[95m 3.62    \u001b[0m | \u001b[95m 2.035   \u001b[0m | \u001b[95m 6.766   \u001b[0m | \u001b[95m 4.73    \u001b[0m | \u001b[95m 4.734   \u001b[0m | \u001b[95m 5.558   \u001b[0m | \u001b[95m 7.662   \u001b[0m | \u001b[95m 4.946   \u001b[0m | \u001b[95m 2.308   \u001b[0m | \u001b[95m 3.03    \u001b[0m | \u001b[95m 4.058   \u001b[0m | \u001b[95m 4.917   \u001b[0m |\n"
     ]
    },
    {
     "name": "stderr",
     "output_type": "stream",
     "text": [
      "/home/tangosvc/anaconda3/lib/python3.7/site-packages/ipykernel_launcher.py:226: SettingWithCopyWarning: \n",
      "A value is trying to be set on a copy of a slice from a DataFrame\n",
      "\n",
      "See the caveats in the documentation: http://pandas.pydata.org/pandas-docs/stable/indexing.html#indexing-view-versus-copy\n"
     ]
    },
    {
     "name": "stdout",
     "output_type": "stream",
     "text": [
      "Request 파일(/home/tangosvc/code/data/20191113/SON_TO_TEOS_RL_REQUEST_20191113_[1103].dat)을 생성합니다.\n",
      "\n",
      "TEOS_TO_SON_RL_RESULT_20191113_[1103].dat에 대한 get명령을 실행합니다.\n",
      "파일 TEOS_TO_SON_RL_RESULT_20191113_[1103].dat이 없어 60초 대기후 다시 확인합니다(최대60회).\n",
      "파일 TEOS_TO_SON_RL_RESULT_20191113_[1103].dat이 없어 60초 대기후 다시 확인합니다(최대60회).\n",
      "파일 TEOS_TO_SON_RL_RESULT_20191113_[1103].dat이 없어 60초 대기후 다시 확인합니다(최대60회).\n",
      "파일 TEOS_TO_SON_RL_RESULT_20191113_[1103].dat이 없어 60초 대기후 다시 확인합니다(최대60회).\n",
      "파일 TEOS_TO_SON_RL_RESULT_20191113_[1103].dat이 없어 60초 대기후 다시 확인합니다(최대60회).\n",
      "파일 TEOS_TO_SON_RL_RESULT_20191113_[1103].dat이 없어 60초 대기후 다시 확인합니다(최대60회).\n",
      "파일 TEOS_TO_SON_RL_RESULT_20191113_[1103].dat이 없어 60초 대기후 다시 확인합니다(최대60회).\n",
      "파일 TEOS_TO_SON_RL_RESULT_20191113_[1103].dat이 없어 60초 대기후 다시 확인합니다(최대60회).\n",
      "파일 TEOS_TO_SON_RL_RESULT_20191113_[1103].dat이 없어 60초 대기후 다시 확인합니다(최대60회).\n",
      "파일 TEOS_TO_SON_RL_RESULT_20191113_[1103].dat이 없어 60초 대기후 다시 확인합니다(최대60회).\n"
     ]
    },
    {
     "name": "stderr",
     "output_type": "stream",
     "text": [
      "/home/tangosvc/anaconda3/lib/python3.7/site-packages/pandas/core/reshape/merge.py:522: UserWarning: merging between different levels can give an unintended result (2 levels on the left, 1 on the right)\n",
      "  warnings.warn(msg, UserWarning)\n"
     ]
    },
    {
     "name": "stdout",
     "output_type": "stream",
     "text": [
      "| \u001b[0m 46      \u001b[0m | \u001b[0m 198.3   \u001b[0m | \u001b[0m 2.692   \u001b[0m | \u001b[0m 5.182   \u001b[0m | \u001b[0m 6.599   \u001b[0m | \u001b[0m 2.331   \u001b[0m | \u001b[0m 3.527   \u001b[0m | \u001b[0m 1.626   \u001b[0m | \u001b[0m 7.306   \u001b[0m | \u001b[0m 5.113   \u001b[0m | \u001b[0m 4.34    \u001b[0m | \u001b[0m 5.386   \u001b[0m | \u001b[0m 8.0     \u001b[0m | \u001b[0m 5.136   \u001b[0m | \u001b[0m 2.524   \u001b[0m | \u001b[0m 2.979   \u001b[0m | \u001b[0m 4.168   \u001b[0m | \u001b[0m 5.059   \u001b[0m |\n"
     ]
    },
    {
     "name": "stderr",
     "output_type": "stream",
     "text": [
      "/home/tangosvc/anaconda3/lib/python3.7/site-packages/ipykernel_launcher.py:226: SettingWithCopyWarning: \n",
      "A value is trying to be set on a copy of a slice from a DataFrame\n",
      "\n",
      "See the caveats in the documentation: http://pandas.pydata.org/pandas-docs/stable/indexing.html#indexing-view-versus-copy\n"
     ]
    },
    {
     "name": "stdout",
     "output_type": "stream",
     "text": [
      "Request 파일(/home/tangosvc/code/data/20191113/SON_TO_TEOS_RL_REQUEST_20191113_[1104].dat)을 생성합니다.\n",
      "\n",
      "TEOS_TO_SON_RL_RESULT_20191113_[1104].dat에 대한 get명령을 실행합니다.\n",
      "파일 TEOS_TO_SON_RL_RESULT_20191113_[1104].dat이 없어 60초 대기후 다시 확인합니다(최대60회).\n",
      "파일 TEOS_TO_SON_RL_RESULT_20191113_[1104].dat이 없어 60초 대기후 다시 확인합니다(최대60회).\n",
      "파일 TEOS_TO_SON_RL_RESULT_20191113_[1104].dat이 없어 60초 대기후 다시 확인합니다(최대60회).\n",
      "파일 TEOS_TO_SON_RL_RESULT_20191113_[1104].dat이 없어 60초 대기후 다시 확인합니다(최대60회).\n",
      "파일 TEOS_TO_SON_RL_RESULT_20191113_[1104].dat이 없어 60초 대기후 다시 확인합니다(최대60회).\n",
      "파일 TEOS_TO_SON_RL_RESULT_20191113_[1104].dat이 없어 60초 대기후 다시 확인합니다(최대60회).\n",
      "파일 TEOS_TO_SON_RL_RESULT_20191113_[1104].dat이 없어 60초 대기후 다시 확인합니다(최대60회).\n",
      "파일 TEOS_TO_SON_RL_RESULT_20191113_[1104].dat이 없어 60초 대기후 다시 확인합니다(최대60회).\n",
      "파일 TEOS_TO_SON_RL_RESULT_20191113_[1104].dat이 없어 60초 대기후 다시 확인합니다(최대60회).\n"
     ]
    },
    {
     "name": "stderr",
     "output_type": "stream",
     "text": [
      "/home/tangosvc/anaconda3/lib/python3.7/site-packages/pandas/core/reshape/merge.py:522: UserWarning: merging between different levels can give an unintended result (2 levels on the left, 1 on the right)\n",
      "  warnings.warn(msg, UserWarning)\n"
     ]
    },
    {
     "name": "stdout",
     "output_type": "stream",
     "text": [
      "| \u001b[0m 47      \u001b[0m | \u001b[0m 186.9   \u001b[0m | \u001b[0m 2.274   \u001b[0m | \u001b[0m 5.171   \u001b[0m | \u001b[0m 7.156   \u001b[0m | \u001b[0m 2.439   \u001b[0m | \u001b[0m 3.922   \u001b[0m | \u001b[0m 2.372   \u001b[0m | \u001b[0m 6.675   \u001b[0m | \u001b[0m 4.798   \u001b[0m | \u001b[0m 4.639   \u001b[0m | \u001b[0m 5.948   \u001b[0m | \u001b[0m 7.478   \u001b[0m | \u001b[0m 5.068   \u001b[0m | \u001b[0m 2.519   \u001b[0m | \u001b[0m 3.207   \u001b[0m | \u001b[0m 3.882   \u001b[0m | \u001b[0m 4.82    \u001b[0m |\n"
     ]
    },
    {
     "name": "stderr",
     "output_type": "stream",
     "text": [
      "/home/tangosvc/anaconda3/lib/python3.7/site-packages/ipykernel_launcher.py:226: SettingWithCopyWarning: \n",
      "A value is trying to be set on a copy of a slice from a DataFrame\n",
      "\n",
      "See the caveats in the documentation: http://pandas.pydata.org/pandas-docs/stable/indexing.html#indexing-view-versus-copy\n"
     ]
    },
    {
     "name": "stdout",
     "output_type": "stream",
     "text": [
      "Request 파일(/home/tangosvc/code/data/20191113/SON_TO_TEOS_RL_REQUEST_20191113_[1105].dat)을 생성합니다.\n",
      "\n",
      "TEOS_TO_SON_RL_RESULT_20191113_[1105].dat에 대한 get명령을 실행합니다.\n",
      "파일 TEOS_TO_SON_RL_RESULT_20191113_[1105].dat이 없어 60초 대기후 다시 확인합니다(최대60회).\n",
      "파일 TEOS_TO_SON_RL_RESULT_20191113_[1105].dat이 없어 60초 대기후 다시 확인합니다(최대60회).\n",
      "파일 TEOS_TO_SON_RL_RESULT_20191113_[1105].dat이 없어 60초 대기후 다시 확인합니다(최대60회).\n",
      "파일 TEOS_TO_SON_RL_RESULT_20191113_[1105].dat이 없어 60초 대기후 다시 확인합니다(최대60회).\n",
      "파일 TEOS_TO_SON_RL_RESULT_20191113_[1105].dat이 없어 60초 대기후 다시 확인합니다(최대60회).\n",
      "파일 TEOS_TO_SON_RL_RESULT_20191113_[1105].dat이 없어 60초 대기후 다시 확인합니다(최대60회).\n",
      "파일 TEOS_TO_SON_RL_RESULT_20191113_[1105].dat이 없어 60초 대기후 다시 확인합니다(최대60회).\n",
      "파일 TEOS_TO_SON_RL_RESULT_20191113_[1105].dat이 없어 60초 대기후 다시 확인합니다(최대60회).\n",
      "파일 TEOS_TO_SON_RL_RESULT_20191113_[1105].dat이 없어 60초 대기후 다시 확인합니다(최대60회).\n",
      "파일 TEOS_TO_SON_RL_RESULT_20191113_[1105].dat이 없어 60초 대기후 다시 확인합니다(최대60회).\n"
     ]
    },
    {
     "name": "stderr",
     "output_type": "stream",
     "text": [
      "/home/tangosvc/anaconda3/lib/python3.7/site-packages/pandas/core/reshape/merge.py:522: UserWarning: merging between different levels can give an unintended result (2 levels on the left, 1 on the right)\n",
      "  warnings.warn(msg, UserWarning)\n"
     ]
    },
    {
     "name": "stdout",
     "output_type": "stream",
     "text": [
      "| \u001b[0m 48      \u001b[0m | \u001b[0m 193.5   \u001b[0m | \u001b[0m 2.588   \u001b[0m | \u001b[0m 5.213   \u001b[0m | \u001b[0m 6.556   \u001b[0m | \u001b[0m 2.59    \u001b[0m | \u001b[0m 3.714   \u001b[0m | \u001b[0m 1.979   \u001b[0m | \u001b[0m 6.675   \u001b[0m | \u001b[0m 4.859   \u001b[0m | \u001b[0m 4.912   \u001b[0m | \u001b[0m 5.781   \u001b[0m | \u001b[0m 7.808   \u001b[0m | \u001b[0m 4.929   \u001b[0m | \u001b[0m 2.201   \u001b[0m | \u001b[0m 3.061   \u001b[0m | \u001b[0m 3.995   \u001b[0m | \u001b[0m 4.941   \u001b[0m |\n"
     ]
    },
    {
     "name": "stderr",
     "output_type": "stream",
     "text": [
      "/home/tangosvc/anaconda3/lib/python3.7/site-packages/ipykernel_launcher.py:226: SettingWithCopyWarning: \n",
      "A value is trying to be set on a copy of a slice from a DataFrame\n",
      "\n",
      "See the caveats in the documentation: http://pandas.pydata.org/pandas-docs/stable/indexing.html#indexing-view-versus-copy\n"
     ]
    },
    {
     "name": "stdout",
     "output_type": "stream",
     "text": [
      "Request 파일(/home/tangosvc/code/data/20191113/SON_TO_TEOS_RL_REQUEST_20191113_[1106].dat)을 생성합니다.\n",
      "\n",
      "TEOS_TO_SON_RL_RESULT_20191113_[1106].dat에 대한 get명령을 실행합니다.\n",
      "파일 TEOS_TO_SON_RL_RESULT_20191113_[1106].dat이 없어 60초 대기후 다시 확인합니다(최대60회).\n",
      "파일 TEOS_TO_SON_RL_RESULT_20191113_[1106].dat이 없어 60초 대기후 다시 확인합니다(최대60회).\n",
      "파일 TEOS_TO_SON_RL_RESULT_20191113_[1106].dat이 없어 60초 대기후 다시 확인합니다(최대60회).\n",
      "파일 TEOS_TO_SON_RL_RESULT_20191113_[1106].dat이 없어 60초 대기후 다시 확인합니다(최대60회).\n",
      "파일 TEOS_TO_SON_RL_RESULT_20191113_[1106].dat이 없어 60초 대기후 다시 확인합니다(최대60회).\n",
      "파일 TEOS_TO_SON_RL_RESULT_20191113_[1106].dat이 없어 60초 대기후 다시 확인합니다(최대60회).\n",
      "파일 TEOS_TO_SON_RL_RESULT_20191113_[1106].dat이 없어 60초 대기후 다시 확인합니다(최대60회).\n",
      "파일 TEOS_TO_SON_RL_RESULT_20191113_[1106].dat이 없어 60초 대기후 다시 확인합니다(최대60회).\n",
      "파일 TEOS_TO_SON_RL_RESULT_20191113_[1106].dat이 없어 60초 대기후 다시 확인합니다(최대60회).\n",
      "파일 TEOS_TO_SON_RL_RESULT_20191113_[1106].dat이 없어 60초 대기후 다시 확인합니다(최대60회).\n"
     ]
    },
    {
     "name": "stderr",
     "output_type": "stream",
     "text": [
      "/home/tangosvc/anaconda3/lib/python3.7/site-packages/pandas/core/reshape/merge.py:522: UserWarning: merging between different levels can give an unintended result (2 levels on the left, 1 on the right)\n",
      "  warnings.warn(msg, UserWarning)\n"
     ]
    },
    {
     "name": "stdout",
     "output_type": "stream",
     "text": [
      "| \u001b[0m 49      \u001b[0m | \u001b[0m 202.9   \u001b[0m | \u001b[0m 2.428   \u001b[0m | \u001b[0m 5.151   \u001b[0m | \u001b[0m 7.297   \u001b[0m | \u001b[0m 2.776   \u001b[0m | \u001b[0m 3.668   \u001b[0m | \u001b[0m 2.042   \u001b[0m | \u001b[0m 6.95    \u001b[0m | \u001b[0m 4.677   \u001b[0m | \u001b[0m 4.571   \u001b[0m | \u001b[0m 5.289   \u001b[0m | \u001b[0m 7.52    \u001b[0m | \u001b[0m 5.008   \u001b[0m | \u001b[0m 2.462   \u001b[0m | \u001b[0m 2.952   \u001b[0m | \u001b[0m 4.053   \u001b[0m | \u001b[0m 4.995   \u001b[0m |\n"
     ]
    },
    {
     "name": "stderr",
     "output_type": "stream",
     "text": [
      "/home/tangosvc/anaconda3/lib/python3.7/site-packages/ipykernel_launcher.py:226: SettingWithCopyWarning: \n",
      "A value is trying to be set on a copy of a slice from a DataFrame\n",
      "\n",
      "See the caveats in the documentation: http://pandas.pydata.org/pandas-docs/stable/indexing.html#indexing-view-versus-copy\n"
     ]
    },
    {
     "name": "stdout",
     "output_type": "stream",
     "text": [
      "Request 파일(/home/tangosvc/code/data/20191113/SON_TO_TEOS_RL_REQUEST_20191113_[1107].dat)을 생성합니다.\n",
      "\n",
      "TEOS_TO_SON_RL_RESULT_20191113_[1107].dat에 대한 get명령을 실행합니다.\n",
      "파일 TEOS_TO_SON_RL_RESULT_20191113_[1107].dat이 없어 60초 대기후 다시 확인합니다(최대60회).\n",
      "파일 TEOS_TO_SON_RL_RESULT_20191113_[1107].dat이 없어 60초 대기후 다시 확인합니다(최대60회).\n",
      "파일 TEOS_TO_SON_RL_RESULT_20191113_[1107].dat이 없어 60초 대기후 다시 확인합니다(최대60회).\n",
      "파일 TEOS_TO_SON_RL_RESULT_20191113_[1107].dat이 없어 60초 대기후 다시 확인합니다(최대60회).\n",
      "파일 TEOS_TO_SON_RL_RESULT_20191113_[1107].dat이 없어 60초 대기후 다시 확인합니다(최대60회).\n",
      "파일 TEOS_TO_SON_RL_RESULT_20191113_[1107].dat이 없어 60초 대기후 다시 확인합니다(최대60회).\n",
      "파일 TEOS_TO_SON_RL_RESULT_20191113_[1107].dat이 없어 60초 대기후 다시 확인합니다(최대60회).\n",
      "파일 TEOS_TO_SON_RL_RESULT_20191113_[1107].dat이 없어 60초 대기후 다시 확인합니다(최대60회).\n",
      "파일 TEOS_TO_SON_RL_RESULT_20191113_[1107].dat이 없어 60초 대기후 다시 확인합니다(최대60회).\n"
     ]
    },
    {
     "name": "stderr",
     "output_type": "stream",
     "text": [
      "/home/tangosvc/anaconda3/lib/python3.7/site-packages/pandas/core/reshape/merge.py:522: UserWarning: merging between different levels can give an unintended result (2 levels on the left, 1 on the right)\n",
      "  warnings.warn(msg, UserWarning)\n"
     ]
    },
    {
     "name": "stdout",
     "output_type": "stream",
     "text": [
      "| \u001b[0m 50      \u001b[0m | \u001b[0m 201.9   \u001b[0m | \u001b[0m 2.592   \u001b[0m | \u001b[0m 5.185   \u001b[0m | \u001b[0m 6.631   \u001b[0m | \u001b[0m 2.011   \u001b[0m | \u001b[0m 3.639   \u001b[0m | \u001b[0m 1.778   \u001b[0m | \u001b[0m 7.402   \u001b[0m | \u001b[0m 5.274   \u001b[0m | \u001b[0m 4.144   \u001b[0m | \u001b[0m 5.692   \u001b[0m | \u001b[0m 7.953   \u001b[0m | \u001b[0m 5.322   \u001b[0m | \u001b[0m 2.747   \u001b[0m | \u001b[0m 2.99    \u001b[0m | \u001b[0m 4.023   \u001b[0m | \u001b[0m 4.98    \u001b[0m |\n"
     ]
    },
    {
     "name": "stderr",
     "output_type": "stream",
     "text": [
      "/home/tangosvc/anaconda3/lib/python3.7/site-packages/ipykernel_launcher.py:226: SettingWithCopyWarning: \n",
      "A value is trying to be set on a copy of a slice from a DataFrame\n",
      "\n",
      "See the caveats in the documentation: http://pandas.pydata.org/pandas-docs/stable/indexing.html#indexing-view-versus-copy\n"
     ]
    },
    {
     "name": "stdout",
     "output_type": "stream",
     "text": [
      "Request 파일(/home/tangosvc/code/data/20191113/SON_TO_TEOS_RL_REQUEST_20191113_[1108].dat)을 생성합니다.\n",
      "\n",
      "TEOS_TO_SON_RL_RESULT_20191113_[1108].dat에 대한 get명령을 실행합니다.\n",
      "파일 TEOS_TO_SON_RL_RESULT_20191113_[1108].dat이 없어 60초 대기후 다시 확인합니다(최대60회).\n",
      "파일 TEOS_TO_SON_RL_RESULT_20191113_[1108].dat이 없어 60초 대기후 다시 확인합니다(최대60회).\n",
      "파일 TEOS_TO_SON_RL_RESULT_20191113_[1108].dat이 없어 60초 대기후 다시 확인합니다(최대60회).\n",
      "파일 TEOS_TO_SON_RL_RESULT_20191113_[1108].dat이 없어 60초 대기후 다시 확인합니다(최대60회).\n",
      "파일 TEOS_TO_SON_RL_RESULT_20191113_[1108].dat이 없어 60초 대기후 다시 확인합니다(최대60회).\n",
      "파일 TEOS_TO_SON_RL_RESULT_20191113_[1108].dat이 없어 60초 대기후 다시 확인합니다(최대60회).\n",
      "파일 TEOS_TO_SON_RL_RESULT_20191113_[1108].dat이 없어 60초 대기후 다시 확인합니다(최대60회).\n",
      "파일 TEOS_TO_SON_RL_RESULT_20191113_[1108].dat이 없어 60초 대기후 다시 확인합니다(최대60회).\n",
      "파일 TEOS_TO_SON_RL_RESULT_20191113_[1108].dat이 없어 60초 대기후 다시 확인합니다(최대60회).\n",
      "파일 TEOS_TO_SON_RL_RESULT_20191113_[1108].dat이 없어 60초 대기후 다시 확인합니다(최대60회).\n"
     ]
    },
    {
     "name": "stderr",
     "output_type": "stream",
     "text": [
      "/home/tangosvc/anaconda3/lib/python3.7/site-packages/pandas/core/reshape/merge.py:522: UserWarning: merging between different levels can give an unintended result (2 levels on the left, 1 on the right)\n",
      "  warnings.warn(msg, UserWarning)\n"
     ]
    },
    {
     "name": "stdout",
     "output_type": "stream",
     "text": [
      "| \u001b[0m 51      \u001b[0m | \u001b[0m 193.3   \u001b[0m | \u001b[0m 2.275   \u001b[0m | \u001b[0m 5.208   \u001b[0m | \u001b[0m 7.146   \u001b[0m | \u001b[0m 2.438   \u001b[0m | \u001b[0m 3.692   \u001b[0m | \u001b[0m 2.079   \u001b[0m | \u001b[0m 6.948   \u001b[0m | \u001b[0m 4.618   \u001b[0m | \u001b[0m 4.646   \u001b[0m | \u001b[0m 5.446   \u001b[0m | \u001b[0m 7.641   \u001b[0m | \u001b[0m 5.145   \u001b[0m | \u001b[0m 2.206   \u001b[0m | \u001b[0m 2.869   \u001b[0m | \u001b[0m 4.172   \u001b[0m | \u001b[0m 4.774   \u001b[0m |\n"
     ]
    },
    {
     "name": "stderr",
     "output_type": "stream",
     "text": [
      "/home/tangosvc/anaconda3/lib/python3.7/site-packages/ipykernel_launcher.py:226: SettingWithCopyWarning: \n",
      "A value is trying to be set on a copy of a slice from a DataFrame\n",
      "\n",
      "See the caveats in the documentation: http://pandas.pydata.org/pandas-docs/stable/indexing.html#indexing-view-versus-copy\n"
     ]
    },
    {
     "name": "stdout",
     "output_type": "stream",
     "text": [
      "Request 파일(/home/tangosvc/code/data/20191113/SON_TO_TEOS_RL_REQUEST_20191113_[1109].dat)을 생성합니다.\n",
      "\n",
      "TEOS_TO_SON_RL_RESULT_20191113_[1109].dat에 대한 get명령을 실행합니다.\n",
      "파일 TEOS_TO_SON_RL_RESULT_20191113_[1109].dat이 없어 60초 대기후 다시 확인합니다(최대60회).\n",
      "파일 TEOS_TO_SON_RL_RESULT_20191113_[1109].dat이 없어 60초 대기후 다시 확인합니다(최대60회).\n",
      "파일 TEOS_TO_SON_RL_RESULT_20191113_[1109].dat이 없어 60초 대기후 다시 확인합니다(최대60회).\n",
      "파일 TEOS_TO_SON_RL_RESULT_20191113_[1109].dat이 없어 60초 대기후 다시 확인합니다(최대60회).\n",
      "파일 TEOS_TO_SON_RL_RESULT_20191113_[1109].dat이 없어 60초 대기후 다시 확인합니다(최대60회).\n",
      "파일 TEOS_TO_SON_RL_RESULT_20191113_[1109].dat이 없어 60초 대기후 다시 확인합니다(최대60회).\n",
      "파일 TEOS_TO_SON_RL_RESULT_20191113_[1109].dat이 없어 60초 대기후 다시 확인합니다(최대60회).\n",
      "파일 TEOS_TO_SON_RL_RESULT_20191113_[1109].dat이 없어 60초 대기후 다시 확인합니다(최대60회).\n",
      "파일 TEOS_TO_SON_RL_RESULT_20191113_[1109].dat이 없어 60초 대기후 다시 확인합니다(최대60회).\n"
     ]
    },
    {
     "name": "stderr",
     "output_type": "stream",
     "text": [
      "/home/tangosvc/anaconda3/lib/python3.7/site-packages/pandas/core/reshape/merge.py:522: UserWarning: merging between different levels can give an unintended result (2 levels on the left, 1 on the right)\n",
      "  warnings.warn(msg, UserWarning)\n"
     ]
    },
    {
     "name": "stdout",
     "output_type": "stream",
     "text": [
      "| \u001b[0m 52      \u001b[0m | \u001b[0m 173.5   \u001b[0m | \u001b[0m 2.621   \u001b[0m | \u001b[0m 5.246   \u001b[0m | \u001b[0m 7.067   \u001b[0m | \u001b[0m 2.909   \u001b[0m | \u001b[0m 3.498   \u001b[0m | \u001b[0m 2.03    \u001b[0m | \u001b[0m 6.686   \u001b[0m | \u001b[0m 4.869   \u001b[0m | \u001b[0m 4.647   \u001b[0m | \u001b[0m 5.565   \u001b[0m | \u001b[0m 7.567   \u001b[0m | \u001b[0m 4.788   \u001b[0m | \u001b[0m 2.551   \u001b[0m | \u001b[0m 3.192   \u001b[0m | \u001b[0m 3.87    \u001b[0m | \u001b[0m 4.97    \u001b[0m |\n"
     ]
    },
    {
     "name": "stderr",
     "output_type": "stream",
     "text": [
      "/home/tangosvc/anaconda3/lib/python3.7/site-packages/ipykernel_launcher.py:226: SettingWithCopyWarning: \n",
      "A value is trying to be set on a copy of a slice from a DataFrame\n",
      "\n",
      "See the caveats in the documentation: http://pandas.pydata.org/pandas-docs/stable/indexing.html#indexing-view-versus-copy\n"
     ]
    },
    {
     "name": "stdout",
     "output_type": "stream",
     "text": [
      "Request 파일(/home/tangosvc/code/data/20191113/SON_TO_TEOS_RL_REQUEST_20191113_[1110].dat)을 생성합니다.\n",
      "\n",
      "TEOS_TO_SON_RL_RESULT_20191113_[1110].dat에 대한 get명령을 실행합니다.\n",
      "파일 TEOS_TO_SON_RL_RESULT_20191113_[1110].dat이 없어 60초 대기후 다시 확인합니다(최대60회).\n",
      "파일 TEOS_TO_SON_RL_RESULT_20191113_[1110].dat이 없어 60초 대기후 다시 확인합니다(최대60회).\n",
      "파일 TEOS_TO_SON_RL_RESULT_20191113_[1110].dat이 없어 60초 대기후 다시 확인합니다(최대60회).\n",
      "파일 TEOS_TO_SON_RL_RESULT_20191113_[1110].dat이 없어 60초 대기후 다시 확인합니다(최대60회).\n",
      "파일 TEOS_TO_SON_RL_RESULT_20191113_[1110].dat이 없어 60초 대기후 다시 확인합니다(최대60회).\n",
      "파일 TEOS_TO_SON_RL_RESULT_20191113_[1110].dat이 없어 60초 대기후 다시 확인합니다(최대60회).\n",
      "파일 TEOS_TO_SON_RL_RESULT_20191113_[1110].dat이 없어 60초 대기후 다시 확인합니다(최대60회).\n",
      "파일 TEOS_TO_SON_RL_RESULT_20191113_[1110].dat이 없어 60초 대기후 다시 확인합니다(최대60회).\n",
      "파일 TEOS_TO_SON_RL_RESULT_20191113_[1110].dat이 없어 60초 대기후 다시 확인합니다(최대60회).\n",
      "파일 TEOS_TO_SON_RL_RESULT_20191113_[1110].dat이 없어 60초 대기후 다시 확인합니다(최대60회).\n"
     ]
    },
    {
     "name": "stderr",
     "output_type": "stream",
     "text": [
      "/home/tangosvc/anaconda3/lib/python3.7/site-packages/pandas/core/reshape/merge.py:522: UserWarning: merging between different levels can give an unintended result (2 levels on the left, 1 on the right)\n",
      "  warnings.warn(msg, UserWarning)\n"
     ]
    },
    {
     "name": "stdout",
     "output_type": "stream",
     "text": [
      "| \u001b[0m 53      \u001b[0m | \u001b[0m 202.9   \u001b[0m | \u001b[0m 2.464   \u001b[0m | \u001b[0m 4.953   \u001b[0m | \u001b[0m 6.996   \u001b[0m | \u001b[0m 2.656   \u001b[0m | \u001b[0m 4.019   \u001b[0m | \u001b[0m 2.087   \u001b[0m | \u001b[0m 6.887   \u001b[0m | \u001b[0m 4.685   \u001b[0m | \u001b[0m 4.652   \u001b[0m | \u001b[0m 5.464   \u001b[0m | \u001b[0m 7.706   \u001b[0m | \u001b[0m 4.968   \u001b[0m | \u001b[0m 2.361   \u001b[0m | \u001b[0m 2.968   \u001b[0m | \u001b[0m 4.191   \u001b[0m | \u001b[0m 5.269   \u001b[0m |\n"
     ]
    },
    {
     "name": "stderr",
     "output_type": "stream",
     "text": [
      "/home/tangosvc/anaconda3/lib/python3.7/site-packages/ipykernel_launcher.py:226: SettingWithCopyWarning: \n",
      "A value is trying to be set on a copy of a slice from a DataFrame\n",
      "\n",
      "See the caveats in the documentation: http://pandas.pydata.org/pandas-docs/stable/indexing.html#indexing-view-versus-copy\n"
     ]
    },
    {
     "name": "stdout",
     "output_type": "stream",
     "text": [
      "Request 파일(/home/tangosvc/code/data/20191113/SON_TO_TEOS_RL_REQUEST_20191113_[1111].dat)을 생성합니다.\n",
      "\n",
      "TEOS_TO_SON_RL_RESULT_20191113_[1111].dat에 대한 get명령을 실행합니다.\n",
      "파일 TEOS_TO_SON_RL_RESULT_20191113_[1111].dat이 없어 60초 대기후 다시 확인합니다(최대60회).\n",
      "파일 TEOS_TO_SON_RL_RESULT_20191113_[1111].dat이 없어 60초 대기후 다시 확인합니다(최대60회).\n",
      "파일 TEOS_TO_SON_RL_RESULT_20191113_[1111].dat이 없어 60초 대기후 다시 확인합니다(최대60회).\n",
      "파일 TEOS_TO_SON_RL_RESULT_20191113_[1111].dat이 없어 60초 대기후 다시 확인합니다(최대60회).\n",
      "파일 TEOS_TO_SON_RL_RESULT_20191113_[1111].dat이 없어 60초 대기후 다시 확인합니다(최대60회).\n",
      "파일 TEOS_TO_SON_RL_RESULT_20191113_[1111].dat이 없어 60초 대기후 다시 확인합니다(최대60회).\n",
      "파일 TEOS_TO_SON_RL_RESULT_20191113_[1111].dat이 없어 60초 대기후 다시 확인합니다(최대60회).\n",
      "파일 TEOS_TO_SON_RL_RESULT_20191113_[1111].dat이 없어 60초 대기후 다시 확인합니다(최대60회).\n",
      "파일 TEOS_TO_SON_RL_RESULT_20191113_[1111].dat이 없어 60초 대기후 다시 확인합니다(최대60회).\n",
      "파일 TEOS_TO_SON_RL_RESULT_20191113_[1111].dat이 없어 60초 대기후 다시 확인합니다(최대60회).\n"
     ]
    },
    {
     "name": "stderr",
     "output_type": "stream",
     "text": [
      "/home/tangosvc/anaconda3/lib/python3.7/site-packages/pandas/core/reshape/merge.py:522: UserWarning: merging between different levels can give an unintended result (2 levels on the left, 1 on the right)\n",
      "  warnings.warn(msg, UserWarning)\n"
     ]
    },
    {
     "name": "stdout",
     "output_type": "stream",
     "text": [
      "| \u001b[0m 54      \u001b[0m | \u001b[0m 205.6   \u001b[0m | \u001b[0m 2.432   \u001b[0m | \u001b[0m 5.12    \u001b[0m | \u001b[0m 6.999   \u001b[0m | \u001b[0m 2.666   \u001b[0m | \u001b[0m 3.778   \u001b[0m | \u001b[0m 1.987   \u001b[0m | \u001b[0m 6.932   \u001b[0m | \u001b[0m 4.736   \u001b[0m | \u001b[0m 4.694   \u001b[0m | \u001b[0m 5.506   \u001b[0m | \u001b[0m 7.666   \u001b[0m | \u001b[0m 5.079   \u001b[0m | \u001b[0m 2.368   \u001b[0m | \u001b[0m 2.987   \u001b[0m | \u001b[0m 4.056   \u001b[0m | \u001b[0m 5.014   \u001b[0m |\n"
     ]
    },
    {
     "name": "stderr",
     "output_type": "stream",
     "text": [
      "/home/tangosvc/anaconda3/lib/python3.7/site-packages/ipykernel_launcher.py:226: SettingWithCopyWarning: \n",
      "A value is trying to be set on a copy of a slice from a DataFrame\n",
      "\n",
      "See the caveats in the documentation: http://pandas.pydata.org/pandas-docs/stable/indexing.html#indexing-view-versus-copy\n"
     ]
    },
    {
     "name": "stdout",
     "output_type": "stream",
     "text": [
      "Request 파일(/home/tangosvc/code/data/20191113/SON_TO_TEOS_RL_REQUEST_20191113_[1112].dat)을 생성합니다.\n",
      "\n",
      "TEOS_TO_SON_RL_RESULT_20191113_[1112].dat에 대한 get명령을 실행합니다.\n",
      "파일 TEOS_TO_SON_RL_RESULT_20191113_[1112].dat이 없어 60초 대기후 다시 확인합니다(최대60회).\n",
      "파일 TEOS_TO_SON_RL_RESULT_20191113_[1112].dat이 없어 60초 대기후 다시 확인합니다(최대60회).\n",
      "파일 TEOS_TO_SON_RL_RESULT_20191113_[1112].dat이 없어 60초 대기후 다시 확인합니다(최대60회).\n",
      "파일 TEOS_TO_SON_RL_RESULT_20191113_[1112].dat이 없어 60초 대기후 다시 확인합니다(최대60회).\n",
      "파일 TEOS_TO_SON_RL_RESULT_20191113_[1112].dat이 없어 60초 대기후 다시 확인합니다(최대60회).\n",
      "파일 TEOS_TO_SON_RL_RESULT_20191113_[1112].dat이 없어 60초 대기후 다시 확인합니다(최대60회).\n",
      "파일 TEOS_TO_SON_RL_RESULT_20191113_[1112].dat이 없어 60초 대기후 다시 확인합니다(최대60회).\n",
      "파일 TEOS_TO_SON_RL_RESULT_20191113_[1112].dat이 없어 60초 대기후 다시 확인합니다(최대60회).\n",
      "파일 TEOS_TO_SON_RL_RESULT_20191113_[1112].dat이 없어 60초 대기후 다시 확인합니다(최대60회).\n"
     ]
    },
    {
     "name": "stderr",
     "output_type": "stream",
     "text": [
      "/home/tangosvc/anaconda3/lib/python3.7/site-packages/pandas/core/reshape/merge.py:522: UserWarning: merging between different levels can give an unintended result (2 levels on the left, 1 on the right)\n",
      "  warnings.warn(msg, UserWarning)\n"
     ]
    },
    {
     "name": "stdout",
     "output_type": "stream",
     "text": [
      "| \u001b[0m 55      \u001b[0m | \u001b[0m 196.6   \u001b[0m | \u001b[0m 2.705   \u001b[0m | \u001b[0m 5.32    \u001b[0m | \u001b[0m 6.467   \u001b[0m | \u001b[0m 2.004   \u001b[0m | \u001b[0m 3.695   \u001b[0m | \u001b[0m 1.58    \u001b[0m | \u001b[0m 7.424   \u001b[0m | \u001b[0m 5.338   \u001b[0m | \u001b[0m 4.316   \u001b[0m | \u001b[0m 5.6     \u001b[0m | \u001b[0m 8.0     \u001b[0m | \u001b[0m 5.254   \u001b[0m | \u001b[0m 2.6     \u001b[0m | \u001b[0m 3.058   \u001b[0m | \u001b[0m 4.148   \u001b[0m | \u001b[0m 4.975   \u001b[0m |\n"
     ]
    },
    {
     "name": "stderr",
     "output_type": "stream",
     "text": [
      "/home/tangosvc/anaconda3/lib/python3.7/site-packages/ipykernel_launcher.py:226: SettingWithCopyWarning: \n",
      "A value is trying to be set on a copy of a slice from a DataFrame\n",
      "\n",
      "See the caveats in the documentation: http://pandas.pydata.org/pandas-docs/stable/indexing.html#indexing-view-versus-copy\n"
     ]
    },
    {
     "name": "stdout",
     "output_type": "stream",
     "text": [
      "Request 파일(/home/tangosvc/code/data/20191113/SON_TO_TEOS_RL_REQUEST_20191113_[1113].dat)을 생성합니다.\n",
      "\n",
      "TEOS_TO_SON_RL_RESULT_20191113_[1113].dat에 대한 get명령을 실행합니다.\n",
      "파일 TEOS_TO_SON_RL_RESULT_20191113_[1113].dat이 없어 60초 대기후 다시 확인합니다(최대60회).\n",
      "파일 TEOS_TO_SON_RL_RESULT_20191113_[1113].dat이 없어 60초 대기후 다시 확인합니다(최대60회).\n",
      "파일 TEOS_TO_SON_RL_RESULT_20191113_[1113].dat이 없어 60초 대기후 다시 확인합니다(최대60회).\n",
      "파일 TEOS_TO_SON_RL_RESULT_20191113_[1113].dat이 없어 60초 대기후 다시 확인합니다(최대60회).\n",
      "파일 TEOS_TO_SON_RL_RESULT_20191113_[1113].dat이 없어 60초 대기후 다시 확인합니다(최대60회).\n",
      "파일 TEOS_TO_SON_RL_RESULT_20191113_[1113].dat이 없어 60초 대기후 다시 확인합니다(최대60회).\n",
      "파일 TEOS_TO_SON_RL_RESULT_20191113_[1113].dat이 없어 60초 대기후 다시 확인합니다(최대60회).\n",
      "파일 TEOS_TO_SON_RL_RESULT_20191113_[1113].dat이 없어 60초 대기후 다시 확인합니다(최대60회).\n",
      "파일 TEOS_TO_SON_RL_RESULT_20191113_[1113].dat이 없어 60초 대기후 다시 확인합니다(최대60회).\n",
      "파일 TEOS_TO_SON_RL_RESULT_20191113_[1113].dat이 없어 60초 대기후 다시 확인합니다(최대60회).\n"
     ]
    },
    {
     "name": "stderr",
     "output_type": "stream",
     "text": [
      "/home/tangosvc/anaconda3/lib/python3.7/site-packages/pandas/core/reshape/merge.py:522: UserWarning: merging between different levels can give an unintended result (2 levels on the left, 1 on the right)\n",
      "  warnings.warn(msg, UserWarning)\n"
     ]
    },
    {
     "name": "stdout",
     "output_type": "stream",
     "text": [
      "| \u001b[0m 56      \u001b[0m | \u001b[0m 198.8   \u001b[0m | \u001b[0m 2.625   \u001b[0m | \u001b[0m 4.793   \u001b[0m | \u001b[0m 6.688   \u001b[0m | \u001b[0m 2.17    \u001b[0m | \u001b[0m 3.631   \u001b[0m | \u001b[0m 2.025   \u001b[0m | \u001b[0m 7.102   \u001b[0m | \u001b[0m 4.977   \u001b[0m | \u001b[0m 4.194   \u001b[0m | \u001b[0m 5.607   \u001b[0m | \u001b[0m 7.944   \u001b[0m | \u001b[0m 5.045   \u001b[0m | \u001b[0m 2.385   \u001b[0m | \u001b[0m 2.828   \u001b[0m | \u001b[0m 3.829   \u001b[0m | \u001b[0m 5.071   \u001b[0m |\n"
     ]
    },
    {
     "name": "stderr",
     "output_type": "stream",
     "text": [
      "/home/tangosvc/anaconda3/lib/python3.7/site-packages/ipykernel_launcher.py:226: SettingWithCopyWarning: \n",
      "A value is trying to be set on a copy of a slice from a DataFrame\n",
      "\n",
      "See the caveats in the documentation: http://pandas.pydata.org/pandas-docs/stable/indexing.html#indexing-view-versus-copy\n"
     ]
    },
    {
     "name": "stdout",
     "output_type": "stream",
     "text": [
      "Request 파일(/home/tangosvc/code/data/20191113/SON_TO_TEOS_RL_REQUEST_20191113_[1114].dat)을 생성합니다.\n",
      "\n",
      "TEOS_TO_SON_RL_RESULT_20191113_[1114].dat에 대한 get명령을 실행합니다.\n",
      "파일 TEOS_TO_SON_RL_RESULT_20191113_[1114].dat이 없어 60초 대기후 다시 확인합니다(최대60회).\n",
      "파일 TEOS_TO_SON_RL_RESULT_20191113_[1114].dat이 없어 60초 대기후 다시 확인합니다(최대60회).\n",
      "파일 TEOS_TO_SON_RL_RESULT_20191113_[1114].dat이 없어 60초 대기후 다시 확인합니다(최대60회).\n",
      "파일 TEOS_TO_SON_RL_RESULT_20191113_[1114].dat이 없어 60초 대기후 다시 확인합니다(최대60회).\n",
      "파일 TEOS_TO_SON_RL_RESULT_20191113_[1114].dat이 없어 60초 대기후 다시 확인합니다(최대60회).\n",
      "파일 TEOS_TO_SON_RL_RESULT_20191113_[1114].dat이 없어 60초 대기후 다시 확인합니다(최대60회).\n",
      "파일 TEOS_TO_SON_RL_RESULT_20191113_[1114].dat이 없어 60초 대기후 다시 확인합니다(최대60회).\n",
      "파일 TEOS_TO_SON_RL_RESULT_20191113_[1114].dat이 없어 60초 대기후 다시 확인합니다(최대60회).\n",
      "파일 TEOS_TO_SON_RL_RESULT_20191113_[1114].dat이 없어 60초 대기후 다시 확인합니다(최대60회).\n"
     ]
    },
    {
     "name": "stderr",
     "output_type": "stream",
     "text": [
      "/home/tangosvc/anaconda3/lib/python3.7/site-packages/pandas/core/reshape/merge.py:522: UserWarning: merging between different levels can give an unintended result (2 levels on the left, 1 on the right)\n",
      "  warnings.warn(msg, UserWarning)\n"
     ]
    },
    {
     "name": "stdout",
     "output_type": "stream",
     "text": [
      "| \u001b[0m 57      \u001b[0m | \u001b[0m 201.9   \u001b[0m | \u001b[0m 2.705   \u001b[0m | \u001b[0m 5.134   \u001b[0m | \u001b[0m 6.644   \u001b[0m | \u001b[0m 2.202   \u001b[0m | \u001b[0m 3.561   \u001b[0m | \u001b[0m 1.686   \u001b[0m | \u001b[0m 7.386   \u001b[0m | \u001b[0m 5.268   \u001b[0m | \u001b[0m 4.163   \u001b[0m | \u001b[0m 5.573   \u001b[0m | \u001b[0m 8.0     \u001b[0m | \u001b[0m 5.227   \u001b[0m | \u001b[0m 2.644   \u001b[0m | \u001b[0m 2.934   \u001b[0m | \u001b[0m 3.936   \u001b[0m | \u001b[0m 4.973   \u001b[0m |\n"
     ]
    },
    {
     "name": "stderr",
     "output_type": "stream",
     "text": [
      "/home/tangosvc/anaconda3/lib/python3.7/site-packages/ipykernel_launcher.py:226: SettingWithCopyWarning: \n",
      "A value is trying to be set on a copy of a slice from a DataFrame\n",
      "\n",
      "See the caveats in the documentation: http://pandas.pydata.org/pandas-docs/stable/indexing.html#indexing-view-versus-copy\n"
     ]
    },
    {
     "name": "stdout",
     "output_type": "stream",
     "text": [
      "Request 파일(/home/tangosvc/code/data/20191113/SON_TO_TEOS_RL_REQUEST_20191113_[1115].dat)을 생성합니다.\n",
      "\n",
      "TEOS_TO_SON_RL_RESULT_20191113_[1115].dat에 대한 get명령을 실행합니다.\n",
      "파일 TEOS_TO_SON_RL_RESULT_20191113_[1115].dat이 없어 60초 대기후 다시 확인합니다(최대60회).\n",
      "파일 TEOS_TO_SON_RL_RESULT_20191113_[1115].dat이 없어 60초 대기후 다시 확인합니다(최대60회).\n",
      "파일 TEOS_TO_SON_RL_RESULT_20191113_[1115].dat이 없어 60초 대기후 다시 확인합니다(최대60회).\n",
      "파일 TEOS_TO_SON_RL_RESULT_20191113_[1115].dat이 없어 60초 대기후 다시 확인합니다(최대60회).\n",
      "파일 TEOS_TO_SON_RL_RESULT_20191113_[1115].dat이 없어 60초 대기후 다시 확인합니다(최대60회).\n",
      "파일 TEOS_TO_SON_RL_RESULT_20191113_[1115].dat이 없어 60초 대기후 다시 확인합니다(최대60회).\n",
      "파일 TEOS_TO_SON_RL_RESULT_20191113_[1115].dat이 없어 60초 대기후 다시 확인합니다(최대60회).\n",
      "파일 TEOS_TO_SON_RL_RESULT_20191113_[1115].dat이 없어 60초 대기후 다시 확인합니다(최대60회).\n",
      "파일 TEOS_TO_SON_RL_RESULT_20191113_[1115].dat이 없어 60초 대기후 다시 확인합니다(최대60회).\n",
      "파일 TEOS_TO_SON_RL_RESULT_20191113_[1115].dat이 없어 60초 대기후 다시 확인합니다(최대60회).\n"
     ]
    },
    {
     "name": "stderr",
     "output_type": "stream",
     "text": [
      "/home/tangosvc/anaconda3/lib/python3.7/site-packages/pandas/core/reshape/merge.py:522: UserWarning: merging between different levels can give an unintended result (2 levels on the left, 1 on the right)\n",
      "  warnings.warn(msg, UserWarning)\n"
     ]
    },
    {
     "name": "stdout",
     "output_type": "stream",
     "text": [
      "| \u001b[0m 58      \u001b[0m | \u001b[0m 186.7   \u001b[0m | \u001b[0m 2.584   \u001b[0m | \u001b[0m 5.224   \u001b[0m | \u001b[0m 6.877   \u001b[0m | \u001b[0m 2.296   \u001b[0m | \u001b[0m 3.841   \u001b[0m | \u001b[0m 2.031   \u001b[0m | \u001b[0m 6.934   \u001b[0m | \u001b[0m 4.938   \u001b[0m | \u001b[0m 4.517   \u001b[0m | \u001b[0m 5.609   \u001b[0m | \u001b[0m 7.76    \u001b[0m | \u001b[0m 4.869   \u001b[0m | \u001b[0m 2.515   \u001b[0m | \u001b[0m 2.927   \u001b[0m | \u001b[0m 4.206   \u001b[0m | \u001b[0m 5.216   \u001b[0m |\n"
     ]
    },
    {
     "name": "stderr",
     "output_type": "stream",
     "text": [
      "/home/tangosvc/anaconda3/lib/python3.7/site-packages/ipykernel_launcher.py:226: SettingWithCopyWarning: \n",
      "A value is trying to be set on a copy of a slice from a DataFrame\n",
      "\n",
      "See the caveats in the documentation: http://pandas.pydata.org/pandas-docs/stable/indexing.html#indexing-view-versus-copy\n"
     ]
    },
    {
     "name": "stdout",
     "output_type": "stream",
     "text": [
      "Request 파일(/home/tangosvc/code/data/20191113/SON_TO_TEOS_RL_REQUEST_20191113_[1116].dat)을 생성합니다.\n",
      "\n",
      "TEOS_TO_SON_RL_RESULT_20191113_[1116].dat에 대한 get명령을 실행합니다.\n",
      "파일 TEOS_TO_SON_RL_RESULT_20191113_[1116].dat이 없어 60초 대기후 다시 확인합니다(최대60회).\n",
      "파일 TEOS_TO_SON_RL_RESULT_20191113_[1116].dat이 없어 60초 대기후 다시 확인합니다(최대60회).\n",
      "파일 TEOS_TO_SON_RL_RESULT_20191113_[1116].dat이 없어 60초 대기후 다시 확인합니다(최대60회).\n",
      "파일 TEOS_TO_SON_RL_RESULT_20191113_[1116].dat이 없어 60초 대기후 다시 확인합니다(최대60회).\n",
      "파일 TEOS_TO_SON_RL_RESULT_20191113_[1116].dat이 없어 60초 대기후 다시 확인합니다(최대60회).\n",
      "파일 TEOS_TO_SON_RL_RESULT_20191113_[1116].dat이 없어 60초 대기후 다시 확인합니다(최대60회).\n",
      "파일 TEOS_TO_SON_RL_RESULT_20191113_[1116].dat이 없어 60초 대기후 다시 확인합니다(최대60회).\n",
      "파일 TEOS_TO_SON_RL_RESULT_20191113_[1116].dat이 없어 60초 대기후 다시 확인합니다(최대60회).\n",
      "파일 TEOS_TO_SON_RL_RESULT_20191113_[1116].dat이 없어 60초 대기후 다시 확인합니다(최대60회).\n",
      "파일 TEOS_TO_SON_RL_RESULT_20191113_[1116].dat이 없어 60초 대기후 다시 확인합니다(최대60회).\n"
     ]
    },
    {
     "name": "stderr",
     "output_type": "stream",
     "text": [
      "/home/tangosvc/anaconda3/lib/python3.7/site-packages/pandas/core/reshape/merge.py:522: UserWarning: merging between different levels can give an unintended result (2 levels on the left, 1 on the right)\n",
      "  warnings.warn(msg, UserWarning)\n"
     ]
    },
    {
     "name": "stdout",
     "output_type": "stream",
     "text": [
      "| \u001b[0m 59      \u001b[0m | \u001b[0m 202.9   \u001b[0m | \u001b[0m 2.394   \u001b[0m | \u001b[0m 4.84    \u001b[0m | \u001b[0m 6.949   \u001b[0m | \u001b[0m 2.913   \u001b[0m | \u001b[0m 3.869   \u001b[0m | \u001b[0m 2.084   \u001b[0m | \u001b[0m 6.798   \u001b[0m | \u001b[0m 4.636   \u001b[0m | \u001b[0m 4.62    \u001b[0m | \u001b[0m 5.35    \u001b[0m | \u001b[0m 7.65    \u001b[0m | \u001b[0m 5.107   \u001b[0m | \u001b[0m 2.197   \u001b[0m | \u001b[0m 3.228   \u001b[0m | \u001b[0m 4.186   \u001b[0m | \u001b[0m 4.866   \u001b[0m |\n"
     ]
    },
    {
     "name": "stderr",
     "output_type": "stream",
     "text": [
      "/home/tangosvc/anaconda3/lib/python3.7/site-packages/ipykernel_launcher.py:226: SettingWithCopyWarning: \n",
      "A value is trying to be set on a copy of a slice from a DataFrame\n",
      "\n",
      "See the caveats in the documentation: http://pandas.pydata.org/pandas-docs/stable/indexing.html#indexing-view-versus-copy\n"
     ]
    },
    {
     "name": "stdout",
     "output_type": "stream",
     "text": [
      "Request 파일(/home/tangosvc/code/data/20191113/SON_TO_TEOS_RL_REQUEST_20191113_[1117].dat)을 생성합니다.\n",
      "\n",
      "TEOS_TO_SON_RL_RESULT_20191113_[1117].dat에 대한 get명령을 실행합니다.\n",
      "파일 TEOS_TO_SON_RL_RESULT_20191113_[1117].dat이 없어 60초 대기후 다시 확인합니다(최대60회).\n",
      "파일 TEOS_TO_SON_RL_RESULT_20191113_[1117].dat이 없어 60초 대기후 다시 확인합니다(최대60회).\n",
      "파일 TEOS_TO_SON_RL_RESULT_20191113_[1117].dat이 없어 60초 대기후 다시 확인합니다(최대60회).\n",
      "파일 TEOS_TO_SON_RL_RESULT_20191113_[1117].dat이 없어 60초 대기후 다시 확인합니다(최대60회).\n",
      "파일 TEOS_TO_SON_RL_RESULT_20191113_[1117].dat이 없어 60초 대기후 다시 확인합니다(최대60회).\n",
      "파일 TEOS_TO_SON_RL_RESULT_20191113_[1117].dat이 없어 60초 대기후 다시 확인합니다(최대60회).\n",
      "파일 TEOS_TO_SON_RL_RESULT_20191113_[1117].dat이 없어 60초 대기후 다시 확인합니다(최대60회).\n",
      "파일 TEOS_TO_SON_RL_RESULT_20191113_[1117].dat이 없어 60초 대기후 다시 확인합니다(최대60회).\n",
      "파일 TEOS_TO_SON_RL_RESULT_20191113_[1117].dat이 없어 60초 대기후 다시 확인합니다(최대60회).\n"
     ]
    },
    {
     "name": "stderr",
     "output_type": "stream",
     "text": [
      "/home/tangosvc/anaconda3/lib/python3.7/site-packages/pandas/core/reshape/merge.py:522: UserWarning: merging between different levels can give an unintended result (2 levels on the left, 1 on the right)\n",
      "  warnings.warn(msg, UserWarning)\n"
     ]
    },
    {
     "name": "stdout",
     "output_type": "stream",
     "text": [
      "| \u001b[0m 60      \u001b[0m | \u001b[0m 193.8   \u001b[0m | \u001b[0m 2.69    \u001b[0m | \u001b[0m 5.042   \u001b[0m | \u001b[0m 6.453   \u001b[0m | \u001b[0m 1.982   \u001b[0m | \u001b[0m 3.535   \u001b[0m | \u001b[0m 1.802   \u001b[0m | \u001b[0m 7.302   \u001b[0m | \u001b[0m 5.208   \u001b[0m | \u001b[0m 4.116   \u001b[0m | \u001b[0m 5.702   \u001b[0m | \u001b[0m 8.0     \u001b[0m | \u001b[0m 5.214   \u001b[0m | \u001b[0m 2.431   \u001b[0m | \u001b[0m 2.843   \u001b[0m | \u001b[0m 4.093   \u001b[0m | \u001b[0m 4.948   \u001b[0m |\n"
     ]
    },
    {
     "name": "stderr",
     "output_type": "stream",
     "text": [
      "/home/tangosvc/anaconda3/lib/python3.7/site-packages/ipykernel_launcher.py:226: SettingWithCopyWarning: \n",
      "A value is trying to be set on a copy of a slice from a DataFrame\n",
      "\n",
      "See the caveats in the documentation: http://pandas.pydata.org/pandas-docs/stable/indexing.html#indexing-view-versus-copy\n"
     ]
    },
    {
     "name": "stdout",
     "output_type": "stream",
     "text": [
      "Request 파일(/home/tangosvc/code/data/20191113/SON_TO_TEOS_RL_REQUEST_20191113_[1118].dat)을 생성합니다.\n",
      "\n",
      "TEOS_TO_SON_RL_RESULT_20191113_[1118].dat에 대한 get명령을 실행합니다.\n",
      "파일 TEOS_TO_SON_RL_RESULT_20191113_[1118].dat이 없어 60초 대기후 다시 확인합니다(최대60회).\n",
      "파일 TEOS_TO_SON_RL_RESULT_20191113_[1118].dat이 없어 60초 대기후 다시 확인합니다(최대60회).\n",
      "파일 TEOS_TO_SON_RL_RESULT_20191113_[1118].dat이 없어 60초 대기후 다시 확인합니다(최대60회).\n",
      "파일 TEOS_TO_SON_RL_RESULT_20191113_[1118].dat이 없어 60초 대기후 다시 확인합니다(최대60회).\n",
      "파일 TEOS_TO_SON_RL_RESULT_20191113_[1118].dat이 없어 60초 대기후 다시 확인합니다(최대60회).\n",
      "파일 TEOS_TO_SON_RL_RESULT_20191113_[1118].dat이 없어 60초 대기후 다시 확인합니다(최대60회).\n",
      "파일 TEOS_TO_SON_RL_RESULT_20191113_[1118].dat이 없어 60초 대기후 다시 확인합니다(최대60회).\n",
      "파일 TEOS_TO_SON_RL_RESULT_20191113_[1118].dat이 없어 60초 대기후 다시 확인합니다(최대60회).\n",
      "파일 TEOS_TO_SON_RL_RESULT_20191113_[1118].dat이 없어 60초 대기후 다시 확인합니다(최대60회).\n",
      "파일 TEOS_TO_SON_RL_RESULT_20191113_[1118].dat이 없어 60초 대기후 다시 확인합니다(최대60회).\n"
     ]
    },
    {
     "name": "stderr",
     "output_type": "stream",
     "text": [
      "/home/tangosvc/anaconda3/lib/python3.7/site-packages/pandas/core/reshape/merge.py:522: UserWarning: merging between different levels can give an unintended result (2 levels on the left, 1 on the right)\n",
      "  warnings.warn(msg, UserWarning)\n"
     ]
    },
    {
     "name": "stdout",
     "output_type": "stream",
     "text": [
      "| \u001b[0m 61      \u001b[0m | \u001b[0m 202.9   \u001b[0m | \u001b[0m 2.336   \u001b[0m | \u001b[0m 4.879   \u001b[0m | \u001b[0m 7.062   \u001b[0m | \u001b[0m 2.714   \u001b[0m | \u001b[0m 3.772   \u001b[0m | \u001b[0m 2.034   \u001b[0m | \u001b[0m 6.84    \u001b[0m | \u001b[0m 4.576   \u001b[0m | \u001b[0m 4.663   \u001b[0m | \u001b[0m 5.412   \u001b[0m | \u001b[0m 7.788   \u001b[0m | \u001b[0m 4.966   \u001b[0m | \u001b[0m 2.248   \u001b[0m | \u001b[0m 2.958   \u001b[0m | \u001b[0m 3.912   \u001b[0m | \u001b[0m 5.02    \u001b[0m |\n"
     ]
    },
    {
     "name": "stderr",
     "output_type": "stream",
     "text": [
      "/home/tangosvc/anaconda3/lib/python3.7/site-packages/ipykernel_launcher.py:226: SettingWithCopyWarning: \n",
      "A value is trying to be set on a copy of a slice from a DataFrame\n",
      "\n",
      "See the caveats in the documentation: http://pandas.pydata.org/pandas-docs/stable/indexing.html#indexing-view-versus-copy\n"
     ]
    },
    {
     "name": "stdout",
     "output_type": "stream",
     "text": [
      "Request 파일(/home/tangosvc/code/data/20191113/SON_TO_TEOS_RL_REQUEST_20191113_[1119].dat)을 생성합니다.\n",
      "\n",
      "TEOS_TO_SON_RL_RESULT_20191113_[1119].dat에 대한 get명령을 실행합니다.\n",
      "파일 TEOS_TO_SON_RL_RESULT_20191113_[1119].dat이 없어 60초 대기후 다시 확인합니다(최대60회).\n",
      "파일 TEOS_TO_SON_RL_RESULT_20191113_[1119].dat이 없어 60초 대기후 다시 확인합니다(최대60회).\n",
      "파일 TEOS_TO_SON_RL_RESULT_20191113_[1119].dat이 없어 60초 대기후 다시 확인합니다(최대60회).\n",
      "파일 TEOS_TO_SON_RL_RESULT_20191113_[1119].dat이 없어 60초 대기후 다시 확인합니다(최대60회).\n",
      "파일 TEOS_TO_SON_RL_RESULT_20191113_[1119].dat이 없어 60초 대기후 다시 확인합니다(최대60회).\n",
      "파일 TEOS_TO_SON_RL_RESULT_20191113_[1119].dat이 없어 60초 대기후 다시 확인합니다(최대60회).\n",
      "파일 TEOS_TO_SON_RL_RESULT_20191113_[1119].dat이 없어 60초 대기후 다시 확인합니다(최대60회).\n",
      "파일 TEOS_TO_SON_RL_RESULT_20191113_[1119].dat이 없어 60초 대기후 다시 확인합니다(최대60회).\n",
      "파일 TEOS_TO_SON_RL_RESULT_20191113_[1119].dat이 없어 60초 대기후 다시 확인합니다(최대60회).\n"
     ]
    },
    {
     "name": "stderr",
     "output_type": "stream",
     "text": [
      "/home/tangosvc/anaconda3/lib/python3.7/site-packages/pandas/core/reshape/merge.py:522: UserWarning: merging between different levels can give an unintended result (2 levels on the left, 1 on the right)\n",
      "  warnings.warn(msg, UserWarning)\n"
     ]
    },
    {
     "name": "stdout",
     "output_type": "stream",
     "text": [
      "| \u001b[0m 62      \u001b[0m | \u001b[0m 201.9   \u001b[0m | \u001b[0m 2.585   \u001b[0m | \u001b[0m 5.395   \u001b[0m | \u001b[0m 6.797   \u001b[0m | \u001b[0m 2.09    \u001b[0m | \u001b[0m 3.596   \u001b[0m | \u001b[0m 1.652   \u001b[0m | \u001b[0m 7.384   \u001b[0m | \u001b[0m 5.28    \u001b[0m | \u001b[0m 4.22    \u001b[0m | \u001b[0m 5.571   \u001b[0m | \u001b[0m 8.0     \u001b[0m | \u001b[0m 5.18    \u001b[0m | \u001b[0m 2.753   \u001b[0m | \u001b[0m 2.898   \u001b[0m | \u001b[0m 4.062   \u001b[0m | \u001b[0m 4.909   \u001b[0m |\n"
     ]
    },
    {
     "name": "stderr",
     "output_type": "stream",
     "text": [
      "/home/tangosvc/anaconda3/lib/python3.7/site-packages/ipykernel_launcher.py:226: SettingWithCopyWarning: \n",
      "A value is trying to be set on a copy of a slice from a DataFrame\n",
      "\n",
      "See the caveats in the documentation: http://pandas.pydata.org/pandas-docs/stable/indexing.html#indexing-view-versus-copy\n"
     ]
    },
    {
     "name": "stdout",
     "output_type": "stream",
     "text": [
      "Request 파일(/home/tangosvc/code/data/20191113/SON_TO_TEOS_RL_REQUEST_20191113_[1120].dat)을 생성합니다.\n",
      "\n",
      "TEOS_TO_SON_RL_RESULT_20191113_[1120].dat에 대한 get명령을 실행합니다.\n",
      "파일 TEOS_TO_SON_RL_RESULT_20191113_[1120].dat이 없어 60초 대기후 다시 확인합니다(최대60회).\n",
      "파일 TEOS_TO_SON_RL_RESULT_20191113_[1120].dat이 없어 60초 대기후 다시 확인합니다(최대60회).\n",
      "파일 TEOS_TO_SON_RL_RESULT_20191113_[1120].dat이 없어 60초 대기후 다시 확인합니다(최대60회).\n",
      "파일 TEOS_TO_SON_RL_RESULT_20191113_[1120].dat이 없어 60초 대기후 다시 확인합니다(최대60회).\n",
      "파일 TEOS_TO_SON_RL_RESULT_20191113_[1120].dat이 없어 60초 대기후 다시 확인합니다(최대60회).\n",
      "파일 TEOS_TO_SON_RL_RESULT_20191113_[1120].dat이 없어 60초 대기후 다시 확인합니다(최대60회).\n",
      "파일 TEOS_TO_SON_RL_RESULT_20191113_[1120].dat이 없어 60초 대기후 다시 확인합니다(최대60회).\n",
      "파일 TEOS_TO_SON_RL_RESULT_20191113_[1120].dat이 없어 60초 대기후 다시 확인합니다(최대60회).\n",
      "파일 TEOS_TO_SON_RL_RESULT_20191113_[1120].dat이 없어 60초 대기후 다시 확인합니다(최대60회).\n",
      "파일 TEOS_TO_SON_RL_RESULT_20191113_[1120].dat이 없어 60초 대기후 다시 확인합니다(최대60회).\n"
     ]
    },
    {
     "name": "stderr",
     "output_type": "stream",
     "text": [
      "/home/tangosvc/anaconda3/lib/python3.7/site-packages/pandas/core/reshape/merge.py:522: UserWarning: merging between different levels can give an unintended result (2 levels on the left, 1 on the right)\n",
      "  warnings.warn(msg, UserWarning)\n"
     ]
    },
    {
     "name": "stdout",
     "output_type": "stream",
     "text": [
      "| \u001b[0m 63      \u001b[0m | \u001b[0m 190.2   \u001b[0m | \u001b[0m 2.52    \u001b[0m | \u001b[0m 5.072   \u001b[0m | \u001b[0m 7.027   \u001b[0m | \u001b[0m 2.795   \u001b[0m | \u001b[0m 3.706   \u001b[0m | \u001b[0m 2.109   \u001b[0m | \u001b[0m 6.859   \u001b[0m | \u001b[0m 4.677   \u001b[0m | \u001b[0m 4.678   \u001b[0m | \u001b[0m 5.458   \u001b[0m | \u001b[0m 7.615   \u001b[0m | \u001b[0m 5.092   \u001b[0m | \u001b[0m 2.228   \u001b[0m | \u001b[0m 2.995   \u001b[0m | \u001b[0m 4.119   \u001b[0m | \u001b[0m 4.955   \u001b[0m |\n"
     ]
    },
    {
     "name": "stderr",
     "output_type": "stream",
     "text": [
      "/home/tangosvc/anaconda3/lib/python3.7/site-packages/ipykernel_launcher.py:226: SettingWithCopyWarning: \n",
      "A value is trying to be set on a copy of a slice from a DataFrame\n",
      "\n",
      "See the caveats in the documentation: http://pandas.pydata.org/pandas-docs/stable/indexing.html#indexing-view-versus-copy\n"
     ]
    },
    {
     "name": "stdout",
     "output_type": "stream",
     "text": [
      "Request 파일(/home/tangosvc/code/data/20191113/SON_TO_TEOS_RL_REQUEST_20191113_[1121].dat)을 생성합니다.\n",
      "\n",
      "TEOS_TO_SON_RL_RESULT_20191113_[1121].dat에 대한 get명령을 실행합니다.\n",
      "파일 TEOS_TO_SON_RL_RESULT_20191113_[1121].dat이 없어 60초 대기후 다시 확인합니다(최대60회).\n",
      "파일 TEOS_TO_SON_RL_RESULT_20191113_[1121].dat이 없어 60초 대기후 다시 확인합니다(최대60회).\n",
      "파일 TEOS_TO_SON_RL_RESULT_20191113_[1121].dat이 없어 60초 대기후 다시 확인합니다(최대60회).\n",
      "파일 TEOS_TO_SON_RL_RESULT_20191113_[1121].dat이 없어 60초 대기후 다시 확인합니다(최대60회).\n",
      "파일 TEOS_TO_SON_RL_RESULT_20191113_[1121].dat이 없어 60초 대기후 다시 확인합니다(최대60회).\n",
      "파일 TEOS_TO_SON_RL_RESULT_20191113_[1121].dat이 없어 60초 대기후 다시 확인합니다(최대60회).\n",
      "파일 TEOS_TO_SON_RL_RESULT_20191113_[1121].dat이 없어 60초 대기후 다시 확인합니다(최대60회).\n",
      "파일 TEOS_TO_SON_RL_RESULT_20191113_[1121].dat이 없어 60초 대기후 다시 확인합니다(최대60회).\n",
      "파일 TEOS_TO_SON_RL_RESULT_20191113_[1121].dat이 없어 60초 대기후 다시 확인합니다(최대60회).\n"
     ]
    },
    {
     "name": "stderr",
     "output_type": "stream",
     "text": [
      "/home/tangosvc/anaconda3/lib/python3.7/site-packages/pandas/core/reshape/merge.py:522: UserWarning: merging between different levels can give an unintended result (2 levels on the left, 1 on the right)\n",
      "  warnings.warn(msg, UserWarning)\n"
     ]
    },
    {
     "name": "stdout",
     "output_type": "stream",
     "text": [
      "| \u001b[0m 64      \u001b[0m | \u001b[0m 190.5   \u001b[0m | \u001b[0m 2.049   \u001b[0m | \u001b[0m 4.938   \u001b[0m | \u001b[0m 6.894   \u001b[0m | \u001b[0m 2.709   \u001b[0m | \u001b[0m 4.005   \u001b[0m | \u001b[0m 1.765   \u001b[0m | \u001b[0m 6.809   \u001b[0m | \u001b[0m 4.738   \u001b[0m | \u001b[0m 4.582   \u001b[0m | \u001b[0m 5.319   \u001b[0m | \u001b[0m 7.672   \u001b[0m | \u001b[0m 4.927   \u001b[0m | \u001b[0m 2.55    \u001b[0m | \u001b[0m 3.331   \u001b[0m | \u001b[0m 4.213   \u001b[0m | \u001b[0m 4.827   \u001b[0m |\n"
     ]
    },
    {
     "name": "stderr",
     "output_type": "stream",
     "text": [
      "/home/tangosvc/anaconda3/lib/python3.7/site-packages/ipykernel_launcher.py:226: SettingWithCopyWarning: \n",
      "A value is trying to be set on a copy of a slice from a DataFrame\n",
      "\n",
      "See the caveats in the documentation: http://pandas.pydata.org/pandas-docs/stable/indexing.html#indexing-view-versus-copy\n"
     ]
    },
    {
     "name": "stdout",
     "output_type": "stream",
     "text": [
      "Request 파일(/home/tangosvc/code/data/20191113/SON_TO_TEOS_RL_REQUEST_20191113_[1122].dat)을 생성합니다.\n",
      "\n",
      "TEOS_TO_SON_RL_RESULT_20191113_[1122].dat에 대한 get명령을 실행합니다.\n",
      "파일 TEOS_TO_SON_RL_RESULT_20191113_[1122].dat이 없어 60초 대기후 다시 확인합니다(최대60회).\n",
      "파일 TEOS_TO_SON_RL_RESULT_20191113_[1122].dat이 없어 60초 대기후 다시 확인합니다(최대60회).\n",
      "파일 TEOS_TO_SON_RL_RESULT_20191113_[1122].dat이 없어 60초 대기후 다시 확인합니다(최대60회).\n",
      "파일 TEOS_TO_SON_RL_RESULT_20191113_[1122].dat이 없어 60초 대기후 다시 확인합니다(최대60회).\n",
      "파일 TEOS_TO_SON_RL_RESULT_20191113_[1122].dat이 없어 60초 대기후 다시 확인합니다(최대60회).\n",
      "파일 TEOS_TO_SON_RL_RESULT_20191113_[1122].dat이 없어 60초 대기후 다시 확인합니다(최대60회).\n",
      "파일 TEOS_TO_SON_RL_RESULT_20191113_[1122].dat이 없어 60초 대기후 다시 확인합니다(최대60회).\n",
      "파일 TEOS_TO_SON_RL_RESULT_20191113_[1122].dat이 없어 60초 대기후 다시 확인합니다(최대60회).\n",
      "파일 TEOS_TO_SON_RL_RESULT_20191113_[1122].dat이 없어 60초 대기후 다시 확인합니다(최대60회).\n",
      "파일 TEOS_TO_SON_RL_RESULT_20191113_[1122].dat이 없어 60초 대기후 다시 확인합니다(최대60회).\n"
     ]
    },
    {
     "name": "stderr",
     "output_type": "stream",
     "text": [
      "/home/tangosvc/anaconda3/lib/python3.7/site-packages/pandas/core/reshape/merge.py:522: UserWarning: merging between different levels can give an unintended result (2 levels on the left, 1 on the right)\n",
      "  warnings.warn(msg, UserWarning)\n"
     ]
    },
    {
     "name": "stdout",
     "output_type": "stream",
     "text": [
      "| \u001b[0m 65      \u001b[0m | \u001b[0m 205.6   \u001b[0m | \u001b[0m 2.279   \u001b[0m | \u001b[0m 5.253   \u001b[0m | \u001b[0m 7.0     \u001b[0m | \u001b[0m 2.525   \u001b[0m | \u001b[0m 3.611   \u001b[0m | \u001b[0m 1.905   \u001b[0m | \u001b[0m 6.837   \u001b[0m | \u001b[0m 4.727   \u001b[0m | \u001b[0m 4.752   \u001b[0m | \u001b[0m 5.572   \u001b[0m | \u001b[0m 7.754   \u001b[0m | \u001b[0m 4.985   \u001b[0m | \u001b[0m 2.38    \u001b[0m | \u001b[0m 3.146   \u001b[0m | \u001b[0m 3.945   \u001b[0m | \u001b[0m 4.809   \u001b[0m |\n"
     ]
    },
    {
     "name": "stderr",
     "output_type": "stream",
     "text": [
      "/home/tangosvc/anaconda3/lib/python3.7/site-packages/ipykernel_launcher.py:226: SettingWithCopyWarning: \n",
      "A value is trying to be set on a copy of a slice from a DataFrame\n",
      "\n",
      "See the caveats in the documentation: http://pandas.pydata.org/pandas-docs/stable/indexing.html#indexing-view-versus-copy\n"
     ]
    },
    {
     "name": "stdout",
     "output_type": "stream",
     "text": [
      "Request 파일(/home/tangosvc/code/data/20191113/SON_TO_TEOS_RL_REQUEST_20191113_[1123].dat)을 생성합니다.\n",
      "\n",
      "TEOS_TO_SON_RL_RESULT_20191113_[1123].dat에 대한 get명령을 실행합니다.\n",
      "파일 TEOS_TO_SON_RL_RESULT_20191113_[1123].dat이 없어 60초 대기후 다시 확인합니다(최대60회).\n",
      "파일 TEOS_TO_SON_RL_RESULT_20191113_[1123].dat이 없어 60초 대기후 다시 확인합니다(최대60회).\n",
      "파일 TEOS_TO_SON_RL_RESULT_20191113_[1123].dat이 없어 60초 대기후 다시 확인합니다(최대60회).\n",
      "파일 TEOS_TO_SON_RL_RESULT_20191113_[1123].dat이 없어 60초 대기후 다시 확인합니다(최대60회).\n",
      "파일 TEOS_TO_SON_RL_RESULT_20191113_[1123].dat이 없어 60초 대기후 다시 확인합니다(최대60회).\n",
      "파일 TEOS_TO_SON_RL_RESULT_20191113_[1123].dat이 없어 60초 대기후 다시 확인합니다(최대60회).\n",
      "파일 TEOS_TO_SON_RL_RESULT_20191113_[1123].dat이 없어 60초 대기후 다시 확인합니다(최대60회).\n",
      "파일 TEOS_TO_SON_RL_RESULT_20191113_[1123].dat이 없어 60초 대기후 다시 확인합니다(최대60회).\n",
      "파일 TEOS_TO_SON_RL_RESULT_20191113_[1123].dat이 없어 60초 대기후 다시 확인합니다(최대60회).\n",
      "파일 TEOS_TO_SON_RL_RESULT_20191113_[1123].dat이 없어 60초 대기후 다시 확인합니다(최대60회).\n"
     ]
    },
    {
     "name": "stderr",
     "output_type": "stream",
     "text": [
      "/home/tangosvc/anaconda3/lib/python3.7/site-packages/pandas/core/reshape/merge.py:522: UserWarning: merging between different levels can give an unintended result (2 levels on the left, 1 on the right)\n",
      "  warnings.warn(msg, UserWarning)\n"
     ]
    },
    {
     "name": "stdout",
     "output_type": "stream",
     "text": [
      "| \u001b[0m 66      \u001b[0m | \u001b[0m 190.4   \u001b[0m | \u001b[0m 2.293   \u001b[0m | \u001b[0m 4.777   \u001b[0m | \u001b[0m 7.134   \u001b[0m | \u001b[0m 2.511   \u001b[0m | \u001b[0m 3.982   \u001b[0m | \u001b[0m 2.009   \u001b[0m | \u001b[0m 7.197   \u001b[0m | \u001b[0m 4.752   \u001b[0m | \u001b[0m 4.339   \u001b[0m | \u001b[0m 5.207   \u001b[0m | \u001b[0m 7.658   \u001b[0m | \u001b[0m 5.232   \u001b[0m | \u001b[0m 2.544   \u001b[0m | \u001b[0m 2.977   \u001b[0m | \u001b[0m 3.939   \u001b[0m | \u001b[0m 5.022   \u001b[0m |\n"
     ]
    },
    {
     "name": "stderr",
     "output_type": "stream",
     "text": [
      "/home/tangosvc/anaconda3/lib/python3.7/site-packages/ipykernel_launcher.py:226: SettingWithCopyWarning: \n",
      "A value is trying to be set on a copy of a slice from a DataFrame\n",
      "\n",
      "See the caveats in the documentation: http://pandas.pydata.org/pandas-docs/stable/indexing.html#indexing-view-versus-copy\n"
     ]
    },
    {
     "name": "stdout",
     "output_type": "stream",
     "text": [
      "Request 파일(/home/tangosvc/code/data/20191113/SON_TO_TEOS_RL_REQUEST_20191113_[1124].dat)을 생성합니다.\n",
      "\n",
      "TEOS_TO_SON_RL_RESULT_20191113_[1124].dat에 대한 get명령을 실행합니다.\n",
      "파일 TEOS_TO_SON_RL_RESULT_20191113_[1124].dat이 없어 60초 대기후 다시 확인합니다(최대60회).\n",
      "파일 TEOS_TO_SON_RL_RESULT_20191113_[1124].dat이 없어 60초 대기후 다시 확인합니다(최대60회).\n",
      "파일 TEOS_TO_SON_RL_RESULT_20191113_[1124].dat이 없어 60초 대기후 다시 확인합니다(최대60회).\n",
      "파일 TEOS_TO_SON_RL_RESULT_20191113_[1124].dat이 없어 60초 대기후 다시 확인합니다(최대60회).\n",
      "파일 TEOS_TO_SON_RL_RESULT_20191113_[1124].dat이 없어 60초 대기후 다시 확인합니다(최대60회).\n",
      "파일 TEOS_TO_SON_RL_RESULT_20191113_[1124].dat이 없어 60초 대기후 다시 확인합니다(최대60회).\n",
      "파일 TEOS_TO_SON_RL_RESULT_20191113_[1124].dat이 없어 60초 대기후 다시 확인합니다(최대60회).\n",
      "파일 TEOS_TO_SON_RL_RESULT_20191113_[1124].dat이 없어 60초 대기후 다시 확인합니다(최대60회).\n",
      "파일 TEOS_TO_SON_RL_RESULT_20191113_[1124].dat이 없어 60초 대기후 다시 확인합니다(최대60회).\n"
     ]
    },
    {
     "name": "stderr",
     "output_type": "stream",
     "text": [
      "/home/tangosvc/anaconda3/lib/python3.7/site-packages/pandas/core/reshape/merge.py:522: UserWarning: merging between different levels can give an unintended result (2 levels on the left, 1 on the right)\n",
      "  warnings.warn(msg, UserWarning)\n"
     ]
    },
    {
     "name": "stdout",
     "output_type": "stream",
     "text": [
      "| \u001b[0m 67      \u001b[0m | \u001b[0m 205.6   \u001b[0m | \u001b[0m 2.365   \u001b[0m | \u001b[0m 4.887   \u001b[0m | \u001b[0m 6.887   \u001b[0m | \u001b[0m 2.787   \u001b[0m | \u001b[0m 4.027   \u001b[0m | \u001b[0m 1.975   \u001b[0m | \u001b[0m 6.719   \u001b[0m | \u001b[0m 4.735   \u001b[0m | \u001b[0m 4.64    \u001b[0m | \u001b[0m 5.556   \u001b[0m | \u001b[0m 7.84    \u001b[0m | \u001b[0m 4.889   \u001b[0m | \u001b[0m 2.279   \u001b[0m | \u001b[0m 3.238   \u001b[0m | \u001b[0m 4.202   \u001b[0m | \u001b[0m 4.998   \u001b[0m |\n"
     ]
    },
    {
     "name": "stderr",
     "output_type": "stream",
     "text": [
      "/home/tangosvc/anaconda3/lib/python3.7/site-packages/ipykernel_launcher.py:226: SettingWithCopyWarning: \n",
      "A value is trying to be set on a copy of a slice from a DataFrame\n",
      "\n",
      "See the caveats in the documentation: http://pandas.pydata.org/pandas-docs/stable/indexing.html#indexing-view-versus-copy\n"
     ]
    },
    {
     "name": "stdout",
     "output_type": "stream",
     "text": [
      "Request 파일(/home/tangosvc/code/data/20191113/SON_TO_TEOS_RL_REQUEST_20191113_[1125].dat)을 생성합니다.\n",
      "\n",
      "TEOS_TO_SON_RL_RESULT_20191113_[1125].dat에 대한 get명령을 실행합니다.\n",
      "파일 TEOS_TO_SON_RL_RESULT_20191113_[1125].dat이 없어 60초 대기후 다시 확인합니다(최대60회).\n",
      "파일 TEOS_TO_SON_RL_RESULT_20191113_[1125].dat이 없어 60초 대기후 다시 확인합니다(최대60회).\n",
      "파일 TEOS_TO_SON_RL_RESULT_20191113_[1125].dat이 없어 60초 대기후 다시 확인합니다(최대60회).\n",
      "파일 TEOS_TO_SON_RL_RESULT_20191113_[1125].dat이 없어 60초 대기후 다시 확인합니다(최대60회).\n",
      "파일 TEOS_TO_SON_RL_RESULT_20191113_[1125].dat이 없어 60초 대기후 다시 확인합니다(최대60회).\n",
      "파일 TEOS_TO_SON_RL_RESULT_20191113_[1125].dat이 없어 60초 대기후 다시 확인합니다(최대60회).\n",
      "파일 TEOS_TO_SON_RL_RESULT_20191113_[1125].dat이 없어 60초 대기후 다시 확인합니다(최대60회).\n",
      "파일 TEOS_TO_SON_RL_RESULT_20191113_[1125].dat이 없어 60초 대기후 다시 확인합니다(최대60회).\n",
      "파일 TEOS_TO_SON_RL_RESULT_20191113_[1125].dat이 없어 60초 대기후 다시 확인합니다(최대60회).\n",
      "파일 TEOS_TO_SON_RL_RESULT_20191113_[1125].dat이 없어 60초 대기후 다시 확인합니다(최대60회).\n"
     ]
    },
    {
     "name": "stderr",
     "output_type": "stream",
     "text": [
      "/home/tangosvc/anaconda3/lib/python3.7/site-packages/pandas/core/reshape/merge.py:522: UserWarning: merging between different levels can give an unintended result (2 levels on the left, 1 on the right)\n",
      "  warnings.warn(msg, UserWarning)\n"
     ]
    },
    {
     "name": "stdout",
     "output_type": "stream",
     "text": [
      "| \u001b[0m 68      \u001b[0m | \u001b[0m 202.9   \u001b[0m | \u001b[0m 2.271   \u001b[0m | \u001b[0m 5.186   \u001b[0m | \u001b[0m 7.036   \u001b[0m | \u001b[0m 2.668   \u001b[0m | \u001b[0m 3.746   \u001b[0m | \u001b[0m 1.949   \u001b[0m | \u001b[0m 6.788   \u001b[0m | \u001b[0m 4.643   \u001b[0m | \u001b[0m 4.792   \u001b[0m | \u001b[0m 5.414   \u001b[0m | \u001b[0m 7.579   \u001b[0m | \u001b[0m 4.893   \u001b[0m | \u001b[0m 2.434   \u001b[0m | \u001b[0m 2.939   \u001b[0m | \u001b[0m 4.037   \u001b[0m | \u001b[0m 4.986   \u001b[0m |\n"
     ]
    },
    {
     "name": "stderr",
     "output_type": "stream",
     "text": [
      "/home/tangosvc/anaconda3/lib/python3.7/site-packages/ipykernel_launcher.py:226: SettingWithCopyWarning: \n",
      "A value is trying to be set on a copy of a slice from a DataFrame\n",
      "\n",
      "See the caveats in the documentation: http://pandas.pydata.org/pandas-docs/stable/indexing.html#indexing-view-versus-copy\n"
     ]
    },
    {
     "name": "stdout",
     "output_type": "stream",
     "text": [
      "Request 파일(/home/tangosvc/code/data/20191113/SON_TO_TEOS_RL_REQUEST_20191113_[1126].dat)을 생성합니다.\n",
      "\n",
      "TEOS_TO_SON_RL_RESULT_20191113_[1126].dat에 대한 get명령을 실행합니다.\n",
      "파일 TEOS_TO_SON_RL_RESULT_20191113_[1126].dat이 없어 60초 대기후 다시 확인합니다(최대60회).\n",
      "파일 TEOS_TO_SON_RL_RESULT_20191113_[1126].dat이 없어 60초 대기후 다시 확인합니다(최대60회).\n",
      "파일 TEOS_TO_SON_RL_RESULT_20191113_[1126].dat이 없어 60초 대기후 다시 확인합니다(최대60회).\n",
      "파일 TEOS_TO_SON_RL_RESULT_20191113_[1126].dat이 없어 60초 대기후 다시 확인합니다(최대60회).\n",
      "파일 TEOS_TO_SON_RL_RESULT_20191113_[1126].dat이 없어 60초 대기후 다시 확인합니다(최대60회).\n",
      "파일 TEOS_TO_SON_RL_RESULT_20191113_[1126].dat이 없어 60초 대기후 다시 확인합니다(최대60회).\n",
      "파일 TEOS_TO_SON_RL_RESULT_20191113_[1126].dat이 없어 60초 대기후 다시 확인합니다(최대60회).\n",
      "파일 TEOS_TO_SON_RL_RESULT_20191113_[1126].dat이 없어 60초 대기후 다시 확인합니다(최대60회).\n",
      "파일 TEOS_TO_SON_RL_RESULT_20191113_[1126].dat이 없어 60초 대기후 다시 확인합니다(최대60회).\n"
     ]
    },
    {
     "name": "stderr",
     "output_type": "stream",
     "text": [
      "/home/tangosvc/anaconda3/lib/python3.7/site-packages/pandas/core/reshape/merge.py:522: UserWarning: merging between different levels can give an unintended result (2 levels on the left, 1 on the right)\n",
      "  warnings.warn(msg, UserWarning)\n"
     ]
    },
    {
     "name": "stdout",
     "output_type": "stream",
     "text": [
      "| \u001b[0m 69      \u001b[0m | \u001b[0m 202.9   \u001b[0m | \u001b[0m 2.325   \u001b[0m | \u001b[0m 4.861   \u001b[0m | \u001b[0m 6.927   \u001b[0m | \u001b[0m 2.759   \u001b[0m | \u001b[0m 3.893   \u001b[0m | \u001b[0m 2.018   \u001b[0m | \u001b[0m 6.83    \u001b[0m | \u001b[0m 4.675   \u001b[0m | \u001b[0m 4.581   \u001b[0m | \u001b[0m 5.382   \u001b[0m | \u001b[0m 7.76    \u001b[0m | \u001b[0m 5.051   \u001b[0m | \u001b[0m 2.325   \u001b[0m | \u001b[0m 3.346   \u001b[0m | \u001b[0m 4.185   \u001b[0m | \u001b[0m 4.947   \u001b[0m |\n"
     ]
    },
    {
     "name": "stderr",
     "output_type": "stream",
     "text": [
      "/home/tangosvc/anaconda3/lib/python3.7/site-packages/ipykernel_launcher.py:226: SettingWithCopyWarning: \n",
      "A value is trying to be set on a copy of a slice from a DataFrame\n",
      "\n",
      "See the caveats in the documentation: http://pandas.pydata.org/pandas-docs/stable/indexing.html#indexing-view-versus-copy\n"
     ]
    },
    {
     "name": "stdout",
     "output_type": "stream",
     "text": [
      "Request 파일(/home/tangosvc/code/data/20191113/SON_TO_TEOS_RL_REQUEST_20191113_[1127].dat)을 생성합니다.\n",
      "\n",
      "TEOS_TO_SON_RL_RESULT_20191113_[1127].dat에 대한 get명령을 실행합니다.\n",
      "파일 TEOS_TO_SON_RL_RESULT_20191113_[1127].dat이 없어 60초 대기후 다시 확인합니다(최대60회).\n",
      "파일 TEOS_TO_SON_RL_RESULT_20191113_[1127].dat이 없어 60초 대기후 다시 확인합니다(최대60회).\n",
      "파일 TEOS_TO_SON_RL_RESULT_20191113_[1127].dat이 없어 60초 대기후 다시 확인합니다(최대60회).\n",
      "파일 TEOS_TO_SON_RL_RESULT_20191113_[1127].dat이 없어 60초 대기후 다시 확인합니다(최대60회).\n",
      "파일 TEOS_TO_SON_RL_RESULT_20191113_[1127].dat이 없어 60초 대기후 다시 확인합니다(최대60회).\n",
      "파일 TEOS_TO_SON_RL_RESULT_20191113_[1127].dat이 없어 60초 대기후 다시 확인합니다(최대60회).\n",
      "파일 TEOS_TO_SON_RL_RESULT_20191113_[1127].dat이 없어 60초 대기후 다시 확인합니다(최대60회).\n",
      "파일 TEOS_TO_SON_RL_RESULT_20191113_[1127].dat이 없어 60초 대기후 다시 확인합니다(최대60회).\n",
      "파일 TEOS_TO_SON_RL_RESULT_20191113_[1127].dat이 없어 60초 대기후 다시 확인합니다(최대60회).\n",
      "파일 TEOS_TO_SON_RL_RESULT_20191113_[1127].dat이 없어 60초 대기후 다시 확인합니다(최대60회).\n"
     ]
    },
    {
     "name": "stderr",
     "output_type": "stream",
     "text": [
      "/home/tangosvc/anaconda3/lib/python3.7/site-packages/pandas/core/reshape/merge.py:522: UserWarning: merging between different levels can give an unintended result (2 levels on the left, 1 on the right)\n",
      "  warnings.warn(msg, UserWarning)\n"
     ]
    },
    {
     "name": "stdout",
     "output_type": "stream",
     "text": [
      "| \u001b[0m 70      \u001b[0m | \u001b[0m 205.6   \u001b[0m | \u001b[0m 2.38    \u001b[0m | \u001b[0m 5.182   \u001b[0m | \u001b[0m 6.973   \u001b[0m | \u001b[0m 2.614   \u001b[0m | \u001b[0m 3.705   \u001b[0m | \u001b[0m 1.887   \u001b[0m | \u001b[0m 6.843   \u001b[0m | \u001b[0m 4.844   \u001b[0m | \u001b[0m 4.62    \u001b[0m | \u001b[0m 5.69    \u001b[0m | \u001b[0m 7.745   \u001b[0m | \u001b[0m 4.963   \u001b[0m | \u001b[0m 2.357   \u001b[0m | \u001b[0m 2.95    \u001b[0m | \u001b[0m 4.001   \u001b[0m | \u001b[0m 4.8     \u001b[0m |\n"
     ]
    },
    {
     "name": "stderr",
     "output_type": "stream",
     "text": [
      "/home/tangosvc/anaconda3/lib/python3.7/site-packages/ipykernel_launcher.py:226: SettingWithCopyWarning: \n",
      "A value is trying to be set on a copy of a slice from a DataFrame\n",
      "\n",
      "See the caveats in the documentation: http://pandas.pydata.org/pandas-docs/stable/indexing.html#indexing-view-versus-copy\n"
     ]
    },
    {
     "name": "stdout",
     "output_type": "stream",
     "text": [
      "Request 파일(/home/tangosvc/code/data/20191113/SON_TO_TEOS_RL_REQUEST_20191113_[1128].dat)을 생성합니다.\n",
      "\n",
      "TEOS_TO_SON_RL_RESULT_20191113_[1128].dat에 대한 get명령을 실행합니다.\n",
      "파일 TEOS_TO_SON_RL_RESULT_20191113_[1128].dat이 없어 60초 대기후 다시 확인합니다(최대60회).\n",
      "파일 TEOS_TO_SON_RL_RESULT_20191113_[1128].dat이 없어 60초 대기후 다시 확인합니다(최대60회).\n",
      "파일 TEOS_TO_SON_RL_RESULT_20191113_[1128].dat이 없어 60초 대기후 다시 확인합니다(최대60회).\n",
      "파일 TEOS_TO_SON_RL_RESULT_20191113_[1128].dat이 없어 60초 대기후 다시 확인합니다(최대60회).\n",
      "파일 TEOS_TO_SON_RL_RESULT_20191113_[1128].dat이 없어 60초 대기후 다시 확인합니다(최대60회).\n",
      "파일 TEOS_TO_SON_RL_RESULT_20191113_[1128].dat이 없어 60초 대기후 다시 확인합니다(최대60회).\n",
      "파일 TEOS_TO_SON_RL_RESULT_20191113_[1128].dat이 없어 60초 대기후 다시 확인합니다(최대60회).\n",
      "파일 TEOS_TO_SON_RL_RESULT_20191113_[1128].dat이 없어 60초 대기후 다시 확인합니다(최대60회).\n",
      "파일 TEOS_TO_SON_RL_RESULT_20191113_[1128].dat이 없어 60초 대기후 다시 확인합니다(최대60회).\n"
     ]
    },
    {
     "name": "stderr",
     "output_type": "stream",
     "text": [
      "/home/tangosvc/anaconda3/lib/python3.7/site-packages/pandas/core/reshape/merge.py:522: UserWarning: merging between different levels can give an unintended result (2 levels on the left, 1 on the right)\n",
      "  warnings.warn(msg, UserWarning)\n"
     ]
    },
    {
     "name": "stdout",
     "output_type": "stream",
     "text": [
      "| \u001b[0m 71      \u001b[0m | \u001b[0m 205.6   \u001b[0m | \u001b[0m 2.404   \u001b[0m | \u001b[0m 5.214   \u001b[0m | \u001b[0m 7.033   \u001b[0m | \u001b[0m 2.592   \u001b[0m | \u001b[0m 3.703   \u001b[0m | \u001b[0m 1.964   \u001b[0m | \u001b[0m 6.848   \u001b[0m | \u001b[0m 4.747   \u001b[0m | \u001b[0m 4.727   \u001b[0m | \u001b[0m 5.55    \u001b[0m | \u001b[0m 7.731   \u001b[0m | \u001b[0m 4.956   \u001b[0m | \u001b[0m 2.351   \u001b[0m | \u001b[0m 3.049   \u001b[0m | \u001b[0m 3.985   \u001b[0m | \u001b[0m 4.931   \u001b[0m |\n"
     ]
    },
    {
     "name": "stderr",
     "output_type": "stream",
     "text": [
      "/home/tangosvc/anaconda3/lib/python3.7/site-packages/ipykernel_launcher.py:226: SettingWithCopyWarning: \n",
      "A value is trying to be set on a copy of a slice from a DataFrame\n",
      "\n",
      "See the caveats in the documentation: http://pandas.pydata.org/pandas-docs/stable/indexing.html#indexing-view-versus-copy\n"
     ]
    },
    {
     "name": "stdout",
     "output_type": "stream",
     "text": [
      "Request 파일(/home/tangosvc/code/data/20191113/SON_TO_TEOS_RL_REQUEST_20191113_[1129].dat)을 생성합니다.\n",
      "\n",
      "TEOS_TO_SON_RL_RESULT_20191113_[1129].dat에 대한 get명령을 실행합니다.\n",
      "파일 TEOS_TO_SON_RL_RESULT_20191113_[1129].dat이 없어 60초 대기후 다시 확인합니다(최대60회).\n",
      "파일 TEOS_TO_SON_RL_RESULT_20191113_[1129].dat이 없어 60초 대기후 다시 확인합니다(최대60회).\n",
      "파일 TEOS_TO_SON_RL_RESULT_20191113_[1129].dat이 없어 60초 대기후 다시 확인합니다(최대60회).\n",
      "파일 TEOS_TO_SON_RL_RESULT_20191113_[1129].dat이 없어 60초 대기후 다시 확인합니다(최대60회).\n",
      "파일 TEOS_TO_SON_RL_RESULT_20191113_[1129].dat이 없어 60초 대기후 다시 확인합니다(최대60회).\n",
      "파일 TEOS_TO_SON_RL_RESULT_20191113_[1129].dat이 없어 60초 대기후 다시 확인합니다(최대60회).\n",
      "파일 TEOS_TO_SON_RL_RESULT_20191113_[1129].dat이 없어 60초 대기후 다시 확인합니다(최대60회).\n",
      "파일 TEOS_TO_SON_RL_RESULT_20191113_[1129].dat이 없어 60초 대기후 다시 확인합니다(최대60회).\n",
      "파일 TEOS_TO_SON_RL_RESULT_20191113_[1129].dat이 없어 60초 대기후 다시 확인합니다(최대60회).\n",
      "파일 TEOS_TO_SON_RL_RESULT_20191113_[1129].dat이 없어 60초 대기후 다시 확인합니다(최대60회).\n"
     ]
    },
    {
     "name": "stderr",
     "output_type": "stream",
     "text": [
      "/home/tangosvc/anaconda3/lib/python3.7/site-packages/pandas/core/reshape/merge.py:522: UserWarning: merging between different levels can give an unintended result (2 levels on the left, 1 on the right)\n",
      "  warnings.warn(msg, UserWarning)\n"
     ]
    },
    {
     "name": "stdout",
     "output_type": "stream",
     "text": [
      "| \u001b[0m 72      \u001b[0m | \u001b[0m 193.4   \u001b[0m | \u001b[0m 2.234   \u001b[0m | \u001b[0m 5.221   \u001b[0m | \u001b[0m 6.674   \u001b[0m | \u001b[0m 2.517   \u001b[0m | \u001b[0m 3.516   \u001b[0m | \u001b[0m 1.921   \u001b[0m | \u001b[0m 6.954   \u001b[0m | \u001b[0m 4.867   \u001b[0m | \u001b[0m 4.65    \u001b[0m | \u001b[0m 5.717   \u001b[0m | \u001b[0m 7.636   \u001b[0m | \u001b[0m 5.361   \u001b[0m | \u001b[0m 2.567   \u001b[0m | \u001b[0m 3.053   \u001b[0m | \u001b[0m 3.991   \u001b[0m | \u001b[0m 4.655   \u001b[0m |\n"
     ]
    },
    {
     "name": "stderr",
     "output_type": "stream",
     "text": [
      "/home/tangosvc/anaconda3/lib/python3.7/site-packages/ipykernel_launcher.py:226: SettingWithCopyWarning: \n",
      "A value is trying to be set on a copy of a slice from a DataFrame\n",
      "\n",
      "See the caveats in the documentation: http://pandas.pydata.org/pandas-docs/stable/indexing.html#indexing-view-versus-copy\n"
     ]
    },
    {
     "name": "stdout",
     "output_type": "stream",
     "text": [
      "Request 파일(/home/tangosvc/code/data/20191113/SON_TO_TEOS_RL_REQUEST_20191113_[1130].dat)을 생성합니다.\n",
      "\n",
      "TEOS_TO_SON_RL_RESULT_20191113_[1130].dat에 대한 get명령을 실행합니다.\n",
      "파일 TEOS_TO_SON_RL_RESULT_20191113_[1130].dat이 없어 60초 대기후 다시 확인합니다(최대60회).\n",
      "파일 TEOS_TO_SON_RL_RESULT_20191113_[1130].dat이 없어 60초 대기후 다시 확인합니다(최대60회).\n",
      "파일 TEOS_TO_SON_RL_RESULT_20191113_[1130].dat이 없어 60초 대기후 다시 확인합니다(최대60회).\n",
      "파일 TEOS_TO_SON_RL_RESULT_20191113_[1130].dat이 없어 60초 대기후 다시 확인합니다(최대60회).\n",
      "파일 TEOS_TO_SON_RL_RESULT_20191113_[1130].dat이 없어 60초 대기후 다시 확인합니다(최대60회).\n",
      "파일 TEOS_TO_SON_RL_RESULT_20191113_[1130].dat이 없어 60초 대기후 다시 확인합니다(최대60회).\n",
      "파일 TEOS_TO_SON_RL_RESULT_20191113_[1130].dat이 없어 60초 대기후 다시 확인합니다(최대60회).\n",
      "파일 TEOS_TO_SON_RL_RESULT_20191113_[1130].dat이 없어 60초 대기후 다시 확인합니다(최대60회).\n",
      "파일 TEOS_TO_SON_RL_RESULT_20191113_[1130].dat이 없어 60초 대기후 다시 확인합니다(최대60회).\n"
     ]
    },
    {
     "name": "stderr",
     "output_type": "stream",
     "text": [
      "/home/tangosvc/anaconda3/lib/python3.7/site-packages/pandas/core/reshape/merge.py:522: UserWarning: merging between different levels can give an unintended result (2 levels on the left, 1 on the right)\n",
      "  warnings.warn(msg, UserWarning)\n"
     ]
    },
    {
     "name": "stdout",
     "output_type": "stream",
     "text": [
      "| \u001b[0m 73      \u001b[0m | \u001b[0m 205.6   \u001b[0m | \u001b[0m 2.326   \u001b[0m | \u001b[0m 4.866   \u001b[0m | \u001b[0m 6.889   \u001b[0m | \u001b[0m 2.78    \u001b[0m | \u001b[0m 3.924   \u001b[0m | \u001b[0m 1.849   \u001b[0m | \u001b[0m 6.912   \u001b[0m | \u001b[0m 4.708   \u001b[0m | \u001b[0m 4.626   \u001b[0m | \u001b[0m 5.615   \u001b[0m | \u001b[0m 7.683   \u001b[0m | \u001b[0m 5.026   \u001b[0m | \u001b[0m 2.383   \u001b[0m | \u001b[0m 2.987   \u001b[0m | \u001b[0m 4.14    \u001b[0m | \u001b[0m 5.127   \u001b[0m |\n"
     ]
    },
    {
     "name": "stderr",
     "output_type": "stream",
     "text": [
      "/home/tangosvc/anaconda3/lib/python3.7/site-packages/ipykernel_launcher.py:226: SettingWithCopyWarning: \n",
      "A value is trying to be set on a copy of a slice from a DataFrame\n",
      "\n",
      "See the caveats in the documentation: http://pandas.pydata.org/pandas-docs/stable/indexing.html#indexing-view-versus-copy\n"
     ]
    },
    {
     "name": "stdout",
     "output_type": "stream",
     "text": [
      "Request 파일(/home/tangosvc/code/data/20191113/SON_TO_TEOS_RL_REQUEST_20191113_[1131].dat)을 생성합니다.\n",
      "\n",
      "TEOS_TO_SON_RL_RESULT_20191113_[1131].dat에 대한 get명령을 실행합니다.\n",
      "파일 TEOS_TO_SON_RL_RESULT_20191113_[1131].dat이 없어 60초 대기후 다시 확인합니다(최대60회).\n",
      "파일 TEOS_TO_SON_RL_RESULT_20191113_[1131].dat이 없어 60초 대기후 다시 확인합니다(최대60회).\n",
      "파일 TEOS_TO_SON_RL_RESULT_20191113_[1131].dat이 없어 60초 대기후 다시 확인합니다(최대60회).\n",
      "파일 TEOS_TO_SON_RL_RESULT_20191113_[1131].dat이 없어 60초 대기후 다시 확인합니다(최대60회).\n",
      "파일 TEOS_TO_SON_RL_RESULT_20191113_[1131].dat이 없어 60초 대기후 다시 확인합니다(최대60회).\n",
      "파일 TEOS_TO_SON_RL_RESULT_20191113_[1131].dat이 없어 60초 대기후 다시 확인합니다(최대60회).\n",
      "파일 TEOS_TO_SON_RL_RESULT_20191113_[1131].dat이 없어 60초 대기후 다시 확인합니다(최대60회).\n",
      "파일 TEOS_TO_SON_RL_RESULT_20191113_[1131].dat이 없어 60초 대기후 다시 확인합니다(최대60회).\n",
      "파일 TEOS_TO_SON_RL_RESULT_20191113_[1131].dat이 없어 60초 대기후 다시 확인합니다(최대60회).\n",
      "파일 TEOS_TO_SON_RL_RESULT_20191113_[1131].dat이 없어 60초 대기후 다시 확인합니다(최대60회).\n"
     ]
    },
    {
     "name": "stderr",
     "output_type": "stream",
     "text": [
      "/home/tangosvc/anaconda3/lib/python3.7/site-packages/pandas/core/reshape/merge.py:522: UserWarning: merging between different levels can give an unintended result (2 levels on the left, 1 on the right)\n",
      "  warnings.warn(msg, UserWarning)\n"
     ]
    },
    {
     "name": "stdout",
     "output_type": "stream",
     "text": [
      "| \u001b[0m 74      \u001b[0m | \u001b[0m 205.6   \u001b[0m | \u001b[0m 2.308   \u001b[0m | \u001b[0m 5.13    \u001b[0m | \u001b[0m 6.883   \u001b[0m | \u001b[0m 2.651   \u001b[0m | \u001b[0m 3.616   \u001b[0m | \u001b[0m 1.983   \u001b[0m | \u001b[0m 6.686   \u001b[0m | \u001b[0m 4.713   \u001b[0m | \u001b[0m 4.691   \u001b[0m | \u001b[0m 5.579   \u001b[0m | \u001b[0m 7.691   \u001b[0m | \u001b[0m 4.918   \u001b[0m | \u001b[0m 2.31    \u001b[0m | \u001b[0m 3.109   \u001b[0m | \u001b[0m 4.089   \u001b[0m | \u001b[0m 4.762   \u001b[0m |\n"
     ]
    },
    {
     "name": "stderr",
     "output_type": "stream",
     "text": [
      "/home/tangosvc/anaconda3/lib/python3.7/site-packages/ipykernel_launcher.py:226: SettingWithCopyWarning: \n",
      "A value is trying to be set on a copy of a slice from a DataFrame\n",
      "\n",
      "See the caveats in the documentation: http://pandas.pydata.org/pandas-docs/stable/indexing.html#indexing-view-versus-copy\n"
     ]
    },
    {
     "name": "stdout",
     "output_type": "stream",
     "text": [
      "Request 파일(/home/tangosvc/code/data/20191113/SON_TO_TEOS_RL_REQUEST_20191113_[1132].dat)을 생성합니다.\n",
      "\n",
      "TEOS_TO_SON_RL_RESULT_20191113_[1132].dat에 대한 get명령을 실행합니다.\n",
      "파일 TEOS_TO_SON_RL_RESULT_20191113_[1132].dat이 없어 60초 대기후 다시 확인합니다(최대60회).\n",
      "파일 TEOS_TO_SON_RL_RESULT_20191113_[1132].dat이 없어 60초 대기후 다시 확인합니다(최대60회).\n",
      "파일 TEOS_TO_SON_RL_RESULT_20191113_[1132].dat이 없어 60초 대기후 다시 확인합니다(최대60회).\n",
      "파일 TEOS_TO_SON_RL_RESULT_20191113_[1132].dat이 없어 60초 대기후 다시 확인합니다(최대60회).\n",
      "파일 TEOS_TO_SON_RL_RESULT_20191113_[1132].dat이 없어 60초 대기후 다시 확인합니다(최대60회).\n",
      "파일 TEOS_TO_SON_RL_RESULT_20191113_[1132].dat이 없어 60초 대기후 다시 확인합니다(최대60회).\n",
      "파일 TEOS_TO_SON_RL_RESULT_20191113_[1132].dat이 없어 60초 대기후 다시 확인합니다(최대60회).\n",
      "파일 TEOS_TO_SON_RL_RESULT_20191113_[1132].dat이 없어 60초 대기후 다시 확인합니다(최대60회).\n",
      "파일 TEOS_TO_SON_RL_RESULT_20191113_[1132].dat이 없어 60초 대기후 다시 확인합니다(최대60회).\n"
     ]
    },
    {
     "name": "stderr",
     "output_type": "stream",
     "text": [
      "/home/tangosvc/anaconda3/lib/python3.7/site-packages/pandas/core/reshape/merge.py:522: UserWarning: merging between different levels can give an unintended result (2 levels on the left, 1 on the right)\n",
      "  warnings.warn(msg, UserWarning)\n"
     ]
    },
    {
     "name": "stdout",
     "output_type": "stream",
     "text": [
      "| \u001b[0m 75      \u001b[0m | \u001b[0m 202.9   \u001b[0m | \u001b[0m 2.304   \u001b[0m | \u001b[0m 4.77    \u001b[0m | \u001b[0m 6.888   \u001b[0m | \u001b[0m 2.96    \u001b[0m | \u001b[0m 4.103   \u001b[0m | \u001b[0m 2.007   \u001b[0m | \u001b[0m 6.751   \u001b[0m | \u001b[0m 4.672   \u001b[0m | \u001b[0m 4.644   \u001b[0m | \u001b[0m 5.335   \u001b[0m | \u001b[0m 7.694   \u001b[0m | \u001b[0m 5.025   \u001b[0m | \u001b[0m 2.256   \u001b[0m | \u001b[0m 3.197   \u001b[0m | \u001b[0m 4.189   \u001b[0m | \u001b[0m 4.889   \u001b[0m |\n"
     ]
    },
    {
     "name": "stderr",
     "output_type": "stream",
     "text": [
      "/home/tangosvc/anaconda3/lib/python3.7/site-packages/ipykernel_launcher.py:226: SettingWithCopyWarning: \n",
      "A value is trying to be set on a copy of a slice from a DataFrame\n",
      "\n",
      "See the caveats in the documentation: http://pandas.pydata.org/pandas-docs/stable/indexing.html#indexing-view-versus-copy\n"
     ]
    },
    {
     "name": "stdout",
     "output_type": "stream",
     "text": [
      "Request 파일(/home/tangosvc/code/data/20191113/SON_TO_TEOS_RL_REQUEST_20191113_[1133].dat)을 생성합니다.\n",
      "\n",
      "TEOS_TO_SON_RL_RESULT_20191113_[1133].dat에 대한 get명령을 실행합니다.\n",
      "파일 TEOS_TO_SON_RL_RESULT_20191113_[1133].dat이 없어 60초 대기후 다시 확인합니다(최대60회).\n",
      "파일 TEOS_TO_SON_RL_RESULT_20191113_[1133].dat이 없어 60초 대기후 다시 확인합니다(최대60회).\n",
      "파일 TEOS_TO_SON_RL_RESULT_20191113_[1133].dat이 없어 60초 대기후 다시 확인합니다(최대60회).\n",
      "파일 TEOS_TO_SON_RL_RESULT_20191113_[1133].dat이 없어 60초 대기후 다시 확인합니다(최대60회).\n",
      "파일 TEOS_TO_SON_RL_RESULT_20191113_[1133].dat이 없어 60초 대기후 다시 확인합니다(최대60회).\n",
      "파일 TEOS_TO_SON_RL_RESULT_20191113_[1133].dat이 없어 60초 대기후 다시 확인합니다(최대60회).\n",
      "파일 TEOS_TO_SON_RL_RESULT_20191113_[1133].dat이 없어 60초 대기후 다시 확인합니다(최대60회).\n",
      "파일 TEOS_TO_SON_RL_RESULT_20191113_[1133].dat이 없어 60초 대기후 다시 확인합니다(최대60회).\n",
      "파일 TEOS_TO_SON_RL_RESULT_20191113_[1133].dat이 없어 60초 대기후 다시 확인합니다(최대60회).\n",
      "파일 TEOS_TO_SON_RL_RESULT_20191113_[1133].dat이 없어 60초 대기후 다시 확인합니다(최대60회).\n"
     ]
    },
    {
     "name": "stderr",
     "output_type": "stream",
     "text": [
      "/home/tangosvc/anaconda3/lib/python3.7/site-packages/pandas/core/reshape/merge.py:522: UserWarning: merging between different levels can give an unintended result (2 levels on the left, 1 on the right)\n",
      "  warnings.warn(msg, UserWarning)\n"
     ]
    },
    {
     "name": "stdout",
     "output_type": "stream",
     "text": [
      "| \u001b[0m 76      \u001b[0m | \u001b[0m 190.5   \u001b[0m | \u001b[0m 2.294   \u001b[0m | \u001b[0m 5.227   \u001b[0m | \u001b[0m 7.159   \u001b[0m | \u001b[0m 2.653   \u001b[0m | \u001b[0m 3.613   \u001b[0m | \u001b[0m 1.845   \u001b[0m | \u001b[0m 7.05    \u001b[0m | \u001b[0m 4.708   \u001b[0m | \u001b[0m 4.634   \u001b[0m | \u001b[0m 5.475   \u001b[0m | \u001b[0m 7.604   \u001b[0m | \u001b[0m 5.114   \u001b[0m | \u001b[0m 2.516   \u001b[0m | \u001b[0m 2.94    \u001b[0m | \u001b[0m 4.056   \u001b[0m | \u001b[0m 4.981   \u001b[0m |\n"
     ]
    },
    {
     "name": "stderr",
     "output_type": "stream",
     "text": [
      "/home/tangosvc/anaconda3/lib/python3.7/site-packages/ipykernel_launcher.py:226: SettingWithCopyWarning: \n",
      "A value is trying to be set on a copy of a slice from a DataFrame\n",
      "\n",
      "See the caveats in the documentation: http://pandas.pydata.org/pandas-docs/stable/indexing.html#indexing-view-versus-copy\n"
     ]
    },
    {
     "name": "stdout",
     "output_type": "stream",
     "text": [
      "Request 파일(/home/tangosvc/code/data/20191113/SON_TO_TEOS_RL_REQUEST_20191113_[1134].dat)을 생성합니다.\n",
      "\n",
      "TEOS_TO_SON_RL_RESULT_20191113_[1134].dat에 대한 get명령을 실행합니다.\n",
      "파일 TEOS_TO_SON_RL_RESULT_20191113_[1134].dat이 없어 60초 대기후 다시 확인합니다(최대60회).\n",
      "파일 TEOS_TO_SON_RL_RESULT_20191113_[1134].dat이 없어 60초 대기후 다시 확인합니다(최대60회).\n",
      "파일 TEOS_TO_SON_RL_RESULT_20191113_[1134].dat이 없어 60초 대기후 다시 확인합니다(최대60회).\n",
      "파일 TEOS_TO_SON_RL_RESULT_20191113_[1134].dat이 없어 60초 대기후 다시 확인합니다(최대60회).\n",
      "파일 TEOS_TO_SON_RL_RESULT_20191113_[1134].dat이 없어 60초 대기후 다시 확인합니다(최대60회).\n",
      "파일 TEOS_TO_SON_RL_RESULT_20191113_[1134].dat이 없어 60초 대기후 다시 확인합니다(최대60회).\n",
      "파일 TEOS_TO_SON_RL_RESULT_20191113_[1134].dat이 없어 60초 대기후 다시 확인합니다(최대60회).\n",
      "파일 TEOS_TO_SON_RL_RESULT_20191113_[1134].dat이 없어 60초 대기후 다시 확인합니다(최대60회).\n",
      "파일 TEOS_TO_SON_RL_RESULT_20191113_[1134].dat이 없어 60초 대기후 다시 확인합니다(최대60회).\n"
     ]
    },
    {
     "name": "stderr",
     "output_type": "stream",
     "text": [
      "/home/tangosvc/anaconda3/lib/python3.7/site-packages/pandas/core/reshape/merge.py:522: UserWarning: merging between different levels can give an unintended result (2 levels on the left, 1 on the right)\n",
      "  warnings.warn(msg, UserWarning)\n"
     ]
    },
    {
     "name": "stdout",
     "output_type": "stream",
     "text": [
      "| \u001b[0m 77      \u001b[0m | \u001b[0m 205.6   \u001b[0m | \u001b[0m 2.408   \u001b[0m | \u001b[0m 4.981   \u001b[0m | \u001b[0m 6.839   \u001b[0m | \u001b[0m 2.656   \u001b[0m | \u001b[0m 3.955   \u001b[0m | \u001b[0m 1.955   \u001b[0m | \u001b[0m 6.855   \u001b[0m | \u001b[0m 4.813   \u001b[0m | \u001b[0m 4.668   \u001b[0m | \u001b[0m 5.533   \u001b[0m | \u001b[0m 7.666   \u001b[0m | \u001b[0m 5.011   \u001b[0m | \u001b[0m 2.367   \u001b[0m | \u001b[0m 3.026   \u001b[0m | \u001b[0m 4.012   \u001b[0m | \u001b[0m 4.952   \u001b[0m |\n"
     ]
    },
    {
     "name": "stderr",
     "output_type": "stream",
     "text": [
      "/home/tangosvc/anaconda3/lib/python3.7/site-packages/ipykernel_launcher.py:226: SettingWithCopyWarning: \n",
      "A value is trying to be set on a copy of a slice from a DataFrame\n",
      "\n",
      "See the caveats in the documentation: http://pandas.pydata.org/pandas-docs/stable/indexing.html#indexing-view-versus-copy\n"
     ]
    },
    {
     "name": "stdout",
     "output_type": "stream",
     "text": [
      "Request 파일(/home/tangosvc/code/data/20191113/SON_TO_TEOS_RL_REQUEST_20191113_[1135].dat)을 생성합니다.\n",
      "\n",
      "TEOS_TO_SON_RL_RESULT_20191113_[1135].dat에 대한 get명령을 실행합니다.\n",
      "파일 TEOS_TO_SON_RL_RESULT_20191113_[1135].dat이 없어 60초 대기후 다시 확인합니다(최대60회).\n",
      "파일 TEOS_TO_SON_RL_RESULT_20191113_[1135].dat이 없어 60초 대기후 다시 확인합니다(최대60회).\n",
      "파일 TEOS_TO_SON_RL_RESULT_20191113_[1135].dat이 없어 60초 대기후 다시 확인합니다(최대60회).\n",
      "파일 TEOS_TO_SON_RL_RESULT_20191113_[1135].dat이 없어 60초 대기후 다시 확인합니다(최대60회).\n",
      "파일 TEOS_TO_SON_RL_RESULT_20191113_[1135].dat이 없어 60초 대기후 다시 확인합니다(최대60회).\n",
      "파일 TEOS_TO_SON_RL_RESULT_20191113_[1135].dat이 없어 60초 대기후 다시 확인합니다(최대60회).\n",
      "파일 TEOS_TO_SON_RL_RESULT_20191113_[1135].dat이 없어 60초 대기후 다시 확인합니다(최대60회).\n",
      "파일 TEOS_TO_SON_RL_RESULT_20191113_[1135].dat이 없어 60초 대기후 다시 확인합니다(최대60회).\n",
      "파일 TEOS_TO_SON_RL_RESULT_20191113_[1135].dat이 없어 60초 대기후 다시 확인합니다(최대60회).\n",
      "파일 TEOS_TO_SON_RL_RESULT_20191113_[1135].dat이 없어 60초 대기후 다시 확인합니다(최대60회).\n",
      "파일 TEOS_TO_SON_RL_RESULT_20191113_[1135].dat이 없어 60초 대기후 다시 확인합니다(최대60회).\n",
      "파일 TEOS_TO_SON_RL_RESULT_20191113_[1135].dat이 없어 60초 대기후 다시 확인합니다(최대60회).\n",
      "파일 TEOS_TO_SON_RL_RESULT_20191113_[1135].dat이 없어 60초 대기후 다시 확인합니다(최대60회).\n",
      "파일 TEOS_TO_SON_RL_RESULT_20191113_[1135].dat이 없어 60초 대기후 다시 확인합니다(최대60회).\n",
      "파일 TEOS_TO_SON_RL_RESULT_20191113_[1135].dat이 없어 60초 대기후 다시 확인합니다(최대60회).\n",
      "파일 TEOS_TO_SON_RL_RESULT_20191113_[1135].dat이 없어 60초 대기후 다시 확인합니다(최대60회).\n",
      "파일 TEOS_TO_SON_RL_RESULT_20191113_[1135].dat이 없어 60초 대기후 다시 확인합니다(최대60회).\n",
      "파일 TEOS_TO_SON_RL_RESULT_20191113_[1135].dat이 없어 60초 대기후 다시 확인합니다(최대60회).\n",
      "파일 TEOS_TO_SON_RL_RESULT_20191113_[1135].dat이 없어 60초 대기후 다시 확인합니다(최대60회).\n",
      "파일 TEOS_TO_SON_RL_RESULT_20191113_[1135].dat이 없어 60초 대기후 다시 확인합니다(최대60회).\n"
     ]
    },
    {
     "name": "stderr",
     "output_type": "stream",
     "text": [
      "/home/tangosvc/anaconda3/lib/python3.7/site-packages/pandas/core/reshape/merge.py:522: UserWarning: merging between different levels can give an unintended result (2 levels on the left, 1 on the right)\n",
      "  warnings.warn(msg, UserWarning)\n"
     ]
    },
    {
     "name": "stdout",
     "output_type": "stream",
     "text": [
      "| \u001b[0m 78      \u001b[0m | \u001b[0m 202.9   \u001b[0m | \u001b[0m 2.334   \u001b[0m | \u001b[0m 5.031   \u001b[0m | \u001b[0m 7.244   \u001b[0m | \u001b[0m 2.777   \u001b[0m | \u001b[0m 3.867   \u001b[0m | \u001b[0m 2.078   \u001b[0m | \u001b[0m 6.857   \u001b[0m | \u001b[0m 4.656   \u001b[0m | \u001b[0m 4.57    \u001b[0m | \u001b[0m 5.179   \u001b[0m | \u001b[0m 7.549   \u001b[0m | \u001b[0m 4.948   \u001b[0m | \u001b[0m 2.438   \u001b[0m | \u001b[0m 3.015   \u001b[0m | \u001b[0m 4.091   \u001b[0m | \u001b[0m 4.929   \u001b[0m |\n"
     ]
    },
    {
     "name": "stderr",
     "output_type": "stream",
     "text": [
      "/home/tangosvc/anaconda3/lib/python3.7/site-packages/ipykernel_launcher.py:226: SettingWithCopyWarning: \n",
      "A value is trying to be set on a copy of a slice from a DataFrame\n",
      "\n",
      "See the caveats in the documentation: http://pandas.pydata.org/pandas-docs/stable/indexing.html#indexing-view-versus-copy\n"
     ]
    },
    {
     "name": "stdout",
     "output_type": "stream",
     "text": [
      "Request 파일(/home/tangosvc/code/data/20191113/SON_TO_TEOS_RL_REQUEST_20191113_[1136].dat)을 생성합니다.\n",
      "\n",
      "TEOS_TO_SON_RL_RESULT_20191113_[1136].dat에 대한 get명령을 실행합니다.\n",
      "파일 TEOS_TO_SON_RL_RESULT_20191113_[1136].dat이 없어 60초 대기후 다시 확인합니다(최대60회).\n",
      "파일 TEOS_TO_SON_RL_RESULT_20191113_[1136].dat이 없어 60초 대기후 다시 확인합니다(최대60회).\n",
      "파일 TEOS_TO_SON_RL_RESULT_20191113_[1136].dat이 없어 60초 대기후 다시 확인합니다(최대60회).\n",
      "파일 TEOS_TO_SON_RL_RESULT_20191113_[1136].dat이 없어 60초 대기후 다시 확인합니다(최대60회).\n",
      "파일 TEOS_TO_SON_RL_RESULT_20191113_[1136].dat이 없어 60초 대기후 다시 확인합니다(최대60회).\n",
      "파일 TEOS_TO_SON_RL_RESULT_20191113_[1136].dat이 없어 60초 대기후 다시 확인합니다(최대60회).\n",
      "파일 TEOS_TO_SON_RL_RESULT_20191113_[1136].dat이 없어 60초 대기후 다시 확인합니다(최대60회).\n",
      "파일 TEOS_TO_SON_RL_RESULT_20191113_[1136].dat이 없어 60초 대기후 다시 확인합니다(최대60회).\n",
      "파일 TEOS_TO_SON_RL_RESULT_20191113_[1136].dat이 없어 60초 대기후 다시 확인합니다(최대60회).\n"
     ]
    },
    {
     "name": "stderr",
     "output_type": "stream",
     "text": [
      "/home/tangosvc/anaconda3/lib/python3.7/site-packages/pandas/core/reshape/merge.py:522: UserWarning: merging between different levels can give an unintended result (2 levels on the left, 1 on the right)\n",
      "  warnings.warn(msg, UserWarning)\n"
     ]
    },
    {
     "name": "stdout",
     "output_type": "stream",
     "text": [
      "| \u001b[0m 79      \u001b[0m | \u001b[0m 205.6   \u001b[0m | \u001b[0m 2.334   \u001b[0m | \u001b[0m 5.25    \u001b[0m | \u001b[0m 6.883   \u001b[0m | \u001b[0m 2.516   \u001b[0m | \u001b[0m 3.63    \u001b[0m | \u001b[0m 2.016   \u001b[0m | \u001b[0m 6.773   \u001b[0m | \u001b[0m 4.751   \u001b[0m | \u001b[0m 4.777   \u001b[0m | \u001b[0m 5.659   \u001b[0m | \u001b[0m 7.726   \u001b[0m | \u001b[0m 5.02    \u001b[0m | \u001b[0m 2.332   \u001b[0m | \u001b[0m 3.045   \u001b[0m | \u001b[0m 3.945   \u001b[0m | \u001b[0m 4.801   \u001b[0m |\n"
     ]
    },
    {
     "name": "stderr",
     "output_type": "stream",
     "text": [
      "/home/tangosvc/anaconda3/lib/python3.7/site-packages/ipykernel_launcher.py:226: SettingWithCopyWarning: \n",
      "A value is trying to be set on a copy of a slice from a DataFrame\n",
      "\n",
      "See the caveats in the documentation: http://pandas.pydata.org/pandas-docs/stable/indexing.html#indexing-view-versus-copy\n"
     ]
    },
    {
     "name": "stdout",
     "output_type": "stream",
     "text": [
      "Request 파일(/home/tangosvc/code/data/20191113/SON_TO_TEOS_RL_REQUEST_20191113_[1137].dat)을 생성합니다.\n",
      "\n",
      "TEOS_TO_SON_RL_RESULT_20191113_[1137].dat에 대한 get명령을 실행합니다.\n",
      "파일 TEOS_TO_SON_RL_RESULT_20191113_[1137].dat이 없어 60초 대기후 다시 확인합니다(최대60회).\n",
      "파일 TEOS_TO_SON_RL_RESULT_20191113_[1137].dat이 없어 60초 대기후 다시 확인합니다(최대60회).\n",
      "파일 TEOS_TO_SON_RL_RESULT_20191113_[1137].dat이 없어 60초 대기후 다시 확인합니다(최대60회).\n",
      "파일 TEOS_TO_SON_RL_RESULT_20191113_[1137].dat이 없어 60초 대기후 다시 확인합니다(최대60회).\n",
      "파일 TEOS_TO_SON_RL_RESULT_20191113_[1137].dat이 없어 60초 대기후 다시 확인합니다(최대60회).\n",
      "파일 TEOS_TO_SON_RL_RESULT_20191113_[1137].dat이 없어 60초 대기후 다시 확인합니다(최대60회).\n",
      "파일 TEOS_TO_SON_RL_RESULT_20191113_[1137].dat이 없어 60초 대기후 다시 확인합니다(최대60회).\n",
      "파일 TEOS_TO_SON_RL_RESULT_20191113_[1137].dat이 없어 60초 대기후 다시 확인합니다(최대60회).\n",
      "파일 TEOS_TO_SON_RL_RESULT_20191113_[1137].dat이 없어 60초 대기후 다시 확인합니다(최대60회).\n",
      "파일 TEOS_TO_SON_RL_RESULT_20191113_[1137].dat이 없어 60초 대기후 다시 확인합니다(최대60회).\n"
     ]
    },
    {
     "name": "stderr",
     "output_type": "stream",
     "text": [
      "/home/tangosvc/anaconda3/lib/python3.7/site-packages/pandas/core/reshape/merge.py:522: UserWarning: merging between different levels can give an unintended result (2 levels on the left, 1 on the right)\n",
      "  warnings.warn(msg, UserWarning)\n"
     ]
    },
    {
     "name": "stdout",
     "output_type": "stream",
     "text": [
      "| \u001b[95m 80      \u001b[0m | \u001b[95m 208.7   \u001b[0m | \u001b[95m 2.568   \u001b[0m | \u001b[95m 5.053   \u001b[0m | \u001b[95m 6.656   \u001b[0m | \u001b[95m 2.537   \u001b[0m | \u001b[95m 3.953   \u001b[0m | \u001b[95m 1.714   \u001b[0m | \u001b[95m 7.03    \u001b[0m | \u001b[95m 5.167   \u001b[0m | \u001b[95m 4.417   \u001b[0m | \u001b[95m 5.893   \u001b[0m | \u001b[95m 7.996   \u001b[0m | \u001b[95m 5.084   \u001b[0m | \u001b[95m 2.453   \u001b[0m | \u001b[95m 3.173   \u001b[0m | \u001b[95m 4.162   \u001b[0m | \u001b[95m 4.939   \u001b[0m |\n"
     ]
    },
    {
     "name": "stderr",
     "output_type": "stream",
     "text": [
      "/home/tangosvc/anaconda3/lib/python3.7/site-packages/ipykernel_launcher.py:226: SettingWithCopyWarning: \n",
      "A value is trying to be set on a copy of a slice from a DataFrame\n",
      "\n",
      "See the caveats in the documentation: http://pandas.pydata.org/pandas-docs/stable/indexing.html#indexing-view-versus-copy\n"
     ]
    },
    {
     "name": "stdout",
     "output_type": "stream",
     "text": [
      "Request 파일(/home/tangosvc/code/data/20191113/SON_TO_TEOS_RL_REQUEST_20191113_[1138].dat)을 생성합니다.\n",
      "\n",
      "TEOS_TO_SON_RL_RESULT_20191113_[1138].dat에 대한 get명령을 실행합니다.\n",
      "파일 TEOS_TO_SON_RL_RESULT_20191113_[1138].dat이 없어 60초 대기후 다시 확인합니다(최대60회).\n",
      "파일 TEOS_TO_SON_RL_RESULT_20191113_[1138].dat이 없어 60초 대기후 다시 확인합니다(최대60회).\n",
      "파일 TEOS_TO_SON_RL_RESULT_20191113_[1138].dat이 없어 60초 대기후 다시 확인합니다(최대60회).\n",
      "파일 TEOS_TO_SON_RL_RESULT_20191113_[1138].dat이 없어 60초 대기후 다시 확인합니다(최대60회).\n",
      "파일 TEOS_TO_SON_RL_RESULT_20191113_[1138].dat이 없어 60초 대기후 다시 확인합니다(최대60회).\n",
      "파일 TEOS_TO_SON_RL_RESULT_20191113_[1138].dat이 없어 60초 대기후 다시 확인합니다(최대60회).\n",
      "파일 TEOS_TO_SON_RL_RESULT_20191113_[1138].dat이 없어 60초 대기후 다시 확인합니다(최대60회).\n",
      "파일 TEOS_TO_SON_RL_RESULT_20191113_[1138].dat이 없어 60초 대기후 다시 확인합니다(최대60회).\n",
      "파일 TEOS_TO_SON_RL_RESULT_20191113_[1138].dat이 없어 60초 대기후 다시 확인합니다(최대60회).\n",
      "파일 TEOS_TO_SON_RL_RESULT_20191113_[1138].dat이 없어 60초 대기후 다시 확인합니다(최대60회).\n"
     ]
    },
    {
     "name": "stderr",
     "output_type": "stream",
     "text": [
      "/home/tangosvc/anaconda3/lib/python3.7/site-packages/pandas/core/reshape/merge.py:522: UserWarning: merging between different levels can give an unintended result (2 levels on the left, 1 on the right)\n",
      "  warnings.warn(msg, UserWarning)\n"
     ]
    },
    {
     "name": "stdout",
     "output_type": "stream",
     "text": [
      "| \u001b[0m 81      \u001b[0m | \u001b[0m 205.6   \u001b[0m | \u001b[0m 2.386   \u001b[0m | \u001b[0m 5.041   \u001b[0m | \u001b[0m 6.883   \u001b[0m | \u001b[0m 2.731   \u001b[0m | \u001b[0m 3.866   \u001b[0m | \u001b[0m 1.876   \u001b[0m | \u001b[0m 6.818   \u001b[0m | \u001b[0m 4.766   \u001b[0m | \u001b[0m 4.715   \u001b[0m | \u001b[0m 5.614   \u001b[0m | \u001b[0m 7.755   \u001b[0m | \u001b[0m 4.973   \u001b[0m | \u001b[0m 2.33    \u001b[0m | \u001b[0m 3.115   \u001b[0m | \u001b[0m 4.149   \u001b[0m | \u001b[0m 4.967   \u001b[0m |\n"
     ]
    },
    {
     "name": "stderr",
     "output_type": "stream",
     "text": [
      "/home/tangosvc/anaconda3/lib/python3.7/site-packages/ipykernel_launcher.py:226: SettingWithCopyWarning: \n",
      "A value is trying to be set on a copy of a slice from a DataFrame\n",
      "\n",
      "See the caveats in the documentation: http://pandas.pydata.org/pandas-docs/stable/indexing.html#indexing-view-versus-copy\n"
     ]
    },
    {
     "name": "stdout",
     "output_type": "stream",
     "text": [
      "Request 파일(/home/tangosvc/code/data/20191113/SON_TO_TEOS_RL_REQUEST_20191113_[1139].dat)을 생성합니다.\n",
      "\n",
      "TEOS_TO_SON_RL_RESULT_20191113_[1139].dat에 대한 get명령을 실행합니다.\n",
      "파일 TEOS_TO_SON_RL_RESULT_20191113_[1139].dat이 없어 60초 대기후 다시 확인합니다(최대60회).\n",
      "파일 TEOS_TO_SON_RL_RESULT_20191113_[1139].dat이 없어 60초 대기후 다시 확인합니다(최대60회).\n",
      "파일 TEOS_TO_SON_RL_RESULT_20191113_[1139].dat이 없어 60초 대기후 다시 확인합니다(최대60회).\n",
      "파일 TEOS_TO_SON_RL_RESULT_20191113_[1139].dat이 없어 60초 대기후 다시 확인합니다(최대60회).\n",
      "파일 TEOS_TO_SON_RL_RESULT_20191113_[1139].dat이 없어 60초 대기후 다시 확인합니다(최대60회).\n",
      "파일 TEOS_TO_SON_RL_RESULT_20191113_[1139].dat이 없어 60초 대기후 다시 확인합니다(최대60회).\n",
      "파일 TEOS_TO_SON_RL_RESULT_20191113_[1139].dat이 없어 60초 대기후 다시 확인합니다(최대60회).\n",
      "파일 TEOS_TO_SON_RL_RESULT_20191113_[1139].dat이 없어 60초 대기후 다시 확인합니다(최대60회).\n",
      "파일 TEOS_TO_SON_RL_RESULT_20191113_[1139].dat이 없어 60초 대기후 다시 확인합니다(최대60회).\n"
     ]
    },
    {
     "name": "stderr",
     "output_type": "stream",
     "text": [
      "/home/tangosvc/anaconda3/lib/python3.7/site-packages/pandas/core/reshape/merge.py:522: UserWarning: merging between different levels can give an unintended result (2 levels on the left, 1 on the right)\n",
      "  warnings.warn(msg, UserWarning)\n"
     ]
    },
    {
     "name": "stdout",
     "output_type": "stream",
     "text": [
      "| \u001b[95m 82      \u001b[0m | \u001b[95m 208.7   \u001b[0m | \u001b[95m 2.546   \u001b[0m | \u001b[95m 4.964   \u001b[0m | \u001b[95m 6.619   \u001b[0m | \u001b[95m 2.516   \u001b[0m | \u001b[95m 3.959   \u001b[0m | \u001b[95m 1.755   \u001b[0m | \u001b[95m 7.076   \u001b[0m | \u001b[95m 5.125   \u001b[0m | \u001b[95m 4.363   \u001b[0m | \u001b[95m 5.864   \u001b[0m | \u001b[95m 7.978   \u001b[0m | \u001b[95m 5.114   \u001b[0m | \u001b[95m 2.435   \u001b[0m | \u001b[95m 3.065   \u001b[0m | \u001b[95m 4.08    \u001b[0m | \u001b[95m 5.034   \u001b[0m |\n"
     ]
    },
    {
     "name": "stderr",
     "output_type": "stream",
     "text": [
      "/home/tangosvc/anaconda3/lib/python3.7/site-packages/ipykernel_launcher.py:226: SettingWithCopyWarning: \n",
      "A value is trying to be set on a copy of a slice from a DataFrame\n",
      "\n",
      "See the caveats in the documentation: http://pandas.pydata.org/pandas-docs/stable/indexing.html#indexing-view-versus-copy\n"
     ]
    },
    {
     "name": "stdout",
     "output_type": "stream",
     "text": [
      "Request 파일(/home/tangosvc/code/data/20191113/SON_TO_TEOS_RL_REQUEST_20191113_[1140].dat)을 생성합니다.\n",
      "\n",
      "TEOS_TO_SON_RL_RESULT_20191113_[1140].dat에 대한 get명령을 실행합니다.\n",
      "파일 TEOS_TO_SON_RL_RESULT_20191113_[1140].dat이 없어 60초 대기후 다시 확인합니다(최대60회).\n",
      "파일 TEOS_TO_SON_RL_RESULT_20191113_[1140].dat이 없어 60초 대기후 다시 확인합니다(최대60회).\n",
      "파일 TEOS_TO_SON_RL_RESULT_20191113_[1140].dat이 없어 60초 대기후 다시 확인합니다(최대60회).\n",
      "파일 TEOS_TO_SON_RL_RESULT_20191113_[1140].dat이 없어 60초 대기후 다시 확인합니다(최대60회).\n",
      "파일 TEOS_TO_SON_RL_RESULT_20191113_[1140].dat이 없어 60초 대기후 다시 확인합니다(최대60회).\n",
      "파일 TEOS_TO_SON_RL_RESULT_20191113_[1140].dat이 없어 60초 대기후 다시 확인합니다(최대60회).\n",
      "파일 TEOS_TO_SON_RL_RESULT_20191113_[1140].dat이 없어 60초 대기후 다시 확인합니다(최대60회).\n",
      "파일 TEOS_TO_SON_RL_RESULT_20191113_[1140].dat이 없어 60초 대기후 다시 확인합니다(최대60회).\n",
      "파일 TEOS_TO_SON_RL_RESULT_20191113_[1140].dat이 없어 60초 대기후 다시 확인합니다(최대60회).\n",
      "파일 TEOS_TO_SON_RL_RESULT_20191113_[1140].dat이 없어 60초 대기후 다시 확인합니다(최대60회).\n"
     ]
    },
    {
     "name": "stderr",
     "output_type": "stream",
     "text": [
      "/home/tangosvc/anaconda3/lib/python3.7/site-packages/pandas/core/reshape/merge.py:522: UserWarning: merging between different levels can give an unintended result (2 levels on the left, 1 on the right)\n",
      "  warnings.warn(msg, UserWarning)\n"
     ]
    },
    {
     "name": "stdout",
     "output_type": "stream",
     "text": [
      "| \u001b[0m 83      \u001b[0m | \u001b[0m 198.8   \u001b[0m | \u001b[0m 2.604   \u001b[0m | \u001b[0m 5.062   \u001b[0m | \u001b[0m 6.627   \u001b[0m | \u001b[0m 2.485   \u001b[0m | \u001b[0m 3.949   \u001b[0m | \u001b[0m 1.768   \u001b[0m | \u001b[0m 6.968   \u001b[0m | \u001b[0m 5.22    \u001b[0m | \u001b[0m 4.343   \u001b[0m | \u001b[0m 5.94    \u001b[0m | \u001b[0m 7.996   \u001b[0m | \u001b[0m 4.995   \u001b[0m | \u001b[0m 2.441   \u001b[0m | \u001b[0m 3.2     \u001b[0m | \u001b[0m 4.137   \u001b[0m | \u001b[0m 4.928   \u001b[0m |\n"
     ]
    },
    {
     "name": "stderr",
     "output_type": "stream",
     "text": [
      "/home/tangosvc/anaconda3/lib/python3.7/site-packages/ipykernel_launcher.py:226: SettingWithCopyWarning: \n",
      "A value is trying to be set on a copy of a slice from a DataFrame\n",
      "\n",
      "See the caveats in the documentation: http://pandas.pydata.org/pandas-docs/stable/indexing.html#indexing-view-versus-copy\n"
     ]
    },
    {
     "name": "stdout",
     "output_type": "stream",
     "text": [
      "Request 파일(/home/tangosvc/code/data/20191113/SON_TO_TEOS_RL_REQUEST_20191113_[1141].dat)을 생성합니다.\n",
      "\n",
      "TEOS_TO_SON_RL_RESULT_20191113_[1141].dat에 대한 get명령을 실행합니다.\n",
      "파일 TEOS_TO_SON_RL_RESULT_20191113_[1141].dat이 없어 60초 대기후 다시 확인합니다(최대60회).\n",
      "파일 TEOS_TO_SON_RL_RESULT_20191113_[1141].dat이 없어 60초 대기후 다시 확인합니다(최대60회).\n",
      "파일 TEOS_TO_SON_RL_RESULT_20191113_[1141].dat이 없어 60초 대기후 다시 확인합니다(최대60회).\n",
      "파일 TEOS_TO_SON_RL_RESULT_20191113_[1141].dat이 없어 60초 대기후 다시 확인합니다(최대60회).\n",
      "파일 TEOS_TO_SON_RL_RESULT_20191113_[1141].dat이 없어 60초 대기후 다시 확인합니다(최대60회).\n",
      "파일 TEOS_TO_SON_RL_RESULT_20191113_[1141].dat이 없어 60초 대기후 다시 확인합니다(최대60회).\n",
      "파일 TEOS_TO_SON_RL_RESULT_20191113_[1141].dat이 없어 60초 대기후 다시 확인합니다(최대60회).\n",
      "파일 TEOS_TO_SON_RL_RESULT_20191113_[1141].dat이 없어 60초 대기후 다시 확인합니다(최대60회).\n",
      "파일 TEOS_TO_SON_RL_RESULT_20191113_[1141].dat이 없어 60초 대기후 다시 확인합니다(최대60회).\n"
     ]
    },
    {
     "name": "stderr",
     "output_type": "stream",
     "text": [
      "/home/tangosvc/anaconda3/lib/python3.7/site-packages/pandas/core/reshape/merge.py:522: UserWarning: merging between different levels can give an unintended result (2 levels on the left, 1 on the right)\n",
      "  warnings.warn(msg, UserWarning)\n"
     ]
    },
    {
     "name": "stdout",
     "output_type": "stream",
     "text": [
      "| \u001b[0m 84      \u001b[0m | \u001b[0m 181.4   \u001b[0m | \u001b[0m 2.546   \u001b[0m | \u001b[0m 5.002   \u001b[0m | \u001b[0m 6.707   \u001b[0m | \u001b[0m 2.58    \u001b[0m | \u001b[0m 3.981   \u001b[0m | \u001b[0m 1.629   \u001b[0m | \u001b[0m 7.226   \u001b[0m | \u001b[0m 5.123   \u001b[0m | \u001b[0m 4.506   \u001b[0m | \u001b[0m 5.781   \u001b[0m | \u001b[0m 8.0     \u001b[0m | \u001b[0m 5.334   \u001b[0m | \u001b[0m 2.557   \u001b[0m | \u001b[0m 3.095   \u001b[0m | \u001b[0m 4.225   \u001b[0m | \u001b[0m 4.971   \u001b[0m |\n"
     ]
    },
    {
     "name": "stderr",
     "output_type": "stream",
     "text": [
      "/home/tangosvc/anaconda3/lib/python3.7/site-packages/ipykernel_launcher.py:226: SettingWithCopyWarning: \n",
      "A value is trying to be set on a copy of a slice from a DataFrame\n",
      "\n",
      "See the caveats in the documentation: http://pandas.pydata.org/pandas-docs/stable/indexing.html#indexing-view-versus-copy\n"
     ]
    },
    {
     "name": "stdout",
     "output_type": "stream",
     "text": [
      "Request 파일(/home/tangosvc/code/data/20191113/SON_TO_TEOS_RL_REQUEST_20191113_[1142].dat)을 생성합니다.\n",
      "\n",
      "TEOS_TO_SON_RL_RESULT_20191113_[1142].dat에 대한 get명령을 실행합니다.\n",
      "파일 TEOS_TO_SON_RL_RESULT_20191113_[1142].dat이 없어 60초 대기후 다시 확인합니다(최대60회).\n",
      "파일 TEOS_TO_SON_RL_RESULT_20191113_[1142].dat이 없어 60초 대기후 다시 확인합니다(최대60회).\n",
      "파일 TEOS_TO_SON_RL_RESULT_20191113_[1142].dat이 없어 60초 대기후 다시 확인합니다(최대60회).\n",
      "파일 TEOS_TO_SON_RL_RESULT_20191113_[1142].dat이 없어 60초 대기후 다시 확인합니다(최대60회).\n",
      "파일 TEOS_TO_SON_RL_RESULT_20191113_[1142].dat이 없어 60초 대기후 다시 확인합니다(최대60회).\n",
      "파일 TEOS_TO_SON_RL_RESULT_20191113_[1142].dat이 없어 60초 대기후 다시 확인합니다(최대60회).\n",
      "파일 TEOS_TO_SON_RL_RESULT_20191113_[1142].dat이 없어 60초 대기후 다시 확인합니다(최대60회).\n",
      "파일 TEOS_TO_SON_RL_RESULT_20191113_[1142].dat이 없어 60초 대기후 다시 확인합니다(최대60회).\n",
      "파일 TEOS_TO_SON_RL_RESULT_20191113_[1142].dat이 없어 60초 대기후 다시 확인합니다(최대60회).\n",
      "파일 TEOS_TO_SON_RL_RESULT_20191113_[1142].dat이 없어 60초 대기후 다시 확인합니다(최대60회).\n"
     ]
    },
    {
     "name": "stderr",
     "output_type": "stream",
     "text": [
      "/home/tangosvc/anaconda3/lib/python3.7/site-packages/pandas/core/reshape/merge.py:522: UserWarning: merging between different levels can give an unintended result (2 levels on the left, 1 on the right)\n",
      "  warnings.warn(msg, UserWarning)\n"
     ]
    },
    {
     "name": "stdout",
     "output_type": "stream",
     "text": [
      "| \u001b[0m 85      \u001b[0m | \u001b[0m 205.5   \u001b[0m | \u001b[0m 2.435   \u001b[0m | \u001b[0m 5.123   \u001b[0m | \u001b[0m 6.619   \u001b[0m | \u001b[0m 2.574   \u001b[0m | \u001b[0m 3.872   \u001b[0m | \u001b[0m 1.657   \u001b[0m | \u001b[0m 7.059   \u001b[0m | \u001b[0m 5.036   \u001b[0m | \u001b[0m 4.441   \u001b[0m | \u001b[0m 5.78    \u001b[0m | \u001b[0m 7.942   \u001b[0m | \u001b[0m 5.042   \u001b[0m | \u001b[0m 2.307   \u001b[0m | \u001b[0m 3.16    \u001b[0m | \u001b[0m 4.054   \u001b[0m | \u001b[0m 5.01    \u001b[0m |\n"
     ]
    },
    {
     "name": "stderr",
     "output_type": "stream",
     "text": [
      "/home/tangosvc/anaconda3/lib/python3.7/site-packages/ipykernel_launcher.py:226: SettingWithCopyWarning: \n",
      "A value is trying to be set on a copy of a slice from a DataFrame\n",
      "\n",
      "See the caveats in the documentation: http://pandas.pydata.org/pandas-docs/stable/indexing.html#indexing-view-versus-copy\n"
     ]
    },
    {
     "name": "stdout",
     "output_type": "stream",
     "text": [
      "Request 파일(/home/tangosvc/code/data/20191113/SON_TO_TEOS_RL_REQUEST_20191113_[1143].dat)을 생성합니다.\n",
      "\n",
      "TEOS_TO_SON_RL_RESULT_20191113_[1143].dat에 대한 get명령을 실행합니다.\n",
      "파일 TEOS_TO_SON_RL_RESULT_20191113_[1143].dat이 없어 60초 대기후 다시 확인합니다(최대60회).\n",
      "파일 TEOS_TO_SON_RL_RESULT_20191113_[1143].dat이 없어 60초 대기후 다시 확인합니다(최대60회).\n",
      "파일 TEOS_TO_SON_RL_RESULT_20191113_[1143].dat이 없어 60초 대기후 다시 확인합니다(최대60회).\n",
      "파일 TEOS_TO_SON_RL_RESULT_20191113_[1143].dat이 없어 60초 대기후 다시 확인합니다(최대60회).\n",
      "파일 TEOS_TO_SON_RL_RESULT_20191113_[1143].dat이 없어 60초 대기후 다시 확인합니다(최대60회).\n",
      "파일 TEOS_TO_SON_RL_RESULT_20191113_[1143].dat이 없어 60초 대기후 다시 확인합니다(최대60회).\n",
      "파일 TEOS_TO_SON_RL_RESULT_20191113_[1143].dat이 없어 60초 대기후 다시 확인합니다(최대60회).\n",
      "파일 TEOS_TO_SON_RL_RESULT_20191113_[1143].dat이 없어 60초 대기후 다시 확인합니다(최대60회).\n",
      "파일 TEOS_TO_SON_RL_RESULT_20191113_[1143].dat이 없어 60초 대기후 다시 확인합니다(최대60회).\n"
     ]
    },
    {
     "name": "stderr",
     "output_type": "stream",
     "text": [
      "/home/tangosvc/anaconda3/lib/python3.7/site-packages/pandas/core/reshape/merge.py:522: UserWarning: merging between different levels can give an unintended result (2 levels on the left, 1 on the right)\n",
      "  warnings.warn(msg, UserWarning)\n"
     ]
    },
    {
     "name": "stdout",
     "output_type": "stream",
     "text": [
      "| \u001b[0m 86      \u001b[0m | \u001b[0m 208.7   \u001b[0m | \u001b[0m 2.537   \u001b[0m | \u001b[0m 4.995   \u001b[0m | \u001b[0m 6.687   \u001b[0m | \u001b[0m 2.569   \u001b[0m | \u001b[0m 3.913   \u001b[0m | \u001b[0m 1.74    \u001b[0m | \u001b[0m 6.985   \u001b[0m | \u001b[0m 5.052   \u001b[0m | \u001b[0m 4.494   \u001b[0m | \u001b[0m 5.842   \u001b[0m | \u001b[0m 7.967   \u001b[0m | \u001b[0m 5.039   \u001b[0m | \u001b[0m 2.414   \u001b[0m | \u001b[0m 3.096   \u001b[0m | \u001b[0m 4.124   \u001b[0m | \u001b[0m 5.003   \u001b[0m |\n"
     ]
    },
    {
     "name": "stderr",
     "output_type": "stream",
     "text": [
      "/home/tangosvc/anaconda3/lib/python3.7/site-packages/ipykernel_launcher.py:226: SettingWithCopyWarning: \n",
      "A value is trying to be set on a copy of a slice from a DataFrame\n",
      "\n",
      "See the caveats in the documentation: http://pandas.pydata.org/pandas-docs/stable/indexing.html#indexing-view-versus-copy\n"
     ]
    },
    {
     "name": "stdout",
     "output_type": "stream",
     "text": [
      "Request 파일(/home/tangosvc/code/data/20191113/SON_TO_TEOS_RL_REQUEST_20191113_[1144].dat)을 생성합니다.\n",
      "\n",
      "TEOS_TO_SON_RL_RESULT_20191113_[1144].dat에 대한 get명령을 실행합니다.\n",
      "파일 TEOS_TO_SON_RL_RESULT_20191113_[1144].dat이 없어 60초 대기후 다시 확인합니다(최대60회).\n",
      "파일 TEOS_TO_SON_RL_RESULT_20191113_[1144].dat이 없어 60초 대기후 다시 확인합니다(최대60회).\n",
      "파일 TEOS_TO_SON_RL_RESULT_20191113_[1144].dat이 없어 60초 대기후 다시 확인합니다(최대60회).\n",
      "파일 TEOS_TO_SON_RL_RESULT_20191113_[1144].dat이 없어 60초 대기후 다시 확인합니다(최대60회).\n",
      "파일 TEOS_TO_SON_RL_RESULT_20191113_[1144].dat이 없어 60초 대기후 다시 확인합니다(최대60회).\n",
      "파일 TEOS_TO_SON_RL_RESULT_20191113_[1144].dat이 없어 60초 대기후 다시 확인합니다(최대60회).\n",
      "파일 TEOS_TO_SON_RL_RESULT_20191113_[1144].dat이 없어 60초 대기후 다시 확인합니다(최대60회).\n",
      "파일 TEOS_TO_SON_RL_RESULT_20191113_[1144].dat이 없어 60초 대기후 다시 확인합니다(최대60회).\n",
      "파일 TEOS_TO_SON_RL_RESULT_20191113_[1144].dat이 없어 60초 대기후 다시 확인합니다(최대60회).\n",
      "파일 TEOS_TO_SON_RL_RESULT_20191113_[1144].dat이 없어 60초 대기후 다시 확인합니다(최대60회).\n",
      "파일 TEOS_TO_SON_RL_RESULT_20191113_[1144].dat이 없어 60초 대기후 다시 확인합니다(최대60회).\n",
      "파일 TEOS_TO_SON_RL_RESULT_20191113_[1144].dat이 없어 60초 대기후 다시 확인합니다(최대60회).\n",
      "파일 TEOS_TO_SON_RL_RESULT_20191113_[1144].dat이 없어 60초 대기후 다시 확인합니다(최대60회).\n",
      "파일 TEOS_TO_SON_RL_RESULT_20191113_[1144].dat이 없어 60초 대기후 다시 확인합니다(최대60회).\n",
      "파일 TEOS_TO_SON_RL_RESULT_20191113_[1144].dat이 없어 60초 대기후 다시 확인합니다(최대60회).\n"
     ]
    },
    {
     "name": "stderr",
     "output_type": "stream",
     "text": [
      "/home/tangosvc/anaconda3/lib/python3.7/site-packages/pandas/core/reshape/merge.py:522: UserWarning: merging between different levels can give an unintended result (2 levels on the left, 1 on the right)\n",
      "  warnings.warn(msg, UserWarning)\n"
     ]
    },
    {
     "name": "stdout",
     "output_type": "stream",
     "text": [
      "| \u001b[0m 87      \u001b[0m | \u001b[0m 193.3   \u001b[0m | \u001b[0m 2.434   \u001b[0m | \u001b[0m 5.02    \u001b[0m | \u001b[0m 7.032   \u001b[0m | \u001b[0m 2.143   \u001b[0m | \u001b[0m 3.739   \u001b[0m | \u001b[0m 2.109   \u001b[0m | \u001b[0m 7.256   \u001b[0m | \u001b[0m 4.856   \u001b[0m | \u001b[0m 4.311   \u001b[0m | \u001b[0m 5.34    \u001b[0m | \u001b[0m 7.661   \u001b[0m | \u001b[0m 5.252   \u001b[0m | \u001b[0m 2.367   \u001b[0m | \u001b[0m 2.685   \u001b[0m | \u001b[0m 3.71    \u001b[0m | \u001b[0m 4.882   \u001b[0m |\n"
     ]
    },
    {
     "name": "stderr",
     "output_type": "stream",
     "text": [
      "/home/tangosvc/anaconda3/lib/python3.7/site-packages/ipykernel_launcher.py:226: SettingWithCopyWarning: \n",
      "A value is trying to be set on a copy of a slice from a DataFrame\n",
      "\n",
      "See the caveats in the documentation: http://pandas.pydata.org/pandas-docs/stable/indexing.html#indexing-view-versus-copy\n"
     ]
    },
    {
     "name": "stdout",
     "output_type": "stream",
     "text": [
      "Request 파일(/home/tangosvc/code/data/20191113/SON_TO_TEOS_RL_REQUEST_20191113_[1145].dat)을 생성합니다.\n",
      "\n",
      "TEOS_TO_SON_RL_RESULT_20191113_[1145].dat에 대한 get명령을 실행합니다.\n",
      "파일 TEOS_TO_SON_RL_RESULT_20191113_[1145].dat이 없어 60초 대기후 다시 확인합니다(최대60회).\n",
      "파일 TEOS_TO_SON_RL_RESULT_20191113_[1145].dat이 없어 60초 대기후 다시 확인합니다(최대60회).\n",
      "파일 TEOS_TO_SON_RL_RESULT_20191113_[1145].dat이 없어 60초 대기후 다시 확인합니다(최대60회).\n",
      "파일 TEOS_TO_SON_RL_RESULT_20191113_[1145].dat이 없어 60초 대기후 다시 확인합니다(최대60회).\n",
      "파일 TEOS_TO_SON_RL_RESULT_20191113_[1145].dat이 없어 60초 대기후 다시 확인합니다(최대60회).\n",
      "파일 TEOS_TO_SON_RL_RESULT_20191113_[1145].dat이 없어 60초 대기후 다시 확인합니다(최대60회).\n",
      "파일 TEOS_TO_SON_RL_RESULT_20191113_[1145].dat이 없어 60초 대기후 다시 확인합니다(최대60회).\n",
      "파일 TEOS_TO_SON_RL_RESULT_20191113_[1145].dat이 없어 60초 대기후 다시 확인합니다(최대60회).\n",
      "파일 TEOS_TO_SON_RL_RESULT_20191113_[1145].dat이 없어 60초 대기후 다시 확인합니다(최대60회).\n"
     ]
    },
    {
     "name": "stderr",
     "output_type": "stream",
     "text": [
      "/home/tangosvc/anaconda3/lib/python3.7/site-packages/pandas/core/reshape/merge.py:522: UserWarning: merging between different levels can give an unintended result (2 levels on the left, 1 on the right)\n",
      "  warnings.warn(msg, UserWarning)\n"
     ]
    },
    {
     "name": "stdout",
     "output_type": "stream",
     "text": [
      "| \u001b[95m 88      \u001b[0m | \u001b[95m 208.7   \u001b[0m | \u001b[95m 2.501   \u001b[0m | \u001b[95m 5.078   \u001b[0m | \u001b[95m 6.66    \u001b[0m | \u001b[95m 2.555   \u001b[0m | \u001b[95m 3.923   \u001b[0m | \u001b[95m 1.732   \u001b[0m | \u001b[95m 7.043   \u001b[0m | \u001b[95m 5.109   \u001b[0m | \u001b[95m 4.413   \u001b[0m | \u001b[95m 5.837   \u001b[0m | \u001b[95m 7.961   \u001b[0m | \u001b[95m 5.098   \u001b[0m | \u001b[95m 2.434   \u001b[0m | \u001b[95m 3.139   \u001b[0m | \u001b[95m 4.129   \u001b[0m | \u001b[95m 4.955   \u001b[0m |\n"
     ]
    },
    {
     "name": "stderr",
     "output_type": "stream",
     "text": [
      "/home/tangosvc/anaconda3/lib/python3.7/site-packages/ipykernel_launcher.py:226: SettingWithCopyWarning: \n",
      "A value is trying to be set on a copy of a slice from a DataFrame\n",
      "\n",
      "See the caveats in the documentation: http://pandas.pydata.org/pandas-docs/stable/indexing.html#indexing-view-versus-copy\n"
     ]
    },
    {
     "name": "stdout",
     "output_type": "stream",
     "text": [
      "Request 파일(/home/tangosvc/code/data/20191113/SON_TO_TEOS_RL_REQUEST_20191113_[1146].dat)을 생성합니다.\n",
      "\n",
      "TEOS_TO_SON_RL_RESULT_20191113_[1146].dat에 대한 get명령을 실행합니다.\n",
      "파일 TEOS_TO_SON_RL_RESULT_20191113_[1146].dat이 없어 60초 대기후 다시 확인합니다(최대60회).\n",
      "파일 TEOS_TO_SON_RL_RESULT_20191113_[1146].dat이 없어 60초 대기후 다시 확인합니다(최대60회).\n",
      "파일 TEOS_TO_SON_RL_RESULT_20191113_[1146].dat이 없어 60초 대기후 다시 확인합니다(최대60회).\n",
      "파일 TEOS_TO_SON_RL_RESULT_20191113_[1146].dat이 없어 60초 대기후 다시 확인합니다(최대60회).\n",
      "파일 TEOS_TO_SON_RL_RESULT_20191113_[1146].dat이 없어 60초 대기후 다시 확인합니다(최대60회).\n",
      "파일 TEOS_TO_SON_RL_RESULT_20191113_[1146].dat이 없어 60초 대기후 다시 확인합니다(최대60회).\n",
      "파일 TEOS_TO_SON_RL_RESULT_20191113_[1146].dat이 없어 60초 대기후 다시 확인합니다(최대60회).\n",
      "파일 TEOS_TO_SON_RL_RESULT_20191113_[1146].dat이 없어 60초 대기후 다시 확인합니다(최대60회).\n",
      "파일 TEOS_TO_SON_RL_RESULT_20191113_[1146].dat이 없어 60초 대기후 다시 확인합니다(최대60회).\n",
      "파일 TEOS_TO_SON_RL_RESULT_20191113_[1146].dat이 없어 60초 대기후 다시 확인합니다(최대60회).\n"
     ]
    },
    {
     "name": "stderr",
     "output_type": "stream",
     "text": [
      "/home/tangosvc/anaconda3/lib/python3.7/site-packages/pandas/core/reshape/merge.py:522: UserWarning: merging between different levels can give an unintended result (2 levels on the left, 1 on the right)\n",
      "  warnings.warn(msg, UserWarning)\n"
     ]
    },
    {
     "name": "stdout",
     "output_type": "stream",
     "text": [
      "| \u001b[0m 89      \u001b[0m | \u001b[0m 208.7   \u001b[0m | \u001b[0m 2.566   \u001b[0m | \u001b[0m 5.014   \u001b[0m | \u001b[0m 6.65    \u001b[0m | \u001b[0m 2.532   \u001b[0m | \u001b[0m 3.949   \u001b[0m | \u001b[0m 1.667   \u001b[0m | \u001b[0m 7.059   \u001b[0m | \u001b[0m 5.125   \u001b[0m | \u001b[0m 4.45    \u001b[0m | \u001b[0m 5.862   \u001b[0m | \u001b[0m 7.982   \u001b[0m | \u001b[0m 5.065   \u001b[0m | \u001b[0m 2.388   \u001b[0m | \u001b[0m 3.144   \u001b[0m | \u001b[0m 4.111   \u001b[0m | \u001b[0m 5.006   \u001b[0m |\n"
     ]
    },
    {
     "name": "stderr",
     "output_type": "stream",
     "text": [
      "/home/tangosvc/anaconda3/lib/python3.7/site-packages/ipykernel_launcher.py:226: SettingWithCopyWarning: \n",
      "A value is trying to be set on a copy of a slice from a DataFrame\n",
      "\n",
      "See the caveats in the documentation: http://pandas.pydata.org/pandas-docs/stable/indexing.html#indexing-view-versus-copy\n"
     ]
    },
    {
     "name": "stdout",
     "output_type": "stream",
     "text": [
      "Request 파일(/home/tangosvc/code/data/20191113/SON_TO_TEOS_RL_REQUEST_20191113_[1147].dat)을 생성합니다.\n",
      "\n",
      "TEOS_TO_SON_RL_RESULT_20191113_[1147].dat에 대한 get명령을 실행합니다.\n",
      "파일 TEOS_TO_SON_RL_RESULT_20191113_[1147].dat이 없어 60초 대기후 다시 확인합니다(최대60회).\n",
      "파일 TEOS_TO_SON_RL_RESULT_20191113_[1147].dat이 없어 60초 대기후 다시 확인합니다(최대60회).\n",
      "파일 TEOS_TO_SON_RL_RESULT_20191113_[1147].dat이 없어 60초 대기후 다시 확인합니다(최대60회).\n",
      "파일 TEOS_TO_SON_RL_RESULT_20191113_[1147].dat이 없어 60초 대기후 다시 확인합니다(최대60회).\n",
      "파일 TEOS_TO_SON_RL_RESULT_20191113_[1147].dat이 없어 60초 대기후 다시 확인합니다(최대60회).\n",
      "파일 TEOS_TO_SON_RL_RESULT_20191113_[1147].dat이 없어 60초 대기후 다시 확인합니다(최대60회).\n",
      "파일 TEOS_TO_SON_RL_RESULT_20191113_[1147].dat이 없어 60초 대기후 다시 확인합니다(최대60회).\n",
      "파일 TEOS_TO_SON_RL_RESULT_20191113_[1147].dat이 없어 60초 대기후 다시 확인합니다(최대60회).\n",
      "파일 TEOS_TO_SON_RL_RESULT_20191113_[1147].dat이 없어 60초 대기후 다시 확인합니다(최대60회).\n"
     ]
    },
    {
     "name": "stderr",
     "output_type": "stream",
     "text": [
      "/home/tangosvc/anaconda3/lib/python3.7/site-packages/pandas/core/reshape/merge.py:522: UserWarning: merging between different levels can give an unintended result (2 levels on the left, 1 on the right)\n",
      "  warnings.warn(msg, UserWarning)\n"
     ]
    },
    {
     "name": "stdout",
     "output_type": "stream",
     "text": [
      "| \u001b[0m 90      \u001b[0m | \u001b[0m 205.6   \u001b[0m | \u001b[0m 2.321   \u001b[0m | \u001b[0m 4.92    \u001b[0m | \u001b[0m 6.963   \u001b[0m | \u001b[0m 2.714   \u001b[0m | \u001b[0m 3.899   \u001b[0m | \u001b[0m 2.017   \u001b[0m | \u001b[0m 6.854   \u001b[0m | \u001b[0m 4.692   \u001b[0m | \u001b[0m 4.567   \u001b[0m | \u001b[0m 5.569   \u001b[0m | \u001b[0m 7.682   \u001b[0m | \u001b[0m 4.982   \u001b[0m | \u001b[0m 2.37    \u001b[0m | \u001b[0m 2.974   \u001b[0m | \u001b[0m 4.051   \u001b[0m | \u001b[0m 5.094   \u001b[0m |\n"
     ]
    },
    {
     "name": "stderr",
     "output_type": "stream",
     "text": [
      "/home/tangosvc/anaconda3/lib/python3.7/site-packages/ipykernel_launcher.py:226: SettingWithCopyWarning: \n",
      "A value is trying to be set on a copy of a slice from a DataFrame\n",
      "\n",
      "See the caveats in the documentation: http://pandas.pydata.org/pandas-docs/stable/indexing.html#indexing-view-versus-copy\n"
     ]
    },
    {
     "name": "stdout",
     "output_type": "stream",
     "text": [
      "Request 파일(/home/tangosvc/code/data/20191113/SON_TO_TEOS_RL_REQUEST_20191113_[1148].dat)을 생성합니다.\n",
      "\n",
      "TEOS_TO_SON_RL_RESULT_20191113_[1148].dat에 대한 get명령을 실행합니다.\n",
      "파일 TEOS_TO_SON_RL_RESULT_20191113_[1148].dat이 없어 60초 대기후 다시 확인합니다(최대60회).\n",
      "파일 TEOS_TO_SON_RL_RESULT_20191113_[1148].dat이 없어 60초 대기후 다시 확인합니다(최대60회).\n",
      "파일 TEOS_TO_SON_RL_RESULT_20191113_[1148].dat이 없어 60초 대기후 다시 확인합니다(최대60회).\n",
      "파일 TEOS_TO_SON_RL_RESULT_20191113_[1148].dat이 없어 60초 대기후 다시 확인합니다(최대60회).\n",
      "파일 TEOS_TO_SON_RL_RESULT_20191113_[1148].dat이 없어 60초 대기후 다시 확인합니다(최대60회).\n",
      "파일 TEOS_TO_SON_RL_RESULT_20191113_[1148].dat이 없어 60초 대기후 다시 확인합니다(최대60회).\n",
      "파일 TEOS_TO_SON_RL_RESULT_20191113_[1148].dat이 없어 60초 대기후 다시 확인합니다(최대60회).\n",
      "파일 TEOS_TO_SON_RL_RESULT_20191113_[1148].dat이 없어 60초 대기후 다시 확인합니다(최대60회).\n",
      "파일 TEOS_TO_SON_RL_RESULT_20191113_[1148].dat이 없어 60초 대기후 다시 확인합니다(최대60회).\n",
      "파일 TEOS_TO_SON_RL_RESULT_20191113_[1148].dat이 없어 60초 대기후 다시 확인합니다(최대60회).\n"
     ]
    },
    {
     "name": "stderr",
     "output_type": "stream",
     "text": [
      "/home/tangosvc/anaconda3/lib/python3.7/site-packages/pandas/core/reshape/merge.py:522: UserWarning: merging between different levels can give an unintended result (2 levels on the left, 1 on the right)\n",
      "  warnings.warn(msg, UserWarning)\n"
     ]
    },
    {
     "name": "stdout",
     "output_type": "stream",
     "text": [
      "| \u001b[0m 91      \u001b[0m | \u001b[0m 208.7   \u001b[0m | \u001b[0m 2.532   \u001b[0m | \u001b[0m 5.009   \u001b[0m | \u001b[0m 6.607   \u001b[0m | \u001b[0m 2.583   \u001b[0m | \u001b[0m 3.949   \u001b[0m | \u001b[0m 1.713   \u001b[0m | \u001b[0m 7.02    \u001b[0m | \u001b[0m 5.104   \u001b[0m | \u001b[0m 4.445   \u001b[0m | \u001b[0m 5.859   \u001b[0m | \u001b[0m 8.0     \u001b[0m | \u001b[0m 5.078   \u001b[0m | \u001b[0m 2.431   \u001b[0m | \u001b[0m 3.13    \u001b[0m | \u001b[0m 4.146   \u001b[0m | \u001b[0m 4.977   \u001b[0m |\n"
     ]
    },
    {
     "name": "stderr",
     "output_type": "stream",
     "text": [
      "/home/tangosvc/anaconda3/lib/python3.7/site-packages/ipykernel_launcher.py:226: SettingWithCopyWarning: \n",
      "A value is trying to be set on a copy of a slice from a DataFrame\n",
      "\n",
      "See the caveats in the documentation: http://pandas.pydata.org/pandas-docs/stable/indexing.html#indexing-view-versus-copy\n"
     ]
    },
    {
     "name": "stdout",
     "output_type": "stream",
     "text": [
      "Request 파일(/home/tangosvc/code/data/20191113/SON_TO_TEOS_RL_REQUEST_20191113_[1149].dat)을 생성합니다.\n",
      "\n",
      "TEOS_TO_SON_RL_RESULT_20191113_[1149].dat에 대한 get명령을 실행합니다.\n",
      "파일 TEOS_TO_SON_RL_RESULT_20191113_[1149].dat이 없어 60초 대기후 다시 확인합니다(최대60회).\n",
      "파일 TEOS_TO_SON_RL_RESULT_20191113_[1149].dat이 없어 60초 대기후 다시 확인합니다(최대60회).\n",
      "파일 TEOS_TO_SON_RL_RESULT_20191113_[1149].dat이 없어 60초 대기후 다시 확인합니다(최대60회).\n",
      "파일 TEOS_TO_SON_RL_RESULT_20191113_[1149].dat이 없어 60초 대기후 다시 확인합니다(최대60회).\n",
      "파일 TEOS_TO_SON_RL_RESULT_20191113_[1149].dat이 없어 60초 대기후 다시 확인합니다(최대60회).\n",
      "파일 TEOS_TO_SON_RL_RESULT_20191113_[1149].dat이 없어 60초 대기후 다시 확인합니다(최대60회).\n",
      "파일 TEOS_TO_SON_RL_RESULT_20191113_[1149].dat이 없어 60초 대기후 다시 확인합니다(최대60회).\n",
      "파일 TEOS_TO_SON_RL_RESULT_20191113_[1149].dat이 없어 60초 대기후 다시 확인합니다(최대60회).\n",
      "파일 TEOS_TO_SON_RL_RESULT_20191113_[1149].dat이 없어 60초 대기후 다시 확인합니다(최대60회).\n",
      "파일 TEOS_TO_SON_RL_RESULT_20191113_[1149].dat이 없어 60초 대기후 다시 확인합니다(최대60회).\n"
     ]
    },
    {
     "name": "stderr",
     "output_type": "stream",
     "text": [
      "/home/tangosvc/anaconda3/lib/python3.7/site-packages/pandas/core/reshape/merge.py:522: UserWarning: merging between different levels can give an unintended result (2 levels on the left, 1 on the right)\n",
      "  warnings.warn(msg, UserWarning)\n"
     ]
    },
    {
     "name": "stdout",
     "output_type": "stream",
     "text": [
      "| \u001b[0m 92      \u001b[0m | \u001b[0m 201.1   \u001b[0m | \u001b[0m 2.651   \u001b[0m | \u001b[0m 5.629   \u001b[0m | \u001b[0m 6.748   \u001b[0m | \u001b[0m 2.366   \u001b[0m | \u001b[0m 3.599   \u001b[0m | \u001b[0m 1.6     \u001b[0m | \u001b[0m 7.369   \u001b[0m | \u001b[0m 5.489   \u001b[0m | \u001b[0m 4.165   \u001b[0m | \u001b[0m 5.568   \u001b[0m | \u001b[0m 7.841   \u001b[0m | \u001b[0m 5.29    \u001b[0m | \u001b[0m 2.886   \u001b[0m | \u001b[0m 3.163   \u001b[0m | \u001b[0m 4.25    \u001b[0m | \u001b[0m 4.721   \u001b[0m |\n"
     ]
    },
    {
     "name": "stderr",
     "output_type": "stream",
     "text": [
      "/home/tangosvc/anaconda3/lib/python3.7/site-packages/ipykernel_launcher.py:226: SettingWithCopyWarning: \n",
      "A value is trying to be set on a copy of a slice from a DataFrame\n",
      "\n",
      "See the caveats in the documentation: http://pandas.pydata.org/pandas-docs/stable/indexing.html#indexing-view-versus-copy\n"
     ]
    },
    {
     "name": "stdout",
     "output_type": "stream",
     "text": [
      "Request 파일(/home/tangosvc/code/data/20191113/SON_TO_TEOS_RL_REQUEST_20191113_[1150].dat)을 생성합니다.\n",
      "\n",
      "TEOS_TO_SON_RL_RESULT_20191113_[1150].dat에 대한 get명령을 실행합니다.\n",
      "파일 TEOS_TO_SON_RL_RESULT_20191113_[1150].dat이 없어 60초 대기후 다시 확인합니다(최대60회).\n",
      "파일 TEOS_TO_SON_RL_RESULT_20191113_[1150].dat이 없어 60초 대기후 다시 확인합니다(최대60회).\n",
      "파일 TEOS_TO_SON_RL_RESULT_20191113_[1150].dat이 없어 60초 대기후 다시 확인합니다(최대60회).\n",
      "파일 TEOS_TO_SON_RL_RESULT_20191113_[1150].dat이 없어 60초 대기후 다시 확인합니다(최대60회).\n",
      "파일 TEOS_TO_SON_RL_RESULT_20191113_[1150].dat이 없어 60초 대기후 다시 확인합니다(최대60회).\n",
      "파일 TEOS_TO_SON_RL_RESULT_20191113_[1150].dat이 없어 60초 대기후 다시 확인합니다(최대60회).\n",
      "파일 TEOS_TO_SON_RL_RESULT_20191113_[1150].dat이 없어 60초 대기후 다시 확인합니다(최대60회).\n",
      "파일 TEOS_TO_SON_RL_RESULT_20191113_[1150].dat이 없어 60초 대기후 다시 확인합니다(최대60회).\n",
      "파일 TEOS_TO_SON_RL_RESULT_20191113_[1150].dat이 없어 60초 대기후 다시 확인합니다(최대60회).\n"
     ]
    },
    {
     "name": "stderr",
     "output_type": "stream",
     "text": [
      "/home/tangosvc/anaconda3/lib/python3.7/site-packages/pandas/core/reshape/merge.py:522: UserWarning: merging between different levels can give an unintended result (2 levels on the left, 1 on the right)\n",
      "  warnings.warn(msg, UserWarning)\n"
     ]
    },
    {
     "name": "stdout",
     "output_type": "stream",
     "text": [
      "| \u001b[0m 93      \u001b[0m | \u001b[0m 208.7   \u001b[0m | \u001b[0m 2.523   \u001b[0m | \u001b[0m 5.019   \u001b[0m | \u001b[0m 6.693   \u001b[0m | \u001b[0m 2.526   \u001b[0m | \u001b[0m 3.928   \u001b[0m | \u001b[0m 1.72    \u001b[0m | \u001b[0m 7.028   \u001b[0m | \u001b[0m 5.11    \u001b[0m | \u001b[0m 4.441   \u001b[0m | \u001b[0m 5.888   \u001b[0m | \u001b[0m 8.0     \u001b[0m | \u001b[0m 5.095   \u001b[0m | \u001b[0m 2.424   \u001b[0m | \u001b[0m 3.135   \u001b[0m | \u001b[0m 4.132   \u001b[0m | \u001b[0m 4.969   \u001b[0m |\n"
     ]
    },
    {
     "name": "stderr",
     "output_type": "stream",
     "text": [
      "/home/tangosvc/anaconda3/lib/python3.7/site-packages/ipykernel_launcher.py:226: SettingWithCopyWarning: \n",
      "A value is trying to be set on a copy of a slice from a DataFrame\n",
      "\n",
      "See the caveats in the documentation: http://pandas.pydata.org/pandas-docs/stable/indexing.html#indexing-view-versus-copy\n"
     ]
    },
    {
     "name": "stdout",
     "output_type": "stream",
     "text": [
      "Request 파일(/home/tangosvc/code/data/20191113/SON_TO_TEOS_RL_REQUEST_20191113_[1151].dat)을 생성합니다.\n",
      "\n",
      "TEOS_TO_SON_RL_RESULT_20191113_[1151].dat에 대한 get명령을 실행합니다.\n",
      "파일 TEOS_TO_SON_RL_RESULT_20191113_[1151].dat이 없어 60초 대기후 다시 확인합니다(최대60회).\n",
      "파일 TEOS_TO_SON_RL_RESULT_20191113_[1151].dat이 없어 60초 대기후 다시 확인합니다(최대60회).\n",
      "파일 TEOS_TO_SON_RL_RESULT_20191113_[1151].dat이 없어 60초 대기후 다시 확인합니다(최대60회).\n",
      "파일 TEOS_TO_SON_RL_RESULT_20191113_[1151].dat이 없어 60초 대기후 다시 확인합니다(최대60회).\n",
      "파일 TEOS_TO_SON_RL_RESULT_20191113_[1151].dat이 없어 60초 대기후 다시 확인합니다(최대60회).\n",
      "파일 TEOS_TO_SON_RL_RESULT_20191113_[1151].dat이 없어 60초 대기후 다시 확인합니다(최대60회).\n",
      "파일 TEOS_TO_SON_RL_RESULT_20191113_[1151].dat이 없어 60초 대기후 다시 확인합니다(최대60회).\n",
      "파일 TEOS_TO_SON_RL_RESULT_20191113_[1151].dat이 없어 60초 대기후 다시 확인합니다(최대60회).\n",
      "파일 TEOS_TO_SON_RL_RESULT_20191113_[1151].dat이 없어 60초 대기후 다시 확인합니다(최대60회).\n",
      "파일 TEOS_TO_SON_RL_RESULT_20191113_[1151].dat이 없어 60초 대기후 다시 확인합니다(최대60회).\n"
     ]
    },
    {
     "name": "stderr",
     "output_type": "stream",
     "text": [
      "/home/tangosvc/anaconda3/lib/python3.7/site-packages/pandas/core/reshape/merge.py:522: UserWarning: merging between different levels can give an unintended result (2 levels on the left, 1 on the right)\n",
      "  warnings.warn(msg, UserWarning)\n"
     ]
    },
    {
     "name": "stdout",
     "output_type": "stream",
     "text": [
      "| \u001b[0m 94      \u001b[0m | \u001b[0m 198.8   \u001b[0m | \u001b[0m 2.551   \u001b[0m | \u001b[0m 4.875   \u001b[0m | \u001b[0m 6.627   \u001b[0m | \u001b[0m 2.482   \u001b[0m | \u001b[0m 3.894   \u001b[0m | \u001b[0m 1.783   \u001b[0m | \u001b[0m 7.115   \u001b[0m | \u001b[0m 5.021   \u001b[0m | \u001b[0m 4.352   \u001b[0m | \u001b[0m 5.745   \u001b[0m | \u001b[0m 7.916   \u001b[0m | \u001b[0m 5.072   \u001b[0m | \u001b[0m 2.4     \u001b[0m | \u001b[0m 2.914   \u001b[0m | \u001b[0m 3.995   \u001b[0m | \u001b[0m 5.14    \u001b[0m |\n"
     ]
    },
    {
     "name": "stderr",
     "output_type": "stream",
     "text": [
      "/home/tangosvc/anaconda3/lib/python3.7/site-packages/ipykernel_launcher.py:226: SettingWithCopyWarning: \n",
      "A value is trying to be set on a copy of a slice from a DataFrame\n",
      "\n",
      "See the caveats in the documentation: http://pandas.pydata.org/pandas-docs/stable/indexing.html#indexing-view-versus-copy\n"
     ]
    },
    {
     "name": "stdout",
     "output_type": "stream",
     "text": [
      "Request 파일(/home/tangosvc/code/data/20191113/SON_TO_TEOS_RL_REQUEST_20191113_[1152].dat)을 생성합니다.\n",
      "\n",
      "TEOS_TO_SON_RL_RESULT_20191113_[1152].dat에 대한 get명령을 실행합니다.\n",
      "파일 TEOS_TO_SON_RL_RESULT_20191113_[1152].dat이 없어 60초 대기후 다시 확인합니다(최대60회).\n",
      "파일 TEOS_TO_SON_RL_RESULT_20191113_[1152].dat이 없어 60초 대기후 다시 확인합니다(최대60회).\n",
      "파일 TEOS_TO_SON_RL_RESULT_20191113_[1152].dat이 없어 60초 대기후 다시 확인합니다(최대60회).\n",
      "파일 TEOS_TO_SON_RL_RESULT_20191113_[1152].dat이 없어 60초 대기후 다시 확인합니다(최대60회).\n",
      "파일 TEOS_TO_SON_RL_RESULT_20191113_[1152].dat이 없어 60초 대기후 다시 확인합니다(최대60회).\n",
      "파일 TEOS_TO_SON_RL_RESULT_20191113_[1152].dat이 없어 60초 대기후 다시 확인합니다(최대60회).\n",
      "파일 TEOS_TO_SON_RL_RESULT_20191113_[1152].dat이 없어 60초 대기후 다시 확인합니다(최대60회).\n",
      "파일 TEOS_TO_SON_RL_RESULT_20191113_[1152].dat이 없어 60초 대기후 다시 확인합니다(최대60회).\n",
      "파일 TEOS_TO_SON_RL_RESULT_20191113_[1152].dat이 없어 60초 대기후 다시 확인합니다(최대60회).\n"
     ]
    },
    {
     "name": "stderr",
     "output_type": "stream",
     "text": [
      "/home/tangosvc/anaconda3/lib/python3.7/site-packages/pandas/core/reshape/merge.py:522: UserWarning: merging between different levels can give an unintended result (2 levels on the left, 1 on the right)\n",
      "  warnings.warn(msg, UserWarning)\n"
     ]
    },
    {
     "name": "stdout",
     "output_type": "stream",
     "text": [
      "| \u001b[0m 95      \u001b[0m | \u001b[0m 208.7   \u001b[0m | \u001b[0m 2.603   \u001b[0m | \u001b[0m 5.042   \u001b[0m | \u001b[0m 6.674   \u001b[0m | \u001b[0m 2.598   \u001b[0m | \u001b[0m 4.004   \u001b[0m | \u001b[0m 1.777   \u001b[0m | \u001b[0m 7.01    \u001b[0m | \u001b[0m 5.145   \u001b[0m | \u001b[0m 4.481   \u001b[0m | \u001b[0m 5.874   \u001b[0m | \u001b[0m 7.934   \u001b[0m | \u001b[0m 5.094   \u001b[0m | \u001b[0m 2.439   \u001b[0m | \u001b[0m 3.147   \u001b[0m | \u001b[0m 4.095   \u001b[0m | \u001b[0m 5.049   \u001b[0m |\n"
     ]
    },
    {
     "name": "stderr",
     "output_type": "stream",
     "text": [
      "/home/tangosvc/anaconda3/lib/python3.7/site-packages/ipykernel_launcher.py:226: SettingWithCopyWarning: \n",
      "A value is trying to be set on a copy of a slice from a DataFrame\n",
      "\n",
      "See the caveats in the documentation: http://pandas.pydata.org/pandas-docs/stable/indexing.html#indexing-view-versus-copy\n"
     ]
    },
    {
     "name": "stdout",
     "output_type": "stream",
     "text": [
      "Request 파일(/home/tangosvc/code/data/20191113/SON_TO_TEOS_RL_REQUEST_20191113_[1153].dat)을 생성합니다.\n",
      "\n",
      "TEOS_TO_SON_RL_RESULT_20191113_[1153].dat에 대한 get명령을 실행합니다.\n",
      "파일 TEOS_TO_SON_RL_RESULT_20191113_[1153].dat이 없어 60초 대기후 다시 확인합니다(최대60회).\n",
      "파일 TEOS_TO_SON_RL_RESULT_20191113_[1153].dat이 없어 60초 대기후 다시 확인합니다(최대60회).\n",
      "파일 TEOS_TO_SON_RL_RESULT_20191113_[1153].dat이 없어 60초 대기후 다시 확인합니다(최대60회).\n",
      "파일 TEOS_TO_SON_RL_RESULT_20191113_[1153].dat이 없어 60초 대기후 다시 확인합니다(최대60회).\n",
      "파일 TEOS_TO_SON_RL_RESULT_20191113_[1153].dat이 없어 60초 대기후 다시 확인합니다(최대60회).\n",
      "파일 TEOS_TO_SON_RL_RESULT_20191113_[1153].dat이 없어 60초 대기후 다시 확인합니다(최대60회).\n",
      "파일 TEOS_TO_SON_RL_RESULT_20191113_[1153].dat이 없어 60초 대기후 다시 확인합니다(최대60회).\n",
      "파일 TEOS_TO_SON_RL_RESULT_20191113_[1153].dat이 없어 60초 대기후 다시 확인합니다(최대60회).\n",
      "파일 TEOS_TO_SON_RL_RESULT_20191113_[1153].dat이 없어 60초 대기후 다시 확인합니다(최대60회).\n"
     ]
    }
   ],
   "source": [
    "# ============================================================================================\n",
    "# BO 실행\n",
    "# Bayesian Optimization 수행\n",
    "if __name__==\"__main__\":\n",
    "    print(Colours.yellow(\"---Parameter Exploration Range(min, max) ---\"))\n",
    "# 탐색범위 설정(pbounds)\n",
    "    pbounds=get_pbounds()\n",
    "    print(pbounds)\n",
    "    print(Colours.yellow(\"---Optimizing TEOS by BO ---\"))\n",
    "    optimizer=BayesianOptimization(\n",
    "        # 목적함수(Surrogate Function) 설정\n",
    "        f=black_box_function,\n",
    "        # 탐색영역 설정\n",
    "        pbounds=pbounds,\n",
    "        # 재현성을 위한 Random Seed 설정\n",
    "        random_state=1234,\n",
    "        verbose=2 #옵션0 : 미출력, 1 : 일부출력, 2 : 전체이력 출력\n",
    "    )\n",
    "    \n",
    "# 초기 탐색Iteration과 Iteration반복회수 설정\n",
    "# 반복옵션이 반영됨\n",
    "    optimizer.maximize(init_points=15, n_iter=200)\n",
    "    op_result=optimizer.max\n",
    "\n",
    "#Iteration 종료시 후처리\n",
    "    print(\"Final result : \", op_result)\n",
    "# BO결과값 처리    \n",
    "    a2=op_result['params']\n",
    "    a3=pd.DataFrame([a2['c'+str(i+1)] for i in range(para_no)], \\\n",
    "                index=['c'+str(i+1) for i in range(para_no)])\n",
    "    a3=round(a3)\n",
    "    print(a3)"
   ]
  },
  {
   "cell_type": "code",
   "execution_count": null,
   "metadata": {},
   "outputs": [],
   "source": []
  },
  {
   "cell_type": "code",
   "execution_count": null,
   "metadata": {},
   "outputs": [],
   "source": []
  },
  {
   "cell_type": "code",
   "execution_count": null,
   "metadata": {},
   "outputs": [],
   "source": []
  },
  {
   "cell_type": "code",
   "execution_count": null,
   "metadata": {},
   "outputs": [],
   "source": []
  },
  {
   "cell_type": "code",
   "execution_count": null,
   "metadata": {},
   "outputs": [],
   "source": []
  },
  {
   "cell_type": "code",
   "execution_count": null,
   "metadata": {},
   "outputs": [],
   "source": []
  },
  {
   "cell_type": "code",
   "execution_count": null,
   "metadata": {},
   "outputs": [],
   "source": []
  },
  {
   "cell_type": "code",
   "execution_count": null,
   "metadata": {},
   "outputs": [],
   "source": []
  },
  {
   "cell_type": "code",
   "execution_count": null,
   "metadata": {},
   "outputs": [],
   "source": []
  },
  {
   "cell_type": "code",
   "execution_count": null,
   "metadata": {},
   "outputs": [],
   "source": []
  },
  {
   "cell_type": "code",
   "execution_count": null,
   "metadata": {},
   "outputs": [],
   "source": []
  },
  {
   "cell_type": "code",
   "execution_count": null,
   "metadata": {},
   "outputs": [],
   "source": []
  },
  {
   "cell_type": "code",
   "execution_count": 827,
   "metadata": {
    "scrolled": false
   },
   "outputs": [
    {
     "ename": "SyntaxError",
     "evalue": "invalid syntax (<ipython-input-827-55759943ab46>, line 86)",
     "output_type": "error",
     "traceback": [
      "\u001b[0;36m  File \u001b[0;32m\"<ipython-input-827-55759943ab46>\"\u001b[0;36m, line \u001b[0;32m86\u001b[0m\n\u001b[0;31m    a.outputDatFile(,action = decAct)\u001b[0m\n\u001b[0m                    ^\u001b[0m\n\u001b[0;31mSyntaxError\u001b[0m\u001b[0;31m:\u001b[0m invalid syntax\n"
     ]
    }
   ],
   "source": [
    "# ============================================================================================\n",
    "# RL실행\n",
    "if __name__ == \"__main__\":    \n",
    "    Cellcode=['2019Y9667','2019Z2137','2019Z3737', '20193BHZH', \\\n",
    "             '20193BHTY', '20193AMR7', '2019Y9678', '2019Z3222', \\\n",
    "             '20193BIEF', '20193BI6Z', '2019Z2954', '2019Z2586', \\\n",
    "             '2019Z0388', '2019Z2764', '2019Z2779', '2019Y9862',] \n",
    "    \n",
    "    # 분석시마다 사용자가 입력해줘야 하는 값 ---------------------\n",
    "    # 시작 SEQ & 시간정보\n",
    "    seq=47\n",
    "    # 시뮬레이션 시작용 Request, Result 파일\n",
    "    pre_reqfilenm='/home/tangosvc/code/data/20191031/SON_TO_TEOS_RL_REQUEST_20191031_[%s].dat' %str(seq)\n",
    "    pre_resultfilenm='/home/tangosvc/code/data/20191031/TEOS_TO_SON_RL_RESULT_20191031_[%s].dat' %str(seq)\n",
    "    # ------------------------------------------------------------    \n",
    "\n",
    "    \n",
    "    \n",
    "    \n",
    "    \n",
    "    #값 초기화---------------------------------\n",
    "    # request, result file 관리 폴더(ML서버, TEOS서버)\n",
    "    ML_dirnm='/home/tangosvc/code/data'    \n",
    "    \n",
    "    # simulation 실행일(파일생성일)\n",
    "    filetime=datetime.now().strftime('%Y%m%d') \n",
    "    #----------------------------------------------  \n",
    "\n",
    "    # Request_filecreate 클래스를 생성함\n",
    "    a=Request_filecreate(ML_dirnm, filetime, seq)\n",
    "    a.pre_reqfilenm=pre_reqfilenm\n",
    "    a.pre_resultfilenm=pre_resultfilenm\n",
    "    # simulation 1회 iteration별로 수행 agent개수(동시적용 request file 개수))\n",
    "    iteration_no=1\n",
    "    # 초기 Request File에 대한 시뮬레이션은 Result 파일없이 진행함\n",
    "    # 초기 Request File 시뮬레이션이 아닌 경우에는 firstrequest값을 1이 아닌값으로 설정함\n",
    "    firstrequest=1\n",
    "    \n",
    "    while int(a.seq) < seq+iteration_no :\n",
    "#         print(a.seq, seq+iteration_no)\n",
    "        if not firstrequest==1:\n",
    "            if not(os.path.exists(a.pre_reqfilenm)):\n",
    "                print('%s파일이 존재하지 않아 실행을 중단합니다.' %a.pre_reqfilenm)\n",
    "                break\n",
    "\n",
    "            if not(os.path.exists(a.pre_resultfilenm)):\n",
    "                print('%s파일이 존재하지 않아 실행을 중단합니다.' %a.pre_resultfilenm)\n",
    "                break\n",
    "\n",
    "\n",
    "            # 시점 t : state(SRC tilt, NBR tilt, SINR, RSRP) 계산 ------------------------------\n",
    "            # state(tilt1, tilt2) 정보 - Request File에서 수집\n",
    "            rq = a.getState()\n",
    "            # state(tilt1의 SINR, RSRP)정보 - ResultFile에서 수집(SISUL_CD기준으로 계산)\n",
    "            rs, gsq_avg,_ = a.getStateQuality(wa = 0.5, wb = 0.5) \n",
    "            # rs : ['SISUL_CD  SINR1_Mean  SINR1_Q5  RSRP1_Mean sq  nbrSq   gsq]\n",
    "            \n",
    "            # rs, sq로 데이터 정리하여 SISUL_CD, SIN1_STATE, RSRP1_STATE\n",
    "            # input1 : REQUEST_DATE', 'SCENARIO_SEQ', 'REQUEST_SEQ', 'SISUL_CD, STC_STATE, NBR_STATE\n",
    "            # SRC & NBR Cell tilt값에 대해 7단계로 구분하여 설정값 결정\n",
    "            input1 = rq[['REQUEST_DATE', 'SCENARIO_SEQ', 'REQUEST_SEQ', 'SISUL_CD', 'SRC_STATE', 'NBR_STATE']]\n",
    "            # input2 : 'SISUL_CD', 'SINR1_STATE', 'RSRP1_STATE\n",
    "            # SRC Cell에 대한 N/W품질로 SINR, RSRP값을 7단계로 구분하여 설정값 결정\n",
    "            input2 = a.cutStateQuality(rs)\n",
    "            input = pd.merge(input1, input2, how = 'left', left_on = 'SISUL_CD', right_on= 'SISUL_CD')\n",
    "            # ------------------------------------------------------------------------------\n",
    "\n",
    "            steering_cell=pd.DataFrame([Cellcode], columns=['Cellcode'])\n",
    "            gsq_avg=pd.merge(steering_cell, rs, how='left', left_on='Cellcode', right_on='SISUL_CD')['gsq'].mean()\n",
    "            \n",
    "            \n",
    "            \n",
    "            \n",
    "\n",
    "            # 시점 t : action(tilt1 change val) 계산 ------------------------------------------------\n",
    "            # 19개 셀에 대해서 Control Change값을 계산함\n",
    "            # BO에서는 19개 셀의 Spec만을 계산하고\n",
    "            # Request에서는 전체 셀의 Spec을 계산함\n",
    "            # Action 반영 (임시) --> Target Cell(19개)의 Action 만 update함 \n",
    "\n",
    "            # 수정필요함 : 현재는 68 cell에 대해 random값으로 설정함\n",
    "            decAct = np.random.randint(-2, 2, rq.shape[0])        \n",
    "\n",
    "            \n",
    "            \n",
    "            \n",
    "            # 시점 t+1 : simulation실행하여 result파일생성후 -> 다음 iteration에서 reward와 state계산\n",
    "            # SEQ+1차수의 Simulation실행을 위한 Request File 생성\n",
    "            # SEQ차수의 Request File을 템플릿으로 사용함\n",
    "            a.outputDatFile(action = decAct)  \n",
    "            # -------------------------------------------------------------------------------\n",
    "    \n",
    "        # Request File이 생성되면 TEOS Simulation 실행 -> Result File이 나올때까지 실행, 오류발생하면 전체 실행 중단\n",
    "        if Do_simul_NEXT(filetime, a)==1:\n",
    "            a.seq=int(a.seq)+1\n",
    "            print('File put과 get 명령이 완료되었습니다.')\n",
    "        else:\n",
    "            print('File put과 get에서 오류가 발생하여 중단합니다.')\n",
    "            break\n",
    "    # 객체 제거    \n",
    "    del a"
   ]
  },
  {
   "cell_type": "code",
   "execution_count": 21,
   "metadata": {
    "scrolled": false
   },
   "outputs": [
    {
     "name": "stdout",
     "output_type": "stream",
     "text": [
      "2.0879987760242886\n",
      "         gsq\n",
      "0   1.949101\n",
      "1   2.827223\n",
      "2   2.878098\n",
      "3   2.136684\n",
      "4   2.128772\n",
      "5   1.616280\n",
      "6   2.378363\n",
      "7   2.236299\n",
      "8   1.375752\n",
      "9   2.063872\n",
      "10  2.236299\n",
      "11  0.616817\n",
      "12  2.136684\n",
      "13  1.846123\n",
      "14  4.364633\n",
      "15  0.616980             0\n",
      "0   2019Y9667\n",
      "1   2019Z2137\n",
      "2   2019Z3737\n",
      "3   20193BHZH\n",
      "4   20193BHTY\n",
      "5   20193AMR7\n",
      "6   2019Y9678\n",
      "7   2019Z3222\n",
      "8   20193BIEF\n",
      "9   20193BI6Z\n",
      "10  2019Z2954\n",
      "11  2019Z2586\n",
      "12  2019Z0388\n",
      "13  2019Z2764\n",
      "14  2019Z2779\n",
      "15  2019Y9862\n"
     ]
    },
    {
     "name": "stderr",
     "output_type": "stream",
     "text": [
      "/home/tangosvc/anaconda3/lib/python3.7/site-packages/pandas/core/reshape/merge.py:522: UserWarning: merging between different levels can give an unintended result (2 levels on the left, 1 on the right)\n",
      "  warnings.warn(msg, UserWarning)\n"
     ]
    }
   ],
   "source": [
    "# def get_gsq_avg(filenm):\n",
    "# 분석시마다 사용자가 입력해줘야 하는 값 ---------------------\n",
    "# 시작 SEQ & 시간정보\n",
    "# seq=44\n",
    "# # 시뮬레이션 시작용 Request, Result 파일\n",
    "# pre_reqfilenm='/home/tangosvc/code/data/20191030/SON_TO_TEOS_RL_REQUEST_20191030_[%s].dat' %str(seq)\n",
    "# pre_resultfilenm='/home/tangosvc/code/data/20191030/TEOS_TO_SON_RL_RESULT_20191030_[%s].dat' %str(seq)\n",
    "# # ------------------------------------------------------------    \n",
    "\n",
    "seq=1030\n",
    "timedata='20191112'\n",
    "# 시뮬레이션 시작용 Request, Result 파일\n",
    "pre_reqfilenm='/home/tangosvc/code/data/{}/SON_TO_TEOS_RL_REQUEST_{}_[{}].dat'.format(timedata, timedata, str(seq))\n",
    "pre_resultfilenm='/home/tangosvc/code/data/{}/TEOS_TO_SON_RL_RESULT_{}_[{}].dat'.format(timedata, timedata, str(seq))\n",
    "\n",
    "#값 초기화---------------------------------\n",
    "# request, result file 관리 폴더(ML서버, TEOS서버)\n",
    "ML_dirnm='/home/tangosvc/code/data'    \n",
    "\n",
    "# simulation 실행일(파일생성일)\n",
    "filetime=datetime.now().strftime('%Y%m%d') \n",
    "#----------------------------------------------  \n",
    "\n",
    "# Request_filecreate 클래스를 생성함\n",
    "a=Request_filecreate(ML_dirnm, filetime, seq)\n",
    "a.pre_reqfilenm=pre_reqfilenm\n",
    "a.pre_resultfilenm=pre_resultfilenm\n",
    "\n",
    "rs, gsq_avg, gsq_each = a.getStateQuality(wa = 0.5, wb = 0.5)   \n",
    "\n",
    "print(gsq_avg)\n",
    "col1=pd.DataFrame(gsq_each)\n",
    "col2=pd.DataFrame(cellcode)\n",
    "print(col1, col2)"
   ]
  },
  {
   "cell_type": "code",
   "execution_count": null,
   "metadata": {},
   "outputs": [],
   "source": []
  }
 ],
 "metadata": {
  "kernelspec": {
   "display_name": "Python 3",
   "language": "python",
   "name": "python3"
  },
  "language_info": {
   "codemirror_mode": {
    "name": "ipython",
    "version": 3
   },
   "file_extension": ".py",
   "mimetype": "text/x-python",
   "name": "python",
   "nbconvert_exporter": "python",
   "pygments_lexer": "ipython3",
   "version": "3.7.3"
  }
 },
 "nbformat": 4,
 "nbformat_minor": 2
}
