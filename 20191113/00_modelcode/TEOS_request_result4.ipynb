{
 "cells": [
  {
   "cell_type": "code",
   "execution_count": 1109,
   "metadata": {},
   "outputs": [],
   "source": [
    "import sys\n",
    "import pandas as pd\n",
    "import os\n",
    "from datetime import datetime\n",
    "import numpy as np\n",
    "import json\n",
    "\n",
    "# 파일전송용 Library -----------\n",
    "import time       #시간지연 library사용\n",
    "import paramiko   #sftp파일전송 library사용\n",
    "# ------------------------------\n",
    "\n",
    "# Bayesian Optimization --------\n",
    "from bayes_opt import BayesianOptimization\n",
    "from bayes_opt.util import Colours\n",
    "\n",
    "BO_RangeFile='/home/tangosvc/code/data/BO_Range4.csv'\n",
    "Opt_statusFile='opt_status4.json'\n",
    "\n",
    "requestPrefix = \"SON_TO_TEOS_RL_REQUEST_\"\n",
    "resultPrefix = \"TEOS_TO_SON_RL_RESULT_\" \n",
    "\n",
    "cellcode=['2019Y9667','2019Z2137','2019Z3737', '20193BHZH', \\\n",
    "         '20193BHTY', '20193AMR7', '2019Y9678', '2019Z3222', \\\n",
    "         '20193BIEF', '20193BI6Z', '2019Z2954', '2019Z2586', \\\n",
    "         '2019Z0388', '2019Z2764', '2019Z2779', '2019Y9862',]\n",
    "# ------------------------------"
   ]
  },
  {
   "cell_type": "code",
   "execution_count": 1110,
   "metadata": {},
   "outputs": [],
   "source": [
    "class TEOS_filegetput:\n",
    "        def __init__(self, ML_dirnm, TEOS_indirnm, TEOS_outdirnm, filetime):\n",
    "            # ML서버내 파일관리폴더(Request, Result모두 동일폴더에서 관리함)\n",
    "            self.ML_dirnm=ML_dirnm\n",
    "            # TEOS관리폴더(Request, Result 별도로 관리함)\n",
    "            self.TEOS_indirnm=TEOS_indirnm\n",
    "            self.TEOS_outdirnm=TEOS_outdirnm\n",
    "            # 시간기준으로 폴더생성/파일관리\n",
    "            self.time=filetime        \n",
    "            \n",
    "        # dirnm에 있는 filenm으로 시작하는 모든 파일목록 생성\n",
    "        def get_filelist(self, dirnm, filenm):\n",
    "            file_list=[f for f in os.listdir(dirnm) if f.startswith(filenm)]\n",
    "            return(file_list)\n",
    "        \n",
    "        # 파일존재시 파일명리턴 부재시 공백리턴\n",
    "        def get_fileexist(self, dirnm, filenm):\n",
    "            if os.path.exists(dirnm+'/'+filenm):\n",
    "                return(filenm)\n",
    "            else:\n",
    "                return('')    \n",
    "        \n",
    "        # TEOS서버접속\n",
    "        def conn_TEOS_svr(self):\n",
    "            host='90.90.220.8'\n",
    "            port=10003\n",
    "            transport=paramiko.Transport((host,port))\n",
    "            password='@Son1234!1'\n",
    "            username='son'\n",
    "            transport.connect(username=username, password=password)\n",
    "            sftp=paramiko.SFTPClient.from_transport(transport)\n",
    "            return(sftp, transport)\n",
    "\n",
    "        # put명령실행            \n",
    "        def do_requestfile_put(self, sftp, transport, putfilenm):\n",
    "            fromfile=self.ML_dirnm+'/'+self.time+'/'+putfilenm\n",
    "            tofile=self.TEOS_indirnm+'/'+self.time+'/'+putfilenm\n",
    "            \n",
    "            # TEOS서버에 복사할 폴더가 존재하지 않으면 생성함\n",
    "            dirlist=sftp.listdir(self.TEOS_indirnm)             \n",
    "            if not self.time in dirlist:\n",
    "                sftp.mkdir(self.TEOS_indirnm+'/'+self.time)\n",
    "\n",
    "            # ML서버에 복사할 파일이 존재하지 않으면 실행종료\n",
    "            temp=os.path.split(fromfile)\n",
    "            if self.get_fileexist(temp[0], temp[1])!='':\n",
    "                sftp.put(fromfile, tofile)\n",
    "                return(1)\n",
    "            else:\n",
    "                print('ML서버에 Put대상 파일(%s)이 없어 TEOS서버에 Put명령을 하지 못했습니다.\\n' %fromfile)                \n",
    "                return(0)\n",
    "\n",
    "        # get명령실행    \n",
    "        def do_resultfile_get(self, sftp, transport, getfilenm):         \n",
    "            fromfile=self.TEOS_outdirnm+'/'+self.time+'/'+getfilenm\n",
    "            tofile=self.ML_dirnm+'/'+self.time+'/'+getfilenm            \n",
    "            done_normal=0\n",
    "            \n",
    "            # ML서버에 복사해올 폴더가 존재하지 않으면 생성함\n",
    "            if not os.path.exists(self.ML_dirnm+'/'+self.time):\n",
    "                os.mkdir(self.ML_dirnm+'/'+self.time)\n",
    "            \n",
    "            # TEOS내에 출력파일 저장폴더 미생성시 60초간격으로 20번 확인\n",
    "            for i in range(30):\n",
    "                if self.time in sftp.listdir(self.TEOS_outdirnm):\n",
    "                    for j in range(30):\n",
    "                        # TEOS내에 출력파일 존재하지 않으면 60초간격으로 20번 확인\n",
    "                        dirlist=sftp.listdir(self.TEOS_outdirnm+'/'+self.time)                        \n",
    "                        if getfilenm in dirlist:      \n",
    "                            sftp.get(fromfile, tofile)\n",
    "                            done_normal=1\n",
    "                            break\n",
    "                        else:\n",
    "                            print('파일 %s이 없어 60초 대기후 다시 확인합니다(최대30회).' %getfilenm)\n",
    "                            time.sleep(60)\n",
    "                    break\n",
    "                else:\n",
    "                    print('폴더 %s이 없어 60초 대기후 다시 확인합니다(최대30회).' %self.time)\n",
    "                    time.sleep(60)\n",
    "            return(done_normal)\n",
    "\n",
    "        # sftp접속해제\n",
    "        def close_TEOS_svr(self, sftp, transport):\n",
    "            sftp.close()\n",
    "            transport.close()\n",
    "            \n",
    "        def RequestFile_Put(self, filenm):\n",
    "            try:\n",
    "                sftp, transport=self.conn_TEOS_svr()      \n",
    "                done_normal=self.do_requestfile_put(sftp, transport, filenm)\n",
    "                self.close_TEOS_svr(sftp, transport)\n",
    "                return(done_normal)\n",
    "\n",
    "            except:\n",
    "                print('Error : TEOS server connection')\n",
    "                self.close_TEOS_svr(sftp, transport)  \n",
    "                return(0)\n",
    "\n",
    "        def ResultFile_Get(self, filenm): \n",
    "            try:\n",
    "                sftp, transport=self.conn_TEOS_svr()\n",
    "                done_normal=self.do_resultfile_get(sftp, transport, filenm)\n",
    "                self.close_TEOS_svr(sftp, transport)\n",
    "                return(done_normal)\n",
    "\n",
    "            except:\n",
    "                print('Error : TEOS server connection')\n",
    "                self.close_TEOS_svr(sftp, transport)\n",
    "                return(0)"
   ]
  },
  {
   "cell_type": "code",
   "execution_count": 1111,
   "metadata": {},
   "outputs": [],
   "source": [
    "# TEOS 연동모듈(Request File + Result File 주고받기))\n",
    "def Do_simul_NEXT(filetime, a): \n",
    "    # 파일저장위치(ML서버 : request/result파일 한개 폴더에서 관리, TEOS서버 : request/result파일 별도 폴더에서 관리)\n",
    "    ML_dirnm='/home/tangosvc/code/data'\n",
    "    TEOS_indirnm='/disk2/interworking_data/SON/EngAnalysis/request'        \n",
    "    TEOS_outdirnm='/disk2/interworking_data/SON/EngAnalysis/result'       \n",
    "\n",
    "    #sftp라이브러리 paramiko의 실행 log저장/관리\n",
    "    paramiko.util.log_to_file('/home/tangosvc/code/data/paramiko.log')\n",
    "    \n",
    "    try:    \n",
    "        # SEQ+1차수의 시뮬레이션 실행(실행가능 시간인지 확인후 실행함)\n",
    "        b=TEOS_filegetput(ML_dirnm, TEOS_indirnm, TEOS_outdirnm, filetime)        \n",
    "        \n",
    "        # request file에 대한 put명령 실행\n",
    "        filenm = requestPrefix + filetime + \"_[\" + a.seq + \"].dat\"     \n",
    "        Putresult=b.RequestFile_Put(filenm)\n",
    "\n",
    "         # Request Get\n",
    "         # Put명령이 성공했을 경우 -> result file에 대한 get명령 실행\n",
    "        if Putresult==1:            \n",
    "            filenm = resultPrefix + filetime + \"_[\" + a.seq + \"].dat\"\n",
    "            print('%s에 대한 get명령을 실행합니다.' %filenm)  \n",
    "            b.ResultFile_Get(filenm)\n",
    "\n",
    "            a.pre_reqfilenm=ML_dirnm+'/'+filetime+'/'+filenm              \n",
    "            a.pre_resultfilenm=ML_dirnm+'/'+filetime+'/'+filenm  \n",
    "            del b  \n",
    "            return(1)\n",
    "        else:\n",
    "            del b  \n",
    "            return(0)      \n",
    "    except:\n",
    "        return(0)"
   ]
  },
  {
   "cell_type": "code",
   "execution_count": 1112,
   "metadata": {},
   "outputs": [],
   "source": [
    "# ML_dirnm='/home/tangosvc/code/data'\n",
    "class Request_filecreate:\n",
    "    def __init__(self, ML_dirnm, time, seq):\n",
    "        # ML서버내 파일관리폴더(Request, Result모두 동일폴더에서 관리함)\n",
    "        self.ML_dirnm=ML_dirnm\n",
    "        # 시간기준으로 폴더생성/파일관리\n",
    "        self.time=time\n",
    "        self.seq=str(seq)\n",
    "        \n",
    "        self.pre_reqfilenm=''\n",
    "        self.pre_resultfilenm=''         \n",
    "            \n",
    "    # Site정보 불러오기(site_info.csv파일내용 변경으로 수정함 -19/10/31)\n",
    "    def getSiteInfo(dofilter=0) :\n",
    "        filenm =ML_dirnm+'/'+'site_info.csv'\n",
    "        try:\n",
    "            df = pd.read_csv(filenm, encoding = 'utf-8', header = 1) \n",
    "            df = df[['Sisul code', 'target']]\n",
    "\n",
    "            if dofilter==1:\n",
    "                crit=(df['target']=='Y')\n",
    "                df = df[crit]\n",
    "\n",
    "            df.columns = ['SISUL_CD1', 'target']\n",
    "            df = df.dropna(how ='all')\n",
    "        except FileNotFoundError:\n",
    "            pass\n",
    "        return(df)\n",
    "\n",
    "    # 결과파일 불러온 후  근접셀 찾아 리턴하기(NBR Site계산로직변경으로 신규추가함 - 19/10/31)\n",
    "    def getNBRSiteInfo():\n",
    "        filenm = self.pre_resultfilenm\n",
    "        try:\n",
    "            df = pd.read_csv(filenm, encoding = 'utf-8', sep='|', header=None) \n",
    "            df.columns = ['REQUEST_DATE','SCENARIO_SEQ','REQUEST_SEQ','XPOS','YPOS',\n",
    "                                      'SISUL_CD1','RSRP1','SINR1',\n",
    "                                      'SISUL_CD2','RSRP2','SINR2',\n",
    "                                      'SISUL_CD3','RSRP3','SINR3']\n",
    "\n",
    "            input1=self.getSiteInfo()\n",
    "            f={lambda x: pd.Series.mode(x)[0]}\n",
    "            input2=df.groupby(['SISUL_CD1'])['SISUL_CD2'].agg(f)\n",
    "            input2.columns=['NBR_SISUL_CD']\n",
    "            df = pd.merge(input1, input2, how = 'left', left_on = 'SISUL_CD1', right_on= 'SISUL_CD1')\n",
    "\n",
    "        except FileNotFoundError:\n",
    "            pass\n",
    "        return(df)    \n",
    "\n",
    "\n",
    "    # Read Result File \n",
    "    def getResult(self) :\n",
    "        resultFile=''\n",
    "        resultPrefix = \"TEOS_TO_SON_RL_RESULT_\"\n",
    "        filenm=self.pre_resultfilenm\n",
    "\n",
    "        try:\n",
    "            resultFile=pd.read_csv(filenm, sep='|', encoding = 'utf-8', header=None)\n",
    "            resultFile.columns = ['REQUEST_DATE','SCENARIO_SEQ','REQUEST_SEQ','XPOS','YPOS',\n",
    "                          'SISUL_CD1','RSRP1','SINR1',\n",
    "                          'SISUL_CD2','RSRP2','SINR2',\n",
    "                          'SISUL_CD3','RSRP3','SINR3']\n",
    "        except FileNotFoundError:\n",
    "            print(\"Request파일(%s)이 존재하지 않아 실행을 중단합니다.\\n\" %filenm)\n",
    "            pass\n",
    "        return(resultFile)\n",
    "    \n",
    "    \n",
    "# State Quality 계산(동적근접셀 선정기능 포함, 근접셀 정보를 Result파일에서 Dynamic하게 추출함)-----------------------------------------------------\n",
    "    def getStateQuality(self, wa = 0.5, wb = 0.5) :\n",
    "        sqResult=''\n",
    "        result = self.getResult()\n",
    "\n",
    "        # Cell SINR avg , 5%\n",
    "        def q5(x):\n",
    "            return x.quantile(0.05)\n",
    "\n",
    "        # 대상셀에 대한 SQ를 계산하여 SISUL_CD1을 ID로 하는 sqResult DF에 저장하기\n",
    "        f = {'SINR1': ['mean', q5], 'RSRP1': ['mean']}\n",
    "        sqResult = result.groupby('SISUL_CD1').agg(f)\n",
    "        sqResult['sq'] = sqResult[('SINR1', 'mean')] * wa + (1-wa) * sqResult[('SINR1', 'q5')]\n",
    "        sqResult=sqResult.reset_index()\n",
    "    \n",
    "# rs : ['SINR1_Mean', 'SINR1_Q5', 'RSRP1_Mean', 'sq', 'nbrSq', 'gsq']\n",
    "\n",
    "        # 결과파일에 근거하여 근접셀 계산후 GSQ계산\n",
    "        # 결과파일에서 SISUL_CD1, sq 추출\n",
    "        input1=sqResult[['SISUL_CD1','sq']]\n",
    "        \n",
    "        # SISUL_CD1별 근접셀 계산\n",
    "        f={lambda x: pd.Series.mode(x)[0]}\n",
    "        input2=result.groupby(['SISUL_CD1'])['SISUL_CD2'].agg(f)\n",
    "        input2.columns=['NBR_SISUL_CD']\n",
    "        input2=input2.reset_index()\n",
    "        df = pd.merge(input1, input2, how = 'left', left_on = 'SISUL_CD1', right_on= 'SISUL_CD1')\n",
    "\n",
    "        # input1의 열명변경 : sq --> nbrSQ\n",
    "        # df열구성 : SISUL_CD1, sq, NBR_SISUL_CD\n",
    "        input1.columns=['SISUL_CD1', 'nbrSq']\n",
    "        df = pd.merge(df, input1, how='left', left_on='NBR_SISUL_CD', right_on='SISUL_CD1')\n",
    "        # df열구성 : SISUL_CD1, sq, NBR_SISUL_CD, nbrSq\n",
    "        sqResult['nbrSq']=df['nbrSq']\n",
    "\n",
    "        # Global SQ\n",
    "        # sqResult['gsq'] = sqResult['sq'] * wb + (1 - wb) * sqResult[('nbrSq')]\n",
    "        # 근접셀이 없는 경우 대상셀의 GSQ수식을 적용하지 않고 sq값을 리턴함\n",
    "        # 근접셀이 있는 경우 GSQ수식을 적용한 결과값을 리턴함\n",
    "        sqResult['gsq'] = np.where(sqResult['nbrSq'] == 99999, sqResult['sq'] , sqResult['sq'] * wb + (1 - wb) * sqResult[('nbrSq')])\n",
    "        sqResult.columns =  ['SISUL_CD', 'SINR1_Mean', 'SINR1_Q5', 'RSRP1_Mean', 'sq', 'nbrSq', 'gsq'] \n",
    "        \n",
    "        # rs : ['SISUL_CD  SINR1_Mean  SINR1_Q5  RSRP1_Mean sq  nbrSq   gsq]\n",
    "        SRC_cell=pd.DataFrame(cellcode, columns=['cellcode']) \n",
    "#         print(sqResult, SRC_cell)        \n",
    "        \n",
    "        gsq_each=pd.merge(SRC_cell, sqResult, how='left', left_on='cellcode', right_on='SISUL_CD')['gsq']\n",
    "        gsq_avg=gsq_each.mean()\n",
    "        return(sqResult, gsq_avg, gsq_each)\n",
    "    # rs : ['SISUL_CD  SINR1_Mean  SINR1_Q5  RSRP1_Mean sq  nbrSq   gsq]\n",
    "    # --------------------------------------------------------------------------------------------------------\n",
    "\n",
    "    # Read Request File\n",
    "    def getRequest(self) :\n",
    "        rq=''\n",
    "        requestPrefix = \"SON_TO_TEOS_RL_REQUEST_\"\n",
    "        filenm=self.pre_reqfilenm\n",
    "        try:\n",
    "            rq = pd.read_csv(filenm, sep = '|', encoding = 'utf-8', header = None)            \n",
    "            rq.columns = ['REQUEST_DATE', 'SCENARIO_SEQ', 'REQUEST_SEQ', \n",
    "                          'START_XPOS', 'END_XPOS', 'START_YPOS', 'END_YPOS', 'SITE_NAME', 'FA_SEQ', \n",
    "                          'SISUL_CD', 'DUH_EQUIP_ID', 'PCI', 'XPOS', 'YPOS', 'CELL_NO', 'TOWER_HEIGHT', \n",
    "                          'BUILDING_HEIGHT', 'ANTENNA_NM', 'ORIENT', \n",
    "                          'E_TILT', 'MTILT']\n",
    "        except FileNotFoundError:\n",
    "            print(\"Request파일(%s)이 존재하지 않아 실행을 중단합니다.\\n\" %filenm)\n",
    "            pass\n",
    "\n",
    "        return(rq)\n",
    "\n",
    "    # get Current State from Request FIle \n",
    "    def getState(self):\n",
    "        state = self.getRequest()\n",
    "        \n",
    "        # Src E-Tilt\n",
    "        etilt = state['E_TILT']\n",
    "        bins = [-8, -6, -4, -2, 0, 1, 3, 5, 7, 9]\n",
    "#        bins = [-5, -4, -2, 0, 1, 3, 5, 6]\n",
    "        labels = [\"s1\", \"s2\", \"s3\", \"s4\", \"s5\", \"s6\", \"s7\", \"s8\", \"s9\"]\n",
    "        cats = pd.cut(etilt, bins, labels=labels, include_lowest=True, right=False)\n",
    "        state['SRC_STATE'] = cats\n",
    "\n",
    "        # Nbr셀찾아 TILT와 STATE설정\n",
    "        def getNbrState(x):\n",
    "            # SISUL Code정보\n",
    "            nbrSite = self.getSiteInfo()\n",
    "            tmp = list(state.SISUL_CD)\n",
    "            nbrCell = list(nbrSite.NBR_CD1[nbrSite.SISUL_CD1 == x])\n",
    "\n",
    "            if len(nbrCell) == 1:\n",
    "                nbrState = state.E_TILT[tmp.index(nbrCell[0])]\n",
    "            else:\n",
    "                nbrState = 99999\n",
    "            return nbrState\n",
    "        \n",
    "        # Nbr E-Tilt\n",
    "        state['NBR_TILT'] = list(map(lambda i: getNbrState(i), state.SISUL_CD.to_list()))\n",
    "        catsNbr = pd.cut(state['NBR_TILT'], bins, labels=labels, include_lowest=True, right=False)\n",
    "        state['NBR_STATE'] = catsNbr\n",
    "\n",
    "        return(state)\n",
    "\n",
    "    def cutStateQuality(self, df2): \n",
    "        sinr = df2['SINR1_Mean']\n",
    "        bins = [-999, 0, 5, 10, 15, 20, 25, 99]\n",
    "    #     labels = [\"s1\", \"s2\", \"s3\", \"s4\", \"s5\", \"s6\", \"s7\"]\n",
    "    #     cats = pd.cut(sinr, bins, labels=labels, include_lowest=True, right=True)\n",
    "        cats = pd.cut(sinr, bins, include_lowest=True, right=True)\n",
    "        df2['SINR1_STATE'] = cats\n",
    "\n",
    "        #rsrp\n",
    "        rsrp = df2['RSRP1_Mean']\n",
    "        bins = [-999, -110, -100, -90, -80, -70, -60, 999]\n",
    "    #    labels = [\"s1\", \"s2\", \"s3\", \"s4\", \"s5\", \"s6\", \"s7\"]\n",
    "    #     cats = pd.cut(sinr, bins, labels=labels, include_lowest=True, right=False)\n",
    "        cats = pd.cut(rsrp, bins, include_lowest=True, right=True)\n",
    "        df2['RSRP1_STATE'] = cats\n",
    "        df2 = df2[['SISUL_CD', 'SINR1_STATE', 'RSRP1_STATE']]    \n",
    "        return(df2)\n",
    "\n",
    "    \n",
    "#     def Sim_Wait_Time(self, t1, s_time, e_time):\n",
    "# #         Sim_Time_From=datetime.strptime(s_time, '%H:%M')\n",
    "# #         Sim_Time_To=datetime.strptime(e_time, '%H:%M')\n",
    "# # Cur_Time, Sim_Time_From, Sim_Time_To\n",
    "\n",
    "#         if(t1>s_time) & (t1<e_time):\n",
    "#             return(0)\n",
    "#         else:\n",
    "#             timedelta=datetime.strptime('23:59','%H:%M')-datetime.strptime(t1,'%H:%M')\n",
    "#             return(int(timedelta.total_seconds())+360)\n",
    "        \n",
    "    \n",
    "    # update and read request File(Parameter tilt는 데이터 프레임임)\n",
    "    def outputDatFile(self, action = None, tilt=None ): \n",
    "        output = self.getRequest()\n",
    "        \n",
    "        # 구현필요 : ------------ 모델을 통하여 action을 받아와야함(BO or RL모델링 수행함)\n",
    "        # RL은 현 tilt에 대한 변경값\n",
    "        # BO는 tilt값\n",
    "        if tilt.empty:\n",
    "            if action is None :\n",
    "                action = np.random.randint(-2, 2, output.shape[0])\n",
    "                action = pd.DataFrame(action)[0]\n",
    "\n",
    "            # action은 현 tilt값에 대한 변화량\n",
    "            # action적용결과 E-Tilt 가 -8~8 범위를 넘어가는 경우 범위내로 강제 action조정-----       \n",
    "            action = np.where((action + output['E_TILT'])<-8, -8-output['E_TILT'], action)\n",
    "            action = np.where((action + output['E_TILT'])>8, 8-output['E_TILT'], action)\n",
    "            output['E_TILT'] = action + output['E_TILT']\n",
    "        else:\n",
    "            x11=output['SISUL_CD'].tolist()\n",
    "            y11=tilt['SISUL_CD1'].tolist()\n",
    "            y12=tilt['E_TILT'].tolist()\n",
    "            \n",
    "            for i in range(len(y11)):\n",
    "                selrow=x11.index(y11[i])\n",
    "                output['E_TILT'][selrow]=y12[i]\n",
    "\n",
    "#             print(output['SISUL_CD'])\n",
    "#             print(output['E_TILT'])\n",
    "#             print(tilt['E_TILT'])\n",
    "#             print(tilt['SISUL_CD1'])                \n",
    "\n",
    "        output['REQUEST_SEQ'] = self.seq\n",
    "        output['REQUEST_DATE']= self.time\n",
    "        #-------------------------------------------------        \n",
    "        \n",
    "        if not os.path.isdir(self.ML_dirnm+'/'+self.time):\n",
    "            os.mkdir(self.ML_dirnm+'/'+self.time)\n",
    "\n",
    "        filenm = self.ML_dirnm+'/'+self.time+'/'+requestPrefix + self.time + \"_[\" + self.seq + \"].dat\"\n",
    "        print(\"Request 파일(%s)을 생성합니다.\\n\" %filenm)\n",
    "        output.to_csv(filenm, sep = \"|\", header = False, index = False)      "
   ]
  },
  {
   "cell_type": "code",
   "execution_count": 1113,
   "metadata": {},
   "outputs": [],
   "source": [
    "# BO용 모듈\n",
    "para_no=16\n",
    "    \n",
    "# Pbound설정\n",
    "def get_pbounds():\n",
    "    df1=pd.read_csv(BO_RangeFile, sep=',', index_col='varnm')\n",
    "    df1=df1.to_dict('split')\n",
    "    pbounds=dict(zip(df1['index'], df1['data']))\n",
    "    return(pbounds)\n",
    "\n",
    "# 대구지역 cell 16개의 tilt값\n",
    "def black_box_function(c1, c2, c3, c4, c5, c6, c7, c8, c9, c10, c11, c12, c13, c14, c15, c16):   \n",
    "    # Parameter 입력값\n",
    "    c1=round(c1,0);c2=round(c2,0);c3=round(c3,0);c4=round(c4,0);c5=round(c5,0)\n",
    "    c6=round(c6,0);c7=round(c7,0);c8=round(c8,0);c9=round(c9,0);c10=round(c10,0)\n",
    "    c11=round(c11,0);c12=round(c12,0);c13=round(c13,0);c14=round(c14,0);c15=round(c15,0)\n",
    "    c16=round(c16,0)\n",
    "    input_val=[c1, c2, c3, c4, c5, c6, c7, c8, c9, c10, c11, c12, c13, c14, c15, c16]\n",
    "    req_tilt=pd.DataFrame([input_val, cellcode]).T\n",
    "    req_tilt.columns=(['E_TILT', 'SISUL_CD1'])    \n",
    "\n",
    "    \n",
    "    \n",
    "\n",
    "    \n",
    "    # 시뮬레이션 운영시간\n",
    "    Sim_Time_From='00:05'\n",
    "    Sim_Time_To='23:25' \n",
    "\n",
    "    #-------------------------------------------------------------\n",
    "    # Simulation중단시간 Check -> 대기(00:05~23:25이외의 시간) \n",
    "    Cur_Time=datetime.now().strftime('%H:%M') \n",
    "    while (Cur_Time < Sim_Time_From) | (Cur_Time > Sim_Time_To):\n",
    "#         wait_time=a.Sim_Wait_Time(Cur_Time, Sim_Time_From, Sim_Time_To)\n",
    "        time.sleep(300)\n",
    "        Cur_Time=datetime.now().strftime('%H:%M') \n",
    "    #-------------------------------------------------------------\n",
    "\n",
    "    \n",
    "    \n",
    "    \n",
    "    # Parameter 입력값에 따른 출력값\n",
    "    y=-9999\n",
    "    while y==-9999:\n",
    "        # 시뮬레이션 실행코드\n",
    "        y=cal_obj_fun(req_tilt)*100\n",
    "    return(y)"
   ]
  },
  {
   "cell_type": "code",
   "execution_count": 1114,
   "metadata": {},
   "outputs": [],
   "source": [
    "def set_optinfo(ML_dirnm, seq, pre_reqfilenm, pre_resultfilenm):\n",
    "    destination=ML_dirnm+'/'+Opt_statusFile\n",
    "#     data=pd.DataFrame([seq], index=['SEQ'], columns=['value'])\n",
    "#     data.to_json(destination)\n",
    "\n",
    "    with open(destination, encoding='UTF8') as data_file:\n",
    "        data=json.load(data_file)\n",
    "    data['value']['SEQ']=seq\n",
    "    data['value']['pre_reqfilenm']=pre_reqfilenm\n",
    "    data['value']['pre_resultfilenm']=pre_resultfilenm\n",
    "    with open(destination, 'w') as txtfile:\n",
    "        json.dump(data, txtfile)\n",
    "        \n",
    "def get_optinfo(ML_dirnm):\n",
    "    destination=ML_dirnm+'/'+Opt_statusFile\n",
    "    with open(destination, encoding='UTF8') as data_file:\n",
    "        data=json.load(data_file)\n",
    "    return(data['value'])"
   ]
  },
  {
   "cell_type": "code",
   "execution_count": 1115,
   "metadata": {},
   "outputs": [],
   "source": [
    "# BO용 모듈\n",
    "def cal_obj_fun(req_tilt):    \n",
    "    #값 초기화---------------------------------\n",
    "    # request, result file 관리 폴더(ML서버, TEOS서버)\n",
    "    ML_dirnm='/home/tangosvc/code/data'    \n",
    "    # simulation 실행일(파일생성일)\n",
    "    filetime=datetime.now().strftime('%Y%m%d') \n",
    "    #----------------------------------------------  \n",
    "    \n",
    "    # TEOS 최근 적용 파일명, Seq 정보를 json파일에서 가져오기\n",
    "    seq=get_optinfo(ML_dirnm)['SEQ']\n",
    "    pre_reqfilenm=get_optinfo(ML_dirnm)['pre_reqfilenm']\n",
    "    pre_resultfilenm=get_optinfo(ML_dirnm)['pre_resultfilenm']\n",
    "    \n",
    "#     print(seq, pre_reqfilenm, pre_resultfilenm)\n",
    "#     seq=47\n",
    "#     # 시뮬레이션 시작용 Request, Result 파일\n",
    "#     pre_reqfilenm='/home/tangosvc/code/data/20191031/SON_TO_TEOS_RL_REQUEST_20191031_[%s].dat' %str(seq)\n",
    "#     pre_resultfilenm='/home/tangosvc/code/data/20191031/TEOS_TO_SON_RL_RESULT_20191031_[%s].dat' %str(seq)\n",
    "    # ------------------------------------------------------------    \n",
    "    \n",
    "    # Request_filecreate 클래스를 생성함\n",
    "    a=Request_filecreate(ML_dirnm, filetime, seq)\n",
    "    a.pre_reqfilenm=pre_reqfilenm\n",
    "    a.pre_resultfilenm=pre_resultfilenm    \n",
    "    a.seq=str(seq+1)    \n",
    "    a.outputDatFile(action = None, tilt=req_tilt) \n",
    "    \n",
    "    Do_simul_NEXT(filetime, a)\n",
    "    # 시점 t : state(SRC tilt, NBR tilt, SINR, RSRP) 계산 ------------------------------\n",
    "    # state(tilt1의 SINR, RSRP)정보 - ResultFile에서 수집(SISUL_CD기준으로 계산)\n",
    "    rs, gsq_avg,_ = a.getStateQuality(wa = 0.5, wb = 0.5) \n",
    "\n",
    "    # rs : ['SISUL_CD  SINR1_Mean  SINR1_Q5  RSRP1_Mean sq  nbrSq   gsq]  \n",
    "    set_optinfo(ML_dirnm, seq+1, \\\n",
    "                ML_dirnm+'/'+filetime+'/'+requestPrefix+ filetime+'_'+'['+str(seq+1)+'].dat', \\\n",
    "                ML_dirnm+'/'+filetime+'/'+resultPrefix+ filetime+'_'+'['+str(seq+1)+'].dat')\n",
    "    return(gsq_avg)"
   ]
  },
  {
   "cell_type": "code",
   "execution_count": null,
   "metadata": {
    "scrolled": false
   },
   "outputs": [
    {
     "name": "stdout",
     "output_type": "stream",
     "text": [
      "\u001b[93m---Parameter Exploration Range(min, max) ---\u001b[0m\n",
      "{'c1': [0, 8], 'c2': [0, 8], 'c3': [0, 8], 'c4': [0, 8], 'c5': [0, 8], 'c6': [0, 8], 'c7': [0, 8], 'c8': [0, 8], 'c9': [0, 8], 'c10': [0, 8], 'c11': [0, 8], 'c12': [0, 8], 'c13': [0, 8], 'c14': [0, 8], 'c15': [0, 8], 'c16': [0, 8]}\n",
      "\u001b[93m---Optimizing TEOS by BO ---\u001b[0m\n",
      "|   iter    |  target   |    c1     |    c10    |    c11    |    c12    |    c13    |    c14    |    c15    |    c16    |    c2     |    c3     |    c4     |    c5     |    c6     |    c7     |    c8     |    c9     |\n",
      "-------------------------------------------------------------------------------------------------------------------------------------------------------------------------------------------------------------------------\n"
     ]
    },
    {
     "name": "stderr",
     "output_type": "stream",
     "text": [
      "/home/tangosvc/anaconda3/lib/python3.7/site-packages/ipykernel_launcher.py:226: SettingWithCopyWarning: \n",
      "A value is trying to be set on a copy of a slice from a DataFrame\n",
      "\n",
      "See the caveats in the documentation: http://pandas.pydata.org/pandas-docs/stable/indexing.html#indexing-view-versus-copy\n"
     ]
    },
    {
     "name": "stdout",
     "output_type": "stream",
     "text": [
      "Request 파일(/home/tangosvc/code/data/20191111/SON_TO_TEOS_RL_REQUEST_20191111_[587].dat)을 생성합니다.\n",
      "\n",
      "TEOS_TO_SON_RL_RESULT_20191111_[587].dat에 대한 get명령을 실행합니다.\n",
      "파일 TEOS_TO_SON_RL_RESULT_20191111_[587].dat이 없어 60초 대기후 다시 확인합니다(최대30회).\n",
      "파일 TEOS_TO_SON_RL_RESULT_20191111_[587].dat이 없어 60초 대기후 다시 확인합니다(최대30회).\n",
      "파일 TEOS_TO_SON_RL_RESULT_20191111_[587].dat이 없어 60초 대기후 다시 확인합니다(최대30회).\n",
      "파일 TEOS_TO_SON_RL_RESULT_20191111_[587].dat이 없어 60초 대기후 다시 확인합니다(최대30회).\n",
      "파일 TEOS_TO_SON_RL_RESULT_20191111_[587].dat이 없어 60초 대기후 다시 확인합니다(최대30회).\n",
      "파일 TEOS_TO_SON_RL_RESULT_20191111_[587].dat이 없어 60초 대기후 다시 확인합니다(최대30회).\n",
      "파일 TEOS_TO_SON_RL_RESULT_20191111_[587].dat이 없어 60초 대기후 다시 확인합니다(최대30회).\n",
      "파일 TEOS_TO_SON_RL_RESULT_20191111_[587].dat이 없어 60초 대기후 다시 확인합니다(최대30회).\n",
      "| \u001b[0m 1       \u001b[0m | \u001b[0m 156.6   \u001b[0m | \u001b[0m 1.532   \u001b[0m | \u001b[0m 4.977   \u001b[0m | \u001b[0m 3.502   \u001b[0m | \u001b[0m 6.283   \u001b[0m | \u001b[0m 6.24    \u001b[0m | \u001b[0m 2.181   \u001b[0m | \u001b[0m 2.212   \u001b[0m | \u001b[0m 6.415   \u001b[0m | \u001b[0m 7.665   \u001b[0m | \u001b[0m 7.007   \u001b[0m | \u001b[0m 2.863   \u001b[0m | \u001b[0m 4.008   \u001b[0m | \u001b[0m 5.468   \u001b[0m | \u001b[0m 5.702   \u001b[0m | \u001b[0m 2.962   \u001b[0m | \u001b[0m 4.49    \u001b[0m |\n",
      "Request 파일(/home/tangosvc/code/data/20191111/SON_TO_TEOS_RL_REQUEST_20191111_[588].dat)을 생성합니다.\n",
      "\n",
      "TEOS_TO_SON_RL_RESULT_20191111_[588].dat에 대한 get명령을 실행합니다.\n",
      "파일 TEOS_TO_SON_RL_RESULT_20191111_[588].dat이 없어 60초 대기후 다시 확인합니다(최대30회).\n",
      "파일 TEOS_TO_SON_RL_RESULT_20191111_[588].dat이 없어 60초 대기후 다시 확인합니다(최대30회).\n",
      "파일 TEOS_TO_SON_RL_RESULT_20191111_[588].dat이 없어 60초 대기후 다시 확인합니다(최대30회).\n",
      "파일 TEOS_TO_SON_RL_RESULT_20191111_[588].dat이 없어 60초 대기후 다시 확인합니다(최대30회).\n",
      "파일 TEOS_TO_SON_RL_RESULT_20191111_[588].dat이 없어 60초 대기후 다시 확인합니다(최대30회).\n",
      "파일 TEOS_TO_SON_RL_RESULT_20191111_[588].dat이 없어 60초 대기후 다시 확인합니다(최대30회).\n",
      "파일 TEOS_TO_SON_RL_RESULT_20191111_[588].dat이 없어 60초 대기후 다시 확인합니다(최대30회).\n",
      "파일 TEOS_TO_SON_RL_RESULT_20191111_[588].dat이 없어 60초 대기후 다시 확인합니다(최대30회).\n",
      "파일 TEOS_TO_SON_RL_RESULT_20191111_[588].dat이 없어 60초 대기후 다시 확인합니다(최대30회).\n",
      "파일 TEOS_TO_SON_RL_RESULT_20191111_[588].dat이 없어 60초 대기후 다시 확인합니다(최대30회).\n",
      "| \u001b[0m 2       \u001b[0m | \u001b[0m 142.3   \u001b[0m | \u001b[0m 4.025   \u001b[0m | \u001b[0m 0.1101  \u001b[0m | \u001b[0m 6.183   \u001b[0m | \u001b[0m 7.061   \u001b[0m | \u001b[0m 2.919   \u001b[0m | \u001b[0m 4.923   \u001b[0m | \u001b[0m 0.603   \u001b[0m | \u001b[0m 2.951   \u001b[0m | \u001b[0m 7.465   \u001b[0m | \u001b[0m 5.211   \u001b[0m | \u001b[0m 3.178   \u001b[0m | \u001b[0m 6.31    \u001b[0m | \u001b[0m 2.535   \u001b[0m | \u001b[0m 4.545   \u001b[0m | \u001b[0m 6.953   \u001b[0m | \u001b[0m 3.489   \u001b[0m |\n",
      "Request 파일(/home/tangosvc/code/data/20191111/SON_TO_TEOS_RL_REQUEST_20191111_[589].dat)을 생성합니다.\n",
      "\n",
      "TEOS_TO_SON_RL_RESULT_20191111_[589].dat에 대한 get명령을 실행합니다.\n",
      "파일 TEOS_TO_SON_RL_RESULT_20191111_[589].dat이 없어 60초 대기후 다시 확인합니다(최대30회).\n",
      "파일 TEOS_TO_SON_RL_RESULT_20191111_[589].dat이 없어 60초 대기후 다시 확인합니다(최대30회).\n",
      "파일 TEOS_TO_SON_RL_RESULT_20191111_[589].dat이 없어 60초 대기후 다시 확인합니다(최대30회).\n",
      "파일 TEOS_TO_SON_RL_RESULT_20191111_[589].dat이 없어 60초 대기후 다시 확인합니다(최대30회).\n",
      "파일 TEOS_TO_SON_RL_RESULT_20191111_[589].dat이 없어 60초 대기후 다시 확인합니다(최대30회).\n",
      "파일 TEOS_TO_SON_RL_RESULT_20191111_[589].dat이 없어 60초 대기후 다시 확인합니다(최대30회).\n",
      "파일 TEOS_TO_SON_RL_RESULT_20191111_[589].dat이 없어 60초 대기후 다시 확인합니다(최대30회).\n",
      "파일 TEOS_TO_SON_RL_RESULT_20191111_[589].dat이 없어 60초 대기후 다시 확인합니다(최대30회).\n",
      "파일 TEOS_TO_SON_RL_RESULT_20191111_[589].dat이 없어 60초 대기후 다시 확인합니다(최대30회).\n",
      "| \u001b[0m 3       \u001b[0m | \u001b[0m 131.7   \u001b[0m | \u001b[0m 6.417   \u001b[0m | \u001b[0m 1.15    \u001b[0m | \u001b[0m 5.634   \u001b[0m | \u001b[0m 5.637   \u001b[0m | \u001b[0m 1.75    \u001b[0m | \u001b[0m 7.399   \u001b[0m | \u001b[0m 3.537   \u001b[0m | \u001b[0m 7.275   \u001b[0m | \u001b[0m 0.4785  \u001b[0m | \u001b[0m 1.474   \u001b[0m | \u001b[0m 0.3788  \u001b[0m | \u001b[0m 5.399   \u001b[0m | \u001b[0m 4.757   \u001b[0m | \u001b[0m 4.266   \u001b[0m | \u001b[0m 0.3466  \u001b[0m | \u001b[0m 4.491   \u001b[0m |\n",
      "Request 파일(/home/tangosvc/code/data/20191111/SON_TO_TEOS_RL_REQUEST_20191111_[590].dat)을 생성합니다.\n",
      "\n",
      "TEOS_TO_SON_RL_RESULT_20191111_[590].dat에 대한 get명령을 실행합니다.\n",
      "파일 TEOS_TO_SON_RL_RESULT_20191111_[590].dat이 없어 60초 대기후 다시 확인합니다(최대30회).\n",
      "파일 TEOS_TO_SON_RL_RESULT_20191111_[590].dat이 없어 60초 대기후 다시 확인합니다(최대30회).\n",
      "파일 TEOS_TO_SON_RL_RESULT_20191111_[590].dat이 없어 60초 대기후 다시 확인합니다(최대30회).\n",
      "파일 TEOS_TO_SON_RL_RESULT_20191111_[590].dat이 없어 60초 대기후 다시 확인합니다(최대30회).\n",
      "파일 TEOS_TO_SON_RL_RESULT_20191111_[590].dat이 없어 60초 대기후 다시 확인합니다(최대30회).\n",
      "파일 TEOS_TO_SON_RL_RESULT_20191111_[590].dat이 없어 60초 대기후 다시 확인합니다(최대30회).\n",
      "파일 TEOS_TO_SON_RL_RESULT_20191111_[590].dat이 없어 60초 대기후 다시 확인합니다(최대30회).\n",
      "파일 TEOS_TO_SON_RL_RESULT_20191111_[590].dat이 없어 60초 대기후 다시 확인합니다(최대30회).\n",
      "파일 TEOS_TO_SON_RL_RESULT_20191111_[590].dat이 없어 60초 대기후 다시 확인합니다(최대30회).\n",
      "파일 TEOS_TO_SON_RL_RESULT_20191111_[590].dat이 없어 60초 대기후 다시 확인합니다(최대30회).\n",
      "| \u001b[95m 4       \u001b[0m | \u001b[95m 163.9   \u001b[0m | \u001b[95m 2.637   \u001b[0m | \u001b[95m 4.024   \u001b[0m | \u001b[95m 0.8952  \u001b[0m | \u001b[95m 4.858   \u001b[0m | \u001b[95m 4.528   \u001b[0m | \u001b[95m 0.05411 \u001b[0m | \u001b[95m 4.94    \u001b[0m | \u001b[95m 7.297   \u001b[0m | \u001b[95m 6.324   \u001b[0m | \u001b[95m 7.937   \u001b[0m | \u001b[95m 7.67    \u001b[0m | \u001b[95m 6.336   \u001b[0m | \u001b[95m 2.282   \u001b[0m | \u001b[95m 4.999   \u001b[0m | \u001b[95m 3.825   \u001b[0m | \u001b[95m 1.565   \u001b[0m |\n",
      "Request 파일(/home/tangosvc/code/data/20191111/SON_TO_TEOS_RL_REQUEST_20191111_[591].dat)을 생성합니다.\n",
      "\n",
      "TEOS_TO_SON_RL_RESULT_20191111_[591].dat에 대한 get명령을 실행합니다.\n",
      "파일 TEOS_TO_SON_RL_RESULT_20191111_[591].dat이 없어 60초 대기후 다시 확인합니다(최대30회).\n",
      "파일 TEOS_TO_SON_RL_RESULT_20191111_[591].dat이 없어 60초 대기후 다시 확인합니다(최대30회).\n",
      "파일 TEOS_TO_SON_RL_RESULT_20191111_[591].dat이 없어 60초 대기후 다시 확인합니다(최대30회).\n",
      "파일 TEOS_TO_SON_RL_RESULT_20191111_[591].dat이 없어 60초 대기후 다시 확인합니다(최대30회).\n",
      "파일 TEOS_TO_SON_RL_RESULT_20191111_[591].dat이 없어 60초 대기후 다시 확인합니다(최대30회).\n",
      "파일 TEOS_TO_SON_RL_RESULT_20191111_[591].dat이 없어 60초 대기후 다시 확인합니다(최대30회).\n",
      "파일 TEOS_TO_SON_RL_RESULT_20191111_[591].dat이 없어 60초 대기후 다시 확인합니다(최대30회).\n",
      "파일 TEOS_TO_SON_RL_RESULT_20191111_[591].dat이 없어 60초 대기후 다시 확인합니다(최대30회).\n",
      "파일 TEOS_TO_SON_RL_RESULT_20191111_[591].dat이 없어 60초 대기후 다시 확인합니다(최대30회).\n",
      "파일 TEOS_TO_SON_RL_RESULT_20191111_[591].dat이 없어 60초 대기후 다시 확인합니다(최대30회).\n",
      "| \u001b[0m 5       \u001b[0m | \u001b[0m 121.6   \u001b[0m | \u001b[0m 3.059   \u001b[0m | \u001b[0m 0.431   \u001b[0m | \u001b[0m 3.613   \u001b[0m | \u001b[0m 7.856   \u001b[0m | \u001b[0m 0.9915  \u001b[0m | \u001b[0m 0.955   \u001b[0m | \u001b[0m 5.908   \u001b[0m | \u001b[0m 4.698   \u001b[0m | \u001b[0m 3.773   \u001b[0m | \u001b[0m 0.857   \u001b[0m | \u001b[0m 1.834   \u001b[0m | \u001b[0m 7.2     \u001b[0m | \u001b[0m 3.334   \u001b[0m | \u001b[0m 4.287   \u001b[0m | \u001b[0m 0.04967 \u001b[0m | \u001b[0m 2.405   \u001b[0m |\n",
      "Request 파일(/home/tangosvc/code/data/20191111/SON_TO_TEOS_RL_REQUEST_20191111_[592].dat)을 생성합니다.\n",
      "\n",
      "TEOS_TO_SON_RL_RESULT_20191111_[592].dat에 대한 get명령을 실행합니다.\n",
      "파일 TEOS_TO_SON_RL_RESULT_20191111_[592].dat이 없어 60초 대기후 다시 확인합니다(최대30회).\n",
      "파일 TEOS_TO_SON_RL_RESULT_20191111_[592].dat이 없어 60초 대기후 다시 확인합니다(최대30회).\n",
      "파일 TEOS_TO_SON_RL_RESULT_20191111_[592].dat이 없어 60초 대기후 다시 확인합니다(최대30회).\n",
      "파일 TEOS_TO_SON_RL_RESULT_20191111_[592].dat이 없어 60초 대기후 다시 확인합니다(최대30회).\n",
      "파일 TEOS_TO_SON_RL_RESULT_20191111_[592].dat이 없어 60초 대기후 다시 확인합니다(최대30회).\n",
      "파일 TEOS_TO_SON_RL_RESULT_20191111_[592].dat이 없어 60초 대기후 다시 확인합니다(최대30회).\n",
      "파일 TEOS_TO_SON_RL_RESULT_20191111_[592].dat이 없어 60초 대기후 다시 확인합니다(최대30회).\n",
      "파일 TEOS_TO_SON_RL_RESULT_20191111_[592].dat이 없어 60초 대기후 다시 확인합니다(최대30회).\n",
      "파일 TEOS_TO_SON_RL_RESULT_20191111_[592].dat이 없어 60초 대기후 다시 확인합니다(최대30회).\n",
      "파일 TEOS_TO_SON_RL_RESULT_20191111_[592].dat이 없어 60초 대기후 다시 확인합니다(최대30회).\n",
      "| \u001b[95m 6       \u001b[0m | \u001b[95m 170.4   \u001b[0m | \u001b[95m 3.495   \u001b[0m | \u001b[95m 4.897   \u001b[0m | \u001b[95m 7.346   \u001b[0m | \u001b[95m 5.006   \u001b[0m | \u001b[95m 5.648   \u001b[0m | \u001b[95m 1.199   \u001b[0m | \u001b[95m 5.969   \u001b[0m | \u001b[95m 6.648   \u001b[0m | \u001b[95m 5.07    \u001b[0m | \u001b[95m 3.506   \u001b[0m | \u001b[95m 1.221   \u001b[0m | \u001b[95m 4.547   \u001b[0m | \u001b[95m 4.226   \u001b[0m | \u001b[95m 7.611   \u001b[0m | \u001b[95m 3.843   \u001b[0m | \u001b[95m 4.02    \u001b[0m |\n",
      "Request 파일(/home/tangosvc/code/data/20191111/SON_TO_TEOS_RL_REQUEST_20191111_[593].dat)을 생성합니다.\n",
      "\n",
      "TEOS_TO_SON_RL_RESULT_20191111_[593].dat에 대한 get명령을 실행합니다.\n",
      "파일 TEOS_TO_SON_RL_RESULT_20191111_[593].dat이 없어 60초 대기후 다시 확인합니다(최대30회).\n",
      "파일 TEOS_TO_SON_RL_RESULT_20191111_[593].dat이 없어 60초 대기후 다시 확인합니다(최대30회).\n",
      "파일 TEOS_TO_SON_RL_RESULT_20191111_[593].dat이 없어 60초 대기후 다시 확인합니다(최대30회).\n",
      "파일 TEOS_TO_SON_RL_RESULT_20191111_[593].dat이 없어 60초 대기후 다시 확인합니다(최대30회).\n",
      "파일 TEOS_TO_SON_RL_RESULT_20191111_[593].dat이 없어 60초 대기후 다시 확인합니다(최대30회).\n",
      "파일 TEOS_TO_SON_RL_RESULT_20191111_[593].dat이 없어 60초 대기후 다시 확인합니다(최대30회).\n",
      "파일 TEOS_TO_SON_RL_RESULT_20191111_[593].dat이 없어 60초 대기후 다시 확인합니다(최대30회).\n",
      "파일 TEOS_TO_SON_RL_RESULT_20191111_[593].dat이 없어 60초 대기후 다시 확인합니다(최대30회).\n",
      "파일 TEOS_TO_SON_RL_RESULT_20191111_[593].dat이 없어 60초 대기후 다시 확인합니다(최대30회).\n",
      "파일 TEOS_TO_SON_RL_RESULT_20191111_[593].dat이 없어 60초 대기후 다시 확인합니다(최대30회).\n",
      "| \u001b[0m 7       \u001b[0m | \u001b[0m 134.4   \u001b[0m | \u001b[0m 4.295   \u001b[0m | \u001b[0m 6.554   \u001b[0m | \u001b[0m 0.4569  \u001b[0m | \u001b[0m 5.355   \u001b[0m | \u001b[0m 6.137   \u001b[0m | \u001b[0m 5.665   \u001b[0m | \u001b[0m 6.375   \u001b[0m | \u001b[0m 4.462   \u001b[0m | \u001b[0m 7.727   \u001b[0m | \u001b[0m 1.177   \u001b[0m | \u001b[0m 0.2372  \u001b[0m | \u001b[0m 4.751   \u001b[0m | \u001b[0m 0.9125  \u001b[0m | \u001b[0m 7.606   \u001b[0m | \u001b[0m 2.606   \u001b[0m | \u001b[0m 1.549   \u001b[0m |\n"
     ]
    },
    {
     "name": "stdout",
     "output_type": "stream",
     "text": [
      "Request 파일(/home/tangosvc/code/data/20191111/SON_TO_TEOS_RL_REQUEST_20191111_[594].dat)을 생성합니다.\n",
      "\n",
      "TEOS_TO_SON_RL_RESULT_20191111_[594].dat에 대한 get명령을 실행합니다.\n",
      "파일 TEOS_TO_SON_RL_RESULT_20191111_[594].dat이 없어 60초 대기후 다시 확인합니다(최대30회).\n",
      "파일 TEOS_TO_SON_RL_RESULT_20191111_[594].dat이 없어 60초 대기후 다시 확인합니다(최대30회).\n",
      "파일 TEOS_TO_SON_RL_RESULT_20191111_[594].dat이 없어 60초 대기후 다시 확인합니다(최대30회).\n",
      "파일 TEOS_TO_SON_RL_RESULT_20191111_[594].dat이 없어 60초 대기후 다시 확인합니다(최대30회).\n",
      "파일 TEOS_TO_SON_RL_RESULT_20191111_[594].dat이 없어 60초 대기후 다시 확인합니다(최대30회).\n",
      "파일 TEOS_TO_SON_RL_RESULT_20191111_[594].dat이 없어 60초 대기후 다시 확인합니다(최대30회).\n",
      "파일 TEOS_TO_SON_RL_RESULT_20191111_[594].dat이 없어 60초 대기후 다시 확인합니다(최대30회).\n",
      "파일 TEOS_TO_SON_RL_RESULT_20191111_[594].dat이 없어 60초 대기후 다시 확인합니다(최대30회).\n",
      "파일 TEOS_TO_SON_RL_RESULT_20191111_[594].dat이 없어 60초 대기후 다시 확인합니다(최대30회).\n",
      "파일 TEOS_TO_SON_RL_RESULT_20191111_[594].dat이 없어 60초 대기후 다시 확인합니다(최대30회).\n",
      "| \u001b[0m 8       \u001b[0m | \u001b[0m 170.3   \u001b[0m | \u001b[0m 3.662   \u001b[0m | \u001b[0m 7.363   \u001b[0m | \u001b[0m 7.033   \u001b[0m | \u001b[0m 2.021   \u001b[0m | \u001b[0m 2.784   \u001b[0m | \u001b[0m 1.461   \u001b[0m | \u001b[0m 7.214   \u001b[0m | \u001b[0m 5.652   \u001b[0m | \u001b[0m 5.813   \u001b[0m | \u001b[0m 7.201   \u001b[0m | \u001b[0m 6.233   \u001b[0m | \u001b[0m 4.793   \u001b[0m | \u001b[0m 2.329   \u001b[0m | \u001b[0m 1.211   \u001b[0m | \u001b[0m 2.681   \u001b[0m | \u001b[0m 5.26    \u001b[0m |\n",
      "Request 파일(/home/tangosvc/code/data/20191111/SON_TO_TEOS_RL_REQUEST_20191111_[595].dat)을 생성합니다.\n",
      "\n",
      "TEOS_TO_SON_RL_RESULT_20191111_[595].dat에 대한 get명령을 실행합니다.\n",
      "파일 TEOS_TO_SON_RL_RESULT_20191111_[595].dat이 없어 60초 대기후 다시 확인합니다(최대30회).\n",
      "파일 TEOS_TO_SON_RL_RESULT_20191111_[595].dat이 없어 60초 대기후 다시 확인합니다(최대30회).\n",
      "파일 TEOS_TO_SON_RL_RESULT_20191111_[595].dat이 없어 60초 대기후 다시 확인합니다(최대30회).\n",
      "파일 TEOS_TO_SON_RL_RESULT_20191111_[595].dat이 없어 60초 대기후 다시 확인합니다(최대30회).\n",
      "파일 TEOS_TO_SON_RL_RESULT_20191111_[595].dat이 없어 60초 대기후 다시 확인합니다(최대30회).\n",
      "파일 TEOS_TO_SON_RL_RESULT_20191111_[595].dat이 없어 60초 대기후 다시 확인합니다(최대30회).\n",
      "파일 TEOS_TO_SON_RL_RESULT_20191111_[595].dat이 없어 60초 대기후 다시 확인합니다(최대30회).\n",
      "파일 TEOS_TO_SON_RL_RESULT_20191111_[595].dat이 없어 60초 대기후 다시 확인합니다(최대30회).\n",
      "파일 TEOS_TO_SON_RL_RESULT_20191111_[595].dat이 없어 60초 대기후 다시 확인합니다(최대30회).\n",
      "파일 TEOS_TO_SON_RL_RESULT_20191111_[595].dat이 없어 60초 대기후 다시 확인합니다(최대30회).\n",
      "| \u001b[0m 9       \u001b[0m | \u001b[0m 139.2   \u001b[0m | \u001b[0m 0.5867  \u001b[0m | \u001b[0m 0.4401  \u001b[0m | \u001b[0m 2.586   \u001b[0m | \u001b[0m 4.724   \u001b[0m | \u001b[0m 6.831   \u001b[0m | \u001b[0m 2.296   \u001b[0m | \u001b[0m 1.385   \u001b[0m | \u001b[0m 1.072   \u001b[0m | \u001b[0m 7.957   \u001b[0m | \u001b[0m 1.436   \u001b[0m | \u001b[0m 2.54    \u001b[0m | \u001b[0m 4.546   \u001b[0m | \u001b[0m 0.07479 \u001b[0m | \u001b[0m 7.205   \u001b[0m | \u001b[0m 7.818   \u001b[0m | \u001b[0m 4.455   \u001b[0m |\n",
      "Request 파일(/home/tangosvc/code/data/20191111/SON_TO_TEOS_RL_REQUEST_20191111_[596].dat)을 생성합니다.\n",
      "\n",
      "TEOS_TO_SON_RL_RESULT_20191111_[596].dat에 대한 get명령을 실행합니다.\n",
      "파일 TEOS_TO_SON_RL_RESULT_20191111_[596].dat이 없어 60초 대기후 다시 확인합니다(최대30회).\n",
      "파일 TEOS_TO_SON_RL_RESULT_20191111_[596].dat이 없어 60초 대기후 다시 확인합니다(최대30회).\n",
      "파일 TEOS_TO_SON_RL_RESULT_20191111_[596].dat이 없어 60초 대기후 다시 확인합니다(최대30회).\n",
      "파일 TEOS_TO_SON_RL_RESULT_20191111_[596].dat이 없어 60초 대기후 다시 확인합니다(최대30회).\n",
      "파일 TEOS_TO_SON_RL_RESULT_20191111_[596].dat이 없어 60초 대기후 다시 확인합니다(최대30회).\n",
      "파일 TEOS_TO_SON_RL_RESULT_20191111_[596].dat이 없어 60초 대기후 다시 확인합니다(최대30회).\n",
      "파일 TEOS_TO_SON_RL_RESULT_20191111_[596].dat이 없어 60초 대기후 다시 확인합니다(최대30회).\n",
      "파일 TEOS_TO_SON_RL_RESULT_20191111_[596].dat이 없어 60초 대기후 다시 확인합니다(최대30회).\n",
      "파일 TEOS_TO_SON_RL_RESULT_20191111_[596].dat이 없어 60초 대기후 다시 확인합니다(최대30회).\n",
      "파일 TEOS_TO_SON_RL_RESULT_20191111_[596].dat이 없어 60초 대기후 다시 확인합니다(최대30회).\n",
      "| \u001b[95m 10      \u001b[0m | \u001b[95m 174.1   \u001b[0m | \u001b[95m 0.6782  \u001b[0m | \u001b[95m 2.664   \u001b[0m | \u001b[95m 5.827   \u001b[0m | \u001b[95m 1.139   \u001b[0m | \u001b[95m 4.42    \u001b[0m | \u001b[95m 2.184   \u001b[0m | \u001b[95m 7.796   \u001b[0m | \u001b[95m 5.342   \u001b[0m | \u001b[95m 2.045   \u001b[0m | \u001b[95m 0.8665  \u001b[0m | \u001b[95m 6.209   \u001b[0m | \u001b[95m 6.26    \u001b[0m | \u001b[95m 6.093   \u001b[0m | \u001b[95m 7.315   \u001b[0m | \u001b[95m 5.269   \u001b[0m | \u001b[95m 4.547   \u001b[0m |\n"
     ]
    },
    {
     "name": "stderr",
     "output_type": "stream",
     "text": [
      "/home/tangosvc/anaconda3/lib/python3.7/site-packages/ipykernel_launcher.py:226: SettingWithCopyWarning: \n",
      "A value is trying to be set on a copy of a slice from a DataFrame\n",
      "\n",
      "See the caveats in the documentation: http://pandas.pydata.org/pandas-docs/stable/indexing.html#indexing-view-versus-copy\n"
     ]
    },
    {
     "name": "stdout",
     "output_type": "stream",
     "text": [
      "Request 파일(/home/tangosvc/code/data/20191111/SON_TO_TEOS_RL_REQUEST_20191111_[597].dat)을 생성합니다.\n",
      "\n",
      "TEOS_TO_SON_RL_RESULT_20191111_[597].dat에 대한 get명령을 실행합니다.\n",
      "파일 TEOS_TO_SON_RL_RESULT_20191111_[597].dat이 없어 60초 대기후 다시 확인합니다(최대30회).\n",
      "파일 TEOS_TO_SON_RL_RESULT_20191111_[597].dat이 없어 60초 대기후 다시 확인합니다(최대30회).\n",
      "파일 TEOS_TO_SON_RL_RESULT_20191111_[597].dat이 없어 60초 대기후 다시 확인합니다(최대30회).\n",
      "파일 TEOS_TO_SON_RL_RESULT_20191111_[597].dat이 없어 60초 대기후 다시 확인합니다(최대30회).\n",
      "파일 TEOS_TO_SON_RL_RESULT_20191111_[597].dat이 없어 60초 대기후 다시 확인합니다(최대30회).\n",
      "파일 TEOS_TO_SON_RL_RESULT_20191111_[597].dat이 없어 60초 대기후 다시 확인합니다(최대30회).\n",
      "파일 TEOS_TO_SON_RL_RESULT_20191111_[597].dat이 없어 60초 대기후 다시 확인합니다(최대30회).\n",
      "파일 TEOS_TO_SON_RL_RESULT_20191111_[597].dat이 없어 60초 대기후 다시 확인합니다(최대30회).\n",
      "파일 TEOS_TO_SON_RL_RESULT_20191111_[597].dat이 없어 60초 대기후 다시 확인합니다(최대30회).\n",
      "파일 TEOS_TO_SON_RL_RESULT_20191111_[597].dat이 없어 60초 대기후 다시 확인합니다(최대30회).\n"
     ]
    },
    {
     "name": "stderr",
     "output_type": "stream",
     "text": [
      "/home/tangosvc/anaconda3/lib/python3.7/site-packages/pandas/core/reshape/merge.py:522: UserWarning: merging between different levels can give an unintended result (2 levels on the left, 1 on the right)\n",
      "  warnings.warn(msg, UserWarning)\n"
     ]
    },
    {
     "name": "stdout",
     "output_type": "stream",
     "text": [
      "| \u001b[0m 11      \u001b[0m | \u001b[0m 157.6   \u001b[0m | \u001b[0m 0.9475  \u001b[0m | \u001b[0m 3.282   \u001b[0m | \u001b[0m 6.182   \u001b[0m | \u001b[0m 1.286   \u001b[0m | \u001b[0m 4.697   \u001b[0m | \u001b[0m 1.896   \u001b[0m | \u001b[0m 7.727   \u001b[0m | \u001b[0m 5.639   \u001b[0m | \u001b[0m 2.475   \u001b[0m | \u001b[0m 1.565   \u001b[0m | \u001b[0m 5.967   \u001b[0m | \u001b[0m 5.974   \u001b[0m | \u001b[0m 5.922   \u001b[0m | \u001b[0m 7.286   \u001b[0m | \u001b[0m 5.262   \u001b[0m | \u001b[0m 4.589   \u001b[0m |\n"
     ]
    },
    {
     "name": "stderr",
     "output_type": "stream",
     "text": [
      "/home/tangosvc/anaconda3/lib/python3.7/site-packages/ipykernel_launcher.py:226: SettingWithCopyWarning: \n",
      "A value is trying to be set on a copy of a slice from a DataFrame\n",
      "\n",
      "See the caveats in the documentation: http://pandas.pydata.org/pandas-docs/stable/indexing.html#indexing-view-versus-copy\n"
     ]
    },
    {
     "name": "stdout",
     "output_type": "stream",
     "text": [
      "Request 파일(/home/tangosvc/code/data/20191111/SON_TO_TEOS_RL_REQUEST_20191111_[598].dat)을 생성합니다.\n",
      "\n",
      "TEOS_TO_SON_RL_RESULT_20191111_[598].dat에 대한 get명령을 실행합니다.\n",
      "파일 TEOS_TO_SON_RL_RESULT_20191111_[598].dat이 없어 60초 대기후 다시 확인합니다(최대30회).\n",
      "파일 TEOS_TO_SON_RL_RESULT_20191111_[598].dat이 없어 60초 대기후 다시 확인합니다(최대30회).\n",
      "파일 TEOS_TO_SON_RL_RESULT_20191111_[598].dat이 없어 60초 대기후 다시 확인합니다(최대30회).\n",
      "파일 TEOS_TO_SON_RL_RESULT_20191111_[598].dat이 없어 60초 대기후 다시 확인합니다(최대30회).\n",
      "파일 TEOS_TO_SON_RL_RESULT_20191111_[598].dat이 없어 60초 대기후 다시 확인합니다(최대30회).\n",
      "파일 TEOS_TO_SON_RL_RESULT_20191111_[598].dat이 없어 60초 대기후 다시 확인합니다(최대30회).\n",
      "파일 TEOS_TO_SON_RL_RESULT_20191111_[598].dat이 없어 60초 대기후 다시 확인합니다(최대30회).\n",
      "파일 TEOS_TO_SON_RL_RESULT_20191111_[598].dat이 없어 60초 대기후 다시 확인합니다(최대30회).\n",
      "파일 TEOS_TO_SON_RL_RESULT_20191111_[598].dat이 없어 60초 대기후 다시 확인합니다(최대30회).\n",
      "파일 TEOS_TO_SON_RL_RESULT_20191111_[598].dat이 없어 60초 대기후 다시 확인합니다(최대30회).\n"
     ]
    },
    {
     "name": "stderr",
     "output_type": "stream",
     "text": [
      "/home/tangosvc/anaconda3/lib/python3.7/site-packages/pandas/core/reshape/merge.py:522: UserWarning: merging between different levels can give an unintended result (2 levels on the left, 1 on the right)\n",
      "  warnings.warn(msg, UserWarning)\n"
     ]
    },
    {
     "name": "stdout",
     "output_type": "stream",
     "text": [
      "| \u001b[0m 12      \u001b[0m | \u001b[0m 160.8   \u001b[0m | \u001b[0m 3.558   \u001b[0m | \u001b[0m 5.347   \u001b[0m | \u001b[0m 6.477   \u001b[0m | \u001b[0m 5.383   \u001b[0m | \u001b[0m 6.407   \u001b[0m | \u001b[0m 1.123   \u001b[0m | \u001b[0m 5.949   \u001b[0m | \u001b[0m 7.203   \u001b[0m | \u001b[0m 2.017   \u001b[0m | \u001b[0m 4.166   \u001b[0m | \u001b[0m 0.7071  \u001b[0m | \u001b[0m 4.5     \u001b[0m | \u001b[0m 2.492   \u001b[0m | \u001b[0m 7.858   \u001b[0m | \u001b[0m 4.855   \u001b[0m | \u001b[0m 5.906   \u001b[0m |\n"
     ]
    },
    {
     "name": "stderr",
     "output_type": "stream",
     "text": [
      "/home/tangosvc/anaconda3/lib/python3.7/site-packages/ipykernel_launcher.py:226: SettingWithCopyWarning: \n",
      "A value is trying to be set on a copy of a slice from a DataFrame\n",
      "\n",
      "See the caveats in the documentation: http://pandas.pydata.org/pandas-docs/stable/indexing.html#indexing-view-versus-copy\n"
     ]
    },
    {
     "name": "stdout",
     "output_type": "stream",
     "text": [
      "Request 파일(/home/tangosvc/code/data/20191111/SON_TO_TEOS_RL_REQUEST_20191111_[599].dat)을 생성합니다.\n",
      "\n",
      "TEOS_TO_SON_RL_RESULT_20191111_[599].dat에 대한 get명령을 실행합니다.\n",
      "파일 TEOS_TO_SON_RL_RESULT_20191111_[599].dat이 없어 60초 대기후 다시 확인합니다(최대30회).\n",
      "파일 TEOS_TO_SON_RL_RESULT_20191111_[599].dat이 없어 60초 대기후 다시 확인합니다(최대30회).\n",
      "파일 TEOS_TO_SON_RL_RESULT_20191111_[599].dat이 없어 60초 대기후 다시 확인합니다(최대30회).\n",
      "파일 TEOS_TO_SON_RL_RESULT_20191111_[599].dat이 없어 60초 대기후 다시 확인합니다(최대30회).\n",
      "파일 TEOS_TO_SON_RL_RESULT_20191111_[599].dat이 없어 60초 대기후 다시 확인합니다(최대30회).\n",
      "파일 TEOS_TO_SON_RL_RESULT_20191111_[599].dat이 없어 60초 대기후 다시 확인합니다(최대30회).\n",
      "파일 TEOS_TO_SON_RL_RESULT_20191111_[599].dat이 없어 60초 대기후 다시 확인합니다(최대30회).\n",
      "파일 TEOS_TO_SON_RL_RESULT_20191111_[599].dat이 없어 60초 대기후 다시 확인합니다(최대30회).\n",
      "파일 TEOS_TO_SON_RL_RESULT_20191111_[599].dat이 없어 60초 대기후 다시 확인합니다(최대30회).\n",
      "파일 TEOS_TO_SON_RL_RESULT_20191111_[599].dat이 없어 60초 대기후 다시 확인합니다(최대30회).\n"
     ]
    },
    {
     "name": "stderr",
     "output_type": "stream",
     "text": [
      "/home/tangosvc/anaconda3/lib/python3.7/site-packages/pandas/core/reshape/merge.py:522: UserWarning: merging between different levels can give an unintended result (2 levels on the left, 1 on the right)\n",
      "  warnings.warn(msg, UserWarning)\n"
     ]
    },
    {
     "name": "stdout",
     "output_type": "stream",
     "text": [
      "| \u001b[95m 13      \u001b[0m | \u001b[95m 184.4   \u001b[0m | \u001b[95m 3.502   \u001b[0m | \u001b[95m 5.676   \u001b[0m | \u001b[95m 5.826   \u001b[0m | \u001b[95m 3.706   \u001b[0m | \u001b[95m 5.957   \u001b[0m | \u001b[95m 2.539   \u001b[0m | \u001b[95m 5.835   \u001b[0m | \u001b[95m 5.334   \u001b[0m | \u001b[95m 3.74    \u001b[0m | \u001b[95m 3.341   \u001b[0m | \u001b[95m 1.337   \u001b[0m | \u001b[95m 3.442   \u001b[0m | \u001b[95m 4.743   \u001b[0m | \u001b[95m 6.227   \u001b[0m | \u001b[95m 2.191   \u001b[0m | \u001b[95m 5.451   \u001b[0m |\n"
     ]
    },
    {
     "name": "stderr",
     "output_type": "stream",
     "text": [
      "/home/tangosvc/anaconda3/lib/python3.7/site-packages/ipykernel_launcher.py:226: SettingWithCopyWarning: \n",
      "A value is trying to be set on a copy of a slice from a DataFrame\n",
      "\n",
      "See the caveats in the documentation: http://pandas.pydata.org/pandas-docs/stable/indexing.html#indexing-view-versus-copy\n"
     ]
    },
    {
     "name": "stdout",
     "output_type": "stream",
     "text": [
      "Request 파일(/home/tangosvc/code/data/20191111/SON_TO_TEOS_RL_REQUEST_20191111_[600].dat)을 생성합니다.\n",
      "\n",
      "TEOS_TO_SON_RL_RESULT_20191111_[600].dat에 대한 get명령을 실행합니다.\n",
      "파일 TEOS_TO_SON_RL_RESULT_20191111_[600].dat이 없어 60초 대기후 다시 확인합니다(최대30회).\n",
      "파일 TEOS_TO_SON_RL_RESULT_20191111_[600].dat이 없어 60초 대기후 다시 확인합니다(최대30회).\n",
      "파일 TEOS_TO_SON_RL_RESULT_20191111_[600].dat이 없어 60초 대기후 다시 확인합니다(최대30회).\n",
      "파일 TEOS_TO_SON_RL_RESULT_20191111_[600].dat이 없어 60초 대기후 다시 확인합니다(최대30회).\n",
      "파일 TEOS_TO_SON_RL_RESULT_20191111_[600].dat이 없어 60초 대기후 다시 확인합니다(최대30회).\n",
      "파일 TEOS_TO_SON_RL_RESULT_20191111_[600].dat이 없어 60초 대기후 다시 확인합니다(최대30회).\n",
      "파일 TEOS_TO_SON_RL_RESULT_20191111_[600].dat이 없어 60초 대기후 다시 확인합니다(최대30회).\n",
      "파일 TEOS_TO_SON_RL_RESULT_20191111_[600].dat이 없어 60초 대기후 다시 확인합니다(최대30회).\n",
      "파일 TEOS_TO_SON_RL_RESULT_20191111_[600].dat이 없어 60초 대기후 다시 확인합니다(최대30회).\n",
      "파일 TEOS_TO_SON_RL_RESULT_20191111_[600].dat이 없어 60초 대기후 다시 확인합니다(최대30회).\n"
     ]
    },
    {
     "name": "stderr",
     "output_type": "stream",
     "text": [
      "/home/tangosvc/anaconda3/lib/python3.7/site-packages/pandas/core/reshape/merge.py:522: UserWarning: merging between different levels can give an unintended result (2 levels on the left, 1 on the right)\n",
      "  warnings.warn(msg, UserWarning)\n"
     ]
    },
    {
     "name": "stdout",
     "output_type": "stream",
     "text": [
      "| \u001b[0m 14      \u001b[0m | \u001b[0m 172.7   \u001b[0m | \u001b[0m 2.858   \u001b[0m | \u001b[0m 6.689   \u001b[0m | \u001b[0m 5.438   \u001b[0m | \u001b[0m 4.628   \u001b[0m | \u001b[0m 5.659   \u001b[0m | \u001b[0m 4.293   \u001b[0m | \u001b[0m 5.705   \u001b[0m | \u001b[0m 6.665   \u001b[0m | \u001b[0m 3.69    \u001b[0m | \u001b[0m 2.048   \u001b[0m | \u001b[0m 0.654   \u001b[0m | \u001b[0m 4.104   \u001b[0m | \u001b[0m 6.157   \u001b[0m | \u001b[0m 4.482   \u001b[0m | \u001b[0m 0.8387  \u001b[0m | \u001b[0m 6.02    \u001b[0m |\n"
     ]
    },
    {
     "name": "stderr",
     "output_type": "stream",
     "text": [
      "/home/tangosvc/anaconda3/lib/python3.7/site-packages/ipykernel_launcher.py:226: SettingWithCopyWarning: \n",
      "A value is trying to be set on a copy of a slice from a DataFrame\n",
      "\n",
      "See the caveats in the documentation: http://pandas.pydata.org/pandas-docs/stable/indexing.html#indexing-view-versus-copy\n"
     ]
    },
    {
     "name": "stdout",
     "output_type": "stream",
     "text": [
      "Request 파일(/home/tangosvc/code/data/20191111/SON_TO_TEOS_RL_REQUEST_20191111_[601].dat)을 생성합니다.\n",
      "\n",
      "TEOS_TO_SON_RL_RESULT_20191111_[601].dat에 대한 get명령을 실행합니다.\n",
      "파일 TEOS_TO_SON_RL_RESULT_20191111_[601].dat이 없어 60초 대기후 다시 확인합니다(최대30회).\n",
      "파일 TEOS_TO_SON_RL_RESULT_20191111_[601].dat이 없어 60초 대기후 다시 확인합니다(최대30회).\n",
      "파일 TEOS_TO_SON_RL_RESULT_20191111_[601].dat이 없어 60초 대기후 다시 확인합니다(최대30회).\n",
      "파일 TEOS_TO_SON_RL_RESULT_20191111_[601].dat이 없어 60초 대기후 다시 확인합니다(최대30회).\n",
      "파일 TEOS_TO_SON_RL_RESULT_20191111_[601].dat이 없어 60초 대기후 다시 확인합니다(최대30회).\n",
      "파일 TEOS_TO_SON_RL_RESULT_20191111_[601].dat이 없어 60초 대기후 다시 확인합니다(최대30회).\n",
      "파일 TEOS_TO_SON_RL_RESULT_20191111_[601].dat이 없어 60초 대기후 다시 확인합니다(최대30회).\n",
      "파일 TEOS_TO_SON_RL_RESULT_20191111_[601].dat이 없어 60초 대기후 다시 확인합니다(최대30회).\n",
      "파일 TEOS_TO_SON_RL_RESULT_20191111_[601].dat이 없어 60초 대기후 다시 확인합니다(최대30회).\n",
      "파일 TEOS_TO_SON_RL_RESULT_20191111_[601].dat이 없어 60초 대기후 다시 확인합니다(최대30회).\n"
     ]
    },
    {
     "name": "stderr",
     "output_type": "stream",
     "text": [
      "/home/tangosvc/anaconda3/lib/python3.7/site-packages/pandas/core/reshape/merge.py:522: UserWarning: merging between different levels can give an unintended result (2 levels on the left, 1 on the right)\n",
      "  warnings.warn(msg, UserWarning)\n"
     ]
    },
    {
     "name": "stdout",
     "output_type": "stream",
     "text": [
      "| \u001b[0m 15      \u001b[0m | \u001b[0m 159.3   \u001b[0m | \u001b[0m 4.284   \u001b[0m | \u001b[0m 4.543   \u001b[0m | \u001b[0m 6.464   \u001b[0m | \u001b[0m 5.364   \u001b[0m | \u001b[0m 5.3     \u001b[0m | \u001b[0m 0.9087  \u001b[0m | \u001b[0m 5.988   \u001b[0m | \u001b[0m 4.942   \u001b[0m | \u001b[0m 5.764   \u001b[0m | \u001b[0m 4.702   \u001b[0m | \u001b[0m 1.298   \u001b[0m | \u001b[0m 5.256   \u001b[0m | \u001b[0m 2.743   \u001b[0m | \u001b[0m 6.645   \u001b[0m | \u001b[0m 2.567   \u001b[0m | \u001b[0m 4.041   \u001b[0m |\n"
     ]
    },
    {
     "name": "stderr",
     "output_type": "stream",
     "text": [
      "/home/tangosvc/anaconda3/lib/python3.7/site-packages/ipykernel_launcher.py:226: SettingWithCopyWarning: \n",
      "A value is trying to be set on a copy of a slice from a DataFrame\n",
      "\n",
      "See the caveats in the documentation: http://pandas.pydata.org/pandas-docs/stable/indexing.html#indexing-view-versus-copy\n"
     ]
    },
    {
     "name": "stdout",
     "output_type": "stream",
     "text": [
      "Request 파일(/home/tangosvc/code/data/20191111/SON_TO_TEOS_RL_REQUEST_20191111_[602].dat)을 생성합니다.\n",
      "\n",
      "TEOS_TO_SON_RL_RESULT_20191111_[602].dat에 대한 get명령을 실행합니다.\n",
      "파일 TEOS_TO_SON_RL_RESULT_20191111_[602].dat이 없어 60초 대기후 다시 확인합니다(최대30회).\n",
      "파일 TEOS_TO_SON_RL_RESULT_20191111_[602].dat이 없어 60초 대기후 다시 확인합니다(최대30회).\n",
      "파일 TEOS_TO_SON_RL_RESULT_20191111_[602].dat이 없어 60초 대기후 다시 확인합니다(최대30회).\n",
      "파일 TEOS_TO_SON_RL_RESULT_20191111_[602].dat이 없어 60초 대기후 다시 확인합니다(최대30회).\n",
      "파일 TEOS_TO_SON_RL_RESULT_20191111_[602].dat이 없어 60초 대기후 다시 확인합니다(최대30회).\n",
      "파일 TEOS_TO_SON_RL_RESULT_20191111_[602].dat이 없어 60초 대기후 다시 확인합니다(최대30회).\n",
      "파일 TEOS_TO_SON_RL_RESULT_20191111_[602].dat이 없어 60초 대기후 다시 확인합니다(최대30회).\n",
      "파일 TEOS_TO_SON_RL_RESULT_20191111_[602].dat이 없어 60초 대기후 다시 확인합니다(최대30회).\n",
      "파일 TEOS_TO_SON_RL_RESULT_20191111_[602].dat이 없어 60초 대기후 다시 확인합니다(최대30회).\n",
      "파일 TEOS_TO_SON_RL_RESULT_20191111_[602].dat이 없어 60초 대기후 다시 확인합니다(최대30회).\n"
     ]
    },
    {
     "name": "stderr",
     "output_type": "stream",
     "text": [
      "/home/tangosvc/anaconda3/lib/python3.7/site-packages/pandas/core/reshape/merge.py:522: UserWarning: merging between different levels can give an unintended result (2 levels on the left, 1 on the right)\n",
      "  warnings.warn(msg, UserWarning)\n"
     ]
    },
    {
     "name": "stdout",
     "output_type": "stream",
     "text": [
      "| \u001b[0m 16      \u001b[0m | \u001b[0m 179.7   \u001b[0m | \u001b[0m 4.093   \u001b[0m | \u001b[0m 5.575   \u001b[0m | \u001b[0m 6.552   \u001b[0m | \u001b[0m 5.696   \u001b[0m | \u001b[0m 5.627   \u001b[0m | \u001b[0m 0.8881  \u001b[0m | \u001b[0m 5.501   \u001b[0m | \u001b[0m 7.045   \u001b[0m | \u001b[0m 3.906   \u001b[0m | \u001b[0m 4.409   \u001b[0m | \u001b[0m 0.3752  \u001b[0m | \u001b[0m 3.804   \u001b[0m | \u001b[0m 0.8117  \u001b[0m | \u001b[0m 7.263   \u001b[0m | \u001b[0m 6.691   \u001b[0m | \u001b[0m 6.156   \u001b[0m |\n"
     ]
    },
    {
     "name": "stderr",
     "output_type": "stream",
     "text": [
      "/home/tangosvc/anaconda3/lib/python3.7/site-packages/ipykernel_launcher.py:226: SettingWithCopyWarning: \n",
      "A value is trying to be set on a copy of a slice from a DataFrame\n",
      "\n",
      "See the caveats in the documentation: http://pandas.pydata.org/pandas-docs/stable/indexing.html#indexing-view-versus-copy\n"
     ]
    },
    {
     "name": "stdout",
     "output_type": "stream",
     "text": [
      "Request 파일(/home/tangosvc/code/data/20191111/SON_TO_TEOS_RL_REQUEST_20191111_[603].dat)을 생성합니다.\n",
      "\n",
      "TEOS_TO_SON_RL_RESULT_20191111_[603].dat에 대한 get명령을 실행합니다.\n",
      "파일 TEOS_TO_SON_RL_RESULT_20191111_[603].dat이 없어 60초 대기후 다시 확인합니다(최대30회).\n",
      "파일 TEOS_TO_SON_RL_RESULT_20191111_[603].dat이 없어 60초 대기후 다시 확인합니다(최대30회).\n",
      "파일 TEOS_TO_SON_RL_RESULT_20191111_[603].dat이 없어 60초 대기후 다시 확인합니다(최대30회).\n",
      "파일 TEOS_TO_SON_RL_RESULT_20191111_[603].dat이 없어 60초 대기후 다시 확인합니다(최대30회).\n",
      "파일 TEOS_TO_SON_RL_RESULT_20191111_[603].dat이 없어 60초 대기후 다시 확인합니다(최대30회).\n",
      "파일 TEOS_TO_SON_RL_RESULT_20191111_[603].dat이 없어 60초 대기후 다시 확인합니다(최대30회).\n",
      "파일 TEOS_TO_SON_RL_RESULT_20191111_[603].dat이 없어 60초 대기후 다시 확인합니다(최대30회).\n",
      "파일 TEOS_TO_SON_RL_RESULT_20191111_[603].dat이 없어 60초 대기후 다시 확인합니다(최대30회).\n",
      "파일 TEOS_TO_SON_RL_RESULT_20191111_[603].dat이 없어 60초 대기후 다시 확인합니다(최대30회).\n",
      "파일 TEOS_TO_SON_RL_RESULT_20191111_[603].dat이 없어 60초 대기후 다시 확인합니다(최대30회).\n"
     ]
    },
    {
     "name": "stderr",
     "output_type": "stream",
     "text": [
      "/home/tangosvc/anaconda3/lib/python3.7/site-packages/pandas/core/reshape/merge.py:522: UserWarning: merging between different levels can give an unintended result (2 levels on the left, 1 on the right)\n",
      "  warnings.warn(msg, UserWarning)\n"
     ]
    },
    {
     "name": "stdout",
     "output_type": "stream",
     "text": [
      "| \u001b[0m 17      \u001b[0m | \u001b[0m 151.8   \u001b[0m | \u001b[0m 3.951   \u001b[0m | \u001b[0m 5.373   \u001b[0m | \u001b[0m 6.023   \u001b[0m | \u001b[0m 5.107   \u001b[0m | \u001b[0m 7.536   \u001b[0m | \u001b[0m 1.148   \u001b[0m | \u001b[0m 7.197   \u001b[0m | \u001b[0m 7.101   \u001b[0m | \u001b[0m 0.7967  \u001b[0m | \u001b[0m 5.279   \u001b[0m | \u001b[0m 0.416   \u001b[0m | \u001b[0m 6.342   \u001b[0m | \u001b[0m 1.48    \u001b[0m | \u001b[0m 6.32    \u001b[0m | \u001b[0m 4.653   \u001b[0m | \u001b[0m 4.677   \u001b[0m |\n"
     ]
    },
    {
     "name": "stderr",
     "output_type": "stream",
     "text": [
      "/home/tangosvc/anaconda3/lib/python3.7/site-packages/ipykernel_launcher.py:226: SettingWithCopyWarning: \n",
      "A value is trying to be set on a copy of a slice from a DataFrame\n",
      "\n",
      "See the caveats in the documentation: http://pandas.pydata.org/pandas-docs/stable/indexing.html#indexing-view-versus-copy\n"
     ]
    },
    {
     "name": "stdout",
     "output_type": "stream",
     "text": [
      "Request 파일(/home/tangosvc/code/data/20191111/SON_TO_TEOS_RL_REQUEST_20191111_[604].dat)을 생성합니다.\n",
      "\n",
      "TEOS_TO_SON_RL_RESULT_20191111_[604].dat에 대한 get명령을 실행합니다.\n",
      "파일 TEOS_TO_SON_RL_RESULT_20191111_[604].dat이 없어 60초 대기후 다시 확인합니다(최대30회).\n",
      "파일 TEOS_TO_SON_RL_RESULT_20191111_[604].dat이 없어 60초 대기후 다시 확인합니다(최대30회).\n",
      "파일 TEOS_TO_SON_RL_RESULT_20191111_[604].dat이 없어 60초 대기후 다시 확인합니다(최대30회).\n",
      "파일 TEOS_TO_SON_RL_RESULT_20191111_[604].dat이 없어 60초 대기후 다시 확인합니다(최대30회).\n",
      "파일 TEOS_TO_SON_RL_RESULT_20191111_[604].dat이 없어 60초 대기후 다시 확인합니다(최대30회).\n",
      "파일 TEOS_TO_SON_RL_RESULT_20191111_[604].dat이 없어 60초 대기후 다시 확인합니다(최대30회).\n",
      "파일 TEOS_TO_SON_RL_RESULT_20191111_[604].dat이 없어 60초 대기후 다시 확인합니다(최대30회).\n",
      "파일 TEOS_TO_SON_RL_RESULT_20191111_[604].dat이 없어 60초 대기후 다시 확인합니다(최대30회).\n",
      "파일 TEOS_TO_SON_RL_RESULT_20191111_[604].dat이 없어 60초 대기후 다시 확인합니다(최대30회).\n"
     ]
    },
    {
     "name": "stderr",
     "output_type": "stream",
     "text": [
      "/home/tangosvc/anaconda3/lib/python3.7/site-packages/pandas/core/reshape/merge.py:522: UserWarning: merging between different levels can give an unintended result (2 levels on the left, 1 on the right)\n",
      "  warnings.warn(msg, UserWarning)\n"
     ]
    },
    {
     "name": "stdout",
     "output_type": "stream",
     "text": [
      "| \u001b[0m 18      \u001b[0m | \u001b[0m 174.6   \u001b[0m | \u001b[0m 3.221   \u001b[0m | \u001b[0m 6.629   \u001b[0m | \u001b[0m 3.788   \u001b[0m | \u001b[0m 5.085   \u001b[0m | \u001b[0m 6.677   \u001b[0m | \u001b[0m 3.276   \u001b[0m | \u001b[0m 5.086   \u001b[0m | \u001b[0m 5.079   \u001b[0m | \u001b[0m 3.756   \u001b[0m | \u001b[0m 1.848   \u001b[0m | \u001b[0m 1.078   \u001b[0m | \u001b[0m 3.485   \u001b[0m | \u001b[0m 5.372   \u001b[0m | \u001b[0m 6.565   \u001b[0m | \u001b[0m 3.412   \u001b[0m | \u001b[0m 3.793   \u001b[0m |\n"
     ]
    },
    {
     "name": "stderr",
     "output_type": "stream",
     "text": [
      "/home/tangosvc/anaconda3/lib/python3.7/site-packages/ipykernel_launcher.py:226: SettingWithCopyWarning: \n",
      "A value is trying to be set on a copy of a slice from a DataFrame\n",
      "\n",
      "See the caveats in the documentation: http://pandas.pydata.org/pandas-docs/stable/indexing.html#indexing-view-versus-copy\n"
     ]
    },
    {
     "name": "stdout",
     "output_type": "stream",
     "text": [
      "Request 파일(/home/tangosvc/code/data/20191111/SON_TO_TEOS_RL_REQUEST_20191111_[605].dat)을 생성합니다.\n",
      "\n",
      "TEOS_TO_SON_RL_RESULT_20191111_[605].dat에 대한 get명령을 실행합니다.\n",
      "파일 TEOS_TO_SON_RL_RESULT_20191111_[605].dat이 없어 60초 대기후 다시 확인합니다(최대30회).\n",
      "파일 TEOS_TO_SON_RL_RESULT_20191111_[605].dat이 없어 60초 대기후 다시 확인합니다(최대30회).\n",
      "파일 TEOS_TO_SON_RL_RESULT_20191111_[605].dat이 없어 60초 대기후 다시 확인합니다(최대30회).\n",
      "파일 TEOS_TO_SON_RL_RESULT_20191111_[605].dat이 없어 60초 대기후 다시 확인합니다(최대30회).\n",
      "파일 TEOS_TO_SON_RL_RESULT_20191111_[605].dat이 없어 60초 대기후 다시 확인합니다(최대30회).\n",
      "파일 TEOS_TO_SON_RL_RESULT_20191111_[605].dat이 없어 60초 대기후 다시 확인합니다(최대30회).\n",
      "파일 TEOS_TO_SON_RL_RESULT_20191111_[605].dat이 없어 60초 대기후 다시 확인합니다(최대30회).\n",
      "파일 TEOS_TO_SON_RL_RESULT_20191111_[605].dat이 없어 60초 대기후 다시 확인합니다(최대30회).\n",
      "파일 TEOS_TO_SON_RL_RESULT_20191111_[605].dat이 없어 60초 대기후 다시 확인합니다(최대30회).\n",
      "파일 TEOS_TO_SON_RL_RESULT_20191111_[605].dat이 없어 60초 대기후 다시 확인합니다(최대30회).\n"
     ]
    },
    {
     "name": "stderr",
     "output_type": "stream",
     "text": [
      "/home/tangosvc/anaconda3/lib/python3.7/site-packages/pandas/core/reshape/merge.py:522: UserWarning: merging between different levels can give an unintended result (2 levels on the left, 1 on the right)\n",
      "  warnings.warn(msg, UserWarning)\n"
     ]
    },
    {
     "name": "stdout",
     "output_type": "stream",
     "text": [
      "| \u001b[0m 19      \u001b[0m | \u001b[0m 123.6   \u001b[0m | \u001b[0m 3.361   \u001b[0m | \u001b[0m 1.855   \u001b[0m | \u001b[0m 3.502   \u001b[0m | \u001b[0m 0.3674  \u001b[0m | \u001b[0m 0.5057  \u001b[0m | \u001b[0m 5.081   \u001b[0m | \u001b[0m 0.6989  \u001b[0m | \u001b[0m 3.29    \u001b[0m | \u001b[0m 7.361   \u001b[0m | \u001b[0m 6.518   \u001b[0m | \u001b[0m 3.086   \u001b[0m | \u001b[0m 3.871   \u001b[0m | \u001b[0m 0.1505  \u001b[0m | \u001b[0m 2.148   \u001b[0m | \u001b[0m 2.612   \u001b[0m | \u001b[0m 5.043   \u001b[0m |\n"
     ]
    },
    {
     "name": "stderr",
     "output_type": "stream",
     "text": [
      "/home/tangosvc/anaconda3/lib/python3.7/site-packages/ipykernel_launcher.py:226: SettingWithCopyWarning: \n",
      "A value is trying to be set on a copy of a slice from a DataFrame\n",
      "\n",
      "See the caveats in the documentation: http://pandas.pydata.org/pandas-docs/stable/indexing.html#indexing-view-versus-copy\n"
     ]
    },
    {
     "name": "stdout",
     "output_type": "stream",
     "text": [
      "Request 파일(/home/tangosvc/code/data/20191111/SON_TO_TEOS_RL_REQUEST_20191111_[606].dat)을 생성합니다.\n",
      "\n",
      "TEOS_TO_SON_RL_RESULT_20191111_[606].dat에 대한 get명령을 실행합니다.\n",
      "파일 TEOS_TO_SON_RL_RESULT_20191111_[606].dat이 없어 60초 대기후 다시 확인합니다(최대30회).\n",
      "파일 TEOS_TO_SON_RL_RESULT_20191111_[606].dat이 없어 60초 대기후 다시 확인합니다(최대30회).\n",
      "파일 TEOS_TO_SON_RL_RESULT_20191111_[606].dat이 없어 60초 대기후 다시 확인합니다(최대30회).\n",
      "파일 TEOS_TO_SON_RL_RESULT_20191111_[606].dat이 없어 60초 대기후 다시 확인합니다(최대30회).\n",
      "파일 TEOS_TO_SON_RL_RESULT_20191111_[606].dat이 없어 60초 대기후 다시 확인합니다(최대30회).\n",
      "파일 TEOS_TO_SON_RL_RESULT_20191111_[606].dat이 없어 60초 대기후 다시 확인합니다(최대30회).\n",
      "파일 TEOS_TO_SON_RL_RESULT_20191111_[606].dat이 없어 60초 대기후 다시 확인합니다(최대30회).\n",
      "파일 TEOS_TO_SON_RL_RESULT_20191111_[606].dat이 없어 60초 대기후 다시 확인합니다(최대30회).\n",
      "파일 TEOS_TO_SON_RL_RESULT_20191111_[606].dat이 없어 60초 대기후 다시 확인합니다(최대30회).\n",
      "파일 TEOS_TO_SON_RL_RESULT_20191111_[606].dat이 없어 60초 대기후 다시 확인합니다(최대30회).\n"
     ]
    },
    {
     "name": "stderr",
     "output_type": "stream",
     "text": [
      "/home/tangosvc/anaconda3/lib/python3.7/site-packages/pandas/core/reshape/merge.py:522: UserWarning: merging between different levels can give an unintended result (2 levels on the left, 1 on the right)\n",
      "  warnings.warn(msg, UserWarning)\n"
     ]
    },
    {
     "name": "stdout",
     "output_type": "stream",
     "text": [
      "| \u001b[95m 20      \u001b[0m | \u001b[95m 184.9   \u001b[0m | \u001b[95m 3.444   \u001b[0m | \u001b[95m 5.789   \u001b[0m | \u001b[95m 5.697   \u001b[0m | \u001b[95m 3.916   \u001b[0m | \u001b[95m 5.987   \u001b[0m | \u001b[95m 2.647   \u001b[0m | \u001b[95m 5.767   \u001b[0m | \u001b[95m 5.439   \u001b[0m | \u001b[95m 3.788   \u001b[0m | \u001b[95m 3.154   \u001b[0m | \u001b[95m 1.27    \u001b[0m | \u001b[95m 3.51    \u001b[0m | \u001b[95m 4.848   \u001b[0m | \u001b[95m 6.207   \u001b[0m | \u001b[95m 2.287   \u001b[0m | \u001b[95m 5.307   \u001b[0m |\n"
     ]
    },
    {
     "name": "stderr",
     "output_type": "stream",
     "text": [
      "/home/tangosvc/anaconda3/lib/python3.7/site-packages/ipykernel_launcher.py:226: SettingWithCopyWarning: \n",
      "A value is trying to be set on a copy of a slice from a DataFrame\n",
      "\n",
      "See the caveats in the documentation: http://pandas.pydata.org/pandas-docs/stable/indexing.html#indexing-view-versus-copy\n"
     ]
    },
    {
     "name": "stdout",
     "output_type": "stream",
     "text": [
      "Request 파일(/home/tangosvc/code/data/20191111/SON_TO_TEOS_RL_REQUEST_20191111_[607].dat)을 생성합니다.\n",
      "\n",
      "TEOS_TO_SON_RL_RESULT_20191111_[607].dat에 대한 get명령을 실행합니다.\n",
      "파일 TEOS_TO_SON_RL_RESULT_20191111_[607].dat이 없어 60초 대기후 다시 확인합니다(최대30회).\n",
      "파일 TEOS_TO_SON_RL_RESULT_20191111_[607].dat이 없어 60초 대기후 다시 확인합니다(최대30회).\n",
      "파일 TEOS_TO_SON_RL_RESULT_20191111_[607].dat이 없어 60초 대기후 다시 확인합니다(최대30회).\n",
      "파일 TEOS_TO_SON_RL_RESULT_20191111_[607].dat이 없어 60초 대기후 다시 확인합니다(최대30회).\n",
      "파일 TEOS_TO_SON_RL_RESULT_20191111_[607].dat이 없어 60초 대기후 다시 확인합니다(최대30회).\n",
      "파일 TEOS_TO_SON_RL_RESULT_20191111_[607].dat이 없어 60초 대기후 다시 확인합니다(최대30회).\n",
      "파일 TEOS_TO_SON_RL_RESULT_20191111_[607].dat이 없어 60초 대기후 다시 확인합니다(최대30회).\n",
      "파일 TEOS_TO_SON_RL_RESULT_20191111_[607].dat이 없어 60초 대기후 다시 확인합니다(최대30회).\n",
      "파일 TEOS_TO_SON_RL_RESULT_20191111_[607].dat이 없어 60초 대기후 다시 확인합니다(최대30회).\n"
     ]
    },
    {
     "name": "stderr",
     "output_type": "stream",
     "text": [
      "/home/tangosvc/anaconda3/lib/python3.7/site-packages/pandas/core/reshape/merge.py:522: UserWarning: merging between different levels can give an unintended result (2 levels on the left, 1 on the right)\n",
      "  warnings.warn(msg, UserWarning)\n"
     ]
    },
    {
     "name": "stdout",
     "output_type": "stream",
     "text": [
      "| \u001b[0m 21      \u001b[0m | \u001b[0m 182.5   \u001b[0m | \u001b[0m 3.443   \u001b[0m | \u001b[0m 5.783   \u001b[0m | \u001b[0m 5.704   \u001b[0m | \u001b[0m 3.839   \u001b[0m | \u001b[0m 5.974   \u001b[0m | \u001b[0m 2.687   \u001b[0m | \u001b[0m 5.792   \u001b[0m | \u001b[0m 5.413   \u001b[0m | \u001b[0m 3.74    \u001b[0m | \u001b[0m 3.173   \u001b[0m | \u001b[0m 1.282   \u001b[0m | \u001b[0m 3.496   \u001b[0m | \u001b[0m 4.876   \u001b[0m | \u001b[0m 6.143   \u001b[0m | \u001b[0m 2.165   \u001b[0m | \u001b[0m 5.388   \u001b[0m |\n"
     ]
    },
    {
     "name": "stderr",
     "output_type": "stream",
     "text": [
      "/home/tangosvc/anaconda3/lib/python3.7/site-packages/ipykernel_launcher.py:226: SettingWithCopyWarning: \n",
      "A value is trying to be set on a copy of a slice from a DataFrame\n",
      "\n",
      "See the caveats in the documentation: http://pandas.pydata.org/pandas-docs/stable/indexing.html#indexing-view-versus-copy\n"
     ]
    },
    {
     "name": "stdout",
     "output_type": "stream",
     "text": [
      "Request 파일(/home/tangosvc/code/data/20191111/SON_TO_TEOS_RL_REQUEST_20191111_[608].dat)을 생성합니다.\n",
      "\n",
      "TEOS_TO_SON_RL_RESULT_20191111_[608].dat에 대한 get명령을 실행합니다.\n",
      "파일 TEOS_TO_SON_RL_RESULT_20191111_[608].dat이 없어 60초 대기후 다시 확인합니다(최대30회).\n",
      "파일 TEOS_TO_SON_RL_RESULT_20191111_[608].dat이 없어 60초 대기후 다시 확인합니다(최대30회).\n",
      "파일 TEOS_TO_SON_RL_RESULT_20191111_[608].dat이 없어 60초 대기후 다시 확인합니다(최대30회).\n",
      "파일 TEOS_TO_SON_RL_RESULT_20191111_[608].dat이 없어 60초 대기후 다시 확인합니다(최대30회).\n",
      "파일 TEOS_TO_SON_RL_RESULT_20191111_[608].dat이 없어 60초 대기후 다시 확인합니다(최대30회).\n",
      "파일 TEOS_TO_SON_RL_RESULT_20191111_[608].dat이 없어 60초 대기후 다시 확인합니다(최대30회).\n",
      "파일 TEOS_TO_SON_RL_RESULT_20191111_[608].dat이 없어 60초 대기후 다시 확인합니다(최대30회).\n",
      "파일 TEOS_TO_SON_RL_RESULT_20191111_[608].dat이 없어 60초 대기후 다시 확인합니다(최대30회).\n",
      "파일 TEOS_TO_SON_RL_RESULT_20191111_[608].dat이 없어 60초 대기후 다시 확인합니다(최대30회).\n",
      "파일 TEOS_TO_SON_RL_RESULT_20191111_[608].dat이 없어 60초 대기후 다시 확인합니다(최대30회).\n"
     ]
    },
    {
     "name": "stderr",
     "output_type": "stream",
     "text": [
      "/home/tangosvc/anaconda3/lib/python3.7/site-packages/pandas/core/reshape/merge.py:522: UserWarning: merging between different levels can give an unintended result (2 levels on the left, 1 on the right)\n",
      "  warnings.warn(msg, UserWarning)\n"
     ]
    },
    {
     "name": "stdout",
     "output_type": "stream",
     "text": [
      "| \u001b[0m 22      \u001b[0m | \u001b[0m 155.6   \u001b[0m | \u001b[0m 3.084   \u001b[0m | \u001b[0m 6.451   \u001b[0m | \u001b[0m 3.374   \u001b[0m | \u001b[0m 3.363   \u001b[0m | \u001b[0m 6.943   \u001b[0m | \u001b[0m 2.133   \u001b[0m | \u001b[0m 6.989   \u001b[0m | \u001b[0m 5.297   \u001b[0m | \u001b[0m 3.844   \u001b[0m | \u001b[0m 2.977   \u001b[0m | \u001b[0m 0.4701  \u001b[0m | \u001b[0m 2.68    \u001b[0m | \u001b[0m 5.577   \u001b[0m | \u001b[0m 6.202   \u001b[0m | \u001b[0m 0.9473  \u001b[0m | \u001b[0m 7.054   \u001b[0m |\n"
     ]
    },
    {
     "name": "stderr",
     "output_type": "stream",
     "text": [
      "/home/tangosvc/anaconda3/lib/python3.7/site-packages/ipykernel_launcher.py:226: SettingWithCopyWarning: \n",
      "A value is trying to be set on a copy of a slice from a DataFrame\n",
      "\n",
      "See the caveats in the documentation: http://pandas.pydata.org/pandas-docs/stable/indexing.html#indexing-view-versus-copy\n"
     ]
    },
    {
     "name": "stdout",
     "output_type": "stream",
     "text": [
      "Request 파일(/home/tangosvc/code/data/20191111/SON_TO_TEOS_RL_REQUEST_20191111_[609].dat)을 생성합니다.\n",
      "\n",
      "TEOS_TO_SON_RL_RESULT_20191111_[609].dat에 대한 get명령을 실행합니다.\n",
      "파일 TEOS_TO_SON_RL_RESULT_20191111_[609].dat이 없어 60초 대기후 다시 확인합니다(최대30회).\n",
      "파일 TEOS_TO_SON_RL_RESULT_20191111_[609].dat이 없어 60초 대기후 다시 확인합니다(최대30회).\n",
      "파일 TEOS_TO_SON_RL_RESULT_20191111_[609].dat이 없어 60초 대기후 다시 확인합니다(최대30회).\n",
      "파일 TEOS_TO_SON_RL_RESULT_20191111_[609].dat이 없어 60초 대기후 다시 확인합니다(최대30회).\n",
      "파일 TEOS_TO_SON_RL_RESULT_20191111_[609].dat이 없어 60초 대기후 다시 확인합니다(최대30회).\n",
      "파일 TEOS_TO_SON_RL_RESULT_20191111_[609].dat이 없어 60초 대기후 다시 확인합니다(최대30회).\n",
      "파일 TEOS_TO_SON_RL_RESULT_20191111_[609].dat이 없어 60초 대기후 다시 확인합니다(최대30회).\n",
      "파일 TEOS_TO_SON_RL_RESULT_20191111_[609].dat이 없어 60초 대기후 다시 확인합니다(최대30회).\n",
      "파일 TEOS_TO_SON_RL_RESULT_20191111_[609].dat이 없어 60초 대기후 다시 확인합니다(최대30회).\n",
      "파일 TEOS_TO_SON_RL_RESULT_20191111_[609].dat이 없어 60초 대기후 다시 확인합니다(최대30회).\n"
     ]
    },
    {
     "name": "stderr",
     "output_type": "stream",
     "text": [
      "/home/tangosvc/anaconda3/lib/python3.7/site-packages/pandas/core/reshape/merge.py:522: UserWarning: merging between different levels can give an unintended result (2 levels on the left, 1 on the right)\n",
      "  warnings.warn(msg, UserWarning)\n"
     ]
    },
    {
     "name": "stdout",
     "output_type": "stream",
     "text": [
      "| \u001b[0m 23      \u001b[0m | \u001b[0m 165.9   \u001b[0m | \u001b[0m 3.344   \u001b[0m | \u001b[0m 7.88    \u001b[0m | \u001b[0m 5.301   \u001b[0m | \u001b[0m 5.495   \u001b[0m | \u001b[0m 5.899   \u001b[0m | \u001b[0m 2.95    \u001b[0m | \u001b[0m 4.757   \u001b[0m | \u001b[0m 3.077   \u001b[0m | \u001b[0m 2.024   \u001b[0m | \u001b[0m 3.997   \u001b[0m | \u001b[0m 0.5997  \u001b[0m | \u001b[0m 2.639   \u001b[0m | \u001b[0m 4.748   \u001b[0m | \u001b[0m 6.122   \u001b[0m | \u001b[0m 3.158   \u001b[0m | \u001b[0m 5.681   \u001b[0m |\n"
     ]
    },
    {
     "name": "stderr",
     "output_type": "stream",
     "text": [
      "/home/tangosvc/anaconda3/lib/python3.7/site-packages/ipykernel_launcher.py:226: SettingWithCopyWarning: \n",
      "A value is trying to be set on a copy of a slice from a DataFrame\n",
      "\n",
      "See the caveats in the documentation: http://pandas.pydata.org/pandas-docs/stable/indexing.html#indexing-view-versus-copy\n"
     ]
    },
    {
     "name": "stdout",
     "output_type": "stream",
     "text": [
      "Request 파일(/home/tangosvc/code/data/20191111/SON_TO_TEOS_RL_REQUEST_20191111_[610].dat)을 생성합니다.\n",
      "\n",
      "TEOS_TO_SON_RL_RESULT_20191111_[610].dat에 대한 get명령을 실행합니다.\n",
      "파일 TEOS_TO_SON_RL_RESULT_20191111_[610].dat이 없어 60초 대기후 다시 확인합니다(최대30회).\n",
      "파일 TEOS_TO_SON_RL_RESULT_20191111_[610].dat이 없어 60초 대기후 다시 확인합니다(최대30회).\n",
      "파일 TEOS_TO_SON_RL_RESULT_20191111_[610].dat이 없어 60초 대기후 다시 확인합니다(최대30회).\n",
      "파일 TEOS_TO_SON_RL_RESULT_20191111_[610].dat이 없어 60초 대기후 다시 확인합니다(최대30회).\n",
      "파일 TEOS_TO_SON_RL_RESULT_20191111_[610].dat이 없어 60초 대기후 다시 확인합니다(최대30회).\n",
      "파일 TEOS_TO_SON_RL_RESULT_20191111_[610].dat이 없어 60초 대기후 다시 확인합니다(최대30회).\n",
      "파일 TEOS_TO_SON_RL_RESULT_20191111_[610].dat이 없어 60초 대기후 다시 확인합니다(최대30회).\n",
      "파일 TEOS_TO_SON_RL_RESULT_20191111_[610].dat이 없어 60초 대기후 다시 확인합니다(최대30회).\n",
      "파일 TEOS_TO_SON_RL_RESULT_20191111_[610].dat이 없어 60초 대기후 다시 확인합니다(최대30회).\n",
      "파일 TEOS_TO_SON_RL_RESULT_20191111_[610].dat이 없어 60초 대기후 다시 확인합니다(최대30회).\n"
     ]
    },
    {
     "name": "stderr",
     "output_type": "stream",
     "text": [
      "/home/tangosvc/anaconda3/lib/python3.7/site-packages/pandas/core/reshape/merge.py:522: UserWarning: merging between different levels can give an unintended result (2 levels on the left, 1 on the right)\n",
      "  warnings.warn(msg, UserWarning)\n"
     ]
    },
    {
     "name": "stdout",
     "output_type": "stream",
     "text": [
      "| \u001b[95m 24      \u001b[0m | \u001b[95m 193.5   \u001b[0m | \u001b[95m 3.641   \u001b[0m | \u001b[95m 5.271   \u001b[0m | \u001b[95m 6.369   \u001b[0m | \u001b[95m 4.717   \u001b[0m | \u001b[95m 6.249   \u001b[0m | \u001b[95m 4.114   \u001b[0m | \u001b[95m 6.186   \u001b[0m | \u001b[95m 6.166   \u001b[0m | \u001b[95m 3.458   \u001b[0m | \u001b[95m 3.346   \u001b[0m | \u001b[95m 3.128   \u001b[0m | \u001b[95m 4.746   \u001b[0m | \u001b[95m 5.374   \u001b[0m | \u001b[95m 7.058   \u001b[0m | \u001b[95m 0.989   \u001b[0m | \u001b[95m 7.605   \u001b[0m |\n"
     ]
    },
    {
     "name": "stderr",
     "output_type": "stream",
     "text": [
      "/home/tangosvc/anaconda3/lib/python3.7/site-packages/ipykernel_launcher.py:226: SettingWithCopyWarning: \n",
      "A value is trying to be set on a copy of a slice from a DataFrame\n",
      "\n",
      "See the caveats in the documentation: http://pandas.pydata.org/pandas-docs/stable/indexing.html#indexing-view-versus-copy\n"
     ]
    },
    {
     "name": "stdout",
     "output_type": "stream",
     "text": [
      "Request 파일(/home/tangosvc/code/data/20191111/SON_TO_TEOS_RL_REQUEST_20191111_[611].dat)을 생성합니다.\n",
      "\n",
      "TEOS_TO_SON_RL_RESULT_20191111_[611].dat에 대한 get명령을 실행합니다.\n",
      "파일 TEOS_TO_SON_RL_RESULT_20191111_[611].dat이 없어 60초 대기후 다시 확인합니다(최대30회).\n",
      "파일 TEOS_TO_SON_RL_RESULT_20191111_[611].dat이 없어 60초 대기후 다시 확인합니다(최대30회).\n",
      "파일 TEOS_TO_SON_RL_RESULT_20191111_[611].dat이 없어 60초 대기후 다시 확인합니다(최대30회).\n",
      "파일 TEOS_TO_SON_RL_RESULT_20191111_[611].dat이 없어 60초 대기후 다시 확인합니다(최대30회).\n",
      "파일 TEOS_TO_SON_RL_RESULT_20191111_[611].dat이 없어 60초 대기후 다시 확인합니다(최대30회).\n",
      "파일 TEOS_TO_SON_RL_RESULT_20191111_[611].dat이 없어 60초 대기후 다시 확인합니다(최대30회).\n",
      "파일 TEOS_TO_SON_RL_RESULT_20191111_[611].dat이 없어 60초 대기후 다시 확인합니다(최대30회).\n",
      "파일 TEOS_TO_SON_RL_RESULT_20191111_[611].dat이 없어 60초 대기후 다시 확인합니다(최대30회).\n",
      "파일 TEOS_TO_SON_RL_RESULT_20191111_[611].dat이 없어 60초 대기후 다시 확인합니다(최대30회).\n",
      "파일 TEOS_TO_SON_RL_RESULT_20191111_[611].dat이 없어 60초 대기후 다시 확인합니다(최대30회).\n"
     ]
    },
    {
     "name": "stderr",
     "output_type": "stream",
     "text": [
      "/home/tangosvc/anaconda3/lib/python3.7/site-packages/pandas/core/reshape/merge.py:522: UserWarning: merging between different levels can give an unintended result (2 levels on the left, 1 on the right)\n",
      "  warnings.warn(msg, UserWarning)\n"
     ]
    },
    {
     "name": "stdout",
     "output_type": "stream",
     "text": [
      "| \u001b[0m 25      \u001b[0m | \u001b[0m 189.1   \u001b[0m | \u001b[0m 4.437   \u001b[0m | \u001b[0m 4.069   \u001b[0m | \u001b[0m 7.168   \u001b[0m | \u001b[0m 4.435   \u001b[0m | \u001b[0m 6.887   \u001b[0m | \u001b[0m 6.33    \u001b[0m | \u001b[0m 6.56    \u001b[0m | \u001b[0m 7.534   \u001b[0m | \u001b[0m 5.04    \u001b[0m | \u001b[0m 2.031   \u001b[0m | \u001b[0m 3.217   \u001b[0m | \u001b[0m 4.935   \u001b[0m | \u001b[0m 3.831   \u001b[0m | \u001b[0m 7.523   \u001b[0m | \u001b[0m 1.837   \u001b[0m | \u001b[0m 6.828   \u001b[0m |\n"
     ]
    }
   ],
   "source": [
    "# ============================================================================================\n",
    "# BO 실행\n",
    "# Bayesian Optimization 수행\n",
    "if __name__==\"__main__\":\n",
    "    print(Colours.yellow(\"---Parameter Exploration Range(min, max) ---\"))\n",
    "# 탐색범위 설정(pbounds)\n",
    "    pbounds=get_pbounds()\n",
    "    print(pbounds)\n",
    "    print(Colours.yellow(\"---Optimizing TEOS by BO ---\"))\n",
    "    optimizer=BayesianOptimization(\n",
    "        # 목적함수(Surrogate Function) 설정\n",
    "        f=black_box_function,\n",
    "        # 탐색영역 설정\n",
    "        pbounds=pbounds,\n",
    "        # 재현성을 위한 Random Seed 설정\n",
    "        random_state=1234,\n",
    "        verbose=2 #옵션0 : 미출력, 1 : 일부출력, 2 : 전체이력 출력\n",
    "    )\n",
    "    \n",
    "# 초기 탐색Iteration과 Iteration반복회수 설정\n",
    "# 반복옵션이 반영됨\n",
    "    optimizer.maximize(init_points=10, n_iter=200)\n",
    "    op_result=optimizer.max\n",
    "\n",
    "#Iteration 종료시 후처리\n",
    "    print(\"Final result : \", op_result)\n",
    "# BO결과값 처리    \n",
    "    a2=op_result['params']\n",
    "    a3=pd.DataFrame([a2['c'+str(i+1)] for i in range(para_no)], \\\n",
    "                index=['c'+str(i+1) for i in range(para_no)])\n",
    "    a3=round(a3)\n",
    "    print(a3)"
   ]
  },
  {
   "cell_type": "code",
   "execution_count": null,
   "metadata": {},
   "outputs": [],
   "source": []
  },
  {
   "cell_type": "code",
   "execution_count": null,
   "metadata": {},
   "outputs": [],
   "source": []
  },
  {
   "cell_type": "code",
   "execution_count": null,
   "metadata": {},
   "outputs": [],
   "source": []
  },
  {
   "cell_type": "code",
   "execution_count": null,
   "metadata": {},
   "outputs": [],
   "source": []
  },
  {
   "cell_type": "code",
   "execution_count": null,
   "metadata": {},
   "outputs": [],
   "source": []
  },
  {
   "cell_type": "code",
   "execution_count": null,
   "metadata": {},
   "outputs": [],
   "source": []
  },
  {
   "cell_type": "code",
   "execution_count": null,
   "metadata": {},
   "outputs": [],
   "source": []
  },
  {
   "cell_type": "code",
   "execution_count": null,
   "metadata": {},
   "outputs": [],
   "source": []
  },
  {
   "cell_type": "code",
   "execution_count": null,
   "metadata": {},
   "outputs": [],
   "source": []
  },
  {
   "cell_type": "code",
   "execution_count": null,
   "metadata": {},
   "outputs": [],
   "source": []
  },
  {
   "cell_type": "code",
   "execution_count": null,
   "metadata": {},
   "outputs": [],
   "source": []
  },
  {
   "cell_type": "code",
   "execution_count": null,
   "metadata": {},
   "outputs": [],
   "source": []
  },
  {
   "cell_type": "code",
   "execution_count": 827,
   "metadata": {
    "scrolled": false
   },
   "outputs": [
    {
     "ename": "SyntaxError",
     "evalue": "invalid syntax (<ipython-input-827-55759943ab46>, line 86)",
     "output_type": "error",
     "traceback": [
      "\u001b[0;36m  File \u001b[0;32m\"<ipython-input-827-55759943ab46>\"\u001b[0;36m, line \u001b[0;32m86\u001b[0m\n\u001b[0;31m    a.outputDatFile(,action = decAct)\u001b[0m\n\u001b[0m                    ^\u001b[0m\n\u001b[0;31mSyntaxError\u001b[0m\u001b[0;31m:\u001b[0m invalid syntax\n"
     ]
    }
   ],
   "source": [
    "# ============================================================================================\n",
    "# RL실행\n",
    "if __name__ == \"__main__\":    \n",
    "    Cellcode=['2019Y9667','2019Z2137','2019Z3737', '20193BHZH', \\\n",
    "             '20193BHTY', '20193AMR7', '2019Y9678', '2019Z3222', \\\n",
    "             '20193BIEF', '20193BI6Z', '2019Z2954', '2019Z2586', \\\n",
    "             '2019Z0388', '2019Z2764', '2019Z2779', '2019Y9862',] \n",
    "    \n",
    "    # 분석시마다 사용자가 입력해줘야 하는 값 ---------------------\n",
    "    # 시작 SEQ & 시간정보\n",
    "    seq=47\n",
    "    # 시뮬레이션 시작용 Request, Result 파일\n",
    "    pre_reqfilenm='/home/tangosvc/code/data/20191031/SON_TO_TEOS_RL_REQUEST_20191031_[%s].dat' %str(seq)\n",
    "    pre_resultfilenm='/home/tangosvc/code/data/20191031/TEOS_TO_SON_RL_RESULT_20191031_[%s].dat' %str(seq)\n",
    "    # ------------------------------------------------------------    \n",
    "\n",
    "    \n",
    "    \n",
    "    \n",
    "    \n",
    "    #값 초기화---------------------------------\n",
    "    # request, result file 관리 폴더(ML서버, TEOS서버)\n",
    "    ML_dirnm='/home/tangosvc/code/data'    \n",
    "    \n",
    "    # simulation 실행일(파일생성일)\n",
    "    filetime=datetime.now().strftime('%Y%m%d') \n",
    "    #----------------------------------------------  \n",
    "\n",
    "    # Request_filecreate 클래스를 생성함\n",
    "    a=Request_filecreate(ML_dirnm, filetime, seq)\n",
    "    a.pre_reqfilenm=pre_reqfilenm\n",
    "    a.pre_resultfilenm=pre_resultfilenm\n",
    "    # simulation 1회 iteration별로 수행 agent개수(동시적용 request file 개수))\n",
    "    iteration_no=1\n",
    "    # 초기 Request File에 대한 시뮬레이션은 Result 파일없이 진행함\n",
    "    # 초기 Request File 시뮬레이션이 아닌 경우에는 firstrequest값을 1이 아닌값으로 설정함\n",
    "    firstrequest=1\n",
    "    \n",
    "    while int(a.seq) < seq+iteration_no :\n",
    "#         print(a.seq, seq+iteration_no)\n",
    "        if not firstrequest==1:\n",
    "            if not(os.path.exists(a.pre_reqfilenm)):\n",
    "                print('%s파일이 존재하지 않아 실행을 중단합니다.' %a.pre_reqfilenm)\n",
    "                break\n",
    "\n",
    "            if not(os.path.exists(a.pre_resultfilenm)):\n",
    "                print('%s파일이 존재하지 않아 실행을 중단합니다.' %a.pre_resultfilenm)\n",
    "                break\n",
    "\n",
    "\n",
    "            # 시점 t : state(SRC tilt, NBR tilt, SINR, RSRP) 계산 ------------------------------\n",
    "            # state(tilt1, tilt2) 정보 - Request File에서 수집\n",
    "            rq = a.getState()\n",
    "            # state(tilt1의 SINR, RSRP)정보 - ResultFile에서 수집(SISUL_CD기준으로 계산)\n",
    "            rs, gsq_avg,_ = a.getStateQuality(wa = 0.5, wb = 0.5) \n",
    "            # rs : ['SISUL_CD  SINR1_Mean  SINR1_Q5  RSRP1_Mean sq  nbrSq   gsq]\n",
    "            \n",
    "            # rs, sq로 데이터 정리하여 SISUL_CD, SIN1_STATE, RSRP1_STATE\n",
    "            # input1 : REQUEST_DATE', 'SCENARIO_SEQ', 'REQUEST_SEQ', 'SISUL_CD, STC_STATE, NBR_STATE\n",
    "            # SRC & NBR Cell tilt값에 대해 7단계로 구분하여 설정값 결정\n",
    "            input1 = rq[['REQUEST_DATE', 'SCENARIO_SEQ', 'REQUEST_SEQ', 'SISUL_CD', 'SRC_STATE', 'NBR_STATE']]\n",
    "            # input2 : 'SISUL_CD', 'SINR1_STATE', 'RSRP1_STATE\n",
    "            # SRC Cell에 대한 N/W품질로 SINR, RSRP값을 7단계로 구분하여 설정값 결정\n",
    "            input2 = a.cutStateQuality(rs)\n",
    "            input = pd.merge(input1, input2, how = 'left', left_on = 'SISUL_CD', right_on= 'SISUL_CD')\n",
    "            # ------------------------------------------------------------------------------\n",
    "\n",
    "            steering_cell=pd.DataFrame([Cellcode], columns=['Cellcode'])\n",
    "            gsq_avg=pd.merge(steering_cell, rs, how='left', left_on='Cellcode', right_on='SISUL_CD')['gsq'].mean()\n",
    "            \n",
    "            \n",
    "            \n",
    "            \n",
    "\n",
    "            # 시점 t : action(tilt1 change val) 계산 ------------------------------------------------\n",
    "            # 19개 셀에 대해서 Control Change값을 계산함\n",
    "            # BO에서는 19개 셀의 Spec만을 계산하고\n",
    "            # Request에서는 전체 셀의 Spec을 계산함\n",
    "            # Action 반영 (임시) --> Target Cell(19개)의 Action 만 update함 \n",
    "\n",
    "            # 수정필요함 : 현재는 68 cell에 대해 random값으로 설정함\n",
    "            decAct = np.random.randint(-2, 2, rq.shape[0])        \n",
    "\n",
    "            \n",
    "            \n",
    "            \n",
    "            # 시점 t+1 : simulation실행하여 result파일생성후 -> 다음 iteration에서 reward와 state계산\n",
    "            # SEQ+1차수의 Simulation실행을 위한 Request File 생성\n",
    "            # SEQ차수의 Request File을 템플릿으로 사용함\n",
    "            a.outputDatFile(action = decAct)  \n",
    "            # -------------------------------------------------------------------------------\n",
    "    \n",
    "        # Request File이 생성되면 TEOS Simulation 실행 -> Result File이 나올때까지 실행, 오류발생하면 전체 실행 중단\n",
    "        if Do_simul_NEXT(filetime, a)==1:\n",
    "            a.seq=int(a.seq)+1\n",
    "            print('File put과 get 명령이 완료되었습니다.')\n",
    "        else:\n",
    "            print('File put과 get에서 오류가 발생하여 중단합니다.')\n",
    "            break\n",
    "    # 객체 제거    \n",
    "    del a"
   ]
  },
  {
   "cell_type": "code",
   "execution_count": 1030,
   "metadata": {
    "scrolled": false
   },
   "outputs": [
    {
     "name": "stdout",
     "output_type": "stream",
     "text": [
      "-0.3084463626295909\n",
      "         gsq\n",
      "0  -0.127326\n",
      "1   0.346599\n",
      "2  -0.353175\n",
      "3   0.401531\n",
      "4  -0.235536\n",
      "5   0.548912\n",
      "6  -0.353175\n",
      "7  -0.966371\n",
      "8  -0.235536\n",
      "9  -2.749871\n",
      "10 -0.966371\n",
      "11  0.576888\n",
      "12  0.401531\n",
      "13 -1.173878\n",
      "14  1.156994\n",
      "15 -1.206359             0\n",
      "0   2019Y9667\n",
      "1   2019Z2137\n",
      "2   2019Z3737\n",
      "3   20193BHZH\n",
      "4   20193BHTY\n",
      "5   20193AMR7\n",
      "6   2019Y9678\n",
      "7   2019Z3222\n",
      "8   20193BIEF\n",
      "9   20193BI6Z\n",
      "10  2019Z2954\n",
      "11  2019Z2586\n",
      "12  2019Z0388\n",
      "13  2019Z2764\n",
      "14  2019Z2779\n",
      "15  2019Y9862\n"
     ]
    }
   ],
   "source": [
    "# def get_gsq_avg(filenm):\n",
    "# 분석시마다 사용자가 입력해줘야 하는 값 ---------------------\n",
    "# 시작 SEQ & 시간정보\n",
    "# seq=44\n",
    "# # 시뮬레이션 시작용 Request, Result 파일\n",
    "# pre_reqfilenm='/home/tangosvc/code/data/20191030/SON_TO_TEOS_RL_REQUEST_20191030_[%s].dat' %str(seq)\n",
    "# pre_resultfilenm='/home/tangosvc/code/data/20191030/TEOS_TO_SON_RL_RESULT_20191030_[%s].dat' %str(seq)\n",
    "# # ------------------------------------------------------------    \n",
    "\n",
    "seq=1001\n",
    "timedata='20191108'\n",
    "# 시뮬레이션 시작용 Request, Result 파일\n",
    "pre_reqfilenm='/home/tangosvc/code/data/{}/SON_TO_TEOS_RL_REQUEST_{}_[{}].dat'.format(timedata, timedata, str(seq))\n",
    "pre_resultfilenm='/home/tangosvc/code/data/{}/TEOS_TO_SON_RL_RESULT_{}_[{}].dat'.format(timedata, timedata, str(seq))\n",
    "\n",
    "#값 초기화---------------------------------\n",
    "# request, result file 관리 폴더(ML서버, TEOS서버)\n",
    "ML_dirnm='/home/tangosvc/code/data'    \n",
    "\n",
    "# simulation 실행일(파일생성일)\n",
    "filetime=datetime.now().strftime('%Y%m%d') \n",
    "#----------------------------------------------  \n",
    "\n",
    "# Request_filecreate 클래스를 생성함\n",
    "a=Request_filecreate(ML_dirnm, filetime, seq)\n",
    "a.pre_reqfilenm=pre_reqfilenm\n",
    "a.pre_resultfilenm=pre_resultfilenm\n",
    "\n",
    "rs, gsq_avg, gsq_each = a.getStateQuality(wa = 0.5, wb = 0.5)   \n",
    "\n",
    "print(gsq_avg)\n",
    "col1=pd.DataFrame(gsq_each)\n",
    "col2=pd.DataFrame(cellcode)\n",
    "print(col1, col2)"
   ]
  },
  {
   "cell_type": "code",
   "execution_count": null,
   "metadata": {},
   "outputs": [],
   "source": []
  }
 ],
 "metadata": {
  "kernelspec": {
   "display_name": "Python 3",
   "language": "python",
   "name": "python3"
  },
  "language_info": {
   "codemirror_mode": {
    "name": "ipython",
    "version": 3
   },
   "file_extension": ".py",
   "mimetype": "text/x-python",
   "name": "python",
   "nbconvert_exporter": "python",
   "pygments_lexer": "ipython3",
   "version": "3.7.3"
  }
 },
 "nbformat": 4,
 "nbformat_minor": 2
}
